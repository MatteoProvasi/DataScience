{
 "cells": [
  {
   "cell_type": "markdown",
   "metadata": {},
   "source": [
    "# Table of contents\n",
    "<br>\n",
    "<font size=3>\n",
    "    \n",
    "* [Settings](#0.-Settings)\n",
    "    * [Librerie](#0.1-Librerie)\n",
    "    * [Data Load](#0.2-Data-load)\n",
    "* [Pattern](#1.-Pattern)\n",
    "    * [Problema nel Tagging](#1.1-Problema-nel-Tagging)\n",
    "    * [Differenze nei Tagger](#1.2-Differenze-nei-Tagger)\n",
    "    * [Algoritmo per i Pattern](#1.3-Algoritmo-per-i-Pattern)\n",
    "    * [Save and Load](#1.4-Save-and-Load)\n",
    "    * [Pattern Rilevanti](#1.5-Pattern-Rilevanti)\n",
    "* [Raggruppamento](#2.-Raggruppamento)\n",
    "    * [Wornet](#2.1-Wordnet)\n",
    "    * [Similitudine](#2.2-Similitudine)\n",
    "    * [Clustering](#2.3-Clustering)\n",
    "        * [Agglomerative Cluster](#2.3.1-Agglomerative-Cluster)\n",
    "        * [HDBSCAN](#2.3.2-HDBSCAN)\n",
    "        * [Termini più comuni](#2.3.3-Termini-più-comuni)\n",
    "        * [Modello Word2vec](#2.3.4-Modello-Word2vec)\n",
    "        * [Lemmatizzazione](#2.3.5-Lemmatizzazione)\n",
    "        * [Alternative](#2.3.6-Alternative)"
   ]
  },
  {
   "cell_type": "markdown",
   "metadata": {},
   "source": [
    "# [0. Settings](#0) \n",
    "<br></br>\n",
    "## [0.1 Librerie](#0.1)"
   ]
  },
  {
   "cell_type": "markdown",
   "metadata": {},
   "source": [
    "<font size=3>\n",
    "    \n",
    "Le librerie non utilizzate negli altri notebook sono:\n",
    "* `bokeh`: è una libreria che permette di visualizzare dei plot in maniera interattiva, sono stati importati diversi moduli:\n",
    "    * `figure`: permette di modificare la finestra del plot.\n",
    "    * `show`: mostra a schermo il plot\n",
    "    * `reset_output` e `output_notebook`: impostazioni per la visualizzazione e richiamo delle opzioni di base.\n",
    "    * `ColumnDataSource`: per importare dati da diversi oggetti.\n",
    "* `hdbscan`: contiene una funzione per il cluster omonimo.\n",
    "* `scipy.sparse`: non è strettamente necessario, è stato chiamato solo per la funzione `dia_matrix` che permette di creare un array di grandi dimensioni senza problemi di storage.\n",
    "* `sklearn`: uno dei pacchetti scientifici di Python, ha svariati utilizzi. I moduli importati sono:\n",
    "    * `metrics`: per delle metriche di valutazione della qualità del clustering.\n",
    "    * `AgglomerativeClustering`: per realizzare un cluster gerarchico.\n",
    "* `tabulate`: per stampare in modo ordinato elementi testuali.\n",
    "* `tnrange` e `tqdm_notebook`: come tqdm ma con opzioni aggiuntive."
   ]
  },
  {
   "cell_type": "code",
   "execution_count": 1,
   "metadata": {},
   "outputs": [],
   "source": [
    "from bokeh.plotting import figure, show, output_notebook, reset_output\n",
    "from bokeh.models import ColumnDataSource\n",
    "from bokeh.layouts import row\n",
    "\n",
    "from collections import Counter\n",
    "from tabulate import tabulate\n",
    "from tqdm import tqdm, tnrange, tqdm_notebook\n",
    "\n",
    "from nltk.tag import StanfordPOSTagger\n",
    "from sner import Ner, POSClient\n",
    "\n",
    "from nltk.corpus import wordnet\n",
    "\n",
    "from gensim.models import KeyedVectors\n",
    "from scipy.sparse import dia_matrix\n",
    "from sklearn import metrics\n",
    "from sklearn.cluster import AgglomerativeClustering\n",
    "\n",
    "import hdbscan\n",
    "import nltk\n",
    "import matplotlib.pyplot as plt\n",
    "import numpy as np\n",
    "import os\n",
    "import pandas as pd\n",
    "import pickle\n",
    "import seaborn as sns\n",
    "import sklearn\n",
    "\n",
    "os.chdir('D:/Scraping')"
   ]
  },
  {
   "cell_type": "markdown",
   "metadata": {},
   "source": [
    "<br></br>\n",
    "## [0.2 Data load](#0.2)"
   ]
  },
  {
   "cell_type": "code",
   "execution_count": null,
   "metadata": {},
   "outputs": [],
   "source": [
    "%%time\n",
    "# dataframe\n",
    "with open('imdb_df4', \"rb\") as input_file:\n",
    "    imdb_df = pickle.load(input_file)\n",
    "    \n",
    "# tag no spelling\n",
    "with open('tags_sent', \"rb\") as input_file:\n",
    "    tags_sent = pickle.load(input_file)\n",
    "\n",
    "# tag con spelling\n",
    "with open('tags_spell', \"rb\") as input_file:\n",
    "    tags_spell = pickle.load(input_file)\n",
    "    \n",
    "with open('spelling', \"rb\") as input_file:\n",
    "    symspell_list = pickle.load(input_file)"
   ]
  },
  {
   "cell_type": "markdown",
   "metadata": {},
   "source": [
    "<br></br>\n",
    "<br></br>\n",
    "# [1. Pattern](#1)"
   ]
  },
  {
   "cell_type": "markdown",
   "metadata": {},
   "source": [
    "<font size=3>\n",
    "    \n",
    "Come già detto nell'altro notebook, il primo oggetto di tag ha un formato non stratificato per singole frasi ma è a un livello più ampio di recensioni. Per trasformarlo in oggetto più comodo da utilizzare si applica una funziona già utilizzata che consente si separare le frasi per recensione mediante lo slicing della lista."
   ]
  },
  {
   "cell_type": "code",
   "execution_count": null,
   "metadata": {},
   "outputs": [],
   "source": [
    "new_tags_sent = []\n",
    "cont = 0\n",
    "for index, row in tqdm(imdb_df.iterrows()):\n",
    "    l = len(row[\"Sentences4\"])\n",
    "    new_tags_sent.append(tags_sent[cont:(cont+l)])\n",
    "    cont = cont + l\n",
    "    \n",
    "del tags_sent"
   ]
  },
  {
   "cell_type": "markdown",
   "metadata": {},
   "source": [
    "<br></br>\n",
    "## [1.1 Problema nel Tagging](#1.1)"
   ]
  },
  {
   "cell_type": "markdown",
   "metadata": {},
   "source": [
    "<font size=3>\n",
    "    \n",
    "Il primo obiettivo di questa parte di notebook è quella di trovare delle coppie di tag e farle corrispondere a parole nelle recensioni. Il codice che verrà utilizzato successivamente avrà il compito di confrontare elemento per elemento i tag nelle liste e le parole nel dataset. Per via di come è stato realizzato il tagging, il numero di parole in una frase dovrebbe corrispondere al numero di tag relativi. <br></br>\n",
    "\n",
    "Senza ulteriori azioni il codice si è bloccato indicato per un `IndexError`, ovvero la lunghezza di due elementi non combaciava. Il problema è da ricercarsi nei termini delle recensioni in cui si crea un problema nella lunghezza delle liste. A questo proposito è stata creata la seguente funzione:\n",
    "* Si passa per ogni recensione e per ogni frase. Si controlla il numero di parole e lo si confronta con il corrispondente elemento nella lista `new_tags_sent` appena creata.\n",
    "* Nel caso la lunghezza corrispondi, tutto è andato come previsto, in caso contrario si passano tutte le parole della frase e le si aggiungono in un dizionario."
   ]
  },
  {
   "cell_type": "code",
   "execution_count": 4,
   "metadata": {
    "scrolled": true
   },
   "outputs": [
    {
     "name": "stderr",
     "output_type": "stream",
     "text": [
      "100%|████████████████████████████████████████████████████████████████████████| 784259/784259 [01:26<00:00, 9117.65it/s]\n"
     ]
    }
   ],
   "source": [
    "diz_special = {}\n",
    "for i in tqdm(range(len(imdb_df[\"Sentences4\"]))):\n",
    "    for j in range(len(imdb_df[\"Sentences4\"].iloc[i])):\n",
    "        sentence = imdb_df[\"Sentences4\"].iloc[i][j].split(\" \")\n",
    "        \n",
    "        if len(sentence) != len(new_tags_sent[i][j]):\n",
    "            for word in sentence:\n",
    "                if word not in diz_special.keys():\n",
    "                    diz_special[word] = 1\n",
    "                else:\n",
    "                    diz_special[word] += 1"
   ]
  },
  {
   "cell_type": "markdown",
   "metadata": {},
   "source": [
    "<font size=3>\n",
    "    \n",
    "Si ordinano i valori del dizionario in modo descresente per trovare i termini più frequenti che possono creare problemi e si stampano a video i primi risultati evitando le parole troppo corte, solitamente stopwords."
   ]
  },
  {
   "cell_type": "code",
   "execution_count": 5,
   "metadata": {},
   "outputs": [
    {
     "name": "stdout",
     "output_type": "stream",
     "text": [
      "('cannot', 35304)\n",
      "('movie', 12178)\n",
      "('gonna', 8694)\n",
      "('wanna', 4658)\n",
      "('about', 4164)\n",
      "('because', 3414)\n",
      "('which', 2804)\n",
      "('gotta', 2704)\n",
      "('really', 2671)\n",
      "('there', 2641)\n",
      "('story', 2553)\n",
      "('people', 2550)\n",
      "('their', 2347)\n",
      "('watch', 2284)\n",
      "('would', 2230)\n",
      "('think', 2123)\n",
      "('believe', 2000)\n",
      "('other', 1913)\n",
      "('understand', 1774)\n"
     ]
    }
   ],
   "source": [
    "special = Counter(diz_special).most_common(100)\n",
    "\n",
    "for i in range(len(special)):\n",
    "    if len(special[i][0]) > 4:\n",
    "        print(special[i])"
   ]
  },
  {
   "cell_type": "markdown",
   "metadata": {},
   "source": [
    "<font size=3>\n",
    "    \n",
    "Ci sono alcune parole comuni che compaiono frequentemente, tra cui anche `movie`, il che è abbastanza scontato dato l'argomento, queste parole quindi non dovrebbero essere la causa dei problemi. Le parole incriminabili sono quelle che derivano dalla fusione di più termini. Questo fenomeno chiamato [relaxed pronunciation](https://en.wikipedia.org/wiki/Relaxed_pronunciation) è una circostanza abbastanza comune e accettata soprattutto nell'inglese-americano. "
   ]
  },
  {
   "cell_type": "markdown",
   "metadata": {},
   "source": [
    "<br></br>\n",
    "## [1.2 Differenze nei Tagger](#1.2)"
   ]
  },
  {
   "cell_type": "markdown",
   "metadata": {},
   "source": [
    "<font size=3>\n",
    "    \n",
    "Si verifica se effettivamente alcuni di questi termini creano dei problemi. Viene richiamato il tagger di `nlp`, in questo caso nella versione locale dato che la prova deve essere fatta su una sola frase. Gli indici corrispondenti alla recensione e alla frase, rispettivamente $552$ e $0$, sono due di quelli creavano problemi nella fuzione dove si combaciavano frasi e tag."
   ]
  },
  {
   "cell_type": "code",
   "execution_count": null,
   "metadata": {},
   "outputs": [],
   "source": [
    "nlp = stanfordnlp.Pipeline()"
   ]
  },
  {
   "cell_type": "code",
   "execution_count": 449,
   "metadata": {
    "scrolled": true
   },
   "outputs": [
    {
     "name": "stdout",
     "output_type": "stream",
     "text": [
      "Cannot understand why this movie gets high score\n"
     ]
    },
    {
     "name": "stderr",
     "output_type": "stream",
     "text": [
      "..\\aten\\src\\ATen\\native\\cuda\\LegacyDefinitions.cpp:19: UserWarning: masked_fill_ received a mask with dtype torch.uint8, this behavior is now deprecated,please use a mask with dtype torch.bool instead.\n"
     ]
    },
    {
     "name": "stdout",
     "output_type": "stream",
     "text": [
      "word: Can            upos: AUX            xpos: MD            \n",
      "word: not            upos: PART           xpos: RB            \n",
      "word: understand     upos: VERB           xpos: VB            \n",
      "word: why            upos: ADV            xpos: WRB           \n",
      "word: this           upos: DET            xpos: DT            \n",
      "word: movie          upos: NOUN           xpos: NN            \n",
      "word: gets           upos: VERB           xpos: VBZ           \n",
      "word: high           upos: ADJ            xpos: JJ            \n",
      "word: score          upos: NOUN           xpos: NN            \n"
     ]
    }
   ],
   "source": [
    "sentence = imdb_df[\"Sentences4\"].iloc[552][0]\n",
    "print(sentence)\n",
    "doc = nlp(sentence)\n",
    "for sent in doc.sentences:\n",
    "    for word in sent.words:\n",
    "        print('{:<20s} {:<20s} {:<20s}'.format('word: ' + word.text, 'upos: ' + word.upos, 'xpos: ' + word.xpos))"
   ]
  },
  {
   "cell_type": "markdown",
   "metadata": {},
   "source": [
    "<font size=3>\n",
    "    \n",
    "Come si nota dalla stampa a schermo, la frase originale contiene il termine `cannot`, una parola unica, ma il tagger la spezzetta, per assegnare due tag differenti. Ovviamente questa procedura crea un tag extra che rende la lista di tag di un'unità più lunga di quella dei termini."
   ]
  },
  {
   "cell_type": "markdown",
   "metadata": {},
   "source": [
    "<font size=3>\n",
    "    \n",
    "Si crea un dizionario con chiavi i termini originali e come valore quello interpretato dal tagger. I problemi sorgono anche in base al numero di caratteri maiuscoli o miniscoli, per questo motivo sono state create tutte le combinazioni riscontrate nelle recensioni."
   ]
  },
  {
   "cell_type": "code",
   "execution_count": 5,
   "metadata": {},
   "outputs": [],
   "source": [
    "exception_diz = {\"cannot\":\"can not\", \"Cannot\":\"Can not\", \"CANNOT\":\"CAN NOT\", \"canNOT\": \"can not\",\n",
    "                 \"gonna\":\"gon na\", \"Gonna\":\"Gon na\", \"GONNA\":\"GON NA\",\n",
    "                 \"wanna\":\"wan na\", \"Wanna\":\"Wan na\", \"WANNA\":\"WAN NA\",\n",
    "                 \"gotta\":\"got ta\", \"Gotta\":\"Got ta\", \"GOTTA\":\"GOT TA\", \"GOTta\":\"got ta\",\n",
    "                 \"dunno\":\"du n no\", \"Dunno\":\"Du n no\", \"DUNNO\":\"DU N NO\",\n",
    "                 \"lemme\":\"lem me\", \"Lemme\":\"Lem me\", \"LEMME\":\"LEM ME\",\n",
    "                 \"gimme\":\"gim me\", \"Gimme\":\"Gim me\", \"GIMME\":\"GIM ME\"}"
   ]
  },
  {
   "cell_type": "markdown",
   "metadata": {},
   "source": [
    "<font size=3>\n",
    "\n",
    "Pur avvendo applicato queste correzioni, il codice riportava comunque dei problemi. Dopo diverse ipotesi si è scoperto che il problema risiedeva nel modo in cui il tagger è stato utilizzato. Le seguenti righe di codice riportano l'output del tagger, prima in locale, poi utilizzato sul server, sulla prima frase delle recensione con indice $159$."
   ]
  },
  {
   "cell_type": "code",
   "execution_count": 451,
   "metadata": {},
   "outputs": [
    {
     "name": "stderr",
     "output_type": "stream",
     "text": [
      "..\\aten\\src\\ATen\\native\\cuda\\LegacyDefinitions.cpp:19: UserWarning: masked_fill_ received a mask with dtype torch.uint8, this behavior is now deprecated,please use a mask with dtype torch.bool instead.\n"
     ]
    },
    {
     "name": "stdout",
     "output_type": "stream",
     "text": [
      "word: I              upos: PRON           xpos: PRP           \n",
      "word: have           upos: AUX            xpos: VBP           \n",
      "word: gotta          upos: PART           xpos: TO            \n",
      "word: say            upos: VERB           xpos: VB            \n",
      "word: that           upos: SCONJ          xpos: IN            \n",
      "word: I              upos: PRON           xpos: PRP           \n",
      "word: came           upos: VERB           xpos: VBD           \n",
      "word: to             upos: ADP            xpos: IN            \n",
      "word: the            upos: DET            xpos: DT            \n",
      "word: theatre        upos: NOUN           xpos: NN            \n",
      "word: with           upos: ADP            xpos: IN            \n",
      "word: lower          upos: ADJ            xpos: JJR           \n",
      "word: expectations   upos: NOUN           xpos: NNS           \n",
      "word: since          upos: SCONJ          xpos: IN            \n",
      "word: some           upos: DET            xpos: DT            \n",
      "word: people         upos: NOUN           xpos: NNS           \n",
      "word: were           upos: AUX            xpos: VBD           \n",
      "word: complaining    upos: VERB           xpos: VBG           \n",
      "word: about          upos: ADP            xpos: IN            \n",
      "word: the            upos: DET            xpos: DT            \n",
      "word: story          upos: NOUN           xpos: NN            \n",
      "word: sounding       upos: VERB           xpos: VBG           \n",
      "word: boring         upos: ADJ            xpos: JJ            \n"
     ]
    }
   ],
   "source": [
    "doc = nlp(imdb_df[\"Sentences4\"].iloc[159][0])\n",
    "for sent in doc.sentences:\n",
    "    for word in sent.words:\n",
    "        print('{:<20s} {:<20s} {:<20s}'.format('word: ' + word.text, 'upos: ' + word.upos, 'xpos: ' + word.xpos))"
   ]
  },
  {
   "cell_type": "code",
   "execution_count": 219,
   "metadata": {},
   "outputs": [],
   "source": [
    "java_path = \"C:\\\\Program Files (x86)\\\\Common Files\\\\Oracle\\\\Java\\\\javapath\\\\java.exe\"\n",
    "os.environ['JAVAHOME'] = java_path\n",
    "\n",
    "model = 'english-left3words-distsim.tagger'\n",
    "jar = 'stanford-postagger.jar'\n",
    "\n",
    "pos_tagger = StanfordPOSTagger(model, jar, encoding='utf-8') \n",
    "tagger = POSClient(host='localhost', port=2020)"
   ]
  },
  {
   "cell_type": "code",
   "execution_count": 453,
   "metadata": {},
   "outputs": [
    {
     "name": "stdout",
     "output_type": "stream",
     "text": [
      "word: I              xpos: PRP           \n",
      "word: have           xpos: VBP           \n",
      "word: got            xpos: VBN           \n",
      "word: ta             xpos: TO            \n",
      "word: say            xpos: VB            \n",
      "word: that           xpos: IN            \n",
      "word: I              xpos: PRP           \n",
      "word: came           xpos: VBD           \n",
      "word: to             xpos: TO            \n",
      "word: the            xpos: DT            \n",
      "word: theatre        xpos: NN            \n",
      "word: with           xpos: IN            \n",
      "word: lower          xpos: JJR           \n",
      "word: expectations   xpos: NNS           \n",
      "word: since          xpos: IN            \n",
      "word: some           xpos: DT            \n",
      "word: people         xpos: NNS           \n",
      "word: were           xpos: VBD           \n",
      "word: complaining    xpos: VBG           \n",
      "word: about          xpos: IN            \n",
      "word: the            xpos: DT            \n",
      "word: story          xpos: NN            \n",
      "word: sounding       xpos: VBG           \n",
      "word: boring         xpos: NN            \n"
     ]
    }
   ],
   "source": [
    "sentence = imdb_df[\"Sentences4\"].iloc[159][0]\n",
    "t = tagger.tag(sentence)\n",
    "for tag in t:\n",
    "    print('{:<20s} {:<20s}'.format('word: ' + tag[0], 'xpos: ' + tag[1]))"
   ]
  },
  {
   "cell_type": "markdown",
   "metadata": {},
   "source": [
    "<font size=3>\n",
    "    \n",
    "Nonostante dovrebbe essere lo stesso algoritmo prima utilizzato in locale e poi con l'aiuto del server di Stanford, il trattamento di alcune parole è diverso. Nel caso in questione la parola `gotta` è tenuta unita dal primo tagger ma non dal secondo. Come spiegato in precedenza per ragioni computazionali il tagging è stato effettuato mediante server, ma su questo notebook per capire quali fossero i problemi è stato utilizzato quello in locale perché non sarebbe dovuto cambiare nulla. Altre parole, con determinate correzioni, sono state aggiunte al dizionario."
   ]
  },
  {
   "cell_type": "markdown",
   "metadata": {},
   "source": [
    "<font size=3>\n",
    "    \n",
    "Si è riscontrato infine un'eccezione all'interno dell'algoritmo nel caso in cui le parole incriminante non venivano spezzate dal tagger sul server."
   ]
  },
  {
   "cell_type": "code",
   "execution_count": 474,
   "metadata": {
    "scrolled": true
   },
   "outputs": [
    {
     "name": "stdout",
     "output_type": "stream",
     "text": [
      "word: Again          xpos: RB            \n",
      "word: something      xpos: NN            \n",
      "word: one            xpos: CD            \n",
      "word: does           xpos: VBZ           \n",
      "word: not            xpos: RB            \n",
      "word: wan            xpos: VB            \n",
      "word: na             xpos: TO            \n",
      "word: watch          xpos: VB            \n",
      "word: But            xpos: CC            \n",
      "word: ya             xpos: PRP           \n",
      "word: gotta          xpos: VBP           \n"
     ]
    }
   ],
   "source": [
    "sentence = imdb_df[\"Sentences4\"].iloc[129707][18]\n",
    "t = tagger.tag(sentence)\n",
    "for tag in t:\n",
    "    print('{:<20s} {:<20s}'.format('word: ' + tag[0], 'xpos: ' + tag[1]))"
   ]
  },
  {
   "cell_type": "markdown",
   "metadata": {},
   "source": [
    "<font size=3>\n",
    "    \n",
    "Come si nota benissimo da questa frase che contiene due dei famosi termini, `wanna` e `gotta`, nel primo caso la parola viene spezzata secondo la logica attesa, mentre l'ultima rimane invariata. Dopo diverse prove si è capito che nel caso in cui una di queste parole fosse anche l'ultimo termine della frase, la divisione non è effettuata ma l'algoritmo lascia tutto invariato."
   ]
  },
  {
   "cell_type": "markdown",
   "metadata": {},
   "source": [
    "<br></br>\n",
    "## [1.3 Algoritmo per i Pattern](#1.3)"
   ]
  },
  {
   "cell_type": "markdown",
   "metadata": {},
   "source": [
    "<font size=3>\n",
    "\n",
    "Per adattarsi correttamente a come il tagger ha lavorato viene creata una funzione per gestire tutte le casistiche. Questa funzione sarà richiamata dalla funzione successiva che ha il compito di estrarre i pattern in cui è necessario avere lunghezza uguale tra frase e sequenza di tag.\n",
    "\n",
    "La funzione prende in input:\n",
    "* `diz`: un dizionario, che sarà quello delle parole speciali definito in precedenza.\n",
    "* `words`: una lista di parole, in questo caso una frase\n",
    "* Due parametri opzionali con valori binari:\n",
    "    * `dun_exc`: il comportamento per correggere la parola `dunno` varia a seconda di come si applica il tagger. A differenza di altri termini, quello in locale spezza la parola, il risultato è \"du nno\", quello sul server la spezza ulteriormente in tre elementi \"du n no\". Il metodo sul server in realtà applica anche la prima separazione in due elementi secondo una logica non chiarita completamente. Dato che quest'ultimo è il tagger di riferimento, questo parametro opzionale indicherà di volta in volta quale sostituzione effettuare.\n",
    "    * `got_exc`: è lo stesso problema di prima riscontrato però sulla parola `gotta`. Si coprono i possibili casi e si sceglierà di frase in frase quale utilizzare.\n",
    "    \n",
    "Prima del corpo vero e proprio della fuzione è definita una lista che ricostruirà la frase seguendo le indicazioni del tagger e altre due liste con tutte le possibili scritture dei termini che hanno un parametro opzionale come riferimento:\n",
    "* La frase in ingresso viene resa una lista e si passa ogni parola all'interno.\n",
    "* Se la parola è nel dizionario dei termini speciali allora si controlla se sia `dunno` o `gotta`.\n",
    "    * In caso affermativo si controlla il valore del parametro opzionale e si opera di conseguenza: il termine viene trattato in modo specifico, oppure se non sono necessarie operazioni particolari si fa riferimento al valore del dizionario.\n",
    "    * In caso negativo la parola non crea problemi e viene aggiunta alla lista senza passaggi intermedi.\n",
    "* Se la parola è nel dizionario ma non è una delle due, si richiama il corrispondente valore nel dizionario che viene aggiunto alla lista.\n",
    "* Come detto in precedenza se questi termini sono alla fine di una frase il tagger li gestisce in modo differente senza applicare alcuna divisione. Dopo aver passato tutte le parole di una frase si controlla se l'unione degli ultimi due elementi è una chiave del dizionario. In questo caso significherebbe che questo termine è stato spezzato quando in realtà non sarebbe stato necessario e dunque si eliminano gli ultimi due elementi e si aggiunge il termine unito."
   ]
  },
  {
   "cell_type": "code",
   "execution_count": 6,
   "metadata": {},
   "outputs": [],
   "source": [
    "sentences4 = imdb_df[\"Sentences4\"]\n",
    "del imdb_df # si tiene solo la variabile con le frasi per risparmiare spazio"
   ]
  },
  {
   "cell_type": "code",
   "execution_count": 7,
   "metadata": {},
   "outputs": [],
   "source": [
    "def word_exception(diz, words, dun_exc=1, got_exc=1):\n",
    "    temp_sentence = words.split(\" \")\n",
    "    sentence = []\n",
    "    d = [\"dunno\", \"Dunno\", \"DUNNO\"]\n",
    "    g = [\"gotta\", \"Gotta\", \"GOTTA\"]\n",
    "    for word in temp_sentence:\n",
    "        if word in diz.keys():\n",
    "            # dunno\n",
    "            if word in d:\n",
    "                if dun_exc == 1:\n",
    "                    new_word = \"du nno\".split(\" \")\n",
    "                    for part in new_word:\n",
    "                        sentence.append(part)\n",
    "                        \n",
    "                if dun_exc == 0:\n",
    "                    new_word = diz[word].split(\" \")\n",
    "                    for part in new_word:\n",
    "                        sentence.append(part)\n",
    "\n",
    "            # gotta\n",
    "            if word in g:\n",
    "                if got_exc == 1:\n",
    "                    sentence.append(word)\n",
    "                if got_exc == 0:\n",
    "                    new_word = diz[word].split(\" \")\n",
    "                    for part in new_word:\n",
    "                        sentence.append(part)\n",
    "                    \n",
    "            # else\n",
    "            stop = d + g\n",
    "            if word not in stop:\n",
    "                word = diz[word].split(\" \")\n",
    "                for part in word:\n",
    "                    sentence.append(part)\n",
    "                    \n",
    "        else:\n",
    "            sentence.append(word)\n",
    "            \n",
    "    if len(sentence) > 1:\n",
    "        if (sentence[-2] + sentence[-1]) in diz.keys():\n",
    "            add = sentence[-2] + sentence[-1]\n",
    "            sentence = sentence[0:-2]\n",
    "            sentence.append(add)\n",
    "\n",
    "    return (sentence)"
   ]
  },
  {
   "cell_type": "markdown",
   "metadata": {},
   "source": [
    "<font size=3>\n",
    "    \n",
    "Non è possibile sapere con certezza quale delle eccezioni applicare in ogni frase e di conseguenza quali valori assegnare ai parametri opzionali della funzione. Vista la scarsità di possibili combinazioni, la soluzione è quello di un approccio bruteforce, ovvero si proveranno tutte le possibili combinazioni fino a quando viene trovata quella corretta. Nella seguente lista ogni elemento è una tupla con una coppia di elementi con tutti i possibili casi."
   ]
  },
  {
   "cell_type": "code",
   "execution_count": 8,
   "metadata": {},
   "outputs": [],
   "source": [
    "combinations = [(0, 0), (0, 1), (1, 0), (1, 1)]"
   ]
  },
  {
   "cell_type": "markdown",
   "metadata": {},
   "source": [
    "<font size=3>\n",
    "\n",
    "La funzione `pattern_list` ha il compito di estrarre porzioni di frase che iniziano e finiscono con dei determinati tag. L'approccio utilizzato in uno dei paper sull'aspect-based sentiment analysis è quello di utilizzare i nomi e gli aggettivi, rispettivamente con tag `NN` e `JJ` come elementi cardine per trovare questi pattern. Un pattern inizia sempre con un nome o con un aggettivo e finisce con il tag opposto a quello di inizio; tutti questi tag sono salvati perché possono contenere informazioni di sentiment importanti. <br></br>\n",
    "\n",
    "I tag salvati sono secondo il criterio `xpos` in cui nomi e aggettivi hanno la parte iniziale uguale e poi una o più lettere che indica nello specifico a quale tipo di nome o aggettivo si fa riferimento. Non dovendo fare questa distinzione è necessario acceddere solamente alla parte iniziale del tag. <br></br>\n",
    "\n",
    "La funzione prende in input i seguenti elementi:\n",
    "* `sent`: è una lista di liste in cui ogni elemento delle liste interne è una frase delle recensioni.\n",
    "* `tag_list`: è una lista di liste con i tag corrispondenti alle parole.\n",
    "* `comb`: è la lista del codice precedente con tutte le combinazioni possibili per gestire termini speciali.\n",
    "\n",
    "All'inizio sono create due liste `word_pattern` e `tag_pattern`, saranno l'output della funzione, conterrano rispettivamente le paorle e i tag dei pattern individuati. Si itera per ogni recensione e per ogni frase all'interno di essa. Sono creati due variabili di check `lenght` e `tries`. Le due righe successive servono per gestire il tipo di oggetto in ingresso: l'algoritmo verrà applicato sia sui tag con la spelling correction sia su quelli senza. Uno dei due oggetti ha i tag salvati come una stringa, perché occupa meno spazio, però è necessario averla per accedere ad ogni singolo tag. Nel caso in cui la sequenza di tag non sia una lista, la si crea con un semplice split. <br></br>\n",
    "\n",
    "A questo punto la lista di tag è passata alla funzione `word exception` che volta per volta prova i valori contenuti all'interno di `comb`. Con un indice è possibile accedere al primo o al secondo elemento della tupla e passarlo al parametro opzionale. Se la lunghezza dell'output (che sono le frasi) è uguale alla lunghezza della corrispettiva lista di tag, allora la variabile `lenght` è posta a zero e il ciclo si interrompe perché si è effettuata la correzione giusta. In caso negativo si riprova con una nuova combinazione di elementi. Ad ogni tentativo si aumenta di uno il valore di `tries`, quando tutte le combinazioni sono state provate il valore sarà in eccesso rispetto alle condizioni per effettuare dei tentativi e quindi si uscirà automaticamente dal ciclo. <br></br>\n",
    "\n",
    "Si crea la variabile `start` che ha il compito di costruire la sequenza dei tag dei pattern. Sono inizializzate due liste interne che saranno aggiunte alle liste iniziali. Nel caso la lunghezza della frase sia diversa da quella dei tag, allora la funzione precedente ha provato tutte le combinazioni ma non si è riusciti a risolvere il problema, quindi le liste vuote sono già aggiunte alle liste principali e si passa alla frase successiva. Nel caso in cui una correzione avesse funzionato si procede nella seguente maniera:\n",
    "* Si scorre per ogni singolo tag della frase.\n",
    "* Con la funzione `startswith` è possibile specificare un insieme di caratteri che devono essere la parte iniziale di un elemento, in questo caso del tag. Per esempio il tag `NNP` che identifica i nomi propri è adatto allo scopo dell'algoritmo ma per identificarlo correttamente come nome generico è necessario confrontare solo i primi due elementi. Se si trova un nome o un aggettivo e il valore di `start` è nullo, ovvero l'inizio del pattern non è ancora stato individuato:\n",
    "    * Il pattern viene inizializzato con un tag `NN` o `JJ`.\n",
    "    * La variabile `tags` conterrà l'insieme di tag riferiti ad un pattern, in questa parte del codice viene creata la variabile che avrà un nome o un aggettivo come primo tag.\n",
    "* Nel caso in cui il pattern sia già inizializzato si controlla il tag della parola successiva.\n",
    "    * Se il tag è uguale a quello precedente allora viene aggiunto il termine alla stringa delle parole e il tag alla stringa dei tag.\n",
    "    * Se il termine non è né un nome né un aggettivo si procede allo stesso modo.\n",
    "    * Se il tag del termine è il reciproco del tag iniziale, nome/aggettivo o aggettivo/nome, si aggiornano le stringhe e questi elementi sono aggiunti alle liste interne e la variabile `start` viene posta in quanto questo pattern si è concluso e se ne deve identificare uno nuovo.\n",
    "\n",
    "Nel paper non è ben specificato come bisogna comportarsi nel caso in cui ci sia un pattern ma non è possibile concluderlo perché non si trova il tag opposto prima della fine della frase. Si è deciso di salvare questi pattern piuttosto che scartarli, le ultime righe di codice effettuano questo salvataggio: nel caso in cui le liste interne siano vuote ma `start` non sia nullo, significa che un pattern è inizializzato ma non è stato aggiunto alla lista perché non si è trovato il tag di stop. In questo caso si salva comunque il pattern. <br></br>\n",
    "\n",
    "In input sono restituite le liste con sequenze di parole e pattern. L'output è una lista unica in cui ogni elemento contiene i/il pattern delle frasi."
   ]
  },
  {
   "cell_type": "code",
   "execution_count": 9,
   "metadata": {},
   "outputs": [],
   "source": [
    "def pattern_list(sent, tag_list, comb):\n",
    "        \n",
    "    word_pattern = []\n",
    "    tag_pattern = []\n",
    "    \n",
    "    for i in tqdm(range(len(sent))):\n",
    "        for j in range(len(sent[i])):\n",
    "            lenght = -1\n",
    "            tries = 0\n",
    "            \n",
    "            if type(tag_list[i][j]) != list:\n",
    "                tag_list[i][j] = tag_list[i][j].split(\" \")\n",
    "                \n",
    "            # word_exception con diversi valori fino a quando non combaciano le lunghezze\n",
    "            while lenght < 0 and tries < 4:\n",
    "                for values in combinations:\n",
    "                    sentence = word_exception(exception_diz, sent[i][j], dun_exc=values[0], got_exc=values[1])\n",
    "                    \n",
    "                    if len(sentence) == len(tag_list[i][j]):\n",
    "                        lenght = 0\n",
    "                    else:\n",
    "                        pass\n",
    "                    \n",
    "                    tries += 1\n",
    "              \n",
    "            start = \"\"\n",
    "            inner_word_pattern = []\n",
    "            inner_tag_pattern = []\n",
    "            # nel caso nessuna combinazione funzioni\n",
    "            if len(sentence) != len(tag_list[i][j]):\n",
    "                word_pattern.append(inner_word_pattern)\n",
    "                tag_pattern.append(inner_tag_pattern)\n",
    "                \n",
    "            # in caso funzioni\n",
    "            else: \n",
    "                for k in range(len(tag_list[i][j])): # si cercano i  tag per iniziare un pattern\n",
    "                    if (tag_list[i][j][k].startswith(\"NN\") or tag_list[i][j][k].startswith(\"JJ\")) and start == \"\":\n",
    "                        words = sentence[k]\n",
    "                        tags = tag_list[i][j][k]\n",
    "                        if tag_list[i][j][k].startswith(\"NN\"):\n",
    "                            start = \"NN\"\n",
    "                        else:\n",
    "                            start = \"JJ\"\n",
    "                     \n",
    "\n",
    "                    if start != \"\":   \n",
    "                        # si controlla se concatenare parole con lo stesso tag\n",
    "                        if start == \"NN\":\n",
    "                            if tag_list[i][j][k].startswith(\"NN\"):\n",
    "                                words = words + \" \" + sentence[k]\n",
    "                                tags = tags + \" \" + tag_list[i][j][k]\n",
    "                                \n",
    "                        if start == \"JJ\":\n",
    "                            if tag_list[i][j][k].startswith(\"JJ\"):\n",
    "                                words = words + \" \" + sentence[k]\n",
    "                                tags = tags + \" \" + tag_list[i][j][k]\n",
    "\n",
    "                        # si allunga in pattern\n",
    "                        if (tag_list[i][j][k].startswith(\"NN\") or tag_list[i][j][k].startswith(\"JJ\")) == False:\n",
    "                            words = words + \" \" + sentence[k]\n",
    "                            tags = tags + \" \" + tag_list[i][j][k]\n",
    "\n",
    "                        # si conclude il pattern\n",
    "                        if start == \"NN\" and tag_list[i][j][k].startswith(\"JJ\"):\n",
    "                            words = words + \" \" + sentence[k]\n",
    "                            tags = tags + \" \" + tag_list[i][j][k]\n",
    "                            \n",
    "                            inner_word_pattern.append(words)\n",
    "                            inner_tag_pattern.append(tags)\n",
    "                            start = \"\"\n",
    "                            \n",
    "                        if start == \"JJ\" and tag_list[i][j][k].startswith(\"NN\"):\n",
    "                            words = words + \" \" + sentence[k]\n",
    "                            tags = tags + \" \" + tag_list[i][j][k]\n",
    "                            \n",
    "                            inner_word_pattern.append(words)\n",
    "                            inner_tag_pattern.append(tags)\n",
    "                            start = \"\"\n",
    "                \n",
    "                if len(inner_word_pattern) == 0 and start != \"\":\n",
    "                    inner_word_pattern.append(words)\n",
    "                    inner_tag_pattern.append(tags)\n",
    "                    \n",
    "                word_pattern.append(inner_word_pattern)\n",
    "                tag_pattern.append(inner_tag_pattern)\n",
    "            \n",
    "    return (word_pattern, tag_pattern)"
   ]
  },
  {
   "cell_type": "markdown",
   "metadata": {},
   "source": [
    "<font size=3>\n",
    "\n",
    "L'algoritmo viene realizzato sia per le parole senza e con pre-processing."
   ]
  },
  {
   "cell_type": "code",
   "execution_count": 10,
   "metadata": {
    "scrolled": true
   },
   "outputs": [
    {
     "name": "stderr",
     "output_type": "stream",
     "text": [
      "100%|████████████████████████████████████████████████████████████████████████| 784259/784259 [12:53<00:00, 1013.45it/s]\n"
     ]
    }
   ],
   "source": [
    "(w_pattern, t_pattern) = pattern_list(sentences4, new_tags_sent, combinations)"
   ]
  },
  {
   "cell_type": "code",
   "execution_count": 13,
   "metadata": {},
   "outputs": [
    {
     "name": "stderr",
     "output_type": "stream",
     "text": [
      "100%|█████████████████████████████████████████████████████████████████████████| 784259/784259 [14:10<00:00, 921.87it/s]\n"
     ]
    }
   ],
   "source": [
    "(wspell_pattern, tspell_pattern) = pattern_list(symspell_list, tags_spell, combinations)"
   ]
  },
  {
   "cell_type": "markdown",
   "metadata": {},
   "source": [
    "<br></br>\n",
    "## [1.4 Save and Load](#1.4)\n",
    "<br></br>\n",
    "<font size=3>\n",
    "    \n",
    "I quattro oggetti creati sono salvati e caricati per le future operazioni."
   ]
  },
  {
   "cell_type": "code",
   "execution_count": 15,
   "metadata": {},
   "outputs": [],
   "source": [
    "with open('w_pattern', 'wb') as fp:\n",
    "    pickle.dump(w_pattern, fp)\n",
    "    \n",
    "with open('t_pattern', 'wb') as fp2:\n",
    "    pickle.dump(t_pattern, fp2)\n",
    "    \n",
    "with open('wspell_pattern', 'wb') as fp3:\n",
    "    pickle.dump(wspell_pattern, fp3)\n",
    "    \n",
    "with open('tspell_pattern', 'wb') as fp4:\n",
    "    pickle.dump(tspell_pattern, fp4)"
   ]
  },
  {
   "cell_type": "code",
   "execution_count": 2,
   "metadata": {},
   "outputs": [],
   "source": [
    "with open('w_pattern', \"rb\") as input_file:\n",
    "    w_pattern = pickle.load(input_file)\n",
    "    \n",
    "with open('t_pattern', \"rb\") as input_file:\n",
    "    t_pattern = pickle.load(input_file)\n",
    "    \n",
    "with open('wspell_pattern', \"rb\") as input_file:\n",
    "    wspell_pattern = pickle.load(input_file)\n",
    "    \n",
    "with open('tspell_pattern', \"rb\") as input_file:\n",
    "    tspell_pattern = pickle.load(input_file)"
   ]
  },
  {
   "cell_type": "markdown",
   "metadata": {},
   "source": [
    "<br></br>\n",
    "## [1.5 Pattern Rilevanti](#1.5)\n",
    "<br></br>\n",
    "<font size=3>\n",
    "    \n",
    "Il numero di singoli pattern generati dovrebbe essere estremamente elevato. Secondo i gli autori di alcuni paper è necessario prendere solo i più frequenti. La motivazione dietro questa scelta è data dal fatto che le nelle recensioni le opinioni sono la parte più consistente ma un utente può soffermarsi su diversi aspetti che non sono necessariamente delle opinioni. Nel processo di tagging entrambi gli aspetti sono considerati dato che il linguaggio utilizzato è sempre lo stesso. Il modo in cui però una certa opinione è espressa dovrebbe rispettare un determinato pattern di tag, al contrario quelli che sono definiti aspetti non rilevanti avranno una combinazione diversa. \n",
    "<br></br>\n",
    "\n",
    "Da qui la necessità di prendere solamente le combinazioni di tag più frequenti in modo da massimizzare la probabilità di cogliere le opinioni e scartare gli aspetti irrilevanti."
   ]
  },
  {
   "cell_type": "markdown",
   "metadata": {},
   "source": [
    "<font size=3>\n",
    "    \n",
    "Per questo scopo si creano due dizionari, uno per ogni lista e si conta il numero di volte in cui un determinato pattern compare. Con la funzione `Counter` sono riportati i primi $10$ pattern e le loro relative frequenze."
   ]
  },
  {
   "cell_type": "code",
   "execution_count": 3,
   "metadata": {
    "scrolled": true
   },
   "outputs": [
    {
     "name": "stdout",
     "output_type": "stream",
     "text": [
      "        No spelling correction  \tSpelling correction\n",
      "\n",
      "            ('JJ NN', 2241385)  \t('JJ NN', 2243417)\n",
      "            ('JJ NNS', 769376)  \t('JJ NNS', 768407)\n",
      "                ('NN', 239255)  \t('NN', 231272)\n",
      "             ('NN JJ', 211857)  \t('NN JJ', 214237)\n",
      "       ('NN IN DT JJ', 211734)  \t('NN IN DT JJ', 212122)\n",
      "          ('JJ JJ NN', 201748)  \t('JJ JJ NN', 201987)\n",
      "          ('NN IN JJ', 185662)  \t('NN IN JJ', 186809)\n",
      "         ('NN VBZ JJ', 174357)  \t('NN VBZ JJ', 173896)\n",
      "            ('JJ NNP', 130462)  \t('JJ NNP', 130893)\n",
      "                ('JJ', 121824)  \t('JJ', 122033)\n"
     ]
    }
   ],
   "source": [
    "# senza spelling correction\n",
    "di_p1 = {}\n",
    "for pattern in t_pattern:\n",
    "    for st in pattern:\n",
    "        if st not in di_p1.keys():\n",
    "            di_p1[st] = 1\n",
    "        else:\n",
    "            di_p1[st] += 1\n",
    "\n",
    "\n",
    "# con spelling correction\n",
    "di_p2 = {}\n",
    "for pattern in tspell_pattern:\n",
    "    for st in pattern:\n",
    "        if st not in di_p2.keys():\n",
    "            di_p2[st] = 1\n",
    "        else:\n",
    "            di_p2[st] += 1\n",
    "\n",
    "for i in range(10):\n",
    "    if i == 0:\n",
    "        print('{:>30}  {:>10}'.format(\"No spelling correction\", \"\\tSpelling correction\\n\"))\n",
    "    print('{:>30}  {:>10}'.format(str(Counter(di_p1).most_common(10)[i]),  \"\\t\" + str(Counter(di_p2).most_common(10)[i])))"
   ]
  },
  {
   "cell_type": "markdown",
   "metadata": {},
   "source": [
    "<font size=3>\n",
    "    \n",
    "L'ordine dei pattern non cambia ma le frequenze sono leggermente diverse. È ancora prematuro dire quale dei due metodi sia stato il migliore. Di seguito sono riportati il numero di singoli pattern identificati."
   ]
  },
  {
   "cell_type": "code",
   "execution_count": 4,
   "metadata": {},
   "outputs": [
    {
     "name": "stdout",
     "output_type": "stream",
     "text": [
      "4144492 4152330\n"
     ]
    }
   ],
   "source": [
    "print(len(di_p1), len(di_p2))"
   ]
  },
  {
   "cell_type": "markdown",
   "metadata": {},
   "source": [
    "<font size=3>\n",
    "    \n",
    "Analogamente a quanto detto nell'articolo la procedura di estrazione di pattern genera un numero elevatissimo di combinazioni. L'aritcolo consigliava di prendere l'$1\\%$ dei pattern più frequenti, però probabilmente non sono stati presi i pattern non conclusi a differenza di questo caso. Per questo motivo si prenderà solo lo $0.5\\%$ dei pattern, $20'000$ pattern differenti."
   ]
  },
  {
   "cell_type": "code",
   "execution_count": 1,
   "metadata": {},
   "outputs": [
    {
     "ename": "NameError",
     "evalue": "name 'Counter' is not defined",
     "output_type": "error",
     "traceback": [
      "\u001b[1;31m---------------------------------------------------------------------------\u001b[0m",
      "\u001b[1;31mNameError\u001b[0m                                 Traceback (most recent call last)",
      "\u001b[1;32m<ipython-input-1-c218df973856>\u001b[0m in \u001b[0;36m<module>\u001b[1;34m\u001b[0m\n\u001b[1;32m----> 1\u001b[1;33m \u001b[0mpat_temp1\u001b[0m \u001b[1;33m=\u001b[0m \u001b[0mCounter\u001b[0m\u001b[1;33m(\u001b[0m\u001b[0mdi_p1\u001b[0m\u001b[1;33m)\u001b[0m\u001b[1;33m.\u001b[0m\u001b[0mmost_common\u001b[0m\u001b[1;33m(\u001b[0m\u001b[1;33m)\u001b[0m\u001b[1;33m\u001b[0m\u001b[1;33m\u001b[0m\u001b[0m\n\u001b[0m\u001b[0;32m      2\u001b[0m \u001b[0mpat_temp2\u001b[0m \u001b[1;33m=\u001b[0m \u001b[0mCounter\u001b[0m\u001b[1;33m(\u001b[0m\u001b[0mdi_p2\u001b[0m\u001b[1;33m)\u001b[0m\u001b[1;33m.\u001b[0m\u001b[0mmost_common\u001b[0m\u001b[1;33m(\u001b[0m\u001b[1;33m)\u001b[0m\u001b[1;33m\u001b[0m\u001b[1;33m\u001b[0m\u001b[0m\n\u001b[0;32m      3\u001b[0m \u001b[1;33m\u001b[0m\u001b[0m\n\u001b[0;32m      4\u001b[0m \u001b[1;31m# si seleziona lo 0.5% più comune\u001b[0m\u001b[1;33m\u001b[0m\u001b[1;33m\u001b[0m\u001b[1;33m\u001b[0m\u001b[0m\n\u001b[0;32m      5\u001b[0m \u001b[0mgsp1\u001b[0m \u001b[1;33m=\u001b[0m \u001b[0mCounter\u001b[0m\u001b[1;33m(\u001b[0m\u001b[0mdi_p1\u001b[0m\u001b[1;33m)\u001b[0m\u001b[1;33m.\u001b[0m\u001b[0mmost_common\u001b[0m\u001b[1;33m(\u001b[0m\u001b[0mint\u001b[0m\u001b[1;33m(\u001b[0m\u001b[0mlen\u001b[0m\u001b[1;33m(\u001b[0m\u001b[0mpat_temp1\u001b[0m\u001b[1;33m)\u001b[0m\u001b[1;33m/\u001b[0m\u001b[1;36m200\u001b[0m\u001b[1;33m)\u001b[0m\u001b[1;33m)\u001b[0m\u001b[1;33m\u001b[0m\u001b[1;33m\u001b[0m\u001b[0m\n",
      "\u001b[1;31mNameError\u001b[0m: name 'Counter' is not defined"
     ]
    }
   ],
   "source": [
    "pat_temp1 = Counter(di_p1).most_common()\n",
    "pat_temp2 = Counter(di_p2).most_common()\n",
    "\n",
    "# si seleziona lo 0.5% più comune\n",
    "gsp1 = Counter(di_p1).most_common(int(len(pat_temp1)/200))\n",
    "gsp2 = Counter(di_p2).most_common(int(len(pat_temp2)/200))\n",
    "\n",
    "# somma di tutte le occorrenze\n",
    "freq_temp1 = sum([value[1] for value in pat_temp1])\n",
    "freq_temp2 = sum([value[1] for value in pat_temp2])\n",
    "\n",
    "# somma delle occorrenze nello 0.5 più comune\n",
    "freq_gsp1 = sum([value[1] for value in gsp1])\n",
    "freq_gsp2 = sum([value[1] for value in gsp2])\n",
    "\n",
    "print(\"Proporzione di pattern nello 0.5% dei più comuni senza spelling correction: \" + str(round(100*(freq_gsp1/freq_temp1), 3)) + \"%\")\n",
    "print(\"Proporzione di pattern nello 0.5% dei più comuni con spelling correction: \" + str(round(100*(freq_gsp2/freq_temp2), 3)) + \"%\")"
   ]
  },
  {
   "cell_type": "markdown",
   "metadata": {},
   "source": [
    "<font size=3>\n",
    "    \n",
    "Codice che calcola la % di pattern in base al numero di pattern totali considerati ordinati per frequenza. Serve per inserire la tabella nella tesi."
   ]
  },
  {
   "cell_type": "code",
   "execution_count": 6,
   "metadata": {},
   "outputs": [
    {
     "name": "stdout",
     "output_type": "stream",
     "text": [
      "Proporzione di pattern nello 50.0% dei più comuni senza spelling correction: 87.638%\n",
      "Proporzione di pattern nello 50.0% dei più comuni con spelling correction: 87.621%\n",
      "Proporzione di pattern nello 25.0% dei più comuni senza spelling correction: 81.457%\n",
      "Proporzione di pattern nello 25.0% dei più comuni con spelling correction: 81.432%\n",
      "Proporzione di pattern nello 2.0% dei più comuni senza spelling correction: 72.016%\n",
      "Proporzione di pattern nello 2.0% dei più comuni con spelling correction: 71.986%\n",
      "Proporzione di pattern nello 1.0% dei più comuni senza spelling correction: 69.659%\n",
      "Proporzione di pattern nello 1.0% dei più comuni con spelling correction: 69.629%\n",
      "Proporzione di pattern nello 0.5% dei più comuni senza spelling correction: 67.174%\n",
      "Proporzione di pattern nello 0.5% dei più comuni con spelling correction: 67.143%\n",
      "Proporzione di pattern nello 0.2% dei più comuni senza spelling correction: 63.667%\n",
      "Proporzione di pattern nello 0.2% dei più comuni con spelling correction: 63.638%\n",
      "Proporzione di pattern nello 0.1% dei più comuni senza spelling correction: 60.84%\n",
      "Proporzione di pattern nello 0.1% dei più comuni con spelling correction: 60.812%\n",
      "Proporzione di pattern nello 0.01% dei più comuni senza spelling correction: 50.09%\n",
      "Proporzione di pattern nello 0.01% dei più comuni con spelling correction: 50.061%\n",
      "Proporzione di pattern nello 0.001% dei più comuni senza spelling correction: 36.795%\n",
      "Proporzione di pattern nello 0.001% dei più comuni con spelling correction: 36.735%\n"
     ]
    }
   ],
   "source": [
    "pat_temp1 = Counter(di_p1).most_common()\n",
    "pat_temp2 = Counter(di_p2).most_common()\n",
    "\n",
    "val_list = [2, 4, 50, 100, 200, 500, 1000, 10000, 100000]\n",
    "\n",
    "for val in val_list:\n",
    "    \n",
    "    # si seleziona lo 0.5% più comune\n",
    "    gsp1 = Counter(di_p1).most_common(int(len(pat_temp1)/val))\n",
    "    gsp2 = Counter(di_p2).most_common(int(len(pat_temp2)/val))\n",
    "\n",
    "    # somma di tutte le occorrenze\n",
    "    freq_temp1 = sum([value[1] for value in pat_temp1])\n",
    "    freq_temp2 = sum([value[1] for value in pat_temp2])\n",
    "\n",
    "    # somma delle occorrenze nello 0.5 più comune\n",
    "    freq_gsp1 = sum([value[1] for value in gsp1])\n",
    "    freq_gsp2 = sum([value[1] for value in gsp2])\n",
    "\n",
    "    print(\"Proporzione di pattern nello \" + str(100/val) +\"% dei più comuni senza spelling correction: \" + str(round(100*(freq_gsp1/freq_temp1), 3)) + \"%\")\n",
    "    print(\"Proporzione di pattern nello \" + str(100/val) +\"% dei più comuni con spelling correction: \" + str(round(100*(freq_gsp2/freq_temp2), 3)) + \"%\")"
   ]
  },
  {
   "cell_type": "markdown",
   "metadata": {},
   "source": [
    "<font size=3>\n",
    "    \n",
    "Un rapido confronto permette di verificare che accedendo ad una minima porzione dei pattern più comuni si riesce comunque a cogliere un notevole numero di pattern, per entrambi i casi, con e senza spelling correction, la percentuale si attesta sul $67\\%$, due terzi del totale."
   ]
  },
  {
   "cell_type": "markdown",
   "metadata": {},
   "source": [
    "<font size=3>\n",
    "    \n",
    "Altri due dizionari sono creati contenenti i pattern di interesse, quelli più frequenti."
   ]
  },
  {
   "cell_type": "code",
   "execution_count": 15,
   "metadata": {},
   "outputs": [],
   "source": [
    "gsp1_diz = {}\n",
    "for pattern in gsp1:\n",
    "    if pattern[0] not in gsp1_diz.keys():\n",
    "        gsp1_diz[pattern[0]] = 1\n",
    "        \n",
    "gsp2_diz = {}\n",
    "for pattern in gsp2:\n",
    "    if pattern[0] not in gsp2_diz.keys():\n",
    "        gsp2_diz[pattern[0]] = 1"
   ]
  },
  {
   "cell_type": "markdown",
   "metadata": {},
   "source": [
    "<font size=3>\n",
    "    \n",
    "Partendo dai pattern di interesse identificati si ricavano le frasi corrispondenti. La funzione `relevant_pattern` permette di effettuare questa selezione; i valori in input sono:\n",
    "* `pattern_diz`: Un dizionario con i pattern ammessi, creato nel codice precedente.\n",
    "* `pattern_list`: una lista di pattern, in questo caso la lista di tutti i pattern trovati nei commenti.\n",
    "* `word_list`: una lista di parole, tutti i commenti trovati.\n",
    "\n",
    "L'algoritmo è strutturato nel seguente modo:\n",
    "* Sono inizializzate due liste vuote, una servità per i pattern, l'altra per le parole.\n",
    "* Si controlla se ogni pattern è nella lista dei pattern più comuni, nel caso lo sia si aggiungono in due liste temporanee il pattern corrente e le corrispondenti parole nel commento.\n",
    "* Queste due liste temporanee sono aggiunte a quelle iniziali che sono l'output della funzione."
   ]
  },
  {
   "cell_type": "code",
   "execution_count": 16,
   "metadata": {},
   "outputs": [],
   "source": [
    "def relevant_pattern(pattern_diz, pattern_list, word_list):\n",
    "    w_gsp = []\n",
    "    t_gsp = []\n",
    "    for i in tqdm(range(len(pattern_list))):\n",
    "        w_gsp_temp = []\n",
    "        t_gsp_temp = []\n",
    "        for j in range(len(pattern_list[i])):\n",
    "            if pattern_list[i][j] in pattern_diz.keys():\n",
    "                w_gsp_temp.append(word_list[i][j])\n",
    "                t_gsp_temp.append(pattern_list[i][j])\n",
    "            else:\n",
    "                w_gsp_temp.append(\"\")\n",
    "                t_gsp_temp.append(\"\")\n",
    "    \n",
    "        w_gsp.append(w_gsp_temp)\n",
    "        t_gsp.append(t_gsp_temp)\n",
    "    \n",
    "    return(w_gsp, t_gsp)"
   ]
  },
  {
   "cell_type": "markdown",
   "metadata": {},
   "source": [
    "<font size=3>\n",
    "    \n",
    "L'algoritmo è realizzato sia per i commenti con spelling correction sia quelli senza."
   ]
  },
  {
   "cell_type": "code",
   "execution_count": 17,
   "metadata": {
    "scrolled": true
   },
   "outputs": [
    {
     "name": "stderr",
     "output_type": "stream",
     "text": [
      "100%|██████████████████████████████████████████████████████████████████| 10113411/10113411 [00:19<00:00, 514613.27it/s]\n",
      "100%|██████████████████████████████████████████████████████████████████| 10113411/10113411 [00:19<00:00, 519757.70it/s]\n"
     ]
    }
   ],
   "source": [
    "w_pattern_gsp, t_pattern_gsp = relevant_pattern(gsp1_diz, t_pattern, w_pattern)\n",
    "wspell_pattern_gsp, tspell_pattern_gsp = relevant_pattern(gsp2_diz, tspell_pattern, wspell_pattern)"
   ]
  },
  {
   "cell_type": "markdown",
   "metadata": {},
   "source": [
    "<br></br>\n",
    "<br></br>\n",
    "# [2. Raggruppamento](#2.)"
   ]
  },
  {
   "cell_type": "markdown",
   "metadata": {},
   "source": [
    "<br></br>\n",
    "## [2.1 Wordnet](#2.1)"
   ]
  },
  {
   "cell_type": "markdown",
   "metadata": {},
   "source": [
    "<font size=3>\n",
    "    \n",
    "Una volta identificati i pattern e le parole di interesse, lo step successivo è quello di raggruppare le parole in base al loro significato per identificare gli aspetti dei commenti. <br></br>\n",
    "\n",
    "Le parole da considerare non sono tutte quelle dei commenti filtrati in quanto un aggettivo, per esempio, può fare riferimento a qualsiasi entità, le parole su cui bisogna concentrarsi in questa fase sono esclusivamente i nomi. La seguente funzione ha il compito di identificare i potenziali termini che saranno utilizzati per il raggruppamento. Gli input della funzione sono:\n",
    "* `w_list`: una lista di parole\n",
    "* `w_pattern`: una lista di pattern\n",
    "* `w_output`: dizionario che sarà l'output della funzione.\n",
    "\n",
    "La funzione è strutturata nel seguente modo:\n",
    "* Mediante un doppio ciclo `for`, si accede ad una singola recensione.\n",
    "* Con la funzione `split` si seperano sia le parole della recensione, sia i diversi tag.\n",
    "* Per ogni tag in questa nuova lista si controlla se sia un nome.\n",
    "    * In caso negativo si passa la tag successivo.\n",
    "    * In caso affermativo si controlla se la parola corrispondente al tag inizi con la lettera maiuscola. Lo scopo di questa fare è quella di non includere delle parole che rappresentano i nomi di persone.\n",
    "        * Se la parola inizia con una maiuscola si controlla se la parola precedente o quella successiva inizi anch'essa con una maiuscola. Se ciò fosse vero, molto probabilmente si tratta di un nome di persona.\n",
    "        * Nel caso la parola superi tutti i controlli, si ricavano le informazioni presenti nella libreria `wordnet` ed entrambe sono aggiunte nel dizionario di output."
   ]
  },
  {
   "cell_type": "code",
   "execution_count": 18,
   "metadata": {},
   "outputs": [],
   "source": [
    "def find_word(w_list, w_pattern, w_output, nouns_list):\n",
    "    for i in tqdm(range(len(w_list))):\n",
    "        for j in range(len(w_list[i])):\n",
    "            \n",
    "            # le parole e i tag sono in un'unica stringa, si separano\n",
    "            temp_w = w_list[i][j].split(' ') \n",
    "            temp_p = w_pattern[i][j].split(' ')\n",
    "            \n",
    "            for k in range(len(temp_p)):\n",
    "                if temp_p[k] == \"NN\":\n",
    "                    out = cases(temp_w[k])\n",
    "                    nouns_list.append(temp_w[k])\n",
    "                    \n",
    "                    # Si controlla che non si tratti di un nome di persona\n",
    "                    if temp_w[k] != temp_w[k].lower():\n",
    "                        if k < (len(temp_p) - 1):\n",
    "                            if (temp_w[k-1] != temp_w[k-1].lower()) or (temp_w[k+1] != temp_w[k+1].lower()):\n",
    "                                break\n",
    "                        else:\n",
    "                            if (temp_w[k-1] != temp_w[k-1].lower()):\n",
    "                                break\n",
    "                            \n",
    "                    # Le uniche maiuscole accettate sono quelle iniziali e si controlla se il lemma è un nome\n",
    "                    if out in ['NU', 'FU']:\n",
    "                        temp = wordnet.synsets(temp_w[k])\n",
    "                        if len(temp) > 0:\n",
    "                            for w in range(len(temp)):\n",
    "                                word = ''\n",
    "                                if '.n.' in temp[w].name():\n",
    "                                    word = temp[w]\n",
    "                                    break\n",
    "                                  \n",
    "                            if temp_w[k].lower() not in w_output.keys():\n",
    "                                if (temp_w[k] not in w_output.keys()) and (len(temp_w[k]) > 2) and (type(word) != str):\n",
    "                                    w_output[temp_w[k]] = word\n",
    "                                    \n",
    "                                        \n",
    "    return(w_output)"
   ]
  },
  {
   "cell_type": "markdown",
   "metadata": {},
   "source": [
    "<font size=3>\n",
    "    \n",
    "Si è notato nelle successive analisi, che alcune parole erano presenti in formato tutto maiuscolo o con alcune maiuscole casuali all'interno del termine. Soprendentemente la numerosità di questi casi non era così rara, questo pone dei problemi per la matrice di similarità in quanto ci saranno degli elementi fuori dalla diagonale principale con massima similarità ma riguardanti termini duplicati. Questo non era stato un ostacolo nelle precedenti analisi in quanto le funzioni applicate avevano già implementato delle parti di pre-processing per gestire questi casi.\n",
    "<br></br>\n",
    "\n",
    "Nella funzione `find_word` sarà quindi implementato un check con la seguente funzione `cases`, in cui si calcolerà il numero di lettere maiuscole che compaiono in una parola: \n",
    "* Se ce ne è esattamente una ed è la prima lettera, si può considerare il primo termine della frase o il nome di una persona, quindi è ammissibile.\n",
    "* Se ce ne sono più di una, probabilmente tutta la parola è in maiuscolo ed è da scartare in quanto verosimilmente esisterà almeno un corrispettivo tutto minuscolo o al più con solo la lettera iniziale maiuscola.\n",
    "* Se non ci sono maiuscole non è un problema.\n",
    "* Se c'è esattamente una maiuscola ma non all'inizio, anche in questa situazione la parola sarà scartata."
   ]
  },
  {
   "cell_type": "code",
   "execution_count": 19,
   "metadata": {},
   "outputs": [],
   "source": [
    "def cases(word):\n",
    "    upper = sum([upper.isupper() for upper in word])\n",
    "    if upper == 1 and word[0].isupper() == True:\n",
    "        out = 'FU'\n",
    "    elif upper > 1:\n",
    "        out = 'MU'\n",
    "    elif upper == 0:\n",
    "        out = 'NU'\n",
    "    else:\n",
    "        out = 'RU'\n",
    "    return(out)"
   ]
  },
  {
   "cell_type": "markdown",
   "metadata": {},
   "source": [
    "<font size=3>\n",
    "    \n",
    "La funzione `synsets` all'interno della libreria `wordnet` permette di creare un elemento Synset utile per delle future operazioni con la stessa libreria. La funzione prende in input una parola, lasciando i parametri di default si suppone che la parola si in lingua inglese. L'output della funzione restituisce appunto un oggetto Synset che è composto dei seguenti elementi:\n",
    "* `lemma`: il lemma della parola immessa, nel caso in cui la parola non sia ritrovata nel dizionario, tutto l'output sarebbe <i>None</i>.\n",
    "* `pos`: la parte del discorso relativa alla parola. Questi tag sono leggermente diversi da quelli utilizzati per il tagging vero e proprio, qui il tag è espresso con solamente una lettera. Per esempio i tag di interesse, i nomi, sono espressi solamente da <i>n</i>.\n",
    "* `number`: è un numero identificativo dell'elemento restituito.\n",
    "\n",
    "Una parola può avere più significati o avere una funzione diversa a seconda della posizione in cui si trova nella frase. L'output può essere quindi composto da una lista di elementi, ciascuno strutturato nella maniera sorpa riportata. In questo caso gli elementi sono riportati per frequenza, ovvero quanto più verosimilmente quella parola assume quella particolare funzione all'interno della frase, probaiblità stimata usando un corpus di base e non contestualizzata all'analisi in questione. <br></br>\n",
    "\n",
    "Nella funzione `find_word` si controlla se ogni elemento nella lista in output da `synsets` sia un nome. Nel caso venga identificato, la parola è considerata effettivamente un nome, altrimenti viene scartata."
   ]
  },
  {
   "cell_type": "code",
   "execution_count": 20,
   "metadata": {
    "scrolled": true
   },
   "outputs": [
    {
     "name": "stderr",
     "output_type": "stream",
     "text": [
      "100%|███████████████████████████████████████████████████████████████████| 10113411/10113411 [02:01<00:00, 83045.10it/s]\n"
     ]
    }
   ],
   "source": [
    "word_accepted = {}\n",
    "nouns_list = []\n",
    "word_no_spell = find_word(w_pattern_gsp, t_pattern_gsp, w_output=word_accepted, nouns_list=nouns_list)"
   ]
  },
  {
   "cell_type": "code",
   "execution_count": 21,
   "metadata": {},
   "outputs": [
    {
     "data": {
      "text/plain": [
       "20187"
      ]
     },
     "execution_count": 21,
     "metadata": {},
     "output_type": "execute_result"
    }
   ],
   "source": [
    "len(word_accepted)"
   ]
  },
  {
   "cell_type": "markdown",
   "metadata": {},
   "source": [
    "<font size=3>\n",
    "    \n",
    "Si applica la funzione `find_word` per ottenere un dizionario con chiave il termine nella recensione e come valore l'elemento Synset. Successivamente sono create due liste identiche con solamente i valori del dizionario."
   ]
  },
  {
   "cell_type": "code",
   "execution_count": 22,
   "metadata": {},
   "outputs": [],
   "source": [
    "word_accepted_list = word_accepted_list2 = [word_accepted[key] for key in word_accepted.keys()]"
   ]
  },
  {
   "cell_type": "markdown",
   "metadata": {},
   "source": [
    "<br></br>\n",
    "## [2.2 Similitudine](#2.2)"
   ]
  },
  {
   "cell_type": "markdown",
   "metadata": {},
   "source": [
    "<font size=3>\n",
    "    \n",
    "Una delle opzioni per raggruppare le parole è quella di valutare la similitudine fra tutti i nomi ottenuti. Il primo passaggio è quindi quello di creare una matrice quadrata mediante `dia_matrix` di `numpy` delle dimensioni del dizionario ottenuto precedentemente.\n",
    "<br></br>\n",
    "\n",
    "La ragione per cui è necessario utilizzare una matrice sparsa è per questioni di memoria. Nonostante ci sia abbastanza memoria RAM a disposizione per creare tale oggetto, che avrà $20187^2 = 407'514'969$ elementi, talvolta richiamare la funzione può portare ad un `MemoryError`. Una [soluzione proposta](https://stackoverflow.com/questions/48091050/how-shall-i-resolve-this-memory-error-in-numpy) è appunto quella di utilizzare una matrice sparsa che verrà poi trasformata in array mediante la funzione `toarray()` di `numpy`."
   ]
  },
  {
   "cell_type": "code",
   "execution_count": 23,
   "metadata": {},
   "outputs": [],
   "source": [
    "m = len(word_accepted)\n",
    "distances = dia_matrix((m , m)).toarray()"
   ]
  },
  {
   "cell_type": "markdown",
   "metadata": {},
   "source": [
    "<font size=3>\n",
    "    \n",
    "All'interno della libreria `WordNet` esistono più funzioni di similarità, come riportato nella [documentazione](https://www.nltk.org/howto/wordnet.html):\n",
    "* `path_similarity`: riporta la similarità di due parole in base alla loro tassonomia. Poiché le informazioni nella libreria sono strutturate mediante un grafo, è possibile effettuare dei percorsi fra le parole tenendo conto anche del livello di generalità che possiede una parola (ad esempio cane e animale).\n",
    "* `lch_similarity`: <b>Leacock-Chodorow Similarity</b> (LCH) è sostanzialmente la stessa funzione ma il risultato viene espresso in [forma logaritmica](http://www.gabormelli.com/RKB/Leacock_Chodorow_Similarity_Measure).\n",
    "* `wup_similarity`: <b>Wu-Palmer metric</b> (WUP) segue lo stesso ragionamento della similarità precedente, ma non usa il logaritmo e pesa i vertici del grafo in base alla loro gerarchia.\n",
    "<br></br>\n",
    "\n",
    "Ulteriori dettagli sulle similarità sono disponibili nella documentazione riportata e in [questa discussione](https://linguistics.stackexchange.com/questions/9084/what-do-wordnetsimilarity-scores-mean). <br></br>\n",
    "Si utilizzerà la Wu-Palmer metric in quanto restituisce valori nel range unitario ed è concorde con gli scopi del progetto."
   ]
  },
  {
   "cell_type": "markdown",
   "metadata": {},
   "source": [
    "<font size=3>\n",
    "    \n",
    "Per ogni nome di scorrono tutti i possibili nomi trovati e si calcola la similarità. Mediante gli indici si sostituisce l'elemento dell'array corrispondente con la similarità. Il contatore più interno, ad ogni iterazione di quello esterno, ne assume il suo valore: in questo modo la seconda riga della matrice partirà dal secondo elemento e così via andando a creare una matrice triangolare superiore (in realtà è ancora un array) per evitare di dover calcolare due volte una similarità."
   ]
  },
  {
   "cell_type": "code",
   "execution_count": 24,
   "metadata": {
    "scrolled": false
   },
   "outputs": [
    {
     "name": "stderr",
     "output_type": "stream",
     "text": [
      "100%|██████████████████████████████████████████████████████████████████████████| 20187/20187 [5:04:54<00:00,  1.10it/s]\n"
     ]
    }
   ],
   "source": [
    "cont = 0\n",
    "for i in tqdm(range(len(word_accepted_list))):\n",
    "    j = i\n",
    "    while j < len(word_accepted_list2):\n",
    "        distances[i, j] = round(word_accepted_list[i].wup_similarity(word_accepted_list2[j]), 3)\n",
    "        j = j + 1"
   ]
  },
  {
   "cell_type": "markdown",
   "metadata": {},
   "source": [
    "<font size=3>\n",
    "    \n",
    "Il calcolo della similarità richiede tempo e sfortunatamente non è possibile velocizzare il processo in alcun modo come era invece capitato con le librerie di Stanford.\n",
    "<br></br>\n",
    "\n",
    "L'array viene salvato come un oggetto `.npy` e potrà essere richiamato nella future operazioni."
   ]
  },
  {
   "cell_type": "code",
   "execution_count": 21,
   "metadata": {},
   "outputs": [],
   "source": [
    "#np.save('distances.npy', distances)\n",
    "\n",
    "distances = np.load(\"distances.npy\")"
   ]
  },
  {
   "cell_type": "markdown",
   "metadata": {},
   "source": [
    "<font size=3>\n",
    "    \n",
    "Una delle problematiche, oltre alle tempistiche, è il poter accedere alle corrispettive parole degli elementi dell'array di similarità. L'array di per sé contiene solamente i valori delle similarità, mentre le parole sono salvate in un dizionario a parte. Di default i dizionari su Python non sono ordinati, in successive operazioni si rischierebbe di mischiare l'ordine dei termini. Insieme all'array è stato quindi salvato un file `.txt` contenente i nomi.\n",
    "<br></br>\n",
    "\n",
    "Nel file sono state salvate solamente le parole e non elementi Synset. Non dovrebbero essere più necessari nei prossimi passaggi ma la ragione per cui non sono stati salvati è che i metodi usati in precedenza, `pickle`, e diverse alternative, fra cui il formato `.json`, non supportavano il salvataggio di questi elementi. L'unica soluzione era quella di aprire un file `.txt` in modalità append ad aggiungerci il contenuto del dizionario, ma in questo caso, una volta riletto, il contenuto sarebbe stato tutto testuale e non è possibile la conversione da stringa ad oggetto Synset."
   ]
  },
  {
   "cell_type": "code",
   "execution_count": 27,
   "metadata": {},
   "outputs": [],
   "source": [
    "\"\"\"\n",
    "with open(\"word_accepted_list.txt\", \"w\") as w:\n",
    "    for word in word_accepted.keys():\n",
    "        w.write(word + '\\n')\n",
    "\"\"\"\n",
    "\n",
    "words = []\n",
    "with open(\"word_accepted_list.txt\", \"r\") as w:\n",
    "    for word in w:\n",
    "        words.append(word.strip('\\n'))"
   ]
  },
  {
   "cell_type": "markdown",
   "metadata": {},
   "source": [
    "<font size=3>\n",
    "    \n",
    "Alcune coppie di termini hanno massima similarità, ciò significa che le parole possono essere considerate come dei sinonimi. Per il successivo step di clustering è ridondante tenere dei termini di cui ne esiste già una copia in un'altra parte dell'array. Per semplificare l'operazione di clustering, in queste righe di codice ad ogni termine viene associata una lista (i termini sono ricavati dal file `.txt` salvato in precedenza) in cui saranno inseriti i loro sinonimi. \n",
    "<br></br>\n",
    "\n",
    "Con un contatore di scorre per le colonne dell'array, ad ogni step si prende la parola corrispondente e per ognuna di esse di scorre su tutte le righe per trovare le celle fuori dalla diagonale principale con similarità massima. Nel caso si trovino degli elementi, le parole con i corrispondenti indici sono salvate in una lista. Il dizionario conterrà come chiavi tutte le parole dell'array e come valore una lista dei loro sinonimi."
   ]
  },
  {
   "cell_type": "code",
   "execution_count": 28,
   "metadata": {},
   "outputs": [
    {
     "name": "stderr",
     "output_type": "stream",
     "text": [
      "100%|███████████████████████████████████████████████████████████████████████████| 20187/20187 [02:02<00:00, 165.12it/s]\n"
     ]
    }
   ],
   "source": [
    "diz_similarity = {}\n",
    "for i in tqdm(range(distances.shape[0])):\n",
    "    target = words[i]\n",
    "    sim = []\n",
    "    for j in range(distances.shape[1]):\n",
    "        if distances[i, j] == 1 and (i != j):\n",
    "            sim.append(words[j])\n",
    "            \n",
    "    diz_similarity[target] = sim"
   ]
  },
  {
   "cell_type": "markdown",
   "metadata": {},
   "source": [
    "<font size=3>\n",
    "    \n",
    "Per filtrare i termini ridondanti sono state create due liste, una `primary_words` per la parole di riferimento e `filter_words` per le parole considerati sinonimi e quindi da scartare.\n",
    "Si scorre per le chiavi del dizionario e si controlla se la parola non sia già inserita nella lista dei sinonimi, in caso affermativo alla prima lista viene aggiunto un elemento nullo al posto della parola, in quanto serve che questa lista mantenga la stessa numerosità dell'array di similarità."
   ]
  },
  {
   "cell_type": "code",
   "execution_count": 29,
   "metadata": {},
   "outputs": [],
   "source": [
    "primary_words = []\n",
    "filter_words = []\n",
    "for word in diz_similarity.keys():\n",
    "    if (word not in primary_words) and (word not in filter_words):\n",
    "        primary_words.append(word)\n",
    "    else:\n",
    "        primary_words.append('')\n",
    "    \n",
    "    for w in diz_similarity[word]:\n",
    "        filter_words.append(w)"
   ]
  },
  {
   "cell_type": "markdown",
   "metadata": {},
   "source": [
    "<font size=3>\n",
    "\n",
    "Con un check si controllano quanti elementi nulli sono stati inseriti e se la funzione ha lavorato senza problemi, il numero di elementi nulli dovrebbe coincidere con il numero dei singoli sinonimi identificati."
   ]
  },
  {
   "cell_type": "code",
   "execution_count": 30,
   "metadata": {},
   "outputs": [
    {
     "name": "stdout",
     "output_type": "stream",
     "text": [
      "4159\n"
     ]
    },
    {
     "data": {
      "text/plain": [
       "True"
      ]
     },
     "execution_count": 30,
     "metadata": {},
     "output_type": "execute_result"
    }
   ],
   "source": [
    "removed = sum([1 for word in primary_words if word == ''])\n",
    "print(removed)\n",
    "removed == len(set(filter_words))"
   ]
  },
  {
   "cell_type": "markdown",
   "metadata": {},
   "source": [
    "<font size=3>\n",
    "    \n",
    "La posizione degli elementi nulli nella lista indica quali siano gli indici dell'array di similarità che dovranno essere rimossi. La funzione `enumerate` ritorna un contatore con il numero dell'iterazione corrente, questo contatore è messo come output in una list comprehension nel caso in cui nella lista delle parole si trovi un elemento nullo. In questo modo si ottiene una lista con tutti gli indici da eliminare.\n",
    "<br></br>\n",
    "\n",
    "A differenza di altri oggetti come un dataframe Pandas, in un array di numpy quando gli elementi sono eliminati gli indici scalano di conseguenza. Per questo motivo la rimozione deve essere fatta partendo dal fondo per non rimescolare gli indici dell'array. La funzione `reverse()` permette di girare tutto il contenuto di una lista, non è necessaria l'assegnazione ad un nuovo elemento. \n",
    "La funzione `delete` permette di rimuovere degli elementi all'interno di un array, con `axis` si definisce se si vogliono rimuovere righe o colonne. \n",
    "\n",
    "<br></br>\n",
    "Dalla lista di termini sono rimossi gli elementi in corrispondenza degli indici eliminati dall'array."
   ]
  },
  {
   "cell_type": "code",
   "execution_count": 31,
   "metadata": {},
   "outputs": [],
   "source": [
    "idx = [i for i, x in enumerate(primary_words) if x == '']\n",
    "idx.reverse()\n",
    "\n",
    "distances = np.delete(distances, (idx), axis=0)\n",
    "distances = np.delete(distances, (idx), axis=1)\n",
    "\n",
    "for i in idx:\n",
    "    del primary_words[i]"
   ]
  },
  {
   "cell_type": "markdown",
   "metadata": {},
   "source": [
    "<br></br>\n",
    "## [2.3 Clustering](#2.3)"
   ]
  },
  {
   "cell_type": "markdown",
   "metadata": {},
   "source": [
    "<br></br>\n",
    "### [2.3.1 Agglomerative Cluster](#2.3.1)"
   ]
  },
  {
   "cell_type": "markdown",
   "metadata": {},
   "source": [
    "<font size=3>\n",
    "    \n",
    "Una delle soluzioni per trovare dei gruppi di parole che rappresentino un concetto o un aspetto di una recensione è affidarsi alle tecniche di clustering, in particolare agli algoritmi di cluster gerarchici dovendo lavorare con una matrice di similarità."
   ]
  },
  {
   "cell_type": "markdown",
   "metadata": {},
   "source": [
    "<font size=3>\n",
    "    \n",
    "Iterando sul nuovo array si sostituiscono i valori nella parte diagonale inferiore prendendoli dalla parte opposta."
   ]
  },
  {
   "cell_type": "code",
   "execution_count": 32,
   "metadata": {
    "scrolled": true
   },
   "outputs": [
    {
     "name": "stderr",
     "output_type": "stream",
     "text": [
      "100%|███████████████████████████████████████████████████████████████████████████| 16028/16028 [00:56<00:00, 281.66it/s]\n"
     ]
    }
   ],
   "source": [
    "for i in tqdm(range(distances.shape[0])):\n",
    "    for j in range(distances.shape[1]):\n",
    "        if j < i:\n",
    "            distances[i, j] = distances[j, i]"
   ]
  },
  {
   "cell_type": "markdown",
   "metadata": {},
   "source": [
    "<font size=3>\n",
    "    \n",
    "La funzione clustering ha il compito di creare diversi modelli con un numero di cluster e metodo di aggiornamento variabile. Contemporaneamente per ogni modello sono calcolate tre diverse metriche di valutazione della bontà del raggruppamento.\n",
    "<br></br>\n",
    "\n",
    "La funzione `tnrange` ha lo stesso compito di `tqdm` (proviene dalla stessa libreria), ma premette di visualizzare più barre di progressione e permette anche di rinominarle in base allo scopo dell'iterazione. Per ogni metodo sono create delle liste vuote, per ogni modello sono salvate le metriche in una lista temporanea che sarà poi aggiunta alle liste esterne. L'output della funzione sono le liste con tutte le metriche per ogni modello.\n",
    "\n",
    "<br></br>\n",
    "La funzione per generare un modello di cluster gerarchico è `AgglomerativeClustering` dal pacchetto `sklearn`. Come dice il nome la funzione ha un approccio bottom-up in cui i tanti cluster all'inizio saranno progressivamente uniti fra di loro. Il parametro `affinity` indica la metrica utilizzata dalla matrice dei dati; la funzione ha già di default alcune metriche memorizzate, se si vuole utilizzarne una non in elenco, come in questo caso, il comando `precomputed` permette di inserire una matrice con una matrica a piacere. Il tipo di linkage e il numero di cluster variano in base all'iterazione e al numero di parametri passati in input alla funzione. "
   ]
  },
  {
   "cell_type": "code",
   "execution_count": 33,
   "metadata": {},
   "outputs": [],
   "source": [
    "def clustering(min_clust, max_clust, link_list, dist, silhouette_score, CH_score):\n",
    "    for l in tnrange(len(link_list), desc='Method'):\n",
    "        temp_sil, temp_CH = [[] for i in range(2)]\n",
    "        \n",
    "        for c in tnrange(min_clust, max_clust, desc=link_list[l]):\n",
    "            model = AgglomerativeClustering(affinity='precomputed', n_clusters=c, linkage=link_list[l]).fit(dist)\n",
    "            \n",
    "            temp_sil.append(sklearn.metrics.silhouette_score(dist, model.labels_, metric='precomputed'))\n",
    "            temp_CH.append(metrics.calinski_harabasz_score(dist, model.labels_))\n",
    "            \n",
    "        silhouette_score.append(temp_sil)\n",
    "        CH_score.append(temp_CH) \n",
    "        \n",
    "    return (silhouette_score, CH_score)"
   ]
  },
  {
   "cell_type": "markdown",
   "metadata": {},
   "source": [
    "<font size=3>\n",
    "    \n",
    "Come specificato nella [documentazione](https://scikit-learn.org/stable/modules/generated/sklearn.cluster.AgglomerativeClustering.html) della funzione e sottolineato in [questa risposta](https://stackoverflow.com/questions/47321133/sklearn-hierarchical-agglomerative-clustering-using-similarity-matrix), l'algoritmo accetta in input solamente una matrice delle distanze. Come primo passaggio di deve quindi passare da un array ad una matrice. Era stato generato un array in quanto potevano esserci dei problemi di memoria nella creazione dell'oggetto, ma sostanzialmente è sempre stato gestito come se fosse una matrice. Con il comando `matrix` di numpy si passa ad una matrice vera e propria.\n",
    "<br></br>\n",
    "\n",
    "Il secondo passaggio è la modifica della matrice di similarità in una matrice delle distanze. Ci sono diverse formule per passare da una all'altra, la più semplice ed intuitiva è quella di generare il complemento ad uno della matrice di similarità."
   ]
  },
  {
   "cell_type": "code",
   "execution_count": 34,
   "metadata": {},
   "outputs": [],
   "source": [
    "d_matrix = np.matrix(distances)\n",
    "d_matrix1 = 1 - d_matrix"
   ]
  },
  {
   "cell_type": "markdown",
   "metadata": {},
   "source": [
    "<font size=3>\n",
    "\n",
    "Ad ogni iterazione i due cluster più simili sono uniti generando un unico cluster, si prosegue in modo progressivo fino a quando non si giunge ad un unico cluster. L'algoritmo scegle automaticamente il numero di cluster migliore, altrimenti la selezione si può fare in modo manuale mostrando il dendrogramma e valutando il punto opportuno di stop. I cluster più simili sono definiti in base al `linkage` che è un metodo per valutare la distanza fra due cluster.\n",
    "I tipi di linkage scelti sono i tre disponibili per questo metodo (la quarta, quella di <b>Ward</b> è applicabile solo nel caso in cui si utilizzi la metrica euclidea):\n",
    "* `single`: la distanza fra due cluster è definita dalla distanza minima di due punti al loro interno.\n",
    "* `average`: la distanza è la media di tutte le distanze dei punti all'interno di un cluster con i punti di un altro cluster.\n",
    "* `complete`: la distanza fra due cluster è la massima fra una coppia di punti all'interno dei due."
   ]
  },
  {
   "cell_type": "code",
   "execution_count": 35,
   "metadata": {},
   "outputs": [
    {
     "data": {
      "application/vnd.jupyter.widget-view+json": {
       "model_id": "e238e5b683344d9f87f8e6dd84d04260",
       "version_major": 2,
       "version_minor": 0
      },
      "text/plain": [
       "HBox(children=(IntProgress(value=0, description='Method', max=3, style=ProgressStyle(description_width='initia…"
      ]
     },
     "metadata": {},
     "output_type": "display_data"
    },
    {
     "data": {
      "application/vnd.jupyter.widget-view+json": {
       "model_id": "05e3dbc2bd66408183dc62103b7dea6d",
       "version_major": 2,
       "version_minor": 0
      },
      "text/plain": [
       "HBox(children=(IntProgress(value=0, description='single', max=49, style=ProgressStyle(description_width='initi…"
      ]
     },
     "metadata": {},
     "output_type": "display_data"
    },
    {
     "name": "stdout",
     "output_type": "stream",
     "text": [
      "\n"
     ]
    },
    {
     "data": {
      "application/vnd.jupyter.widget-view+json": {
       "model_id": "070b7b090d7442708f6b0fea2315e740",
       "version_major": 2,
       "version_minor": 0
      },
      "text/plain": [
       "HBox(children=(IntProgress(value=0, description='average', max=49, style=ProgressStyle(description_width='init…"
      ]
     },
     "metadata": {},
     "output_type": "display_data"
    },
    {
     "name": "stdout",
     "output_type": "stream",
     "text": [
      "\n"
     ]
    },
    {
     "data": {
      "application/vnd.jupyter.widget-view+json": {
       "model_id": "6f8708cbc8b743d58621c47b094b2343",
       "version_major": 2,
       "version_minor": 0
      },
      "text/plain": [
       "HBox(children=(IntProgress(value=0, description='complete', max=49, style=ProgressStyle(description_width='ini…"
      ]
     },
     "metadata": {},
     "output_type": "display_data"
    },
    {
     "name": "stdout",
     "output_type": "stream",
     "text": [
      "\n",
      "\n"
     ]
    }
   ],
   "source": [
    "link = ['single', 'average', 'complete']\n",
    "silhouette_score, CH_score = [[] for i in range(2)]\n",
    "(silhouette, CH) = clustering(2, 51, link_list=link, dist=d_matrix1, \n",
    "                              silhouette_score=silhouette_score, CH_score=CH_score)"
   ]
  },
  {
   "cell_type": "markdown",
   "metadata": {},
   "source": [
    "<font size=3>\n",
    "    \n",
    "Le stesse operazioni sono state realizzate utilizzando una seconda matrice delle distanze utilizzando la similarità coseno. La [formula](https://stats.stackexchange.com/questions/36152/converting-similarity-matrix-to-euclidean-distance-matrix/36158#36158) per il passaggio da una matrice all'altra può variare a seconda se sia incluso o no un termine moltiplicativo; non avendo esigenze particolari è stato tenuto. Questa conversione dovrebbe essere più [precisa](https://stats.stackexchange.com/questions/12922/will-the-silhouette-formula-change-depending-on-the-distance-metric) della precedente. "
   ]
  },
  {
   "cell_type": "code",
   "execution_count": 36,
   "metadata": {},
   "outputs": [
    {
     "data": {
      "application/vnd.jupyter.widget-view+json": {
       "model_id": "cd181933ebf04ce697d1746e157f08d3",
       "version_major": 2,
       "version_minor": 0
      },
      "text/plain": [
       "HBox(children=(IntProgress(value=0, description='Method', max=3, style=ProgressStyle(description_width='initia…"
      ]
     },
     "metadata": {},
     "output_type": "display_data"
    },
    {
     "data": {
      "application/vnd.jupyter.widget-view+json": {
       "model_id": "b33cae7fc3364b87a155082319b68fbd",
       "version_major": 2,
       "version_minor": 0
      },
      "text/plain": [
       "HBox(children=(IntProgress(value=0, description='single', max=49, style=ProgressStyle(description_width='initi…"
      ]
     },
     "metadata": {},
     "output_type": "display_data"
    },
    {
     "name": "stdout",
     "output_type": "stream",
     "text": [
      "\n"
     ]
    },
    {
     "data": {
      "application/vnd.jupyter.widget-view+json": {
       "model_id": "53767638296f435282651304cc1a846f",
       "version_major": 2,
       "version_minor": 0
      },
      "text/plain": [
       "HBox(children=(IntProgress(value=0, description='average', max=49, style=ProgressStyle(description_width='init…"
      ]
     },
     "metadata": {},
     "output_type": "display_data"
    },
    {
     "name": "stdout",
     "output_type": "stream",
     "text": [
      "\n"
     ]
    },
    {
     "data": {
      "application/vnd.jupyter.widget-view+json": {
       "model_id": "4c2bb8a1c2a44d00bae1dd9175489473",
       "version_major": 2,
       "version_minor": 0
      },
      "text/plain": [
       "HBox(children=(IntProgress(value=0, description='complete', max=49, style=ProgressStyle(description_width='ini…"
      ]
     },
     "metadata": {},
     "output_type": "display_data"
    },
    {
     "name": "stdout",
     "output_type": "stream",
     "text": [
      "\n",
      "\n"
     ]
    }
   ],
   "source": [
    "d_matrix2 = np.sqrt(2 * (1 - d_matrix))\n",
    "\n",
    "silhouette_score2, CH_score2 = [[] for i in range(2)]\n",
    "(silhouette2, CH2) = clustering(2, 51, link_list=link, dist=d_matrix2,\n",
    "                                silhouette_score=silhouette_score2, CH_score=CH_score2)"
   ]
  },
  {
   "cell_type": "markdown",
   "metadata": {},
   "source": [
    "<font size=3>\n",
    "    \n",
    "Con funzione `plot_evaluation` si generano dei grafici che mostrano l'andamento delle metriche di qualità del clustering. Le opzioni `reset_output()` e `output_notebook()` sono legati alla libreria `bokeh` usata per creare i grafici e resettano le opzioni di deafult in quanto alcune volte i plot non sono visualizzati correttamente. Si inizializza l'oggetto che conterrà il grafico e il vettore con il numero di cluster che sarà posto sull'asse delle ascisse. I parametri della funzione sono:\n",
    "* `metric`: una lista di liste di una metrica ottenuta nell'algoritmo precedente. Ogni lista, corrispondente ad un metodo di linkage, è passata alla funzione `ColumnDataSource` che assegna questi valori sull'asse delle ordinate.\n",
    "* `pos_legend`: posizione della legenda.\n",
    "* `double`: è un parametro che di default è posto come `True`, in questo caso sono generati due grafici affiancati, nel caso in questione serve per mostrare il confronto della stessa metrica con due diverse matrici di distanza.\n",
    "\n",
    "Nel caso si vogliano ottenere due grafici, i primi tre parametri sono ripetuti in modo da poter inserire un nuovo vettore con della metrica di valutazione e le posizioni della seconda legenda.\n",
    "<br></br>\n",
    "\n",
    "Il grafico è creato con la funzione `multi_line` applicata alla figura di prima, si passano poi in input i parametri definiti alla riga precedente a cui si aggiunge la legenda con il comando omonimo e lo spessore delle linee.\n",
    "Nel caso si vogliano due grafici, lo stesso procedimento è ripetuto con la creazione di una seconda figura che è riempita con gli elementi dei parametri opzionali."
   ]
  },
  {
   "cell_type": "code",
   "execution_count": 37,
   "metadata": {},
   "outputs": [],
   "source": [
    "def plot_evaluation(c, metric, pos_legend, title, double=True, metric2='', pos_legend2='', title2=''):\n",
    "    reset_output()\n",
    "    output_notebook(hide_banner=True)\n",
    "    \n",
    "    p = figure(plot_width=450, plot_height=450)\n",
    "    p.title.text = title\n",
    "    p.title.align = \"center\"\n",
    "    p.title.text_font_size = \"25px\"\n",
    "    \n",
    "    multi_line_source = ColumnDataSource({'ys': [metric[0], metric[1], metric[2]], \n",
    "                                          'xs': [c, c, c],\n",
    "                                          'color': [\"red\", \"blue\", \"black\"],\n",
    "                                          'labels': [link[0], link[1], link[2]]\n",
    "                                         })\n",
    "    r = p.multi_line('xs', 'ys', color='color', source=multi_line_source, legend='labels', line_width=2)\n",
    "    p.legend.location = pos_legend\n",
    "    \n",
    "    \n",
    "    if double == True:\n",
    "        p2 = figure(plot_width=450, plot_height=450)\n",
    "        p2.title.text = title2\n",
    "        p2.title.align = \"center\"\n",
    "        p2.title.text_font_size = \"25px\"\n",
    "    \n",
    "        multi_line_source = ColumnDataSource({'ys': [metric2[0], metric2[1], metric2[2]], \n",
    "                                              'xs': [c, c, c],\n",
    "                                              'color': [\"red\", \"blue\", \"black\"],\n",
    "                                              'labels': [link[0], link[1], link[2]]\n",
    "                                             })\n",
    "        r = p2.multi_line('xs', 'ys', color='color', source=multi_line_source, legend='labels', line_width=2)\n",
    "        p2.legend.location = pos_legend2\n",
    "        show(row(p, p2))\n",
    "        \n",
    "    else:\n",
    "        show(p)"
   ]
  },
  {
   "cell_type": "markdown",
   "metadata": {},
   "source": [
    "<font size=3>\n",
    "\n",
    "L'<b>indice di silhouette</b> definisce quanto un'osservazione sia simile alle altre nel suo cluster (coesione) e differente dalle altre negli altri cluster (separazione). Per il calcolo dell'indice sono definite le seguenti quantità:\n",
    "* $a(i)$: è la distanza media della $i$-esima osservazione con rispetto a tutte le altre all'interno del suo cluster.\n",
    "* $b(i)$: è la distanza media minima della $i$-esima osservazione da tutte le osservazioni in un altro cluster.\n",
    "\n",
    "La differenza fra $b(i)$ e $a(i)$ diviso il valore massimo fra i due restituisce l'indice si silhouette di una osservazione; il valore complessivo dell'indice è dato dalla [media dei singoli indici di tutte le osservazioni](https://scikit-learn.org/stable/modules/generated/sklearn.metrics.silhouette_score.html).\n",
    "<br></br>\n",
    "\n",
    "L'indice varia fra un minimo di $-1$ fino ad un massimo di $1$. Nel caso la differenza $b(i) - a(i)$ sia negativa, allora un'osservazione è più vicina ad un altro cluster che il suo, dunque più il valore dell'indice si avvicina all'unità positiva, più la clusterizzazione ha buoni risultati."
   ]
  },
  {
   "cell_type": "code",
   "execution_count": 38,
   "metadata": {
    "scrolled": false
   },
   "outputs": [
    {
     "data": {
      "application/javascript": [
       "\n",
       "(function(root) {\n",
       "  function now() {\n",
       "    return new Date();\n",
       "  }\n",
       "\n",
       "  var force = true;\n",
       "\n",
       "  if (typeof root._bokeh_onload_callbacks === \"undefined\" || force === true) {\n",
       "    root._bokeh_onload_callbacks = [];\n",
       "    root._bokeh_is_loading = undefined;\n",
       "  }\n",
       "\n",
       "  var JS_MIME_TYPE = 'application/javascript';\n",
       "  var HTML_MIME_TYPE = 'text/html';\n",
       "  var EXEC_MIME_TYPE = 'application/vnd.bokehjs_exec.v0+json';\n",
       "  var CLASS_NAME = 'output_bokeh rendered_html';\n",
       "\n",
       "  /**\n",
       "   * Render data to the DOM node\n",
       "   */\n",
       "  function render(props, node) {\n",
       "    var script = document.createElement(\"script\");\n",
       "    node.appendChild(script);\n",
       "  }\n",
       "\n",
       "  /**\n",
       "   * Handle when an output is cleared or removed\n",
       "   */\n",
       "  function handleClearOutput(event, handle) {\n",
       "    var cell = handle.cell;\n",
       "\n",
       "    var id = cell.output_area._bokeh_element_id;\n",
       "    var server_id = cell.output_area._bokeh_server_id;\n",
       "    // Clean up Bokeh references\n",
       "    if (id != null && id in Bokeh.index) {\n",
       "      Bokeh.index[id].model.document.clear();\n",
       "      delete Bokeh.index[id];\n",
       "    }\n",
       "\n",
       "    if (server_id !== undefined) {\n",
       "      // Clean up Bokeh references\n",
       "      var cmd = \"from bokeh.io.state import curstate; print(curstate().uuid_to_server['\" + server_id + \"'].get_sessions()[0].document.roots[0]._id)\";\n",
       "      cell.notebook.kernel.execute(cmd, {\n",
       "        iopub: {\n",
       "          output: function(msg) {\n",
       "            var id = msg.content.text.trim();\n",
       "            if (id in Bokeh.index) {\n",
       "              Bokeh.index[id].model.document.clear();\n",
       "              delete Bokeh.index[id];\n",
       "            }\n",
       "          }\n",
       "        }\n",
       "      });\n",
       "      // Destroy server and session\n",
       "      var cmd = \"import bokeh.io.notebook as ion; ion.destroy_server('\" + server_id + \"')\";\n",
       "      cell.notebook.kernel.execute(cmd);\n",
       "    }\n",
       "  }\n",
       "\n",
       "  /**\n",
       "   * Handle when a new output is added\n",
       "   */\n",
       "  function handleAddOutput(event, handle) {\n",
       "    var output_area = handle.output_area;\n",
       "    var output = handle.output;\n",
       "\n",
       "    // limit handleAddOutput to display_data with EXEC_MIME_TYPE content only\n",
       "    if ((output.output_type != \"display_data\") || (!output.data.hasOwnProperty(EXEC_MIME_TYPE))) {\n",
       "      return\n",
       "    }\n",
       "\n",
       "    var toinsert = output_area.element.find(\".\" + CLASS_NAME.split(' ')[0]);\n",
       "\n",
       "    if (output.metadata[EXEC_MIME_TYPE][\"id\"] !== undefined) {\n",
       "      toinsert[toinsert.length - 1].firstChild.textContent = output.data[JS_MIME_TYPE];\n",
       "      // store reference to embed id on output_area\n",
       "      output_area._bokeh_element_id = output.metadata[EXEC_MIME_TYPE][\"id\"];\n",
       "    }\n",
       "    if (output.metadata[EXEC_MIME_TYPE][\"server_id\"] !== undefined) {\n",
       "      var bk_div = document.createElement(\"div\");\n",
       "      bk_div.innerHTML = output.data[HTML_MIME_TYPE];\n",
       "      var script_attrs = bk_div.children[0].attributes;\n",
       "      for (var i = 0; i < script_attrs.length; i++) {\n",
       "        toinsert[toinsert.length - 1].firstChild.setAttribute(script_attrs[i].name, script_attrs[i].value);\n",
       "      }\n",
       "      // store reference to server id on output_area\n",
       "      output_area._bokeh_server_id = output.metadata[EXEC_MIME_TYPE][\"server_id\"];\n",
       "    }\n",
       "  }\n",
       "\n",
       "  function register_renderer(events, OutputArea) {\n",
       "\n",
       "    function append_mime(data, metadata, element) {\n",
       "      // create a DOM node to render to\n",
       "      var toinsert = this.create_output_subarea(\n",
       "        metadata,\n",
       "        CLASS_NAME,\n",
       "        EXEC_MIME_TYPE\n",
       "      );\n",
       "      this.keyboard_manager.register_events(toinsert);\n",
       "      // Render to node\n",
       "      var props = {data: data, metadata: metadata[EXEC_MIME_TYPE]};\n",
       "      render(props, toinsert[toinsert.length - 1]);\n",
       "      element.append(toinsert);\n",
       "      return toinsert\n",
       "    }\n",
       "\n",
       "    /* Handle when an output is cleared or removed */\n",
       "    events.on('clear_output.CodeCell', handleClearOutput);\n",
       "    events.on('delete.Cell', handleClearOutput);\n",
       "\n",
       "    /* Handle when a new output is added */\n",
       "    events.on('output_added.OutputArea', handleAddOutput);\n",
       "\n",
       "    /**\n",
       "     * Register the mime type and append_mime function with output_area\n",
       "     */\n",
       "    OutputArea.prototype.register_mime_type(EXEC_MIME_TYPE, append_mime, {\n",
       "      /* Is output safe? */\n",
       "      safe: true,\n",
       "      /* Index of renderer in `output_area.display_order` */\n",
       "      index: 0\n",
       "    });\n",
       "  }\n",
       "\n",
       "  // register the mime type if in Jupyter Notebook environment and previously unregistered\n",
       "  if (root.Jupyter !== undefined) {\n",
       "    var events = require('base/js/events');\n",
       "    var OutputArea = require('notebook/js/outputarea').OutputArea;\n",
       "\n",
       "    if (OutputArea.prototype.mime_types().indexOf(EXEC_MIME_TYPE) == -1) {\n",
       "      register_renderer(events, OutputArea);\n",
       "    }\n",
       "  }\n",
       "\n",
       "  \n",
       "  if (typeof (root._bokeh_timeout) === \"undefined\" || force === true) {\n",
       "    root._bokeh_timeout = Date.now() + 5000;\n",
       "    root._bokeh_failed_load = false;\n",
       "  }\n",
       "\n",
       "  var NB_LOAD_WARNING = {'data': {'text/html':\n",
       "     \"<div style='background-color: #fdd'>\\n\"+\n",
       "     \"<p>\\n\"+\n",
       "     \"BokehJS does not appear to have successfully loaded. If loading BokehJS from CDN, this \\n\"+\n",
       "     \"may be due to a slow or bad network connection. Possible fixes:\\n\"+\n",
       "     \"</p>\\n\"+\n",
       "     \"<ul>\\n\"+\n",
       "     \"<li>re-rerun `output_notebook()` to attempt to load from CDN again, or</li>\\n\"+\n",
       "     \"<li>use INLINE resources instead, as so:</li>\\n\"+\n",
       "     \"</ul>\\n\"+\n",
       "     \"<code>\\n\"+\n",
       "     \"from bokeh.resources import INLINE\\n\"+\n",
       "     \"output_notebook(resources=INLINE)\\n\"+\n",
       "     \"</code>\\n\"+\n",
       "     \"</div>\"}};\n",
       "\n",
       "  function display_loaded() {\n",
       "    var el = document.getElementById(null);\n",
       "    if (el != null) {\n",
       "      el.textContent = \"BokehJS is loading...\";\n",
       "    }\n",
       "    if (root.Bokeh !== undefined) {\n",
       "      if (el != null) {\n",
       "        el.textContent = \"BokehJS \" + root.Bokeh.version + \" successfully loaded.\";\n",
       "      }\n",
       "    } else if (Date.now() < root._bokeh_timeout) {\n",
       "      setTimeout(display_loaded, 100)\n",
       "    }\n",
       "  }\n",
       "\n",
       "\n",
       "  function run_callbacks() {\n",
       "    try {\n",
       "      root._bokeh_onload_callbacks.forEach(function(callback) {\n",
       "        if (callback != null)\n",
       "          callback();\n",
       "      });\n",
       "    } finally {\n",
       "      delete root._bokeh_onload_callbacks\n",
       "    }\n",
       "    console.debug(\"Bokeh: all callbacks have finished\");\n",
       "  }\n",
       "\n",
       "  function load_libs(css_urls, js_urls, callback) {\n",
       "    if (css_urls == null) css_urls = [];\n",
       "    if (js_urls == null) js_urls = [];\n",
       "\n",
       "    root._bokeh_onload_callbacks.push(callback);\n",
       "    if (root._bokeh_is_loading > 0) {\n",
       "      console.debug(\"Bokeh: BokehJS is being loaded, scheduling callback at\", now());\n",
       "      return null;\n",
       "    }\n",
       "    if (js_urls == null || js_urls.length === 0) {\n",
       "      run_callbacks();\n",
       "      return null;\n",
       "    }\n",
       "    console.debug(\"Bokeh: BokehJS not loaded, scheduling load and callback at\", now());\n",
       "    root._bokeh_is_loading = css_urls.length + js_urls.length;\n",
       "\n",
       "    function on_load() {\n",
       "      root._bokeh_is_loading--;\n",
       "      if (root._bokeh_is_loading === 0) {\n",
       "        console.debug(\"Bokeh: all BokehJS libraries/stylesheets loaded\");\n",
       "        run_callbacks()\n",
       "      }\n",
       "    }\n",
       "\n",
       "    function on_error() {\n",
       "      console.error(\"failed to load \" + url);\n",
       "    }\n",
       "\n",
       "    for (var i = 0; i < css_urls.length; i++) {\n",
       "      var url = css_urls[i];\n",
       "      const element = document.createElement(\"link\");\n",
       "      element.onload = on_load;\n",
       "      element.onerror = on_error;\n",
       "      element.rel = \"stylesheet\";\n",
       "      element.type = \"text/css\";\n",
       "      element.href = url;\n",
       "      console.debug(\"Bokeh: injecting link tag for BokehJS stylesheet: \", url);\n",
       "      document.body.appendChild(element);\n",
       "    }\n",
       "\n",
       "    for (var i = 0; i < js_urls.length; i++) {\n",
       "      var url = js_urls[i];\n",
       "      var element = document.createElement('script');\n",
       "      element.onload = on_load;\n",
       "      element.onerror = on_error;\n",
       "      element.async = false;\n",
       "      element.src = url;\n",
       "      console.debug(\"Bokeh: injecting script tag for BokehJS library: \", url);\n",
       "      document.head.appendChild(element);\n",
       "    }\n",
       "  };\n",
       "\n",
       "  function inject_raw_css(css) {\n",
       "    const element = document.createElement(\"style\");\n",
       "    element.appendChild(document.createTextNode(css));\n",
       "    document.body.appendChild(element);\n",
       "  }\n",
       "\n",
       "  var js_urls = [\"https://cdn.pydata.org/bokeh/release/bokeh-1.3.4.min.js\", \"https://cdn.pydata.org/bokeh/release/bokeh-widgets-1.3.4.min.js\", \"https://cdn.pydata.org/bokeh/release/bokeh-tables-1.3.4.min.js\", \"https://cdn.pydata.org/bokeh/release/bokeh-gl-1.3.4.min.js\"];\n",
       "  var css_urls = [];\n",
       "\n",
       "  var inline_js = [\n",
       "    function(Bokeh) {\n",
       "      Bokeh.set_log_level(\"info\");\n",
       "    },\n",
       "    \n",
       "    function(Bokeh) {\n",
       "      \n",
       "    },\n",
       "    function(Bokeh) {} // ensure no trailing comma for IE\n",
       "  ];\n",
       "\n",
       "  function run_inline_js() {\n",
       "    \n",
       "    if ((root.Bokeh !== undefined) || (force === true)) {\n",
       "      for (var i = 0; i < inline_js.length; i++) {\n",
       "        inline_js[i].call(root, root.Bokeh);\n",
       "      }} else if (Date.now() < root._bokeh_timeout) {\n",
       "      setTimeout(run_inline_js, 100);\n",
       "    } else if (!root._bokeh_failed_load) {\n",
       "      console.log(\"Bokeh: BokehJS failed to load within specified timeout.\");\n",
       "      root._bokeh_failed_load = true;\n",
       "    } else if (force !== true) {\n",
       "      var cell = $(document.getElementById(null)).parents('.cell').data().cell;\n",
       "      cell.output_area.append_execute_result(NB_LOAD_WARNING)\n",
       "    }\n",
       "\n",
       "  }\n",
       "\n",
       "  if (root._bokeh_is_loading === 0) {\n",
       "    console.debug(\"Bokeh: BokehJS loaded, going straight to plotting\");\n",
       "    run_inline_js();\n",
       "  } else {\n",
       "    load_libs(css_urls, js_urls, function() {\n",
       "      console.debug(\"Bokeh: BokehJS plotting callback run at\", now());\n",
       "      run_inline_js();\n",
       "    });\n",
       "  }\n",
       "}(window));"
      ],
      "application/vnd.bokehjs_load.v0+json": "\n(function(root) {\n  function now() {\n    return new Date();\n  }\n\n  var force = true;\n\n  if (typeof root._bokeh_onload_callbacks === \"undefined\" || force === true) {\n    root._bokeh_onload_callbacks = [];\n    root._bokeh_is_loading = undefined;\n  }\n\n  \n\n  \n  if (typeof (root._bokeh_timeout) === \"undefined\" || force === true) {\n    root._bokeh_timeout = Date.now() + 5000;\n    root._bokeh_failed_load = false;\n  }\n\n  var NB_LOAD_WARNING = {'data': {'text/html':\n     \"<div style='background-color: #fdd'>\\n\"+\n     \"<p>\\n\"+\n     \"BokehJS does not appear to have successfully loaded. If loading BokehJS from CDN, this \\n\"+\n     \"may be due to a slow or bad network connection. Possible fixes:\\n\"+\n     \"</p>\\n\"+\n     \"<ul>\\n\"+\n     \"<li>re-rerun `output_notebook()` to attempt to load from CDN again, or</li>\\n\"+\n     \"<li>use INLINE resources instead, as so:</li>\\n\"+\n     \"</ul>\\n\"+\n     \"<code>\\n\"+\n     \"from bokeh.resources import INLINE\\n\"+\n     \"output_notebook(resources=INLINE)\\n\"+\n     \"</code>\\n\"+\n     \"</div>\"}};\n\n  function display_loaded() {\n    var el = document.getElementById(null);\n    if (el != null) {\n      el.textContent = \"BokehJS is loading...\";\n    }\n    if (root.Bokeh !== undefined) {\n      if (el != null) {\n        el.textContent = \"BokehJS \" + root.Bokeh.version + \" successfully loaded.\";\n      }\n    } else if (Date.now() < root._bokeh_timeout) {\n      setTimeout(display_loaded, 100)\n    }\n  }\n\n\n  function run_callbacks() {\n    try {\n      root._bokeh_onload_callbacks.forEach(function(callback) {\n        if (callback != null)\n          callback();\n      });\n    } finally {\n      delete root._bokeh_onload_callbacks\n    }\n    console.debug(\"Bokeh: all callbacks have finished\");\n  }\n\n  function load_libs(css_urls, js_urls, callback) {\n    if (css_urls == null) css_urls = [];\n    if (js_urls == null) js_urls = [];\n\n    root._bokeh_onload_callbacks.push(callback);\n    if (root._bokeh_is_loading > 0) {\n      console.debug(\"Bokeh: BokehJS is being loaded, scheduling callback at\", now());\n      return null;\n    }\n    if (js_urls == null || js_urls.length === 0) {\n      run_callbacks();\n      return null;\n    }\n    console.debug(\"Bokeh: BokehJS not loaded, scheduling load and callback at\", now());\n    root._bokeh_is_loading = css_urls.length + js_urls.length;\n\n    function on_load() {\n      root._bokeh_is_loading--;\n      if (root._bokeh_is_loading === 0) {\n        console.debug(\"Bokeh: all BokehJS libraries/stylesheets loaded\");\n        run_callbacks()\n      }\n    }\n\n    function on_error() {\n      console.error(\"failed to load \" + url);\n    }\n\n    for (var i = 0; i < css_urls.length; i++) {\n      var url = css_urls[i];\n      const element = document.createElement(\"link\");\n      element.onload = on_load;\n      element.onerror = on_error;\n      element.rel = \"stylesheet\";\n      element.type = \"text/css\";\n      element.href = url;\n      console.debug(\"Bokeh: injecting link tag for BokehJS stylesheet: \", url);\n      document.body.appendChild(element);\n    }\n\n    for (var i = 0; i < js_urls.length; i++) {\n      var url = js_urls[i];\n      var element = document.createElement('script');\n      element.onload = on_load;\n      element.onerror = on_error;\n      element.async = false;\n      element.src = url;\n      console.debug(\"Bokeh: injecting script tag for BokehJS library: \", url);\n      document.head.appendChild(element);\n    }\n  };\n\n  function inject_raw_css(css) {\n    const element = document.createElement(\"style\");\n    element.appendChild(document.createTextNode(css));\n    document.body.appendChild(element);\n  }\n\n  var js_urls = [\"https://cdn.pydata.org/bokeh/release/bokeh-1.3.4.min.js\", \"https://cdn.pydata.org/bokeh/release/bokeh-widgets-1.3.4.min.js\", \"https://cdn.pydata.org/bokeh/release/bokeh-tables-1.3.4.min.js\", \"https://cdn.pydata.org/bokeh/release/bokeh-gl-1.3.4.min.js\"];\n  var css_urls = [];\n\n  var inline_js = [\n    function(Bokeh) {\n      Bokeh.set_log_level(\"info\");\n    },\n    \n    function(Bokeh) {\n      \n    },\n    function(Bokeh) {} // ensure no trailing comma for IE\n  ];\n\n  function run_inline_js() {\n    \n    if ((root.Bokeh !== undefined) || (force === true)) {\n      for (var i = 0; i < inline_js.length; i++) {\n        inline_js[i].call(root, root.Bokeh);\n      }} else if (Date.now() < root._bokeh_timeout) {\n      setTimeout(run_inline_js, 100);\n    } else if (!root._bokeh_failed_load) {\n      console.log(\"Bokeh: BokehJS failed to load within specified timeout.\");\n      root._bokeh_failed_load = true;\n    } else if (force !== true) {\n      var cell = $(document.getElementById(null)).parents('.cell').data().cell;\n      cell.output_area.append_execute_result(NB_LOAD_WARNING)\n    }\n\n  }\n\n  if (root._bokeh_is_loading === 0) {\n    console.debug(\"Bokeh: BokehJS loaded, going straight to plotting\");\n    run_inline_js();\n  } else {\n    load_libs(css_urls, js_urls, function() {\n      console.debug(\"Bokeh: BokehJS plotting callback run at\", now());\n      run_inline_js();\n    });\n  }\n}(window));"
     },
     "metadata": {},
     "output_type": "display_data"
    },
    {
     "data": {
      "text/html": [
       "\n",
       "\n",
       "\n",
       "\n",
       "\n",
       "\n",
       "  <div class=\"bk-root\" id=\"4e7e6829-0762-4881-b1bc-5ad368d9c5ab\" data-root-id=\"1101\"></div>\n"
      ]
     },
     "metadata": {},
     "output_type": "display_data"
    },
    {
     "data": {
      "application/javascript": [
       "(function(root) {\n",
       "  function embed_document(root) {\n",
       "    \n",
       "  var docs_json = {\"f5251b6e-611c-4918-b6fa-aa57b9e865b4\":{\"roots\":{\"references\":[{\"attributes\":{\"children\":[{\"id\":\"1001\",\"subtype\":\"Figure\",\"type\":\"Plot\"},{\"id\":\"1051\",\"subtype\":\"Figure\",\"type\":\"Plot\"}]},\"id\":\"1101\",\"type\":\"Row\"},{\"attributes\":{\"callback\":null,\"data\":{\"color\":[\"red\",\"blue\",\"black\"],\"labels\":[\"single\",\"average\",\"complete\"],\"xs\":[[2,3,4,5,6,7,8,9,10,11,12,13,14,15,16,17,18,19,20,21,22,23,24,25,26,27,28,29,30,31,32,33,34,35,36,37,38,39,40,41,42,43,44,45,46,47,48,49,50],[2,3,4,5,6,7,8,9,10,11,12,13,14,15,16,17,18,19,20,21,22,23,24,25,26,27,28,29,30,31,32,33,34,35,36,37,38,39,40,41,42,43,44,45,46,47,48,49,50],[2,3,4,5,6,7,8,9,10,11,12,13,14,15,16,17,18,19,20,21,22,23,24,25,26,27,28,29,30,31,32,33,34,35,36,37,38,39,40,41,42,43,44,45,46,47,48,49,50]],\"ys\":[[0.04464316118575502,0.01801524002066004,-0.01948653785909256,-0.02392918840771504,-0.02522263598288357,-0.02788690974681043,-0.028288495144655965,-0.028213983975428642,-0.03181003294132477,-0.046717150605953266,-0.0963758445979497,-0.09637219866587486,-0.10089744613637139,-0.10219304228988106,-0.10496627023634893,-0.10679041082199775,-0.10694192533214449,-0.10706464495391725,-0.10732892543721984,-0.10602043727941236,-0.10705375171078654,-0.1076617668121625,-0.10759732008503055,-0.10885708883887885,-0.10874913705925784,-0.10833642254831471,-0.10835907608321803,-0.10887411316778424,-0.109334720228053,-0.1092603728007871,-0.10908128753276265,-0.12569817967137678,-0.1296191874217734,-0.12938639316872308,-0.13070365529690867,-0.13058225806383136,-0.13048809771874642,-0.13017987612026488,-0.1295812362220052,-0.12864119946392352,-0.12845123060830874,-0.12831158520844477,-0.12803152263653095,-0.12815665646866503,-0.1281180545465978,-0.13147463467812304,-0.15013497654536398,-0.15004996249866384,-0.14982659604720325],[0.1349776541602595,0.09903119021690636,0.10790236408211719,0.12165743314922542,0.123119043144994,0.12572558270540513,0.13358332584864635,0.13952447897469478,0.14388490741913218,0.14484230473079313,0.1463342436080249,0.13600906919472566,0.1346876985226443,0.1350954456672206,0.13117752690990095,0.12285902463151022,0.13327985783945487,0.1331065677785498,0.12895093288000636,0.12734850830606717,0.12886477303640742,0.129460886773254,0.12975359343983334,0.12949143822995035,0.13117698555464946,0.13198661735864134,0.13155312881469727,0.13186276975828812,0.13258416366756412,0.13319620221854964,0.13314574024938333,0.1354942173456946,0.13497086241692796,0.13418633900327517,0.1362394209593392,0.13675124294068003,0.13376697657597314,0.12431414004805358,0.12418056125313884,0.12415072781570746,0.12624578574149337,0.12218650370990046,0.12251811659937353,0.12276455507527444,0.12380172680949478,0.1237842266228626,0.12576333214629004,0.12569869312237741,0.1255648464741753],[0.14191900900861704,0.11978244389259397,0.10004412100378879,0.09701499336974242,0.11405443931067931,0.1282964933004719,0.1332622608138069,0.13548227677453292,0.14084939596661314,0.1436905892774665,0.13251212131323725,0.1133635146976155,0.11459264469116677,0.1149371998972125,0.1092978016599826,0.10186425616330637,0.1207989563772201,0.12268226098735104,0.12158744956819555,0.11935124380002861,0.11907654896515564,0.11970702126934318,0.11948272521232095,0.12013871108903075,0.12050137726201542,0.12120480062558243,0.12115884460280389,0.122327215523238,0.1224257586556948,0.12067675459164916,0.12194062653771073,0.12162113567982087,0.12190176596094207,0.12305194508491687,0.12313372204563713,0.12249212141904676,0.12450200399181542,0.1268309767080461,0.12706475440787934,0.12521565008997523,0.1270446078338185,0.12676893387979046,0.12455957006199653,0.12566050943485269,0.12616889695420216,0.12578824291831028,0.12609146052380568,0.12348511773680157,0.11581775422858413]]},\"selected\":{\"id\":\"1118\",\"type\":\"Selection\"},\"selection_policy\":{\"id\":\"1119\",\"type\":\"UnionRenderers\"}},\"id\":\"1086\",\"type\":\"ColumnDataSource\"},{\"attributes\":{\"align\":\"center\",\"text\":\"Silhouette index \\ncosine_sim\",\"text_font_size\":{\"value\":\"25px\"}},\"id\":\"1083\",\"type\":\"Title\"},{\"attributes\":{},\"id\":\"1023\",\"type\":\"SaveTool\"},{\"attributes\":{\"source\":{\"id\":\"1036\",\"type\":\"ColumnDataSource\"}},\"id\":\"1041\",\"type\":\"CDSView\"},{\"attributes\":{},\"id\":\"1115\",\"type\":\"Selection\"},{\"attributes\":{},\"id\":\"1006\",\"type\":\"LinearScale\"},{\"attributes\":{},\"id\":\"1044\",\"type\":\"BasicTickFormatter\"},{\"attributes\":{},\"id\":\"1021\",\"type\":\"WheelZoomTool\"},{\"attributes\":{},\"id\":\"1024\",\"type\":\"ResetTool\"},{\"attributes\":{\"overlay\":{\"id\":\"1048\",\"type\":\"BoxAnnotation\"}},\"id\":\"1022\",\"type\":\"BoxZoomTool\"},{\"attributes\":{\"callback\":null,\"data\":{\"color\":[\"red\",\"blue\",\"black\"],\"labels\":[\"single\",\"average\",\"complete\"],\"xs\":[[2,3,4,5,6,7,8,9,10,11,12,13,14,15,16,17,18,19,20,21,22,23,24,25,26,27,28,29,30,31,32,33,34,35,36,37,38,39,40,41,42,43,44,45,46,47,48,49,50],[2,3,4,5,6,7,8,9,10,11,12,13,14,15,16,17,18,19,20,21,22,23,24,25,26,27,28,29,30,31,32,33,34,35,36,37,38,39,40,41,42,43,44,45,46,47,48,49,50],[2,3,4,5,6,7,8,9,10,11,12,13,14,15,16,17,18,19,20,21,22,23,24,25,26,27,28,29,30,31,32,33,34,35,36,37,38,39,40,41,42,43,44,45,46,47,48,49,50]],\"ys\":[[0.07674451326787672,0.02487734207150401,-0.04653373345297468,-0.05486485444138812,-0.057116776031405934,-0.0617667610105201,-0.06241129532646889,-0.06228195339615563,-0.068755885511191,-0.09427688066645121,-0.18960719006527393,-0.1895721581814852,-0.19781104512539258,-0.1999689951446323,-0.20485279576802445,-0.2079006580919423,-0.20811964246661224,-0.20833713059440306,-0.20876164967154195,-0.20655714663322178,-0.20833484362194296,-0.20929941175686514,-0.20918669289756733,-0.21114246981341409,-0.21095905706894882,-0.2102572339374761,-0.2102980419949786,-0.21110832159022203,-0.21180232813144606,-0.21166312476179402,-0.2113538548521783,-0.24052807860521555,-0.24672128657017864,-0.24632483312613188,-0.24845218212164571,-0.24825525730283635,-0.2480930592386616,-0.24757097941933318,-0.24650573800332576,-0.24486755696049786,-0.24455058564094223,-0.2443121493109427,-0.2438306460850211,-0.24401814113370576,-0.243963307842129,-0.24931944640870066,-0.28054287062800726,-0.2804072020083221,-0.2800613384000824],[0.24197631934638378,0.1781048609165205,0.19479120834949687,0.2185481465909197,0.22098595392386733,0.22545530282847395,0.23937084770493727,0.25006846760678053,0.25780534692987606,0.26011504206985053,0.263005757163954,0.24465740941155353,0.24231180512563635,0.24293430797890986,0.23582986270402478,0.2354723647379293,0.22079198220734694,0.23981499614370658,0.2322273595782563,0.23481002089477343,0.23630408506868208,0.23727865361828632,0.23780689572802827,0.2363679566344831,0.23597208427472693,0.23728093349958043,0.2363935525030239,0.23688276604393155,0.23810332602023765,0.2391150614803853,0.23897054809836424,0.24321950993481217,0.2422931247826314,0.24087472228539422,0.24453773252711342,0.24546705889825648,0.22619333801603306,0.2239021453012069,0.22361838152015673,0.22335131229804042,0.22718570589711323,0.2197745340333075,0.22032355997916128,0.22078493510457284,0.22255119827049458,0.2225090016705083,0.22597975833550374,0.22569734115644552,0.22557704579253865],[0.25468822052277634,0.21726689301562035,0.18102877276428836,0.1748003626643022,0.20500239871481424,0.23097713340973483,0.23986232249394,0.24378032056627483,0.25336198519883624,0.2581081396837318,0.2382101030936606,0.20312413682486397,0.2055840621490784,0.20614868539769943,0.1959445199842319,0.18291287516442442,0.2185319717999764,0.22174947069549192,0.21982266426442298,0.2155714893668713,0.21486600195845534,0.21588726934842187,0.21563141530558808,0.21670199520681255,0.2173368245125512,0.21859439519157675,0.2184001480589691,0.22052741003711454,0.22058130387241323,0.21765666948769105,0.21973547438450516,0.21892801776128856,0.21932371997832198,0.22136011655305396,0.22149456790239513,0.22042159768187744,0.22394758237472334,0.2282567555212917,0.22866193597071338,0.2254022664312628,0.22858759627767206,0.22808060785984882,0.22430619202828267,0.2261916193744037,0.2270372894846442,0.22630025060377906,0.22676703392068712,0.22207248615402894,0.20829390919443827]]},\"selected\":{\"id\":\"1115\",\"type\":\"Selection\"},\"selection_policy\":{\"id\":\"1116\",\"type\":\"UnionRenderers\"}},\"id\":\"1036\",\"type\":\"ColumnDataSource\"},{\"attributes\":{},\"id\":\"1074\",\"type\":\"ResetTool\"},{\"attributes\":{},\"id\":\"1116\",\"type\":\"UnionRenderers\"},{\"attributes\":{\"items\":[{\"id\":\"1050\",\"type\":\"LegendItem\"}],\"location\":\"center_right\"},\"id\":\"1049\",\"type\":\"Legend\"},{\"attributes\":{},\"id\":\"1071\",\"type\":\"WheelZoomTool\"},{\"attributes\":{\"line_alpha\":{\"value\":0.1},\"line_color\":{\"value\":\"#1f77b4\"},\"line_width\":{\"value\":2},\"xs\":{\"field\":\"xs\"},\"ys\":{\"field\":\"ys\"}},\"id\":\"1089\",\"type\":\"MultiLine\"},{\"attributes\":{},\"id\":\"1119\",\"type\":\"UnionRenderers\"},{\"attributes\":{\"data_source\":{\"id\":\"1036\",\"type\":\"ColumnDataSource\"},\"glyph\":{\"id\":\"1038\",\"type\":\"MultiLine\"},\"hover_glyph\":null,\"muted_glyph\":null,\"nonselection_glyph\":{\"id\":\"1039\",\"type\":\"MultiLine\"},\"selection_glyph\":null,\"view\":{\"id\":\"1041\",\"type\":\"CDSView\"}},\"id\":\"1040\",\"type\":\"GlyphRenderer\"},{\"attributes\":{},\"id\":\"1075\",\"type\":\"HelpTool\"},{\"attributes\":{},\"id\":\"1118\",\"type\":\"Selection\"},{\"attributes\":{\"ticker\":{\"id\":\"1061\",\"type\":\"BasicTicker\"}},\"id\":\"1064\",\"type\":\"Grid\"},{\"attributes\":{},\"id\":\"1058\",\"type\":\"LinearScale\"},{\"attributes\":{},\"id\":\"1011\",\"type\":\"BasicTicker\"},{\"attributes\":{},\"id\":\"1025\",\"type\":\"HelpTool\"},{\"attributes\":{\"line_color\":{\"field\":\"color\"},\"line_width\":{\"value\":2},\"xs\":{\"field\":\"xs\"},\"ys\":{\"field\":\"ys\"}},\"id\":\"1038\",\"type\":\"MultiLine\"},{\"attributes\":{},\"id\":\"1073\",\"type\":\"SaveTool\"},{\"attributes\":{\"callback\":null},\"id\":\"1002\",\"type\":\"DataRange1d\"},{\"attributes\":{\"formatter\":{\"id\":\"1096\",\"type\":\"BasicTickFormatter\"},\"ticker\":{\"id\":\"1066\",\"type\":\"BasicTicker\"}},\"id\":\"1065\",\"type\":\"LinearAxis\"},{\"attributes\":{\"bottom_units\":\"screen\",\"fill_alpha\":{\"value\":0.5},\"fill_color\":{\"value\":\"lightgrey\"},\"left_units\":\"screen\",\"level\":\"overlay\",\"line_alpha\":{\"value\":1.0},\"line_color\":{\"value\":\"black\"},\"line_dash\":[4,4],\"line_width\":{\"value\":2},\"render_mode\":\"css\",\"right_units\":\"screen\",\"top_units\":\"screen\"},\"id\":\"1048\",\"type\":\"BoxAnnotation\"},{\"attributes\":{},\"id\":\"1070\",\"type\":\"PanTool\"},{\"attributes\":{\"active_drag\":\"auto\",\"active_inspect\":\"auto\",\"active_multi\":null,\"active_scroll\":\"auto\",\"active_tap\":\"auto\",\"tools\":[{\"id\":\"1020\",\"type\":\"PanTool\"},{\"id\":\"1021\",\"type\":\"WheelZoomTool\"},{\"id\":\"1022\",\"type\":\"BoxZoomTool\"},{\"id\":\"1023\",\"type\":\"SaveTool\"},{\"id\":\"1024\",\"type\":\"ResetTool\"},{\"id\":\"1025\",\"type\":\"HelpTool\"}]},\"id\":\"1026\",\"type\":\"Toolbar\"},{\"attributes\":{\"data_source\":{\"id\":\"1086\",\"type\":\"ColumnDataSource\"},\"glyph\":{\"id\":\"1088\",\"type\":\"MultiLine\"},\"hover_glyph\":null,\"muted_glyph\":null,\"nonselection_glyph\":{\"id\":\"1089\",\"type\":\"MultiLine\"},\"selection_glyph\":null,\"view\":{\"id\":\"1091\",\"type\":\"CDSView\"}},\"id\":\"1090\",\"type\":\"GlyphRenderer\"},{\"attributes\":{\"line_alpha\":{\"value\":0.1},\"line_color\":{\"value\":\"#1f77b4\"},\"line_width\":{\"value\":2},\"xs\":{\"field\":\"xs\"},\"ys\":{\"field\":\"ys\"}},\"id\":\"1039\",\"type\":\"MultiLine\"},{\"attributes\":{\"label\":{\"field\":\"labels\"},\"renderers\":[{\"id\":\"1040\",\"type\":\"GlyphRenderer\"}]},\"id\":\"1050\",\"type\":\"LegendItem\"},{\"attributes\":{\"line_color\":{\"field\":\"color\"},\"line_width\":{\"value\":2},\"xs\":{\"field\":\"xs\"},\"ys\":{\"field\":\"ys\"}},\"id\":\"1088\",\"type\":\"MultiLine\"},{\"attributes\":{},\"id\":\"1046\",\"type\":\"BasicTickFormatter\"},{\"attributes\":{},\"id\":\"1094\",\"type\":\"BasicTickFormatter\"},{\"attributes\":{\"below\":[{\"id\":\"1010\",\"type\":\"LinearAxis\"}],\"center\":[{\"id\":\"1014\",\"type\":\"Grid\"},{\"id\":\"1019\",\"type\":\"Grid\"},{\"id\":\"1049\",\"type\":\"Legend\"}],\"left\":[{\"id\":\"1015\",\"type\":\"LinearAxis\"}],\"plot_height\":450,\"plot_width\":450,\"renderers\":[{\"id\":\"1040\",\"type\":\"GlyphRenderer\"}],\"title\":{\"id\":\"1033\",\"type\":\"Title\"},\"toolbar\":{\"id\":\"1026\",\"type\":\"Toolbar\"},\"x_range\":{\"id\":\"1002\",\"type\":\"DataRange1d\"},\"x_scale\":{\"id\":\"1006\",\"type\":\"LinearScale\"},\"y_range\":{\"id\":\"1004\",\"type\":\"DataRange1d\"},\"y_scale\":{\"id\":\"1008\",\"type\":\"LinearScale\"}},\"id\":\"1001\",\"subtype\":\"Figure\",\"type\":\"Plot\"},{\"attributes\":{\"label\":{\"field\":\"labels\"},\"renderers\":[{\"id\":\"1090\",\"type\":\"GlyphRenderer\"}]},\"id\":\"1100\",\"type\":\"LegendItem\"},{\"attributes\":{\"ticker\":{\"id\":\"1011\",\"type\":\"BasicTicker\"}},\"id\":\"1014\",\"type\":\"Grid\"},{\"attributes\":{},\"id\":\"1008\",\"type\":\"LinearScale\"},{\"attributes\":{\"active_drag\":\"auto\",\"active_inspect\":\"auto\",\"active_multi\":null,\"active_scroll\":\"auto\",\"active_tap\":\"auto\",\"tools\":[{\"id\":\"1070\",\"type\":\"PanTool\"},{\"id\":\"1071\",\"type\":\"WheelZoomTool\"},{\"id\":\"1072\",\"type\":\"BoxZoomTool\"},{\"id\":\"1073\",\"type\":\"SaveTool\"},{\"id\":\"1074\",\"type\":\"ResetTool\"},{\"id\":\"1075\",\"type\":\"HelpTool\"}]},\"id\":\"1076\",\"type\":\"Toolbar\"},{\"attributes\":{\"source\":{\"id\":\"1086\",\"type\":\"ColumnDataSource\"}},\"id\":\"1091\",\"type\":\"CDSView\"},{\"attributes\":{\"formatter\":{\"id\":\"1094\",\"type\":\"BasicTickFormatter\"},\"ticker\":{\"id\":\"1061\",\"type\":\"BasicTicker\"}},\"id\":\"1060\",\"type\":\"LinearAxis\"},{\"attributes\":{},\"id\":\"1096\",\"type\":\"BasicTickFormatter\"},{\"attributes\":{\"items\":[{\"id\":\"1100\",\"type\":\"LegendItem\"}],\"location\":\"center_right\"},\"id\":\"1099\",\"type\":\"Legend\"},{\"attributes\":{},\"id\":\"1016\",\"type\":\"BasicTicker\"},{\"attributes\":{\"callback\":null},\"id\":\"1004\",\"type\":\"DataRange1d\"},{\"attributes\":{},\"id\":\"1066\",\"type\":\"BasicTicker\"},{\"attributes\":{\"bottom_units\":\"screen\",\"fill_alpha\":{\"value\":0.5},\"fill_color\":{\"value\":\"lightgrey\"},\"left_units\":\"screen\",\"level\":\"overlay\",\"line_alpha\":{\"value\":1.0},\"line_color\":{\"value\":\"black\"},\"line_dash\":[4,4],\"line_width\":{\"value\":2},\"render_mode\":\"css\",\"right_units\":\"screen\",\"top_units\":\"screen\"},\"id\":\"1098\",\"type\":\"BoxAnnotation\"},{\"attributes\":{\"callback\":null},\"id\":\"1054\",\"type\":\"DataRange1d\"},{\"attributes\":{\"below\":[{\"id\":\"1060\",\"type\":\"LinearAxis\"}],\"center\":[{\"id\":\"1064\",\"type\":\"Grid\"},{\"id\":\"1069\",\"type\":\"Grid\"},{\"id\":\"1099\",\"type\":\"Legend\"}],\"left\":[{\"id\":\"1065\",\"type\":\"LinearAxis\"}],\"plot_height\":450,\"plot_width\":450,\"renderers\":[{\"id\":\"1090\",\"type\":\"GlyphRenderer\"}],\"title\":{\"id\":\"1083\",\"type\":\"Title\"},\"toolbar\":{\"id\":\"1076\",\"type\":\"Toolbar\"},\"x_range\":{\"id\":\"1052\",\"type\":\"DataRange1d\"},\"x_scale\":{\"id\":\"1056\",\"type\":\"LinearScale\"},\"y_range\":{\"id\":\"1054\",\"type\":\"DataRange1d\"},\"y_scale\":{\"id\":\"1058\",\"type\":\"LinearScale\"}},\"id\":\"1051\",\"subtype\":\"Figure\",\"type\":\"Plot\"},{\"attributes\":{\"overlay\":{\"id\":\"1098\",\"type\":\"BoxAnnotation\"}},\"id\":\"1072\",\"type\":\"BoxZoomTool\"},{\"attributes\":{\"formatter\":{\"id\":\"1044\",\"type\":\"BasicTickFormatter\"},\"ticker\":{\"id\":\"1011\",\"type\":\"BasicTicker\"}},\"id\":\"1010\",\"type\":\"LinearAxis\"},{\"attributes\":{\"dimension\":1,\"ticker\":{\"id\":\"1016\",\"type\":\"BasicTicker\"}},\"id\":\"1019\",\"type\":\"Grid\"},{\"attributes\":{\"callback\":null},\"id\":\"1052\",\"type\":\"DataRange1d\"},{\"attributes\":{},\"id\":\"1020\",\"type\":\"PanTool\"},{\"attributes\":{},\"id\":\"1056\",\"type\":\"LinearScale\"},{\"attributes\":{\"dimension\":1,\"ticker\":{\"id\":\"1066\",\"type\":\"BasicTicker\"}},\"id\":\"1069\",\"type\":\"Grid\"},{\"attributes\":{},\"id\":\"1061\",\"type\":\"BasicTicker\"},{\"attributes\":{\"formatter\":{\"id\":\"1046\",\"type\":\"BasicTickFormatter\"},\"ticker\":{\"id\":\"1016\",\"type\":\"BasicTicker\"}},\"id\":\"1015\",\"type\":\"LinearAxis\"},{\"attributes\":{\"align\":\"center\",\"text\":\"Silhouette index \\n1-sim\",\"text_font_size\":{\"value\":\"25px\"}},\"id\":\"1033\",\"type\":\"Title\"}],\"root_ids\":[\"1101\"]},\"title\":\"Bokeh Application\",\"version\":\"1.3.4\"}};\n",
       "  var render_items = [{\"docid\":\"f5251b6e-611c-4918-b6fa-aa57b9e865b4\",\"roots\":{\"1101\":\"4e7e6829-0762-4881-b1bc-5ad368d9c5ab\"}}];\n",
       "  root.Bokeh.embed.embed_items_notebook(docs_json, render_items);\n",
       "\n",
       "  }\n",
       "  if (root.Bokeh !== undefined) {\n",
       "    embed_document(root);\n",
       "  } else {\n",
       "    var attempts = 0;\n",
       "    var timer = setInterval(function(root) {\n",
       "      if (root.Bokeh !== undefined) {\n",
       "        embed_document(root);\n",
       "        clearInterval(timer);\n",
       "      }\n",
       "      attempts++;\n",
       "      if (attempts > 100) {\n",
       "        console.log(\"Bokeh: ERROR: Unable to run BokehJS code because BokehJS library is missing\");\n",
       "        clearInterval(timer);\n",
       "      }\n",
       "    }, 10, root)\n",
       "  }\n",
       "})(window);"
      ],
      "application/vnd.bokehjs_exec.v0+json": ""
     },
     "metadata": {
      "application/vnd.bokehjs_exec.v0+json": {
       "id": "1101"
      }
     },
     "output_type": "display_data"
    }
   ],
   "source": [
    "c = [i for i in range(2, 51)]\n",
    "plot_evaluation(title=\"Silhouette index \\n1-sim\", metric=silhouette, pos_legend='center_right', c=c,\n",
    "                title2=\"Silhouette index \\ncosine_sim\", metric2=silhouette2, pos_legend2='center_right')"
   ]
  },
  {
   "cell_type": "markdown",
   "metadata": {},
   "source": [
    "<font size=3>\n",
    "    \n",
    "Il linkage <i>single</i> è noto in letteratura per non essere molto performante e lo dimostra anche in questa situazione con i valori più bassi per ogni numero di cluster. Solitamente fra <i>average</i> e </i>complete</i> si preferisce il primo anche se non dovrebbe esserci una differenza sostanziale. In questo caso non si hanno anomalie e le due metriche sono all'incirca sugli stessi valori per tutti i numeri di cluster creati, in certi punti le linee si intrecciano. \n",
    "<br></br>\n",
    "\n",
    "I due grafici sembrano identici e le uniche differenze fra le matrici di distanza utilizzate si notano a livello micro. Nel complesso il linkage <i>average</i> pare il migliore, i valori massimi si raggiungono all'inizio e intorno a $12$ cluster. In generale tutti i valori non sono eccezionali. Bisogna anche sottolineare come nel grafico a destra i valori sugli assi siano leggermente diversi da quello a sinistra: nonostante le linee abbiano un'altezza simile, i cluster con la prima matrice sono più definiti in quanto i valori superano lo $0.2$ cosa che non accade con la seconda matrice.\n",
    "<br></br><br></br>\n"
   ]
  },
  {
   "cell_type": "markdown",
   "metadata": {},
   "source": [
    "<font size=3>\n",
    "    \n",
    "<br></br>\n",
    "L'<b>indice di Calinski-Harabasz</b> segue una logica simile per stimare la bontà di clusterizzazione. La [formula per calcolare l'indice](https://ethen8181.github.io/machine-learning/clustering_old/clustering/clustering.html) è: $$\\frac{SS_b}{SS_w} \\times \\frac{N-k}{k-1}$$\n",
    "I termini rappresentano:\n",
    "* $SS_b$: la varianza <i>between</i> ovvero quella fra i diversi cluster, più è elevata, più i cluster identificati sono dissimili fra di loro.\n",
    "* $SS_w$: la varianza <i>within</i>, la varianza all'interno dei cluster, più è bassa, più le osservazioni raggruppate sono simili.\n",
    "* $N$: il numero di osservazioni.\n",
    "* $k$: il numero di cluster.\n",
    "\n",
    "La seconda quantità è interpretabile come uno smoothing, ovvero aggiusta l'indice in base al numero di osservazioni e di cluster trovari, mentre la prima definisce il verso in cui si hanno buone performance. Più il valore della varianza fra gruppi è alto, migliore sarà la clusterizzazione, più invece la varianza nei gruppi è elevata, peggiori saranno i risultati. Lavorando con delle varianze, l'indice ha un valore minimo nullo e un massimo che tende ad infinito."
   ]
  },
  {
   "cell_type": "code",
   "execution_count": 39,
   "metadata": {
    "scrolled": false
   },
   "outputs": [
    {
     "data": {
      "application/javascript": [
       "\n",
       "(function(root) {\n",
       "  function now() {\n",
       "    return new Date();\n",
       "  }\n",
       "\n",
       "  var force = true;\n",
       "\n",
       "  if (typeof root._bokeh_onload_callbacks === \"undefined\" || force === true) {\n",
       "    root._bokeh_onload_callbacks = [];\n",
       "    root._bokeh_is_loading = undefined;\n",
       "  }\n",
       "\n",
       "  var JS_MIME_TYPE = 'application/javascript';\n",
       "  var HTML_MIME_TYPE = 'text/html';\n",
       "  var EXEC_MIME_TYPE = 'application/vnd.bokehjs_exec.v0+json';\n",
       "  var CLASS_NAME = 'output_bokeh rendered_html';\n",
       "\n",
       "  /**\n",
       "   * Render data to the DOM node\n",
       "   */\n",
       "  function render(props, node) {\n",
       "    var script = document.createElement(\"script\");\n",
       "    node.appendChild(script);\n",
       "  }\n",
       "\n",
       "  /**\n",
       "   * Handle when an output is cleared or removed\n",
       "   */\n",
       "  function handleClearOutput(event, handle) {\n",
       "    var cell = handle.cell;\n",
       "\n",
       "    var id = cell.output_area._bokeh_element_id;\n",
       "    var server_id = cell.output_area._bokeh_server_id;\n",
       "    // Clean up Bokeh references\n",
       "    if (id != null && id in Bokeh.index) {\n",
       "      Bokeh.index[id].model.document.clear();\n",
       "      delete Bokeh.index[id];\n",
       "    }\n",
       "\n",
       "    if (server_id !== undefined) {\n",
       "      // Clean up Bokeh references\n",
       "      var cmd = \"from bokeh.io.state import curstate; print(curstate().uuid_to_server['\" + server_id + \"'].get_sessions()[0].document.roots[0]._id)\";\n",
       "      cell.notebook.kernel.execute(cmd, {\n",
       "        iopub: {\n",
       "          output: function(msg) {\n",
       "            var id = msg.content.text.trim();\n",
       "            if (id in Bokeh.index) {\n",
       "              Bokeh.index[id].model.document.clear();\n",
       "              delete Bokeh.index[id];\n",
       "            }\n",
       "          }\n",
       "        }\n",
       "      });\n",
       "      // Destroy server and session\n",
       "      var cmd = \"import bokeh.io.notebook as ion; ion.destroy_server('\" + server_id + \"')\";\n",
       "      cell.notebook.kernel.execute(cmd);\n",
       "    }\n",
       "  }\n",
       "\n",
       "  /**\n",
       "   * Handle when a new output is added\n",
       "   */\n",
       "  function handleAddOutput(event, handle) {\n",
       "    var output_area = handle.output_area;\n",
       "    var output = handle.output;\n",
       "\n",
       "    // limit handleAddOutput to display_data with EXEC_MIME_TYPE content only\n",
       "    if ((output.output_type != \"display_data\") || (!output.data.hasOwnProperty(EXEC_MIME_TYPE))) {\n",
       "      return\n",
       "    }\n",
       "\n",
       "    var toinsert = output_area.element.find(\".\" + CLASS_NAME.split(' ')[0]);\n",
       "\n",
       "    if (output.metadata[EXEC_MIME_TYPE][\"id\"] !== undefined) {\n",
       "      toinsert[toinsert.length - 1].firstChild.textContent = output.data[JS_MIME_TYPE];\n",
       "      // store reference to embed id on output_area\n",
       "      output_area._bokeh_element_id = output.metadata[EXEC_MIME_TYPE][\"id\"];\n",
       "    }\n",
       "    if (output.metadata[EXEC_MIME_TYPE][\"server_id\"] !== undefined) {\n",
       "      var bk_div = document.createElement(\"div\");\n",
       "      bk_div.innerHTML = output.data[HTML_MIME_TYPE];\n",
       "      var script_attrs = bk_div.children[0].attributes;\n",
       "      for (var i = 0; i < script_attrs.length; i++) {\n",
       "        toinsert[toinsert.length - 1].firstChild.setAttribute(script_attrs[i].name, script_attrs[i].value);\n",
       "      }\n",
       "      // store reference to server id on output_area\n",
       "      output_area._bokeh_server_id = output.metadata[EXEC_MIME_TYPE][\"server_id\"];\n",
       "    }\n",
       "  }\n",
       "\n",
       "  function register_renderer(events, OutputArea) {\n",
       "\n",
       "    function append_mime(data, metadata, element) {\n",
       "      // create a DOM node to render to\n",
       "      var toinsert = this.create_output_subarea(\n",
       "        metadata,\n",
       "        CLASS_NAME,\n",
       "        EXEC_MIME_TYPE\n",
       "      );\n",
       "      this.keyboard_manager.register_events(toinsert);\n",
       "      // Render to node\n",
       "      var props = {data: data, metadata: metadata[EXEC_MIME_TYPE]};\n",
       "      render(props, toinsert[toinsert.length - 1]);\n",
       "      element.append(toinsert);\n",
       "      return toinsert\n",
       "    }\n",
       "\n",
       "    /* Handle when an output is cleared or removed */\n",
       "    events.on('clear_output.CodeCell', handleClearOutput);\n",
       "    events.on('delete.Cell', handleClearOutput);\n",
       "\n",
       "    /* Handle when a new output is added */\n",
       "    events.on('output_added.OutputArea', handleAddOutput);\n",
       "\n",
       "    /**\n",
       "     * Register the mime type and append_mime function with output_area\n",
       "     */\n",
       "    OutputArea.prototype.register_mime_type(EXEC_MIME_TYPE, append_mime, {\n",
       "      /* Is output safe? */\n",
       "      safe: true,\n",
       "      /* Index of renderer in `output_area.display_order` */\n",
       "      index: 0\n",
       "    });\n",
       "  }\n",
       "\n",
       "  // register the mime type if in Jupyter Notebook environment and previously unregistered\n",
       "  if (root.Jupyter !== undefined) {\n",
       "    var events = require('base/js/events');\n",
       "    var OutputArea = require('notebook/js/outputarea').OutputArea;\n",
       "\n",
       "    if (OutputArea.prototype.mime_types().indexOf(EXEC_MIME_TYPE) == -1) {\n",
       "      register_renderer(events, OutputArea);\n",
       "    }\n",
       "  }\n",
       "\n",
       "  \n",
       "  if (typeof (root._bokeh_timeout) === \"undefined\" || force === true) {\n",
       "    root._bokeh_timeout = Date.now() + 5000;\n",
       "    root._bokeh_failed_load = false;\n",
       "  }\n",
       "\n",
       "  var NB_LOAD_WARNING = {'data': {'text/html':\n",
       "     \"<div style='background-color: #fdd'>\\n\"+\n",
       "     \"<p>\\n\"+\n",
       "     \"BokehJS does not appear to have successfully loaded. If loading BokehJS from CDN, this \\n\"+\n",
       "     \"may be due to a slow or bad network connection. Possible fixes:\\n\"+\n",
       "     \"</p>\\n\"+\n",
       "     \"<ul>\\n\"+\n",
       "     \"<li>re-rerun `output_notebook()` to attempt to load from CDN again, or</li>\\n\"+\n",
       "     \"<li>use INLINE resources instead, as so:</li>\\n\"+\n",
       "     \"</ul>\\n\"+\n",
       "     \"<code>\\n\"+\n",
       "     \"from bokeh.resources import INLINE\\n\"+\n",
       "     \"output_notebook(resources=INLINE)\\n\"+\n",
       "     \"</code>\\n\"+\n",
       "     \"</div>\"}};\n",
       "\n",
       "  function display_loaded() {\n",
       "    var el = document.getElementById(null);\n",
       "    if (el != null) {\n",
       "      el.textContent = \"BokehJS is loading...\";\n",
       "    }\n",
       "    if (root.Bokeh !== undefined) {\n",
       "      if (el != null) {\n",
       "        el.textContent = \"BokehJS \" + root.Bokeh.version + \" successfully loaded.\";\n",
       "      }\n",
       "    } else if (Date.now() < root._bokeh_timeout) {\n",
       "      setTimeout(display_loaded, 100)\n",
       "    }\n",
       "  }\n",
       "\n",
       "\n",
       "  function run_callbacks() {\n",
       "    try {\n",
       "      root._bokeh_onload_callbacks.forEach(function(callback) {\n",
       "        if (callback != null)\n",
       "          callback();\n",
       "      });\n",
       "    } finally {\n",
       "      delete root._bokeh_onload_callbacks\n",
       "    }\n",
       "    console.debug(\"Bokeh: all callbacks have finished\");\n",
       "  }\n",
       "\n",
       "  function load_libs(css_urls, js_urls, callback) {\n",
       "    if (css_urls == null) css_urls = [];\n",
       "    if (js_urls == null) js_urls = [];\n",
       "\n",
       "    root._bokeh_onload_callbacks.push(callback);\n",
       "    if (root._bokeh_is_loading > 0) {\n",
       "      console.debug(\"Bokeh: BokehJS is being loaded, scheduling callback at\", now());\n",
       "      return null;\n",
       "    }\n",
       "    if (js_urls == null || js_urls.length === 0) {\n",
       "      run_callbacks();\n",
       "      return null;\n",
       "    }\n",
       "    console.debug(\"Bokeh: BokehJS not loaded, scheduling load and callback at\", now());\n",
       "    root._bokeh_is_loading = css_urls.length + js_urls.length;\n",
       "\n",
       "    function on_load() {\n",
       "      root._bokeh_is_loading--;\n",
       "      if (root._bokeh_is_loading === 0) {\n",
       "        console.debug(\"Bokeh: all BokehJS libraries/stylesheets loaded\");\n",
       "        run_callbacks()\n",
       "      }\n",
       "    }\n",
       "\n",
       "    function on_error() {\n",
       "      console.error(\"failed to load \" + url);\n",
       "    }\n",
       "\n",
       "    for (var i = 0; i < css_urls.length; i++) {\n",
       "      var url = css_urls[i];\n",
       "      const element = document.createElement(\"link\");\n",
       "      element.onload = on_load;\n",
       "      element.onerror = on_error;\n",
       "      element.rel = \"stylesheet\";\n",
       "      element.type = \"text/css\";\n",
       "      element.href = url;\n",
       "      console.debug(\"Bokeh: injecting link tag for BokehJS stylesheet: \", url);\n",
       "      document.body.appendChild(element);\n",
       "    }\n",
       "\n",
       "    for (var i = 0; i < js_urls.length; i++) {\n",
       "      var url = js_urls[i];\n",
       "      var element = document.createElement('script');\n",
       "      element.onload = on_load;\n",
       "      element.onerror = on_error;\n",
       "      element.async = false;\n",
       "      element.src = url;\n",
       "      console.debug(\"Bokeh: injecting script tag for BokehJS library: \", url);\n",
       "      document.head.appendChild(element);\n",
       "    }\n",
       "  };\n",
       "\n",
       "  function inject_raw_css(css) {\n",
       "    const element = document.createElement(\"style\");\n",
       "    element.appendChild(document.createTextNode(css));\n",
       "    document.body.appendChild(element);\n",
       "  }\n",
       "\n",
       "  var js_urls = [\"https://cdn.pydata.org/bokeh/release/bokeh-1.3.4.min.js\", \"https://cdn.pydata.org/bokeh/release/bokeh-widgets-1.3.4.min.js\", \"https://cdn.pydata.org/bokeh/release/bokeh-tables-1.3.4.min.js\", \"https://cdn.pydata.org/bokeh/release/bokeh-gl-1.3.4.min.js\"];\n",
       "  var css_urls = [];\n",
       "\n",
       "  var inline_js = [\n",
       "    function(Bokeh) {\n",
       "      Bokeh.set_log_level(\"info\");\n",
       "    },\n",
       "    \n",
       "    function(Bokeh) {\n",
       "      \n",
       "    },\n",
       "    function(Bokeh) {} // ensure no trailing comma for IE\n",
       "  ];\n",
       "\n",
       "  function run_inline_js() {\n",
       "    \n",
       "    if ((root.Bokeh !== undefined) || (force === true)) {\n",
       "      for (var i = 0; i < inline_js.length; i++) {\n",
       "        inline_js[i].call(root, root.Bokeh);\n",
       "      }} else if (Date.now() < root._bokeh_timeout) {\n",
       "      setTimeout(run_inline_js, 100);\n",
       "    } else if (!root._bokeh_failed_load) {\n",
       "      console.log(\"Bokeh: BokehJS failed to load within specified timeout.\");\n",
       "      root._bokeh_failed_load = true;\n",
       "    } else if (force !== true) {\n",
       "      var cell = $(document.getElementById(null)).parents('.cell').data().cell;\n",
       "      cell.output_area.append_execute_result(NB_LOAD_WARNING)\n",
       "    }\n",
       "\n",
       "  }\n",
       "\n",
       "  if (root._bokeh_is_loading === 0) {\n",
       "    console.debug(\"Bokeh: BokehJS loaded, going straight to plotting\");\n",
       "    run_inline_js();\n",
       "  } else {\n",
       "    load_libs(css_urls, js_urls, function() {\n",
       "      console.debug(\"Bokeh: BokehJS plotting callback run at\", now());\n",
       "      run_inline_js();\n",
       "    });\n",
       "  }\n",
       "}(window));"
      ],
      "application/vnd.bokehjs_load.v0+json": "\n(function(root) {\n  function now() {\n    return new Date();\n  }\n\n  var force = true;\n\n  if (typeof root._bokeh_onload_callbacks === \"undefined\" || force === true) {\n    root._bokeh_onload_callbacks = [];\n    root._bokeh_is_loading = undefined;\n  }\n\n  \n\n  \n  if (typeof (root._bokeh_timeout) === \"undefined\" || force === true) {\n    root._bokeh_timeout = Date.now() + 5000;\n    root._bokeh_failed_load = false;\n  }\n\n  var NB_LOAD_WARNING = {'data': {'text/html':\n     \"<div style='background-color: #fdd'>\\n\"+\n     \"<p>\\n\"+\n     \"BokehJS does not appear to have successfully loaded. If loading BokehJS from CDN, this \\n\"+\n     \"may be due to a slow or bad network connection. Possible fixes:\\n\"+\n     \"</p>\\n\"+\n     \"<ul>\\n\"+\n     \"<li>re-rerun `output_notebook()` to attempt to load from CDN again, or</li>\\n\"+\n     \"<li>use INLINE resources instead, as so:</li>\\n\"+\n     \"</ul>\\n\"+\n     \"<code>\\n\"+\n     \"from bokeh.resources import INLINE\\n\"+\n     \"output_notebook(resources=INLINE)\\n\"+\n     \"</code>\\n\"+\n     \"</div>\"}};\n\n  function display_loaded() {\n    var el = document.getElementById(null);\n    if (el != null) {\n      el.textContent = \"BokehJS is loading...\";\n    }\n    if (root.Bokeh !== undefined) {\n      if (el != null) {\n        el.textContent = \"BokehJS \" + root.Bokeh.version + \" successfully loaded.\";\n      }\n    } else if (Date.now() < root._bokeh_timeout) {\n      setTimeout(display_loaded, 100)\n    }\n  }\n\n\n  function run_callbacks() {\n    try {\n      root._bokeh_onload_callbacks.forEach(function(callback) {\n        if (callback != null)\n          callback();\n      });\n    } finally {\n      delete root._bokeh_onload_callbacks\n    }\n    console.debug(\"Bokeh: all callbacks have finished\");\n  }\n\n  function load_libs(css_urls, js_urls, callback) {\n    if (css_urls == null) css_urls = [];\n    if (js_urls == null) js_urls = [];\n\n    root._bokeh_onload_callbacks.push(callback);\n    if (root._bokeh_is_loading > 0) {\n      console.debug(\"Bokeh: BokehJS is being loaded, scheduling callback at\", now());\n      return null;\n    }\n    if (js_urls == null || js_urls.length === 0) {\n      run_callbacks();\n      return null;\n    }\n    console.debug(\"Bokeh: BokehJS not loaded, scheduling load and callback at\", now());\n    root._bokeh_is_loading = css_urls.length + js_urls.length;\n\n    function on_load() {\n      root._bokeh_is_loading--;\n      if (root._bokeh_is_loading === 0) {\n        console.debug(\"Bokeh: all BokehJS libraries/stylesheets loaded\");\n        run_callbacks()\n      }\n    }\n\n    function on_error() {\n      console.error(\"failed to load \" + url);\n    }\n\n    for (var i = 0; i < css_urls.length; i++) {\n      var url = css_urls[i];\n      const element = document.createElement(\"link\");\n      element.onload = on_load;\n      element.onerror = on_error;\n      element.rel = \"stylesheet\";\n      element.type = \"text/css\";\n      element.href = url;\n      console.debug(\"Bokeh: injecting link tag for BokehJS stylesheet: \", url);\n      document.body.appendChild(element);\n    }\n\n    for (var i = 0; i < js_urls.length; i++) {\n      var url = js_urls[i];\n      var element = document.createElement('script');\n      element.onload = on_load;\n      element.onerror = on_error;\n      element.async = false;\n      element.src = url;\n      console.debug(\"Bokeh: injecting script tag for BokehJS library: \", url);\n      document.head.appendChild(element);\n    }\n  };\n\n  function inject_raw_css(css) {\n    const element = document.createElement(\"style\");\n    element.appendChild(document.createTextNode(css));\n    document.body.appendChild(element);\n  }\n\n  var js_urls = [\"https://cdn.pydata.org/bokeh/release/bokeh-1.3.4.min.js\", \"https://cdn.pydata.org/bokeh/release/bokeh-widgets-1.3.4.min.js\", \"https://cdn.pydata.org/bokeh/release/bokeh-tables-1.3.4.min.js\", \"https://cdn.pydata.org/bokeh/release/bokeh-gl-1.3.4.min.js\"];\n  var css_urls = [];\n\n  var inline_js = [\n    function(Bokeh) {\n      Bokeh.set_log_level(\"info\");\n    },\n    \n    function(Bokeh) {\n      \n    },\n    function(Bokeh) {} // ensure no trailing comma for IE\n  ];\n\n  function run_inline_js() {\n    \n    if ((root.Bokeh !== undefined) || (force === true)) {\n      for (var i = 0; i < inline_js.length; i++) {\n        inline_js[i].call(root, root.Bokeh);\n      }} else if (Date.now() < root._bokeh_timeout) {\n      setTimeout(run_inline_js, 100);\n    } else if (!root._bokeh_failed_load) {\n      console.log(\"Bokeh: BokehJS failed to load within specified timeout.\");\n      root._bokeh_failed_load = true;\n    } else if (force !== true) {\n      var cell = $(document.getElementById(null)).parents('.cell').data().cell;\n      cell.output_area.append_execute_result(NB_LOAD_WARNING)\n    }\n\n  }\n\n  if (root._bokeh_is_loading === 0) {\n    console.debug(\"Bokeh: BokehJS loaded, going straight to plotting\");\n    run_inline_js();\n  } else {\n    load_libs(css_urls, js_urls, function() {\n      console.debug(\"Bokeh: BokehJS plotting callback run at\", now());\n      run_inline_js();\n    });\n  }\n}(window));"
     },
     "metadata": {},
     "output_type": "display_data"
    },
    {
     "data": {
      "text/html": [
       "\n",
       "\n",
       "\n",
       "\n",
       "\n",
       "\n",
       "  <div class=\"bk-root\" id=\"864ce28a-e142-43a5-a234-305bcbd159c3\" data-root-id=\"1328\"></div>\n"
      ]
     },
     "metadata": {},
     "output_type": "display_data"
    },
    {
     "data": {
      "application/javascript": [
       "(function(root) {\n",
       "  function embed_document(root) {\n",
       "    \n",
       "  var docs_json = {\"2059076f-3e62-467e-b3f0-fb79b3d3228c\":{\"roots\":{\"references\":[{\"attributes\":{\"children\":[{\"id\":\"1228\",\"subtype\":\"Figure\",\"type\":\"Plot\"},{\"id\":\"1278\",\"subtype\":\"Figure\",\"type\":\"Plot\"}]},\"id\":\"1328\",\"type\":\"Row\"},{\"attributes\":{},\"id\":\"1252\",\"type\":\"HelpTool\"},{\"attributes\":{\"overlay\":{\"id\":\"1325\",\"type\":\"BoxAnnotation\"}},\"id\":\"1299\",\"type\":\"BoxZoomTool\"},{\"attributes\":{\"callback\":null},\"id\":\"1231\",\"type\":\"DataRange1d\"},{\"attributes\":{\"active_drag\":\"auto\",\"active_inspect\":\"auto\",\"active_multi\":null,\"active_scroll\":\"auto\",\"active_tap\":\"auto\",\"tools\":[{\"id\":\"1297\",\"type\":\"PanTool\"},{\"id\":\"1298\",\"type\":\"WheelZoomTool\"},{\"id\":\"1299\",\"type\":\"BoxZoomTool\"},{\"id\":\"1300\",\"type\":\"SaveTool\"},{\"id\":\"1301\",\"type\":\"ResetTool\"},{\"id\":\"1302\",\"type\":\"HelpTool\"}]},\"id\":\"1303\",\"type\":\"Toolbar\"},{\"attributes\":{\"label\":{\"field\":\"labels\"},\"renderers\":[{\"id\":\"1267\",\"type\":\"GlyphRenderer\"}]},\"id\":\"1277\",\"type\":\"LegendItem\"},{\"attributes\":{},\"id\":\"1346\",\"type\":\"UnionRenderers\"},{\"attributes\":{\"align\":\"center\",\"text\":\"Calinski-Harabasz score \\ncosine_sim\",\"text_font_size\":{\"value\":\"25px\"}},\"id\":\"1310\",\"type\":\"Title\"},{\"attributes\":{},\"id\":\"1297\",\"type\":\"PanTool\"},{\"attributes\":{},\"id\":\"1300\",\"type\":\"SaveTool\"},{\"attributes\":{\"bottom_units\":\"screen\",\"fill_alpha\":{\"value\":0.5},\"fill_color\":{\"value\":\"lightgrey\"},\"left_units\":\"screen\",\"level\":\"overlay\",\"line_alpha\":{\"value\":1.0},\"line_color\":{\"value\":\"black\"},\"line_dash\":[4,4],\"line_width\":{\"value\":2},\"render_mode\":\"css\",\"right_units\":\"screen\",\"top_units\":\"screen\"},\"id\":\"1275\",\"type\":\"BoxAnnotation\"},{\"attributes\":{\"align\":\"center\",\"text\":\"Calinski-Harabasz score \\n1-sim\",\"text_font_size\":{\"value\":\"25px\"}},\"id\":\"1260\",\"type\":\"Title\"},{\"attributes\":{},\"id\":\"1321\",\"type\":\"BasicTickFormatter\"},{\"attributes\":{},\"id\":\"1345\",\"type\":\"Selection\"},{\"attributes\":{\"formatter\":{\"id\":\"1271\",\"type\":\"BasicTickFormatter\"},\"ticker\":{\"id\":\"1238\",\"type\":\"BasicTicker\"}},\"id\":\"1237\",\"type\":\"LinearAxis\"},{\"attributes\":{},\"id\":\"1243\",\"type\":\"BasicTicker\"},{\"attributes\":{\"line_color\":{\"field\":\"color\"},\"line_width\":{\"value\":2},\"xs\":{\"field\":\"xs\"},\"ys\":{\"field\":\"ys\"}},\"id\":\"1265\",\"type\":\"MultiLine\"},{\"attributes\":{},\"id\":\"1302\",\"type\":\"HelpTool\"},{\"attributes\":{\"dimension\":1,\"ticker\":{\"id\":\"1243\",\"type\":\"BasicTicker\"}},\"id\":\"1246\",\"type\":\"Grid\"},{\"attributes\":{\"ticker\":{\"id\":\"1288\",\"type\":\"BasicTicker\"}},\"id\":\"1291\",\"type\":\"Grid\"},{\"attributes\":{\"line_alpha\":{\"value\":0.1},\"line_color\":{\"value\":\"#1f77b4\"},\"line_width\":{\"value\":2},\"xs\":{\"field\":\"xs\"},\"ys\":{\"field\":\"ys\"}},\"id\":\"1266\",\"type\":\"MultiLine\"},{\"attributes\":{},\"id\":\"1293\",\"type\":\"BasicTicker\"},{\"attributes\":{\"formatter\":{\"id\":\"1273\",\"type\":\"BasicTickFormatter\"},\"ticker\":{\"id\":\"1243\",\"type\":\"BasicTicker\"}},\"id\":\"1242\",\"type\":\"LinearAxis\"},{\"attributes\":{\"below\":[{\"id\":\"1237\",\"type\":\"LinearAxis\"}],\"center\":[{\"id\":\"1241\",\"type\":\"Grid\"},{\"id\":\"1246\",\"type\":\"Grid\"},{\"id\":\"1276\",\"type\":\"Legend\"}],\"left\":[{\"id\":\"1242\",\"type\":\"LinearAxis\"}],\"plot_height\":450,\"plot_width\":450,\"renderers\":[{\"id\":\"1267\",\"type\":\"GlyphRenderer\"}],\"title\":{\"id\":\"1260\",\"type\":\"Title\"},\"toolbar\":{\"id\":\"1253\",\"type\":\"Toolbar\"},\"x_range\":{\"id\":\"1229\",\"type\":\"DataRange1d\"},\"x_scale\":{\"id\":\"1233\",\"type\":\"LinearScale\"},\"y_range\":{\"id\":\"1231\",\"type\":\"DataRange1d\"},\"y_scale\":{\"id\":\"1235\",\"type\":\"LinearScale\"}},\"id\":\"1228\",\"subtype\":\"Figure\",\"type\":\"Plot\"},{\"attributes\":{\"callback\":null},\"id\":\"1229\",\"type\":\"DataRange1d\"},{\"attributes\":{},\"id\":\"1271\",\"type\":\"BasicTickFormatter\"},{\"attributes\":{\"below\":[{\"id\":\"1287\",\"type\":\"LinearAxis\"}],\"center\":[{\"id\":\"1291\",\"type\":\"Grid\"},{\"id\":\"1296\",\"type\":\"Grid\"},{\"id\":\"1326\",\"type\":\"Legend\"}],\"left\":[{\"id\":\"1292\",\"type\":\"LinearAxis\"}],\"plot_height\":450,\"plot_width\":450,\"renderers\":[{\"id\":\"1317\",\"type\":\"GlyphRenderer\"}],\"title\":{\"id\":\"1310\",\"type\":\"Title\"},\"toolbar\":{\"id\":\"1303\",\"type\":\"Toolbar\"},\"x_range\":{\"id\":\"1279\",\"type\":\"DataRange1d\"},\"x_scale\":{\"id\":\"1283\",\"type\":\"LinearScale\"},\"y_range\":{\"id\":\"1281\",\"type\":\"DataRange1d\"},\"y_scale\":{\"id\":\"1285\",\"type\":\"LinearScale\"}},\"id\":\"1278\",\"subtype\":\"Figure\",\"type\":\"Plot\"},{\"attributes\":{\"items\":[{\"id\":\"1277\",\"type\":\"LegendItem\"}]},\"id\":\"1276\",\"type\":\"Legend\"},{\"attributes\":{\"line_color\":{\"field\":\"color\"},\"line_width\":{\"value\":2},\"xs\":{\"field\":\"xs\"},\"ys\":{\"field\":\"ys\"}},\"id\":\"1315\",\"type\":\"MultiLine\"},{\"attributes\":{\"data_source\":{\"id\":\"1263\",\"type\":\"ColumnDataSource\"},\"glyph\":{\"id\":\"1265\",\"type\":\"MultiLine\"},\"hover_glyph\":null,\"muted_glyph\":null,\"nonselection_glyph\":{\"id\":\"1266\",\"type\":\"MultiLine\"},\"selection_glyph\":null,\"view\":{\"id\":\"1268\",\"type\":\"CDSView\"}},\"id\":\"1267\",\"type\":\"GlyphRenderer\"},{\"attributes\":{\"dimension\":1,\"ticker\":{\"id\":\"1293\",\"type\":\"BasicTicker\"}},\"id\":\"1296\",\"type\":\"Grid\"},{\"attributes\":{},\"id\":\"1233\",\"type\":\"LinearScale\"},{\"attributes\":{},\"id\":\"1238\",\"type\":\"BasicTicker\"},{\"attributes\":{\"callback\":null,\"data\":{\"color\":[\"red\",\"blue\",\"black\"],\"labels\":[\"single\",\"average\",\"complete\"],\"xs\":[[2,3,4,5,6,7,8,9,10,11,12,13,14,15,16,17,18,19,20,21,22,23,24,25,26,27,28,29,30,31,32,33,34,35,36,37,38,39,40,41,42,43,44,45,46,47,48,49,50],[2,3,4,5,6,7,8,9,10,11,12,13,14,15,16,17,18,19,20,21,22,23,24,25,26,27,28,29,30,31,32,33,34,35,36,37,38,39,40,41,42,43,44,45,46,47,48,49,50],[2,3,4,5,6,7,8,9,10,11,12,13,14,15,16,17,18,19,20,21,22,23,24,25,26,27,28,29,30,31,32,33,34,35,36,37,38,39,40,41,42,43,44,45,46,47,48,49,50]],\"ys\":[[0.27672672512590757,0.2070502344790133,0.35769111203907583,0.3736771664393591,0.42080675058890454,0.9136519272913421,0.8831283991440095,0.9479601999281267,0.9129984031476377,0.9223593408862415,0.8794753127394637,0.9788910504609194,0.9667434372467119,0.9176250508569904,0.8719087217380064,1.0442877165344293,0.9980842983808368,0.9709407715152427,1.0027488968776799,1.508368842091467,1.4501642061868727,1.4080067662976055,1.3695195422257425,1.3490654380408336,1.3781871211112786,1.650398356878059,1.6663089447850419,1.6530140102936903,1.6062495971081676,1.6784863858419203,1.665659454825576,1.6305730781886705,1.6123529772195668,1.6930359736762803,1.6897460821107733,1.6767805693333162,1.66919724346364,1.6853104214024728,2.1729666655591298,2.825767113022256,2.9129473036375897,2.937889286432233,3.0237739237165484,2.971648431163362,2.905606318531182,2.852539112845412,2.840783896252985,2.8295384069686085,2.8833174901280207],[26926.92434899609,13465.92488156502,13422.24654272994,13829.567530438982,13770.630757658755,11578.282305278566,11301.45634169419,10182.916290940066,9184.011610610443,8908.319560613296,9072.470767415316,9810.921527619335,9057.39081386231,8792.980268661358,8215.11148980545,7740.852910412757,7294.648602797676,11724.917316563084,11774.800428114735,11262.068139482535,10814.39060965133,10355.10853164895,10086.946041785743,9669.447980759816,9314.842341807718,8974.718553024693,8677.82699271495,8422.125278524525,8140.02893260514,7876.129417838249,7622.2103625504205,7478.245176795235,7252.08040130889,7040.355780967244,6883.904768648075,6745.3382547426845,6645.1943956629175,6601.29871078097,6432.553975885399,6308.6340477821,6222.796463436782,6076.42433155826,5944.831370987337,5825.811894581803,5719.842580478012,5605.245005520711,5543.412234609391,5429.498926544728,5318.522977330845],[34391.16844643796,22619.60144383573,15081.76371052249,12583.396091037015,13092.575929114299,13770.281364360804,12076.10368971155,10704.557524141777,9730.90695610045,8888.841200633959,9381.621073885159,8670.312017828861,9079.00803719051,8849.575766271058,8578.989100304429,8055.753981401015,13171.338850770786,12642.359109553228,12060.00529090935,11532.961226243113,11023.124174789655,10589.786696065366,10198.346660184614,9858.798399492063,9654.641072719833,9303.04055089693,8966.087889194006,8677.604398798498,8434.245820097334,8309.24122747694,8115.807797965998,7906.921639835448,7674.717702385482,7478.907422891641,7279.694695219983,7095.387665810834,6953.86622144855,6819.519643078986,6644.670263067522,6588.257320419192,6495.862498204925,6350.796212012763,6240.957888775685,6111.112912165214,5984.4401700033395,5923.023055594961,5799.660290963822,5907.227708899693,6215.722421654695]]},\"selected\":{\"id\":\"1342\",\"type\":\"Selection\"},\"selection_policy\":{\"id\":\"1343\",\"type\":\"UnionRenderers\"}},\"id\":\"1263\",\"type\":\"ColumnDataSource\"},{\"attributes\":{\"line_alpha\":{\"value\":0.1},\"line_color\":{\"value\":\"#1f77b4\"},\"line_width\":{\"value\":2},\"xs\":{\"field\":\"xs\"},\"ys\":{\"field\":\"ys\"}},\"id\":\"1316\",\"type\":\"MultiLine\"},{\"attributes\":{\"formatter\":{\"id\":\"1321\",\"type\":\"BasicTickFormatter\"},\"ticker\":{\"id\":\"1288\",\"type\":\"BasicTicker\"}},\"id\":\"1287\",\"type\":\"LinearAxis\"},{\"attributes\":{\"data_source\":{\"id\":\"1313\",\"type\":\"ColumnDataSource\"},\"glyph\":{\"id\":\"1315\",\"type\":\"MultiLine\"},\"hover_glyph\":null,\"muted_glyph\":null,\"nonselection_glyph\":{\"id\":\"1316\",\"type\":\"MultiLine\"},\"selection_glyph\":null,\"view\":{\"id\":\"1318\",\"type\":\"CDSView\"}},\"id\":\"1317\",\"type\":\"GlyphRenderer\"},{\"attributes\":{},\"id\":\"1247\",\"type\":\"PanTool\"},{\"attributes\":{},\"id\":\"1283\",\"type\":\"LinearScale\"},{\"attributes\":{\"active_drag\":\"auto\",\"active_inspect\":\"auto\",\"active_multi\":null,\"active_scroll\":\"auto\",\"active_tap\":\"auto\",\"tools\":[{\"id\":\"1247\",\"type\":\"PanTool\"},{\"id\":\"1248\",\"type\":\"WheelZoomTool\"},{\"id\":\"1249\",\"type\":\"BoxZoomTool\"},{\"id\":\"1250\",\"type\":\"SaveTool\"},{\"id\":\"1251\",\"type\":\"ResetTool\"},{\"id\":\"1252\",\"type\":\"HelpTool\"}]},\"id\":\"1253\",\"type\":\"Toolbar\"},{\"attributes\":{\"callback\":null,\"data\":{\"color\":[\"red\",\"blue\",\"black\"],\"labels\":[\"single\",\"average\",\"complete\"],\"xs\":[[2,3,4,5,6,7,8,9,10,11,12,13,14,15,16,17,18,19,20,21,22,23,24,25,26,27,28,29,30,31,32,33,34,35,36,37,38,39,40,41,42,43,44,45,46,47,48,49,50],[2,3,4,5,6,7,8,9,10,11,12,13,14,15,16,17,18,19,20,21,22,23,24,25,26,27,28,29,30,31,32,33,34,35,36,37,38,39,40,41,42,43,44,45,46,47,48,49,50],[2,3,4,5,6,7,8,9,10,11,12,13,14,15,16,17,18,19,20,21,22,23,24,25,26,27,28,29,30,31,32,33,34,35,36,37,38,39,40,41,42,43,44,45,46,47,48,49,50]],\"ys\":[[0.2917572933661708,0.22096214902696518,0.3504473937064845,0.36329381245061,0.4046949150260907,0.8642345980597257,0.8339474843874819,0.8928717814639362,0.8596161700021485,0.8707979400269972,0.8267226644615301,0.9194751077860452,0.9077347480455087,0.8623858771311173,0.8191977739316559,0.9826794132359362,0.9396556200123076,0.9148078487790549,0.9437667729237827,1.4477233514783139,1.3912601120201828,1.3505269064264394,1.313339720852644,1.2933920443017244,1.3195220068358813,1.573314396390064,1.586774605893702,1.5736647032472746,1.5294975720981066,1.5970511457623848,1.5853633302362922,1.5518103545093527,1.5350810883155432,1.609927229082905,1.6068390719560894,1.592930852330595,1.5846089661148965,1.6007054512426468,2.063393111676702,2.6790077486634365,2.7613578359261997,2.7861046799566322,2.8668889705856357,2.817144871133199,2.754778334897205,2.7043090341693654,2.694598248972932,2.685311216389982,2.738274268895594],[22205.262774864008,11104.314859720333,10813.557842281185,11002.918924354391,10818.307370600904,9097.719132978285,8806.984321762458,7922.741117042805,7143.573073584764,6805.016628664137,6937.411549341217,7495.513400936688,6919.6475193284,6643.010769750445,6206.174454847269,5824.764502082218,9488.19256145933,9025.938400453426,9088.476292385794,8636.23877288015,8285.025467091637,7934.1452872486025,7724.609555341491,7426.837664312399,7191.498078715352,6931.206190679045,6704.005857655631,6497.565612303375,6280.910097488258,6077.8062088763945,5881.963678019583,5777.89329456632,5602.979337796009,5439.074823129252,5322.899608002218,5211.9050234006945,5182.284723124532,5103.1840251818685,4972.747261722064,4880.076144758441,4820.269803375831,4706.689570102151,4603.702296685023,4511.468479810044,4430.118651762639,4342.018848196365,4301.3103677126455,4211.569030414916,4126.51294144613],[27764.63864628909,18189.70413602546,12127.607221429786,9987.13187593277,10239.202634832873,10554.838918953265,9245.444539745135,8191.772520806481,7436.532598655061,6789.167338141968,7169.9163234181215,6618.992465566073,6928.414162108584,6668.494118441826,6477.572712381784,6081.193059693043,10134.165993929793,9746.876873079458,9292.631243913,8891.151393856388,8504.576545445509,8174.265193644397,7864.279516342356,7596.699820829708,7435.579355675712,7163.771441965188,6905.253022913495,6682.213333285793,6485.497063564529,6400.521276065938,6260.000853833273,6102.856893377899,5924.602531819402,5772.9432482909715,5619.63156258493,5474.683965487664,5370.919214108922,5270.378318264183,5135.426416710369,5098.2654245440135,5034.7146791658315,4922.034344614109,4831.173343816705,4732.058585144887,4633.428272166204,4579.0675788315775,4484.602645308422,4587.3629121462345,4798.188622783048]]},\"selected\":{\"id\":\"1345\",\"type\":\"Selection\"},\"selection_policy\":{\"id\":\"1346\",\"type\":\"UnionRenderers\"}},\"id\":\"1313\",\"type\":\"ColumnDataSource\"},{\"attributes\":{\"items\":[{\"id\":\"1327\",\"type\":\"LegendItem\"}]},\"id\":\"1326\",\"type\":\"Legend\"},{\"attributes\":{\"formatter\":{\"id\":\"1323\",\"type\":\"BasicTickFormatter\"},\"ticker\":{\"id\":\"1293\",\"type\":\"BasicTicker\"}},\"id\":\"1292\",\"type\":\"LinearAxis\"},{\"attributes\":{\"label\":{\"field\":\"labels\"},\"renderers\":[{\"id\":\"1317\",\"type\":\"GlyphRenderer\"}]},\"id\":\"1327\",\"type\":\"LegendItem\"},{\"attributes\":{\"ticker\":{\"id\":\"1238\",\"type\":\"BasicTicker\"}},\"id\":\"1241\",\"type\":\"Grid\"},{\"attributes\":{},\"id\":\"1248\",\"type\":\"WheelZoomTool\"},{\"attributes\":{},\"id\":\"1288\",\"type\":\"BasicTicker\"},{\"attributes\":{},\"id\":\"1298\",\"type\":\"WheelZoomTool\"},{\"attributes\":{},\"id\":\"1323\",\"type\":\"BasicTickFormatter\"},{\"attributes\":{\"source\":{\"id\":\"1313\",\"type\":\"ColumnDataSource\"}},\"id\":\"1318\",\"type\":\"CDSView\"},{\"attributes\":{\"bottom_units\":\"screen\",\"fill_alpha\":{\"value\":0.5},\"fill_color\":{\"value\":\"lightgrey\"},\"left_units\":\"screen\",\"level\":\"overlay\",\"line_alpha\":{\"value\":1.0},\"line_color\":{\"value\":\"black\"},\"line_dash\":[4,4],\"line_width\":{\"value\":2},\"render_mode\":\"css\",\"right_units\":\"screen\",\"top_units\":\"screen\"},\"id\":\"1325\",\"type\":\"BoxAnnotation\"},{\"attributes\":{},\"id\":\"1273\",\"type\":\"BasicTickFormatter\"},{\"attributes\":{\"overlay\":{\"id\":\"1275\",\"type\":\"BoxAnnotation\"}},\"id\":\"1249\",\"type\":\"BoxZoomTool\"},{\"attributes\":{},\"id\":\"1342\",\"type\":\"Selection\"},{\"attributes\":{},\"id\":\"1250\",\"type\":\"SaveTool\"},{\"attributes\":{},\"id\":\"1235\",\"type\":\"LinearScale\"},{\"attributes\":{\"source\":{\"id\":\"1263\",\"type\":\"ColumnDataSource\"}},\"id\":\"1268\",\"type\":\"CDSView\"},{\"attributes\":{\"callback\":null},\"id\":\"1279\",\"type\":\"DataRange1d\"},{\"attributes\":{},\"id\":\"1343\",\"type\":\"UnionRenderers\"},{\"attributes\":{\"callback\":null},\"id\":\"1281\",\"type\":\"DataRange1d\"},{\"attributes\":{},\"id\":\"1285\",\"type\":\"LinearScale\"},{\"attributes\":{},\"id\":\"1251\",\"type\":\"ResetTool\"},{\"attributes\":{},\"id\":\"1301\",\"type\":\"ResetTool\"}],\"root_ids\":[\"1328\"]},\"title\":\"Bokeh Application\",\"version\":\"1.3.4\"}};\n",
       "  var render_items = [{\"docid\":\"2059076f-3e62-467e-b3f0-fb79b3d3228c\",\"roots\":{\"1328\":\"864ce28a-e142-43a5-a234-305bcbd159c3\"}}];\n",
       "  root.Bokeh.embed.embed_items_notebook(docs_json, render_items);\n",
       "\n",
       "  }\n",
       "  if (root.Bokeh !== undefined) {\n",
       "    embed_document(root);\n",
       "  } else {\n",
       "    var attempts = 0;\n",
       "    var timer = setInterval(function(root) {\n",
       "      if (root.Bokeh !== undefined) {\n",
       "        embed_document(root);\n",
       "        clearInterval(timer);\n",
       "      }\n",
       "      attempts++;\n",
       "      if (attempts > 100) {\n",
       "        console.log(\"Bokeh: ERROR: Unable to run BokehJS code because BokehJS library is missing\");\n",
       "        clearInterval(timer);\n",
       "      }\n",
       "    }, 10, root)\n",
       "  }\n",
       "})(window);"
      ],
      "application/vnd.bokehjs_exec.v0+json": ""
     },
     "metadata": {
      "application/vnd.bokehjs_exec.v0+json": {
       "id": "1328"
      }
     },
     "output_type": "display_data"
    }
   ],
   "source": [
    "plot_evaluation(title=\"Calinski-Harabasz score \\n1-sim\", metric=CH, pos_legend='top_right', c=c,\n",
    "                title2=\"Calinski-Harabasz score \\ncosine_sim\", metric2=CH2, pos_legend2='top_right')"
   ]
  },
  {
   "cell_type": "markdown",
   "metadata": {},
   "source": [
    "<font size=3>\n",
    "    \n",
    "Per questa metrica i risultati sono sempre simili, quasi identici, fra le due matrici di distanza ma hanno alcune differenze rispetto all'altro indice. Il metodo peggiore è sempre il <i>single</i> che è completamente incapace di identificare i cluster in modo corretto, gli altri due metodi hanno sempre valori simili e le linee si intersecano in più punti.\n",
    "<br></br>\n",
    "\n",
    "La differenza principale rispetto a prima è che qua il numero ideale di cluster è $2$ in modo incostrastato rispetto a tutti gli altri. Le curve scendono progressivamente fino ad un minimo locale poco prima dei venti cluster dove poi i valori tendono a salire per poi scendere definitivamente.\n",
    "<br></br><br></br>\n"
   ]
  },
  {
   "cell_type": "markdown",
   "metadata": {},
   "source": [
    "<font size=3>\n",
    "    \n",
    "<br></br>\n",
    "Sul [sito di sklearn](https://scikit-learn.org/stable/modules/clustering.html#silhouette-coefficient) venivano proposte altre metriche per valutare la qualità del clustering ottenuto con metodi gerarchici. Fra queste era presente anche il <b>Davies-Bouldin index</b> di facile implementazione, ma che non è stato possibile applicare in quanto è utilizzabile solamente nei [casi in cui la metrica sia euclidea](https://scikit-learn.org/stable/modules/clustering.html#id32)."
   ]
  },
  {
   "cell_type": "markdown",
   "metadata": {},
   "source": [
    "<br></br>\n",
    "<font size=3>\n",
    "    \n",
    "Si ricrea il modello migliore per poter estrarre le etichette assegnate ad ogni parola."
   ]
  },
  {
   "cell_type": "code",
   "execution_count": 40,
   "metadata": {},
   "outputs": [],
   "source": [
    "model = AgglomerativeClustering(affinity='precomputed', n_clusters=12, linkage=\"average\").fit(d_matrix1)\n",
    "labels = model.labels_"
   ]
  },
  {
   "cell_type": "code",
   "execution_count": 41,
   "metadata": {},
   "outputs": [
    {
     "data": {
      "text/plain": [
       "[(0, 6734),\n",
       " (7, 2316),\n",
       " (5, 2042),\n",
       " (2, 1047),\n",
       " (3, 1012),\n",
       " (4, 787),\n",
       " (1, 510),\n",
       " (10, 492),\n",
       " (9, 433),\n",
       " (8, 379),\n",
       " (6, 274),\n",
       " (11, 2)]"
      ]
     },
     "execution_count": 41,
     "metadata": {},
     "output_type": "execute_result"
    }
   ],
   "source": [
    "Counter(labels).most_common()"
   ]
  },
  {
   "cell_type": "markdown",
   "metadata": {},
   "source": [
    "<font size=3>\n",
    "    \n",
    "Viene creato un dataset che ha come prima colonna la parola di riferimento, nella seconda l'etichetta assegnata durante il clustering. A queste informazioni si aggiunge una terza colonna facendo combaciare la parola con la relativa frequenza all'interno dei nomi, questo campio viene selezionato per ordinate il dataset."
   ]
  },
  {
   "cell_type": "code",
   "execution_count": 42,
   "metadata": {},
   "outputs": [
    {
     "data": {
      "text/html": [
       "<div>\n",
       "<style scoped>\n",
       "    .dataframe tbody tr th:only-of-type {\n",
       "        vertical-align: middle;\n",
       "    }\n",
       "\n",
       "    .dataframe tbody tr th {\n",
       "        vertical-align: top;\n",
       "    }\n",
       "\n",
       "    .dataframe thead th {\n",
       "        text-align: right;\n",
       "    }\n",
       "</style>\n",
       "<table border=\"1\" class=\"dataframe\">\n",
       "  <thead>\n",
       "    <tr style=\"text-align: right;\">\n",
       "      <th></th>\n",
       "      <th>Word</th>\n",
       "      <th>Label</th>\n",
       "      <th>Freq</th>\n",
       "    </tr>\n",
       "  </thead>\n",
       "  <tbody>\n",
       "    <tr>\n",
       "      <td>2</td>\n",
       "      <td>film</td>\n",
       "      <td>0</td>\n",
       "      <td>442949</td>\n",
       "    </tr>\n",
       "    <tr>\n",
       "      <td>3</td>\n",
       "      <td>story</td>\n",
       "      <td>3</td>\n",
       "      <td>197627</td>\n",
       "    </tr>\n",
       "    <tr>\n",
       "      <td>121</td>\n",
       "      <td>time</td>\n",
       "      <td>5</td>\n",
       "      <td>112183</td>\n",
       "    </tr>\n",
       "    <tr>\n",
       "      <td>97</td>\n",
       "      <td>character</td>\n",
       "      <td>2</td>\n",
       "      <td>86501</td>\n",
       "    </tr>\n",
       "    <tr>\n",
       "      <td>130</td>\n",
       "      <td>way</td>\n",
       "      <td>7</td>\n",
       "      <td>75376</td>\n",
       "    </tr>\n",
       "    <tr>\n",
       "      <td>198</td>\n",
       "      <td>plot</td>\n",
       "      <td>2</td>\n",
       "      <td>73817</td>\n",
       "    </tr>\n",
       "    <tr>\n",
       "      <td>129</td>\n",
       "      <td>thing</td>\n",
       "      <td>7</td>\n",
       "      <td>63447</td>\n",
       "    </tr>\n",
       "    <tr>\n",
       "      <td>24</td>\n",
       "      <td>life</td>\n",
       "      <td>7</td>\n",
       "      <td>61876</td>\n",
       "    </tr>\n",
       "    <tr>\n",
       "      <td>33</td>\n",
       "      <td>scene</td>\n",
       "      <td>0</td>\n",
       "      <td>52757</td>\n",
       "    </tr>\n",
       "    <tr>\n",
       "      <td>107</td>\n",
       "      <td>performance</td>\n",
       "      <td>5</td>\n",
       "      <td>51473</td>\n",
       "    </tr>\n",
       "  </tbody>\n",
       "</table>\n",
       "</div>"
      ],
      "text/plain": [
       "            Word  Label    Freq\n",
       "2           film      0  442949\n",
       "3          story      3  197627\n",
       "121         time      5  112183\n",
       "97     character      2   86501\n",
       "130          way      7   75376\n",
       "198         plot      2   73817\n",
       "129        thing      7   63447\n",
       "24          life      7   61876\n",
       "33         scene      0   52757\n",
       "107  performance      5   51473"
      ]
     },
     "execution_count": 42,
     "metadata": {},
     "output_type": "execute_result"
    }
   ],
   "source": [
    "common_words = Counter(nouns_list).most_common()\n",
    "\n",
    "labels_df = pd.DataFrame({\"Word\":primary_words, \"Label\":labels})\n",
    "\n",
    "labels_df[\"Freq\"] = labels_df[\"Word\"].map(dict(common_words))\n",
    "labels_df = labels_df.sort_values(by='Freq', ascending=False)\n",
    "\n",
    "labels_df.to_csv(path_or_buf=\"D:/Scraping/labels_df.csv\", index=False)\n",
    "labels_df.head(10)"
   ]
  },
  {
   "cell_type": "markdown",
   "metadata": {},
   "source": [
    "<br></br>\n",
    "### [2.3.2 HDBSCAN](#2.3.2)"
   ]
  },
  {
   "cell_type": "markdown",
   "metadata": {},
   "source": [
    "<font size=3>\n",
    "    \n",
    "Una tecnica alternativa per dei cluster gerarchici è <b>HDBSCAN</b>, algoritmo modificato di <b>DBSCAN</b>, uno dei metodi più utilizzati quando si fa cluster analysis. La logica dell'algoritmo originale è semplicemente quella di unire i punti più vicini fra di loro nello spazio e allo stesso tempo identificare punti isolati nello spazio, outlier, per definire delle zone a bassa densità. \n",
    "Uno dei problemi di DBSCAN è la creazione di piccoli cluster con delle osservazioni che sono outlier, HDBSCAN, grazie al suo approccio gerarchico permette di avere più flessibilità e di evitare questa situazione.\n",
    "<br></br>\n",
    "\n",
    "L'algoritmo sarà applicato a tutte e due le matrici di distanza usate in precedenza, partendo da quella generata con il complementare ad uno delle similarità."
   ]
  },
  {
   "cell_type": "code",
   "execution_count": 43,
   "metadata": {},
   "outputs": [
    {
     "data": {
      "text/plain": [
       "array([19, 19,  1, ..., 19, 19, 19], dtype=int64)"
      ]
     },
     "execution_count": 43,
     "metadata": {},
     "output_type": "execute_result"
    }
   ],
   "source": [
    "clusterer = hdbscan.HDBSCAN(metric='precomputed')\n",
    "clusterer.fit_predict(d_matrix)"
   ]
  },
  {
   "cell_type": "markdown",
   "metadata": {},
   "source": [
    "<font size=3>\n",
    "    \n",
    "Anche in questo caso, dovendo usare una metrica non standard, bisogna specificare il parametro `precomputed`. La funzione `fit_predict` applica l'algoritmo all'elemento inizializzato alla riga precedente; non assegnando questo output a nessuna variabile si possono vedere tutti i parametri dell'algoritmo (quelli di default tranne la metrica).\n",
    "L'elemento di interesse è `min_cluster_size` ovvero il numero minimo di osservazioni che devono esserci all'interno di un cluster per essere considerato tale; se questa quota non viene raggiunta il cluster non è creato e le osservazioni saranno aggregate ad un altro cluster. Questo è una delle principale differenze con l'algoritmo DBSCAN che, per generare i cluster, considera una distanza minima da un punto per trovare i suoi vicini e creare un cluster. \n",
    "Sono due approcci simili ma selezionare il numero di osservazioni è più versatile e facile da dare in input rispetto un valore di distanza che è fortemente dipendente dalla struttura dei dati.\n",
    "<br></br>\n",
    "\n",
    "Tramite il modulo `labels_` si possono richiamare le assegnazioni effettuate per una singola parola. Le etichette sono dei numeri progressivi che partono da $0$ fino al numero massimo di cluster creati. Esiste anche l'etichetta $-1$ per le osservazioni definibili come outlier, ovvero quei punti troppo diversi da qualsiasi altro per entrare in un cluster e non in grado di essere raggruppate fra di loro in base ai parametri utilizzati dall'algoritmo."
   ]
  },
  {
   "cell_type": "code",
   "execution_count": 44,
   "metadata": {},
   "outputs": [
    {
     "name": "stdout",
     "output_type": "stream",
     "text": [
      "22\n",
      "[(19, 15385), (7, 104), (10, 104), (12, 69), (5, 63), (-1, 53), (14, 44), (11, 36), (2, 28), (8, 21)]\n"
     ]
    }
   ],
   "source": [
    "test_HDBSCAN = Counter(clusterer.labels_).most_common()\n",
    "print(len(test_HDBSCAN))\n",
    "print(test_HDBSCAN[0:10])"
   ]
  },
  {
   "cell_type": "markdown",
   "metadata": {},
   "source": [
    "<font size=3>\n",
    "    \n",
    "Lasciando il numero minimo di osservazioni di default, $5$, si ottengono $23$ cluster con il più numeroso esageratamente più grande rispetto a tutti gli altri. Il cluster delle osservazioni classificate come rumoe è rappresentato dal numero $-1$. Un numero così basso di osservazioni porta alla creazione di cluster locali molto piccoli rendendo molti punti troppo distanti dai confini di essi e quindi non inseribili da alcuna parte.\n",
    "<br></br>\n",
    "\n",
    "Per vedere il comportamento dell'algoritmo al variare dei parametri si crea la funzione `f_hdbscan`. L'unico parametro che viene modificato, che è anche il più importante, è il numero minimo di osservazioni per avere un cluster. Gli input sono:\n",
    "* `min_obs_cluster`: una lista di valori che rappresentano il numero minimo di osservazioni per creare un cluster, ad ogni iterazione verrà preso un elemento.\n",
    "* `c`: una lista in cui saranno inseriti il numero di cluster generati.\n",
    "* `max_c`: una lista in cui saranno salvate le dimensioni del cluster più grande e il numero dell'etichetta.\n",
    "* `d`: il salto che c'è fra il numero di osservazioni in una iterazione e quella successiva.\n",
    "* `h_silhouette` e `h_CH`: due liste in cui saranno salvati i valori delle metriche."
   ]
  },
  {
   "cell_type": "code",
   "execution_count": 45,
   "metadata": {},
   "outputs": [],
   "source": [
    "def f_hdbscan(matrix, min_obs_cluster, c, max_c, d, h_silhouette, h_CH):\n",
    "    \n",
    "    for obs in tnrange(min(min_obs_cluster), max(min_obs_cluster)+1, d, desc=\"Minimum cluster size\"):\n",
    "        clusterer = hdbscan.HDBSCAN(min_cluster_size=obs, metric='precomputed')\n",
    "        clusterer.fit_predict(matrix)\n",
    "        \n",
    "        counter = Counter(clusterer.labels_).most_common()\n",
    "        c.append(len(counter))\n",
    "        max_c.append(counter[0])\n",
    "        \n",
    "        h_silhouette.append(sklearn.metrics.silhouette_score(matrix, clusterer.labels_, metric='precomputed'))\n",
    "        h_CH.append(metrics.calinski_harabasz_score(matrix, clusterer.labels_))\n",
    "    \n",
    "    return (c, max_c, h_silhouette, h_CH)"
   ]
  },
  {
   "cell_type": "code",
   "execution_count": 46,
   "metadata": {},
   "outputs": [
    {
     "data": {
      "application/vnd.jupyter.widget-view+json": {
       "model_id": "74dd72c3c2ba49f8b07ac0b4ab3768ee",
       "version_major": 2,
       "version_minor": 0
      },
      "text/plain": [
       "HBox(children=(IntProgress(value=0, description='Minimum cluster size', max=15, style=ProgressStyle(descriptio…"
      ]
     },
     "metadata": {},
     "output_type": "display_data"
    },
    {
     "name": "stdout",
     "output_type": "stream",
     "text": [
      "\n"
     ]
    }
   ],
   "source": [
    "min_obs = [i for i in range(10, 151, 10)]\n",
    "c, c2, max_c, max_c2, h_silhouette, h_silhouette2, h_CH, h_CH2 = [[] for i in range(8)]\n",
    "\n",
    "(c, max_c, h_silhouette, h_CH) = f_hdbscan(matrix=d_matrix, min_obs_cluster=min_obs, \n",
    "                                           c=c, max_c=max_c, d=10, h_silhouette=h_silhouette, h_CH=h_CH)"
   ]
  },
  {
   "cell_type": "markdown",
   "metadata": {},
   "source": [
    "<font size=3>\n",
    "    \n",
    "Per visualizzare in modo elegante l'output si fa affidamente alla libreria `tabulate`. Le liste sono trasformate in un dataframe Pandas, si assegnano le colonne e si stampa a video il risultato."
   ]
  },
  {
   "cell_type": "code",
   "execution_count": 47,
   "metadata": {
    "scrolled": true
   },
   "outputs": [
    {
     "name": "stdout",
     "output_type": "stream",
     "text": [
      "+-------------+-----------+-------------+\n",
      "|  Min. Oss.  |  Cluster  | Grandezza   |\n",
      "|-------------+-----------+-------------|\n",
      "|     10      |    14     | (11, 15405) |\n",
      "|     20      |    11     | (8, 15424)  |\n",
      "|     30      |     8     | (5, 15424)  |\n",
      "|     40      |     7     | (4, 15424)  |\n",
      "|     50      |     6     | (3, 15493)  |\n",
      "|     60      |     6     | (3, 15493)  |\n",
      "|     70      |     4     | (1, 15609)  |\n",
      "|     80      |     4     | (1, 15635)  |\n",
      "|     90      |     4     | (1, 15635)  |\n",
      "|     100     |     4     | (1, 15611)  |\n",
      "|     110     |     3     | (0, 15602)  |\n",
      "|     120     |     3     | (0, 15104)  |\n",
      "|     130     |     3     | (0, 15104)  |\n",
      "|     140     |     3     | (0, 15097)  |\n",
      "|     150     |     3     | (0, 15097)  |\n",
      "+-------------+-----------+-------------+\n"
     ]
    }
   ],
   "source": [
    "hdbscan_dist1 = pd.DataFrame([min_obs, c, max_c]).transpose()\n",
    "hdbscan_dist1.columns = ['Min. Oss.', 'Cluster', 'Grandezza']\n",
    "\n",
    "print(tabulate(hdbscan_dist1, headers='keys', tablefmt='psql', showindex=\"never\",  numalign=\"center\"))"
   ]
  },
  {
   "cell_type": "markdown",
   "metadata": {},
   "source": [
    "<font size=3>\n",
    "    \n",
    "I valori inseriti variano da un minimo di $10$ fino ad un massimo di $150$ andando di dieci valori alla volta. L'output mostra come l'algoritmo non riesca a trovare un buon compromesso sul numero di cluster e la numerosità interna: con un livello basso di osservazioni minime si creano più cluster, ma sempre in modo contenuto, più si aumenta il limite più ci si standardizza verso i tre cluster. Con qualsiasi parametro l'algoritmo trova sempre un enorme cluster che contiene la maggior parte dei termini."
   ]
  },
  {
   "cell_type": "code",
   "execution_count": 48,
   "metadata": {},
   "outputs": [
    {
     "data": {
      "application/vnd.jupyter.widget-view+json": {
       "model_id": "efad34146df24c88a2bd40ab3f827fc2",
       "version_major": 2,
       "version_minor": 0
      },
      "text/plain": [
       "HBox(children=(IntProgress(value=0, description='Minimum cluster size', max=15, style=ProgressStyle(descriptio…"
      ]
     },
     "metadata": {},
     "output_type": "display_data"
    },
    {
     "name": "stdout",
     "output_type": "stream",
     "text": [
      "\n"
     ]
    }
   ],
   "source": [
    "(c2, max_c2, h_silhouette2, h_CH2) = f_hdbscan(matrix=d_matrix2, min_obs_cluster=min_obs, \n",
    "                                               c=c2, max_c=max_c2, d=10, h_silhouette=h_silhouette2, h_CH=h_CH2)"
   ]
  },
  {
   "cell_type": "code",
   "execution_count": 49,
   "metadata": {},
   "outputs": [
    {
     "name": "stdout",
     "output_type": "stream",
     "text": [
      "+-------------+-----------+-------------+\n",
      "|  Min. Oss.  |  Cluster  | Grandezza   |\n",
      "|-------------+-----------+-------------|\n",
      "|     10      |    28     | (25, 14382) |\n",
      "|     20      |    19     | (16, 14579) |\n",
      "|     30      |    18     | (15, 13476) |\n",
      "|     40      |    17     | (14, 12613) |\n",
      "|     50      |    17     | (14, 11678) |\n",
      "|     60      |    20     | (17, 10915) |\n",
      "|     70      |     3     | (0, 15835)  |\n",
      "|     80      |     3     | (0, 15750)  |\n",
      "|     90      |     3     | (0, 15717)  |\n",
      "|     100     |     3     | (0, 15670)  |\n",
      "|     110     |     3     | (0, 15626)  |\n",
      "|     120     |     3     | (0, 15557)  |\n",
      "|     130     |     3     | (0, 15477)  |\n",
      "|     140     |     3     | (0, 15380)  |\n",
      "|     150     |     4     | (1, 15188)  |\n",
      "+-------------+-----------+-------------+\n"
     ]
    }
   ],
   "source": [
    "hdbscan_dist2 = pd.DataFrame([min_obs, c2, max_c2]).transpose()\n",
    "hdbscan_dist2.columns = hdbscan_dist1.columns\n",
    "\n",
    "print(tabulate(hdbscan_dist2, headers='keys', tablefmt='psql', showindex=\"never\",  numalign=\"center\"))"
   ]
  },
  {
   "cell_type": "markdown",
   "metadata": {},
   "source": [
    "<font size=3>\n",
    "    \n",
    "Con l'utilizzo della seconda matrice di distanze i risultati sono leggermente migliori: con poche osservazioni minime si ottengono più cluster ma velocemente si allinea alla situazione precedente stabilizzandosi sui tre cluster e in quasi tutti i casi il cluster principale contiene oltre il $90\\%$ dei termini.\n",
    "<br></br>\n",
    "\n",
    "Come riportato in una domanda frequente nella [documentazione](https://hdbscan.readthedocs.io/en/latest/faq.html#q-i-mostly-just-get-one-large-cluster-i-want-smaller-clusters) della libreria, l'output con un grande cluster è sintomo di una natura globulare dei dati con piccoli cluster di outlier.\n",
    "<br></br><br></br>\n"
   ]
  },
  {
   "cell_type": "markdown",
   "metadata": {},
   "source": [
    "<font size=3>\n",
    "    \n",
    "<br></br>\n",
    "Anche per questo modello viene creata una funzione, `h_plot_evaluation`, per la visualizzazione delle metriche. La funzione è più semplice rispetto alla precedente in quanto il parametro variabile in questi algoritmi è solamente il numero minimo di osservazioni, quindi per ogni metrica si avrà un'unica spezzata ed è più comodo fare il confronto in un unico plot. I parametri aggiuntivi/modificati sono:\n",
    "* `label1` e `label2`: saranno le etichette mostrate nella legenda, non sono più il linkage ma il metodo con cui è stata costruita la matrice delle distanze."
   ]
  },
  {
   "cell_type": "code",
   "execution_count": 50,
   "metadata": {},
   "outputs": [],
   "source": [
    "def h_plot_evaluation(c, metric, metric2, title, label1, label2, pos_legend):\n",
    "    reset_output()\n",
    "    output_notebook(hide_banner=True)\n",
    "    \n",
    "    p = figure(plot_width=750, plot_height=450)\n",
    "    p.title.text = title\n",
    "    p.title.align = \"center\"\n",
    "    p.title.text_font_size = \"20px\"\n",
    "    \n",
    "    multi_line_source = ColumnDataSource({'ys': [metric2, metric], \n",
    "                                          'xs': [c, c],\n",
    "                                          'color': [\"red\", \"blue\"],\n",
    "                                          'labels': [label1, label2]\n",
    "                                         })\n",
    "    r = p.multi_line('xs', 'ys', color='color', source=multi_line_source, legend='labels', line_width=2)\n",
    "    p.legend.location = pos_legend\n",
    "        \n",
    "    show(p)"
   ]
  },
  {
   "cell_type": "code",
   "execution_count": 51,
   "metadata": {},
   "outputs": [
    {
     "data": {
      "application/javascript": [
       "\n",
       "(function(root) {\n",
       "  function now() {\n",
       "    return new Date();\n",
       "  }\n",
       "\n",
       "  var force = true;\n",
       "\n",
       "  if (typeof root._bokeh_onload_callbacks === \"undefined\" || force === true) {\n",
       "    root._bokeh_onload_callbacks = [];\n",
       "    root._bokeh_is_loading = undefined;\n",
       "  }\n",
       "\n",
       "  var JS_MIME_TYPE = 'application/javascript';\n",
       "  var HTML_MIME_TYPE = 'text/html';\n",
       "  var EXEC_MIME_TYPE = 'application/vnd.bokehjs_exec.v0+json';\n",
       "  var CLASS_NAME = 'output_bokeh rendered_html';\n",
       "\n",
       "  /**\n",
       "   * Render data to the DOM node\n",
       "   */\n",
       "  function render(props, node) {\n",
       "    var script = document.createElement(\"script\");\n",
       "    node.appendChild(script);\n",
       "  }\n",
       "\n",
       "  /**\n",
       "   * Handle when an output is cleared or removed\n",
       "   */\n",
       "  function handleClearOutput(event, handle) {\n",
       "    var cell = handle.cell;\n",
       "\n",
       "    var id = cell.output_area._bokeh_element_id;\n",
       "    var server_id = cell.output_area._bokeh_server_id;\n",
       "    // Clean up Bokeh references\n",
       "    if (id != null && id in Bokeh.index) {\n",
       "      Bokeh.index[id].model.document.clear();\n",
       "      delete Bokeh.index[id];\n",
       "    }\n",
       "\n",
       "    if (server_id !== undefined) {\n",
       "      // Clean up Bokeh references\n",
       "      var cmd = \"from bokeh.io.state import curstate; print(curstate().uuid_to_server['\" + server_id + \"'].get_sessions()[0].document.roots[0]._id)\";\n",
       "      cell.notebook.kernel.execute(cmd, {\n",
       "        iopub: {\n",
       "          output: function(msg) {\n",
       "            var id = msg.content.text.trim();\n",
       "            if (id in Bokeh.index) {\n",
       "              Bokeh.index[id].model.document.clear();\n",
       "              delete Bokeh.index[id];\n",
       "            }\n",
       "          }\n",
       "        }\n",
       "      });\n",
       "      // Destroy server and session\n",
       "      var cmd = \"import bokeh.io.notebook as ion; ion.destroy_server('\" + server_id + \"')\";\n",
       "      cell.notebook.kernel.execute(cmd);\n",
       "    }\n",
       "  }\n",
       "\n",
       "  /**\n",
       "   * Handle when a new output is added\n",
       "   */\n",
       "  function handleAddOutput(event, handle) {\n",
       "    var output_area = handle.output_area;\n",
       "    var output = handle.output;\n",
       "\n",
       "    // limit handleAddOutput to display_data with EXEC_MIME_TYPE content only\n",
       "    if ((output.output_type != \"display_data\") || (!output.data.hasOwnProperty(EXEC_MIME_TYPE))) {\n",
       "      return\n",
       "    }\n",
       "\n",
       "    var toinsert = output_area.element.find(\".\" + CLASS_NAME.split(' ')[0]);\n",
       "\n",
       "    if (output.metadata[EXEC_MIME_TYPE][\"id\"] !== undefined) {\n",
       "      toinsert[toinsert.length - 1].firstChild.textContent = output.data[JS_MIME_TYPE];\n",
       "      // store reference to embed id on output_area\n",
       "      output_area._bokeh_element_id = output.metadata[EXEC_MIME_TYPE][\"id\"];\n",
       "    }\n",
       "    if (output.metadata[EXEC_MIME_TYPE][\"server_id\"] !== undefined) {\n",
       "      var bk_div = document.createElement(\"div\");\n",
       "      bk_div.innerHTML = output.data[HTML_MIME_TYPE];\n",
       "      var script_attrs = bk_div.children[0].attributes;\n",
       "      for (var i = 0; i < script_attrs.length; i++) {\n",
       "        toinsert[toinsert.length - 1].firstChild.setAttribute(script_attrs[i].name, script_attrs[i].value);\n",
       "      }\n",
       "      // store reference to server id on output_area\n",
       "      output_area._bokeh_server_id = output.metadata[EXEC_MIME_TYPE][\"server_id\"];\n",
       "    }\n",
       "  }\n",
       "\n",
       "  function register_renderer(events, OutputArea) {\n",
       "\n",
       "    function append_mime(data, metadata, element) {\n",
       "      // create a DOM node to render to\n",
       "      var toinsert = this.create_output_subarea(\n",
       "        metadata,\n",
       "        CLASS_NAME,\n",
       "        EXEC_MIME_TYPE\n",
       "      );\n",
       "      this.keyboard_manager.register_events(toinsert);\n",
       "      // Render to node\n",
       "      var props = {data: data, metadata: metadata[EXEC_MIME_TYPE]};\n",
       "      render(props, toinsert[toinsert.length - 1]);\n",
       "      element.append(toinsert);\n",
       "      return toinsert\n",
       "    }\n",
       "\n",
       "    /* Handle when an output is cleared or removed */\n",
       "    events.on('clear_output.CodeCell', handleClearOutput);\n",
       "    events.on('delete.Cell', handleClearOutput);\n",
       "\n",
       "    /* Handle when a new output is added */\n",
       "    events.on('output_added.OutputArea', handleAddOutput);\n",
       "\n",
       "    /**\n",
       "     * Register the mime type and append_mime function with output_area\n",
       "     */\n",
       "    OutputArea.prototype.register_mime_type(EXEC_MIME_TYPE, append_mime, {\n",
       "      /* Is output safe? */\n",
       "      safe: true,\n",
       "      /* Index of renderer in `output_area.display_order` */\n",
       "      index: 0\n",
       "    });\n",
       "  }\n",
       "\n",
       "  // register the mime type if in Jupyter Notebook environment and previously unregistered\n",
       "  if (root.Jupyter !== undefined) {\n",
       "    var events = require('base/js/events');\n",
       "    var OutputArea = require('notebook/js/outputarea').OutputArea;\n",
       "\n",
       "    if (OutputArea.prototype.mime_types().indexOf(EXEC_MIME_TYPE) == -1) {\n",
       "      register_renderer(events, OutputArea);\n",
       "    }\n",
       "  }\n",
       "\n",
       "  \n",
       "  if (typeof (root._bokeh_timeout) === \"undefined\" || force === true) {\n",
       "    root._bokeh_timeout = Date.now() + 5000;\n",
       "    root._bokeh_failed_load = false;\n",
       "  }\n",
       "\n",
       "  var NB_LOAD_WARNING = {'data': {'text/html':\n",
       "     \"<div style='background-color: #fdd'>\\n\"+\n",
       "     \"<p>\\n\"+\n",
       "     \"BokehJS does not appear to have successfully loaded. If loading BokehJS from CDN, this \\n\"+\n",
       "     \"may be due to a slow or bad network connection. Possible fixes:\\n\"+\n",
       "     \"</p>\\n\"+\n",
       "     \"<ul>\\n\"+\n",
       "     \"<li>re-rerun `output_notebook()` to attempt to load from CDN again, or</li>\\n\"+\n",
       "     \"<li>use INLINE resources instead, as so:</li>\\n\"+\n",
       "     \"</ul>\\n\"+\n",
       "     \"<code>\\n\"+\n",
       "     \"from bokeh.resources import INLINE\\n\"+\n",
       "     \"output_notebook(resources=INLINE)\\n\"+\n",
       "     \"</code>\\n\"+\n",
       "     \"</div>\"}};\n",
       "\n",
       "  function display_loaded() {\n",
       "    var el = document.getElementById(null);\n",
       "    if (el != null) {\n",
       "      el.textContent = \"BokehJS is loading...\";\n",
       "    }\n",
       "    if (root.Bokeh !== undefined) {\n",
       "      if (el != null) {\n",
       "        el.textContent = \"BokehJS \" + root.Bokeh.version + \" successfully loaded.\";\n",
       "      }\n",
       "    } else if (Date.now() < root._bokeh_timeout) {\n",
       "      setTimeout(display_loaded, 100)\n",
       "    }\n",
       "  }\n",
       "\n",
       "\n",
       "  function run_callbacks() {\n",
       "    try {\n",
       "      root._bokeh_onload_callbacks.forEach(function(callback) {\n",
       "        if (callback != null)\n",
       "          callback();\n",
       "      });\n",
       "    } finally {\n",
       "      delete root._bokeh_onload_callbacks\n",
       "    }\n",
       "    console.debug(\"Bokeh: all callbacks have finished\");\n",
       "  }\n",
       "\n",
       "  function load_libs(css_urls, js_urls, callback) {\n",
       "    if (css_urls == null) css_urls = [];\n",
       "    if (js_urls == null) js_urls = [];\n",
       "\n",
       "    root._bokeh_onload_callbacks.push(callback);\n",
       "    if (root._bokeh_is_loading > 0) {\n",
       "      console.debug(\"Bokeh: BokehJS is being loaded, scheduling callback at\", now());\n",
       "      return null;\n",
       "    }\n",
       "    if (js_urls == null || js_urls.length === 0) {\n",
       "      run_callbacks();\n",
       "      return null;\n",
       "    }\n",
       "    console.debug(\"Bokeh: BokehJS not loaded, scheduling load and callback at\", now());\n",
       "    root._bokeh_is_loading = css_urls.length + js_urls.length;\n",
       "\n",
       "    function on_load() {\n",
       "      root._bokeh_is_loading--;\n",
       "      if (root._bokeh_is_loading === 0) {\n",
       "        console.debug(\"Bokeh: all BokehJS libraries/stylesheets loaded\");\n",
       "        run_callbacks()\n",
       "      }\n",
       "    }\n",
       "\n",
       "    function on_error() {\n",
       "      console.error(\"failed to load \" + url);\n",
       "    }\n",
       "\n",
       "    for (var i = 0; i < css_urls.length; i++) {\n",
       "      var url = css_urls[i];\n",
       "      const element = document.createElement(\"link\");\n",
       "      element.onload = on_load;\n",
       "      element.onerror = on_error;\n",
       "      element.rel = \"stylesheet\";\n",
       "      element.type = \"text/css\";\n",
       "      element.href = url;\n",
       "      console.debug(\"Bokeh: injecting link tag for BokehJS stylesheet: \", url);\n",
       "      document.body.appendChild(element);\n",
       "    }\n",
       "\n",
       "    for (var i = 0; i < js_urls.length; i++) {\n",
       "      var url = js_urls[i];\n",
       "      var element = document.createElement('script');\n",
       "      element.onload = on_load;\n",
       "      element.onerror = on_error;\n",
       "      element.async = false;\n",
       "      element.src = url;\n",
       "      console.debug(\"Bokeh: injecting script tag for BokehJS library: \", url);\n",
       "      document.head.appendChild(element);\n",
       "    }\n",
       "  };\n",
       "\n",
       "  function inject_raw_css(css) {\n",
       "    const element = document.createElement(\"style\");\n",
       "    element.appendChild(document.createTextNode(css));\n",
       "    document.body.appendChild(element);\n",
       "  }\n",
       "\n",
       "  var js_urls = [\"https://cdn.pydata.org/bokeh/release/bokeh-1.3.4.min.js\", \"https://cdn.pydata.org/bokeh/release/bokeh-widgets-1.3.4.min.js\", \"https://cdn.pydata.org/bokeh/release/bokeh-tables-1.3.4.min.js\", \"https://cdn.pydata.org/bokeh/release/bokeh-gl-1.3.4.min.js\"];\n",
       "  var css_urls = [];\n",
       "\n",
       "  var inline_js = [\n",
       "    function(Bokeh) {\n",
       "      Bokeh.set_log_level(\"info\");\n",
       "    },\n",
       "    \n",
       "    function(Bokeh) {\n",
       "      \n",
       "    },\n",
       "    function(Bokeh) {} // ensure no trailing comma for IE\n",
       "  ];\n",
       "\n",
       "  function run_inline_js() {\n",
       "    \n",
       "    if ((root.Bokeh !== undefined) || (force === true)) {\n",
       "      for (var i = 0; i < inline_js.length; i++) {\n",
       "        inline_js[i].call(root, root.Bokeh);\n",
       "      }} else if (Date.now() < root._bokeh_timeout) {\n",
       "      setTimeout(run_inline_js, 100);\n",
       "    } else if (!root._bokeh_failed_load) {\n",
       "      console.log(\"Bokeh: BokehJS failed to load within specified timeout.\");\n",
       "      root._bokeh_failed_load = true;\n",
       "    } else if (force !== true) {\n",
       "      var cell = $(document.getElementById(null)).parents('.cell').data().cell;\n",
       "      cell.output_area.append_execute_result(NB_LOAD_WARNING)\n",
       "    }\n",
       "\n",
       "  }\n",
       "\n",
       "  if (root._bokeh_is_loading === 0) {\n",
       "    console.debug(\"Bokeh: BokehJS loaded, going straight to plotting\");\n",
       "    run_inline_js();\n",
       "  } else {\n",
       "    load_libs(css_urls, js_urls, function() {\n",
       "      console.debug(\"Bokeh: BokehJS plotting callback run at\", now());\n",
       "      run_inline_js();\n",
       "    });\n",
       "  }\n",
       "}(window));"
      ],
      "application/vnd.bokehjs_load.v0+json": "\n(function(root) {\n  function now() {\n    return new Date();\n  }\n\n  var force = true;\n\n  if (typeof root._bokeh_onload_callbacks === \"undefined\" || force === true) {\n    root._bokeh_onload_callbacks = [];\n    root._bokeh_is_loading = undefined;\n  }\n\n  \n\n  \n  if (typeof (root._bokeh_timeout) === \"undefined\" || force === true) {\n    root._bokeh_timeout = Date.now() + 5000;\n    root._bokeh_failed_load = false;\n  }\n\n  var NB_LOAD_WARNING = {'data': {'text/html':\n     \"<div style='background-color: #fdd'>\\n\"+\n     \"<p>\\n\"+\n     \"BokehJS does not appear to have successfully loaded. If loading BokehJS from CDN, this \\n\"+\n     \"may be due to a slow or bad network connection. Possible fixes:\\n\"+\n     \"</p>\\n\"+\n     \"<ul>\\n\"+\n     \"<li>re-rerun `output_notebook()` to attempt to load from CDN again, or</li>\\n\"+\n     \"<li>use INLINE resources instead, as so:</li>\\n\"+\n     \"</ul>\\n\"+\n     \"<code>\\n\"+\n     \"from bokeh.resources import INLINE\\n\"+\n     \"output_notebook(resources=INLINE)\\n\"+\n     \"</code>\\n\"+\n     \"</div>\"}};\n\n  function display_loaded() {\n    var el = document.getElementById(null);\n    if (el != null) {\n      el.textContent = \"BokehJS is loading...\";\n    }\n    if (root.Bokeh !== undefined) {\n      if (el != null) {\n        el.textContent = \"BokehJS \" + root.Bokeh.version + \" successfully loaded.\";\n      }\n    } else if (Date.now() < root._bokeh_timeout) {\n      setTimeout(display_loaded, 100)\n    }\n  }\n\n\n  function run_callbacks() {\n    try {\n      root._bokeh_onload_callbacks.forEach(function(callback) {\n        if (callback != null)\n          callback();\n      });\n    } finally {\n      delete root._bokeh_onload_callbacks\n    }\n    console.debug(\"Bokeh: all callbacks have finished\");\n  }\n\n  function load_libs(css_urls, js_urls, callback) {\n    if (css_urls == null) css_urls = [];\n    if (js_urls == null) js_urls = [];\n\n    root._bokeh_onload_callbacks.push(callback);\n    if (root._bokeh_is_loading > 0) {\n      console.debug(\"Bokeh: BokehJS is being loaded, scheduling callback at\", now());\n      return null;\n    }\n    if (js_urls == null || js_urls.length === 0) {\n      run_callbacks();\n      return null;\n    }\n    console.debug(\"Bokeh: BokehJS not loaded, scheduling load and callback at\", now());\n    root._bokeh_is_loading = css_urls.length + js_urls.length;\n\n    function on_load() {\n      root._bokeh_is_loading--;\n      if (root._bokeh_is_loading === 0) {\n        console.debug(\"Bokeh: all BokehJS libraries/stylesheets loaded\");\n        run_callbacks()\n      }\n    }\n\n    function on_error() {\n      console.error(\"failed to load \" + url);\n    }\n\n    for (var i = 0; i < css_urls.length; i++) {\n      var url = css_urls[i];\n      const element = document.createElement(\"link\");\n      element.onload = on_load;\n      element.onerror = on_error;\n      element.rel = \"stylesheet\";\n      element.type = \"text/css\";\n      element.href = url;\n      console.debug(\"Bokeh: injecting link tag for BokehJS stylesheet: \", url);\n      document.body.appendChild(element);\n    }\n\n    for (var i = 0; i < js_urls.length; i++) {\n      var url = js_urls[i];\n      var element = document.createElement('script');\n      element.onload = on_load;\n      element.onerror = on_error;\n      element.async = false;\n      element.src = url;\n      console.debug(\"Bokeh: injecting script tag for BokehJS library: \", url);\n      document.head.appendChild(element);\n    }\n  };\n\n  function inject_raw_css(css) {\n    const element = document.createElement(\"style\");\n    element.appendChild(document.createTextNode(css));\n    document.body.appendChild(element);\n  }\n\n  var js_urls = [\"https://cdn.pydata.org/bokeh/release/bokeh-1.3.4.min.js\", \"https://cdn.pydata.org/bokeh/release/bokeh-widgets-1.3.4.min.js\", \"https://cdn.pydata.org/bokeh/release/bokeh-tables-1.3.4.min.js\", \"https://cdn.pydata.org/bokeh/release/bokeh-gl-1.3.4.min.js\"];\n  var css_urls = [];\n\n  var inline_js = [\n    function(Bokeh) {\n      Bokeh.set_log_level(\"info\");\n    },\n    \n    function(Bokeh) {\n      \n    },\n    function(Bokeh) {} // ensure no trailing comma for IE\n  ];\n\n  function run_inline_js() {\n    \n    if ((root.Bokeh !== undefined) || (force === true)) {\n      for (var i = 0; i < inline_js.length; i++) {\n        inline_js[i].call(root, root.Bokeh);\n      }} else if (Date.now() < root._bokeh_timeout) {\n      setTimeout(run_inline_js, 100);\n    } else if (!root._bokeh_failed_load) {\n      console.log(\"Bokeh: BokehJS failed to load within specified timeout.\");\n      root._bokeh_failed_load = true;\n    } else if (force !== true) {\n      var cell = $(document.getElementById(null)).parents('.cell').data().cell;\n      cell.output_area.append_execute_result(NB_LOAD_WARNING)\n    }\n\n  }\n\n  if (root._bokeh_is_loading === 0) {\n    console.debug(\"Bokeh: BokehJS loaded, going straight to plotting\");\n    run_inline_js();\n  } else {\n    load_libs(css_urls, js_urls, function() {\n      console.debug(\"Bokeh: BokehJS plotting callback run at\", now());\n      run_inline_js();\n    });\n  }\n}(window));"
     },
     "metadata": {},
     "output_type": "display_data"
    },
    {
     "data": {
      "text/html": [
       "\n",
       "\n",
       "\n",
       "\n",
       "\n",
       "\n",
       "  <div class=\"bk-root\" id=\"97ca8456-81b0-460c-a264-9ef2ec0d834e\" data-root-id=\"1455\"></div>\n"
      ]
     },
     "metadata": {},
     "output_type": "display_data"
    },
    {
     "data": {
      "application/javascript": [
       "(function(root) {\n",
       "  function embed_document(root) {\n",
       "    \n",
       "  var docs_json = {\"5416293e-4642-4930-961b-277218dfa1d7\":{\"roots\":{\"references\":[{\"attributes\":{\"below\":[{\"id\":\"1464\",\"type\":\"LinearAxis\"}],\"center\":[{\"id\":\"1468\",\"type\":\"Grid\"},{\"id\":\"1473\",\"type\":\"Grid\"},{\"id\":\"1503\",\"type\":\"Legend\"}],\"left\":[{\"id\":\"1469\",\"type\":\"LinearAxis\"}],\"plot_height\":450,\"plot_width\":750,\"renderers\":[{\"id\":\"1494\",\"type\":\"GlyphRenderer\"}],\"title\":{\"id\":\"1487\",\"type\":\"Title\"},\"toolbar\":{\"id\":\"1480\",\"type\":\"Toolbar\"},\"x_range\":{\"id\":\"1456\",\"type\":\"DataRange1d\"},\"x_scale\":{\"id\":\"1460\",\"type\":\"LinearScale\"},\"y_range\":{\"id\":\"1458\",\"type\":\"DataRange1d\"},\"y_scale\":{\"id\":\"1462\",\"type\":\"LinearScale\"}},\"id\":\"1455\",\"subtype\":\"Figure\",\"type\":\"Plot\"},{\"attributes\":{},\"id\":\"1477\",\"type\":\"SaveTool\"},{\"attributes\":{\"overlay\":{\"id\":\"1502\",\"type\":\"BoxAnnotation\"}},\"id\":\"1476\",\"type\":\"BoxZoomTool\"},{\"attributes\":{\"data_source\":{\"id\":\"1490\",\"type\":\"ColumnDataSource\"},\"glyph\":{\"id\":\"1492\",\"type\":\"MultiLine\"},\"hover_glyph\":null,\"muted_glyph\":null,\"nonselection_glyph\":{\"id\":\"1493\",\"type\":\"MultiLine\"},\"selection_glyph\":null,\"view\":{\"id\":\"1495\",\"type\":\"CDSView\"}},\"id\":\"1494\",\"type\":\"GlyphRenderer\"},{\"attributes\":{\"callback\":null,\"data\":{\"color\":[\"red\",\"blue\"],\"labels\":[\"1-sim\",\"cos_sim\"],\"xs\":[[10,20,30,40,50,60,70,80,90,100,110,120,130,140,150],[10,20,30,40,50,60,70,80,90,100,110,120,130,140,150]],\"ys\":[[-0.06395572655285238,-0.06389293735674748,-0.06552761837183398,-0.0651004916936507,-0.05312970671060968,-0.05545338315030126,0.028307381225482323,0.02992526237808885,0.028364540211741646,0.028358144436045615,0.027570318674727808,0.026231708458996375,0.025208324207860584,0.02488822939780944,0.02773568340100449],[-0.11076109680586989,-0.0969260697840599,-0.0881951379974988,-0.08234259892280921,-0.037116519785909574,-0.03702102148500643,0.016417790106153417,0.02775334462217424,0.02750840164443863,0.024858542647194816,0.02225038380894484,-0.12061992905270347,-0.12061992905270347,-0.12087461389438996,-0.12087461389438996]]},\"selected\":{\"id\":\"1512\",\"type\":\"Selection\"},\"selection_policy\":{\"id\":\"1513\",\"type\":\"UnionRenderers\"}},\"id\":\"1490\",\"type\":\"ColumnDataSource\"},{\"attributes\":{\"formatter\":{\"id\":\"1500\",\"type\":\"BasicTickFormatter\"},\"ticker\":{\"id\":\"1470\",\"type\":\"BasicTicker\"}},\"id\":\"1469\",\"type\":\"LinearAxis\"},{\"attributes\":{\"callback\":null},\"id\":\"1456\",\"type\":\"DataRange1d\"},{\"attributes\":{\"line_alpha\":{\"value\":0.1},\"line_color\":{\"value\":\"#1f77b4\"},\"line_width\":{\"value\":2},\"xs\":{\"field\":\"xs\"},\"ys\":{\"field\":\"ys\"}},\"id\":\"1493\",\"type\":\"MultiLine\"},{\"attributes\":{},\"id\":\"1478\",\"type\":\"ResetTool\"},{\"attributes\":{},\"id\":\"1498\",\"type\":\"BasicTickFormatter\"},{\"attributes\":{},\"id\":\"1470\",\"type\":\"BasicTicker\"},{\"attributes\":{},\"id\":\"1479\",\"type\":\"HelpTool\"},{\"attributes\":{\"source\":{\"id\":\"1490\",\"type\":\"ColumnDataSource\"}},\"id\":\"1495\",\"type\":\"CDSView\"},{\"attributes\":{},\"id\":\"1465\",\"type\":\"BasicTicker\"},{\"attributes\":{\"label\":{\"field\":\"labels\"},\"renderers\":[{\"id\":\"1494\",\"type\":\"GlyphRenderer\"}]},\"id\":\"1504\",\"type\":\"LegendItem\"},{\"attributes\":{\"formatter\":{\"id\":\"1498\",\"type\":\"BasicTickFormatter\"},\"ticker\":{\"id\":\"1465\",\"type\":\"BasicTicker\"}},\"id\":\"1464\",\"type\":\"LinearAxis\"},{\"attributes\":{\"active_drag\":\"auto\",\"active_inspect\":\"auto\",\"active_multi\":null,\"active_scroll\":\"auto\",\"active_tap\":\"auto\",\"tools\":[{\"id\":\"1474\",\"type\":\"PanTool\"},{\"id\":\"1475\",\"type\":\"WheelZoomTool\"},{\"id\":\"1476\",\"type\":\"BoxZoomTool\"},{\"id\":\"1477\",\"type\":\"SaveTool\"},{\"id\":\"1478\",\"type\":\"ResetTool\"},{\"id\":\"1479\",\"type\":\"HelpTool\"}]},\"id\":\"1480\",\"type\":\"Toolbar\"},{\"attributes\":{\"dimension\":1,\"ticker\":{\"id\":\"1470\",\"type\":\"BasicTicker\"}},\"id\":\"1473\",\"type\":\"Grid\"},{\"attributes\":{},\"id\":\"1513\",\"type\":\"UnionRenderers\"},{\"attributes\":{\"line_color\":{\"field\":\"color\"},\"line_width\":{\"value\":2},\"xs\":{\"field\":\"xs\"},\"ys\":{\"field\":\"ys\"}},\"id\":\"1492\",\"type\":\"MultiLine\"},{\"attributes\":{},\"id\":\"1474\",\"type\":\"PanTool\"},{\"attributes\":{},\"id\":\"1500\",\"type\":\"BasicTickFormatter\"},{\"attributes\":{\"bottom_units\":\"screen\",\"fill_alpha\":{\"value\":0.5},\"fill_color\":{\"value\":\"lightgrey\"},\"left_units\":\"screen\",\"level\":\"overlay\",\"line_alpha\":{\"value\":1.0},\"line_color\":{\"value\":\"black\"},\"line_dash\":[4,4],\"line_width\":{\"value\":2},\"render_mode\":\"css\",\"right_units\":\"screen\",\"top_units\":\"screen\"},\"id\":\"1502\",\"type\":\"BoxAnnotation\"},{\"attributes\":{\"callback\":null},\"id\":\"1458\",\"type\":\"DataRange1d\"},{\"attributes\":{\"items\":[{\"id\":\"1504\",\"type\":\"LegendItem\"}],\"location\":\"top_left\"},\"id\":\"1503\",\"type\":\"Legend\"},{\"attributes\":{},\"id\":\"1475\",\"type\":\"WheelZoomTool\"},{\"attributes\":{},\"id\":\"1512\",\"type\":\"Selection\"},{\"attributes\":{\"ticker\":{\"id\":\"1465\",\"type\":\"BasicTicker\"}},\"id\":\"1468\",\"type\":\"Grid\"},{\"attributes\":{\"align\":\"center\",\"text\":\"HDBSCAN Silhouette index\",\"text_font_size\":{\"value\":\"20px\"}},\"id\":\"1487\",\"type\":\"Title\"},{\"attributes\":{},\"id\":\"1460\",\"type\":\"LinearScale\"},{\"attributes\":{},\"id\":\"1462\",\"type\":\"LinearScale\"}],\"root_ids\":[\"1455\"]},\"title\":\"Bokeh Application\",\"version\":\"1.3.4\"}};\n",
       "  var render_items = [{\"docid\":\"5416293e-4642-4930-961b-277218dfa1d7\",\"roots\":{\"1455\":\"97ca8456-81b0-460c-a264-9ef2ec0d834e\"}}];\n",
       "  root.Bokeh.embed.embed_items_notebook(docs_json, render_items);\n",
       "\n",
       "  }\n",
       "  if (root.Bokeh !== undefined) {\n",
       "    embed_document(root);\n",
       "  } else {\n",
       "    var attempts = 0;\n",
       "    var timer = setInterval(function(root) {\n",
       "      if (root.Bokeh !== undefined) {\n",
       "        embed_document(root);\n",
       "        clearInterval(timer);\n",
       "      }\n",
       "      attempts++;\n",
       "      if (attempts > 100) {\n",
       "        console.log(\"Bokeh: ERROR: Unable to run BokehJS code because BokehJS library is missing\");\n",
       "        clearInterval(timer);\n",
       "      }\n",
       "    }, 10, root)\n",
       "  }\n",
       "})(window);"
      ],
      "application/vnd.bokehjs_exec.v0+json": ""
     },
     "metadata": {
      "application/vnd.bokehjs_exec.v0+json": {
       "id": "1455"
      }
     },
     "output_type": "display_data"
    }
   ],
   "source": [
    "h_plot_evaluation(title=\"HDBSCAN Silhouette index\", metric=h_silhouette, c=min_obs, label1=\"1-sim\",\n",
    "                  metric2=h_silhouette2, label2=\"cos_sim\", pos_legend=\"top_left\")"
   ]
  },
  {
   "cell_type": "markdown",
   "metadata": {},
   "source": [
    "<font size=3>\n",
    "    \n",
    "Come si era notato anche dalla distribuzione delle osservazioni e dal numero di cluster, le performance di questo metodo non potevano essere eccellenti e qui si ha la conferma. La maggior parte dei valori è negativa e si supera lo zero in poche circostanze. Come è sempre accaduto fino a questo punto i risultati ricavati utilizzando la prima matrice, quella del complementare, sembrano essere migliori."
   ]
  },
  {
   "cell_type": "code",
   "execution_count": 52,
   "metadata": {},
   "outputs": [
    {
     "data": {
      "application/javascript": [
       "\n",
       "(function(root) {\n",
       "  function now() {\n",
       "    return new Date();\n",
       "  }\n",
       "\n",
       "  var force = true;\n",
       "\n",
       "  if (typeof root._bokeh_onload_callbacks === \"undefined\" || force === true) {\n",
       "    root._bokeh_onload_callbacks = [];\n",
       "    root._bokeh_is_loading = undefined;\n",
       "  }\n",
       "\n",
       "  var JS_MIME_TYPE = 'application/javascript';\n",
       "  var HTML_MIME_TYPE = 'text/html';\n",
       "  var EXEC_MIME_TYPE = 'application/vnd.bokehjs_exec.v0+json';\n",
       "  var CLASS_NAME = 'output_bokeh rendered_html';\n",
       "\n",
       "  /**\n",
       "   * Render data to the DOM node\n",
       "   */\n",
       "  function render(props, node) {\n",
       "    var script = document.createElement(\"script\");\n",
       "    node.appendChild(script);\n",
       "  }\n",
       "\n",
       "  /**\n",
       "   * Handle when an output is cleared or removed\n",
       "   */\n",
       "  function handleClearOutput(event, handle) {\n",
       "    var cell = handle.cell;\n",
       "\n",
       "    var id = cell.output_area._bokeh_element_id;\n",
       "    var server_id = cell.output_area._bokeh_server_id;\n",
       "    // Clean up Bokeh references\n",
       "    if (id != null && id in Bokeh.index) {\n",
       "      Bokeh.index[id].model.document.clear();\n",
       "      delete Bokeh.index[id];\n",
       "    }\n",
       "\n",
       "    if (server_id !== undefined) {\n",
       "      // Clean up Bokeh references\n",
       "      var cmd = \"from bokeh.io.state import curstate; print(curstate().uuid_to_server['\" + server_id + \"'].get_sessions()[0].document.roots[0]._id)\";\n",
       "      cell.notebook.kernel.execute(cmd, {\n",
       "        iopub: {\n",
       "          output: function(msg) {\n",
       "            var id = msg.content.text.trim();\n",
       "            if (id in Bokeh.index) {\n",
       "              Bokeh.index[id].model.document.clear();\n",
       "              delete Bokeh.index[id];\n",
       "            }\n",
       "          }\n",
       "        }\n",
       "      });\n",
       "      // Destroy server and session\n",
       "      var cmd = \"import bokeh.io.notebook as ion; ion.destroy_server('\" + server_id + \"')\";\n",
       "      cell.notebook.kernel.execute(cmd);\n",
       "    }\n",
       "  }\n",
       "\n",
       "  /**\n",
       "   * Handle when a new output is added\n",
       "   */\n",
       "  function handleAddOutput(event, handle) {\n",
       "    var output_area = handle.output_area;\n",
       "    var output = handle.output;\n",
       "\n",
       "    // limit handleAddOutput to display_data with EXEC_MIME_TYPE content only\n",
       "    if ((output.output_type != \"display_data\") || (!output.data.hasOwnProperty(EXEC_MIME_TYPE))) {\n",
       "      return\n",
       "    }\n",
       "\n",
       "    var toinsert = output_area.element.find(\".\" + CLASS_NAME.split(' ')[0]);\n",
       "\n",
       "    if (output.metadata[EXEC_MIME_TYPE][\"id\"] !== undefined) {\n",
       "      toinsert[toinsert.length - 1].firstChild.textContent = output.data[JS_MIME_TYPE];\n",
       "      // store reference to embed id on output_area\n",
       "      output_area._bokeh_element_id = output.metadata[EXEC_MIME_TYPE][\"id\"];\n",
       "    }\n",
       "    if (output.metadata[EXEC_MIME_TYPE][\"server_id\"] !== undefined) {\n",
       "      var bk_div = document.createElement(\"div\");\n",
       "      bk_div.innerHTML = output.data[HTML_MIME_TYPE];\n",
       "      var script_attrs = bk_div.children[0].attributes;\n",
       "      for (var i = 0; i < script_attrs.length; i++) {\n",
       "        toinsert[toinsert.length - 1].firstChild.setAttribute(script_attrs[i].name, script_attrs[i].value);\n",
       "      }\n",
       "      // store reference to server id on output_area\n",
       "      output_area._bokeh_server_id = output.metadata[EXEC_MIME_TYPE][\"server_id\"];\n",
       "    }\n",
       "  }\n",
       "\n",
       "  function register_renderer(events, OutputArea) {\n",
       "\n",
       "    function append_mime(data, metadata, element) {\n",
       "      // create a DOM node to render to\n",
       "      var toinsert = this.create_output_subarea(\n",
       "        metadata,\n",
       "        CLASS_NAME,\n",
       "        EXEC_MIME_TYPE\n",
       "      );\n",
       "      this.keyboard_manager.register_events(toinsert);\n",
       "      // Render to node\n",
       "      var props = {data: data, metadata: metadata[EXEC_MIME_TYPE]};\n",
       "      render(props, toinsert[toinsert.length - 1]);\n",
       "      element.append(toinsert);\n",
       "      return toinsert\n",
       "    }\n",
       "\n",
       "    /* Handle when an output is cleared or removed */\n",
       "    events.on('clear_output.CodeCell', handleClearOutput);\n",
       "    events.on('delete.Cell', handleClearOutput);\n",
       "\n",
       "    /* Handle when a new output is added */\n",
       "    events.on('output_added.OutputArea', handleAddOutput);\n",
       "\n",
       "    /**\n",
       "     * Register the mime type and append_mime function with output_area\n",
       "     */\n",
       "    OutputArea.prototype.register_mime_type(EXEC_MIME_TYPE, append_mime, {\n",
       "      /* Is output safe? */\n",
       "      safe: true,\n",
       "      /* Index of renderer in `output_area.display_order` */\n",
       "      index: 0\n",
       "    });\n",
       "  }\n",
       "\n",
       "  // register the mime type if in Jupyter Notebook environment and previously unregistered\n",
       "  if (root.Jupyter !== undefined) {\n",
       "    var events = require('base/js/events');\n",
       "    var OutputArea = require('notebook/js/outputarea').OutputArea;\n",
       "\n",
       "    if (OutputArea.prototype.mime_types().indexOf(EXEC_MIME_TYPE) == -1) {\n",
       "      register_renderer(events, OutputArea);\n",
       "    }\n",
       "  }\n",
       "\n",
       "  \n",
       "  if (typeof (root._bokeh_timeout) === \"undefined\" || force === true) {\n",
       "    root._bokeh_timeout = Date.now() + 5000;\n",
       "    root._bokeh_failed_load = false;\n",
       "  }\n",
       "\n",
       "  var NB_LOAD_WARNING = {'data': {'text/html':\n",
       "     \"<div style='background-color: #fdd'>\\n\"+\n",
       "     \"<p>\\n\"+\n",
       "     \"BokehJS does not appear to have successfully loaded. If loading BokehJS from CDN, this \\n\"+\n",
       "     \"may be due to a slow or bad network connection. Possible fixes:\\n\"+\n",
       "     \"</p>\\n\"+\n",
       "     \"<ul>\\n\"+\n",
       "     \"<li>re-rerun `output_notebook()` to attempt to load from CDN again, or</li>\\n\"+\n",
       "     \"<li>use INLINE resources instead, as so:</li>\\n\"+\n",
       "     \"</ul>\\n\"+\n",
       "     \"<code>\\n\"+\n",
       "     \"from bokeh.resources import INLINE\\n\"+\n",
       "     \"output_notebook(resources=INLINE)\\n\"+\n",
       "     \"</code>\\n\"+\n",
       "     \"</div>\"}};\n",
       "\n",
       "  function display_loaded() {\n",
       "    var el = document.getElementById(null);\n",
       "    if (el != null) {\n",
       "      el.textContent = \"BokehJS is loading...\";\n",
       "    }\n",
       "    if (root.Bokeh !== undefined) {\n",
       "      if (el != null) {\n",
       "        el.textContent = \"BokehJS \" + root.Bokeh.version + \" successfully loaded.\";\n",
       "      }\n",
       "    } else if (Date.now() < root._bokeh_timeout) {\n",
       "      setTimeout(display_loaded, 100)\n",
       "    }\n",
       "  }\n",
       "\n",
       "\n",
       "  function run_callbacks() {\n",
       "    try {\n",
       "      root._bokeh_onload_callbacks.forEach(function(callback) {\n",
       "        if (callback != null)\n",
       "          callback();\n",
       "      });\n",
       "    } finally {\n",
       "      delete root._bokeh_onload_callbacks\n",
       "    }\n",
       "    console.debug(\"Bokeh: all callbacks have finished\");\n",
       "  }\n",
       "\n",
       "  function load_libs(css_urls, js_urls, callback) {\n",
       "    if (css_urls == null) css_urls = [];\n",
       "    if (js_urls == null) js_urls = [];\n",
       "\n",
       "    root._bokeh_onload_callbacks.push(callback);\n",
       "    if (root._bokeh_is_loading > 0) {\n",
       "      console.debug(\"Bokeh: BokehJS is being loaded, scheduling callback at\", now());\n",
       "      return null;\n",
       "    }\n",
       "    if (js_urls == null || js_urls.length === 0) {\n",
       "      run_callbacks();\n",
       "      return null;\n",
       "    }\n",
       "    console.debug(\"Bokeh: BokehJS not loaded, scheduling load and callback at\", now());\n",
       "    root._bokeh_is_loading = css_urls.length + js_urls.length;\n",
       "\n",
       "    function on_load() {\n",
       "      root._bokeh_is_loading--;\n",
       "      if (root._bokeh_is_loading === 0) {\n",
       "        console.debug(\"Bokeh: all BokehJS libraries/stylesheets loaded\");\n",
       "        run_callbacks()\n",
       "      }\n",
       "    }\n",
       "\n",
       "    function on_error() {\n",
       "      console.error(\"failed to load \" + url);\n",
       "    }\n",
       "\n",
       "    for (var i = 0; i < css_urls.length; i++) {\n",
       "      var url = css_urls[i];\n",
       "      const element = document.createElement(\"link\");\n",
       "      element.onload = on_load;\n",
       "      element.onerror = on_error;\n",
       "      element.rel = \"stylesheet\";\n",
       "      element.type = \"text/css\";\n",
       "      element.href = url;\n",
       "      console.debug(\"Bokeh: injecting link tag for BokehJS stylesheet: \", url);\n",
       "      document.body.appendChild(element);\n",
       "    }\n",
       "\n",
       "    for (var i = 0; i < js_urls.length; i++) {\n",
       "      var url = js_urls[i];\n",
       "      var element = document.createElement('script');\n",
       "      element.onload = on_load;\n",
       "      element.onerror = on_error;\n",
       "      element.async = false;\n",
       "      element.src = url;\n",
       "      console.debug(\"Bokeh: injecting script tag for BokehJS library: \", url);\n",
       "      document.head.appendChild(element);\n",
       "    }\n",
       "  };\n",
       "\n",
       "  function inject_raw_css(css) {\n",
       "    const element = document.createElement(\"style\");\n",
       "    element.appendChild(document.createTextNode(css));\n",
       "    document.body.appendChild(element);\n",
       "  }\n",
       "\n",
       "  var js_urls = [\"https://cdn.pydata.org/bokeh/release/bokeh-1.3.4.min.js\", \"https://cdn.pydata.org/bokeh/release/bokeh-widgets-1.3.4.min.js\", \"https://cdn.pydata.org/bokeh/release/bokeh-tables-1.3.4.min.js\", \"https://cdn.pydata.org/bokeh/release/bokeh-gl-1.3.4.min.js\"];\n",
       "  var css_urls = [];\n",
       "\n",
       "  var inline_js = [\n",
       "    function(Bokeh) {\n",
       "      Bokeh.set_log_level(\"info\");\n",
       "    },\n",
       "    \n",
       "    function(Bokeh) {\n",
       "      \n",
       "    },\n",
       "    function(Bokeh) {} // ensure no trailing comma for IE\n",
       "  ];\n",
       "\n",
       "  function run_inline_js() {\n",
       "    \n",
       "    if ((root.Bokeh !== undefined) || (force === true)) {\n",
       "      for (var i = 0; i < inline_js.length; i++) {\n",
       "        inline_js[i].call(root, root.Bokeh);\n",
       "      }} else if (Date.now() < root._bokeh_timeout) {\n",
       "      setTimeout(run_inline_js, 100);\n",
       "    } else if (!root._bokeh_failed_load) {\n",
       "      console.log(\"Bokeh: BokehJS failed to load within specified timeout.\");\n",
       "      root._bokeh_failed_load = true;\n",
       "    } else if (force !== true) {\n",
       "      var cell = $(document.getElementById(null)).parents('.cell').data().cell;\n",
       "      cell.output_area.append_execute_result(NB_LOAD_WARNING)\n",
       "    }\n",
       "\n",
       "  }\n",
       "\n",
       "  if (root._bokeh_is_loading === 0) {\n",
       "    console.debug(\"Bokeh: BokehJS loaded, going straight to plotting\");\n",
       "    run_inline_js();\n",
       "  } else {\n",
       "    load_libs(css_urls, js_urls, function() {\n",
       "      console.debug(\"Bokeh: BokehJS plotting callback run at\", now());\n",
       "      run_inline_js();\n",
       "    });\n",
       "  }\n",
       "}(window));"
      ],
      "application/vnd.bokehjs_load.v0+json": "\n(function(root) {\n  function now() {\n    return new Date();\n  }\n\n  var force = true;\n\n  if (typeof root._bokeh_onload_callbacks === \"undefined\" || force === true) {\n    root._bokeh_onload_callbacks = [];\n    root._bokeh_is_loading = undefined;\n  }\n\n  \n\n  \n  if (typeof (root._bokeh_timeout) === \"undefined\" || force === true) {\n    root._bokeh_timeout = Date.now() + 5000;\n    root._bokeh_failed_load = false;\n  }\n\n  var NB_LOAD_WARNING = {'data': {'text/html':\n     \"<div style='background-color: #fdd'>\\n\"+\n     \"<p>\\n\"+\n     \"BokehJS does not appear to have successfully loaded. If loading BokehJS from CDN, this \\n\"+\n     \"may be due to a slow or bad network connection. Possible fixes:\\n\"+\n     \"</p>\\n\"+\n     \"<ul>\\n\"+\n     \"<li>re-rerun `output_notebook()` to attempt to load from CDN again, or</li>\\n\"+\n     \"<li>use INLINE resources instead, as so:</li>\\n\"+\n     \"</ul>\\n\"+\n     \"<code>\\n\"+\n     \"from bokeh.resources import INLINE\\n\"+\n     \"output_notebook(resources=INLINE)\\n\"+\n     \"</code>\\n\"+\n     \"</div>\"}};\n\n  function display_loaded() {\n    var el = document.getElementById(null);\n    if (el != null) {\n      el.textContent = \"BokehJS is loading...\";\n    }\n    if (root.Bokeh !== undefined) {\n      if (el != null) {\n        el.textContent = \"BokehJS \" + root.Bokeh.version + \" successfully loaded.\";\n      }\n    } else if (Date.now() < root._bokeh_timeout) {\n      setTimeout(display_loaded, 100)\n    }\n  }\n\n\n  function run_callbacks() {\n    try {\n      root._bokeh_onload_callbacks.forEach(function(callback) {\n        if (callback != null)\n          callback();\n      });\n    } finally {\n      delete root._bokeh_onload_callbacks\n    }\n    console.debug(\"Bokeh: all callbacks have finished\");\n  }\n\n  function load_libs(css_urls, js_urls, callback) {\n    if (css_urls == null) css_urls = [];\n    if (js_urls == null) js_urls = [];\n\n    root._bokeh_onload_callbacks.push(callback);\n    if (root._bokeh_is_loading > 0) {\n      console.debug(\"Bokeh: BokehJS is being loaded, scheduling callback at\", now());\n      return null;\n    }\n    if (js_urls == null || js_urls.length === 0) {\n      run_callbacks();\n      return null;\n    }\n    console.debug(\"Bokeh: BokehJS not loaded, scheduling load and callback at\", now());\n    root._bokeh_is_loading = css_urls.length + js_urls.length;\n\n    function on_load() {\n      root._bokeh_is_loading--;\n      if (root._bokeh_is_loading === 0) {\n        console.debug(\"Bokeh: all BokehJS libraries/stylesheets loaded\");\n        run_callbacks()\n      }\n    }\n\n    function on_error() {\n      console.error(\"failed to load \" + url);\n    }\n\n    for (var i = 0; i < css_urls.length; i++) {\n      var url = css_urls[i];\n      const element = document.createElement(\"link\");\n      element.onload = on_load;\n      element.onerror = on_error;\n      element.rel = \"stylesheet\";\n      element.type = \"text/css\";\n      element.href = url;\n      console.debug(\"Bokeh: injecting link tag for BokehJS stylesheet: \", url);\n      document.body.appendChild(element);\n    }\n\n    for (var i = 0; i < js_urls.length; i++) {\n      var url = js_urls[i];\n      var element = document.createElement('script');\n      element.onload = on_load;\n      element.onerror = on_error;\n      element.async = false;\n      element.src = url;\n      console.debug(\"Bokeh: injecting script tag for BokehJS library: \", url);\n      document.head.appendChild(element);\n    }\n  };\n\n  function inject_raw_css(css) {\n    const element = document.createElement(\"style\");\n    element.appendChild(document.createTextNode(css));\n    document.body.appendChild(element);\n  }\n\n  var js_urls = [\"https://cdn.pydata.org/bokeh/release/bokeh-1.3.4.min.js\", \"https://cdn.pydata.org/bokeh/release/bokeh-widgets-1.3.4.min.js\", \"https://cdn.pydata.org/bokeh/release/bokeh-tables-1.3.4.min.js\", \"https://cdn.pydata.org/bokeh/release/bokeh-gl-1.3.4.min.js\"];\n  var css_urls = [];\n\n  var inline_js = [\n    function(Bokeh) {\n      Bokeh.set_log_level(\"info\");\n    },\n    \n    function(Bokeh) {\n      \n    },\n    function(Bokeh) {} // ensure no trailing comma for IE\n  ];\n\n  function run_inline_js() {\n    \n    if ((root.Bokeh !== undefined) || (force === true)) {\n      for (var i = 0; i < inline_js.length; i++) {\n        inline_js[i].call(root, root.Bokeh);\n      }} else if (Date.now() < root._bokeh_timeout) {\n      setTimeout(run_inline_js, 100);\n    } else if (!root._bokeh_failed_load) {\n      console.log(\"Bokeh: BokehJS failed to load within specified timeout.\");\n      root._bokeh_failed_load = true;\n    } else if (force !== true) {\n      var cell = $(document.getElementById(null)).parents('.cell').data().cell;\n      cell.output_area.append_execute_result(NB_LOAD_WARNING)\n    }\n\n  }\n\n  if (root._bokeh_is_loading === 0) {\n    console.debug(\"Bokeh: BokehJS loaded, going straight to plotting\");\n    run_inline_js();\n  } else {\n    load_libs(css_urls, js_urls, function() {\n      console.debug(\"Bokeh: BokehJS plotting callback run at\", now());\n      run_inline_js();\n    });\n  }\n}(window));"
     },
     "metadata": {},
     "output_type": "display_data"
    },
    {
     "data": {
      "text/html": [
       "\n",
       "\n",
       "\n",
       "\n",
       "\n",
       "\n",
       "  <div class=\"bk-root\" id=\"93aa6cbe-206a-4789-92c0-3dccc34a150c\" data-root-id=\"1568\"></div>\n"
      ]
     },
     "metadata": {},
     "output_type": "display_data"
    },
    {
     "data": {
      "application/javascript": [
       "(function(root) {\n",
       "  function embed_document(root) {\n",
       "    \n",
       "  var docs_json = {\"6b7da265-8c3f-4c1d-8f9f-d74320e91c54\":{\"roots\":{\"references\":[{\"attributes\":{\"below\":[{\"id\":\"1577\",\"type\":\"LinearAxis\"}],\"center\":[{\"id\":\"1581\",\"type\":\"Grid\"},{\"id\":\"1586\",\"type\":\"Grid\"},{\"id\":\"1616\",\"type\":\"Legend\"}],\"left\":[{\"id\":\"1582\",\"type\":\"LinearAxis\"}],\"plot_height\":450,\"plot_width\":750,\"renderers\":[{\"id\":\"1607\",\"type\":\"GlyphRenderer\"}],\"title\":{\"id\":\"1600\",\"type\":\"Title\"},\"toolbar\":{\"id\":\"1593\",\"type\":\"Toolbar\"},\"x_range\":{\"id\":\"1569\",\"type\":\"DataRange1d\"},\"x_scale\":{\"id\":\"1573\",\"type\":\"LinearScale\"},\"y_range\":{\"id\":\"1571\",\"type\":\"DataRange1d\"},\"y_scale\":{\"id\":\"1575\",\"type\":\"LinearScale\"}},\"id\":\"1568\",\"subtype\":\"Figure\",\"type\":\"Plot\"},{\"attributes\":{\"callback\":null},\"id\":\"1571\",\"type\":\"DataRange1d\"},{\"attributes\":{\"overlay\":{\"id\":\"1615\",\"type\":\"BoxAnnotation\"}},\"id\":\"1589\",\"type\":\"BoxZoomTool\"},{\"attributes\":{\"align\":\"center\",\"text\":\"HDBSCAN Calinski-Harabasz score\",\"text_font_size\":{\"value\":\"20px\"}},\"id\":\"1600\",\"type\":\"Title\"},{\"attributes\":{\"active_drag\":\"auto\",\"active_inspect\":\"auto\",\"active_multi\":null,\"active_scroll\":\"auto\",\"active_tap\":\"auto\",\"tools\":[{\"id\":\"1587\",\"type\":\"PanTool\"},{\"id\":\"1588\",\"type\":\"WheelZoomTool\"},{\"id\":\"1589\",\"type\":\"BoxZoomTool\"},{\"id\":\"1590\",\"type\":\"SaveTool\"},{\"id\":\"1591\",\"type\":\"ResetTool\"},{\"id\":\"1592\",\"type\":\"HelpTool\"}]},\"id\":\"1593\",\"type\":\"Toolbar\"},{\"attributes\":{},\"id\":\"1626\",\"type\":\"UnionRenderers\"},{\"attributes\":{},\"id\":\"1583\",\"type\":\"BasicTicker\"},{\"attributes\":{},\"id\":\"1625\",\"type\":\"Selection\"},{\"attributes\":{\"callback\":null},\"id\":\"1569\",\"type\":\"DataRange1d\"},{\"attributes\":{},\"id\":\"1592\",\"type\":\"HelpTool\"},{\"attributes\":{\"dimension\":1,\"ticker\":{\"id\":\"1583\",\"type\":\"BasicTicker\"}},\"id\":\"1586\",\"type\":\"Grid\"},{\"attributes\":{\"formatter\":{\"id\":\"1611\",\"type\":\"BasicTickFormatter\"},\"ticker\":{\"id\":\"1578\",\"type\":\"BasicTicker\"}},\"id\":\"1577\",\"type\":\"LinearAxis\"},{\"attributes\":{},\"id\":\"1588\",\"type\":\"WheelZoomTool\"},{\"attributes\":{},\"id\":\"1590\",\"type\":\"SaveTool\"},{\"attributes\":{\"bottom_units\":\"screen\",\"fill_alpha\":{\"value\":0.5},\"fill_color\":{\"value\":\"lightgrey\"},\"left_units\":\"screen\",\"level\":\"overlay\",\"line_alpha\":{\"value\":1.0},\"line_color\":{\"value\":\"black\"},\"line_dash\":[4,4],\"line_width\":{\"value\":2},\"render_mode\":\"css\",\"right_units\":\"screen\",\"top_units\":\"screen\"},\"id\":\"1615\",\"type\":\"BoxAnnotation\"},{\"attributes\":{\"formatter\":{\"id\":\"1613\",\"type\":\"BasicTickFormatter\"},\"ticker\":{\"id\":\"1583\",\"type\":\"BasicTicker\"}},\"id\":\"1582\",\"type\":\"LinearAxis\"},{\"attributes\":{},\"id\":\"1578\",\"type\":\"BasicTicker\"},{\"attributes\":{\"line_alpha\":{\"value\":0.1},\"line_color\":{\"value\":\"#1f77b4\"},\"line_width\":{\"value\":2},\"xs\":{\"field\":\"xs\"},\"ys\":{\"field\":\"ys\"}},\"id\":\"1606\",\"type\":\"MultiLine\"},{\"attributes\":{\"ticker\":{\"id\":\"1578\",\"type\":\"BasicTicker\"}},\"id\":\"1581\",\"type\":\"Grid\"},{\"attributes\":{},\"id\":\"1611\",\"type\":\"BasicTickFormatter\"},{\"attributes\":{\"data_source\":{\"id\":\"1603\",\"type\":\"ColumnDataSource\"},\"glyph\":{\"id\":\"1605\",\"type\":\"MultiLine\"},\"hover_glyph\":null,\"muted_glyph\":null,\"nonselection_glyph\":{\"id\":\"1606\",\"type\":\"MultiLine\"},\"selection_glyph\":null,\"view\":{\"id\":\"1608\",\"type\":\"CDSView\"}},\"id\":\"1607\",\"type\":\"GlyphRenderer\"},{\"attributes\":{},\"id\":\"1587\",\"type\":\"PanTool\"},{\"attributes\":{},\"id\":\"1575\",\"type\":\"LinearScale\"},{\"attributes\":{\"label\":{\"field\":\"labels\"},\"renderers\":[{\"id\":\"1607\",\"type\":\"GlyphRenderer\"}]},\"id\":\"1617\",\"type\":\"LegendItem\"},{\"attributes\":{},\"id\":\"1591\",\"type\":\"ResetTool\"},{\"attributes\":{\"source\":{\"id\":\"1603\",\"type\":\"ColumnDataSource\"}},\"id\":\"1608\",\"type\":\"CDSView\"},{\"attributes\":{\"line_color\":{\"field\":\"color\"},\"line_width\":{\"value\":2},\"xs\":{\"field\":\"xs\"},\"ys\":{\"field\":\"ys\"}},\"id\":\"1605\",\"type\":\"MultiLine\"},{\"attributes\":{},\"id\":\"1613\",\"type\":\"BasicTickFormatter\"},{\"attributes\":{\"items\":[{\"id\":\"1617\",\"type\":\"LegendItem\"}],\"location\":\"top_left\"},\"id\":\"1616\",\"type\":\"Legend\"},{\"attributes\":{\"callback\":null,\"data\":{\"color\":[\"red\",\"blue\"],\"labels\":[\"1-sim\",\"cos_sim\"],\"xs\":[[10,20,30,40,50,60,70,80,90,100,110,120,130,140,150],[10,20,30,40,50,60,70,80,90,100,110,120,130,140,150]],\"ys\":[[9.879669776863228,29.29482946141364,54.82392449170018,77.7318097342791,85.19865217953516,80.0833573346656,42.99939144581848,55.760745010234864,58.7876714679563,65.69743689849956,72.81910426098742,84.11282277356901,91.28315447646031,109.08376109724551,90.21344525774678],[14.438097865926903,17.59217742165168,23.3027647973723,24.394480891055583,28.35192884500289,28.34931854721102,40.28680670524776,35.91977967000369,36.14553310703826,37.398940136659796,54.57216682243621,189.706361570444,189.706361570444,193.25568485083886,193.25568485083886]]},\"selected\":{\"id\":\"1625\",\"type\":\"Selection\"},\"selection_policy\":{\"id\":\"1626\",\"type\":\"UnionRenderers\"}},\"id\":\"1603\",\"type\":\"ColumnDataSource\"},{\"attributes\":{},\"id\":\"1573\",\"type\":\"LinearScale\"}],\"root_ids\":[\"1568\"]},\"title\":\"Bokeh Application\",\"version\":\"1.3.4\"}};\n",
       "  var render_items = [{\"docid\":\"6b7da265-8c3f-4c1d-8f9f-d74320e91c54\",\"roots\":{\"1568\":\"93aa6cbe-206a-4789-92c0-3dccc34a150c\"}}];\n",
       "  root.Bokeh.embed.embed_items_notebook(docs_json, render_items);\n",
       "\n",
       "  }\n",
       "  if (root.Bokeh !== undefined) {\n",
       "    embed_document(root);\n",
       "  } else {\n",
       "    var attempts = 0;\n",
       "    var timer = setInterval(function(root) {\n",
       "      if (root.Bokeh !== undefined) {\n",
       "        embed_document(root);\n",
       "        clearInterval(timer);\n",
       "      }\n",
       "      attempts++;\n",
       "      if (attempts > 100) {\n",
       "        console.log(\"Bokeh: ERROR: Unable to run BokehJS code because BokehJS library is missing\");\n",
       "        clearInterval(timer);\n",
       "      }\n",
       "    }, 10, root)\n",
       "  }\n",
       "})(window);"
      ],
      "application/vnd.bokehjs_exec.v0+json": ""
     },
     "metadata": {
      "application/vnd.bokehjs_exec.v0+json": {
       "id": "1568"
      }
     },
     "output_type": "display_data"
    }
   ],
   "source": [
    "h_plot_evaluation(title=\"HDBSCAN Calinski-Harabasz score\", metric=h_CH, c=min_obs, label1=\"1-sim\",\n",
    "                  metric2=h_CH2, label2=\"cos_sim\", pos_legend=\"top_left\")"
   ]
  },
  {
   "cell_type": "markdown",
   "metadata": {},
   "source": [
    "<font size=3>\n",
    "    \n",
    "Data la natura della clusterizzazione, pochi cluster e sostanzialmente tutte le osservazioni classificate in un solo, è anche difficile dare un'interpretazione a queste metriche o considerarle affidabili. In questo caso la seconda matrice ottiene risultati migliore e l'indice migliora al crescere delle osservazioni minime per creare un cluster. Considerata però la premessa, l'indice in sé non è molto indicativo o affidabile."
   ]
  },
  {
   "cell_type": "markdown",
   "metadata": {},
   "source": [
    "<br></br>\n",
    "### [2.3.3 Termini più comuni](#2.3.3)"
   ]
  },
  {
   "cell_type": "markdown",
   "metadata": {},
   "source": [
    "<font size=3>\n",
    "    \n",
    "Nessuna delle tecniche di clustering precedenti ha portato a dei risultati decenti, una delle possibili cause è l'eccessivo numero di termini: fra le parole considerate nella matrice di similarità erano presenti anche elementi con una frequenza irrisoria rispetto ai più comuni. L'utilizzo di una matrice di similarità con valori molto compressi, anche se era una delle uniche alternative, ha complicato ulteriormente le analisi.\n",
    "<br></br>\n",
    "\n",
    "Per aggirare la situazione di stallo si considereranno semplicemente i termini più frequenti all'interno delle frasi con una sequenza di tag accettata per effettuare la cluster analysis. Nella funzione creata per identificare i termini idonei, che poi sono risultati gli indici dell'array di similarity, era stata salvata una lista che contiene tutte le parole che hanno superato i diversi filtri dell'algoritmo. Da questa lista si parte per trovare i termini più frequenti."
   ]
  },
  {
   "cell_type": "code",
   "execution_count": 53,
   "metadata": {},
   "outputs": [
    {
     "data": {
      "text/plain": [
       "[('movie', 577963),\n",
       " ('film', 442949),\n",
       " ('story', 197627),\n",
       " ('time', 112183),\n",
       " ('character', 86501),\n",
       " ('way', 75376),\n",
       " ('plot', 73817),\n",
       " ('thing', 63447),\n",
       " ('life', 61876),\n",
       " ('scene', 52757)]"
      ]
     },
     "execution_count": 53,
     "metadata": {},
     "output_type": "execute_result"
    }
   ],
   "source": [
    "common_words = Counter(nouns_list).most_common()\n",
    "common_words[0:10]"
   ]
  },
  {
   "cell_type": "markdown",
   "metadata": {},
   "source": [
    "<font size=3>\n",
    "    \n",
    "Si prendono i $1000$ termini più frequenti nei commenti (la frequenza dell'ultimo commento incluso è di poco inferiore al migliaio) partendo dal più comune e si controlla se esistono dei suoi sinonimi. In caso positivo i termini che erano stati salvati nel dizionario delle similarità, sono aggiunti alla lista `filter_words2` che filtrerà i successivi termini nell'iterazione. In questo modo si terranno solamente i sinonimi con la frequenza maggiore. Se un termine non è presente nella nuova lista `primary_words2` allora viene aggiunto, altrimenti si mette uno spazio nullo."
   ]
  },
  {
   "cell_type": "code",
   "execution_count": 54,
   "metadata": {},
   "outputs": [],
   "source": [
    "primary_words2 = []\n",
    "filter_words2 = []\n",
    "for word in common_words[0:1000]:\n",
    "    if word[0] in diz_similarity.keys():\n",
    "        for w in diz_similarity[word[0]]:\n",
    "            filter_words2.append(w)\n",
    "\n",
    "    if word[0] not in filter_words2:\n",
    "        primary_words2.append(word[0])\n",
    "    else:\n",
    "        primary_words2.append('')"
   ]
  },
  {
   "cell_type": "markdown",
   "metadata": {},
   "source": [
    "<font size=3>\n",
    "    \n",
    "Dalla vecchia lista `primary_words` si controllano se i termini sono elencati nella nuova lista `primary_words2`, nel caso non lo siano si prende l'indice corrispondente della lista. La lista degli indici viene girata e in base a questi si tolgono righe e colonne dall'array delle similarità come già fatto in precedenza."
   ]
  },
  {
   "cell_type": "code",
   "execution_count": 55,
   "metadata": {},
   "outputs": [],
   "source": [
    "idx2 = [primary_words.index(word) for word in primary_words if word not in primary_words2]\n",
    "idx2.reverse()\n",
    "\n",
    "n_matrix = np.delete(distances, (idx2), axis=0)\n",
    "n_matrix = np.delete(n_matrix, (idx2), axis=1)"
   ]
  },
  {
   "cell_type": "code",
   "execution_count": 56,
   "metadata": {},
   "outputs": [],
   "source": [
    "for i in idx2:\n",
    "    del primary_words[i]"
   ]
  },
  {
   "cell_type": "markdown",
   "metadata": {},
   "source": [
    "<font size=3>\n",
    "    \n",
    "Le dimensioni della matrice si sono ritotte notevolmente e sono stati filtrati diversi sinonimi in quanto il numero di righe e colonne non è uguale a mille."
   ]
  },
  {
   "cell_type": "code",
   "execution_count": 57,
   "metadata": {},
   "outputs": [
    {
     "data": {
      "text/plain": [
       "(819, 819)"
      ]
     },
     "execution_count": 57,
     "metadata": {},
     "output_type": "execute_result"
    }
   ],
   "source": [
    "n_matrix.shape"
   ]
  },
  {
   "cell_type": "code",
   "execution_count": 58,
   "metadata": {},
   "outputs": [],
   "source": [
    "link = ['single', 'average', 'complete']"
   ]
  },
  {
   "cell_type": "markdown",
   "metadata": {},
   "source": [
    "<font size=3>\n",
    "    \n",
    "A questo punto è possibile effettuare nuovamente la clusterizzazione con le due diverse matrici aggiustando opportunamente il numero di cluster."
   ]
  },
  {
   "cell_type": "code",
   "execution_count": 59,
   "metadata": {},
   "outputs": [
    {
     "data": {
      "application/vnd.jupyter.widget-view+json": {
       "model_id": "b70c31a09e814771b51720db2ffbe732",
       "version_major": 2,
       "version_minor": 0
      },
      "text/plain": [
       "HBox(children=(IntProgress(value=0, description='Method', max=3, style=ProgressStyle(description_width='initia…"
      ]
     },
     "metadata": {},
     "output_type": "display_data"
    },
    {
     "data": {
      "application/vnd.jupyter.widget-view+json": {
       "model_id": "66037bcaaf6d4474ae48d8ba71272703",
       "version_major": 2,
       "version_minor": 0
      },
      "text/plain": [
       "HBox(children=(IntProgress(value=0, description='single', max=29, style=ProgressStyle(description_width='initi…"
      ]
     },
     "metadata": {},
     "output_type": "display_data"
    },
    {
     "name": "stdout",
     "output_type": "stream",
     "text": [
      "\n"
     ]
    },
    {
     "data": {
      "application/vnd.jupyter.widget-view+json": {
       "model_id": "bb9b1a035feb4904a3f4b99c50a7cfdd",
       "version_major": 2,
       "version_minor": 0
      },
      "text/plain": [
       "HBox(children=(IntProgress(value=0, description='average', max=29, style=ProgressStyle(description_width='init…"
      ]
     },
     "metadata": {},
     "output_type": "display_data"
    },
    {
     "name": "stdout",
     "output_type": "stream",
     "text": [
      "\n"
     ]
    },
    {
     "data": {
      "application/vnd.jupyter.widget-view+json": {
       "model_id": "797f56feeb164c97ace32b4a4448dec1",
       "version_major": 2,
       "version_minor": 0
      },
      "text/plain": [
       "HBox(children=(IntProgress(value=0, description='complete', max=29, style=ProgressStyle(description_width='ini…"
      ]
     },
     "metadata": {},
     "output_type": "display_data"
    },
    {
     "name": "stdout",
     "output_type": "stream",
     "text": [
      "\n",
      "\n"
     ]
    },
    {
     "data": {
      "application/vnd.jupyter.widget-view+json": {
       "model_id": "7cb9fa07676048a396aac3715762879f",
       "version_major": 2,
       "version_minor": 0
      },
      "text/plain": [
       "HBox(children=(IntProgress(value=0, description='Method', max=3, style=ProgressStyle(description_width='initia…"
      ]
     },
     "metadata": {},
     "output_type": "display_data"
    },
    {
     "data": {
      "application/vnd.jupyter.widget-view+json": {
       "model_id": "4b9a2b52175f4ca2ba239d6f06e22a08",
       "version_major": 2,
       "version_minor": 0
      },
      "text/plain": [
       "HBox(children=(IntProgress(value=0, description='single', max=29, style=ProgressStyle(description_width='initi…"
      ]
     },
     "metadata": {},
     "output_type": "display_data"
    },
    {
     "name": "stdout",
     "output_type": "stream",
     "text": [
      "\n"
     ]
    },
    {
     "data": {
      "application/vnd.jupyter.widget-view+json": {
       "model_id": "eabbc3407f284b1bac6697929dfc7372",
       "version_major": 2,
       "version_minor": 0
      },
      "text/plain": [
       "HBox(children=(IntProgress(value=0, description='average', max=29, style=ProgressStyle(description_width='init…"
      ]
     },
     "metadata": {},
     "output_type": "display_data"
    },
    {
     "name": "stdout",
     "output_type": "stream",
     "text": [
      "\n"
     ]
    },
    {
     "data": {
      "application/vnd.jupyter.widget-view+json": {
       "model_id": "da2256fdab8c49b5901f03893e6273a6",
       "version_major": 2,
       "version_minor": 0
      },
      "text/plain": [
       "HBox(children=(IntProgress(value=0, description='complete', max=29, style=ProgressStyle(description_width='ini…"
      ]
     },
     "metadata": {},
     "output_type": "display_data"
    },
    {
     "name": "stdout",
     "output_type": "stream",
     "text": [
      "\n",
      "\n"
     ]
    }
   ],
   "source": [
    "n_matrix = np.matrix(n_matrix)\n",
    "n_matrix1 = 1 - n_matrix\n",
    "\n",
    "# complementare\n",
    "silhouette_score3, CH_score3 = [[] for i in range(2)]\n",
    "(silhouette3, CH3) = clustering(2, 31, link_list=link, dist=n_matrix1, \n",
    "                                silhouette_score=silhouette_score3, CH_score=CH_score3)\n",
    "\n",
    "# cosine similarity\n",
    "n_matrix2 = np.sqrt(2 * (1 - n_matrix))\n",
    "\n",
    "silhouette_score4, CH_score4 = [[] for i in range(2)]\n",
    "(silhouette4, CH4) = clustering(2, 31, link_list=link, dist=n_matrix2, \n",
    "                                silhouette_score=silhouette_score4, CH_score=CH_score4)"
   ]
  },
  {
   "cell_type": "code",
   "execution_count": 60,
   "metadata": {
    "scrolled": false
   },
   "outputs": [
    {
     "data": {
      "application/javascript": [
       "\n",
       "(function(root) {\n",
       "  function now() {\n",
       "    return new Date();\n",
       "  }\n",
       "\n",
       "  var force = true;\n",
       "\n",
       "  if (typeof root._bokeh_onload_callbacks === \"undefined\" || force === true) {\n",
       "    root._bokeh_onload_callbacks = [];\n",
       "    root._bokeh_is_loading = undefined;\n",
       "  }\n",
       "\n",
       "  var JS_MIME_TYPE = 'application/javascript';\n",
       "  var HTML_MIME_TYPE = 'text/html';\n",
       "  var EXEC_MIME_TYPE = 'application/vnd.bokehjs_exec.v0+json';\n",
       "  var CLASS_NAME = 'output_bokeh rendered_html';\n",
       "\n",
       "  /**\n",
       "   * Render data to the DOM node\n",
       "   */\n",
       "  function render(props, node) {\n",
       "    var script = document.createElement(\"script\");\n",
       "    node.appendChild(script);\n",
       "  }\n",
       "\n",
       "  /**\n",
       "   * Handle when an output is cleared or removed\n",
       "   */\n",
       "  function handleClearOutput(event, handle) {\n",
       "    var cell = handle.cell;\n",
       "\n",
       "    var id = cell.output_area._bokeh_element_id;\n",
       "    var server_id = cell.output_area._bokeh_server_id;\n",
       "    // Clean up Bokeh references\n",
       "    if (id != null && id in Bokeh.index) {\n",
       "      Bokeh.index[id].model.document.clear();\n",
       "      delete Bokeh.index[id];\n",
       "    }\n",
       "\n",
       "    if (server_id !== undefined) {\n",
       "      // Clean up Bokeh references\n",
       "      var cmd = \"from bokeh.io.state import curstate; print(curstate().uuid_to_server['\" + server_id + \"'].get_sessions()[0].document.roots[0]._id)\";\n",
       "      cell.notebook.kernel.execute(cmd, {\n",
       "        iopub: {\n",
       "          output: function(msg) {\n",
       "            var id = msg.content.text.trim();\n",
       "            if (id in Bokeh.index) {\n",
       "              Bokeh.index[id].model.document.clear();\n",
       "              delete Bokeh.index[id];\n",
       "            }\n",
       "          }\n",
       "        }\n",
       "      });\n",
       "      // Destroy server and session\n",
       "      var cmd = \"import bokeh.io.notebook as ion; ion.destroy_server('\" + server_id + \"')\";\n",
       "      cell.notebook.kernel.execute(cmd);\n",
       "    }\n",
       "  }\n",
       "\n",
       "  /**\n",
       "   * Handle when a new output is added\n",
       "   */\n",
       "  function handleAddOutput(event, handle) {\n",
       "    var output_area = handle.output_area;\n",
       "    var output = handle.output;\n",
       "\n",
       "    // limit handleAddOutput to display_data with EXEC_MIME_TYPE content only\n",
       "    if ((output.output_type != \"display_data\") || (!output.data.hasOwnProperty(EXEC_MIME_TYPE))) {\n",
       "      return\n",
       "    }\n",
       "\n",
       "    var toinsert = output_area.element.find(\".\" + CLASS_NAME.split(' ')[0]);\n",
       "\n",
       "    if (output.metadata[EXEC_MIME_TYPE][\"id\"] !== undefined) {\n",
       "      toinsert[toinsert.length - 1].firstChild.textContent = output.data[JS_MIME_TYPE];\n",
       "      // store reference to embed id on output_area\n",
       "      output_area._bokeh_element_id = output.metadata[EXEC_MIME_TYPE][\"id\"];\n",
       "    }\n",
       "    if (output.metadata[EXEC_MIME_TYPE][\"server_id\"] !== undefined) {\n",
       "      var bk_div = document.createElement(\"div\");\n",
       "      bk_div.innerHTML = output.data[HTML_MIME_TYPE];\n",
       "      var script_attrs = bk_div.children[0].attributes;\n",
       "      for (var i = 0; i < script_attrs.length; i++) {\n",
       "        toinsert[toinsert.length - 1].firstChild.setAttribute(script_attrs[i].name, script_attrs[i].value);\n",
       "      }\n",
       "      // store reference to server id on output_area\n",
       "      output_area._bokeh_server_id = output.metadata[EXEC_MIME_TYPE][\"server_id\"];\n",
       "    }\n",
       "  }\n",
       "\n",
       "  function register_renderer(events, OutputArea) {\n",
       "\n",
       "    function append_mime(data, metadata, element) {\n",
       "      // create a DOM node to render to\n",
       "      var toinsert = this.create_output_subarea(\n",
       "        metadata,\n",
       "        CLASS_NAME,\n",
       "        EXEC_MIME_TYPE\n",
       "      );\n",
       "      this.keyboard_manager.register_events(toinsert);\n",
       "      // Render to node\n",
       "      var props = {data: data, metadata: metadata[EXEC_MIME_TYPE]};\n",
       "      render(props, toinsert[toinsert.length - 1]);\n",
       "      element.append(toinsert);\n",
       "      return toinsert\n",
       "    }\n",
       "\n",
       "    /* Handle when an output is cleared or removed */\n",
       "    events.on('clear_output.CodeCell', handleClearOutput);\n",
       "    events.on('delete.Cell', handleClearOutput);\n",
       "\n",
       "    /* Handle when a new output is added */\n",
       "    events.on('output_added.OutputArea', handleAddOutput);\n",
       "\n",
       "    /**\n",
       "     * Register the mime type and append_mime function with output_area\n",
       "     */\n",
       "    OutputArea.prototype.register_mime_type(EXEC_MIME_TYPE, append_mime, {\n",
       "      /* Is output safe? */\n",
       "      safe: true,\n",
       "      /* Index of renderer in `output_area.display_order` */\n",
       "      index: 0\n",
       "    });\n",
       "  }\n",
       "\n",
       "  // register the mime type if in Jupyter Notebook environment and previously unregistered\n",
       "  if (root.Jupyter !== undefined) {\n",
       "    var events = require('base/js/events');\n",
       "    var OutputArea = require('notebook/js/outputarea').OutputArea;\n",
       "\n",
       "    if (OutputArea.prototype.mime_types().indexOf(EXEC_MIME_TYPE) == -1) {\n",
       "      register_renderer(events, OutputArea);\n",
       "    }\n",
       "  }\n",
       "\n",
       "  \n",
       "  if (typeof (root._bokeh_timeout) === \"undefined\" || force === true) {\n",
       "    root._bokeh_timeout = Date.now() + 5000;\n",
       "    root._bokeh_failed_load = false;\n",
       "  }\n",
       "\n",
       "  var NB_LOAD_WARNING = {'data': {'text/html':\n",
       "     \"<div style='background-color: #fdd'>\\n\"+\n",
       "     \"<p>\\n\"+\n",
       "     \"BokehJS does not appear to have successfully loaded. If loading BokehJS from CDN, this \\n\"+\n",
       "     \"may be due to a slow or bad network connection. Possible fixes:\\n\"+\n",
       "     \"</p>\\n\"+\n",
       "     \"<ul>\\n\"+\n",
       "     \"<li>re-rerun `output_notebook()` to attempt to load from CDN again, or</li>\\n\"+\n",
       "     \"<li>use INLINE resources instead, as so:</li>\\n\"+\n",
       "     \"</ul>\\n\"+\n",
       "     \"<code>\\n\"+\n",
       "     \"from bokeh.resources import INLINE\\n\"+\n",
       "     \"output_notebook(resources=INLINE)\\n\"+\n",
       "     \"</code>\\n\"+\n",
       "     \"</div>\"}};\n",
       "\n",
       "  function display_loaded() {\n",
       "    var el = document.getElementById(null);\n",
       "    if (el != null) {\n",
       "      el.textContent = \"BokehJS is loading...\";\n",
       "    }\n",
       "    if (root.Bokeh !== undefined) {\n",
       "      if (el != null) {\n",
       "        el.textContent = \"BokehJS \" + root.Bokeh.version + \" successfully loaded.\";\n",
       "      }\n",
       "    } else if (Date.now() < root._bokeh_timeout) {\n",
       "      setTimeout(display_loaded, 100)\n",
       "    }\n",
       "  }\n",
       "\n",
       "\n",
       "  function run_callbacks() {\n",
       "    try {\n",
       "      root._bokeh_onload_callbacks.forEach(function(callback) {\n",
       "        if (callback != null)\n",
       "          callback();\n",
       "      });\n",
       "    } finally {\n",
       "      delete root._bokeh_onload_callbacks\n",
       "    }\n",
       "    console.debug(\"Bokeh: all callbacks have finished\");\n",
       "  }\n",
       "\n",
       "  function load_libs(css_urls, js_urls, callback) {\n",
       "    if (css_urls == null) css_urls = [];\n",
       "    if (js_urls == null) js_urls = [];\n",
       "\n",
       "    root._bokeh_onload_callbacks.push(callback);\n",
       "    if (root._bokeh_is_loading > 0) {\n",
       "      console.debug(\"Bokeh: BokehJS is being loaded, scheduling callback at\", now());\n",
       "      return null;\n",
       "    }\n",
       "    if (js_urls == null || js_urls.length === 0) {\n",
       "      run_callbacks();\n",
       "      return null;\n",
       "    }\n",
       "    console.debug(\"Bokeh: BokehJS not loaded, scheduling load and callback at\", now());\n",
       "    root._bokeh_is_loading = css_urls.length + js_urls.length;\n",
       "\n",
       "    function on_load() {\n",
       "      root._bokeh_is_loading--;\n",
       "      if (root._bokeh_is_loading === 0) {\n",
       "        console.debug(\"Bokeh: all BokehJS libraries/stylesheets loaded\");\n",
       "        run_callbacks()\n",
       "      }\n",
       "    }\n",
       "\n",
       "    function on_error() {\n",
       "      console.error(\"failed to load \" + url);\n",
       "    }\n",
       "\n",
       "    for (var i = 0; i < css_urls.length; i++) {\n",
       "      var url = css_urls[i];\n",
       "      const element = document.createElement(\"link\");\n",
       "      element.onload = on_load;\n",
       "      element.onerror = on_error;\n",
       "      element.rel = \"stylesheet\";\n",
       "      element.type = \"text/css\";\n",
       "      element.href = url;\n",
       "      console.debug(\"Bokeh: injecting link tag for BokehJS stylesheet: \", url);\n",
       "      document.body.appendChild(element);\n",
       "    }\n",
       "\n",
       "    for (var i = 0; i < js_urls.length; i++) {\n",
       "      var url = js_urls[i];\n",
       "      var element = document.createElement('script');\n",
       "      element.onload = on_load;\n",
       "      element.onerror = on_error;\n",
       "      element.async = false;\n",
       "      element.src = url;\n",
       "      console.debug(\"Bokeh: injecting script tag for BokehJS library: \", url);\n",
       "      document.head.appendChild(element);\n",
       "    }\n",
       "  };\n",
       "\n",
       "  function inject_raw_css(css) {\n",
       "    const element = document.createElement(\"style\");\n",
       "    element.appendChild(document.createTextNode(css));\n",
       "    document.body.appendChild(element);\n",
       "  }\n",
       "\n",
       "  var js_urls = [\"https://cdn.pydata.org/bokeh/release/bokeh-1.3.4.min.js\", \"https://cdn.pydata.org/bokeh/release/bokeh-widgets-1.3.4.min.js\", \"https://cdn.pydata.org/bokeh/release/bokeh-tables-1.3.4.min.js\", \"https://cdn.pydata.org/bokeh/release/bokeh-gl-1.3.4.min.js\"];\n",
       "  var css_urls = [];\n",
       "\n",
       "  var inline_js = [\n",
       "    function(Bokeh) {\n",
       "      Bokeh.set_log_level(\"info\");\n",
       "    },\n",
       "    \n",
       "    function(Bokeh) {\n",
       "      \n",
       "    },\n",
       "    function(Bokeh) {} // ensure no trailing comma for IE\n",
       "  ];\n",
       "\n",
       "  function run_inline_js() {\n",
       "    \n",
       "    if ((root.Bokeh !== undefined) || (force === true)) {\n",
       "      for (var i = 0; i < inline_js.length; i++) {\n",
       "        inline_js[i].call(root, root.Bokeh);\n",
       "      }} else if (Date.now() < root._bokeh_timeout) {\n",
       "      setTimeout(run_inline_js, 100);\n",
       "    } else if (!root._bokeh_failed_load) {\n",
       "      console.log(\"Bokeh: BokehJS failed to load within specified timeout.\");\n",
       "      root._bokeh_failed_load = true;\n",
       "    } else if (force !== true) {\n",
       "      var cell = $(document.getElementById(null)).parents('.cell').data().cell;\n",
       "      cell.output_area.append_execute_result(NB_LOAD_WARNING)\n",
       "    }\n",
       "\n",
       "  }\n",
       "\n",
       "  if (root._bokeh_is_loading === 0) {\n",
       "    console.debug(\"Bokeh: BokehJS loaded, going straight to plotting\");\n",
       "    run_inline_js();\n",
       "  } else {\n",
       "    load_libs(css_urls, js_urls, function() {\n",
       "      console.debug(\"Bokeh: BokehJS plotting callback run at\", now());\n",
       "      run_inline_js();\n",
       "    });\n",
       "  }\n",
       "}(window));"
      ],
      "application/vnd.bokehjs_load.v0+json": "\n(function(root) {\n  function now() {\n    return new Date();\n  }\n\n  var force = true;\n\n  if (typeof root._bokeh_onload_callbacks === \"undefined\" || force === true) {\n    root._bokeh_onload_callbacks = [];\n    root._bokeh_is_loading = undefined;\n  }\n\n  \n\n  \n  if (typeof (root._bokeh_timeout) === \"undefined\" || force === true) {\n    root._bokeh_timeout = Date.now() + 5000;\n    root._bokeh_failed_load = false;\n  }\n\n  var NB_LOAD_WARNING = {'data': {'text/html':\n     \"<div style='background-color: #fdd'>\\n\"+\n     \"<p>\\n\"+\n     \"BokehJS does not appear to have successfully loaded. If loading BokehJS from CDN, this \\n\"+\n     \"may be due to a slow or bad network connection. Possible fixes:\\n\"+\n     \"</p>\\n\"+\n     \"<ul>\\n\"+\n     \"<li>re-rerun `output_notebook()` to attempt to load from CDN again, or</li>\\n\"+\n     \"<li>use INLINE resources instead, as so:</li>\\n\"+\n     \"</ul>\\n\"+\n     \"<code>\\n\"+\n     \"from bokeh.resources import INLINE\\n\"+\n     \"output_notebook(resources=INLINE)\\n\"+\n     \"</code>\\n\"+\n     \"</div>\"}};\n\n  function display_loaded() {\n    var el = document.getElementById(null);\n    if (el != null) {\n      el.textContent = \"BokehJS is loading...\";\n    }\n    if (root.Bokeh !== undefined) {\n      if (el != null) {\n        el.textContent = \"BokehJS \" + root.Bokeh.version + \" successfully loaded.\";\n      }\n    } else if (Date.now() < root._bokeh_timeout) {\n      setTimeout(display_loaded, 100)\n    }\n  }\n\n\n  function run_callbacks() {\n    try {\n      root._bokeh_onload_callbacks.forEach(function(callback) {\n        if (callback != null)\n          callback();\n      });\n    } finally {\n      delete root._bokeh_onload_callbacks\n    }\n    console.debug(\"Bokeh: all callbacks have finished\");\n  }\n\n  function load_libs(css_urls, js_urls, callback) {\n    if (css_urls == null) css_urls = [];\n    if (js_urls == null) js_urls = [];\n\n    root._bokeh_onload_callbacks.push(callback);\n    if (root._bokeh_is_loading > 0) {\n      console.debug(\"Bokeh: BokehJS is being loaded, scheduling callback at\", now());\n      return null;\n    }\n    if (js_urls == null || js_urls.length === 0) {\n      run_callbacks();\n      return null;\n    }\n    console.debug(\"Bokeh: BokehJS not loaded, scheduling load and callback at\", now());\n    root._bokeh_is_loading = css_urls.length + js_urls.length;\n\n    function on_load() {\n      root._bokeh_is_loading--;\n      if (root._bokeh_is_loading === 0) {\n        console.debug(\"Bokeh: all BokehJS libraries/stylesheets loaded\");\n        run_callbacks()\n      }\n    }\n\n    function on_error() {\n      console.error(\"failed to load \" + url);\n    }\n\n    for (var i = 0; i < css_urls.length; i++) {\n      var url = css_urls[i];\n      const element = document.createElement(\"link\");\n      element.onload = on_load;\n      element.onerror = on_error;\n      element.rel = \"stylesheet\";\n      element.type = \"text/css\";\n      element.href = url;\n      console.debug(\"Bokeh: injecting link tag for BokehJS stylesheet: \", url);\n      document.body.appendChild(element);\n    }\n\n    for (var i = 0; i < js_urls.length; i++) {\n      var url = js_urls[i];\n      var element = document.createElement('script');\n      element.onload = on_load;\n      element.onerror = on_error;\n      element.async = false;\n      element.src = url;\n      console.debug(\"Bokeh: injecting script tag for BokehJS library: \", url);\n      document.head.appendChild(element);\n    }\n  };\n\n  function inject_raw_css(css) {\n    const element = document.createElement(\"style\");\n    element.appendChild(document.createTextNode(css));\n    document.body.appendChild(element);\n  }\n\n  var js_urls = [\"https://cdn.pydata.org/bokeh/release/bokeh-1.3.4.min.js\", \"https://cdn.pydata.org/bokeh/release/bokeh-widgets-1.3.4.min.js\", \"https://cdn.pydata.org/bokeh/release/bokeh-tables-1.3.4.min.js\", \"https://cdn.pydata.org/bokeh/release/bokeh-gl-1.3.4.min.js\"];\n  var css_urls = [];\n\n  var inline_js = [\n    function(Bokeh) {\n      Bokeh.set_log_level(\"info\");\n    },\n    \n    function(Bokeh) {\n      \n    },\n    function(Bokeh) {} // ensure no trailing comma for IE\n  ];\n\n  function run_inline_js() {\n    \n    if ((root.Bokeh !== undefined) || (force === true)) {\n      for (var i = 0; i < inline_js.length; i++) {\n        inline_js[i].call(root, root.Bokeh);\n      }} else if (Date.now() < root._bokeh_timeout) {\n      setTimeout(run_inline_js, 100);\n    } else if (!root._bokeh_failed_load) {\n      console.log(\"Bokeh: BokehJS failed to load within specified timeout.\");\n      root._bokeh_failed_load = true;\n    } else if (force !== true) {\n      var cell = $(document.getElementById(null)).parents('.cell').data().cell;\n      cell.output_area.append_execute_result(NB_LOAD_WARNING)\n    }\n\n  }\n\n  if (root._bokeh_is_loading === 0) {\n    console.debug(\"Bokeh: BokehJS loaded, going straight to plotting\");\n    run_inline_js();\n  } else {\n    load_libs(css_urls, js_urls, function() {\n      console.debug(\"Bokeh: BokehJS plotting callback run at\", now());\n      run_inline_js();\n    });\n  }\n}(window));"
     },
     "metadata": {},
     "output_type": "display_data"
    },
    {
     "data": {
      "text/html": [
       "\n",
       "\n",
       "\n",
       "\n",
       "\n",
       "\n",
       "  <div class=\"bk-root\" id=\"5e8ad7bc-6aeb-45d4-b646-45f94a8d3e83\" data-root-id=\"1781\"></div>\n"
      ]
     },
     "metadata": {},
     "output_type": "display_data"
    },
    {
     "data": {
      "application/javascript": [
       "(function(root) {\n",
       "  function embed_document(root) {\n",
       "    \n",
       "  var docs_json = {\"a7ef078f-63d7-45dd-84c8-9c9509e42ff0\":{\"roots\":{\"references\":[{\"attributes\":{\"children\":[{\"id\":\"1681\",\"subtype\":\"Figure\",\"type\":\"Plot\"},{\"id\":\"1731\",\"subtype\":\"Figure\",\"type\":\"Plot\"}]},\"id\":\"1781\",\"type\":\"Row\"},{\"attributes\":{},\"id\":\"1753\",\"type\":\"SaveTool\"},{\"attributes\":{\"formatter\":{\"id\":\"1776\",\"type\":\"BasicTickFormatter\"},\"ticker\":{\"id\":\"1746\",\"type\":\"BasicTicker\"}},\"id\":\"1745\",\"type\":\"LinearAxis\"},{\"attributes\":{\"callback\":null,\"data\":{\"color\":[\"red\",\"blue\",\"black\"],\"labels\":[\"single\",\"average\",\"complete\"],\"xs\":[[2,3,4,5,6,7,8,9,10,11,12,13,14,15,16,17,18,19,20,21,22,23,24,25,26,27,28,29,30],[2,3,4,5,6,7,8,9,10,11,12,13,14,15,16,17,18,19,20,21,22,23,24,25,26,27,28,29,30],[2,3,4,5,6,7,8,9,10,11,12,13,14,15,16,17,18,19,20,21,22,23,24,25,26,27,28,29,30]],\"ys\":[[0.11846552903536392,0.09520908027639838,0.09777408547287166,0.008062306746138568,-0.034325634049325024,-0.04489795496561661,-0.06620448572870789,-0.08464347950732037,-0.08306057502441387,-0.08344437180754988,-0.10025281779344929,-0.10752469238078667,-0.13502408433661997,-0.1304828122431545,-0.13295892358272288,-0.10854424855874288,-0.10291524107503015,-0.1163272710916837,-0.11582787103949069,-0.10832630919819217,-0.10288214121353909,-0.1034763880070216,-0.10694839788777084,-0.10928327158371746,-0.11425118285198763,-0.1175495057360931,-0.11399628052440074,-0.1762590785358401,-0.17997711970974023],[0.2565151708410162,0.23322147931506296,0.24101887441971181,0.20928549047996203,0.2028188789932707,0.20781588288388236,0.2439016683234088,0.2722880287791083,0.28879252354885077,0.2986010126273935,0.29237258709746944,0.28828743582637034,0.2883885114288871,0.2661031846473561,0.28126141577318875,0.28072955312567127,0.2721262006467529,0.27226818308652656,0.278559104867913,0.2766653026872185,0.27847458350783827,0.2537216473453557,0.2637285755234977,0.2573358063535606,0.2557086020632989,0.25712484711044936,0.2566101536700887,0.25995264362893145,0.2515699760176283],[0.2565151708410162,0.22933609500255303,0.19918209829289713,0.22023267796326237,0.23652571887677934,0.2573671971575756,0.2584770841829021,0.25343119666823705,0.2808190662705113,0.27625219335057233,0.28134738443581747,0.2678990334680547,0.2673979981029387,0.29218509093303063,0.27831849137644005,0.2763866323807278,0.26605644595076966,0.24993885814137579,0.24892385245676715,0.2537661965987203,0.2583052370787251,0.2579747684036707,0.2568976042514882,0.26117078270991606,0.26164530937616814,0.25695073479835107,0.2538317441989196,0.25587106069365406,0.25728315799912915]]},\"selected\":{\"id\":\"1795\",\"type\":\"Selection\"},\"selection_policy\":{\"id\":\"1796\",\"type\":\"UnionRenderers\"}},\"id\":\"1716\",\"type\":\"ColumnDataSource\"},{\"attributes\":{\"line_color\":{\"field\":\"color\"},\"line_width\":{\"value\":2},\"xs\":{\"field\":\"xs\"},\"ys\":{\"field\":\"ys\"}},\"id\":\"1718\",\"type\":\"MultiLine\"},{\"attributes\":{\"overlay\":{\"id\":\"1728\",\"type\":\"BoxAnnotation\"}},\"id\":\"1702\",\"type\":\"BoxZoomTool\"},{\"attributes\":{\"line_alpha\":{\"value\":0.1},\"line_color\":{\"value\":\"#1f77b4\"},\"line_width\":{\"value\":2},\"xs\":{\"field\":\"xs\"},\"ys\":{\"field\":\"ys\"}},\"id\":\"1719\",\"type\":\"MultiLine\"},{\"attributes\":{},\"id\":\"1774\",\"type\":\"BasicTickFormatter\"},{\"attributes\":{\"dimension\":1,\"ticker\":{\"id\":\"1696\",\"type\":\"BasicTicker\"}},\"id\":\"1699\",\"type\":\"Grid\"},{\"attributes\":{},\"id\":\"1741\",\"type\":\"BasicTicker\"},{\"attributes\":{\"label\":{\"field\":\"labels\"},\"renderers\":[{\"id\":\"1770\",\"type\":\"GlyphRenderer\"}]},\"id\":\"1780\",\"type\":\"LegendItem\"},{\"attributes\":{\"formatter\":{\"id\":\"1774\",\"type\":\"BasicTickFormatter\"},\"ticker\":{\"id\":\"1741\",\"type\":\"BasicTicker\"}},\"id\":\"1740\",\"type\":\"LinearAxis\"},{\"attributes\":{\"source\":{\"id\":\"1716\",\"type\":\"ColumnDataSource\"}},\"id\":\"1721\",\"type\":\"CDSView\"},{\"attributes\":{},\"id\":\"1795\",\"type\":\"Selection\"},{\"attributes\":{\"items\":[{\"id\":\"1780\",\"type\":\"LegendItem\"}],\"location\":\"center_right\"},\"id\":\"1779\",\"type\":\"Legend\"},{\"attributes\":{},\"id\":\"1691\",\"type\":\"BasicTicker\"},{\"attributes\":{},\"id\":\"1755\",\"type\":\"HelpTool\"},{\"attributes\":{\"ticker\":{\"id\":\"1691\",\"type\":\"BasicTicker\"}},\"id\":\"1694\",\"type\":\"Grid\"},{\"attributes\":{\"data_source\":{\"id\":\"1766\",\"type\":\"ColumnDataSource\"},\"glyph\":{\"id\":\"1768\",\"type\":\"MultiLine\"},\"hover_glyph\":null,\"muted_glyph\":null,\"nonselection_glyph\":{\"id\":\"1769\",\"type\":\"MultiLine\"},\"selection_glyph\":null,\"view\":{\"id\":\"1771\",\"type\":\"CDSView\"}},\"id\":\"1770\",\"type\":\"GlyphRenderer\"},{\"attributes\":{},\"id\":\"1776\",\"type\":\"BasicTickFormatter\"},{\"attributes\":{\"bottom_units\":\"screen\",\"fill_alpha\":{\"value\":0.5},\"fill_color\":{\"value\":\"lightgrey\"},\"left_units\":\"screen\",\"level\":\"overlay\",\"line_alpha\":{\"value\":1.0},\"line_color\":{\"value\":\"black\"},\"line_dash\":[4,4],\"line_width\":{\"value\":2},\"render_mode\":\"css\",\"right_units\":\"screen\",\"top_units\":\"screen\"},\"id\":\"1728\",\"type\":\"BoxAnnotation\"},{\"attributes\":{},\"id\":\"1796\",\"type\":\"UnionRenderers\"},{\"attributes\":{\"active_drag\":\"auto\",\"active_inspect\":\"auto\",\"active_multi\":null,\"active_scroll\":\"auto\",\"active_tap\":\"auto\",\"tools\":[{\"id\":\"1750\",\"type\":\"PanTool\"},{\"id\":\"1751\",\"type\":\"WheelZoomTool\"},{\"id\":\"1752\",\"type\":\"BoxZoomTool\"},{\"id\":\"1753\",\"type\":\"SaveTool\"},{\"id\":\"1754\",\"type\":\"ResetTool\"},{\"id\":\"1755\",\"type\":\"HelpTool\"}]},\"id\":\"1756\",\"type\":\"Toolbar\"},{\"attributes\":{},\"id\":\"1750\",\"type\":\"PanTool\"},{\"attributes\":{},\"id\":\"1736\",\"type\":\"LinearScale\"},{\"attributes\":{},\"id\":\"1696\",\"type\":\"BasicTicker\"},{\"attributes\":{},\"id\":\"1724\",\"type\":\"BasicTickFormatter\"},{\"attributes\":{\"callback\":null},\"id\":\"1682\",\"type\":\"DataRange1d\"},{\"attributes\":{},\"id\":\"1704\",\"type\":\"ResetTool\"},{\"attributes\":{\"bottom_units\":\"screen\",\"fill_alpha\":{\"value\":0.5},\"fill_color\":{\"value\":\"lightgrey\"},\"left_units\":\"screen\",\"level\":\"overlay\",\"line_alpha\":{\"value\":1.0},\"line_color\":{\"value\":\"black\"},\"line_dash\":[4,4],\"line_width\":{\"value\":2},\"render_mode\":\"css\",\"right_units\":\"screen\",\"top_units\":\"screen\"},\"id\":\"1778\",\"type\":\"BoxAnnotation\"},{\"attributes\":{},\"id\":\"1799\",\"type\":\"UnionRenderers\"},{\"attributes\":{\"below\":[{\"id\":\"1740\",\"type\":\"LinearAxis\"}],\"center\":[{\"id\":\"1744\",\"type\":\"Grid\"},{\"id\":\"1749\",\"type\":\"Grid\"},{\"id\":\"1779\",\"type\":\"Legend\"}],\"left\":[{\"id\":\"1745\",\"type\":\"LinearAxis\"}],\"plot_height\":450,\"plot_width\":450,\"renderers\":[{\"id\":\"1770\",\"type\":\"GlyphRenderer\"}],\"title\":{\"id\":\"1763\",\"type\":\"Title\"},\"toolbar\":{\"id\":\"1756\",\"type\":\"Toolbar\"},\"x_range\":{\"id\":\"1732\",\"type\":\"DataRange1d\"},\"x_scale\":{\"id\":\"1736\",\"type\":\"LinearScale\"},\"y_range\":{\"id\":\"1734\",\"type\":\"DataRange1d\"},\"y_scale\":{\"id\":\"1738\",\"type\":\"LinearScale\"}},\"id\":\"1731\",\"subtype\":\"Figure\",\"type\":\"Plot\"},{\"attributes\":{\"below\":[{\"id\":\"1690\",\"type\":\"LinearAxis\"}],\"center\":[{\"id\":\"1694\",\"type\":\"Grid\"},{\"id\":\"1699\",\"type\":\"Grid\"},{\"id\":\"1729\",\"type\":\"Legend\"}],\"left\":[{\"id\":\"1695\",\"type\":\"LinearAxis\"}],\"plot_height\":450,\"plot_width\":450,\"renderers\":[{\"id\":\"1720\",\"type\":\"GlyphRenderer\"}],\"title\":{\"id\":\"1713\",\"type\":\"Title\"},\"toolbar\":{\"id\":\"1706\",\"type\":\"Toolbar\"},\"x_range\":{\"id\":\"1682\",\"type\":\"DataRange1d\"},\"x_scale\":{\"id\":\"1686\",\"type\":\"LinearScale\"},\"y_range\":{\"id\":\"1684\",\"type\":\"DataRange1d\"},\"y_scale\":{\"id\":\"1688\",\"type\":\"LinearScale\"}},\"id\":\"1681\",\"subtype\":\"Figure\",\"type\":\"Plot\"},{\"attributes\":{\"line_alpha\":{\"value\":0.1},\"line_color\":{\"value\":\"#1f77b4\"},\"line_width\":{\"value\":2},\"xs\":{\"field\":\"xs\"},\"ys\":{\"field\":\"ys\"}},\"id\":\"1769\",\"type\":\"MultiLine\"},{\"attributes\":{\"callback\":null},\"id\":\"1684\",\"type\":\"DataRange1d\"},{\"attributes\":{},\"id\":\"1700\",\"type\":\"PanTool\"},{\"attributes\":{},\"id\":\"1703\",\"type\":\"SaveTool\"},{\"attributes\":{\"align\":\"center\",\"text\":\"Silhouette index \\n1-sim\",\"text_font_size\":{\"value\":\"25px\"}},\"id\":\"1713\",\"type\":\"Title\"},{\"attributes\":{\"callback\":null},\"id\":\"1734\",\"type\":\"DataRange1d\"},{\"attributes\":{},\"id\":\"1686\",\"type\":\"LinearScale\"},{\"attributes\":{\"items\":[{\"id\":\"1730\",\"type\":\"LegendItem\"}],\"location\":\"center_right\"},\"id\":\"1729\",\"type\":\"Legend\"},{\"attributes\":{\"dimension\":1,\"ticker\":{\"id\":\"1746\",\"type\":\"BasicTicker\"}},\"id\":\"1749\",\"type\":\"Grid\"},{\"attributes\":{\"label\":{\"field\":\"labels\"},\"renderers\":[{\"id\":\"1720\",\"type\":\"GlyphRenderer\"}]},\"id\":\"1730\",\"type\":\"LegendItem\"},{\"attributes\":{\"active_drag\":\"auto\",\"active_inspect\":\"auto\",\"active_multi\":null,\"active_scroll\":\"auto\",\"active_tap\":\"auto\",\"tools\":[{\"id\":\"1700\",\"type\":\"PanTool\"},{\"id\":\"1701\",\"type\":\"WheelZoomTool\"},{\"id\":\"1702\",\"type\":\"BoxZoomTool\"},{\"id\":\"1703\",\"type\":\"SaveTool\"},{\"id\":\"1704\",\"type\":\"ResetTool\"},{\"id\":\"1705\",\"type\":\"HelpTool\"}]},\"id\":\"1706\",\"type\":\"Toolbar\"},{\"attributes\":{\"ticker\":{\"id\":\"1741\",\"type\":\"BasicTicker\"}},\"id\":\"1744\",\"type\":\"Grid\"},{\"attributes\":{},\"id\":\"1798\",\"type\":\"Selection\"},{\"attributes\":{\"data_source\":{\"id\":\"1716\",\"type\":\"ColumnDataSource\"},\"glyph\":{\"id\":\"1718\",\"type\":\"MultiLine\"},\"hover_glyph\":null,\"muted_glyph\":null,\"nonselection_glyph\":{\"id\":\"1719\",\"type\":\"MultiLine\"},\"selection_glyph\":null,\"view\":{\"id\":\"1721\",\"type\":\"CDSView\"}},\"id\":\"1720\",\"type\":\"GlyphRenderer\"},{\"attributes\":{\"align\":\"center\",\"text\":\"Silhouette index \\ncosine_sim\",\"text_font_size\":{\"value\":\"25px\"}},\"id\":\"1763\",\"type\":\"Title\"},{\"attributes\":{\"formatter\":{\"id\":\"1724\",\"type\":\"BasicTickFormatter\"},\"ticker\":{\"id\":\"1691\",\"type\":\"BasicTicker\"}},\"id\":\"1690\",\"type\":\"LinearAxis\"},{\"attributes\":{},\"id\":\"1701\",\"type\":\"WheelZoomTool\"},{\"attributes\":{\"source\":{\"id\":\"1766\",\"type\":\"ColumnDataSource\"}},\"id\":\"1771\",\"type\":\"CDSView\"},{\"attributes\":{\"formatter\":{\"id\":\"1726\",\"type\":\"BasicTickFormatter\"},\"ticker\":{\"id\":\"1696\",\"type\":\"BasicTicker\"}},\"id\":\"1695\",\"type\":\"LinearAxis\"},{\"attributes\":{\"callback\":null},\"id\":\"1732\",\"type\":\"DataRange1d\"},{\"attributes\":{},\"id\":\"1751\",\"type\":\"WheelZoomTool\"},{\"attributes\":{},\"id\":\"1754\",\"type\":\"ResetTool\"},{\"attributes\":{},\"id\":\"1688\",\"type\":\"LinearScale\"},{\"attributes\":{},\"id\":\"1726\",\"type\":\"BasicTickFormatter\"},{\"attributes\":{},\"id\":\"1705\",\"type\":\"HelpTool\"},{\"attributes\":{\"overlay\":{\"id\":\"1778\",\"type\":\"BoxAnnotation\"}},\"id\":\"1752\",\"type\":\"BoxZoomTool\"},{\"attributes\":{},\"id\":\"1746\",\"type\":\"BasicTicker\"},{\"attributes\":{\"callback\":null,\"data\":{\"color\":[\"red\",\"blue\",\"black\"],\"labels\":[\"single\",\"average\",\"complete\"],\"xs\":[[2,3,4,5,6,7,8,9,10,11,12,13,14,15,16,17,18,19,20,21,22,23,24,25,26,27,28,29,30],[2,3,4,5,6,7,8,9,10,11,12,13,14,15,16,17,18,19,20,21,22,23,24,25,26,27,28,29,30],[2,3,4,5,6,7,8,9,10,11,12,13,14,15,16,17,18,19,20,21,22,23,24,25,26,27,28,29,30]],\"ys\":[[0.06775183183905459,0.055244406489905584,0.05680018623681943,0.009564045918262126,-0.012372470581973258,-0.0181667591799253,-0.029294769455334293,-0.03901920802749989,-0.03814516897533237,-0.03836134847906613,-0.0474078181636518,-0.0514864336846371,-0.06693529613810399,-0.0639662861506824,-0.06548516844753795,-0.052097764426180714,-0.04868786047074485,-0.055750166277210605,-0.055462664310973624,-0.05116943835775833,-0.0479823296202777,-0.04836201586104365,-0.05037772476594051,-0.0517038504324233,-0.054777910105791285,-0.05673257165072787,-0.054635875591716024,-0.08864447964890917,-0.09094576648360528],[0.14319289150407377,0.12950892019919566,0.1341508817688719,0.11818699297112872,0.11440349260179106,0.1262598955707311,0.13823692894783454,0.15449705104364503,0.16426511974431077,0.16979855048783535,0.16652352640566656,0.16409546405448305,0.1641982957796559,0.1514759363300815,0.15997576936120342,0.15979672496914454,0.15524188013699394,0.15534472264843552,0.15932801190051177,0.15826202744363294,0.15940182888226756,0.14499886230729747,0.15060616276881564,0.14704759048225718,0.14596732674866184,0.14567121499879246,0.14674399301902305,0.14895968028119888,0.15073114847250976],[0.14319289150407377,0.12706288696581589,0.111933957321455,0.12461091430209563,0.13422025328663612,0.1460119770169084,0.14666292245752957,0.14387437697535724,0.15952680126256294,0.15717087065666252,0.15979332353521308,0.1527994903122441,0.15254696893996733,0.16606419110294846,0.1580178677400213,0.15689919616642625,0.15159814096903518,0.14227462664294283,0.14147758531502996,0.14423953595364852,0.14680241294583704,0.14662670607540393,0.14592753845392484,0.14824942602136118,0.14858665053487657,0.14613235610532938,0.14425393512931395,0.1454539649222981,0.1465248526915628]]},\"selected\":{\"id\":\"1798\",\"type\":\"Selection\"},\"selection_policy\":{\"id\":\"1799\",\"type\":\"UnionRenderers\"}},\"id\":\"1766\",\"type\":\"ColumnDataSource\"},{\"attributes\":{\"line_color\":{\"field\":\"color\"},\"line_width\":{\"value\":2},\"xs\":{\"field\":\"xs\"},\"ys\":{\"field\":\"ys\"}},\"id\":\"1768\",\"type\":\"MultiLine\"},{\"attributes\":{},\"id\":\"1738\",\"type\":\"LinearScale\"}],\"root_ids\":[\"1781\"]},\"title\":\"Bokeh Application\",\"version\":\"1.3.4\"}};\n",
       "  var render_items = [{\"docid\":\"a7ef078f-63d7-45dd-84c8-9c9509e42ff0\",\"roots\":{\"1781\":\"5e8ad7bc-6aeb-45d4-b646-45f94a8d3e83\"}}];\n",
       "  root.Bokeh.embed.embed_items_notebook(docs_json, render_items);\n",
       "\n",
       "  }\n",
       "  if (root.Bokeh !== undefined) {\n",
       "    embed_document(root);\n",
       "  } else {\n",
       "    var attempts = 0;\n",
       "    var timer = setInterval(function(root) {\n",
       "      if (root.Bokeh !== undefined) {\n",
       "        embed_document(root);\n",
       "        clearInterval(timer);\n",
       "      }\n",
       "      attempts++;\n",
       "      if (attempts > 100) {\n",
       "        console.log(\"Bokeh: ERROR: Unable to run BokehJS code because BokehJS library is missing\");\n",
       "        clearInterval(timer);\n",
       "      }\n",
       "    }, 10, root)\n",
       "  }\n",
       "})(window);"
      ],
      "application/vnd.bokehjs_exec.v0+json": ""
     },
     "metadata": {
      "application/vnd.bokehjs_exec.v0+json": {
       "id": "1781"
      }
     },
     "output_type": "display_data"
    }
   ],
   "source": [
    "c = [i for i in range(2, 31)]\n",
    "plot_evaluation(title=\"Silhouette index \\n1-sim\", metric=silhouette3, pos_legend='center_right', c=c,\n",
    "                title2=\"Silhouette index \\ncosine_sim\", metric2=silhouette4, pos_legend2='center_right',)"
   ]
  },
  {
   "cell_type": "markdown",
   "metadata": {},
   "source": [
    "<font size=3>\n",
    "    \n",
    "L'output non è molto differente da quello ricavato in precedenza con la matrice estesa, i valori sono leggermente più discreti. I due metodi migliori si intrecciano diverse volte e il picco massimo è raggiunto ancora in prossimità di $12$ cluster. Anche in questo caso i valori sull'asse delle ordinate per la prima matrice sono superiori e in particolare si sfiorano valori di $0.3$ circa $0.05$ superiori al metodo precedente."
   ]
  },
  {
   "cell_type": "code",
   "execution_count": 61,
   "metadata": {},
   "outputs": [
    {
     "data": {
      "application/javascript": [
       "\n",
       "(function(root) {\n",
       "  function now() {\n",
       "    return new Date();\n",
       "  }\n",
       "\n",
       "  var force = true;\n",
       "\n",
       "  if (typeof root._bokeh_onload_callbacks === \"undefined\" || force === true) {\n",
       "    root._bokeh_onload_callbacks = [];\n",
       "    root._bokeh_is_loading = undefined;\n",
       "  }\n",
       "\n",
       "  var JS_MIME_TYPE = 'application/javascript';\n",
       "  var HTML_MIME_TYPE = 'text/html';\n",
       "  var EXEC_MIME_TYPE = 'application/vnd.bokehjs_exec.v0+json';\n",
       "  var CLASS_NAME = 'output_bokeh rendered_html';\n",
       "\n",
       "  /**\n",
       "   * Render data to the DOM node\n",
       "   */\n",
       "  function render(props, node) {\n",
       "    var script = document.createElement(\"script\");\n",
       "    node.appendChild(script);\n",
       "  }\n",
       "\n",
       "  /**\n",
       "   * Handle when an output is cleared or removed\n",
       "   */\n",
       "  function handleClearOutput(event, handle) {\n",
       "    var cell = handle.cell;\n",
       "\n",
       "    var id = cell.output_area._bokeh_element_id;\n",
       "    var server_id = cell.output_area._bokeh_server_id;\n",
       "    // Clean up Bokeh references\n",
       "    if (id != null && id in Bokeh.index) {\n",
       "      Bokeh.index[id].model.document.clear();\n",
       "      delete Bokeh.index[id];\n",
       "    }\n",
       "\n",
       "    if (server_id !== undefined) {\n",
       "      // Clean up Bokeh references\n",
       "      var cmd = \"from bokeh.io.state import curstate; print(curstate().uuid_to_server['\" + server_id + \"'].get_sessions()[0].document.roots[0]._id)\";\n",
       "      cell.notebook.kernel.execute(cmd, {\n",
       "        iopub: {\n",
       "          output: function(msg) {\n",
       "            var id = msg.content.text.trim();\n",
       "            if (id in Bokeh.index) {\n",
       "              Bokeh.index[id].model.document.clear();\n",
       "              delete Bokeh.index[id];\n",
       "            }\n",
       "          }\n",
       "        }\n",
       "      });\n",
       "      // Destroy server and session\n",
       "      var cmd = \"import bokeh.io.notebook as ion; ion.destroy_server('\" + server_id + \"')\";\n",
       "      cell.notebook.kernel.execute(cmd);\n",
       "    }\n",
       "  }\n",
       "\n",
       "  /**\n",
       "   * Handle when a new output is added\n",
       "   */\n",
       "  function handleAddOutput(event, handle) {\n",
       "    var output_area = handle.output_area;\n",
       "    var output = handle.output;\n",
       "\n",
       "    // limit handleAddOutput to display_data with EXEC_MIME_TYPE content only\n",
       "    if ((output.output_type != \"display_data\") || (!output.data.hasOwnProperty(EXEC_MIME_TYPE))) {\n",
       "      return\n",
       "    }\n",
       "\n",
       "    var toinsert = output_area.element.find(\".\" + CLASS_NAME.split(' ')[0]);\n",
       "\n",
       "    if (output.metadata[EXEC_MIME_TYPE][\"id\"] !== undefined) {\n",
       "      toinsert[toinsert.length - 1].firstChild.textContent = output.data[JS_MIME_TYPE];\n",
       "      // store reference to embed id on output_area\n",
       "      output_area._bokeh_element_id = output.metadata[EXEC_MIME_TYPE][\"id\"];\n",
       "    }\n",
       "    if (output.metadata[EXEC_MIME_TYPE][\"server_id\"] !== undefined) {\n",
       "      var bk_div = document.createElement(\"div\");\n",
       "      bk_div.innerHTML = output.data[HTML_MIME_TYPE];\n",
       "      var script_attrs = bk_div.children[0].attributes;\n",
       "      for (var i = 0; i < script_attrs.length; i++) {\n",
       "        toinsert[toinsert.length - 1].firstChild.setAttribute(script_attrs[i].name, script_attrs[i].value);\n",
       "      }\n",
       "      // store reference to server id on output_area\n",
       "      output_area._bokeh_server_id = output.metadata[EXEC_MIME_TYPE][\"server_id\"];\n",
       "    }\n",
       "  }\n",
       "\n",
       "  function register_renderer(events, OutputArea) {\n",
       "\n",
       "    function append_mime(data, metadata, element) {\n",
       "      // create a DOM node to render to\n",
       "      var toinsert = this.create_output_subarea(\n",
       "        metadata,\n",
       "        CLASS_NAME,\n",
       "        EXEC_MIME_TYPE\n",
       "      );\n",
       "      this.keyboard_manager.register_events(toinsert);\n",
       "      // Render to node\n",
       "      var props = {data: data, metadata: metadata[EXEC_MIME_TYPE]};\n",
       "      render(props, toinsert[toinsert.length - 1]);\n",
       "      element.append(toinsert);\n",
       "      return toinsert\n",
       "    }\n",
       "\n",
       "    /* Handle when an output is cleared or removed */\n",
       "    events.on('clear_output.CodeCell', handleClearOutput);\n",
       "    events.on('delete.Cell', handleClearOutput);\n",
       "\n",
       "    /* Handle when a new output is added */\n",
       "    events.on('output_added.OutputArea', handleAddOutput);\n",
       "\n",
       "    /**\n",
       "     * Register the mime type and append_mime function with output_area\n",
       "     */\n",
       "    OutputArea.prototype.register_mime_type(EXEC_MIME_TYPE, append_mime, {\n",
       "      /* Is output safe? */\n",
       "      safe: true,\n",
       "      /* Index of renderer in `output_area.display_order` */\n",
       "      index: 0\n",
       "    });\n",
       "  }\n",
       "\n",
       "  // register the mime type if in Jupyter Notebook environment and previously unregistered\n",
       "  if (root.Jupyter !== undefined) {\n",
       "    var events = require('base/js/events');\n",
       "    var OutputArea = require('notebook/js/outputarea').OutputArea;\n",
       "\n",
       "    if (OutputArea.prototype.mime_types().indexOf(EXEC_MIME_TYPE) == -1) {\n",
       "      register_renderer(events, OutputArea);\n",
       "    }\n",
       "  }\n",
       "\n",
       "  \n",
       "  if (typeof (root._bokeh_timeout) === \"undefined\" || force === true) {\n",
       "    root._bokeh_timeout = Date.now() + 5000;\n",
       "    root._bokeh_failed_load = false;\n",
       "  }\n",
       "\n",
       "  var NB_LOAD_WARNING = {'data': {'text/html':\n",
       "     \"<div style='background-color: #fdd'>\\n\"+\n",
       "     \"<p>\\n\"+\n",
       "     \"BokehJS does not appear to have successfully loaded. If loading BokehJS from CDN, this \\n\"+\n",
       "     \"may be due to a slow or bad network connection. Possible fixes:\\n\"+\n",
       "     \"</p>\\n\"+\n",
       "     \"<ul>\\n\"+\n",
       "     \"<li>re-rerun `output_notebook()` to attempt to load from CDN again, or</li>\\n\"+\n",
       "     \"<li>use INLINE resources instead, as so:</li>\\n\"+\n",
       "     \"</ul>\\n\"+\n",
       "     \"<code>\\n\"+\n",
       "     \"from bokeh.resources import INLINE\\n\"+\n",
       "     \"output_notebook(resources=INLINE)\\n\"+\n",
       "     \"</code>\\n\"+\n",
       "     \"</div>\"}};\n",
       "\n",
       "  function display_loaded() {\n",
       "    var el = document.getElementById(null);\n",
       "    if (el != null) {\n",
       "      el.textContent = \"BokehJS is loading...\";\n",
       "    }\n",
       "    if (root.Bokeh !== undefined) {\n",
       "      if (el != null) {\n",
       "        el.textContent = \"BokehJS \" + root.Bokeh.version + \" successfully loaded.\";\n",
       "      }\n",
       "    } else if (Date.now() < root._bokeh_timeout) {\n",
       "      setTimeout(display_loaded, 100)\n",
       "    }\n",
       "  }\n",
       "\n",
       "\n",
       "  function run_callbacks() {\n",
       "    try {\n",
       "      root._bokeh_onload_callbacks.forEach(function(callback) {\n",
       "        if (callback != null)\n",
       "          callback();\n",
       "      });\n",
       "    } finally {\n",
       "      delete root._bokeh_onload_callbacks\n",
       "    }\n",
       "    console.debug(\"Bokeh: all callbacks have finished\");\n",
       "  }\n",
       "\n",
       "  function load_libs(css_urls, js_urls, callback) {\n",
       "    if (css_urls == null) css_urls = [];\n",
       "    if (js_urls == null) js_urls = [];\n",
       "\n",
       "    root._bokeh_onload_callbacks.push(callback);\n",
       "    if (root._bokeh_is_loading > 0) {\n",
       "      console.debug(\"Bokeh: BokehJS is being loaded, scheduling callback at\", now());\n",
       "      return null;\n",
       "    }\n",
       "    if (js_urls == null || js_urls.length === 0) {\n",
       "      run_callbacks();\n",
       "      return null;\n",
       "    }\n",
       "    console.debug(\"Bokeh: BokehJS not loaded, scheduling load and callback at\", now());\n",
       "    root._bokeh_is_loading = css_urls.length + js_urls.length;\n",
       "\n",
       "    function on_load() {\n",
       "      root._bokeh_is_loading--;\n",
       "      if (root._bokeh_is_loading === 0) {\n",
       "        console.debug(\"Bokeh: all BokehJS libraries/stylesheets loaded\");\n",
       "        run_callbacks()\n",
       "      }\n",
       "    }\n",
       "\n",
       "    function on_error() {\n",
       "      console.error(\"failed to load \" + url);\n",
       "    }\n",
       "\n",
       "    for (var i = 0; i < css_urls.length; i++) {\n",
       "      var url = css_urls[i];\n",
       "      const element = document.createElement(\"link\");\n",
       "      element.onload = on_load;\n",
       "      element.onerror = on_error;\n",
       "      element.rel = \"stylesheet\";\n",
       "      element.type = \"text/css\";\n",
       "      element.href = url;\n",
       "      console.debug(\"Bokeh: injecting link tag for BokehJS stylesheet: \", url);\n",
       "      document.body.appendChild(element);\n",
       "    }\n",
       "\n",
       "    for (var i = 0; i < js_urls.length; i++) {\n",
       "      var url = js_urls[i];\n",
       "      var element = document.createElement('script');\n",
       "      element.onload = on_load;\n",
       "      element.onerror = on_error;\n",
       "      element.async = false;\n",
       "      element.src = url;\n",
       "      console.debug(\"Bokeh: injecting script tag for BokehJS library: \", url);\n",
       "      document.head.appendChild(element);\n",
       "    }\n",
       "  };\n",
       "\n",
       "  function inject_raw_css(css) {\n",
       "    const element = document.createElement(\"style\");\n",
       "    element.appendChild(document.createTextNode(css));\n",
       "    document.body.appendChild(element);\n",
       "  }\n",
       "\n",
       "  var js_urls = [\"https://cdn.pydata.org/bokeh/release/bokeh-1.3.4.min.js\", \"https://cdn.pydata.org/bokeh/release/bokeh-widgets-1.3.4.min.js\", \"https://cdn.pydata.org/bokeh/release/bokeh-tables-1.3.4.min.js\", \"https://cdn.pydata.org/bokeh/release/bokeh-gl-1.3.4.min.js\"];\n",
       "  var css_urls = [];\n",
       "\n",
       "  var inline_js = [\n",
       "    function(Bokeh) {\n",
       "      Bokeh.set_log_level(\"info\");\n",
       "    },\n",
       "    \n",
       "    function(Bokeh) {\n",
       "      \n",
       "    },\n",
       "    function(Bokeh) {} // ensure no trailing comma for IE\n",
       "  ];\n",
       "\n",
       "  function run_inline_js() {\n",
       "    \n",
       "    if ((root.Bokeh !== undefined) || (force === true)) {\n",
       "      for (var i = 0; i < inline_js.length; i++) {\n",
       "        inline_js[i].call(root, root.Bokeh);\n",
       "      }} else if (Date.now() < root._bokeh_timeout) {\n",
       "      setTimeout(run_inline_js, 100);\n",
       "    } else if (!root._bokeh_failed_load) {\n",
       "      console.log(\"Bokeh: BokehJS failed to load within specified timeout.\");\n",
       "      root._bokeh_failed_load = true;\n",
       "    } else if (force !== true) {\n",
       "      var cell = $(document.getElementById(null)).parents('.cell').data().cell;\n",
       "      cell.output_area.append_execute_result(NB_LOAD_WARNING)\n",
       "    }\n",
       "\n",
       "  }\n",
       "\n",
       "  if (root._bokeh_is_loading === 0) {\n",
       "    console.debug(\"Bokeh: BokehJS loaded, going straight to plotting\");\n",
       "    run_inline_js();\n",
       "  } else {\n",
       "    load_libs(css_urls, js_urls, function() {\n",
       "      console.debug(\"Bokeh: BokehJS plotting callback run at\", now());\n",
       "      run_inline_js();\n",
       "    });\n",
       "  }\n",
       "}(window));"
      ],
      "application/vnd.bokehjs_load.v0+json": "\n(function(root) {\n  function now() {\n    return new Date();\n  }\n\n  var force = true;\n\n  if (typeof root._bokeh_onload_callbacks === \"undefined\" || force === true) {\n    root._bokeh_onload_callbacks = [];\n    root._bokeh_is_loading = undefined;\n  }\n\n  \n\n  \n  if (typeof (root._bokeh_timeout) === \"undefined\" || force === true) {\n    root._bokeh_timeout = Date.now() + 5000;\n    root._bokeh_failed_load = false;\n  }\n\n  var NB_LOAD_WARNING = {'data': {'text/html':\n     \"<div style='background-color: #fdd'>\\n\"+\n     \"<p>\\n\"+\n     \"BokehJS does not appear to have successfully loaded. If loading BokehJS from CDN, this \\n\"+\n     \"may be due to a slow or bad network connection. Possible fixes:\\n\"+\n     \"</p>\\n\"+\n     \"<ul>\\n\"+\n     \"<li>re-rerun `output_notebook()` to attempt to load from CDN again, or</li>\\n\"+\n     \"<li>use INLINE resources instead, as so:</li>\\n\"+\n     \"</ul>\\n\"+\n     \"<code>\\n\"+\n     \"from bokeh.resources import INLINE\\n\"+\n     \"output_notebook(resources=INLINE)\\n\"+\n     \"</code>\\n\"+\n     \"</div>\"}};\n\n  function display_loaded() {\n    var el = document.getElementById(null);\n    if (el != null) {\n      el.textContent = \"BokehJS is loading...\";\n    }\n    if (root.Bokeh !== undefined) {\n      if (el != null) {\n        el.textContent = \"BokehJS \" + root.Bokeh.version + \" successfully loaded.\";\n      }\n    } else if (Date.now() < root._bokeh_timeout) {\n      setTimeout(display_loaded, 100)\n    }\n  }\n\n\n  function run_callbacks() {\n    try {\n      root._bokeh_onload_callbacks.forEach(function(callback) {\n        if (callback != null)\n          callback();\n      });\n    } finally {\n      delete root._bokeh_onload_callbacks\n    }\n    console.debug(\"Bokeh: all callbacks have finished\");\n  }\n\n  function load_libs(css_urls, js_urls, callback) {\n    if (css_urls == null) css_urls = [];\n    if (js_urls == null) js_urls = [];\n\n    root._bokeh_onload_callbacks.push(callback);\n    if (root._bokeh_is_loading > 0) {\n      console.debug(\"Bokeh: BokehJS is being loaded, scheduling callback at\", now());\n      return null;\n    }\n    if (js_urls == null || js_urls.length === 0) {\n      run_callbacks();\n      return null;\n    }\n    console.debug(\"Bokeh: BokehJS not loaded, scheduling load and callback at\", now());\n    root._bokeh_is_loading = css_urls.length + js_urls.length;\n\n    function on_load() {\n      root._bokeh_is_loading--;\n      if (root._bokeh_is_loading === 0) {\n        console.debug(\"Bokeh: all BokehJS libraries/stylesheets loaded\");\n        run_callbacks()\n      }\n    }\n\n    function on_error() {\n      console.error(\"failed to load \" + url);\n    }\n\n    for (var i = 0; i < css_urls.length; i++) {\n      var url = css_urls[i];\n      const element = document.createElement(\"link\");\n      element.onload = on_load;\n      element.onerror = on_error;\n      element.rel = \"stylesheet\";\n      element.type = \"text/css\";\n      element.href = url;\n      console.debug(\"Bokeh: injecting link tag for BokehJS stylesheet: \", url);\n      document.body.appendChild(element);\n    }\n\n    for (var i = 0; i < js_urls.length; i++) {\n      var url = js_urls[i];\n      var element = document.createElement('script');\n      element.onload = on_load;\n      element.onerror = on_error;\n      element.async = false;\n      element.src = url;\n      console.debug(\"Bokeh: injecting script tag for BokehJS library: \", url);\n      document.head.appendChild(element);\n    }\n  };\n\n  function inject_raw_css(css) {\n    const element = document.createElement(\"style\");\n    element.appendChild(document.createTextNode(css));\n    document.body.appendChild(element);\n  }\n\n  var js_urls = [\"https://cdn.pydata.org/bokeh/release/bokeh-1.3.4.min.js\", \"https://cdn.pydata.org/bokeh/release/bokeh-widgets-1.3.4.min.js\", \"https://cdn.pydata.org/bokeh/release/bokeh-tables-1.3.4.min.js\", \"https://cdn.pydata.org/bokeh/release/bokeh-gl-1.3.4.min.js\"];\n  var css_urls = [];\n\n  var inline_js = [\n    function(Bokeh) {\n      Bokeh.set_log_level(\"info\");\n    },\n    \n    function(Bokeh) {\n      \n    },\n    function(Bokeh) {} // ensure no trailing comma for IE\n  ];\n\n  function run_inline_js() {\n    \n    if ((root.Bokeh !== undefined) || (force === true)) {\n      for (var i = 0; i < inline_js.length; i++) {\n        inline_js[i].call(root, root.Bokeh);\n      }} else if (Date.now() < root._bokeh_timeout) {\n      setTimeout(run_inline_js, 100);\n    } else if (!root._bokeh_failed_load) {\n      console.log(\"Bokeh: BokehJS failed to load within specified timeout.\");\n      root._bokeh_failed_load = true;\n    } else if (force !== true) {\n      var cell = $(document.getElementById(null)).parents('.cell').data().cell;\n      cell.output_area.append_execute_result(NB_LOAD_WARNING)\n    }\n\n  }\n\n  if (root._bokeh_is_loading === 0) {\n    console.debug(\"Bokeh: BokehJS loaded, going straight to plotting\");\n    run_inline_js();\n  } else {\n    load_libs(css_urls, js_urls, function() {\n      console.debug(\"Bokeh: BokehJS plotting callback run at\", now());\n      run_inline_js();\n    });\n  }\n}(window));"
     },
     "metadata": {},
     "output_type": "display_data"
    },
    {
     "data": {
      "text/html": [
       "\n",
       "\n",
       "\n",
       "\n",
       "\n",
       "\n",
       "  <div class=\"bk-root\" id=\"c44c6856-e810-4d0c-98c8-957bd261c9f7\" data-root-id=\"2008\"></div>\n"
      ]
     },
     "metadata": {},
     "output_type": "display_data"
    },
    {
     "data": {
      "application/javascript": [
       "(function(root) {\n",
       "  function embed_document(root) {\n",
       "    \n",
       "  var docs_json = {\"8bf6584f-ec6d-4cb8-b318-3eb5f69c42bc\":{\"roots\":{\"references\":[{\"attributes\":{\"children\":[{\"id\":\"1908\",\"subtype\":\"Figure\",\"type\":\"Plot\"},{\"id\":\"1958\",\"subtype\":\"Figure\",\"type\":\"Plot\"}]},\"id\":\"2008\",\"type\":\"Row\"},{\"attributes\":{\"callback\":null},\"id\":\"1911\",\"type\":\"DataRange1d\"},{\"attributes\":{\"callback\":null,\"data\":{\"color\":[\"red\",\"blue\",\"black\"],\"labels\":[\"single\",\"average\",\"complete\"],\"xs\":[[2,3,4,5,6,7,8,9,10,11,12,13,14,15,16,17,18,19,20,21,22,23,24,25,26,27,28,29,30],[2,3,4,5,6,7,8,9,10,11,12,13,14,15,16,17,18,19,20,21,22,23,24,25,26,27,28,29,30],[2,3,4,5,6,7,8,9,10,11,12,13,14,15,16,17,18,19,20,21,22,23,24,25,26,27,28,29,30]],\"ys\":[[7.932197381586527,4.024715160070496,2.7781074969086563,2.3090664164633363,1.9166657713496,1.7260701946914139,1.5181843400510513,1.362661191747559,1.2701365003826737,1.1561238426859315,1.083184685570979,1.0239074126209697,1.0288708717115516,1.230631750924568,1.195404465535311,3.557840393162881,3.456533300416609,3.2809015463037463,3.123768397752768,3.141080462364574,3.08447464661672,2.9476206269980607,2.8191712441967525,2.7019995965812873,2.613243842760148,2.5281922950487883,2.4958933397071337,2.428095476374248,2.3622119574414704],[662.3260474306845,338.81820921468545,232.7311406312973,335.5592470189011,273.1046646567844,272.70740791501885,254.77634903780688,269.56358393061777,253.62415617374816,307.24389348437893,299.47024396256535,275.6107403375528,254.7267931360961,236.99375403859207,249.68352657906595,236.91445091447721,230.58065290507696,217.91094205125643,209.74065880761498,199.2162973334658,191.03381436746326,183.58724903452082,189.2469517936319,182.31356355530338,175.1046768066968,168.68805309284065,163.55206654765922,161.67367736041078,157.88843103830732],[662.3260474306845,351.97755941996513,451.2905458270902,421.7990325156569,372.7119898647515,334.3793347490788,288.0678362152568,254.07412312404549,254.3944112698603,241.64114137376774,291.8467057893457,269.1056768857738,252.47415782011424,264.35012692747597,264.7468043121364,249.3593668404949,245.53625862201466,248.91071937408705,240.0599641932971,232.1922411015416,225.48798048646907,216.50429818356955,208.75087852873975,201.79469143269694,194.20238593884193,194.1246185080705,191.42462309388173,185.18692247223686,180.21339505191202]]},\"selected\":{\"id\":\"2025\",\"type\":\"Selection\"},\"selection_policy\":{\"id\":\"2026\",\"type\":\"UnionRenderers\"}},\"id\":\"1993\",\"type\":\"ColumnDataSource\"},{\"attributes\":{\"bottom_units\":\"screen\",\"fill_alpha\":{\"value\":0.5},\"fill_color\":{\"value\":\"lightgrey\"},\"left_units\":\"screen\",\"level\":\"overlay\",\"line_alpha\":{\"value\":1.0},\"line_color\":{\"value\":\"black\"},\"line_dash\":[4,4],\"line_width\":{\"value\":2},\"render_mode\":\"css\",\"right_units\":\"screen\",\"top_units\":\"screen\"},\"id\":\"1955\",\"type\":\"BoxAnnotation\"},{\"attributes\":{\"callback\":null,\"data\":{\"color\":[\"red\",\"blue\",\"black\"],\"labels\":[\"single\",\"average\",\"complete\"],\"xs\":[[2,3,4,5,6,7,8,9,10,11,12,13,14,15,16,17,18,19,20,21,22,23,24,25,26,27,28,29,30],[2,3,4,5,6,7,8,9,10,11,12,13,14,15,16,17,18,19,20,21,22,23,24,25,26,27,28,29,30],[2,3,4,5,6,7,8,9,10,11,12,13,14,15,16,17,18,19,20,21,22,23,24,25,26,27,28,29,30]],\"ys\":[[9.51871110122929,4.783802272315339,3.243547034658629,2.6459377757533105,2.180662695988533,1.9622798240372508,1.7132147991360822,1.5278223639091117,1.4116632451010838,1.2799835150174685,1.192590235627306,1.1224925739747502,1.1345702874041954,1.3010341624129067,1.2606349082880106,4.089025750134386,3.937939075709876,3.733296475983787,3.5502104946447837,3.5321174250354868,3.4483334973785773,3.291853376300236,3.145908016948564,3.011930103583611,2.909140211121635,2.811443963166173,2.7660351574497555,2.689095719230374,2.6133491179530526],[962.8654019320458,492.0907987515219,337.49770938825407,506.41771781495424,412.8359761882746,370.30212022008726,395.99250063993077,431.04496982089927,407.02345005613245,509.7757230142118,503.50661926585036,463.7410215050737,428.51001733740577,398.6645130392456,426.86733735001513,406.27221316023974,396.3756015260778,374.6390472651591,360.2748083499787,342.0507595555537,327.91745454302674,315.7042040464882,327.7982156345239,317.2992320996084,304.76830818037,294.6314536212761,284.1439214799715,277.17319122967376,271.1512536193194],[962.8654019320458,511.3425593238539,683.2846005430133,652.8431639983821,581.8997012675622,527.8779943636049,454.63702471310074,401.1045852337753,408.65748015870315,390.15318375090726,489.2025792540665,451.90484408437237,426.00584545900455,452.8238799135498,455.99790779528956,429.99262574579166,423.84259619964786,432.47940677861664,418.4475859438317,404.3723616109028,393.8900294970703,378.8083833721048,364.98368648159305,352.4461084059016,339.3149540390223,338.71171026490003,335.1581393576697,324.0468271174046,314.89753869994973]]},\"selected\":{\"id\":\"2022\",\"type\":\"Selection\"},\"selection_policy\":{\"id\":\"2023\",\"type\":\"UnionRenderers\"}},\"id\":\"1943\",\"type\":\"ColumnDataSource\"},{\"attributes\":{\"line_color\":{\"field\":\"color\"},\"line_width\":{\"value\":2},\"xs\":{\"field\":\"xs\"},\"ys\":{\"field\":\"ys\"}},\"id\":\"1945\",\"type\":\"MultiLine\"},{\"attributes\":{},\"id\":\"1928\",\"type\":\"WheelZoomTool\"},{\"attributes\":{},\"id\":\"1931\",\"type\":\"ResetTool\"},{\"attributes\":{},\"id\":\"2003\",\"type\":\"BasicTickFormatter\"},{\"attributes\":{\"overlay\":{\"id\":\"2005\",\"type\":\"BoxAnnotation\"}},\"id\":\"1979\",\"type\":\"BoxZoomTool\"},{\"attributes\":{\"line_alpha\":{\"value\":0.1},\"line_color\":{\"value\":\"#1f77b4\"},\"line_width\":{\"value\":2},\"xs\":{\"field\":\"xs\"},\"ys\":{\"field\":\"ys\"}},\"id\":\"1946\",\"type\":\"MultiLine\"},{\"attributes\":{\"label\":{\"field\":\"labels\"},\"renderers\":[{\"id\":\"1997\",\"type\":\"GlyphRenderer\"}]},\"id\":\"2007\",\"type\":\"LegendItem\"},{\"attributes\":{},\"id\":\"1932\",\"type\":\"HelpTool\"},{\"attributes\":{\"bottom_units\":\"screen\",\"fill_alpha\":{\"value\":0.5},\"fill_color\":{\"value\":\"lightgrey\"},\"left_units\":\"screen\",\"level\":\"overlay\",\"line_alpha\":{\"value\":1.0},\"line_color\":{\"value\":\"black\"},\"line_dash\":[4,4],\"line_width\":{\"value\":2},\"render_mode\":\"css\",\"right_units\":\"screen\",\"top_units\":\"screen\"},\"id\":\"2005\",\"type\":\"BoxAnnotation\"},{\"attributes\":{\"active_drag\":\"auto\",\"active_inspect\":\"auto\",\"active_multi\":null,\"active_scroll\":\"auto\",\"active_tap\":\"auto\",\"tools\":[{\"id\":\"1927\",\"type\":\"PanTool\"},{\"id\":\"1928\",\"type\":\"WheelZoomTool\"},{\"id\":\"1929\",\"type\":\"BoxZoomTool\"},{\"id\":\"1930\",\"type\":\"SaveTool\"},{\"id\":\"1931\",\"type\":\"ResetTool\"},{\"id\":\"1932\",\"type\":\"HelpTool\"}]},\"id\":\"1933\",\"type\":\"Toolbar\"},{\"attributes\":{\"below\":[{\"id\":\"1917\",\"type\":\"LinearAxis\"}],\"center\":[{\"id\":\"1921\",\"type\":\"Grid\"},{\"id\":\"1926\",\"type\":\"Grid\"},{\"id\":\"1956\",\"type\":\"Legend\"}],\"left\":[{\"id\":\"1922\",\"type\":\"LinearAxis\"}],\"plot_height\":450,\"plot_width\":450,\"renderers\":[{\"id\":\"1947\",\"type\":\"GlyphRenderer\"}],\"title\":{\"id\":\"1940\",\"type\":\"Title\"},\"toolbar\":{\"id\":\"1933\",\"type\":\"Toolbar\"},\"x_range\":{\"id\":\"1909\",\"type\":\"DataRange1d\"},\"x_scale\":{\"id\":\"1913\",\"type\":\"LinearScale\"},\"y_range\":{\"id\":\"1911\",\"type\":\"DataRange1d\"},\"y_scale\":{\"id\":\"1915\",\"type\":\"LinearScale\"}},\"id\":\"1908\",\"subtype\":\"Figure\",\"type\":\"Plot\"},{\"attributes\":{\"formatter\":{\"id\":\"1951\",\"type\":\"BasicTickFormatter\"},\"ticker\":{\"id\":\"1918\",\"type\":\"BasicTicker\"}},\"id\":\"1917\",\"type\":\"LinearAxis\"},{\"attributes\":{\"active_drag\":\"auto\",\"active_inspect\":\"auto\",\"active_multi\":null,\"active_scroll\":\"auto\",\"active_tap\":\"auto\",\"tools\":[{\"id\":\"1977\",\"type\":\"PanTool\"},{\"id\":\"1978\",\"type\":\"WheelZoomTool\"},{\"id\":\"1979\",\"type\":\"BoxZoomTool\"},{\"id\":\"1980\",\"type\":\"SaveTool\"},{\"id\":\"1981\",\"type\":\"ResetTool\"},{\"id\":\"1982\",\"type\":\"HelpTool\"}]},\"id\":\"1983\",\"type\":\"Toolbar\"},{\"attributes\":{\"data_source\":{\"id\":\"1993\",\"type\":\"ColumnDataSource\"},\"glyph\":{\"id\":\"1995\",\"type\":\"MultiLine\"},\"hover_glyph\":null,\"muted_glyph\":null,\"nonselection_glyph\":{\"id\":\"1996\",\"type\":\"MultiLine\"},\"selection_glyph\":null,\"view\":{\"id\":\"1998\",\"type\":\"CDSView\"}},\"id\":\"1997\",\"type\":\"GlyphRenderer\"},{\"attributes\":{\"callback\":null},\"id\":\"1959\",\"type\":\"DataRange1d\"},{\"attributes\":{},\"id\":\"2025\",\"type\":\"Selection\"},{\"attributes\":{\"items\":[{\"id\":\"1957\",\"type\":\"LegendItem\"}],\"location\":\"top_center\"},\"id\":\"1956\",\"type\":\"Legend\"},{\"attributes\":{\"line_alpha\":{\"value\":0.1},\"line_color\":{\"value\":\"#1f77b4\"},\"line_width\":{\"value\":2},\"xs\":{\"field\":\"xs\"},\"ys\":{\"field\":\"ys\"}},\"id\":\"1996\",\"type\":\"MultiLine\"},{\"attributes\":{\"formatter\":{\"id\":\"2001\",\"type\":\"BasicTickFormatter\"},\"ticker\":{\"id\":\"1968\",\"type\":\"BasicTicker\"}},\"id\":\"1967\",\"type\":\"LinearAxis\"},{\"attributes\":{\"source\":{\"id\":\"1993\",\"type\":\"ColumnDataSource\"}},\"id\":\"1998\",\"type\":\"CDSView\"},{\"attributes\":{},\"id\":\"1977\",\"type\":\"PanTool\"},{\"attributes\":{\"callback\":null},\"id\":\"1961\",\"type\":\"DataRange1d\"},{\"attributes\":{\"callback\":null},\"id\":\"1909\",\"type\":\"DataRange1d\"},{\"attributes\":{\"dimension\":1,\"ticker\":{\"id\":\"1973\",\"type\":\"BasicTicker\"}},\"id\":\"1976\",\"type\":\"Grid\"},{\"attributes\":{},\"id\":\"1978\",\"type\":\"WheelZoomTool\"},{\"attributes\":{},\"id\":\"2022\",\"type\":\"Selection\"},{\"attributes\":{},\"id\":\"1965\",\"type\":\"LinearScale\"},{\"attributes\":{},\"id\":\"1923\",\"type\":\"BasicTicker\"},{\"attributes\":{\"formatter\":{\"id\":\"2003\",\"type\":\"BasicTickFormatter\"},\"ticker\":{\"id\":\"1973\",\"type\":\"BasicTicker\"}},\"id\":\"1972\",\"type\":\"LinearAxis\"},{\"attributes\":{},\"id\":\"2001\",\"type\":\"BasicTickFormatter\"},{\"attributes\":{},\"id\":\"1963\",\"type\":\"LinearScale\"},{\"attributes\":{},\"id\":\"1918\",\"type\":\"BasicTicker\"},{\"attributes\":{\"source\":{\"id\":\"1943\",\"type\":\"ColumnDataSource\"}},\"id\":\"1948\",\"type\":\"CDSView\"},{\"attributes\":{\"formatter\":{\"id\":\"1953\",\"type\":\"BasicTickFormatter\"},\"ticker\":{\"id\":\"1923\",\"type\":\"BasicTicker\"}},\"id\":\"1922\",\"type\":\"LinearAxis\"},{\"attributes\":{},\"id\":\"1982\",\"type\":\"HelpTool\"},{\"attributes\":{\"data_source\":{\"id\":\"1943\",\"type\":\"ColumnDataSource\"},\"glyph\":{\"id\":\"1945\",\"type\":\"MultiLine\"},\"hover_glyph\":null,\"muted_glyph\":null,\"nonselection_glyph\":{\"id\":\"1946\",\"type\":\"MultiLine\"},\"selection_glyph\":null,\"view\":{\"id\":\"1948\",\"type\":\"CDSView\"}},\"id\":\"1947\",\"type\":\"GlyphRenderer\"},{\"attributes\":{},\"id\":\"1981\",\"type\":\"ResetTool\"},{\"attributes\":{\"align\":\"center\",\"text\":\"Calinski-Harabasz score \\ncosine_sim\",\"text_font_size\":{\"value\":\"25px\"}},\"id\":\"1990\",\"type\":\"Title\"},{\"attributes\":{},\"id\":\"1980\",\"type\":\"SaveTool\"},{\"attributes\":{\"line_color\":{\"field\":\"color\"},\"line_width\":{\"value\":2},\"xs\":{\"field\":\"xs\"},\"ys\":{\"field\":\"ys\"}},\"id\":\"1995\",\"type\":\"MultiLine\"},{\"attributes\":{},\"id\":\"2026\",\"type\":\"UnionRenderers\"},{\"attributes\":{\"dimension\":1,\"ticker\":{\"id\":\"1923\",\"type\":\"BasicTicker\"}},\"id\":\"1926\",\"type\":\"Grid\"},{\"attributes\":{},\"id\":\"1915\",\"type\":\"LinearScale\"},{\"attributes\":{\"items\":[{\"id\":\"2007\",\"type\":\"LegendItem\"}],\"location\":\"top_center\"},\"id\":\"2006\",\"type\":\"Legend\"},{\"attributes\":{},\"id\":\"1927\",\"type\":\"PanTool\"},{\"attributes\":{\"overlay\":{\"id\":\"1955\",\"type\":\"BoxAnnotation\"}},\"id\":\"1929\",\"type\":\"BoxZoomTool\"},{\"attributes\":{},\"id\":\"2023\",\"type\":\"UnionRenderers\"},{\"attributes\":{\"below\":[{\"id\":\"1967\",\"type\":\"LinearAxis\"}],\"center\":[{\"id\":\"1971\",\"type\":\"Grid\"},{\"id\":\"1976\",\"type\":\"Grid\"},{\"id\":\"2006\",\"type\":\"Legend\"}],\"left\":[{\"id\":\"1972\",\"type\":\"LinearAxis\"}],\"plot_height\":450,\"plot_width\":450,\"renderers\":[{\"id\":\"1997\",\"type\":\"GlyphRenderer\"}],\"title\":{\"id\":\"1990\",\"type\":\"Title\"},\"toolbar\":{\"id\":\"1983\",\"type\":\"Toolbar\"},\"x_range\":{\"id\":\"1959\",\"type\":\"DataRange1d\"},\"x_scale\":{\"id\":\"1963\",\"type\":\"LinearScale\"},\"y_range\":{\"id\":\"1961\",\"type\":\"DataRange1d\"},\"y_scale\":{\"id\":\"1965\",\"type\":\"LinearScale\"}},\"id\":\"1958\",\"subtype\":\"Figure\",\"type\":\"Plot\"},{\"attributes\":{\"label\":{\"field\":\"labels\"},\"renderers\":[{\"id\":\"1947\",\"type\":\"GlyphRenderer\"}]},\"id\":\"1957\",\"type\":\"LegendItem\"},{\"attributes\":{},\"id\":\"1973\",\"type\":\"BasicTicker\"},{\"attributes\":{\"ticker\":{\"id\":\"1918\",\"type\":\"BasicTicker\"}},\"id\":\"1921\",\"type\":\"Grid\"},{\"attributes\":{\"align\":\"center\",\"text\":\"Calinski-Harabasz score \\n1-sim\",\"text_font_size\":{\"value\":\"25px\"}},\"id\":\"1940\",\"type\":\"Title\"},{\"attributes\":{},\"id\":\"1930\",\"type\":\"SaveTool\"},{\"attributes\":{},\"id\":\"1913\",\"type\":\"LinearScale\"},{\"attributes\":{},\"id\":\"1968\",\"type\":\"BasicTicker\"},{\"attributes\":{},\"id\":\"1951\",\"type\":\"BasicTickFormatter\"},{\"attributes\":{},\"id\":\"1953\",\"type\":\"BasicTickFormatter\"},{\"attributes\":{\"ticker\":{\"id\":\"1968\",\"type\":\"BasicTicker\"}},\"id\":\"1971\",\"type\":\"Grid\"}],\"root_ids\":[\"2008\"]},\"title\":\"Bokeh Application\",\"version\":\"1.3.4\"}};\n",
       "  var render_items = [{\"docid\":\"8bf6584f-ec6d-4cb8-b318-3eb5f69c42bc\",\"roots\":{\"2008\":\"c44c6856-e810-4d0c-98c8-957bd261c9f7\"}}];\n",
       "  root.Bokeh.embed.embed_items_notebook(docs_json, render_items);\n",
       "\n",
       "  }\n",
       "  if (root.Bokeh !== undefined) {\n",
       "    embed_document(root);\n",
       "  } else {\n",
       "    var attempts = 0;\n",
       "    var timer = setInterval(function(root) {\n",
       "      if (root.Bokeh !== undefined) {\n",
       "        embed_document(root);\n",
       "        clearInterval(timer);\n",
       "      }\n",
       "      attempts++;\n",
       "      if (attempts > 100) {\n",
       "        console.log(\"Bokeh: ERROR: Unable to run BokehJS code because BokehJS library is missing\");\n",
       "        clearInterval(timer);\n",
       "      }\n",
       "    }, 10, root)\n",
       "  }\n",
       "})(window);"
      ],
      "application/vnd.bokehjs_exec.v0+json": ""
     },
     "metadata": {
      "application/vnd.bokehjs_exec.v0+json": {
       "id": "2008"
      }
     },
     "output_type": "display_data"
    }
   ],
   "source": [
    "plot_evaluation(title=\"Calinski-Harabasz score \\n1-sim\", metric=CH3, pos_legend='top_center', c=c,\n",
    "                title2=\"Calinski-Harabasz score \\ncosine_sim\", metric2=CH4, pos_legend2='top_center')"
   ]
  },
  {
   "cell_type": "markdown",
   "metadata": {},
   "source": [
    "<font size=3>\n",
    "    \n",
    "È difficile fare un paragone numero con i risultati del metodo precedente in quanto la varianza in qualsiasi applicazione è soggetta al numero di osservazioni, in questo caso riducendo drasticamente le dimensioni della matrice si hanno ovviamente dei valori assoluti inferiori. Con questo metodo non ci sono grosse novità, gli andamenti sono simili e sono preferiti ancora una volta gli algoritmi che producono un numero ristretto di cluster.\n",
    "<br></br><br></br>\n"
   ]
  },
  {
   "cell_type": "code",
   "execution_count": 62,
   "metadata": {},
   "outputs": [],
   "source": [
    "model2 = AgglomerativeClustering(affinity='precomputed', n_clusters=12, linkage=\"average\").fit(n_matrix1)\n",
    "labels2 = model2.labels_"
   ]
  },
  {
   "cell_type": "code",
   "execution_count": 63,
   "metadata": {},
   "outputs": [
    {
     "data": {
      "text/plain": [
       "[(3, 154),\n",
       " (10, 141),\n",
       " (1, 140),\n",
       " (8, 99),\n",
       " (4, 98),\n",
       " (9, 51),\n",
       " (6, 43),\n",
       " (11, 34),\n",
       " (0, 33),\n",
       " (7, 10),\n",
       " (2, 9),\n",
       " (5, 7)]"
      ]
     },
     "execution_count": 63,
     "metadata": {},
     "output_type": "execute_result"
    }
   ],
   "source": [
    "Counter(labels2).most_common()"
   ]
  },
  {
   "cell_type": "code",
   "execution_count": 64,
   "metadata": {
    "scrolled": true
   },
   "outputs": [
    {
     "data": {
      "text/html": [
       "<div>\n",
       "<style scoped>\n",
       "    .dataframe tbody tr th:only-of-type {\n",
       "        vertical-align: middle;\n",
       "    }\n",
       "\n",
       "    .dataframe tbody tr th {\n",
       "        vertical-align: top;\n",
       "    }\n",
       "\n",
       "    .dataframe thead th {\n",
       "        text-align: right;\n",
       "    }\n",
       "</style>\n",
       "<table border=\"1\" class=\"dataframe\">\n",
       "  <thead>\n",
       "    <tr style=\"text-align: right;\">\n",
       "      <th></th>\n",
       "      <th>Word</th>\n",
       "      <th>Label</th>\n",
       "      <th>Freq</th>\n",
       "    </tr>\n",
       "  </thead>\n",
       "  <tbody>\n",
       "    <tr>\n",
       "      <td>2</td>\n",
       "      <td>film</td>\n",
       "      <td>10</td>\n",
       "      <td>442949</td>\n",
       "    </tr>\n",
       "    <tr>\n",
       "      <td>3</td>\n",
       "      <td>story</td>\n",
       "      <td>8</td>\n",
       "      <td>197627</td>\n",
       "    </tr>\n",
       "    <tr>\n",
       "      <td>121</td>\n",
       "      <td>material</td>\n",
       "      <td>6</td>\n",
       "      <td>112183</td>\n",
       "    </tr>\n",
       "    <tr>\n",
       "      <td>97</td>\n",
       "      <td>theater</td>\n",
       "      <td>3</td>\n",
       "      <td>86501</td>\n",
       "    </tr>\n",
       "    <tr>\n",
       "      <td>130</td>\n",
       "      <td>opinion</td>\n",
       "      <td>4</td>\n",
       "      <td>75376</td>\n",
       "    </tr>\n",
       "    <tr>\n",
       "      <td>198</td>\n",
       "      <td>rating</td>\n",
       "      <td>4</td>\n",
       "      <td>73817</td>\n",
       "    </tr>\n",
       "    <tr>\n",
       "      <td>129</td>\n",
       "      <td>dialogue</td>\n",
       "      <td>8</td>\n",
       "      <td>63447</td>\n",
       "    </tr>\n",
       "    <tr>\n",
       "      <td>24</td>\n",
       "      <td>opportunity</td>\n",
       "      <td>1</td>\n",
       "      <td>61876</td>\n",
       "    </tr>\n",
       "    <tr>\n",
       "      <td>33</td>\n",
       "      <td>casting</td>\n",
       "      <td>3</td>\n",
       "      <td>52757</td>\n",
       "    </tr>\n",
       "    <tr>\n",
       "      <td>107</td>\n",
       "      <td>pacing</td>\n",
       "      <td>1</td>\n",
       "      <td>51473</td>\n",
       "    </tr>\n",
       "  </tbody>\n",
       "</table>\n",
       "</div>"
      ],
      "text/plain": [
       "            Word  Label    Freq\n",
       "2           film     10  442949\n",
       "3          story      8  197627\n",
       "121     material      6  112183\n",
       "97       theater      3   86501\n",
       "130      opinion      4   75376\n",
       "198       rating      4   73817\n",
       "129     dialogue      8   63447\n",
       "24   opportunity      1   61876\n",
       "33       casting      3   52757\n",
       "107       pacing      1   51473"
      ]
     },
     "execution_count": 64,
     "metadata": {},
     "output_type": "execute_result"
    }
   ],
   "source": [
    "labels_df2 = pd.DataFrame({\"Word\":primary_words, \"Label\":labels2})\n",
    "\n",
    "labels_df2[\"Freq\"] = labels_df[\"Word\"].map(dict(common_words))\n",
    "labels_df2 = labels_df2.sort_values(by='Freq', ascending=False)\n",
    "\n",
    "labels_df2.to_csv(path_or_buf=\"D:/Scraping/labels_df.csv\", index=False)\n",
    "labels_df2.head(10)"
   ]
  },
  {
   "cell_type": "markdown",
   "metadata": {},
   "source": [
    "<font size=3>\n",
    "    \n",
    "<br></br>\n",
    "Anche per l'algoritmo HDBSCAN sono state fatte delle prove con la nuova matrice delle distanze e analogamente a quanto fatto precedentemente, sono stati sistemati i parametri, qua non il numero di cluster ma il numero di osservazioni minime per formare un cluster."
   ]
  },
  {
   "cell_type": "code",
   "execution_count": 65,
   "metadata": {},
   "outputs": [
    {
     "data": {
      "application/vnd.jupyter.widget-view+json": {
       "model_id": "624def08e1a643d0a795d6cde7109ca4",
       "version_major": 2,
       "version_minor": 0
      },
      "text/plain": [
       "HBox(children=(IntProgress(value=0, description='Minimum cluster size', max=13, style=ProgressStyle(descriptio…"
      ]
     },
     "metadata": {},
     "output_type": "display_data"
    },
    {
     "name": "stdout",
     "output_type": "stream",
     "text": [
      "\n",
      "+-------------+-----------+-------------+\n",
      "|  Min. Oss.  |  Cluster  | Grandezza   |\n",
      "|-------------+-----------+-------------|\n",
      "|      5      |    44     | (-1, 104)   |\n",
      "|      7      |    37     | (-1, 113)   |\n",
      "|      9      |    23     | (18, 230)   |\n",
      "|     11      |    19     | (13, 208)   |\n",
      "|     13      |    17     | (-1, 237)   |\n",
      "|     15      |    10     | (7, 405)    |\n",
      "|     17      |     3     | (0, 736)    |\n",
      "|     19      |     3     | (0, 766)    |\n",
      "|     21      |     9     | (4, 485)    |\n",
      "|     23      |    11     | (8, 279)    |\n",
      "|     25      |     4     | (1, 653)    |\n",
      "|     27      |     4     | (1, 635)    |\n",
      "|     29      |     4     | (1, 627)    |\n",
      "+-------------+-----------+-------------+\n"
     ]
    }
   ],
   "source": [
    "min_obs = [i for i in range(5, 31, 2)]\n",
    "c3, c4, max_c3, max_c4, h_silhouette3, h_silhouette4, h_CH3, h_CH4 = [[] for i in range(8)]\n",
    "\n",
    "(c3, max_c3, h_silhouette3, h_CH3) = f_hdbscan(matrix=n_matrix1, min_obs_cluster=min_obs, \n",
    "                                               c=c3, max_c=max_c3, d=2, h_silhouette=h_silhouette3, h_CH=h_CH3)\n",
    "\n",
    "hdbscan_dist3 = pd.DataFrame([min_obs, c3, max_c3]).transpose()\n",
    "hdbscan_dist3.columns = ['Min. Oss.', 'Cluster', 'Grandezza']\n",
    "\n",
    "print(tabulate(hdbscan_dist3, headers='keys', tablefmt='psql', showindex=\"never\",  numalign=\"center\"))"
   ]
  },
  {
   "cell_type": "code",
   "execution_count": 66,
   "metadata": {
    "scrolled": false
   },
   "outputs": [
    {
     "data": {
      "application/vnd.jupyter.widget-view+json": {
       "model_id": "c6c54603a2074f6e8d5ca92477ea16a1",
       "version_major": 2,
       "version_minor": 0
      },
      "text/plain": [
       "HBox(children=(IntProgress(value=0, description='Minimum cluster size', max=13, style=ProgressStyle(descriptio…"
      ]
     },
     "metadata": {},
     "output_type": "display_data"
    },
    {
     "name": "stdout",
     "output_type": "stream",
     "text": [
      "\n",
      "+-------------+-----------+-------------+\n",
      "|  Min. Oss.  |  Cluster  | Grandezza   |\n",
      "|-------------+-----------+-------------|\n",
      "|      5      |     3     | (0, 809)    |\n",
      "|      7      |    24     | (11, 253)   |\n",
      "|      9      |    23     | (18, 230)   |\n",
      "|     11      |    19     | (13, 208)   |\n",
      "|     13      |     3     | (0, 751)    |\n",
      "|     15      |     3     | (0, 744)    |\n",
      "|     17      |     3     | (0, 736)    |\n",
      "|     19      |     3     | (0, 766)    |\n",
      "|     21      |     9     | (4, 485)    |\n",
      "|     23      |     3     | (0, 743)    |\n",
      "|     25      |     4     | (1, 653)    |\n",
      "|     27      |     4     | (1, 635)    |\n",
      "|     29      |     4     | (1, 627)    |\n",
      "+-------------+-----------+-------------+\n"
     ]
    }
   ],
   "source": [
    "(c4, max_c4, h_silhouette4, h_CH4) = f_hdbscan(matrix=n_matrix2, min_obs_cluster=min_obs, \n",
    "                                               c=c4, max_c=max_c4, d=2, h_silhouette=h_silhouette4, h_CH=h_CH4)\n",
    "\n",
    "hdbscan_dist4 = pd.DataFrame([min_obs, c4, max_c4]).transpose()\n",
    "hdbscan_dist4.columns = ['Min. Oss.', 'Cluster', 'Grandezza']\n",
    "\n",
    "print(tabulate(hdbscan_dist4, headers='keys', tablefmt='psql', showindex=\"never\",  numalign=\"center\"))"
   ]
  },
  {
   "cell_type": "code",
   "execution_count": 67,
   "metadata": {},
   "outputs": [
    {
     "data": {
      "application/javascript": [
       "\n",
       "(function(root) {\n",
       "  function now() {\n",
       "    return new Date();\n",
       "  }\n",
       "\n",
       "  var force = true;\n",
       "\n",
       "  if (typeof root._bokeh_onload_callbacks === \"undefined\" || force === true) {\n",
       "    root._bokeh_onload_callbacks = [];\n",
       "    root._bokeh_is_loading = undefined;\n",
       "  }\n",
       "\n",
       "  var JS_MIME_TYPE = 'application/javascript';\n",
       "  var HTML_MIME_TYPE = 'text/html';\n",
       "  var EXEC_MIME_TYPE = 'application/vnd.bokehjs_exec.v0+json';\n",
       "  var CLASS_NAME = 'output_bokeh rendered_html';\n",
       "\n",
       "  /**\n",
       "   * Render data to the DOM node\n",
       "   */\n",
       "  function render(props, node) {\n",
       "    var script = document.createElement(\"script\");\n",
       "    node.appendChild(script);\n",
       "  }\n",
       "\n",
       "  /**\n",
       "   * Handle when an output is cleared or removed\n",
       "   */\n",
       "  function handleClearOutput(event, handle) {\n",
       "    var cell = handle.cell;\n",
       "\n",
       "    var id = cell.output_area._bokeh_element_id;\n",
       "    var server_id = cell.output_area._bokeh_server_id;\n",
       "    // Clean up Bokeh references\n",
       "    if (id != null && id in Bokeh.index) {\n",
       "      Bokeh.index[id].model.document.clear();\n",
       "      delete Bokeh.index[id];\n",
       "    }\n",
       "\n",
       "    if (server_id !== undefined) {\n",
       "      // Clean up Bokeh references\n",
       "      var cmd = \"from bokeh.io.state import curstate; print(curstate().uuid_to_server['\" + server_id + \"'].get_sessions()[0].document.roots[0]._id)\";\n",
       "      cell.notebook.kernel.execute(cmd, {\n",
       "        iopub: {\n",
       "          output: function(msg) {\n",
       "            var id = msg.content.text.trim();\n",
       "            if (id in Bokeh.index) {\n",
       "              Bokeh.index[id].model.document.clear();\n",
       "              delete Bokeh.index[id];\n",
       "            }\n",
       "          }\n",
       "        }\n",
       "      });\n",
       "      // Destroy server and session\n",
       "      var cmd = \"import bokeh.io.notebook as ion; ion.destroy_server('\" + server_id + \"')\";\n",
       "      cell.notebook.kernel.execute(cmd);\n",
       "    }\n",
       "  }\n",
       "\n",
       "  /**\n",
       "   * Handle when a new output is added\n",
       "   */\n",
       "  function handleAddOutput(event, handle) {\n",
       "    var output_area = handle.output_area;\n",
       "    var output = handle.output;\n",
       "\n",
       "    // limit handleAddOutput to display_data with EXEC_MIME_TYPE content only\n",
       "    if ((output.output_type != \"display_data\") || (!output.data.hasOwnProperty(EXEC_MIME_TYPE))) {\n",
       "      return\n",
       "    }\n",
       "\n",
       "    var toinsert = output_area.element.find(\".\" + CLASS_NAME.split(' ')[0]);\n",
       "\n",
       "    if (output.metadata[EXEC_MIME_TYPE][\"id\"] !== undefined) {\n",
       "      toinsert[toinsert.length - 1].firstChild.textContent = output.data[JS_MIME_TYPE];\n",
       "      // store reference to embed id on output_area\n",
       "      output_area._bokeh_element_id = output.metadata[EXEC_MIME_TYPE][\"id\"];\n",
       "    }\n",
       "    if (output.metadata[EXEC_MIME_TYPE][\"server_id\"] !== undefined) {\n",
       "      var bk_div = document.createElement(\"div\");\n",
       "      bk_div.innerHTML = output.data[HTML_MIME_TYPE];\n",
       "      var script_attrs = bk_div.children[0].attributes;\n",
       "      for (var i = 0; i < script_attrs.length; i++) {\n",
       "        toinsert[toinsert.length - 1].firstChild.setAttribute(script_attrs[i].name, script_attrs[i].value);\n",
       "      }\n",
       "      // store reference to server id on output_area\n",
       "      output_area._bokeh_server_id = output.metadata[EXEC_MIME_TYPE][\"server_id\"];\n",
       "    }\n",
       "  }\n",
       "\n",
       "  function register_renderer(events, OutputArea) {\n",
       "\n",
       "    function append_mime(data, metadata, element) {\n",
       "      // create a DOM node to render to\n",
       "      var toinsert = this.create_output_subarea(\n",
       "        metadata,\n",
       "        CLASS_NAME,\n",
       "        EXEC_MIME_TYPE\n",
       "      );\n",
       "      this.keyboard_manager.register_events(toinsert);\n",
       "      // Render to node\n",
       "      var props = {data: data, metadata: metadata[EXEC_MIME_TYPE]};\n",
       "      render(props, toinsert[toinsert.length - 1]);\n",
       "      element.append(toinsert);\n",
       "      return toinsert\n",
       "    }\n",
       "\n",
       "    /* Handle when an output is cleared or removed */\n",
       "    events.on('clear_output.CodeCell', handleClearOutput);\n",
       "    events.on('delete.Cell', handleClearOutput);\n",
       "\n",
       "    /* Handle when a new output is added */\n",
       "    events.on('output_added.OutputArea', handleAddOutput);\n",
       "\n",
       "    /**\n",
       "     * Register the mime type and append_mime function with output_area\n",
       "     */\n",
       "    OutputArea.prototype.register_mime_type(EXEC_MIME_TYPE, append_mime, {\n",
       "      /* Is output safe? */\n",
       "      safe: true,\n",
       "      /* Index of renderer in `output_area.display_order` */\n",
       "      index: 0\n",
       "    });\n",
       "  }\n",
       "\n",
       "  // register the mime type if in Jupyter Notebook environment and previously unregistered\n",
       "  if (root.Jupyter !== undefined) {\n",
       "    var events = require('base/js/events');\n",
       "    var OutputArea = require('notebook/js/outputarea').OutputArea;\n",
       "\n",
       "    if (OutputArea.prototype.mime_types().indexOf(EXEC_MIME_TYPE) == -1) {\n",
       "      register_renderer(events, OutputArea);\n",
       "    }\n",
       "  }\n",
       "\n",
       "  \n",
       "  if (typeof (root._bokeh_timeout) === \"undefined\" || force === true) {\n",
       "    root._bokeh_timeout = Date.now() + 5000;\n",
       "    root._bokeh_failed_load = false;\n",
       "  }\n",
       "\n",
       "  var NB_LOAD_WARNING = {'data': {'text/html':\n",
       "     \"<div style='background-color: #fdd'>\\n\"+\n",
       "     \"<p>\\n\"+\n",
       "     \"BokehJS does not appear to have successfully loaded. If loading BokehJS from CDN, this \\n\"+\n",
       "     \"may be due to a slow or bad network connection. Possible fixes:\\n\"+\n",
       "     \"</p>\\n\"+\n",
       "     \"<ul>\\n\"+\n",
       "     \"<li>re-rerun `output_notebook()` to attempt to load from CDN again, or</li>\\n\"+\n",
       "     \"<li>use INLINE resources instead, as so:</li>\\n\"+\n",
       "     \"</ul>\\n\"+\n",
       "     \"<code>\\n\"+\n",
       "     \"from bokeh.resources import INLINE\\n\"+\n",
       "     \"output_notebook(resources=INLINE)\\n\"+\n",
       "     \"</code>\\n\"+\n",
       "     \"</div>\"}};\n",
       "\n",
       "  function display_loaded() {\n",
       "    var el = document.getElementById(null);\n",
       "    if (el != null) {\n",
       "      el.textContent = \"BokehJS is loading...\";\n",
       "    }\n",
       "    if (root.Bokeh !== undefined) {\n",
       "      if (el != null) {\n",
       "        el.textContent = \"BokehJS \" + root.Bokeh.version + \" successfully loaded.\";\n",
       "      }\n",
       "    } else if (Date.now() < root._bokeh_timeout) {\n",
       "      setTimeout(display_loaded, 100)\n",
       "    }\n",
       "  }\n",
       "\n",
       "\n",
       "  function run_callbacks() {\n",
       "    try {\n",
       "      root._bokeh_onload_callbacks.forEach(function(callback) {\n",
       "        if (callback != null)\n",
       "          callback();\n",
       "      });\n",
       "    } finally {\n",
       "      delete root._bokeh_onload_callbacks\n",
       "    }\n",
       "    console.debug(\"Bokeh: all callbacks have finished\");\n",
       "  }\n",
       "\n",
       "  function load_libs(css_urls, js_urls, callback) {\n",
       "    if (css_urls == null) css_urls = [];\n",
       "    if (js_urls == null) js_urls = [];\n",
       "\n",
       "    root._bokeh_onload_callbacks.push(callback);\n",
       "    if (root._bokeh_is_loading > 0) {\n",
       "      console.debug(\"Bokeh: BokehJS is being loaded, scheduling callback at\", now());\n",
       "      return null;\n",
       "    }\n",
       "    if (js_urls == null || js_urls.length === 0) {\n",
       "      run_callbacks();\n",
       "      return null;\n",
       "    }\n",
       "    console.debug(\"Bokeh: BokehJS not loaded, scheduling load and callback at\", now());\n",
       "    root._bokeh_is_loading = css_urls.length + js_urls.length;\n",
       "\n",
       "    function on_load() {\n",
       "      root._bokeh_is_loading--;\n",
       "      if (root._bokeh_is_loading === 0) {\n",
       "        console.debug(\"Bokeh: all BokehJS libraries/stylesheets loaded\");\n",
       "        run_callbacks()\n",
       "      }\n",
       "    }\n",
       "\n",
       "    function on_error() {\n",
       "      console.error(\"failed to load \" + url);\n",
       "    }\n",
       "\n",
       "    for (var i = 0; i < css_urls.length; i++) {\n",
       "      var url = css_urls[i];\n",
       "      const element = document.createElement(\"link\");\n",
       "      element.onload = on_load;\n",
       "      element.onerror = on_error;\n",
       "      element.rel = \"stylesheet\";\n",
       "      element.type = \"text/css\";\n",
       "      element.href = url;\n",
       "      console.debug(\"Bokeh: injecting link tag for BokehJS stylesheet: \", url);\n",
       "      document.body.appendChild(element);\n",
       "    }\n",
       "\n",
       "    for (var i = 0; i < js_urls.length; i++) {\n",
       "      var url = js_urls[i];\n",
       "      var element = document.createElement('script');\n",
       "      element.onload = on_load;\n",
       "      element.onerror = on_error;\n",
       "      element.async = false;\n",
       "      element.src = url;\n",
       "      console.debug(\"Bokeh: injecting script tag for BokehJS library: \", url);\n",
       "      document.head.appendChild(element);\n",
       "    }\n",
       "  };\n",
       "\n",
       "  function inject_raw_css(css) {\n",
       "    const element = document.createElement(\"style\");\n",
       "    element.appendChild(document.createTextNode(css));\n",
       "    document.body.appendChild(element);\n",
       "  }\n",
       "\n",
       "  var js_urls = [\"https://cdn.pydata.org/bokeh/release/bokeh-1.3.4.min.js\", \"https://cdn.pydata.org/bokeh/release/bokeh-widgets-1.3.4.min.js\", \"https://cdn.pydata.org/bokeh/release/bokeh-tables-1.3.4.min.js\", \"https://cdn.pydata.org/bokeh/release/bokeh-gl-1.3.4.min.js\"];\n",
       "  var css_urls = [];\n",
       "\n",
       "  var inline_js = [\n",
       "    function(Bokeh) {\n",
       "      Bokeh.set_log_level(\"info\");\n",
       "    },\n",
       "    \n",
       "    function(Bokeh) {\n",
       "      \n",
       "    },\n",
       "    function(Bokeh) {} // ensure no trailing comma for IE\n",
       "  ];\n",
       "\n",
       "  function run_inline_js() {\n",
       "    \n",
       "    if ((root.Bokeh !== undefined) || (force === true)) {\n",
       "      for (var i = 0; i < inline_js.length; i++) {\n",
       "        inline_js[i].call(root, root.Bokeh);\n",
       "      }} else if (Date.now() < root._bokeh_timeout) {\n",
       "      setTimeout(run_inline_js, 100);\n",
       "    } else if (!root._bokeh_failed_load) {\n",
       "      console.log(\"Bokeh: BokehJS failed to load within specified timeout.\");\n",
       "      root._bokeh_failed_load = true;\n",
       "    } else if (force !== true) {\n",
       "      var cell = $(document.getElementById(null)).parents('.cell').data().cell;\n",
       "      cell.output_area.append_execute_result(NB_LOAD_WARNING)\n",
       "    }\n",
       "\n",
       "  }\n",
       "\n",
       "  if (root._bokeh_is_loading === 0) {\n",
       "    console.debug(\"Bokeh: BokehJS loaded, going straight to plotting\");\n",
       "    run_inline_js();\n",
       "  } else {\n",
       "    load_libs(css_urls, js_urls, function() {\n",
       "      console.debug(\"Bokeh: BokehJS plotting callback run at\", now());\n",
       "      run_inline_js();\n",
       "    });\n",
       "  }\n",
       "}(window));"
      ],
      "application/vnd.bokehjs_load.v0+json": "\n(function(root) {\n  function now() {\n    return new Date();\n  }\n\n  var force = true;\n\n  if (typeof root._bokeh_onload_callbacks === \"undefined\" || force === true) {\n    root._bokeh_onload_callbacks = [];\n    root._bokeh_is_loading = undefined;\n  }\n\n  \n\n  \n  if (typeof (root._bokeh_timeout) === \"undefined\" || force === true) {\n    root._bokeh_timeout = Date.now() + 5000;\n    root._bokeh_failed_load = false;\n  }\n\n  var NB_LOAD_WARNING = {'data': {'text/html':\n     \"<div style='background-color: #fdd'>\\n\"+\n     \"<p>\\n\"+\n     \"BokehJS does not appear to have successfully loaded. If loading BokehJS from CDN, this \\n\"+\n     \"may be due to a slow or bad network connection. Possible fixes:\\n\"+\n     \"</p>\\n\"+\n     \"<ul>\\n\"+\n     \"<li>re-rerun `output_notebook()` to attempt to load from CDN again, or</li>\\n\"+\n     \"<li>use INLINE resources instead, as so:</li>\\n\"+\n     \"</ul>\\n\"+\n     \"<code>\\n\"+\n     \"from bokeh.resources import INLINE\\n\"+\n     \"output_notebook(resources=INLINE)\\n\"+\n     \"</code>\\n\"+\n     \"</div>\"}};\n\n  function display_loaded() {\n    var el = document.getElementById(null);\n    if (el != null) {\n      el.textContent = \"BokehJS is loading...\";\n    }\n    if (root.Bokeh !== undefined) {\n      if (el != null) {\n        el.textContent = \"BokehJS \" + root.Bokeh.version + \" successfully loaded.\";\n      }\n    } else if (Date.now() < root._bokeh_timeout) {\n      setTimeout(display_loaded, 100)\n    }\n  }\n\n\n  function run_callbacks() {\n    try {\n      root._bokeh_onload_callbacks.forEach(function(callback) {\n        if (callback != null)\n          callback();\n      });\n    } finally {\n      delete root._bokeh_onload_callbacks\n    }\n    console.debug(\"Bokeh: all callbacks have finished\");\n  }\n\n  function load_libs(css_urls, js_urls, callback) {\n    if (css_urls == null) css_urls = [];\n    if (js_urls == null) js_urls = [];\n\n    root._bokeh_onload_callbacks.push(callback);\n    if (root._bokeh_is_loading > 0) {\n      console.debug(\"Bokeh: BokehJS is being loaded, scheduling callback at\", now());\n      return null;\n    }\n    if (js_urls == null || js_urls.length === 0) {\n      run_callbacks();\n      return null;\n    }\n    console.debug(\"Bokeh: BokehJS not loaded, scheduling load and callback at\", now());\n    root._bokeh_is_loading = css_urls.length + js_urls.length;\n\n    function on_load() {\n      root._bokeh_is_loading--;\n      if (root._bokeh_is_loading === 0) {\n        console.debug(\"Bokeh: all BokehJS libraries/stylesheets loaded\");\n        run_callbacks()\n      }\n    }\n\n    function on_error() {\n      console.error(\"failed to load \" + url);\n    }\n\n    for (var i = 0; i < css_urls.length; i++) {\n      var url = css_urls[i];\n      const element = document.createElement(\"link\");\n      element.onload = on_load;\n      element.onerror = on_error;\n      element.rel = \"stylesheet\";\n      element.type = \"text/css\";\n      element.href = url;\n      console.debug(\"Bokeh: injecting link tag for BokehJS stylesheet: \", url);\n      document.body.appendChild(element);\n    }\n\n    for (var i = 0; i < js_urls.length; i++) {\n      var url = js_urls[i];\n      var element = document.createElement('script');\n      element.onload = on_load;\n      element.onerror = on_error;\n      element.async = false;\n      element.src = url;\n      console.debug(\"Bokeh: injecting script tag for BokehJS library: \", url);\n      document.head.appendChild(element);\n    }\n  };\n\n  function inject_raw_css(css) {\n    const element = document.createElement(\"style\");\n    element.appendChild(document.createTextNode(css));\n    document.body.appendChild(element);\n  }\n\n  var js_urls = [\"https://cdn.pydata.org/bokeh/release/bokeh-1.3.4.min.js\", \"https://cdn.pydata.org/bokeh/release/bokeh-widgets-1.3.4.min.js\", \"https://cdn.pydata.org/bokeh/release/bokeh-tables-1.3.4.min.js\", \"https://cdn.pydata.org/bokeh/release/bokeh-gl-1.3.4.min.js\"];\n  var css_urls = [];\n\n  var inline_js = [\n    function(Bokeh) {\n      Bokeh.set_log_level(\"info\");\n    },\n    \n    function(Bokeh) {\n      \n    },\n    function(Bokeh) {} // ensure no trailing comma for IE\n  ];\n\n  function run_inline_js() {\n    \n    if ((root.Bokeh !== undefined) || (force === true)) {\n      for (var i = 0; i < inline_js.length; i++) {\n        inline_js[i].call(root, root.Bokeh);\n      }} else if (Date.now() < root._bokeh_timeout) {\n      setTimeout(run_inline_js, 100);\n    } else if (!root._bokeh_failed_load) {\n      console.log(\"Bokeh: BokehJS failed to load within specified timeout.\");\n      root._bokeh_failed_load = true;\n    } else if (force !== true) {\n      var cell = $(document.getElementById(null)).parents('.cell').data().cell;\n      cell.output_area.append_execute_result(NB_LOAD_WARNING)\n    }\n\n  }\n\n  if (root._bokeh_is_loading === 0) {\n    console.debug(\"Bokeh: BokehJS loaded, going straight to plotting\");\n    run_inline_js();\n  } else {\n    load_libs(css_urls, js_urls, function() {\n      console.debug(\"Bokeh: BokehJS plotting callback run at\", now());\n      run_inline_js();\n    });\n  }\n}(window));"
     },
     "metadata": {},
     "output_type": "display_data"
    },
    {
     "data": {
      "text/html": [
       "\n",
       "\n",
       "\n",
       "\n",
       "\n",
       "\n",
       "  <div class=\"bk-root\" id=\"040cc768-c0d6-4018-ae2d-f36769b79588\" data-root-id=\"2135\"></div>\n"
      ]
     },
     "metadata": {},
     "output_type": "display_data"
    },
    {
     "data": {
      "application/javascript": [
       "(function(root) {\n",
       "  function embed_document(root) {\n",
       "    \n",
       "  var docs_json = {\"f213d701-66e7-4139-81a8-725f11e70d7c\":{\"roots\":{\"references\":[{\"attributes\":{\"below\":[{\"id\":\"2144\",\"type\":\"LinearAxis\"}],\"center\":[{\"id\":\"2148\",\"type\":\"Grid\"},{\"id\":\"2153\",\"type\":\"Grid\"},{\"id\":\"2183\",\"type\":\"Legend\"}],\"left\":[{\"id\":\"2149\",\"type\":\"LinearAxis\"}],\"plot_height\":450,\"plot_width\":750,\"renderers\":[{\"id\":\"2174\",\"type\":\"GlyphRenderer\"}],\"title\":{\"id\":\"2167\",\"type\":\"Title\"},\"toolbar\":{\"id\":\"2160\",\"type\":\"Toolbar\"},\"x_range\":{\"id\":\"2136\",\"type\":\"DataRange1d\"},\"x_scale\":{\"id\":\"2140\",\"type\":\"LinearScale\"},\"y_range\":{\"id\":\"2138\",\"type\":\"DataRange1d\"},\"y_scale\":{\"id\":\"2142\",\"type\":\"LinearScale\"}},\"id\":\"2135\",\"subtype\":\"Figure\",\"type\":\"Plot\"},{\"attributes\":{},\"id\":\"2145\",\"type\":\"BasicTicker\"},{\"attributes\":{},\"id\":\"2178\",\"type\":\"BasicTickFormatter\"},{\"attributes\":{\"dimension\":1,\"ticker\":{\"id\":\"2150\",\"type\":\"BasicTicker\"}},\"id\":\"2153\",\"type\":\"Grid\"},{\"attributes\":{\"data_source\":{\"id\":\"2170\",\"type\":\"ColumnDataSource\"},\"glyph\":{\"id\":\"2172\",\"type\":\"MultiLine\"},\"hover_glyph\":null,\"muted_glyph\":null,\"nonselection_glyph\":{\"id\":\"2173\",\"type\":\"MultiLine\"},\"selection_glyph\":null,\"view\":{\"id\":\"2175\",\"type\":\"CDSView\"}},\"id\":\"2174\",\"type\":\"GlyphRenderer\"},{\"attributes\":{\"items\":[{\"id\":\"2184\",\"type\":\"LegendItem\"}]},\"id\":\"2183\",\"type\":\"Legend\"},{\"attributes\":{\"line_color\":{\"field\":\"color\"},\"line_width\":{\"value\":2},\"xs\":{\"field\":\"xs\"},\"ys\":{\"field\":\"ys\"}},\"id\":\"2172\",\"type\":\"MultiLine\"},{\"attributes\":{\"align\":\"center\",\"text\":\"[Top term] HDBSCAN Silhouette index\",\"text_font_size\":{\"value\":\"20px\"}},\"id\":\"2167\",\"type\":\"Title\"},{\"attributes\":{\"formatter\":{\"id\":\"2180\",\"type\":\"BasicTickFormatter\"},\"ticker\":{\"id\":\"2150\",\"type\":\"BasicTicker\"}},\"id\":\"2149\",\"type\":\"LinearAxis\"},{\"attributes\":{\"active_drag\":\"auto\",\"active_inspect\":\"auto\",\"active_multi\":null,\"active_scroll\":\"auto\",\"active_tap\":\"auto\",\"tools\":[{\"id\":\"2154\",\"type\":\"PanTool\"},{\"id\":\"2155\",\"type\":\"WheelZoomTool\"},{\"id\":\"2156\",\"type\":\"BoxZoomTool\"},{\"id\":\"2157\",\"type\":\"SaveTool\"},{\"id\":\"2158\",\"type\":\"ResetTool\"},{\"id\":\"2159\",\"type\":\"HelpTool\"}]},\"id\":\"2160\",\"type\":\"Toolbar\"},{\"attributes\":{\"ticker\":{\"id\":\"2145\",\"type\":\"BasicTicker\"}},\"id\":\"2148\",\"type\":\"Grid\"},{\"attributes\":{\"formatter\":{\"id\":\"2178\",\"type\":\"BasicTickFormatter\"},\"ticker\":{\"id\":\"2145\",\"type\":\"BasicTicker\"}},\"id\":\"2144\",\"type\":\"LinearAxis\"},{\"attributes\":{},\"id\":\"2155\",\"type\":\"WheelZoomTool\"},{\"attributes\":{},\"id\":\"2158\",\"type\":\"ResetTool\"},{\"attributes\":{},\"id\":\"2180\",\"type\":\"BasicTickFormatter\"},{\"attributes\":{\"overlay\":{\"id\":\"2182\",\"type\":\"BoxAnnotation\"}},\"id\":\"2156\",\"type\":\"BoxZoomTool\"},{\"attributes\":{},\"id\":\"2157\",\"type\":\"SaveTool\"},{\"attributes\":{\"source\":{\"id\":\"2170\",\"type\":\"ColumnDataSource\"}},\"id\":\"2175\",\"type\":\"CDSView\"},{\"attributes\":{},\"id\":\"2192\",\"type\":\"Selection\"},{\"attributes\":{},\"id\":\"2159\",\"type\":\"HelpTool\"},{\"attributes\":{\"callback\":null,\"data\":{\"color\":[\"red\",\"blue\"],\"labels\":[\"1-sim\",\"cos_sim\"],\"xs\":[[5,7,9,11,13,15,17,19,21,23,25,27,29],[5,7,9,11,13,15,17,19,21,23,25,27,29]],\"ys\":[[0.030695748056288087,0.00035133017662077563,-0.009634477982407793,-0.01379082468453014,0.02174590817334134,0.017819864256685376,0.01668422607255206,0.007930371583984153,-0.0023821829931844883,0.009569347354523703,0.006267506582330416,0.003909663252311691,0.006114713949057539],[-0.036107513991270726,-0.08516436214026303,-0.02627453429268799,-0.034160376843698215,-0.07484162264070368,-0.0452976946673816,0.025290143580495122,0.006176253964959149,-0.009001664566021784,-0.027408405835549616,0.004778954503128393,0.0003656665720002957,0.00493707613865628]]},\"selected\":{\"id\":\"2192\",\"type\":\"Selection\"},\"selection_policy\":{\"id\":\"2193\",\"type\":\"UnionRenderers\"}},\"id\":\"2170\",\"type\":\"ColumnDataSource\"},{\"attributes\":{\"callback\":null},\"id\":\"2138\",\"type\":\"DataRange1d\"},{\"attributes\":{},\"id\":\"2142\",\"type\":\"LinearScale\"},{\"attributes\":{\"bottom_units\":\"screen\",\"fill_alpha\":{\"value\":0.5},\"fill_color\":{\"value\":\"lightgrey\"},\"left_units\":\"screen\",\"level\":\"overlay\",\"line_alpha\":{\"value\":1.0},\"line_color\":{\"value\":\"black\"},\"line_dash\":[4,4],\"line_width\":{\"value\":2},\"render_mode\":\"css\",\"right_units\":\"screen\",\"top_units\":\"screen\"},\"id\":\"2182\",\"type\":\"BoxAnnotation\"},{\"attributes\":{},\"id\":\"2150\",\"type\":\"BasicTicker\"},{\"attributes\":{},\"id\":\"2154\",\"type\":\"PanTool\"},{\"attributes\":{\"callback\":null},\"id\":\"2136\",\"type\":\"DataRange1d\"},{\"attributes\":{\"label\":{\"field\":\"labels\"},\"renderers\":[{\"id\":\"2174\",\"type\":\"GlyphRenderer\"}]},\"id\":\"2184\",\"type\":\"LegendItem\"},{\"attributes\":{},\"id\":\"2193\",\"type\":\"UnionRenderers\"},{\"attributes\":{},\"id\":\"2140\",\"type\":\"LinearScale\"},{\"attributes\":{\"line_alpha\":{\"value\":0.1},\"line_color\":{\"value\":\"#1f77b4\"},\"line_width\":{\"value\":2},\"xs\":{\"field\":\"xs\"},\"ys\":{\"field\":\"ys\"}},\"id\":\"2173\",\"type\":\"MultiLine\"}],\"root_ids\":[\"2135\"]},\"title\":\"Bokeh Application\",\"version\":\"1.3.4\"}};\n",
       "  var render_items = [{\"docid\":\"f213d701-66e7-4139-81a8-725f11e70d7c\",\"roots\":{\"2135\":\"040cc768-c0d6-4018-ae2d-f36769b79588\"}}];\n",
       "  root.Bokeh.embed.embed_items_notebook(docs_json, render_items);\n",
       "\n",
       "  }\n",
       "  if (root.Bokeh !== undefined) {\n",
       "    embed_document(root);\n",
       "  } else {\n",
       "    var attempts = 0;\n",
       "    var timer = setInterval(function(root) {\n",
       "      if (root.Bokeh !== undefined) {\n",
       "        embed_document(root);\n",
       "        clearInterval(timer);\n",
       "      }\n",
       "      attempts++;\n",
       "      if (attempts > 100) {\n",
       "        console.log(\"Bokeh: ERROR: Unable to run BokehJS code because BokehJS library is missing\");\n",
       "        clearInterval(timer);\n",
       "      }\n",
       "    }, 10, root)\n",
       "  }\n",
       "})(window);"
      ],
      "application/vnd.bokehjs_exec.v0+json": ""
     },
     "metadata": {
      "application/vnd.bokehjs_exec.v0+json": {
       "id": "2135"
      }
     },
     "output_type": "display_data"
    }
   ],
   "source": [
    "h_plot_evaluation(title=\"[Top term] HDBSCAN Silhouette index\", metric=h_silhouette3, c=min_obs, label1=\"1-sim\",\n",
    "                  metric2=h_silhouette4, label2=\"cos_sim\", pos_legend=\"top_right\")"
   ]
  },
  {
   "cell_type": "markdown",
   "metadata": {},
   "source": [
    "<font size=3>\n",
    "    \n",
    "I valori sono migliorati rispetto alla matrice più estesa, si ha ancora una volta una condizione in cui sono premiati gli algoritmi che creano un numero limitato di cluster, i picchi in negativo sono in corrispondenza degli unici due step in cui sono stati creati $7$ cluster. Un trend che è confermato è il valore migliore riscontrato nell'algoritmo con la matrice di cosine similarity; nella matrice più estesa i risultati erano l'opposto."
   ]
  },
  {
   "cell_type": "code",
   "execution_count": 68,
   "metadata": {},
   "outputs": [
    {
     "data": {
      "application/javascript": [
       "\n",
       "(function(root) {\n",
       "  function now() {\n",
       "    return new Date();\n",
       "  }\n",
       "\n",
       "  var force = true;\n",
       "\n",
       "  if (typeof root._bokeh_onload_callbacks === \"undefined\" || force === true) {\n",
       "    root._bokeh_onload_callbacks = [];\n",
       "    root._bokeh_is_loading = undefined;\n",
       "  }\n",
       "\n",
       "  var JS_MIME_TYPE = 'application/javascript';\n",
       "  var HTML_MIME_TYPE = 'text/html';\n",
       "  var EXEC_MIME_TYPE = 'application/vnd.bokehjs_exec.v0+json';\n",
       "  var CLASS_NAME = 'output_bokeh rendered_html';\n",
       "\n",
       "  /**\n",
       "   * Render data to the DOM node\n",
       "   */\n",
       "  function render(props, node) {\n",
       "    var script = document.createElement(\"script\");\n",
       "    node.appendChild(script);\n",
       "  }\n",
       "\n",
       "  /**\n",
       "   * Handle when an output is cleared or removed\n",
       "   */\n",
       "  function handleClearOutput(event, handle) {\n",
       "    var cell = handle.cell;\n",
       "\n",
       "    var id = cell.output_area._bokeh_element_id;\n",
       "    var server_id = cell.output_area._bokeh_server_id;\n",
       "    // Clean up Bokeh references\n",
       "    if (id != null && id in Bokeh.index) {\n",
       "      Bokeh.index[id].model.document.clear();\n",
       "      delete Bokeh.index[id];\n",
       "    }\n",
       "\n",
       "    if (server_id !== undefined) {\n",
       "      // Clean up Bokeh references\n",
       "      var cmd = \"from bokeh.io.state import curstate; print(curstate().uuid_to_server['\" + server_id + \"'].get_sessions()[0].document.roots[0]._id)\";\n",
       "      cell.notebook.kernel.execute(cmd, {\n",
       "        iopub: {\n",
       "          output: function(msg) {\n",
       "            var id = msg.content.text.trim();\n",
       "            if (id in Bokeh.index) {\n",
       "              Bokeh.index[id].model.document.clear();\n",
       "              delete Bokeh.index[id];\n",
       "            }\n",
       "          }\n",
       "        }\n",
       "      });\n",
       "      // Destroy server and session\n",
       "      var cmd = \"import bokeh.io.notebook as ion; ion.destroy_server('\" + server_id + \"')\";\n",
       "      cell.notebook.kernel.execute(cmd);\n",
       "    }\n",
       "  }\n",
       "\n",
       "  /**\n",
       "   * Handle when a new output is added\n",
       "   */\n",
       "  function handleAddOutput(event, handle) {\n",
       "    var output_area = handle.output_area;\n",
       "    var output = handle.output;\n",
       "\n",
       "    // limit handleAddOutput to display_data with EXEC_MIME_TYPE content only\n",
       "    if ((output.output_type != \"display_data\") || (!output.data.hasOwnProperty(EXEC_MIME_TYPE))) {\n",
       "      return\n",
       "    }\n",
       "\n",
       "    var toinsert = output_area.element.find(\".\" + CLASS_NAME.split(' ')[0]);\n",
       "\n",
       "    if (output.metadata[EXEC_MIME_TYPE][\"id\"] !== undefined) {\n",
       "      toinsert[toinsert.length - 1].firstChild.textContent = output.data[JS_MIME_TYPE];\n",
       "      // store reference to embed id on output_area\n",
       "      output_area._bokeh_element_id = output.metadata[EXEC_MIME_TYPE][\"id\"];\n",
       "    }\n",
       "    if (output.metadata[EXEC_MIME_TYPE][\"server_id\"] !== undefined) {\n",
       "      var bk_div = document.createElement(\"div\");\n",
       "      bk_div.innerHTML = output.data[HTML_MIME_TYPE];\n",
       "      var script_attrs = bk_div.children[0].attributes;\n",
       "      for (var i = 0; i < script_attrs.length; i++) {\n",
       "        toinsert[toinsert.length - 1].firstChild.setAttribute(script_attrs[i].name, script_attrs[i].value);\n",
       "      }\n",
       "      // store reference to server id on output_area\n",
       "      output_area._bokeh_server_id = output.metadata[EXEC_MIME_TYPE][\"server_id\"];\n",
       "    }\n",
       "  }\n",
       "\n",
       "  function register_renderer(events, OutputArea) {\n",
       "\n",
       "    function append_mime(data, metadata, element) {\n",
       "      // create a DOM node to render to\n",
       "      var toinsert = this.create_output_subarea(\n",
       "        metadata,\n",
       "        CLASS_NAME,\n",
       "        EXEC_MIME_TYPE\n",
       "      );\n",
       "      this.keyboard_manager.register_events(toinsert);\n",
       "      // Render to node\n",
       "      var props = {data: data, metadata: metadata[EXEC_MIME_TYPE]};\n",
       "      render(props, toinsert[toinsert.length - 1]);\n",
       "      element.append(toinsert);\n",
       "      return toinsert\n",
       "    }\n",
       "\n",
       "    /* Handle when an output is cleared or removed */\n",
       "    events.on('clear_output.CodeCell', handleClearOutput);\n",
       "    events.on('delete.Cell', handleClearOutput);\n",
       "\n",
       "    /* Handle when a new output is added */\n",
       "    events.on('output_added.OutputArea', handleAddOutput);\n",
       "\n",
       "    /**\n",
       "     * Register the mime type and append_mime function with output_area\n",
       "     */\n",
       "    OutputArea.prototype.register_mime_type(EXEC_MIME_TYPE, append_mime, {\n",
       "      /* Is output safe? */\n",
       "      safe: true,\n",
       "      /* Index of renderer in `output_area.display_order` */\n",
       "      index: 0\n",
       "    });\n",
       "  }\n",
       "\n",
       "  // register the mime type if in Jupyter Notebook environment and previously unregistered\n",
       "  if (root.Jupyter !== undefined) {\n",
       "    var events = require('base/js/events');\n",
       "    var OutputArea = require('notebook/js/outputarea').OutputArea;\n",
       "\n",
       "    if (OutputArea.prototype.mime_types().indexOf(EXEC_MIME_TYPE) == -1) {\n",
       "      register_renderer(events, OutputArea);\n",
       "    }\n",
       "  }\n",
       "\n",
       "  \n",
       "  if (typeof (root._bokeh_timeout) === \"undefined\" || force === true) {\n",
       "    root._bokeh_timeout = Date.now() + 5000;\n",
       "    root._bokeh_failed_load = false;\n",
       "  }\n",
       "\n",
       "  var NB_LOAD_WARNING = {'data': {'text/html':\n",
       "     \"<div style='background-color: #fdd'>\\n\"+\n",
       "     \"<p>\\n\"+\n",
       "     \"BokehJS does not appear to have successfully loaded. If loading BokehJS from CDN, this \\n\"+\n",
       "     \"may be due to a slow or bad network connection. Possible fixes:\\n\"+\n",
       "     \"</p>\\n\"+\n",
       "     \"<ul>\\n\"+\n",
       "     \"<li>re-rerun `output_notebook()` to attempt to load from CDN again, or</li>\\n\"+\n",
       "     \"<li>use INLINE resources instead, as so:</li>\\n\"+\n",
       "     \"</ul>\\n\"+\n",
       "     \"<code>\\n\"+\n",
       "     \"from bokeh.resources import INLINE\\n\"+\n",
       "     \"output_notebook(resources=INLINE)\\n\"+\n",
       "     \"</code>\\n\"+\n",
       "     \"</div>\"}};\n",
       "\n",
       "  function display_loaded() {\n",
       "    var el = document.getElementById(null);\n",
       "    if (el != null) {\n",
       "      el.textContent = \"BokehJS is loading...\";\n",
       "    }\n",
       "    if (root.Bokeh !== undefined) {\n",
       "      if (el != null) {\n",
       "        el.textContent = \"BokehJS \" + root.Bokeh.version + \" successfully loaded.\";\n",
       "      }\n",
       "    } else if (Date.now() < root._bokeh_timeout) {\n",
       "      setTimeout(display_loaded, 100)\n",
       "    }\n",
       "  }\n",
       "\n",
       "\n",
       "  function run_callbacks() {\n",
       "    try {\n",
       "      root._bokeh_onload_callbacks.forEach(function(callback) {\n",
       "        if (callback != null)\n",
       "          callback();\n",
       "      });\n",
       "    } finally {\n",
       "      delete root._bokeh_onload_callbacks\n",
       "    }\n",
       "    console.debug(\"Bokeh: all callbacks have finished\");\n",
       "  }\n",
       "\n",
       "  function load_libs(css_urls, js_urls, callback) {\n",
       "    if (css_urls == null) css_urls = [];\n",
       "    if (js_urls == null) js_urls = [];\n",
       "\n",
       "    root._bokeh_onload_callbacks.push(callback);\n",
       "    if (root._bokeh_is_loading > 0) {\n",
       "      console.debug(\"Bokeh: BokehJS is being loaded, scheduling callback at\", now());\n",
       "      return null;\n",
       "    }\n",
       "    if (js_urls == null || js_urls.length === 0) {\n",
       "      run_callbacks();\n",
       "      return null;\n",
       "    }\n",
       "    console.debug(\"Bokeh: BokehJS not loaded, scheduling load and callback at\", now());\n",
       "    root._bokeh_is_loading = css_urls.length + js_urls.length;\n",
       "\n",
       "    function on_load() {\n",
       "      root._bokeh_is_loading--;\n",
       "      if (root._bokeh_is_loading === 0) {\n",
       "        console.debug(\"Bokeh: all BokehJS libraries/stylesheets loaded\");\n",
       "        run_callbacks()\n",
       "      }\n",
       "    }\n",
       "\n",
       "    function on_error() {\n",
       "      console.error(\"failed to load \" + url);\n",
       "    }\n",
       "\n",
       "    for (var i = 0; i < css_urls.length; i++) {\n",
       "      var url = css_urls[i];\n",
       "      const element = document.createElement(\"link\");\n",
       "      element.onload = on_load;\n",
       "      element.onerror = on_error;\n",
       "      element.rel = \"stylesheet\";\n",
       "      element.type = \"text/css\";\n",
       "      element.href = url;\n",
       "      console.debug(\"Bokeh: injecting link tag for BokehJS stylesheet: \", url);\n",
       "      document.body.appendChild(element);\n",
       "    }\n",
       "\n",
       "    for (var i = 0; i < js_urls.length; i++) {\n",
       "      var url = js_urls[i];\n",
       "      var element = document.createElement('script');\n",
       "      element.onload = on_load;\n",
       "      element.onerror = on_error;\n",
       "      element.async = false;\n",
       "      element.src = url;\n",
       "      console.debug(\"Bokeh: injecting script tag for BokehJS library: \", url);\n",
       "      document.head.appendChild(element);\n",
       "    }\n",
       "  };\n",
       "\n",
       "  function inject_raw_css(css) {\n",
       "    const element = document.createElement(\"style\");\n",
       "    element.appendChild(document.createTextNode(css));\n",
       "    document.body.appendChild(element);\n",
       "  }\n",
       "\n",
       "  var js_urls = [\"https://cdn.pydata.org/bokeh/release/bokeh-1.3.4.min.js\", \"https://cdn.pydata.org/bokeh/release/bokeh-widgets-1.3.4.min.js\", \"https://cdn.pydata.org/bokeh/release/bokeh-tables-1.3.4.min.js\", \"https://cdn.pydata.org/bokeh/release/bokeh-gl-1.3.4.min.js\"];\n",
       "  var css_urls = [];\n",
       "\n",
       "  var inline_js = [\n",
       "    function(Bokeh) {\n",
       "      Bokeh.set_log_level(\"info\");\n",
       "    },\n",
       "    \n",
       "    function(Bokeh) {\n",
       "      \n",
       "    },\n",
       "    function(Bokeh) {} // ensure no trailing comma for IE\n",
       "  ];\n",
       "\n",
       "  function run_inline_js() {\n",
       "    \n",
       "    if ((root.Bokeh !== undefined) || (force === true)) {\n",
       "      for (var i = 0; i < inline_js.length; i++) {\n",
       "        inline_js[i].call(root, root.Bokeh);\n",
       "      }} else if (Date.now() < root._bokeh_timeout) {\n",
       "      setTimeout(run_inline_js, 100);\n",
       "    } else if (!root._bokeh_failed_load) {\n",
       "      console.log(\"Bokeh: BokehJS failed to load within specified timeout.\");\n",
       "      root._bokeh_failed_load = true;\n",
       "    } else if (force !== true) {\n",
       "      var cell = $(document.getElementById(null)).parents('.cell').data().cell;\n",
       "      cell.output_area.append_execute_result(NB_LOAD_WARNING)\n",
       "    }\n",
       "\n",
       "  }\n",
       "\n",
       "  if (root._bokeh_is_loading === 0) {\n",
       "    console.debug(\"Bokeh: BokehJS loaded, going straight to plotting\");\n",
       "    run_inline_js();\n",
       "  } else {\n",
       "    load_libs(css_urls, js_urls, function() {\n",
       "      console.debug(\"Bokeh: BokehJS plotting callback run at\", now());\n",
       "      run_inline_js();\n",
       "    });\n",
       "  }\n",
       "}(window));"
      ],
      "application/vnd.bokehjs_load.v0+json": "\n(function(root) {\n  function now() {\n    return new Date();\n  }\n\n  var force = true;\n\n  if (typeof root._bokeh_onload_callbacks === \"undefined\" || force === true) {\n    root._bokeh_onload_callbacks = [];\n    root._bokeh_is_loading = undefined;\n  }\n\n  \n\n  \n  if (typeof (root._bokeh_timeout) === \"undefined\" || force === true) {\n    root._bokeh_timeout = Date.now() + 5000;\n    root._bokeh_failed_load = false;\n  }\n\n  var NB_LOAD_WARNING = {'data': {'text/html':\n     \"<div style='background-color: #fdd'>\\n\"+\n     \"<p>\\n\"+\n     \"BokehJS does not appear to have successfully loaded. If loading BokehJS from CDN, this \\n\"+\n     \"may be due to a slow or bad network connection. Possible fixes:\\n\"+\n     \"</p>\\n\"+\n     \"<ul>\\n\"+\n     \"<li>re-rerun `output_notebook()` to attempt to load from CDN again, or</li>\\n\"+\n     \"<li>use INLINE resources instead, as so:</li>\\n\"+\n     \"</ul>\\n\"+\n     \"<code>\\n\"+\n     \"from bokeh.resources import INLINE\\n\"+\n     \"output_notebook(resources=INLINE)\\n\"+\n     \"</code>\\n\"+\n     \"</div>\"}};\n\n  function display_loaded() {\n    var el = document.getElementById(null);\n    if (el != null) {\n      el.textContent = \"BokehJS is loading...\";\n    }\n    if (root.Bokeh !== undefined) {\n      if (el != null) {\n        el.textContent = \"BokehJS \" + root.Bokeh.version + \" successfully loaded.\";\n      }\n    } else if (Date.now() < root._bokeh_timeout) {\n      setTimeout(display_loaded, 100)\n    }\n  }\n\n\n  function run_callbacks() {\n    try {\n      root._bokeh_onload_callbacks.forEach(function(callback) {\n        if (callback != null)\n          callback();\n      });\n    } finally {\n      delete root._bokeh_onload_callbacks\n    }\n    console.debug(\"Bokeh: all callbacks have finished\");\n  }\n\n  function load_libs(css_urls, js_urls, callback) {\n    if (css_urls == null) css_urls = [];\n    if (js_urls == null) js_urls = [];\n\n    root._bokeh_onload_callbacks.push(callback);\n    if (root._bokeh_is_loading > 0) {\n      console.debug(\"Bokeh: BokehJS is being loaded, scheduling callback at\", now());\n      return null;\n    }\n    if (js_urls == null || js_urls.length === 0) {\n      run_callbacks();\n      return null;\n    }\n    console.debug(\"Bokeh: BokehJS not loaded, scheduling load and callback at\", now());\n    root._bokeh_is_loading = css_urls.length + js_urls.length;\n\n    function on_load() {\n      root._bokeh_is_loading--;\n      if (root._bokeh_is_loading === 0) {\n        console.debug(\"Bokeh: all BokehJS libraries/stylesheets loaded\");\n        run_callbacks()\n      }\n    }\n\n    function on_error() {\n      console.error(\"failed to load \" + url);\n    }\n\n    for (var i = 0; i < css_urls.length; i++) {\n      var url = css_urls[i];\n      const element = document.createElement(\"link\");\n      element.onload = on_load;\n      element.onerror = on_error;\n      element.rel = \"stylesheet\";\n      element.type = \"text/css\";\n      element.href = url;\n      console.debug(\"Bokeh: injecting link tag for BokehJS stylesheet: \", url);\n      document.body.appendChild(element);\n    }\n\n    for (var i = 0; i < js_urls.length; i++) {\n      var url = js_urls[i];\n      var element = document.createElement('script');\n      element.onload = on_load;\n      element.onerror = on_error;\n      element.async = false;\n      element.src = url;\n      console.debug(\"Bokeh: injecting script tag for BokehJS library: \", url);\n      document.head.appendChild(element);\n    }\n  };\n\n  function inject_raw_css(css) {\n    const element = document.createElement(\"style\");\n    element.appendChild(document.createTextNode(css));\n    document.body.appendChild(element);\n  }\n\n  var js_urls = [\"https://cdn.pydata.org/bokeh/release/bokeh-1.3.4.min.js\", \"https://cdn.pydata.org/bokeh/release/bokeh-widgets-1.3.4.min.js\", \"https://cdn.pydata.org/bokeh/release/bokeh-tables-1.3.4.min.js\", \"https://cdn.pydata.org/bokeh/release/bokeh-gl-1.3.4.min.js\"];\n  var css_urls = [];\n\n  var inline_js = [\n    function(Bokeh) {\n      Bokeh.set_log_level(\"info\");\n    },\n    \n    function(Bokeh) {\n      \n    },\n    function(Bokeh) {} // ensure no trailing comma for IE\n  ];\n\n  function run_inline_js() {\n    \n    if ((root.Bokeh !== undefined) || (force === true)) {\n      for (var i = 0; i < inline_js.length; i++) {\n        inline_js[i].call(root, root.Bokeh);\n      }} else if (Date.now() < root._bokeh_timeout) {\n      setTimeout(run_inline_js, 100);\n    } else if (!root._bokeh_failed_load) {\n      console.log(\"Bokeh: BokehJS failed to load within specified timeout.\");\n      root._bokeh_failed_load = true;\n    } else if (force !== true) {\n      var cell = $(document.getElementById(null)).parents('.cell').data().cell;\n      cell.output_area.append_execute_result(NB_LOAD_WARNING)\n    }\n\n  }\n\n  if (root._bokeh_is_loading === 0) {\n    console.debug(\"Bokeh: BokehJS loaded, going straight to plotting\");\n    run_inline_js();\n  } else {\n    load_libs(css_urls, js_urls, function() {\n      console.debug(\"Bokeh: BokehJS plotting callback run at\", now());\n      run_inline_js();\n    });\n  }\n}(window));"
     },
     "metadata": {},
     "output_type": "display_data"
    },
    {
     "data": {
      "text/html": [
       "\n",
       "\n",
       "\n",
       "\n",
       "\n",
       "\n",
       "  <div class=\"bk-root\" id=\"729031a7-1820-4a4f-8c8a-cf6e72e18bda\" data-root-id=\"2248\"></div>\n"
      ]
     },
     "metadata": {},
     "output_type": "display_data"
    },
    {
     "data": {
      "application/javascript": [
       "(function(root) {\n",
       "  function embed_document(root) {\n",
       "    \n",
       "  var docs_json = {\"e3a5a494-d584-441d-9289-21ca7bf7bbe0\":{\"roots\":{\"references\":[{\"attributes\":{\"below\":[{\"id\":\"2257\",\"type\":\"LinearAxis\"}],\"center\":[{\"id\":\"2261\",\"type\":\"Grid\"},{\"id\":\"2266\",\"type\":\"Grid\"},{\"id\":\"2296\",\"type\":\"Legend\"}],\"left\":[{\"id\":\"2262\",\"type\":\"LinearAxis\"}],\"plot_height\":450,\"plot_width\":750,\"renderers\":[{\"id\":\"2287\",\"type\":\"GlyphRenderer\"}],\"title\":{\"id\":\"2280\",\"type\":\"Title\"},\"toolbar\":{\"id\":\"2273\",\"type\":\"Toolbar\"},\"x_range\":{\"id\":\"2249\",\"type\":\"DataRange1d\"},\"x_scale\":{\"id\":\"2253\",\"type\":\"LinearScale\"},\"y_range\":{\"id\":\"2251\",\"type\":\"DataRange1d\"},\"y_scale\":{\"id\":\"2255\",\"type\":\"LinearScale\"}},\"id\":\"2248\",\"subtype\":\"Figure\",\"type\":\"Plot\"},{\"attributes\":{\"label\":{\"field\":\"labels\"},\"renderers\":[{\"id\":\"2287\",\"type\":\"GlyphRenderer\"}]},\"id\":\"2297\",\"type\":\"LegendItem\"},{\"attributes\":{\"ticker\":{\"id\":\"2258\",\"type\":\"BasicTicker\"}},\"id\":\"2261\",\"type\":\"Grid\"},{\"attributes\":{},\"id\":\"2268\",\"type\":\"WheelZoomTool\"},{\"attributes\":{\"formatter\":{\"id\":\"2291\",\"type\":\"BasicTickFormatter\"},\"ticker\":{\"id\":\"2258\",\"type\":\"BasicTicker\"}},\"id\":\"2257\",\"type\":\"LinearAxis\"},{\"attributes\":{},\"id\":\"2255\",\"type\":\"LinearScale\"},{\"attributes\":{},\"id\":\"2267\",\"type\":\"PanTool\"},{\"attributes\":{},\"id\":\"2272\",\"type\":\"HelpTool\"},{\"attributes\":{},\"id\":\"2253\",\"type\":\"LinearScale\"},{\"attributes\":{\"overlay\":{\"id\":\"2295\",\"type\":\"BoxAnnotation\"}},\"id\":\"2269\",\"type\":\"BoxZoomTool\"},{\"attributes\":{\"data_source\":{\"id\":\"2283\",\"type\":\"ColumnDataSource\"},\"glyph\":{\"id\":\"2285\",\"type\":\"MultiLine\"},\"hover_glyph\":null,\"muted_glyph\":null,\"nonselection_glyph\":{\"id\":\"2286\",\"type\":\"MultiLine\"},\"selection_glyph\":null,\"view\":{\"id\":\"2288\",\"type\":\"CDSView\"}},\"id\":\"2287\",\"type\":\"GlyphRenderer\"},{\"attributes\":{\"active_drag\":\"auto\",\"active_inspect\":\"auto\",\"active_multi\":null,\"active_scroll\":\"auto\",\"active_tap\":\"auto\",\"tools\":[{\"id\":\"2267\",\"type\":\"PanTool\"},{\"id\":\"2268\",\"type\":\"WheelZoomTool\"},{\"id\":\"2269\",\"type\":\"BoxZoomTool\"},{\"id\":\"2270\",\"type\":\"SaveTool\"},{\"id\":\"2271\",\"type\":\"ResetTool\"},{\"id\":\"2272\",\"type\":\"HelpTool\"}]},\"id\":\"2273\",\"type\":\"Toolbar\"},{\"attributes\":{},\"id\":\"2306\",\"type\":\"UnionRenderers\"},{\"attributes\":{\"align\":\"center\",\"text\":\"[Top term] HDBSCAN Calinski-Harabasz score\",\"text_font_size\":{\"value\":\"20px\"}},\"id\":\"2280\",\"type\":\"Title\"},{\"attributes\":{},\"id\":\"2263\",\"type\":\"BasicTicker\"},{\"attributes\":{},\"id\":\"2258\",\"type\":\"BasicTicker\"},{\"attributes\":{},\"id\":\"2270\",\"type\":\"SaveTool\"},{\"attributes\":{\"dimension\":1,\"ticker\":{\"id\":\"2263\",\"type\":\"BasicTicker\"}},\"id\":\"2266\",\"type\":\"Grid\"},{\"attributes\":{\"line_color\":{\"field\":\"color\"},\"line_width\":{\"value\":2},\"xs\":{\"field\":\"xs\"},\"ys\":{\"field\":\"ys\"}},\"id\":\"2285\",\"type\":\"MultiLine\"},{\"attributes\":{\"formatter\":{\"id\":\"2293\",\"type\":\"BasicTickFormatter\"},\"ticker\":{\"id\":\"2263\",\"type\":\"BasicTicker\"}},\"id\":\"2262\",\"type\":\"LinearAxis\"},{\"attributes\":{\"items\":[{\"id\":\"2297\",\"type\":\"LegendItem\"}],\"location\":\"top_left\"},\"id\":\"2296\",\"type\":\"Legend\"},{\"attributes\":{\"callback\":null,\"data\":{\"color\":[\"red\",\"blue\"],\"labels\":[\"1-sim\",\"cos_sim\"],\"xs\":[[5,7,9,11,13,15,17,19,21,23,25,27,29],[5,7,9,11,13,15,17,19,21,23,25,27,29]],\"ys\":[[4.205010571672297,20.068677682263118,19.602700808663467,23.57623805256702,8.906786207597918,9.268346453107556,8.82229475568573,11.872843736189969,7.006057600066265,11.189640499072341,10.671007909840647,11.621489417576747,10.185065890033533],[26.172742033381947,20.236235295082846,20.3674968776425,24.445972326020325,23.03071737891814,8.575879074151814,9.506189370538666,14.014806134714252,6.7566281468988825,26.44475750486125,11.409092397209127,12.383615373659863,10.410712162727297]]},\"selected\":{\"id\":\"2305\",\"type\":\"Selection\"},\"selection_policy\":{\"id\":\"2306\",\"type\":\"UnionRenderers\"}},\"id\":\"2283\",\"type\":\"ColumnDataSource\"},{\"attributes\":{},\"id\":\"2305\",\"type\":\"Selection\"},{\"attributes\":{},\"id\":\"2291\",\"type\":\"BasicTickFormatter\"},{\"attributes\":{\"callback\":null},\"id\":\"2249\",\"type\":\"DataRange1d\"},{\"attributes\":{\"line_alpha\":{\"value\":0.1},\"line_color\":{\"value\":\"#1f77b4\"},\"line_width\":{\"value\":2},\"xs\":{\"field\":\"xs\"},\"ys\":{\"field\":\"ys\"}},\"id\":\"2286\",\"type\":\"MultiLine\"},{\"attributes\":{\"source\":{\"id\":\"2283\",\"type\":\"ColumnDataSource\"}},\"id\":\"2288\",\"type\":\"CDSView\"},{\"attributes\":{\"callback\":null},\"id\":\"2251\",\"type\":\"DataRange1d\"},{\"attributes\":{},\"id\":\"2293\",\"type\":\"BasicTickFormatter\"},{\"attributes\":{\"bottom_units\":\"screen\",\"fill_alpha\":{\"value\":0.5},\"fill_color\":{\"value\":\"lightgrey\"},\"left_units\":\"screen\",\"level\":\"overlay\",\"line_alpha\":{\"value\":1.0},\"line_color\":{\"value\":\"black\"},\"line_dash\":[4,4],\"line_width\":{\"value\":2},\"render_mode\":\"css\",\"right_units\":\"screen\",\"top_units\":\"screen\"},\"id\":\"2295\",\"type\":\"BoxAnnotation\"},{\"attributes\":{},\"id\":\"2271\",\"type\":\"ResetTool\"}],\"root_ids\":[\"2248\"]},\"title\":\"Bokeh Application\",\"version\":\"1.3.4\"}};\n",
       "  var render_items = [{\"docid\":\"e3a5a494-d584-441d-9289-21ca7bf7bbe0\",\"roots\":{\"2248\":\"729031a7-1820-4a4f-8c8a-cf6e72e18bda\"}}];\n",
       "  root.Bokeh.embed.embed_items_notebook(docs_json, render_items);\n",
       "\n",
       "  }\n",
       "  if (root.Bokeh !== undefined) {\n",
       "    embed_document(root);\n",
       "  } else {\n",
       "    var attempts = 0;\n",
       "    var timer = setInterval(function(root) {\n",
       "      if (root.Bokeh !== undefined) {\n",
       "        embed_document(root);\n",
       "        clearInterval(timer);\n",
       "      }\n",
       "      attempts++;\n",
       "      if (attempts > 100) {\n",
       "        console.log(\"Bokeh: ERROR: Unable to run BokehJS code because BokehJS library is missing\");\n",
       "        clearInterval(timer);\n",
       "      }\n",
       "    }, 10, root)\n",
       "  }\n",
       "})(window);"
      ],
      "application/vnd.bokehjs_exec.v0+json": ""
     },
     "metadata": {
      "application/vnd.bokehjs_exec.v0+json": {
       "id": "2248"
      }
     },
     "output_type": "display_data"
    }
   ],
   "source": [
    "h_plot_evaluation(title=\"[Top term] HDBSCAN Calinski-Harabasz score\", metric=h_CH3, c=min_obs, label1=\"1-sim\",\n",
    "                  metric2=h_CH4, label2=\"cos_sim\", pos_legend=\"top_left\")"
   ]
  },
  {
   "cell_type": "markdown",
   "metadata": {},
   "source": [
    "<font size=3>\n",
    "    \n",
    "I due grafici sono pressoché identici, con i risultati ottenuti tramite la seconda matrice leggermente migliori. Comparando questi risultati con quelli del cluster agglomerativo si trovano valori nettamente inferiori in quest'ultima procedura, altra conferma che non sembrerebbe il metodo migiore per raggruppare i termini.\n",
    "<br></br><br></br>\n"
   ]
  },
  {
   "cell_type": "markdown",
   "metadata": {},
   "source": [
    "<font size=3>\n",
    "\n",
    "Avendo anche meno osservazioni questa volta è possibile visualizzare il processo attraverso il quale le parole sono state raggruppate in un cluster. Si utilizza l'algoritmo sulla matrice di cosine similarity e un numero di osservazioni minime pari a $5$ \n",
    "\n",
    "I plot sono delle funzioni già inserite nel pacchetto HDBSCAN che a loro volta utilizzano la libreria `matplotlib`. La modifica dei parametri deve essere quindi effettuata in maniera esterna agendo direttamente sulle impostazioni di matplotlib. I parametri da modificare possono essere ritrovati in `plt.rcParams.keys()`, con `plt` l'abbreviazione della libreria quando è stata caricata sul notebook:\n",
    "* `figure.figsize`: definisce la grandezza del plot (in pollici), il primo valore è la larghezza il secondo l'altezza.\n",
    "* `axes.labelsize`: la grandezza del font dei label sugli assi.\n",
    "\n",
    "Verranno visualizzati due plot ma in un'unica griglia per apprezzare meglio il confronto. Dopo aver inizializzato la figura è possibile suddividere lo spazio con la funzione `subplot`, viene aggiunto uno spazio bianco extra in verticale con `hspace` per distanziare i grafici e si definisce il nome del grafico e la grandezza del font. Per ogni subplot l'ultimo comando è il plot vero e proprio del grafico."
   ]
  },
  {
   "cell_type": "code",
   "execution_count": 69,
   "metadata": {},
   "outputs": [
    {
     "data": {
      "image/png": "[encoded data removed]",
      "text/plain": [
       "<Figure size 1440x1080 with 4 Axes>"
      ]
     },
     "metadata": {
      "needs_background": "light"
     },
     "output_type": "display_data"
    }
   ],
   "source": [
    "clusterer = hdbscan.HDBSCAN(min_cluster_size=5, metric='precomputed')\n",
    "clusterer.fit_predict(n_matrix2)\n",
    "\n",
    "plt.rcParams['figure.figsize'] = [20, 15]\n",
    "plt.rcParams['axes.labelsize'] = 16\n",
    "fig = plt.figure()\n",
    "fig.subplots_adjust(hspace=.5)\n",
    "\n",
    "plt.subplot(2, 1, 1)\n",
    "plt.gca().set_title('Dendrogramma', fontsize=24)\n",
    "clusterer.single_linkage_tree_.plot(cmap='viridis', colorbar=True)\n",
    "\n",
    "plt.subplot(2, 1, 2)\n",
    "plt.gca().set_title('Albero dei cluster', fontsize=24)\n",
    "clusterer.condensed_tree_.plot(select_clusters=True, selection_palette=sns.color_palette());"
   ]
  },
  {
   "cell_type": "markdown",
   "metadata": {},
   "source": [
    "<font size=3>\n",
    "    \n",
    "Entrambi i grafici sono uno dei passi specificati nella [documentazione](https://hdbscan.readthedocs.io/en/latest/how_hdbscan_works.html#build-the-cluster-hierarchy) per valutare il numero giusto di cluster da selezionare. Il primo grafico è il dendrogramma e rappresenta il modo in cui tutte le osservazioni sono state agglomerate nei cluster; essendo un metodo gerarchico si parte da ogni singola osservazione distinta fino ad arrivare ad un unico grande cluster. Il grafico non è molto comprensibile anche perché le osservazioni sono raggruppate lentamente e quindi il grafico risulta più compatto di altre situazioni.\n",
    "<br></br>\n",
    "\n",
    "Il secondo grafico è come il precedente ma in modo più leggibile ed intuibile. Nel dendogramma l'asse delle ordinate rappresentava la distanza in corrispondenza della quale le osservazioni erano raggruppate in un cluster e il colore era definito dal logaritmo del numero di termini nel cluster. In questo secondo grafico sulle ordinate si ha il reciproco della distanza e la scala di colore conta il numero di osservazioni.\n",
    "<br></br>\n",
    "\n",
    "La clusterizzazione viene stilizzata al minimo, si visualizzano i cluster e non le singole osservazioni per facilitare la lettura. La largezza delle righe varia a seconda del numero di osservazioni contenute nel cluster. I cluster cerchiati sono quelli proposti dall'algoritmo, in questo caso se ne notano due mentre il terzo non è mostrato in quanto è quello indicato dall'etichetta $-1$, ovvero le osservazioni che non rientrano in nessun altro cluster. La scelta manuale è quella di tracciare una linea orizzontale sul dendgrogramma e da lì selezionare il numero di cluster. Questo procedimento l'algoritmo lo fa in automatico ma con un approccio diverso: per ogni cluster viene definito un valore $\\lambda$ determinato dai singoli valori $\\lambda_i$ dei termini all'interno di esso. Questo valore indica la \"stabilità\" del cluster; quando un cluster si unirà all'altro, se il valore del nuovo cluster è inferiore a quello dei cluster figli, allora la stabilità del cluster è inferiore e quindi saranno considerati migliori i cluster figli.\n",
    "<br></br>\n",
    "\n",
    "Nel grafico si può notare il perché ci siano dei problemi nel raggruppare le osservazioni: i cluster sono creati poco alla volta ma è come se le osservazioni raggruppate non siano così simili fra loro e dissimili dalle altre, avvalorando la tesi che si tratti di una struttura globulare dove è difficile individuare dei cluster. La stabilità massima si raggiunge solamente alla fine quando ormai si sono unite osservazioni anche molto diverse fra di loro.\n",
    "<br></br>\n"
   ]
  },
  {
   "cell_type": "markdown",
   "metadata": {},
   "source": [
    "<br></br>\n",
    "### [2.3.4 Modello Word2vec](#2.3.4)"
   ]
  },
  {
   "cell_type": "markdown",
   "metadata": {},
   "source": [
    "<font size=3>\n",
    "    \n",
    "Un'ulteriore alternativa per il raggruppamento è partire dalla base definendo una nuova similarità che verrà utilizzata per la clusterizzazione. I modelli <b>Word2vec</b> sono delle reti neurali addestrate su un corpus di frasi che restituiscono come output un vettore multidimensionale per ogni parola trovata nei testi. Parole simili fra loro avranno una rappresentazione vettoriale somigliante e se visualizzate in un ipotetico spazio $n$-dimensionale, risulteranno vicine."
   ]
  },
  {
   "cell_type": "markdown",
   "metadata": {},
   "source": [
    "<font size=3>\n",
    "    \n",
    "Con la funzione KeyedVectors è possibile caricare un modello già pre-addestrato. L'oggetto che verrà caricato è il modello vero e proprio, ma non potrà essere modificato come riportato nella [documentazione](https://radimrehurek.com/gensim/models/keyedvectors.html). Il vantaggio è che avendo meno funzionalità, il modello risulta più leggero e meno dispensioso in termini di RAM. Quando si parla di <i>Word2vec</i> ci possono essere due tipi di modelli:\n",
    "* Modelli da addestrare: sono modelli creati da zero dove si definisce un corpus speficifo dal quale ricavare i vettori di parole. Hanno il vantaggio di essere legate al dominio di utilizzo e più precisi di un modello generale, però l'addestramento richiede molto tempo.\n",
    "* Modelli già addestrati: sono modelli creati su corpus estreni che si adattano ai termini di altri progetti, come in questo caso. I modelli saranno meno precisi ma si ha il vantaggio di superare tutta la parte di creazione.\n",
    "\n",
    "Il modello utilizzato è stato addestrato sugli articoli di Google News per un totale di oltre $3$ milioni di parole e frasi analizzate. Le fonti non sono proprio le stesse dell'argomento analizzato, però diverse notizie riguardano proprio il tema del cinema e dello spettacolo, quindi si può ritenere il modello sufficientemente inerente per le analisi. La stessa [documentazione](https://code.google.com/archive/p/word2vec/) riporta che il modello è stato creato mediante il metodo <b>skip-gram</b> che è più lento ma più preciso di <b>CBOW</b> soprattutto per i termini meno frequenti.\n",
    "<br></br>\n",
    "\n",
    "Il modello era stato distribuito nel $2013$ e attualmente la pagina di download riporta un file non esistente. La stessa documentazione riporta un link per accedere al gruppo di discussione del progetto. In una delle [domande](https://groups.google.com/forum/#!topic/word2vec-toolkit/na9DndXmJ7o) un utente si chiede dove sia possibile scaricare il modello completo. Nelle risposte è presente un indirizzo di [Google Drive](https://docs.google.com/uc?export=download&confirm=YOURCODEID&id=0B7XkCwpI5KDYNlNUTTlSS21pQmM) da dove è possibile ottenere il modello.\n",
    "<br></br>\n",
    "\n",
    "Il modello deve essere estratto dall'archivio `.zip` e messo nella stessa directory utilizzata dal notebook. Il nome del file è specificato nella funzione di loading insieme al parametro `binary` in quanto si tratta di un file `.bin`."
   ]
  },
  {
   "cell_type": "code",
   "execution_count": 2,
   "metadata": {},
   "outputs": [],
   "source": [
    "model = KeyedVectors.load_word2vec_format('GoogleNews-vectors-negative300.bin', binary=True)"
   ]
  },
  {
   "cell_type": "markdown",
   "metadata": {},
   "source": [
    "<font size=3>\n",
    "    \n",
    "Per la libreria <b>WordNet</b> si era creata una funzione, `find_word`, con il compito di identificare i nomi e di determinare l'elemento Synset relativo, filtrando i termini troppo corti e quelli che non rispettavano alcuni criteri legati alle lettere maiuscole. Per questo nuovo modello è necessario creare la funzione `find_word2` che si differenzia dalla prima solamente per delle modifiche alla fine del codice. Nella funzione originale erano stati scartati i termini non riconosciuti dalla libreria, in questo caso il check sarà attuato richiamando il modello creato immettendo come unico parametro il termine corrente dell'iterazione. \n",
    "<br></br>\n",
    "\n",
    "Nel caso in cui il modello riconosca la parola, essa sarà inserita nella lista di output, in caso negativo si verificherebbe un `KeyError` che sarà aggirato mediante l'utilizzo di un blocco `Try-Except` con cui si passerà direttamente all'iterazione successiva."
   ]
  },
  {
   "cell_type": "code",
   "execution_count": 12,
   "metadata": {},
   "outputs": [],
   "source": [
    "def find_word2(w_list, w_pattern, w_output, nouns_list):\n",
    "    for i in tqdm(range(len(w_list))):\n",
    "        for j in range(len(w_list[i])):\n",
    "            \n",
    "            # le parole e i tag sono in un'unica stringa, si separano\n",
    "            temp_w = w_list[i][j].split(' ') \n",
    "            temp_p = w_pattern[i][j].split(' ')\n",
    "            \n",
    "            for k in range(len(temp_p)):\n",
    "                if temp_p[k] == \"NN\":\n",
    "                    out = cases(temp_w[k])\n",
    "                    nouns_list.append(temp_w[k])\n",
    "                    \n",
    "                    # Si controlla che non si tratti di un nome di persona\n",
    "                    if temp_w[k] != temp_w[k].lower():\n",
    "                        if k < (len(temp_p) - 1):\n",
    "                            if (temp_w[k-1] != temp_w[k-1].lower()) or (temp_w[k+1] != temp_w[k+1].lower()):\n",
    "                                break\n",
    "                        else:\n",
    "                            if (temp_w[k-1] != temp_w[k-1].lower()):\n",
    "                                break\n",
    "                            \n",
    "                    # Le uniche maiuscole accettate sono quelle iniziali e si controlla se il lemma è un nome\n",
    "                    if out in ['NU', 'FU']:\n",
    "                        temp_w[k] = temp_w[k].lower()\n",
    "                        if (temp_w[k] not in w_output) and (len(temp_w[k]) > 2):\n",
    "                            try:\n",
    "                                model[temp_w[k]]\n",
    "                                w_output.append(temp_w[k])\n",
    "                            except KeyError:\n",
    "                                pass\n",
    "                        \n",
    "    return(w_output)"
   ]
  },
  {
   "cell_type": "markdown",
   "metadata": {},
   "source": [
    "<font size=3>\n",
    "    \n",
    "L'elemento in output sarà una lista senza termini duplicati e che definirà la grandezza della matrice di similarità."
   ]
  },
  {
   "cell_type": "code",
   "execution_count": 13,
   "metadata": {},
   "outputs": [
    {
     "name": "stderr",
     "output_type": "stream",
     "text": [
      "100%|███████████████████████████████████████████████████████████████████| 10113411/10113411 [02:57<00:00, 57098.42it/s]\n"
     ]
    }
   ],
   "source": [
    "word_accepted2 = []\n",
    "nouns_list2 = []\n",
    "word_no_spell2 = find_word2(w_pattern_gsp, t_pattern_gsp, w_output=word_accepted2, nouns_list=nouns_list2)"
   ]
  },
  {
   "cell_type": "markdown",
   "metadata": {},
   "source": [
    "<font size=3>\n",
    "    \n",
    "Il modello non compresso ha una dimensione di $3.5$GB e possiede un dizionario più ampio di quello su WordNet: la matrice di similarità creata in precedenza aveva $17621$ elementi, i termini identificati dal modello Word2vec sono $24308$.\n",
    "<br></br>\n",
    "\n",
    "Sempre cone dia_matrix si crea una matrice quadrata che per motivi di spazio sarà subito convertita in un array."
   ]
  },
  {
   "cell_type": "code",
   "execution_count": 79,
   "metadata": {},
   "outputs": [],
   "source": [
    "m = len(word_accepted2)\n",
    "distances_w2v = dia_matrix((m , m)).toarray()"
   ]
  },
  {
   "cell_type": "markdown",
   "metadata": {},
   "source": [
    "<font size=3>\n",
    "\n",
    "Per calcolare la similarità fra due parole è necessario applicare al nome del modello creato la funzione `similarity` che prende in input due elementi, le due parole di cui si calcolerà la similarità. Come fatto per l'altra matrice di similarità non saranno generati tutti i valori ma solo quelli della matrice triangolare superiore."
   ]
  },
  {
   "cell_type": "code",
   "execution_count": 83,
   "metadata": {},
   "outputs": [
    {
     "name": "stderr",
     "output_type": "stream",
     "text": [
      "100%|██████████████████████████████████████████████████████████████████████████| 24308/24308 [1:41:59<00:00,  3.97it/s]\n"
     ]
    }
   ],
   "source": [
    "cont = 0\n",
    "for i in tqdm(range(len(word_accepted2))):\n",
    "    j = i\n",
    "    while j < len(word_accepted2):\n",
    "        distances_w2v[i, j] = model.similarity(word_accepted2[i], word_accepted2[j])\n",
    "        j = j + 1"
   ]
  },
  {
   "cell_type": "markdown",
   "metadata": {},
   "source": [
    "<font size=3>\n",
    "    \n",
    "Il modello permette di calcolare le similarità molto più velocemente rispetto alla libreria WordNet: anche con un terzo in più delle parole, il tempo necessario per creare la matrice (array) è stato meno della metà. Il motivo per cui si ha questo miglioramento nella velocità è da ricercarsi nell'algoritmo utilizzato per calcolare la similarità: in WordNet le parole erano messe in un grafo da cui si calcolava la lunghezza pesata dei percorsi, in gensim il modello calcola semplicemente la [similarità coseno](https://radimrehurek.com/gensim/models/keyedvectors.html#gensim.models.keyedvectors.WordEmbeddingsKeyedVectors.n_similarity)."
   ]
  },
  {
   "cell_type": "code",
   "execution_count": 2,
   "metadata": {},
   "outputs": [],
   "source": [
    "#np.save('distances_w2v.npy', distances_w2v)\n",
    "\n",
    "distances_w2v = np.load(\"distances_w2v.npy\")"
   ]
  },
  {
   "cell_type": "markdown",
   "metadata": {},
   "source": [
    "<font size=3>\n",
    "    \n",
    "Si riempie la matrice triangolare inferiore con i valori specchiati di quelli calcolati."
   ]
  },
  {
   "cell_type": "code",
   "execution_count": 6,
   "metadata": {},
   "outputs": [
    {
     "name": "stderr",
     "output_type": "stream",
     "text": [
      "100%|███████████████████████████████████████████████████████████████████████████| 24308/24308 [02:09<00:00, 187.14it/s]\n"
     ]
    }
   ],
   "source": [
    "for i in tqdm(range(distances_w2v.shape[0])):\n",
    "    for j in range(distances_w2v.shape[1]):\n",
    "        if j < i:\n",
    "            distances_w2v[i, j] = distances_w2v[j, i]"
   ]
  },
  {
   "cell_type": "markdown",
   "metadata": {},
   "source": [
    "<font size=3>\n",
    "    \n",
    "Per definizione l'intervallo di valori che può assumere la similarità coseno è $[1,-1]$, dove il massimo indica elementi uguali mentre il minimo oggetti completamente opposti. È quindi ancora possibile effettuare una sottrazione rispetto a uno in quanto non ci saranno valori negativi. Con il seguente codice si cercherà di identificare sia se esistano termini con una similarità pari a uno e che quindi possano costituire un nuovo insieme di sinonimi, sia il valore minimo in tutta la matrice."
   ]
  },
  {
   "cell_type": "code",
   "execution_count": 10,
   "metadata": {},
   "outputs": [
    {
     "name": "stdout",
     "output_type": "stream",
     "text": [
      "Massimo valore di similarità: 0.968\n",
      "Minor valore di similarità: -0.311\n"
     ]
    }
   ],
   "source": [
    "np.fill_diagonal(distances_w2v, 0)\n",
    "print(\"Massimo valore di similarità: \" + str(distances_w2v.max()))\n",
    "print(\"Minor valore di similarità: \" + str(distances_w2v.min()))\n",
    "np.fill_diagonal(distances_w2v, 1)"
   ]
  },
  {
   "cell_type": "code",
   "execution_count": 12,
   "metadata": {},
   "outputs": [],
   "source": [
    "d_matrix_w2v = np.matrix(distances_w2v)\n",
    "d_matrix_w2v = 1 - (d_matrix_w2v)"
   ]
  },
  {
   "cell_type": "markdown",
   "metadata": {},
   "source": [
    "<font size=3>\n",
    "    \n",
    "La funzione clustering non deve essere modicata, l'unico elemento che cambia è il tipo di linkage: viste le scarse prestazione del metodo <i>single</i>, in queste analisi non sarà utilizzato."
   ]
  },
  {
   "cell_type": "code",
   "execution_count": 18,
   "metadata": {},
   "outputs": [
    {
     "data": {
      "application/vnd.jupyter.widget-view+json": {
       "model_id": "8d1f21b3b32143caa372643a29bf0fe5",
       "version_major": 2,
       "version_minor": 0
      },
      "text/plain": [
       "HBox(children=(IntProgress(value=0, description='Method', max=2, style=ProgressStyle(description_width='initia…"
      ]
     },
     "metadata": {},
     "output_type": "display_data"
    },
    {
     "data": {
      "application/vnd.jupyter.widget-view+json": {
       "model_id": "3a8e3ba5e7fb42eeb2b34eacdd39e4c9",
       "version_major": 2,
       "version_minor": 0
      },
      "text/plain": [
       "HBox(children=(IntProgress(value=0, description='average', max=41, style=ProgressStyle(description_width='init…"
      ]
     },
     "metadata": {},
     "output_type": "display_data"
    },
    {
     "name": "stdout",
     "output_type": "stream",
     "text": [
      "\n"
     ]
    },
    {
     "data": {
      "application/vnd.jupyter.widget-view+json": {
       "model_id": "371e240e18dc47aeaf5e58b399af8dbf",
       "version_major": 2,
       "version_minor": 0
      },
      "text/plain": [
       "HBox(children=(IntProgress(value=0, description='complete', max=41, style=ProgressStyle(description_width='ini…"
      ]
     },
     "metadata": {},
     "output_type": "display_data"
    },
    {
     "name": "stdout",
     "output_type": "stream",
     "text": [
      "\n",
      "\n"
     ]
    }
   ],
   "source": [
    "link = ['average', 'complete']\n",
    "silhouette_score_w2v, CH_score_w2v = [[] for i in range(2)]\n",
    "(silhouette_w2v, CH_w2v) = clustering(10, 51, link_list=link, dist=d_matrix_w2v, \n",
    "                              silhouette_score=silhouette_score_w2v, CH_score=CH_score_w2v)"
   ]
  },
  {
   "cell_type": "markdown",
   "metadata": {},
   "source": [
    "<font size=3>\n",
    "    \n",
    "Si può chiamare la funzione `h_plot_evaluation` per un confronto grafico in quanto ci sono solo due liste da visualizzare."
   ]
  },
  {
   "cell_type": "code",
   "execution_count": 19,
   "metadata": {},
   "outputs": [
    {
     "data": {
      "application/javascript": [
       "\n",
       "(function(root) {\n",
       "  function now() {\n",
       "    return new Date();\n",
       "  }\n",
       "\n",
       "  var force = true;\n",
       "\n",
       "  if (typeof root._bokeh_onload_callbacks === \"undefined\" || force === true) {\n",
       "    root._bokeh_onload_callbacks = [];\n",
       "    root._bokeh_is_loading = undefined;\n",
       "  }\n",
       "\n",
       "  var JS_MIME_TYPE = 'application/javascript';\n",
       "  var HTML_MIME_TYPE = 'text/html';\n",
       "  var EXEC_MIME_TYPE = 'application/vnd.bokehjs_exec.v0+json';\n",
       "  var CLASS_NAME = 'output_bokeh rendered_html';\n",
       "\n",
       "  /**\n",
       "   * Render data to the DOM node\n",
       "   */\n",
       "  function render(props, node) {\n",
       "    var script = document.createElement(\"script\");\n",
       "    node.appendChild(script);\n",
       "  }\n",
       "\n",
       "  /**\n",
       "   * Handle when an output is cleared or removed\n",
       "   */\n",
       "  function handleClearOutput(event, handle) {\n",
       "    var cell = handle.cell;\n",
       "\n",
       "    var id = cell.output_area._bokeh_element_id;\n",
       "    var server_id = cell.output_area._bokeh_server_id;\n",
       "    // Clean up Bokeh references\n",
       "    if (id != null && id in Bokeh.index) {\n",
       "      Bokeh.index[id].model.document.clear();\n",
       "      delete Bokeh.index[id];\n",
       "    }\n",
       "\n",
       "    if (server_id !== undefined) {\n",
       "      // Clean up Bokeh references\n",
       "      var cmd = \"from bokeh.io.state import curstate; print(curstate().uuid_to_server['\" + server_id + \"'].get_sessions()[0].document.roots[0]._id)\";\n",
       "      cell.notebook.kernel.execute(cmd, {\n",
       "        iopub: {\n",
       "          output: function(msg) {\n",
       "            var id = msg.content.text.trim();\n",
       "            if (id in Bokeh.index) {\n",
       "              Bokeh.index[id].model.document.clear();\n",
       "              delete Bokeh.index[id];\n",
       "            }\n",
       "          }\n",
       "        }\n",
       "      });\n",
       "      // Destroy server and session\n",
       "      var cmd = \"import bokeh.io.notebook as ion; ion.destroy_server('\" + server_id + \"')\";\n",
       "      cell.notebook.kernel.execute(cmd);\n",
       "    }\n",
       "  }\n",
       "\n",
       "  /**\n",
       "   * Handle when a new output is added\n",
       "   */\n",
       "  function handleAddOutput(event, handle) {\n",
       "    var output_area = handle.output_area;\n",
       "    var output = handle.output;\n",
       "\n",
       "    // limit handleAddOutput to display_data with EXEC_MIME_TYPE content only\n",
       "    if ((output.output_type != \"display_data\") || (!output.data.hasOwnProperty(EXEC_MIME_TYPE))) {\n",
       "      return\n",
       "    }\n",
       "\n",
       "    var toinsert = output_area.element.find(\".\" + CLASS_NAME.split(' ')[0]);\n",
       "\n",
       "    if (output.metadata[EXEC_MIME_TYPE][\"id\"] !== undefined) {\n",
       "      toinsert[toinsert.length - 1].firstChild.textContent = output.data[JS_MIME_TYPE];\n",
       "      // store reference to embed id on output_area\n",
       "      output_area._bokeh_element_id = output.metadata[EXEC_MIME_TYPE][\"id\"];\n",
       "    }\n",
       "    if (output.metadata[EXEC_MIME_TYPE][\"server_id\"] !== undefined) {\n",
       "      var bk_div = document.createElement(\"div\");\n",
       "      bk_div.innerHTML = output.data[HTML_MIME_TYPE];\n",
       "      var script_attrs = bk_div.children[0].attributes;\n",
       "      for (var i = 0; i < script_attrs.length; i++) {\n",
       "        toinsert[toinsert.length - 1].firstChild.setAttribute(script_attrs[i].name, script_attrs[i].value);\n",
       "      }\n",
       "      // store reference to server id on output_area\n",
       "      output_area._bokeh_server_id = output.metadata[EXEC_MIME_TYPE][\"server_id\"];\n",
       "    }\n",
       "  }\n",
       "\n",
       "  function register_renderer(events, OutputArea) {\n",
       "\n",
       "    function append_mime(data, metadata, element) {\n",
       "      // create a DOM node to render to\n",
       "      var toinsert = this.create_output_subarea(\n",
       "        metadata,\n",
       "        CLASS_NAME,\n",
       "        EXEC_MIME_TYPE\n",
       "      );\n",
       "      this.keyboard_manager.register_events(toinsert);\n",
       "      // Render to node\n",
       "      var props = {data: data, metadata: metadata[EXEC_MIME_TYPE]};\n",
       "      render(props, toinsert[toinsert.length - 1]);\n",
       "      element.append(toinsert);\n",
       "      return toinsert\n",
       "    }\n",
       "\n",
       "    /* Handle when an output is cleared or removed */\n",
       "    events.on('clear_output.CodeCell', handleClearOutput);\n",
       "    events.on('delete.Cell', handleClearOutput);\n",
       "\n",
       "    /* Handle when a new output is added */\n",
       "    events.on('output_added.OutputArea', handleAddOutput);\n",
       "\n",
       "    /**\n",
       "     * Register the mime type and append_mime function with output_area\n",
       "     */\n",
       "    OutputArea.prototype.register_mime_type(EXEC_MIME_TYPE, append_mime, {\n",
       "      /* Is output safe? */\n",
       "      safe: true,\n",
       "      /* Index of renderer in `output_area.display_order` */\n",
       "      index: 0\n",
       "    });\n",
       "  }\n",
       "\n",
       "  // register the mime type if in Jupyter Notebook environment and previously unregistered\n",
       "  if (root.Jupyter !== undefined) {\n",
       "    var events = require('base/js/events');\n",
       "    var OutputArea = require('notebook/js/outputarea').OutputArea;\n",
       "\n",
       "    if (OutputArea.prototype.mime_types().indexOf(EXEC_MIME_TYPE) == -1) {\n",
       "      register_renderer(events, OutputArea);\n",
       "    }\n",
       "  }\n",
       "\n",
       "  \n",
       "  if (typeof (root._bokeh_timeout) === \"undefined\" || force === true) {\n",
       "    root._bokeh_timeout = Date.now() + 5000;\n",
       "    root._bokeh_failed_load = false;\n",
       "  }\n",
       "\n",
       "  var NB_LOAD_WARNING = {'data': {'text/html':\n",
       "     \"<div style='background-color: #fdd'>\\n\"+\n",
       "     \"<p>\\n\"+\n",
       "     \"BokehJS does not appear to have successfully loaded. If loading BokehJS from CDN, this \\n\"+\n",
       "     \"may be due to a slow or bad network connection. Possible fixes:\\n\"+\n",
       "     \"</p>\\n\"+\n",
       "     \"<ul>\\n\"+\n",
       "     \"<li>re-rerun `output_notebook()` to attempt to load from CDN again, or</li>\\n\"+\n",
       "     \"<li>use INLINE resources instead, as so:</li>\\n\"+\n",
       "     \"</ul>\\n\"+\n",
       "     \"<code>\\n\"+\n",
       "     \"from bokeh.resources import INLINE\\n\"+\n",
       "     \"output_notebook(resources=INLINE)\\n\"+\n",
       "     \"</code>\\n\"+\n",
       "     \"</div>\"}};\n",
       "\n",
       "  function display_loaded() {\n",
       "    var el = document.getElementById(null);\n",
       "    if (el != null) {\n",
       "      el.textContent = \"BokehJS is loading...\";\n",
       "    }\n",
       "    if (root.Bokeh !== undefined) {\n",
       "      if (el != null) {\n",
       "        el.textContent = \"BokehJS \" + root.Bokeh.version + \" successfully loaded.\";\n",
       "      }\n",
       "    } else if (Date.now() < root._bokeh_timeout) {\n",
       "      setTimeout(display_loaded, 100)\n",
       "    }\n",
       "  }\n",
       "\n",
       "\n",
       "  function run_callbacks() {\n",
       "    try {\n",
       "      root._bokeh_onload_callbacks.forEach(function(callback) {\n",
       "        if (callback != null)\n",
       "          callback();\n",
       "      });\n",
       "    } finally {\n",
       "      delete root._bokeh_onload_callbacks\n",
       "    }\n",
       "    console.debug(\"Bokeh: all callbacks have finished\");\n",
       "  }\n",
       "\n",
       "  function load_libs(css_urls, js_urls, callback) {\n",
       "    if (css_urls == null) css_urls = [];\n",
       "    if (js_urls == null) js_urls = [];\n",
       "\n",
       "    root._bokeh_onload_callbacks.push(callback);\n",
       "    if (root._bokeh_is_loading > 0) {\n",
       "      console.debug(\"Bokeh: BokehJS is being loaded, scheduling callback at\", now());\n",
       "      return null;\n",
       "    }\n",
       "    if (js_urls == null || js_urls.length === 0) {\n",
       "      run_callbacks();\n",
       "      return null;\n",
       "    }\n",
       "    console.debug(\"Bokeh: BokehJS not loaded, scheduling load and callback at\", now());\n",
       "    root._bokeh_is_loading = css_urls.length + js_urls.length;\n",
       "\n",
       "    function on_load() {\n",
       "      root._bokeh_is_loading--;\n",
       "      if (root._bokeh_is_loading === 0) {\n",
       "        console.debug(\"Bokeh: all BokehJS libraries/stylesheets loaded\");\n",
       "        run_callbacks()\n",
       "      }\n",
       "    }\n",
       "\n",
       "    function on_error() {\n",
       "      console.error(\"failed to load \" + url);\n",
       "    }\n",
       "\n",
       "    for (var i = 0; i < css_urls.length; i++) {\n",
       "      var url = css_urls[i];\n",
       "      const element = document.createElement(\"link\");\n",
       "      element.onload = on_load;\n",
       "      element.onerror = on_error;\n",
       "      element.rel = \"stylesheet\";\n",
       "      element.type = \"text/css\";\n",
       "      element.href = url;\n",
       "      console.debug(\"Bokeh: injecting link tag for BokehJS stylesheet: \", url);\n",
       "      document.body.appendChild(element);\n",
       "    }\n",
       "\n",
       "    for (var i = 0; i < js_urls.length; i++) {\n",
       "      var url = js_urls[i];\n",
       "      var element = document.createElement('script');\n",
       "      element.onload = on_load;\n",
       "      element.onerror = on_error;\n",
       "      element.async = false;\n",
       "      element.src = url;\n",
       "      console.debug(\"Bokeh: injecting script tag for BokehJS library: \", url);\n",
       "      document.head.appendChild(element);\n",
       "    }\n",
       "  };\n",
       "\n",
       "  function inject_raw_css(css) {\n",
       "    const element = document.createElement(\"style\");\n",
       "    element.appendChild(document.createTextNode(css));\n",
       "    document.body.appendChild(element);\n",
       "  }\n",
       "\n",
       "  var js_urls = [\"https://cdn.pydata.org/bokeh/release/bokeh-1.3.4.min.js\", \"https://cdn.pydata.org/bokeh/release/bokeh-widgets-1.3.4.min.js\", \"https://cdn.pydata.org/bokeh/release/bokeh-tables-1.3.4.min.js\", \"https://cdn.pydata.org/bokeh/release/bokeh-gl-1.3.4.min.js\"];\n",
       "  var css_urls = [];\n",
       "\n",
       "  var inline_js = [\n",
       "    function(Bokeh) {\n",
       "      Bokeh.set_log_level(\"info\");\n",
       "    },\n",
       "    \n",
       "    function(Bokeh) {\n",
       "      \n",
       "    },\n",
       "    function(Bokeh) {} // ensure no trailing comma for IE\n",
       "  ];\n",
       "\n",
       "  function run_inline_js() {\n",
       "    \n",
       "    if ((root.Bokeh !== undefined) || (force === true)) {\n",
       "      for (var i = 0; i < inline_js.length; i++) {\n",
       "        inline_js[i].call(root, root.Bokeh);\n",
       "      }} else if (Date.now() < root._bokeh_timeout) {\n",
       "      setTimeout(run_inline_js, 100);\n",
       "    } else if (!root._bokeh_failed_load) {\n",
       "      console.log(\"Bokeh: BokehJS failed to load within specified timeout.\");\n",
       "      root._bokeh_failed_load = true;\n",
       "    } else if (force !== true) {\n",
       "      var cell = $(document.getElementById(null)).parents('.cell').data().cell;\n",
       "      cell.output_area.append_execute_result(NB_LOAD_WARNING)\n",
       "    }\n",
       "\n",
       "  }\n",
       "\n",
       "  if (root._bokeh_is_loading === 0) {\n",
       "    console.debug(\"Bokeh: BokehJS loaded, going straight to plotting\");\n",
       "    run_inline_js();\n",
       "  } else {\n",
       "    load_libs(css_urls, js_urls, function() {\n",
       "      console.debug(\"Bokeh: BokehJS plotting callback run at\", now());\n",
       "      run_inline_js();\n",
       "    });\n",
       "  }\n",
       "}(window));"
      ],
      "application/vnd.bokehjs_load.v0+json": "\n(function(root) {\n  function now() {\n    return new Date();\n  }\n\n  var force = true;\n\n  if (typeof root._bokeh_onload_callbacks === \"undefined\" || force === true) {\n    root._bokeh_onload_callbacks = [];\n    root._bokeh_is_loading = undefined;\n  }\n\n  \n\n  \n  if (typeof (root._bokeh_timeout) === \"undefined\" || force === true) {\n    root._bokeh_timeout = Date.now() + 5000;\n    root._bokeh_failed_load = false;\n  }\n\n  var NB_LOAD_WARNING = {'data': {'text/html':\n     \"<div style='background-color: #fdd'>\\n\"+\n     \"<p>\\n\"+\n     \"BokehJS does not appear to have successfully loaded. If loading BokehJS from CDN, this \\n\"+\n     \"may be due to a slow or bad network connection. Possible fixes:\\n\"+\n     \"</p>\\n\"+\n     \"<ul>\\n\"+\n     \"<li>re-rerun `output_notebook()` to attempt to load from CDN again, or</li>\\n\"+\n     \"<li>use INLINE resources instead, as so:</li>\\n\"+\n     \"</ul>\\n\"+\n     \"<code>\\n\"+\n     \"from bokeh.resources import INLINE\\n\"+\n     \"output_notebook(resources=INLINE)\\n\"+\n     \"</code>\\n\"+\n     \"</div>\"}};\n\n  function display_loaded() {\n    var el = document.getElementById(null);\n    if (el != null) {\n      el.textContent = \"BokehJS is loading...\";\n    }\n    if (root.Bokeh !== undefined) {\n      if (el != null) {\n        el.textContent = \"BokehJS \" + root.Bokeh.version + \" successfully loaded.\";\n      }\n    } else if (Date.now() < root._bokeh_timeout) {\n      setTimeout(display_loaded, 100)\n    }\n  }\n\n\n  function run_callbacks() {\n    try {\n      root._bokeh_onload_callbacks.forEach(function(callback) {\n        if (callback != null)\n          callback();\n      });\n    } finally {\n      delete root._bokeh_onload_callbacks\n    }\n    console.debug(\"Bokeh: all callbacks have finished\");\n  }\n\n  function load_libs(css_urls, js_urls, callback) {\n    if (css_urls == null) css_urls = [];\n    if (js_urls == null) js_urls = [];\n\n    root._bokeh_onload_callbacks.push(callback);\n    if (root._bokeh_is_loading > 0) {\n      console.debug(\"Bokeh: BokehJS is being loaded, scheduling callback at\", now());\n      return null;\n    }\n    if (js_urls == null || js_urls.length === 0) {\n      run_callbacks();\n      return null;\n    }\n    console.debug(\"Bokeh: BokehJS not loaded, scheduling load and callback at\", now());\n    root._bokeh_is_loading = css_urls.length + js_urls.length;\n\n    function on_load() {\n      root._bokeh_is_loading--;\n      if (root._bokeh_is_loading === 0) {\n        console.debug(\"Bokeh: all BokehJS libraries/stylesheets loaded\");\n        run_callbacks()\n      }\n    }\n\n    function on_error() {\n      console.error(\"failed to load \" + url);\n    }\n\n    for (var i = 0; i < css_urls.length; i++) {\n      var url = css_urls[i];\n      const element = document.createElement(\"link\");\n      element.onload = on_load;\n      element.onerror = on_error;\n      element.rel = \"stylesheet\";\n      element.type = \"text/css\";\n      element.href = url;\n      console.debug(\"Bokeh: injecting link tag for BokehJS stylesheet: \", url);\n      document.body.appendChild(element);\n    }\n\n    for (var i = 0; i < js_urls.length; i++) {\n      var url = js_urls[i];\n      var element = document.createElement('script');\n      element.onload = on_load;\n      element.onerror = on_error;\n      element.async = false;\n      element.src = url;\n      console.debug(\"Bokeh: injecting script tag for BokehJS library: \", url);\n      document.head.appendChild(element);\n    }\n  };\n\n  function inject_raw_css(css) {\n    const element = document.createElement(\"style\");\n    element.appendChild(document.createTextNode(css));\n    document.body.appendChild(element);\n  }\n\n  var js_urls = [\"https://cdn.pydata.org/bokeh/release/bokeh-1.3.4.min.js\", \"https://cdn.pydata.org/bokeh/release/bokeh-widgets-1.3.4.min.js\", \"https://cdn.pydata.org/bokeh/release/bokeh-tables-1.3.4.min.js\", \"https://cdn.pydata.org/bokeh/release/bokeh-gl-1.3.4.min.js\"];\n  var css_urls = [];\n\n  var inline_js = [\n    function(Bokeh) {\n      Bokeh.set_log_level(\"info\");\n    },\n    \n    function(Bokeh) {\n      \n    },\n    function(Bokeh) {} // ensure no trailing comma for IE\n  ];\n\n  function run_inline_js() {\n    \n    if ((root.Bokeh !== undefined) || (force === true)) {\n      for (var i = 0; i < inline_js.length; i++) {\n        inline_js[i].call(root, root.Bokeh);\n      }} else if (Date.now() < root._bokeh_timeout) {\n      setTimeout(run_inline_js, 100);\n    } else if (!root._bokeh_failed_load) {\n      console.log(\"Bokeh: BokehJS failed to load within specified timeout.\");\n      root._bokeh_failed_load = true;\n    } else if (force !== true) {\n      var cell = $(document.getElementById(null)).parents('.cell').data().cell;\n      cell.output_area.append_execute_result(NB_LOAD_WARNING)\n    }\n\n  }\n\n  if (root._bokeh_is_loading === 0) {\n    console.debug(\"Bokeh: BokehJS loaded, going straight to plotting\");\n    run_inline_js();\n  } else {\n    load_libs(css_urls, js_urls, function() {\n      console.debug(\"Bokeh: BokehJS plotting callback run at\", now());\n      run_inline_js();\n    });\n  }\n}(window));"
     },
     "metadata": {},
     "output_type": "display_data"
    },
    {
     "data": {
      "text/html": [
       "\n",
       "\n",
       "\n",
       "\n",
       "\n",
       "\n",
       "  <div class=\"bk-root\" id=\"ecaf48fe-28d5-4cba-96e2-641581afb3b4\" data-root-id=\"1001\"></div>\n"
      ]
     },
     "metadata": {},
     "output_type": "display_data"
    },
    {
     "data": {
      "application/javascript": [
       "(function(root) {\n",
       "  function embed_document(root) {\n",
       "    \n",
       "  var docs_json = {\"e4b29ec7-4ab0-40ed-af2a-8c6ccb916f93\":{\"roots\":{\"references\":[{\"attributes\":{\"below\":[{\"id\":\"1010\",\"type\":\"LinearAxis\"}],\"center\":[{\"id\":\"1014\",\"type\":\"Grid\"},{\"id\":\"1019\",\"type\":\"Grid\"},{\"id\":\"1049\",\"type\":\"Legend\"}],\"left\":[{\"id\":\"1015\",\"type\":\"LinearAxis\"}],\"plot_height\":450,\"plot_width\":750,\"renderers\":[{\"id\":\"1040\",\"type\":\"GlyphRenderer\"}],\"title\":{\"id\":\"1033\",\"type\":\"Title\"},\"toolbar\":{\"id\":\"1026\",\"type\":\"Toolbar\"},\"x_range\":{\"id\":\"1002\",\"type\":\"DataRange1d\"},\"x_scale\":{\"id\":\"1006\",\"type\":\"LinearScale\"},\"y_range\":{\"id\":\"1004\",\"type\":\"DataRange1d\"},\"y_scale\":{\"id\":\"1008\",\"type\":\"LinearScale\"}},\"id\":\"1001\",\"subtype\":\"Figure\",\"type\":\"Plot\"},{\"attributes\":{},\"id\":\"1008\",\"type\":\"LinearScale\"},{\"attributes\":{\"items\":[{\"id\":\"1050\",\"type\":\"LegendItem\"}]},\"id\":\"1049\",\"type\":\"Legend\"},{\"attributes\":{},\"id\":\"1059\",\"type\":\"Selection\"},{\"attributes\":{\"source\":{\"id\":\"1036\",\"type\":\"ColumnDataSource\"}},\"id\":\"1041\",\"type\":\"CDSView\"},{\"attributes\":{},\"id\":\"1058\",\"type\":\"UnionRenderers\"},{\"attributes\":{\"ticker\":{\"id\":\"1011\",\"type\":\"BasicTicker\"}},\"id\":\"1014\",\"type\":\"Grid\"},{\"attributes\":{},\"id\":\"1047\",\"type\":\"BasicTickFormatter\"},{\"attributes\":{\"data_source\":{\"id\":\"1036\",\"type\":\"ColumnDataSource\"},\"glyph\":{\"id\":\"1038\",\"type\":\"MultiLine\"},\"hover_glyph\":null,\"muted_glyph\":null,\"nonselection_glyph\":{\"id\":\"1039\",\"type\":\"MultiLine\"},\"selection_glyph\":null,\"view\":{\"id\":\"1041\",\"type\":\"CDSView\"}},\"id\":\"1040\",\"type\":\"GlyphRenderer\"},{\"attributes\":{},\"id\":\"1020\",\"type\":\"PanTool\"},{\"attributes\":{},\"id\":\"1006\",\"type\":\"LinearScale\"},{\"attributes\":{},\"id\":\"1045\",\"type\":\"BasicTickFormatter\"},{\"attributes\":{\"callback\":null},\"id\":\"1004\",\"type\":\"DataRange1d\"},{\"attributes\":{\"formatter\":{\"id\":\"1047\",\"type\":\"BasicTickFormatter\"},\"ticker\":{\"id\":\"1011\",\"type\":\"BasicTicker\"}},\"id\":\"1010\",\"type\":\"LinearAxis\"},{\"attributes\":{\"line_color\":{\"field\":\"color\"},\"line_width\":{\"value\":2},\"xs\":{\"field\":\"xs\"},\"ys\":{\"field\":\"ys\"}},\"id\":\"1038\",\"type\":\"MultiLine\"},{\"attributes\":{\"overlay\":{\"id\":\"1048\",\"type\":\"BoxAnnotation\"}},\"id\":\"1022\",\"type\":\"BoxZoomTool\"},{\"attributes\":{\"formatter\":{\"id\":\"1045\",\"type\":\"BasicTickFormatter\"},\"ticker\":{\"id\":\"1016\",\"type\":\"BasicTicker\"}},\"id\":\"1015\",\"type\":\"LinearAxis\"},{\"attributes\":{},\"id\":\"1011\",\"type\":\"BasicTicker\"},{\"attributes\":{},\"id\":\"1023\",\"type\":\"SaveTool\"},{\"attributes\":{\"align\":\"center\",\"text\":\"Word2vec Silhouette index\",\"text_font_size\":{\"value\":\"20px\"}},\"id\":\"1033\",\"type\":\"Title\"},{\"attributes\":{},\"id\":\"1024\",\"type\":\"ResetTool\"},{\"attributes\":{},\"id\":\"1021\",\"type\":\"WheelZoomTool\"},{\"attributes\":{},\"id\":\"1016\",\"type\":\"BasicTicker\"},{\"attributes\":{},\"id\":\"1025\",\"type\":\"HelpTool\"},{\"attributes\":{\"label\":{\"field\":\"labels\"},\"renderers\":[{\"id\":\"1040\",\"type\":\"GlyphRenderer\"}]},\"id\":\"1050\",\"type\":\"LegendItem\"},{\"attributes\":{\"callback\":null,\"data\":{\"color\":[\"red\",\"blue\"],\"labels\":[\"Average\",\"Complete\"],\"xs\":[[10,11,12,13,14,15,16,17,18,19,20,21,22,23,24,25,26,27,28,29,30,31,32,33,34,35,36,37,38,39,40,41,42,43,44,45,46,47,48,49,50],[10,11,12,13,14,15,16,17,18,19,20,21,22,23,24,25,26,27,28,29,30,31,32,33,34,35,36,37,38,39,40,41,42,43,44,45,46,47,48,49,50]],\"ys\":[[-0.005231650446064606,-0.004444748437609324,-0.004596277572571821,-0.004897893313817082,-0.006163409737461556,-0.005731502506265055,-0.005199180208247316,-0.0042676249220133,-0.008111148922000273,-0.008560427450136923,-0.008798388336148724,-0.008107813865360754,-0.0075610497953799,-0.006884669855193252,-0.006456359758427395,-0.005403542242991325,-0.008645301733345358,-0.008033308542326135,-0.007488259778667964,-0.00699824593475448,-0.00634926309119722,-0.006378308386983415,-0.009699582325024417,-0.009099775789872817,-0.009055694601465653,-0.008594830031736929,-0.008338604257605743,-0.00837158702060885,-0.014666546195191693,-0.014271378588773937,-0.014608984505856919,-0.01597245803681561,-0.015285409290804885,-0.015105654907964328,-0.014959470230824206,-0.014478139307705196,-0.014248898562773567,-0.015638882621742883,-0.015593451195685797,-0.015329076289389646,-0.014118331844416613],[0.007193265980261069,0.005943026529663442,0.002122752835150995,0.002238835322030096,0.0009933979278648939,0.0005543687165485831,0.0003120878293040298,-0.00033841426929525487,-0.00044598911687313486,0.0008177517492386682,-0.0035984190257573553,-0.004587761828360748,-0.005897814340389397,-0.0035896184945297654,-0.004022936552067681,-0.00423338382037919,-0.004267936527711951,-0.006869892952620424,-0.008535980695943168,-0.008907963957826113,-0.009273912764746407,-0.009471636269160316,-0.011356278910535767,-0.01159729169479443,-0.01181544316230069,-0.012199969102372235,-0.01295031274250893,-0.013972033292898567,-0.015435335011814193,-0.013424629178983141,-0.013500919283757722,-0.01347288763427464,-0.013345576426118395,-0.014140202699844756,-0.014343645219918417,-0.01477205707164611,-0.01450170135732116,-0.013849266121485414,-0.014084555894191572,-0.015422189973204962,-0.01574907049077007]]},\"selected\":{\"id\":\"1059\",\"type\":\"Selection\"},\"selection_policy\":{\"id\":\"1058\",\"type\":\"UnionRenderers\"}},\"id\":\"1036\",\"type\":\"ColumnDataSource\"},{\"attributes\":{\"active_drag\":\"auto\",\"active_inspect\":\"auto\",\"active_multi\":null,\"active_scroll\":\"auto\",\"active_tap\":\"auto\",\"tools\":[{\"id\":\"1020\",\"type\":\"PanTool\"},{\"id\":\"1021\",\"type\":\"WheelZoomTool\"},{\"id\":\"1022\",\"type\":\"BoxZoomTool\"},{\"id\":\"1023\",\"type\":\"SaveTool\"},{\"id\":\"1024\",\"type\":\"ResetTool\"},{\"id\":\"1025\",\"type\":\"HelpTool\"}]},\"id\":\"1026\",\"type\":\"Toolbar\"},{\"attributes\":{\"bottom_units\":\"screen\",\"fill_alpha\":{\"value\":0.5},\"fill_color\":{\"value\":\"lightgrey\"},\"left_units\":\"screen\",\"level\":\"overlay\",\"line_alpha\":{\"value\":1.0},\"line_color\":{\"value\":\"black\"},\"line_dash\":[4,4],\"line_width\":{\"value\":2},\"render_mode\":\"css\",\"right_units\":\"screen\",\"top_units\":\"screen\"},\"id\":\"1048\",\"type\":\"BoxAnnotation\"},{\"attributes\":{\"line_alpha\":{\"value\":0.1},\"line_color\":{\"value\":\"#1f77b4\"},\"line_width\":{\"value\":2},\"xs\":{\"field\":\"xs\"},\"ys\":{\"field\":\"ys\"}},\"id\":\"1039\",\"type\":\"MultiLine\"},{\"attributes\":{\"callback\":null},\"id\":\"1002\",\"type\":\"DataRange1d\"},{\"attributes\":{\"dimension\":1,\"ticker\":{\"id\":\"1016\",\"type\":\"BasicTicker\"}},\"id\":\"1019\",\"type\":\"Grid\"}],\"root_ids\":[\"1001\"]},\"title\":\"Bokeh Application\",\"version\":\"1.3.4\"}};\n",
       "  var render_items = [{\"docid\":\"e4b29ec7-4ab0-40ed-af2a-8c6ccb916f93\",\"roots\":{\"1001\":\"ecaf48fe-28d5-4cba-96e2-641581afb3b4\"}}];\n",
       "  root.Bokeh.embed.embed_items_notebook(docs_json, render_items);\n",
       "\n",
       "  }\n",
       "  if (root.Bokeh !== undefined) {\n",
       "    embed_document(root);\n",
       "  } else {\n",
       "    var attempts = 0;\n",
       "    var timer = setInterval(function(root) {\n",
       "      if (root.Bokeh !== undefined) {\n",
       "        embed_document(root);\n",
       "        clearInterval(timer);\n",
       "      }\n",
       "      attempts++;\n",
       "      if (attempts > 100) {\n",
       "        console.log(\"Bokeh: ERROR: Unable to run BokehJS code because BokehJS library is missing\");\n",
       "        clearInterval(timer);\n",
       "      }\n",
       "    }, 10, root)\n",
       "  }\n",
       "})(window);"
      ],
      "application/vnd.bokehjs_exec.v0+json": ""
     },
     "metadata": {
      "application/vnd.bokehjs_exec.v0+json": {
       "id": "1001"
      }
     },
     "output_type": "display_data"
    }
   ],
   "source": [
    "c = [i for i in range(10, 51)]\n",
    "h_plot_evaluation(title=\"Word2vec Silhouette index\", metric=silhouette_w2v[0], c=c, label1=\"Average\",\n",
    "                  metric2=silhouette_w2v[1], label2=\"Complete\", pos_legend=\"top_right\")"
   ]
  },
  {
   "cell_type": "markdown",
   "metadata": {},
   "source": [
    "<font size=3>\n",
    "    \n",
    "I valori sono peggiori di entrambi i modelli provati in precedenza, l'andamento è simile a quello visto in precedenza dove i modelli premiati sono quelli con pochi cluster. Anche se le differenze sembrano evidenti sul grafico, i valori sull'asse delle ordinate sottolineano come per tutti i modelli la bontà di clusterizzazione sia molto simile."
   ]
  },
  {
   "cell_type": "code",
   "execution_count": 20,
   "metadata": {
    "scrolled": false
   },
   "outputs": [
    {
     "data": {
      "application/javascript": [
       "\n",
       "(function(root) {\n",
       "  function now() {\n",
       "    return new Date();\n",
       "  }\n",
       "\n",
       "  var force = true;\n",
       "\n",
       "  if (typeof root._bokeh_onload_callbacks === \"undefined\" || force === true) {\n",
       "    root._bokeh_onload_callbacks = [];\n",
       "    root._bokeh_is_loading = undefined;\n",
       "  }\n",
       "\n",
       "  var JS_MIME_TYPE = 'application/javascript';\n",
       "  var HTML_MIME_TYPE = 'text/html';\n",
       "  var EXEC_MIME_TYPE = 'application/vnd.bokehjs_exec.v0+json';\n",
       "  var CLASS_NAME = 'output_bokeh rendered_html';\n",
       "\n",
       "  /**\n",
       "   * Render data to the DOM node\n",
       "   */\n",
       "  function render(props, node) {\n",
       "    var script = document.createElement(\"script\");\n",
       "    node.appendChild(script);\n",
       "  }\n",
       "\n",
       "  /**\n",
       "   * Handle when an output is cleared or removed\n",
       "   */\n",
       "  function handleClearOutput(event, handle) {\n",
       "    var cell = handle.cell;\n",
       "\n",
       "    var id = cell.output_area._bokeh_element_id;\n",
       "    var server_id = cell.output_area._bokeh_server_id;\n",
       "    // Clean up Bokeh references\n",
       "    if (id != null && id in Bokeh.index) {\n",
       "      Bokeh.index[id].model.document.clear();\n",
       "      delete Bokeh.index[id];\n",
       "    }\n",
       "\n",
       "    if (server_id !== undefined) {\n",
       "      // Clean up Bokeh references\n",
       "      var cmd = \"from bokeh.io.state import curstate; print(curstate().uuid_to_server['\" + server_id + \"'].get_sessions()[0].document.roots[0]._id)\";\n",
       "      cell.notebook.kernel.execute(cmd, {\n",
       "        iopub: {\n",
       "          output: function(msg) {\n",
       "            var id = msg.content.text.trim();\n",
       "            if (id in Bokeh.index) {\n",
       "              Bokeh.index[id].model.document.clear();\n",
       "              delete Bokeh.index[id];\n",
       "            }\n",
       "          }\n",
       "        }\n",
       "      });\n",
       "      // Destroy server and session\n",
       "      var cmd = \"import bokeh.io.notebook as ion; ion.destroy_server('\" + server_id + \"')\";\n",
       "      cell.notebook.kernel.execute(cmd);\n",
       "    }\n",
       "  }\n",
       "\n",
       "  /**\n",
       "   * Handle when a new output is added\n",
       "   */\n",
       "  function handleAddOutput(event, handle) {\n",
       "    var output_area = handle.output_area;\n",
       "    var output = handle.output;\n",
       "\n",
       "    // limit handleAddOutput to display_data with EXEC_MIME_TYPE content only\n",
       "    if ((output.output_type != \"display_data\") || (!output.data.hasOwnProperty(EXEC_MIME_TYPE))) {\n",
       "      return\n",
       "    }\n",
       "\n",
       "    var toinsert = output_area.element.find(\".\" + CLASS_NAME.split(' ')[0]);\n",
       "\n",
       "    if (output.metadata[EXEC_MIME_TYPE][\"id\"] !== undefined) {\n",
       "      toinsert[toinsert.length - 1].firstChild.textContent = output.data[JS_MIME_TYPE];\n",
       "      // store reference to embed id on output_area\n",
       "      output_area._bokeh_element_id = output.metadata[EXEC_MIME_TYPE][\"id\"];\n",
       "    }\n",
       "    if (output.metadata[EXEC_MIME_TYPE][\"server_id\"] !== undefined) {\n",
       "      var bk_div = document.createElement(\"div\");\n",
       "      bk_div.innerHTML = output.data[HTML_MIME_TYPE];\n",
       "      var script_attrs = bk_div.children[0].attributes;\n",
       "      for (var i = 0; i < script_attrs.length; i++) {\n",
       "        toinsert[toinsert.length - 1].firstChild.setAttribute(script_attrs[i].name, script_attrs[i].value);\n",
       "      }\n",
       "      // store reference to server id on output_area\n",
       "      output_area._bokeh_server_id = output.metadata[EXEC_MIME_TYPE][\"server_id\"];\n",
       "    }\n",
       "  }\n",
       "\n",
       "  function register_renderer(events, OutputArea) {\n",
       "\n",
       "    function append_mime(data, metadata, element) {\n",
       "      // create a DOM node to render to\n",
       "      var toinsert = this.create_output_subarea(\n",
       "        metadata,\n",
       "        CLASS_NAME,\n",
       "        EXEC_MIME_TYPE\n",
       "      );\n",
       "      this.keyboard_manager.register_events(toinsert);\n",
       "      // Render to node\n",
       "      var props = {data: data, metadata: metadata[EXEC_MIME_TYPE]};\n",
       "      render(props, toinsert[toinsert.length - 1]);\n",
       "      element.append(toinsert);\n",
       "      return toinsert\n",
       "    }\n",
       "\n",
       "    /* Handle when an output is cleared or removed */\n",
       "    events.on('clear_output.CodeCell', handleClearOutput);\n",
       "    events.on('delete.Cell', handleClearOutput);\n",
       "\n",
       "    /* Handle when a new output is added */\n",
       "    events.on('output_added.OutputArea', handleAddOutput);\n",
       "\n",
       "    /**\n",
       "     * Register the mime type and append_mime function with output_area\n",
       "     */\n",
       "    OutputArea.prototype.register_mime_type(EXEC_MIME_TYPE, append_mime, {\n",
       "      /* Is output safe? */\n",
       "      safe: true,\n",
       "      /* Index of renderer in `output_area.display_order` */\n",
       "      index: 0\n",
       "    });\n",
       "  }\n",
       "\n",
       "  // register the mime type if in Jupyter Notebook environment and previously unregistered\n",
       "  if (root.Jupyter !== undefined) {\n",
       "    var events = require('base/js/events');\n",
       "    var OutputArea = require('notebook/js/outputarea').OutputArea;\n",
       "\n",
       "    if (OutputArea.prototype.mime_types().indexOf(EXEC_MIME_TYPE) == -1) {\n",
       "      register_renderer(events, OutputArea);\n",
       "    }\n",
       "  }\n",
       "\n",
       "  \n",
       "  if (typeof (root._bokeh_timeout) === \"undefined\" || force === true) {\n",
       "    root._bokeh_timeout = Date.now() + 5000;\n",
       "    root._bokeh_failed_load = false;\n",
       "  }\n",
       "\n",
       "  var NB_LOAD_WARNING = {'data': {'text/html':\n",
       "     \"<div style='background-color: #fdd'>\\n\"+\n",
       "     \"<p>\\n\"+\n",
       "     \"BokehJS does not appear to have successfully loaded. If loading BokehJS from CDN, this \\n\"+\n",
       "     \"may be due to a slow or bad network connection. Possible fixes:\\n\"+\n",
       "     \"</p>\\n\"+\n",
       "     \"<ul>\\n\"+\n",
       "     \"<li>re-rerun `output_notebook()` to attempt to load from CDN again, or</li>\\n\"+\n",
       "     \"<li>use INLINE resources instead, as so:</li>\\n\"+\n",
       "     \"</ul>\\n\"+\n",
       "     \"<code>\\n\"+\n",
       "     \"from bokeh.resources import INLINE\\n\"+\n",
       "     \"output_notebook(resources=INLINE)\\n\"+\n",
       "     \"</code>\\n\"+\n",
       "     \"</div>\"}};\n",
       "\n",
       "  function display_loaded() {\n",
       "    var el = document.getElementById(null);\n",
       "    if (el != null) {\n",
       "      el.textContent = \"BokehJS is loading...\";\n",
       "    }\n",
       "    if (root.Bokeh !== undefined) {\n",
       "      if (el != null) {\n",
       "        el.textContent = \"BokehJS \" + root.Bokeh.version + \" successfully loaded.\";\n",
       "      }\n",
       "    } else if (Date.now() < root._bokeh_timeout) {\n",
       "      setTimeout(display_loaded, 100)\n",
       "    }\n",
       "  }\n",
       "\n",
       "\n",
       "  function run_callbacks() {\n",
       "    try {\n",
       "      root._bokeh_onload_callbacks.forEach(function(callback) {\n",
       "        if (callback != null)\n",
       "          callback();\n",
       "      });\n",
       "    } finally {\n",
       "      delete root._bokeh_onload_callbacks\n",
       "    }\n",
       "    console.debug(\"Bokeh: all callbacks have finished\");\n",
       "  }\n",
       "\n",
       "  function load_libs(css_urls, js_urls, callback) {\n",
       "    if (css_urls == null) css_urls = [];\n",
       "    if (js_urls == null) js_urls = [];\n",
       "\n",
       "    root._bokeh_onload_callbacks.push(callback);\n",
       "    if (root._bokeh_is_loading > 0) {\n",
       "      console.debug(\"Bokeh: BokehJS is being loaded, scheduling callback at\", now());\n",
       "      return null;\n",
       "    }\n",
       "    if (js_urls == null || js_urls.length === 0) {\n",
       "      run_callbacks();\n",
       "      return null;\n",
       "    }\n",
       "    console.debug(\"Bokeh: BokehJS not loaded, scheduling load and callback at\", now());\n",
       "    root._bokeh_is_loading = css_urls.length + js_urls.length;\n",
       "\n",
       "    function on_load() {\n",
       "      root._bokeh_is_loading--;\n",
       "      if (root._bokeh_is_loading === 0) {\n",
       "        console.debug(\"Bokeh: all BokehJS libraries/stylesheets loaded\");\n",
       "        run_callbacks()\n",
       "      }\n",
       "    }\n",
       "\n",
       "    function on_error() {\n",
       "      console.error(\"failed to load \" + url);\n",
       "    }\n",
       "\n",
       "    for (var i = 0; i < css_urls.length; i++) {\n",
       "      var url = css_urls[i];\n",
       "      const element = document.createElement(\"link\");\n",
       "      element.onload = on_load;\n",
       "      element.onerror = on_error;\n",
       "      element.rel = \"stylesheet\";\n",
       "      element.type = \"text/css\";\n",
       "      element.href = url;\n",
       "      console.debug(\"Bokeh: injecting link tag for BokehJS stylesheet: \", url);\n",
       "      document.body.appendChild(element);\n",
       "    }\n",
       "\n",
       "    for (var i = 0; i < js_urls.length; i++) {\n",
       "      var url = js_urls[i];\n",
       "      var element = document.createElement('script');\n",
       "      element.onload = on_load;\n",
       "      element.onerror = on_error;\n",
       "      element.async = false;\n",
       "      element.src = url;\n",
       "      console.debug(\"Bokeh: injecting script tag for BokehJS library: \", url);\n",
       "      document.head.appendChild(element);\n",
       "    }\n",
       "  };\n",
       "\n",
       "  function inject_raw_css(css) {\n",
       "    const element = document.createElement(\"style\");\n",
       "    element.appendChild(document.createTextNode(css));\n",
       "    document.body.appendChild(element);\n",
       "  }\n",
       "\n",
       "  var js_urls = [\"https://cdn.pydata.org/bokeh/release/bokeh-1.3.4.min.js\", \"https://cdn.pydata.org/bokeh/release/bokeh-widgets-1.3.4.min.js\", \"https://cdn.pydata.org/bokeh/release/bokeh-tables-1.3.4.min.js\", \"https://cdn.pydata.org/bokeh/release/bokeh-gl-1.3.4.min.js\"];\n",
       "  var css_urls = [];\n",
       "\n",
       "  var inline_js = [\n",
       "    function(Bokeh) {\n",
       "      Bokeh.set_log_level(\"info\");\n",
       "    },\n",
       "    \n",
       "    function(Bokeh) {\n",
       "      \n",
       "    },\n",
       "    function(Bokeh) {} // ensure no trailing comma for IE\n",
       "  ];\n",
       "\n",
       "  function run_inline_js() {\n",
       "    \n",
       "    if ((root.Bokeh !== undefined) || (force === true)) {\n",
       "      for (var i = 0; i < inline_js.length; i++) {\n",
       "        inline_js[i].call(root, root.Bokeh);\n",
       "      }} else if (Date.now() < root._bokeh_timeout) {\n",
       "      setTimeout(run_inline_js, 100);\n",
       "    } else if (!root._bokeh_failed_load) {\n",
       "      console.log(\"Bokeh: BokehJS failed to load within specified timeout.\");\n",
       "      root._bokeh_failed_load = true;\n",
       "    } else if (force !== true) {\n",
       "      var cell = $(document.getElementById(null)).parents('.cell').data().cell;\n",
       "      cell.output_area.append_execute_result(NB_LOAD_WARNING)\n",
       "    }\n",
       "\n",
       "  }\n",
       "\n",
       "  if (root._bokeh_is_loading === 0) {\n",
       "    console.debug(\"Bokeh: BokehJS loaded, going straight to plotting\");\n",
       "    run_inline_js();\n",
       "  } else {\n",
       "    load_libs(css_urls, js_urls, function() {\n",
       "      console.debug(\"Bokeh: BokehJS plotting callback run at\", now());\n",
       "      run_inline_js();\n",
       "    });\n",
       "  }\n",
       "}(window));"
      ],
      "application/vnd.bokehjs_load.v0+json": "\n(function(root) {\n  function now() {\n    return new Date();\n  }\n\n  var force = true;\n\n  if (typeof root._bokeh_onload_callbacks === \"undefined\" || force === true) {\n    root._bokeh_onload_callbacks = [];\n    root._bokeh_is_loading = undefined;\n  }\n\n  \n\n  \n  if (typeof (root._bokeh_timeout) === \"undefined\" || force === true) {\n    root._bokeh_timeout = Date.now() + 5000;\n    root._bokeh_failed_load = false;\n  }\n\n  var NB_LOAD_WARNING = {'data': {'text/html':\n     \"<div style='background-color: #fdd'>\\n\"+\n     \"<p>\\n\"+\n     \"BokehJS does not appear to have successfully loaded. If loading BokehJS from CDN, this \\n\"+\n     \"may be due to a slow or bad network connection. Possible fixes:\\n\"+\n     \"</p>\\n\"+\n     \"<ul>\\n\"+\n     \"<li>re-rerun `output_notebook()` to attempt to load from CDN again, or</li>\\n\"+\n     \"<li>use INLINE resources instead, as so:</li>\\n\"+\n     \"</ul>\\n\"+\n     \"<code>\\n\"+\n     \"from bokeh.resources import INLINE\\n\"+\n     \"output_notebook(resources=INLINE)\\n\"+\n     \"</code>\\n\"+\n     \"</div>\"}};\n\n  function display_loaded() {\n    var el = document.getElementById(null);\n    if (el != null) {\n      el.textContent = \"BokehJS is loading...\";\n    }\n    if (root.Bokeh !== undefined) {\n      if (el != null) {\n        el.textContent = \"BokehJS \" + root.Bokeh.version + \" successfully loaded.\";\n      }\n    } else if (Date.now() < root._bokeh_timeout) {\n      setTimeout(display_loaded, 100)\n    }\n  }\n\n\n  function run_callbacks() {\n    try {\n      root._bokeh_onload_callbacks.forEach(function(callback) {\n        if (callback != null)\n          callback();\n      });\n    } finally {\n      delete root._bokeh_onload_callbacks\n    }\n    console.debug(\"Bokeh: all callbacks have finished\");\n  }\n\n  function load_libs(css_urls, js_urls, callback) {\n    if (css_urls == null) css_urls = [];\n    if (js_urls == null) js_urls = [];\n\n    root._bokeh_onload_callbacks.push(callback);\n    if (root._bokeh_is_loading > 0) {\n      console.debug(\"Bokeh: BokehJS is being loaded, scheduling callback at\", now());\n      return null;\n    }\n    if (js_urls == null || js_urls.length === 0) {\n      run_callbacks();\n      return null;\n    }\n    console.debug(\"Bokeh: BokehJS not loaded, scheduling load and callback at\", now());\n    root._bokeh_is_loading = css_urls.length + js_urls.length;\n\n    function on_load() {\n      root._bokeh_is_loading--;\n      if (root._bokeh_is_loading === 0) {\n        console.debug(\"Bokeh: all BokehJS libraries/stylesheets loaded\");\n        run_callbacks()\n      }\n    }\n\n    function on_error() {\n      console.error(\"failed to load \" + url);\n    }\n\n    for (var i = 0; i < css_urls.length; i++) {\n      var url = css_urls[i];\n      const element = document.createElement(\"link\");\n      element.onload = on_load;\n      element.onerror = on_error;\n      element.rel = \"stylesheet\";\n      element.type = \"text/css\";\n      element.href = url;\n      console.debug(\"Bokeh: injecting link tag for BokehJS stylesheet: \", url);\n      document.body.appendChild(element);\n    }\n\n    for (var i = 0; i < js_urls.length; i++) {\n      var url = js_urls[i];\n      var element = document.createElement('script');\n      element.onload = on_load;\n      element.onerror = on_error;\n      element.async = false;\n      element.src = url;\n      console.debug(\"Bokeh: injecting script tag for BokehJS library: \", url);\n      document.head.appendChild(element);\n    }\n  };\n\n  function inject_raw_css(css) {\n    const element = document.createElement(\"style\");\n    element.appendChild(document.createTextNode(css));\n    document.body.appendChild(element);\n  }\n\n  var js_urls = [\"https://cdn.pydata.org/bokeh/release/bokeh-1.3.4.min.js\", \"https://cdn.pydata.org/bokeh/release/bokeh-widgets-1.3.4.min.js\", \"https://cdn.pydata.org/bokeh/release/bokeh-tables-1.3.4.min.js\", \"https://cdn.pydata.org/bokeh/release/bokeh-gl-1.3.4.min.js\"];\n  var css_urls = [];\n\n  var inline_js = [\n    function(Bokeh) {\n      Bokeh.set_log_level(\"info\");\n    },\n    \n    function(Bokeh) {\n      \n    },\n    function(Bokeh) {} // ensure no trailing comma for IE\n  ];\n\n  function run_inline_js() {\n    \n    if ((root.Bokeh !== undefined) || (force === true)) {\n      for (var i = 0; i < inline_js.length; i++) {\n        inline_js[i].call(root, root.Bokeh);\n      }} else if (Date.now() < root._bokeh_timeout) {\n      setTimeout(run_inline_js, 100);\n    } else if (!root._bokeh_failed_load) {\n      console.log(\"Bokeh: BokehJS failed to load within specified timeout.\");\n      root._bokeh_failed_load = true;\n    } else if (force !== true) {\n      var cell = $(document.getElementById(null)).parents('.cell').data().cell;\n      cell.output_area.append_execute_result(NB_LOAD_WARNING)\n    }\n\n  }\n\n  if (root._bokeh_is_loading === 0) {\n    console.debug(\"Bokeh: BokehJS loaded, going straight to plotting\");\n    run_inline_js();\n  } else {\n    load_libs(css_urls, js_urls, function() {\n      console.debug(\"Bokeh: BokehJS plotting callback run at\", now());\n      run_inline_js();\n    });\n  }\n}(window));"
     },
     "metadata": {},
     "output_type": "display_data"
    },
    {
     "data": {
      "text/html": [
       "\n",
       "\n",
       "\n",
       "\n",
       "\n",
       "\n",
       "  <div class=\"bk-root\" id=\"54f21d4d-4288-402b-8cdd-07abc32df200\" data-root-id=\"1114\"></div>\n"
      ]
     },
     "metadata": {},
     "output_type": "display_data"
    },
    {
     "data": {
      "application/javascript": [
       "(function(root) {\n",
       "  function embed_document(root) {\n",
       "    \n",
       "  var docs_json = {\"a88bad3d-b4dd-4e07-a4cf-5aaa8035fef7\":{\"roots\":{\"references\":[{\"attributes\":{\"below\":[{\"id\":\"1123\",\"type\":\"LinearAxis\"}],\"center\":[{\"id\":\"1127\",\"type\":\"Grid\"},{\"id\":\"1132\",\"type\":\"Grid\"},{\"id\":\"1162\",\"type\":\"Legend\"}],\"left\":[{\"id\":\"1128\",\"type\":\"LinearAxis\"}],\"plot_height\":450,\"plot_width\":750,\"renderers\":[{\"id\":\"1153\",\"type\":\"GlyphRenderer\"}],\"title\":{\"id\":\"1146\",\"type\":\"Title\"},\"toolbar\":{\"id\":\"1139\",\"type\":\"Toolbar\"},\"x_range\":{\"id\":\"1115\",\"type\":\"DataRange1d\"},\"x_scale\":{\"id\":\"1119\",\"type\":\"LinearScale\"},\"y_range\":{\"id\":\"1117\",\"type\":\"DataRange1d\"},\"y_scale\":{\"id\":\"1121\",\"type\":\"LinearScale\"}},\"id\":\"1114\",\"subtype\":\"Figure\",\"type\":\"Plot\"},{\"attributes\":{},\"id\":\"1138\",\"type\":\"HelpTool\"},{\"attributes\":{\"ticker\":{\"id\":\"1124\",\"type\":\"BasicTicker\"}},\"id\":\"1127\",\"type\":\"Grid\"},{\"attributes\":{\"data_source\":{\"id\":\"1149\",\"type\":\"ColumnDataSource\"},\"glyph\":{\"id\":\"1151\",\"type\":\"MultiLine\"},\"hover_glyph\":null,\"muted_glyph\":null,\"nonselection_glyph\":{\"id\":\"1152\",\"type\":\"MultiLine\"},\"selection_glyph\":null,\"view\":{\"id\":\"1154\",\"type\":\"CDSView\"}},\"id\":\"1153\",\"type\":\"GlyphRenderer\"},{\"attributes\":{},\"id\":\"1134\",\"type\":\"WheelZoomTool\"},{\"attributes\":{\"formatter\":{\"id\":\"1158\",\"type\":\"BasicTickFormatter\"},\"ticker\":{\"id\":\"1129\",\"type\":\"BasicTicker\"}},\"id\":\"1128\",\"type\":\"LinearAxis\"},{\"attributes\":{},\"id\":\"1124\",\"type\":\"BasicTicker\"},{\"attributes\":{\"line_alpha\":{\"value\":0.1},\"line_color\":{\"value\":\"#1f77b4\"},\"line_width\":{\"value\":2},\"xs\":{\"field\":\"xs\"},\"ys\":{\"field\":\"ys\"}},\"id\":\"1152\",\"type\":\"MultiLine\"},{\"attributes\":{\"overlay\":{\"id\":\"1161\",\"type\":\"BoxAnnotation\"}},\"id\":\"1135\",\"type\":\"BoxZoomTool\"},{\"attributes\":{},\"id\":\"1136\",\"type\":\"SaveTool\"},{\"attributes\":{},\"id\":\"1121\",\"type\":\"LinearScale\"},{\"attributes\":{},\"id\":\"1137\",\"type\":\"ResetTool\"},{\"attributes\":{\"active_drag\":\"auto\",\"active_inspect\":\"auto\",\"active_multi\":null,\"active_scroll\":\"auto\",\"active_tap\":\"auto\",\"tools\":[{\"id\":\"1133\",\"type\":\"PanTool\"},{\"id\":\"1134\",\"type\":\"WheelZoomTool\"},{\"id\":\"1135\",\"type\":\"BoxZoomTool\"},{\"id\":\"1136\",\"type\":\"SaveTool\"},{\"id\":\"1137\",\"type\":\"ResetTool\"},{\"id\":\"1138\",\"type\":\"HelpTool\"}]},\"id\":\"1139\",\"type\":\"Toolbar\"},{\"attributes\":{\"callback\":null},\"id\":\"1115\",\"type\":\"DataRange1d\"},{\"attributes\":{},\"id\":\"1119\",\"type\":\"LinearScale\"},{\"attributes\":{\"callback\":null},\"id\":\"1117\",\"type\":\"DataRange1d\"},{\"attributes\":{\"bottom_units\":\"screen\",\"fill_alpha\":{\"value\":0.5},\"fill_color\":{\"value\":\"lightgrey\"},\"left_units\":\"screen\",\"level\":\"overlay\",\"line_alpha\":{\"value\":1.0},\"line_color\":{\"value\":\"black\"},\"line_dash\":[4,4],\"line_width\":{\"value\":2},\"render_mode\":\"css\",\"right_units\":\"screen\",\"top_units\":\"screen\"},\"id\":\"1161\",\"type\":\"BoxAnnotation\"},{\"attributes\":{},\"id\":\"1158\",\"type\":\"BasicTickFormatter\"},{\"attributes\":{\"formatter\":{\"id\":\"1160\",\"type\":\"BasicTickFormatter\"},\"ticker\":{\"id\":\"1124\",\"type\":\"BasicTicker\"}},\"id\":\"1123\",\"type\":\"LinearAxis\"},{\"attributes\":{},\"id\":\"1129\",\"type\":\"BasicTicker\"},{\"attributes\":{\"source\":{\"id\":\"1149\",\"type\":\"ColumnDataSource\"}},\"id\":\"1154\",\"type\":\"CDSView\"},{\"attributes\":{\"label\":{\"field\":\"labels\"},\"renderers\":[{\"id\":\"1153\",\"type\":\"GlyphRenderer\"}]},\"id\":\"1163\",\"type\":\"LegendItem\"},{\"attributes\":{},\"id\":\"1160\",\"type\":\"BasicTickFormatter\"},{\"attributes\":{\"items\":[{\"id\":\"1163\",\"type\":\"LegendItem\"}]},\"id\":\"1162\",\"type\":\"Legend\"},{\"attributes\":{\"callback\":null,\"data\":{\"color\":[\"red\",\"blue\"],\"labels\":[\"Average\",\"Complete\"],\"xs\":[[10,11,12,13,14,15,16,17,18,19,20,21,22,23,24,25,26,27,28,29,30,31,32,33,34,35,36,37,38,39,40,41,42,43,44,45,46,47,48,49,50],[10,11,12,13,14,15,16,17,18,19,20,21,22,23,24,25,26,27,28,29,30,31,32,33,34,35,36,37,38,39,40,41,42,43,44,45,46,47,48,49,50]],\"ys\":[[621.5279286244271,576.9750497145747,535.6689523299268,496.87639787843284,499.20618768957837,466.93319445971014,441.63496949423427,419.25850475943486,409.00163873769645,388.1934018261705,368.3087294332083,356.20817196980585,342.58627559962355,329.72211907060745,317.0807125450921,311.1558042397459,310.5016122152056,301.73286438607715,293.6901682580044,288.2129786138063,283.5964056963551,274.40600833275727,269.6109860210881,264.2355536365573,258.78587529962607,253.20901352916883,246.5391593949826,241.3761890198151,240.54108538421144,235.9349593673394,231.83912284839684,236.45030992322282,234.19730838217527,229.20200334770684,224.14525301665606,221.56856559353207,217.62324203235437,215.63366599290782,211.51439503861468,207.8029717384405,206.34214237330013],[163.15011405961764,147.31459640836255,134.07707636217677,162.06658159682956,151.66658224648754,158.05323102791067,158.31326534012217,149.99475842361295,141.77472462469865,155.22540626391898,147.09995389861504,141.9484053361863,135.40894383835487,146.08324286254248,140.44850647412784,140.8349841203759,136.08380211791118,131.68443735945652,127.11423391006542,123.24713431415614,119.78677539257045,115.88346633791886,112.16717131972158,108.87649422104829,105.698540530142,103.09567868536996,100.72869426194026,99.50163587870786,97.04709563933964,103.95362240731627,101.50140335220175,99.36852638867718,97.2197684969119,95.83392842754616,93.68221448328578,91.67020514689433,90.24242603701805,88.99952301136264,87.16567243535928,85.37319505793124,84.44630160801654]]},\"selected\":{\"id\":\"1172\",\"type\":\"Selection\"},\"selection_policy\":{\"id\":\"1171\",\"type\":\"UnionRenderers\"}},\"id\":\"1149\",\"type\":\"ColumnDataSource\"},{\"attributes\":{\"align\":\"center\",\"text\":\"Word2vec Calinski-Harabasz score\",\"text_font_size\":{\"value\":\"20px\"}},\"id\":\"1146\",\"type\":\"Title\"},{\"attributes\":{},\"id\":\"1171\",\"type\":\"UnionRenderers\"},{\"attributes\":{},\"id\":\"1133\",\"type\":\"PanTool\"},{\"attributes\":{},\"id\":\"1172\",\"type\":\"Selection\"},{\"attributes\":{\"line_color\":{\"field\":\"color\"},\"line_width\":{\"value\":2},\"xs\":{\"field\":\"xs\"},\"ys\":{\"field\":\"ys\"}},\"id\":\"1151\",\"type\":\"MultiLine\"},{\"attributes\":{\"dimension\":1,\"ticker\":{\"id\":\"1129\",\"type\":\"BasicTicker\"}},\"id\":\"1132\",\"type\":\"Grid\"}],\"root_ids\":[\"1114\"]},\"title\":\"Bokeh Application\",\"version\":\"1.3.4\"}};\n",
       "  var render_items = [{\"docid\":\"a88bad3d-b4dd-4e07-a4cf-5aaa8035fef7\",\"roots\":{\"1114\":\"54f21d4d-4288-402b-8cdd-07abc32df200\"}}];\n",
       "  root.Bokeh.embed.embed_items_notebook(docs_json, render_items);\n",
       "\n",
       "  }\n",
       "  if (root.Bokeh !== undefined) {\n",
       "    embed_document(root);\n",
       "  } else {\n",
       "    var attempts = 0;\n",
       "    var timer = setInterval(function(root) {\n",
       "      if (root.Bokeh !== undefined) {\n",
       "        embed_document(root);\n",
       "        clearInterval(timer);\n",
       "      }\n",
       "      attempts++;\n",
       "      if (attempts > 100) {\n",
       "        console.log(\"Bokeh: ERROR: Unable to run BokehJS code because BokehJS library is missing\");\n",
       "        clearInterval(timer);\n",
       "      }\n",
       "    }, 10, root)\n",
       "  }\n",
       "})(window);"
      ],
      "application/vnd.bokehjs_exec.v0+json": ""
     },
     "metadata": {
      "application/vnd.bokehjs_exec.v0+json": {
       "id": "1114"
      }
     },
     "output_type": "display_data"
    }
   ],
   "source": [
    "h_plot_evaluation(title=\"Word2vec Calinski-Harabasz score\", metric=CH_w2v[0], c=c, label1=\"Average\",\n",
    "                  metric2=CH_w2v[1], label2=\"Complete\", pos_legend=\"top_right\")"
   ]
  },
  {
   "cell_type": "markdown",
   "metadata": {},
   "source": [
    "<font size=3>\n",
    "    \n",
    "Per lo score di <i>Calinski-Harabasz</i> i modelli hanno un andamento molto più chiaro, decrescente al crescere dei cluster. "
   ]
  },
  {
   "cell_type": "markdown",
   "metadata": {},
   "source": [
    "<font size=3>\n",
    "\n",
    "Si prova a modificare il set di parole utilizzando quello creato in precedenza con la rimozione dei sinonimi. Una delle differenze fra il modello WordNet e Word2vec è che il primo effettuava un pre-processing della parola data in input, quindi non era case sensitive a differenza del secondo dove la stessa parola scritta con la prima lettera maiuscola e tutta minuscola esistevano due rappresentazioni vettoriali differenti. \n",
    "<br></br>\n",
    "\n",
    "Dal dizionario delle similarità si devono quindi estrarre le chiavi e trasformarle tutte in minuscolo e si crea un nuovo dizionario facendo corrispondere a queste nuove chiavi i vecchi valori. Un dizionario di base non permette di accedere ai suoi valori in modo ordinato, proprio per la natura stessa dell'oggetto in Python. Dalle versioni 3.x di Python è quindi necessario [trasformare i valori in una lista](https://stackoverflow.com/questions/4326658/how-to-index-into-a-dictionary) prima di poter accedere agli elementi tramite un indice. "
   ]
  },
  {
   "cell_type": "code",
   "execution_count": 41,
   "metadata": {},
   "outputs": [],
   "source": [
    "keys_lower = [word.lower() for word in diz_similarity.keys()]\n",
    "diz_similarity2 = {}\n",
    "for i in range(len(keys_lower)):\n",
    "    diz_similarity2[keys_lower[i]] = list(diz_similarity.values())[i]"
   ]
  },
  {
   "cell_type": "markdown",
   "metadata": {},
   "source": [
    "<font size=3>\n",
    "    \n",
    "Come già fatto diverse volte in precedenza in corrispondenza degli elementi non trovati nel dizionario viene posto un elemento nullo, preservare l'ordine delle parole serve per rimuovere correttamente gli elementi dalla matrice."
   ]
  },
  {
   "cell_type": "code",
   "execution_count": 42,
   "metadata": {},
   "outputs": [],
   "source": [
    "new_w2v_words = []\n",
    "filter_w2v = []\n",
    "for word in word_accepted2:\n",
    "    if (word in diz_similarity2.keys()) and (word not in filter_w2v):\n",
    "        new_w2v_words.append(word)\n",
    "        for w in diz_similarity2[word]:\n",
    "            filter_w2v.append(w)\n",
    "    else:\n",
    "        new_w2v_words.append('')"
   ]
  },
  {
   "cell_type": "markdown",
   "metadata": {},
   "source": [
    "<font size=3>\n",
    "    \n",
    "La lista `w2v_words` contiene solo le parole che non sono state rimosse."
   ]
  },
  {
   "cell_type": "code",
   "execution_count": 45,
   "metadata": {},
   "outputs": [
    {
     "name": "stderr",
     "output_type": "stream",
     "text": [
      "C:\\Users\\Hp\\Anaconda3\\lib\\site-packages\\ipykernel_launcher.py:4: DeprecationWarning: in the future out of bounds indices will raise an error instead of being ignored by `numpy.delete`.\n",
      "  after removing the cwd from sys.path.\n",
      "C:\\Users\\Hp\\Anaconda3\\lib\\site-packages\\ipykernel_launcher.py:5: DeprecationWarning: in the future out of bounds indices will raise an error instead of being ignored by `numpy.delete`.\n",
      "  \"\"\"\n"
     ]
    }
   ],
   "source": [
    "idx_w2v = [i for i, x in enumerate(new_w2v_words) if x == '']\n",
    "idx_w2v.reverse()\n",
    "\n",
    "n_matrix_w2v = np.delete(d_matrix_w2v, (idx_w2v), axis=0)\n",
    "n_matrix_w2v = np.delete(n_matrix_w2v, (idx_w2v), axis=1)\n",
    "\n",
    "w2v_words = [word for word in new_w2v_words if word != '']"
   ]
  },
  {
   "cell_type": "markdown",
   "metadata": {},
   "source": [
    "<font size=3>\n",
    "    \n",
    "La lunghezza della nuova lista è diversa da quello del modello precedente nonostante si siano gestiti i casi di parole con la prima lettera maiuscola. Una delle possibili spiegazioni è che il modello Word2vec non riconosce alcune parole del modello WordNet e viceversa, questo fa sì che dei termini diversi sono stati filtrati nella funzione `find_word2`."
   ]
  },
  {
   "cell_type": "code",
   "execution_count": 46,
   "metadata": {},
   "outputs": [
    {
     "data": {
      "text/plain": [
       "(12970, 12970)"
      ]
     },
     "execution_count": 46,
     "metadata": {},
     "output_type": "execute_result"
    }
   ],
   "source": [
    "n_matrix_w2v.shape"
   ]
  },
  {
   "cell_type": "markdown",
   "metadata": {},
   "source": [
    "<font size=3>\n",
    "    \n",
    "Si replicano i modelli con la nuova matrice."
   ]
  },
  {
   "cell_type": "code",
   "execution_count": 47,
   "metadata": {
    "scrolled": true
   },
   "outputs": [
    {
     "data": {
      "application/vnd.jupyter.widget-view+json": {
       "model_id": "d60efe84250e414f9c365087c2dc13ed",
       "version_major": 2,
       "version_minor": 0
      },
      "text/plain": [
       "HBox(children=(IntProgress(value=0, description='Method', max=2, style=ProgressStyle(description_width='initia…"
      ]
     },
     "metadata": {},
     "output_type": "display_data"
    },
    {
     "data": {
      "application/vnd.jupyter.widget-view+json": {
       "model_id": "d392751c7b95405fa18c749ad95b7793",
       "version_major": 2,
       "version_minor": 0
      },
      "text/plain": [
       "HBox(children=(IntProgress(value=0, description='average', max=41, style=ProgressStyle(description_width='init…"
      ]
     },
     "metadata": {},
     "output_type": "display_data"
    },
    {
     "name": "stdout",
     "output_type": "stream",
     "text": [
      "\n"
     ]
    },
    {
     "data": {
      "application/vnd.jupyter.widget-view+json": {
       "model_id": "9d5a0a70c8c24c41920031fb4fae932f",
       "version_major": 2,
       "version_minor": 0
      },
      "text/plain": [
       "HBox(children=(IntProgress(value=0, description='complete', max=41, style=ProgressStyle(description_width='ini…"
      ]
     },
     "metadata": {},
     "output_type": "display_data"
    },
    {
     "name": "stdout",
     "output_type": "stream",
     "text": [
      "\n",
      "\n"
     ]
    }
   ],
   "source": [
    "link = ['average', 'complete']\n",
    "silhouette_score_w2v2, CH_score_w2v2 = [[] for i in range(2)]\n",
    "(silhouette_w2v2, CH_w2v2) = clustering(10, 51, link_list=link, dist=n_matrix_w2v, \n",
    "                                        silhouette_score=silhouette_score_w2v2, CH_score=CH_score_w2v2)"
   ]
  },
  {
   "cell_type": "code",
   "execution_count": 48,
   "metadata": {},
   "outputs": [
    {
     "data": {
      "application/javascript": [
       "\n",
       "(function(root) {\n",
       "  function now() {\n",
       "    return new Date();\n",
       "  }\n",
       "\n",
       "  var force = true;\n",
       "\n",
       "  if (typeof root._bokeh_onload_callbacks === \"undefined\" || force === true) {\n",
       "    root._bokeh_onload_callbacks = [];\n",
       "    root._bokeh_is_loading = undefined;\n",
       "  }\n",
       "\n",
       "  var JS_MIME_TYPE = 'application/javascript';\n",
       "  var HTML_MIME_TYPE = 'text/html';\n",
       "  var EXEC_MIME_TYPE = 'application/vnd.bokehjs_exec.v0+json';\n",
       "  var CLASS_NAME = 'output_bokeh rendered_html';\n",
       "\n",
       "  /**\n",
       "   * Render data to the DOM node\n",
       "   */\n",
       "  function render(props, node) {\n",
       "    var script = document.createElement(\"script\");\n",
       "    node.appendChild(script);\n",
       "  }\n",
       "\n",
       "  /**\n",
       "   * Handle when an output is cleared or removed\n",
       "   */\n",
       "  function handleClearOutput(event, handle) {\n",
       "    var cell = handle.cell;\n",
       "\n",
       "    var id = cell.output_area._bokeh_element_id;\n",
       "    var server_id = cell.output_area._bokeh_server_id;\n",
       "    // Clean up Bokeh references\n",
       "    if (id != null && id in Bokeh.index) {\n",
       "      Bokeh.index[id].model.document.clear();\n",
       "      delete Bokeh.index[id];\n",
       "    }\n",
       "\n",
       "    if (server_id !== undefined) {\n",
       "      // Clean up Bokeh references\n",
       "      var cmd = \"from bokeh.io.state import curstate; print(curstate().uuid_to_server['\" + server_id + \"'].get_sessions()[0].document.roots[0]._id)\";\n",
       "      cell.notebook.kernel.execute(cmd, {\n",
       "        iopub: {\n",
       "          output: function(msg) {\n",
       "            var id = msg.content.text.trim();\n",
       "            if (id in Bokeh.index) {\n",
       "              Bokeh.index[id].model.document.clear();\n",
       "              delete Bokeh.index[id];\n",
       "            }\n",
       "          }\n",
       "        }\n",
       "      });\n",
       "      // Destroy server and session\n",
       "      var cmd = \"import bokeh.io.notebook as ion; ion.destroy_server('\" + server_id + \"')\";\n",
       "      cell.notebook.kernel.execute(cmd);\n",
       "    }\n",
       "  }\n",
       "\n",
       "  /**\n",
       "   * Handle when a new output is added\n",
       "   */\n",
       "  function handleAddOutput(event, handle) {\n",
       "    var output_area = handle.output_area;\n",
       "    var output = handle.output;\n",
       "\n",
       "    // limit handleAddOutput to display_data with EXEC_MIME_TYPE content only\n",
       "    if ((output.output_type != \"display_data\") || (!output.data.hasOwnProperty(EXEC_MIME_TYPE))) {\n",
       "      return\n",
       "    }\n",
       "\n",
       "    var toinsert = output_area.element.find(\".\" + CLASS_NAME.split(' ')[0]);\n",
       "\n",
       "    if (output.metadata[EXEC_MIME_TYPE][\"id\"] !== undefined) {\n",
       "      toinsert[toinsert.length - 1].firstChild.textContent = output.data[JS_MIME_TYPE];\n",
       "      // store reference to embed id on output_area\n",
       "      output_area._bokeh_element_id = output.metadata[EXEC_MIME_TYPE][\"id\"];\n",
       "    }\n",
       "    if (output.metadata[EXEC_MIME_TYPE][\"server_id\"] !== undefined) {\n",
       "      var bk_div = document.createElement(\"div\");\n",
       "      bk_div.innerHTML = output.data[HTML_MIME_TYPE];\n",
       "      var script_attrs = bk_div.children[0].attributes;\n",
       "      for (var i = 0; i < script_attrs.length; i++) {\n",
       "        toinsert[toinsert.length - 1].firstChild.setAttribute(script_attrs[i].name, script_attrs[i].value);\n",
       "      }\n",
       "      // store reference to server id on output_area\n",
       "      output_area._bokeh_server_id = output.metadata[EXEC_MIME_TYPE][\"server_id\"];\n",
       "    }\n",
       "  }\n",
       "\n",
       "  function register_renderer(events, OutputArea) {\n",
       "\n",
       "    function append_mime(data, metadata, element) {\n",
       "      // create a DOM node to render to\n",
       "      var toinsert = this.create_output_subarea(\n",
       "        metadata,\n",
       "        CLASS_NAME,\n",
       "        EXEC_MIME_TYPE\n",
       "      );\n",
       "      this.keyboard_manager.register_events(toinsert);\n",
       "      // Render to node\n",
       "      var props = {data: data, metadata: metadata[EXEC_MIME_TYPE]};\n",
       "      render(props, toinsert[toinsert.length - 1]);\n",
       "      element.append(toinsert);\n",
       "      return toinsert\n",
       "    }\n",
       "\n",
       "    /* Handle when an output is cleared or removed */\n",
       "    events.on('clear_output.CodeCell', handleClearOutput);\n",
       "    events.on('delete.Cell', handleClearOutput);\n",
       "\n",
       "    /* Handle when a new output is added */\n",
       "    events.on('output_added.OutputArea', handleAddOutput);\n",
       "\n",
       "    /**\n",
       "     * Register the mime type and append_mime function with output_area\n",
       "     */\n",
       "    OutputArea.prototype.register_mime_type(EXEC_MIME_TYPE, append_mime, {\n",
       "      /* Is output safe? */\n",
       "      safe: true,\n",
       "      /* Index of renderer in `output_area.display_order` */\n",
       "      index: 0\n",
       "    });\n",
       "  }\n",
       "\n",
       "  // register the mime type if in Jupyter Notebook environment and previously unregistered\n",
       "  if (root.Jupyter !== undefined) {\n",
       "    var events = require('base/js/events');\n",
       "    var OutputArea = require('notebook/js/outputarea').OutputArea;\n",
       "\n",
       "    if (OutputArea.prototype.mime_types().indexOf(EXEC_MIME_TYPE) == -1) {\n",
       "      register_renderer(events, OutputArea);\n",
       "    }\n",
       "  }\n",
       "\n",
       "  \n",
       "  if (typeof (root._bokeh_timeout) === \"undefined\" || force === true) {\n",
       "    root._bokeh_timeout = Date.now() + 5000;\n",
       "    root._bokeh_failed_load = false;\n",
       "  }\n",
       "\n",
       "  var NB_LOAD_WARNING = {'data': {'text/html':\n",
       "     \"<div style='background-color: #fdd'>\\n\"+\n",
       "     \"<p>\\n\"+\n",
       "     \"BokehJS does not appear to have successfully loaded. If loading BokehJS from CDN, this \\n\"+\n",
       "     \"may be due to a slow or bad network connection. Possible fixes:\\n\"+\n",
       "     \"</p>\\n\"+\n",
       "     \"<ul>\\n\"+\n",
       "     \"<li>re-rerun `output_notebook()` to attempt to load from CDN again, or</li>\\n\"+\n",
       "     \"<li>use INLINE resources instead, as so:</li>\\n\"+\n",
       "     \"</ul>\\n\"+\n",
       "     \"<code>\\n\"+\n",
       "     \"from bokeh.resources import INLINE\\n\"+\n",
       "     \"output_notebook(resources=INLINE)\\n\"+\n",
       "     \"</code>\\n\"+\n",
       "     \"</div>\"}};\n",
       "\n",
       "  function display_loaded() {\n",
       "    var el = document.getElementById(null);\n",
       "    if (el != null) {\n",
       "      el.textContent = \"BokehJS is loading...\";\n",
       "    }\n",
       "    if (root.Bokeh !== undefined) {\n",
       "      if (el != null) {\n",
       "        el.textContent = \"BokehJS \" + root.Bokeh.version + \" successfully loaded.\";\n",
       "      }\n",
       "    } else if (Date.now() < root._bokeh_timeout) {\n",
       "      setTimeout(display_loaded, 100)\n",
       "    }\n",
       "  }\n",
       "\n",
       "\n",
       "  function run_callbacks() {\n",
       "    try {\n",
       "      root._bokeh_onload_callbacks.forEach(function(callback) {\n",
       "        if (callback != null)\n",
       "          callback();\n",
       "      });\n",
       "    } finally {\n",
       "      delete root._bokeh_onload_callbacks\n",
       "    }\n",
       "    console.debug(\"Bokeh: all callbacks have finished\");\n",
       "  }\n",
       "\n",
       "  function load_libs(css_urls, js_urls, callback) {\n",
       "    if (css_urls == null) css_urls = [];\n",
       "    if (js_urls == null) js_urls = [];\n",
       "\n",
       "    root._bokeh_onload_callbacks.push(callback);\n",
       "    if (root._bokeh_is_loading > 0) {\n",
       "      console.debug(\"Bokeh: BokehJS is being loaded, scheduling callback at\", now());\n",
       "      return null;\n",
       "    }\n",
       "    if (js_urls == null || js_urls.length === 0) {\n",
       "      run_callbacks();\n",
       "      return null;\n",
       "    }\n",
       "    console.debug(\"Bokeh: BokehJS not loaded, scheduling load and callback at\", now());\n",
       "    root._bokeh_is_loading = css_urls.length + js_urls.length;\n",
       "\n",
       "    function on_load() {\n",
       "      root._bokeh_is_loading--;\n",
       "      if (root._bokeh_is_loading === 0) {\n",
       "        console.debug(\"Bokeh: all BokehJS libraries/stylesheets loaded\");\n",
       "        run_callbacks()\n",
       "      }\n",
       "    }\n",
       "\n",
       "    function on_error() {\n",
       "      console.error(\"failed to load \" + url);\n",
       "    }\n",
       "\n",
       "    for (var i = 0; i < css_urls.length; i++) {\n",
       "      var url = css_urls[i];\n",
       "      const element = document.createElement(\"link\");\n",
       "      element.onload = on_load;\n",
       "      element.onerror = on_error;\n",
       "      element.rel = \"stylesheet\";\n",
       "      element.type = \"text/css\";\n",
       "      element.href = url;\n",
       "      console.debug(\"Bokeh: injecting link tag for BokehJS stylesheet: \", url);\n",
       "      document.body.appendChild(element);\n",
       "    }\n",
       "\n",
       "    for (var i = 0; i < js_urls.length; i++) {\n",
       "      var url = js_urls[i];\n",
       "      var element = document.createElement('script');\n",
       "      element.onload = on_load;\n",
       "      element.onerror = on_error;\n",
       "      element.async = false;\n",
       "      element.src = url;\n",
       "      console.debug(\"Bokeh: injecting script tag for BokehJS library: \", url);\n",
       "      document.head.appendChild(element);\n",
       "    }\n",
       "  };\n",
       "\n",
       "  function inject_raw_css(css) {\n",
       "    const element = document.createElement(\"style\");\n",
       "    element.appendChild(document.createTextNode(css));\n",
       "    document.body.appendChild(element);\n",
       "  }\n",
       "\n",
       "  var js_urls = [\"https://cdn.pydata.org/bokeh/release/bokeh-1.3.4.min.js\", \"https://cdn.pydata.org/bokeh/release/bokeh-widgets-1.3.4.min.js\", \"https://cdn.pydata.org/bokeh/release/bokeh-tables-1.3.4.min.js\", \"https://cdn.pydata.org/bokeh/release/bokeh-gl-1.3.4.min.js\"];\n",
       "  var css_urls = [];\n",
       "\n",
       "  var inline_js = [\n",
       "    function(Bokeh) {\n",
       "      Bokeh.set_log_level(\"info\");\n",
       "    },\n",
       "    \n",
       "    function(Bokeh) {\n",
       "      \n",
       "    },\n",
       "    function(Bokeh) {} // ensure no trailing comma for IE\n",
       "  ];\n",
       "\n",
       "  function run_inline_js() {\n",
       "    \n",
       "    if ((root.Bokeh !== undefined) || (force === true)) {\n",
       "      for (var i = 0; i < inline_js.length; i++) {\n",
       "        inline_js[i].call(root, root.Bokeh);\n",
       "      }} else if (Date.now() < root._bokeh_timeout) {\n",
       "      setTimeout(run_inline_js, 100);\n",
       "    } else if (!root._bokeh_failed_load) {\n",
       "      console.log(\"Bokeh: BokehJS failed to load within specified timeout.\");\n",
       "      root._bokeh_failed_load = true;\n",
       "    } else if (force !== true) {\n",
       "      var cell = $(document.getElementById(null)).parents('.cell').data().cell;\n",
       "      cell.output_area.append_execute_result(NB_LOAD_WARNING)\n",
       "    }\n",
       "\n",
       "  }\n",
       "\n",
       "  if (root._bokeh_is_loading === 0) {\n",
       "    console.debug(\"Bokeh: BokehJS loaded, going straight to plotting\");\n",
       "    run_inline_js();\n",
       "  } else {\n",
       "    load_libs(css_urls, js_urls, function() {\n",
       "      console.debug(\"Bokeh: BokehJS plotting callback run at\", now());\n",
       "      run_inline_js();\n",
       "    });\n",
       "  }\n",
       "}(window));"
      ],
      "application/vnd.bokehjs_load.v0+json": "\n(function(root) {\n  function now() {\n    return new Date();\n  }\n\n  var force = true;\n\n  if (typeof root._bokeh_onload_callbacks === \"undefined\" || force === true) {\n    root._bokeh_onload_callbacks = [];\n    root._bokeh_is_loading = undefined;\n  }\n\n  \n\n  \n  if (typeof (root._bokeh_timeout) === \"undefined\" || force === true) {\n    root._bokeh_timeout = Date.now() + 5000;\n    root._bokeh_failed_load = false;\n  }\n\n  var NB_LOAD_WARNING = {'data': {'text/html':\n     \"<div style='background-color: #fdd'>\\n\"+\n     \"<p>\\n\"+\n     \"BokehJS does not appear to have successfully loaded. If loading BokehJS from CDN, this \\n\"+\n     \"may be due to a slow or bad network connection. Possible fixes:\\n\"+\n     \"</p>\\n\"+\n     \"<ul>\\n\"+\n     \"<li>re-rerun `output_notebook()` to attempt to load from CDN again, or</li>\\n\"+\n     \"<li>use INLINE resources instead, as so:</li>\\n\"+\n     \"</ul>\\n\"+\n     \"<code>\\n\"+\n     \"from bokeh.resources import INLINE\\n\"+\n     \"output_notebook(resources=INLINE)\\n\"+\n     \"</code>\\n\"+\n     \"</div>\"}};\n\n  function display_loaded() {\n    var el = document.getElementById(null);\n    if (el != null) {\n      el.textContent = \"BokehJS is loading...\";\n    }\n    if (root.Bokeh !== undefined) {\n      if (el != null) {\n        el.textContent = \"BokehJS \" + root.Bokeh.version + \" successfully loaded.\";\n      }\n    } else if (Date.now() < root._bokeh_timeout) {\n      setTimeout(display_loaded, 100)\n    }\n  }\n\n\n  function run_callbacks() {\n    try {\n      root._bokeh_onload_callbacks.forEach(function(callback) {\n        if (callback != null)\n          callback();\n      });\n    } finally {\n      delete root._bokeh_onload_callbacks\n    }\n    console.debug(\"Bokeh: all callbacks have finished\");\n  }\n\n  function load_libs(css_urls, js_urls, callback) {\n    if (css_urls == null) css_urls = [];\n    if (js_urls == null) js_urls = [];\n\n    root._bokeh_onload_callbacks.push(callback);\n    if (root._bokeh_is_loading > 0) {\n      console.debug(\"Bokeh: BokehJS is being loaded, scheduling callback at\", now());\n      return null;\n    }\n    if (js_urls == null || js_urls.length === 0) {\n      run_callbacks();\n      return null;\n    }\n    console.debug(\"Bokeh: BokehJS not loaded, scheduling load and callback at\", now());\n    root._bokeh_is_loading = css_urls.length + js_urls.length;\n\n    function on_load() {\n      root._bokeh_is_loading--;\n      if (root._bokeh_is_loading === 0) {\n        console.debug(\"Bokeh: all BokehJS libraries/stylesheets loaded\");\n        run_callbacks()\n      }\n    }\n\n    function on_error() {\n      console.error(\"failed to load \" + url);\n    }\n\n    for (var i = 0; i < css_urls.length; i++) {\n      var url = css_urls[i];\n      const element = document.createElement(\"link\");\n      element.onload = on_load;\n      element.onerror = on_error;\n      element.rel = \"stylesheet\";\n      element.type = \"text/css\";\n      element.href = url;\n      console.debug(\"Bokeh: injecting link tag for BokehJS stylesheet: \", url);\n      document.body.appendChild(element);\n    }\n\n    for (var i = 0; i < js_urls.length; i++) {\n      var url = js_urls[i];\n      var element = document.createElement('script');\n      element.onload = on_load;\n      element.onerror = on_error;\n      element.async = false;\n      element.src = url;\n      console.debug(\"Bokeh: injecting script tag for BokehJS library: \", url);\n      document.head.appendChild(element);\n    }\n  };\n\n  function inject_raw_css(css) {\n    const element = document.createElement(\"style\");\n    element.appendChild(document.createTextNode(css));\n    document.body.appendChild(element);\n  }\n\n  var js_urls = [\"https://cdn.pydata.org/bokeh/release/bokeh-1.3.4.min.js\", \"https://cdn.pydata.org/bokeh/release/bokeh-widgets-1.3.4.min.js\", \"https://cdn.pydata.org/bokeh/release/bokeh-tables-1.3.4.min.js\", \"https://cdn.pydata.org/bokeh/release/bokeh-gl-1.3.4.min.js\"];\n  var css_urls = [];\n\n  var inline_js = [\n    function(Bokeh) {\n      Bokeh.set_log_level(\"info\");\n    },\n    \n    function(Bokeh) {\n      \n    },\n    function(Bokeh) {} // ensure no trailing comma for IE\n  ];\n\n  function run_inline_js() {\n    \n    if ((root.Bokeh !== undefined) || (force === true)) {\n      for (var i = 0; i < inline_js.length; i++) {\n        inline_js[i].call(root, root.Bokeh);\n      }} else if (Date.now() < root._bokeh_timeout) {\n      setTimeout(run_inline_js, 100);\n    } else if (!root._bokeh_failed_load) {\n      console.log(\"Bokeh: BokehJS failed to load within specified timeout.\");\n      root._bokeh_failed_load = true;\n    } else if (force !== true) {\n      var cell = $(document.getElementById(null)).parents('.cell').data().cell;\n      cell.output_area.append_execute_result(NB_LOAD_WARNING)\n    }\n\n  }\n\n  if (root._bokeh_is_loading === 0) {\n    console.debug(\"Bokeh: BokehJS loaded, going straight to plotting\");\n    run_inline_js();\n  } else {\n    load_libs(css_urls, js_urls, function() {\n      console.debug(\"Bokeh: BokehJS plotting callback run at\", now());\n      run_inline_js();\n    });\n  }\n}(window));"
     },
     "metadata": {},
     "output_type": "display_data"
    },
    {
     "data": {
      "text/html": [
       "\n",
       "\n",
       "\n",
       "\n",
       "\n",
       "\n",
       "  <div class=\"bk-root\" id=\"3a19d9e9-26f6-47b8-8d0c-fccd31df51ee\" data-root-id=\"1227\"></div>\n"
      ]
     },
     "metadata": {},
     "output_type": "display_data"
    },
    {
     "data": {
      "application/javascript": [
       "(function(root) {\n",
       "  function embed_document(root) {\n",
       "    \n",
       "  var docs_json = {\"632c857c-a910-4208-bb53-db0bd468a4ee\":{\"roots\":{\"references\":[{\"attributes\":{\"below\":[{\"id\":\"1236\",\"type\":\"LinearAxis\"}],\"center\":[{\"id\":\"1240\",\"type\":\"Grid\"},{\"id\":\"1245\",\"type\":\"Grid\"},{\"id\":\"1275\",\"type\":\"Legend\"}],\"left\":[{\"id\":\"1241\",\"type\":\"LinearAxis\"}],\"plot_height\":450,\"plot_width\":750,\"renderers\":[{\"id\":\"1266\",\"type\":\"GlyphRenderer\"}],\"title\":{\"id\":\"1259\",\"type\":\"Title\"},\"toolbar\":{\"id\":\"1252\",\"type\":\"Toolbar\"},\"x_range\":{\"id\":\"1228\",\"type\":\"DataRange1d\"},\"x_scale\":{\"id\":\"1232\",\"type\":\"LinearScale\"},\"y_range\":{\"id\":\"1230\",\"type\":\"DataRange1d\"},\"y_scale\":{\"id\":\"1234\",\"type\":\"LinearScale\"}},\"id\":\"1227\",\"subtype\":\"Figure\",\"type\":\"Plot\"},{\"attributes\":{\"items\":[{\"id\":\"1276\",\"type\":\"LegendItem\"}]},\"id\":\"1275\",\"type\":\"Legend\"},{\"attributes\":{\"ticker\":{\"id\":\"1237\",\"type\":\"BasicTicker\"}},\"id\":\"1240\",\"type\":\"Grid\"},{\"attributes\":{\"label\":{\"field\":\"labels\"},\"renderers\":[{\"id\":\"1266\",\"type\":\"GlyphRenderer\"}]},\"id\":\"1276\",\"type\":\"LegendItem\"},{\"attributes\":{},\"id\":\"1285\",\"type\":\"Selection\"},{\"attributes\":{},\"id\":\"1234\",\"type\":\"LinearScale\"},{\"attributes\":{\"overlay\":{\"id\":\"1274\",\"type\":\"BoxAnnotation\"}},\"id\":\"1248\",\"type\":\"BoxZoomTool\"},{\"attributes\":{},\"id\":\"1249\",\"type\":\"SaveTool\"},{\"attributes\":{},\"id\":\"1250\",\"type\":\"ResetTool\"},{\"attributes\":{\"line_alpha\":{\"value\":0.1},\"line_color\":{\"value\":\"#1f77b4\"},\"line_width\":{\"value\":2},\"xs\":{\"field\":\"xs\"},\"ys\":{\"field\":\"ys\"}},\"id\":\"1265\",\"type\":\"MultiLine\"},{\"attributes\":{\"formatter\":{\"id\":\"1271\",\"type\":\"BasicTickFormatter\"},\"ticker\":{\"id\":\"1242\",\"type\":\"BasicTicker\"}},\"id\":\"1241\",\"type\":\"LinearAxis\"},{\"attributes\":{},\"id\":\"1251\",\"type\":\"HelpTool\"},{\"attributes\":{\"align\":\"center\",\"text\":\"Word2vec filter Silhouette index\",\"text_font_size\":{\"value\":\"20px\"}},\"id\":\"1259\",\"type\":\"Title\"},{\"attributes\":{},\"id\":\"1284\",\"type\":\"UnionRenderers\"},{\"attributes\":{\"formatter\":{\"id\":\"1273\",\"type\":\"BasicTickFormatter\"},\"ticker\":{\"id\":\"1237\",\"type\":\"BasicTicker\"}},\"id\":\"1236\",\"type\":\"LinearAxis\"},{\"attributes\":{\"active_drag\":\"auto\",\"active_inspect\":\"auto\",\"active_multi\":null,\"active_scroll\":\"auto\",\"active_tap\":\"auto\",\"tools\":[{\"id\":\"1246\",\"type\":\"PanTool\"},{\"id\":\"1247\",\"type\":\"WheelZoomTool\"},{\"id\":\"1248\",\"type\":\"BoxZoomTool\"},{\"id\":\"1249\",\"type\":\"SaveTool\"},{\"id\":\"1250\",\"type\":\"ResetTool\"},{\"id\":\"1251\",\"type\":\"HelpTool\"}]},\"id\":\"1252\",\"type\":\"Toolbar\"},{\"attributes\":{},\"id\":\"1246\",\"type\":\"PanTool\"},{\"attributes\":{\"dimension\":1,\"ticker\":{\"id\":\"1242\",\"type\":\"BasicTicker\"}},\"id\":\"1245\",\"type\":\"Grid\"},{\"attributes\":{},\"id\":\"1232\",\"type\":\"LinearScale\"},{\"attributes\":{},\"id\":\"1237\",\"type\":\"BasicTicker\"},{\"attributes\":{},\"id\":\"1242\",\"type\":\"BasicTicker\"},{\"attributes\":{\"data_source\":{\"id\":\"1262\",\"type\":\"ColumnDataSource\"},\"glyph\":{\"id\":\"1264\",\"type\":\"MultiLine\"},\"hover_glyph\":null,\"muted_glyph\":null,\"nonselection_glyph\":{\"id\":\"1265\",\"type\":\"MultiLine\"},\"selection_glyph\":null,\"view\":{\"id\":\"1267\",\"type\":\"CDSView\"}},\"id\":\"1266\",\"type\":\"GlyphRenderer\"},{\"attributes\":{\"line_color\":{\"field\":\"color\"},\"line_width\":{\"value\":2},\"xs\":{\"field\":\"xs\"},\"ys\":{\"field\":\"ys\"}},\"id\":\"1264\",\"type\":\"MultiLine\"},{\"attributes\":{\"bottom_units\":\"screen\",\"fill_alpha\":{\"value\":0.5},\"fill_color\":{\"value\":\"lightgrey\"},\"left_units\":\"screen\",\"level\":\"overlay\",\"line_alpha\":{\"value\":1.0},\"line_color\":{\"value\":\"black\"},\"line_dash\":[4,4],\"line_width\":{\"value\":2},\"render_mode\":\"css\",\"right_units\":\"screen\",\"top_units\":\"screen\"},\"id\":\"1274\",\"type\":\"BoxAnnotation\"},{\"attributes\":{},\"id\":\"1271\",\"type\":\"BasicTickFormatter\"},{\"attributes\":{\"callback\":null,\"data\":{\"color\":[\"red\",\"blue\"],\"labels\":[\"Average\",\"Complete\"],\"xs\":[[10,11,12,13,14,15,16,17,18,19,20,21,22,23,24,25,26,27,28,29,30,31,32,33,34,35,36,37,38,39,40,41,42,43,44,45,46,47,48,49,50],[10,11,12,13,14,15,16,17,18,19,20,21,22,23,24,25,26,27,28,29,30,31,32,33,34,35,36,37,38,39,40,41,42,43,44,45,46,47,48,49,50]],\"ys\":[[-0.0001624834717542199,-0.01115355841717369,-0.012002440179446584,-0.01200681003341384,-0.011217260940379009,-0.010667959125380287,-0.00924155869191496,-0.010514263471202132,-0.00944513178332001,-0.009427336545872404,-0.008797917319442903,-0.008025608510258617,-0.00719682719330012,-0.00811842164465225,-0.007935676913094358,-0.007541086906739512,-0.007411162966905302,-0.007070016765473228,-0.007141499961409539,-0.00641318005686008,-0.0065795189169613735,-0.006058895821255795,-0.005531541362239638,-0.005759924882020247,-0.005313872203054361,-0.004743850397977014,-0.004124944530978305,-0.0038223113187257273,-0.003335603892696331,-0.003108341995165161,-0.0029675625079743323,-0.004405253040610093,-0.005381969545061081,-0.00519373497624233,-0.005040106675596332,-0.004969898672172316,-0.004798350555808312,-0.004505502760369963,-0.004332482799890547,-0.004588073447718982,-0.004313342290057344],[0.004310519090186186,0.003651183525571194,0.003148183933004246,0.0032839009883127474,0.0028019942480312803,0.004651722623608234,0.006919046344416747,0.005684436494482542,0.0049206215416286595,0.0037618425258419148,0.0031311918450178957,0.002671023664779626,-0.0017989949395897692,-7.752080248771167e-05,-0.00026368521141441315,-0.0005963435727373796,-0.0010364612174351075,-0.0013062939987928633,-0.0015388872650079193,-0.0011905407002996255,-0.0024548925536284328,-0.001871147590389474,-0.0024687890672597883,-0.002572185811027932,-0.0027174839110045298,-0.0030662470069349104,-0.00344312723791323,-0.00346575970472685,-0.003556841487783347,-0.003603613304445976,-0.0037225767807046325,-0.0042672113691403545,-0.004525617165913024,-0.0045890644105869675,-0.005042835875596052,-0.005070992309470666,-0.006466858376411307,-0.00755864082822958,-0.010121136652438217,-0.010372704835958368,-0.010805647587154795]]},\"selected\":{\"id\":\"1285\",\"type\":\"Selection\"},\"selection_policy\":{\"id\":\"1284\",\"type\":\"UnionRenderers\"}},\"id\":\"1262\",\"type\":\"ColumnDataSource\"},{\"attributes\":{},\"id\":\"1247\",\"type\":\"WheelZoomTool\"},{\"attributes\":{\"source\":{\"id\":\"1262\",\"type\":\"ColumnDataSource\"}},\"id\":\"1267\",\"type\":\"CDSView\"},{\"attributes\":{\"callback\":null},\"id\":\"1230\",\"type\":\"DataRange1d\"},{\"attributes\":{\"callback\":null},\"id\":\"1228\",\"type\":\"DataRange1d\"},{\"attributes\":{},\"id\":\"1273\",\"type\":\"BasicTickFormatter\"}],\"root_ids\":[\"1227\"]},\"title\":\"Bokeh Application\",\"version\":\"1.3.4\"}};\n",
       "  var render_items = [{\"docid\":\"632c857c-a910-4208-bb53-db0bd468a4ee\",\"roots\":{\"1227\":\"3a19d9e9-26f6-47b8-8d0c-fccd31df51ee\"}}];\n",
       "  root.Bokeh.embed.embed_items_notebook(docs_json, render_items);\n",
       "\n",
       "  }\n",
       "  if (root.Bokeh !== undefined) {\n",
       "    embed_document(root);\n",
       "  } else {\n",
       "    var attempts = 0;\n",
       "    var timer = setInterval(function(root) {\n",
       "      if (root.Bokeh !== undefined) {\n",
       "        embed_document(root);\n",
       "        clearInterval(timer);\n",
       "      }\n",
       "      attempts++;\n",
       "      if (attempts > 100) {\n",
       "        console.log(\"Bokeh: ERROR: Unable to run BokehJS code because BokehJS library is missing\");\n",
       "        clearInterval(timer);\n",
       "      }\n",
       "    }, 10, root)\n",
       "  }\n",
       "})(window);"
      ],
      "application/vnd.bokehjs_exec.v0+json": ""
     },
     "metadata": {
      "application/vnd.bokehjs_exec.v0+json": {
       "id": "1227"
      }
     },
     "output_type": "display_data"
    }
   ],
   "source": [
    "h_plot_evaluation(title=\"Word2vec filter Silhouette index\", metric=silhouette_w2v2[0], c=c, label1=\"Average\",\n",
    "                  metric2=silhouette_w2v2[1], label2=\"Complete\", pos_legend=\"top_right\")"
   ]
  },
  {
   "cell_type": "markdown",
   "metadata": {},
   "source": [
    "<font size=3>\n",
    "    \n",
    "I risuiltati non sono a livello dei migliori modelli, il range di valori è molto contenuto fra $[0.01,-0.02]$, non c'è una chiara distizione fra i due metodi."
   ]
  },
  {
   "cell_type": "code",
   "execution_count": 49,
   "metadata": {},
   "outputs": [
    {
     "data": {
      "application/javascript": [
       "\n",
       "(function(root) {\n",
       "  function now() {\n",
       "    return new Date();\n",
       "  }\n",
       "\n",
       "  var force = true;\n",
       "\n",
       "  if (typeof root._bokeh_onload_callbacks === \"undefined\" || force === true) {\n",
       "    root._bokeh_onload_callbacks = [];\n",
       "    root._bokeh_is_loading = undefined;\n",
       "  }\n",
       "\n",
       "  var JS_MIME_TYPE = 'application/javascript';\n",
       "  var HTML_MIME_TYPE = 'text/html';\n",
       "  var EXEC_MIME_TYPE = 'application/vnd.bokehjs_exec.v0+json';\n",
       "  var CLASS_NAME = 'output_bokeh rendered_html';\n",
       "\n",
       "  /**\n",
       "   * Render data to the DOM node\n",
       "   */\n",
       "  function render(props, node) {\n",
       "    var script = document.createElement(\"script\");\n",
       "    node.appendChild(script);\n",
       "  }\n",
       "\n",
       "  /**\n",
       "   * Handle when an output is cleared or removed\n",
       "   */\n",
       "  function handleClearOutput(event, handle) {\n",
       "    var cell = handle.cell;\n",
       "\n",
       "    var id = cell.output_area._bokeh_element_id;\n",
       "    var server_id = cell.output_area._bokeh_server_id;\n",
       "    // Clean up Bokeh references\n",
       "    if (id != null && id in Bokeh.index) {\n",
       "      Bokeh.index[id].model.document.clear();\n",
       "      delete Bokeh.index[id];\n",
       "    }\n",
       "\n",
       "    if (server_id !== undefined) {\n",
       "      // Clean up Bokeh references\n",
       "      var cmd = \"from bokeh.io.state import curstate; print(curstate().uuid_to_server['\" + server_id + \"'].get_sessions()[0].document.roots[0]._id)\";\n",
       "      cell.notebook.kernel.execute(cmd, {\n",
       "        iopub: {\n",
       "          output: function(msg) {\n",
       "            var id = msg.content.text.trim();\n",
       "            if (id in Bokeh.index) {\n",
       "              Bokeh.index[id].model.document.clear();\n",
       "              delete Bokeh.index[id];\n",
       "            }\n",
       "          }\n",
       "        }\n",
       "      });\n",
       "      // Destroy server and session\n",
       "      var cmd = \"import bokeh.io.notebook as ion; ion.destroy_server('\" + server_id + \"')\";\n",
       "      cell.notebook.kernel.execute(cmd);\n",
       "    }\n",
       "  }\n",
       "\n",
       "  /**\n",
       "   * Handle when a new output is added\n",
       "   */\n",
       "  function handleAddOutput(event, handle) {\n",
       "    var output_area = handle.output_area;\n",
       "    var output = handle.output;\n",
       "\n",
       "    // limit handleAddOutput to display_data with EXEC_MIME_TYPE content only\n",
       "    if ((output.output_type != \"display_data\") || (!output.data.hasOwnProperty(EXEC_MIME_TYPE))) {\n",
       "      return\n",
       "    }\n",
       "\n",
       "    var toinsert = output_area.element.find(\".\" + CLASS_NAME.split(' ')[0]);\n",
       "\n",
       "    if (output.metadata[EXEC_MIME_TYPE][\"id\"] !== undefined) {\n",
       "      toinsert[toinsert.length - 1].firstChild.textContent = output.data[JS_MIME_TYPE];\n",
       "      // store reference to embed id on output_area\n",
       "      output_area._bokeh_element_id = output.metadata[EXEC_MIME_TYPE][\"id\"];\n",
       "    }\n",
       "    if (output.metadata[EXEC_MIME_TYPE][\"server_id\"] !== undefined) {\n",
       "      var bk_div = document.createElement(\"div\");\n",
       "      bk_div.innerHTML = output.data[HTML_MIME_TYPE];\n",
       "      var script_attrs = bk_div.children[0].attributes;\n",
       "      for (var i = 0; i < script_attrs.length; i++) {\n",
       "        toinsert[toinsert.length - 1].firstChild.setAttribute(script_attrs[i].name, script_attrs[i].value);\n",
       "      }\n",
       "      // store reference to server id on output_area\n",
       "      output_area._bokeh_server_id = output.metadata[EXEC_MIME_TYPE][\"server_id\"];\n",
       "    }\n",
       "  }\n",
       "\n",
       "  function register_renderer(events, OutputArea) {\n",
       "\n",
       "    function append_mime(data, metadata, element) {\n",
       "      // create a DOM node to render to\n",
       "      var toinsert = this.create_output_subarea(\n",
       "        metadata,\n",
       "        CLASS_NAME,\n",
       "        EXEC_MIME_TYPE\n",
       "      );\n",
       "      this.keyboard_manager.register_events(toinsert);\n",
       "      // Render to node\n",
       "      var props = {data: data, metadata: metadata[EXEC_MIME_TYPE]};\n",
       "      render(props, toinsert[toinsert.length - 1]);\n",
       "      element.append(toinsert);\n",
       "      return toinsert\n",
       "    }\n",
       "\n",
       "    /* Handle when an output is cleared or removed */\n",
       "    events.on('clear_output.CodeCell', handleClearOutput);\n",
       "    events.on('delete.Cell', handleClearOutput);\n",
       "\n",
       "    /* Handle when a new output is added */\n",
       "    events.on('output_added.OutputArea', handleAddOutput);\n",
       "\n",
       "    /**\n",
       "     * Register the mime type and append_mime function with output_area\n",
       "     */\n",
       "    OutputArea.prototype.register_mime_type(EXEC_MIME_TYPE, append_mime, {\n",
       "      /* Is output safe? */\n",
       "      safe: true,\n",
       "      /* Index of renderer in `output_area.display_order` */\n",
       "      index: 0\n",
       "    });\n",
       "  }\n",
       "\n",
       "  // register the mime type if in Jupyter Notebook environment and previously unregistered\n",
       "  if (root.Jupyter !== undefined) {\n",
       "    var events = require('base/js/events');\n",
       "    var OutputArea = require('notebook/js/outputarea').OutputArea;\n",
       "\n",
       "    if (OutputArea.prototype.mime_types().indexOf(EXEC_MIME_TYPE) == -1) {\n",
       "      register_renderer(events, OutputArea);\n",
       "    }\n",
       "  }\n",
       "\n",
       "  \n",
       "  if (typeof (root._bokeh_timeout) === \"undefined\" || force === true) {\n",
       "    root._bokeh_timeout = Date.now() + 5000;\n",
       "    root._bokeh_failed_load = false;\n",
       "  }\n",
       "\n",
       "  var NB_LOAD_WARNING = {'data': {'text/html':\n",
       "     \"<div style='background-color: #fdd'>\\n\"+\n",
       "     \"<p>\\n\"+\n",
       "     \"BokehJS does not appear to have successfully loaded. If loading BokehJS from CDN, this \\n\"+\n",
       "     \"may be due to a slow or bad network connection. Possible fixes:\\n\"+\n",
       "     \"</p>\\n\"+\n",
       "     \"<ul>\\n\"+\n",
       "     \"<li>re-rerun `output_notebook()` to attempt to load from CDN again, or</li>\\n\"+\n",
       "     \"<li>use INLINE resources instead, as so:</li>\\n\"+\n",
       "     \"</ul>\\n\"+\n",
       "     \"<code>\\n\"+\n",
       "     \"from bokeh.resources import INLINE\\n\"+\n",
       "     \"output_notebook(resources=INLINE)\\n\"+\n",
       "     \"</code>\\n\"+\n",
       "     \"</div>\"}};\n",
       "\n",
       "  function display_loaded() {\n",
       "    var el = document.getElementById(null);\n",
       "    if (el != null) {\n",
       "      el.textContent = \"BokehJS is loading...\";\n",
       "    }\n",
       "    if (root.Bokeh !== undefined) {\n",
       "      if (el != null) {\n",
       "        el.textContent = \"BokehJS \" + root.Bokeh.version + \" successfully loaded.\";\n",
       "      }\n",
       "    } else if (Date.now() < root._bokeh_timeout) {\n",
       "      setTimeout(display_loaded, 100)\n",
       "    }\n",
       "  }\n",
       "\n",
       "\n",
       "  function run_callbacks() {\n",
       "    try {\n",
       "      root._bokeh_onload_callbacks.forEach(function(callback) {\n",
       "        if (callback != null)\n",
       "          callback();\n",
       "      });\n",
       "    } finally {\n",
       "      delete root._bokeh_onload_callbacks\n",
       "    }\n",
       "    console.debug(\"Bokeh: all callbacks have finished\");\n",
       "  }\n",
       "\n",
       "  function load_libs(css_urls, js_urls, callback) {\n",
       "    if (css_urls == null) css_urls = [];\n",
       "    if (js_urls == null) js_urls = [];\n",
       "\n",
       "    root._bokeh_onload_callbacks.push(callback);\n",
       "    if (root._bokeh_is_loading > 0) {\n",
       "      console.debug(\"Bokeh: BokehJS is being loaded, scheduling callback at\", now());\n",
       "      return null;\n",
       "    }\n",
       "    if (js_urls == null || js_urls.length === 0) {\n",
       "      run_callbacks();\n",
       "      return null;\n",
       "    }\n",
       "    console.debug(\"Bokeh: BokehJS not loaded, scheduling load and callback at\", now());\n",
       "    root._bokeh_is_loading = css_urls.length + js_urls.length;\n",
       "\n",
       "    function on_load() {\n",
       "      root._bokeh_is_loading--;\n",
       "      if (root._bokeh_is_loading === 0) {\n",
       "        console.debug(\"Bokeh: all BokehJS libraries/stylesheets loaded\");\n",
       "        run_callbacks()\n",
       "      }\n",
       "    }\n",
       "\n",
       "    function on_error() {\n",
       "      console.error(\"failed to load \" + url);\n",
       "    }\n",
       "\n",
       "    for (var i = 0; i < css_urls.length; i++) {\n",
       "      var url = css_urls[i];\n",
       "      const element = document.createElement(\"link\");\n",
       "      element.onload = on_load;\n",
       "      element.onerror = on_error;\n",
       "      element.rel = \"stylesheet\";\n",
       "      element.type = \"text/css\";\n",
       "      element.href = url;\n",
       "      console.debug(\"Bokeh: injecting link tag for BokehJS stylesheet: \", url);\n",
       "      document.body.appendChild(element);\n",
       "    }\n",
       "\n",
       "    for (var i = 0; i < js_urls.length; i++) {\n",
       "      var url = js_urls[i];\n",
       "      var element = document.createElement('script');\n",
       "      element.onload = on_load;\n",
       "      element.onerror = on_error;\n",
       "      element.async = false;\n",
       "      element.src = url;\n",
       "      console.debug(\"Bokeh: injecting script tag for BokehJS library: \", url);\n",
       "      document.head.appendChild(element);\n",
       "    }\n",
       "  };\n",
       "\n",
       "  function inject_raw_css(css) {\n",
       "    const element = document.createElement(\"style\");\n",
       "    element.appendChild(document.createTextNode(css));\n",
       "    document.body.appendChild(element);\n",
       "  }\n",
       "\n",
       "  var js_urls = [\"https://cdn.pydata.org/bokeh/release/bokeh-1.3.4.min.js\", \"https://cdn.pydata.org/bokeh/release/bokeh-widgets-1.3.4.min.js\", \"https://cdn.pydata.org/bokeh/release/bokeh-tables-1.3.4.min.js\", \"https://cdn.pydata.org/bokeh/release/bokeh-gl-1.3.4.min.js\"];\n",
       "  var css_urls = [];\n",
       "\n",
       "  var inline_js = [\n",
       "    function(Bokeh) {\n",
       "      Bokeh.set_log_level(\"info\");\n",
       "    },\n",
       "    \n",
       "    function(Bokeh) {\n",
       "      \n",
       "    },\n",
       "    function(Bokeh) {} // ensure no trailing comma for IE\n",
       "  ];\n",
       "\n",
       "  function run_inline_js() {\n",
       "    \n",
       "    if ((root.Bokeh !== undefined) || (force === true)) {\n",
       "      for (var i = 0; i < inline_js.length; i++) {\n",
       "        inline_js[i].call(root, root.Bokeh);\n",
       "      }} else if (Date.now() < root._bokeh_timeout) {\n",
       "      setTimeout(run_inline_js, 100);\n",
       "    } else if (!root._bokeh_failed_load) {\n",
       "      console.log(\"Bokeh: BokehJS failed to load within specified timeout.\");\n",
       "      root._bokeh_failed_load = true;\n",
       "    } else if (force !== true) {\n",
       "      var cell = $(document.getElementById(null)).parents('.cell').data().cell;\n",
       "      cell.output_area.append_execute_result(NB_LOAD_WARNING)\n",
       "    }\n",
       "\n",
       "  }\n",
       "\n",
       "  if (root._bokeh_is_loading === 0) {\n",
       "    console.debug(\"Bokeh: BokehJS loaded, going straight to plotting\");\n",
       "    run_inline_js();\n",
       "  } else {\n",
       "    load_libs(css_urls, js_urls, function() {\n",
       "      console.debug(\"Bokeh: BokehJS plotting callback run at\", now());\n",
       "      run_inline_js();\n",
       "    });\n",
       "  }\n",
       "}(window));"
      ],
      "application/vnd.bokehjs_load.v0+json": "\n(function(root) {\n  function now() {\n    return new Date();\n  }\n\n  var force = true;\n\n  if (typeof root._bokeh_onload_callbacks === \"undefined\" || force === true) {\n    root._bokeh_onload_callbacks = [];\n    root._bokeh_is_loading = undefined;\n  }\n\n  \n\n  \n  if (typeof (root._bokeh_timeout) === \"undefined\" || force === true) {\n    root._bokeh_timeout = Date.now() + 5000;\n    root._bokeh_failed_load = false;\n  }\n\n  var NB_LOAD_WARNING = {'data': {'text/html':\n     \"<div style='background-color: #fdd'>\\n\"+\n     \"<p>\\n\"+\n     \"BokehJS does not appear to have successfully loaded. If loading BokehJS from CDN, this \\n\"+\n     \"may be due to a slow or bad network connection. Possible fixes:\\n\"+\n     \"</p>\\n\"+\n     \"<ul>\\n\"+\n     \"<li>re-rerun `output_notebook()` to attempt to load from CDN again, or</li>\\n\"+\n     \"<li>use INLINE resources instead, as so:</li>\\n\"+\n     \"</ul>\\n\"+\n     \"<code>\\n\"+\n     \"from bokeh.resources import INLINE\\n\"+\n     \"output_notebook(resources=INLINE)\\n\"+\n     \"</code>\\n\"+\n     \"</div>\"}};\n\n  function display_loaded() {\n    var el = document.getElementById(null);\n    if (el != null) {\n      el.textContent = \"BokehJS is loading...\";\n    }\n    if (root.Bokeh !== undefined) {\n      if (el != null) {\n        el.textContent = \"BokehJS \" + root.Bokeh.version + \" successfully loaded.\";\n      }\n    } else if (Date.now() < root._bokeh_timeout) {\n      setTimeout(display_loaded, 100)\n    }\n  }\n\n\n  function run_callbacks() {\n    try {\n      root._bokeh_onload_callbacks.forEach(function(callback) {\n        if (callback != null)\n          callback();\n      });\n    } finally {\n      delete root._bokeh_onload_callbacks\n    }\n    console.debug(\"Bokeh: all callbacks have finished\");\n  }\n\n  function load_libs(css_urls, js_urls, callback) {\n    if (css_urls == null) css_urls = [];\n    if (js_urls == null) js_urls = [];\n\n    root._bokeh_onload_callbacks.push(callback);\n    if (root._bokeh_is_loading > 0) {\n      console.debug(\"Bokeh: BokehJS is being loaded, scheduling callback at\", now());\n      return null;\n    }\n    if (js_urls == null || js_urls.length === 0) {\n      run_callbacks();\n      return null;\n    }\n    console.debug(\"Bokeh: BokehJS not loaded, scheduling load and callback at\", now());\n    root._bokeh_is_loading = css_urls.length + js_urls.length;\n\n    function on_load() {\n      root._bokeh_is_loading--;\n      if (root._bokeh_is_loading === 0) {\n        console.debug(\"Bokeh: all BokehJS libraries/stylesheets loaded\");\n        run_callbacks()\n      }\n    }\n\n    function on_error() {\n      console.error(\"failed to load \" + url);\n    }\n\n    for (var i = 0; i < css_urls.length; i++) {\n      var url = css_urls[i];\n      const element = document.createElement(\"link\");\n      element.onload = on_load;\n      element.onerror = on_error;\n      element.rel = \"stylesheet\";\n      element.type = \"text/css\";\n      element.href = url;\n      console.debug(\"Bokeh: injecting link tag for BokehJS stylesheet: \", url);\n      document.body.appendChild(element);\n    }\n\n    for (var i = 0; i < js_urls.length; i++) {\n      var url = js_urls[i];\n      var element = document.createElement('script');\n      element.onload = on_load;\n      element.onerror = on_error;\n      element.async = false;\n      element.src = url;\n      console.debug(\"Bokeh: injecting script tag for BokehJS library: \", url);\n      document.head.appendChild(element);\n    }\n  };\n\n  function inject_raw_css(css) {\n    const element = document.createElement(\"style\");\n    element.appendChild(document.createTextNode(css));\n    document.body.appendChild(element);\n  }\n\n  var js_urls = [\"https://cdn.pydata.org/bokeh/release/bokeh-1.3.4.min.js\", \"https://cdn.pydata.org/bokeh/release/bokeh-widgets-1.3.4.min.js\", \"https://cdn.pydata.org/bokeh/release/bokeh-tables-1.3.4.min.js\", \"https://cdn.pydata.org/bokeh/release/bokeh-gl-1.3.4.min.js\"];\n  var css_urls = [];\n\n  var inline_js = [\n    function(Bokeh) {\n      Bokeh.set_log_level(\"info\");\n    },\n    \n    function(Bokeh) {\n      \n    },\n    function(Bokeh) {} // ensure no trailing comma for IE\n  ];\n\n  function run_inline_js() {\n    \n    if ((root.Bokeh !== undefined) || (force === true)) {\n      for (var i = 0; i < inline_js.length; i++) {\n        inline_js[i].call(root, root.Bokeh);\n      }} else if (Date.now() < root._bokeh_timeout) {\n      setTimeout(run_inline_js, 100);\n    } else if (!root._bokeh_failed_load) {\n      console.log(\"Bokeh: BokehJS failed to load within specified timeout.\");\n      root._bokeh_failed_load = true;\n    } else if (force !== true) {\n      var cell = $(document.getElementById(null)).parents('.cell').data().cell;\n      cell.output_area.append_execute_result(NB_LOAD_WARNING)\n    }\n\n  }\n\n  if (root._bokeh_is_loading === 0) {\n    console.debug(\"Bokeh: BokehJS loaded, going straight to plotting\");\n    run_inline_js();\n  } else {\n    load_libs(css_urls, js_urls, function() {\n      console.debug(\"Bokeh: BokehJS plotting callback run at\", now());\n      run_inline_js();\n    });\n  }\n}(window));"
     },
     "metadata": {},
     "output_type": "display_data"
    },
    {
     "data": {
      "text/html": [
       "\n",
       "\n",
       "\n",
       "\n",
       "\n",
       "\n",
       "  <div class=\"bk-root\" id=\"ce34bd6c-0847-4fd1-8dd8-5d85bcc01b19\" data-root-id=\"1340\"></div>\n"
      ]
     },
     "metadata": {},
     "output_type": "display_data"
    },
    {
     "data": {
      "application/javascript": [
       "(function(root) {\n",
       "  function embed_document(root) {\n",
       "    \n",
       "  var docs_json = {\"89579678-a1a3-493c-99ac-ba95595b9c1d\":{\"roots\":{\"references\":[{\"attributes\":{\"below\":[{\"id\":\"1349\",\"type\":\"LinearAxis\"}],\"center\":[{\"id\":\"1353\",\"type\":\"Grid\"},{\"id\":\"1358\",\"type\":\"Grid\"},{\"id\":\"1388\",\"type\":\"Legend\"}],\"left\":[{\"id\":\"1354\",\"type\":\"LinearAxis\"}],\"plot_height\":450,\"plot_width\":750,\"renderers\":[{\"id\":\"1379\",\"type\":\"GlyphRenderer\"}],\"title\":{\"id\":\"1372\",\"type\":\"Title\"},\"toolbar\":{\"id\":\"1365\",\"type\":\"Toolbar\"},\"x_range\":{\"id\":\"1341\",\"type\":\"DataRange1d\"},\"x_scale\":{\"id\":\"1345\",\"type\":\"LinearScale\"},\"y_range\":{\"id\":\"1343\",\"type\":\"DataRange1d\"},\"y_scale\":{\"id\":\"1347\",\"type\":\"LinearScale\"}},\"id\":\"1340\",\"subtype\":\"Figure\",\"type\":\"Plot\"},{\"attributes\":{\"line_alpha\":{\"value\":0.1},\"line_color\":{\"value\":\"#1f77b4\"},\"line_width\":{\"value\":2},\"xs\":{\"field\":\"xs\"},\"ys\":{\"field\":\"ys\"}},\"id\":\"1378\",\"type\":\"MultiLine\"},{\"attributes\":{\"callback\":null,\"data\":{\"color\":[\"red\",\"blue\"],\"labels\":[\"Average\",\"Complete\"],\"xs\":[[10,11,12,13,14,15,16,17,18,19,20,21,22,23,24,25,26,27,28,29,30,31,32,33,34,35,36,37,38,39,40,41,42,43,44,45,46,47,48,49,50],[10,11,12,13,14,15,16,17,18,19,20,21,22,23,24,25,26,27,28,29,30,31,32,33,34,35,36,37,38,39,40,41,42,43,44,45,46,47,48,49,50]],\"ys\":[[291.319772510038,294.6214451394898,279.16364371767764,257.24733439732904,243.7654945675202,229.48436819462592,219.18199836697536,210.27455682930324,201.33114385284145,191.1762409268489,184.0703097731083,177.22628566396014,176.3459925393956,177.20315941272213,170.31678295336607,165.24738118438853,160.352021885217,155.59938866388524,152.61473739581294,149.51729818447893,144.76517818946323,140.84706812410133,137.25389406404844,134.18212181107933,132.0183353599416,130.24000416265056,127.26052326446037,125.18471724638431,123.2097608601189,120.5510614898411,117.82867501461953,117.30854692659784,116.71437573101494,114.27842267375105,112.7002235713012,110.83366186226817,110.09306703112681,108.77816200189339,106.64392690748312,104.95650136352455,103.59701744411358],[125.10944742779928,127.05066540575773,123.49724657228377,114.47271133812333,107.97764880936954,114.92604247703379,122.03504919308611,115.56117097012502,109.81460490643579,103.8476714291122,98.91413068469376,94.87803581984187,90.41808937461695,96.67672652844527,93.46716954433293,90.43734389424979,87.34519566491075,84.12776925837578,81.4126278646024,78.81489545454002,76.41388720110795,78.4068459604305,76.16177681205727,73.85269525727057,72.46664864976823,70.87778029740205,69.2586650623736,67.53813025091804,65.9575384556923,64.6048096359298,63.079954886586755,61.569044009572835,60.11376310167429,58.92367141963642,57.64906852460874,56.63882772429304,55.676383347979325,54.628435969423094,53.48903811951948,52.79507209417997,51.88280183029594]]},\"selected\":{\"id\":\"1398\",\"type\":\"Selection\"},\"selection_policy\":{\"id\":\"1397\",\"type\":\"UnionRenderers\"}},\"id\":\"1375\",\"type\":\"ColumnDataSource\"},{\"attributes\":{\"ticker\":{\"id\":\"1350\",\"type\":\"BasicTicker\"}},\"id\":\"1353\",\"type\":\"Grid\"},{\"attributes\":{\"overlay\":{\"id\":\"1387\",\"type\":\"BoxAnnotation\"}},\"id\":\"1361\",\"type\":\"BoxZoomTool\"},{\"attributes\":{\"source\":{\"id\":\"1375\",\"type\":\"ColumnDataSource\"}},\"id\":\"1380\",\"type\":\"CDSView\"},{\"attributes\":{},\"id\":\"1363\",\"type\":\"ResetTool\"},{\"attributes\":{},\"id\":\"1362\",\"type\":\"SaveTool\"},{\"attributes\":{},\"id\":\"1364\",\"type\":\"HelpTool\"},{\"attributes\":{\"bottom_units\":\"screen\",\"fill_alpha\":{\"value\":0.5},\"fill_color\":{\"value\":\"lightgrey\"},\"left_units\":\"screen\",\"level\":\"overlay\",\"line_alpha\":{\"value\":1.0},\"line_color\":{\"value\":\"black\"},\"line_dash\":[4,4],\"line_width\":{\"value\":2},\"render_mode\":\"css\",\"right_units\":\"screen\",\"top_units\":\"screen\"},\"id\":\"1387\",\"type\":\"BoxAnnotation\"},{\"attributes\":{},\"id\":\"1360\",\"type\":\"WheelZoomTool\"},{\"attributes\":{},\"id\":\"1384\",\"type\":\"BasicTickFormatter\"},{\"attributes\":{},\"id\":\"1386\",\"type\":\"BasicTickFormatter\"},{\"attributes\":{},\"id\":\"1359\",\"type\":\"PanTool\"},{\"attributes\":{\"callback\":null},\"id\":\"1343\",\"type\":\"DataRange1d\"},{\"attributes\":{\"label\":{\"field\":\"labels\"},\"renderers\":[{\"id\":\"1379\",\"type\":\"GlyphRenderer\"}]},\"id\":\"1389\",\"type\":\"LegendItem\"},{\"attributes\":{},\"id\":\"1350\",\"type\":\"BasicTicker\"},{\"attributes\":{\"items\":[{\"id\":\"1389\",\"type\":\"LegendItem\"}]},\"id\":\"1388\",\"type\":\"Legend\"},{\"attributes\":{\"dimension\":1,\"ticker\":{\"id\":\"1355\",\"type\":\"BasicTicker\"}},\"id\":\"1358\",\"type\":\"Grid\"},{\"attributes\":{\"formatter\":{\"id\":\"1384\",\"type\":\"BasicTickFormatter\"},\"ticker\":{\"id\":\"1355\",\"type\":\"BasicTicker\"}},\"id\":\"1354\",\"type\":\"LinearAxis\"},{\"attributes\":{\"formatter\":{\"id\":\"1386\",\"type\":\"BasicTickFormatter\"},\"ticker\":{\"id\":\"1350\",\"type\":\"BasicTicker\"}},\"id\":\"1349\",\"type\":\"LinearAxis\"},{\"attributes\":{},\"id\":\"1398\",\"type\":\"Selection\"},{\"attributes\":{\"data_source\":{\"id\":\"1375\",\"type\":\"ColumnDataSource\"},\"glyph\":{\"id\":\"1377\",\"type\":\"MultiLine\"},\"hover_glyph\":null,\"muted_glyph\":null,\"nonselection_glyph\":{\"id\":\"1378\",\"type\":\"MultiLine\"},\"selection_glyph\":null,\"view\":{\"id\":\"1380\",\"type\":\"CDSView\"}},\"id\":\"1379\",\"type\":\"GlyphRenderer\"},{\"attributes\":{},\"id\":\"1347\",\"type\":\"LinearScale\"},{\"attributes\":{},\"id\":\"1355\",\"type\":\"BasicTicker\"},{\"attributes\":{},\"id\":\"1397\",\"type\":\"UnionRenderers\"},{\"attributes\":{},\"id\":\"1345\",\"type\":\"LinearScale\"},{\"attributes\":{\"line_color\":{\"field\":\"color\"},\"line_width\":{\"value\":2},\"xs\":{\"field\":\"xs\"},\"ys\":{\"field\":\"ys\"}},\"id\":\"1377\",\"type\":\"MultiLine\"},{\"attributes\":{\"active_drag\":\"auto\",\"active_inspect\":\"auto\",\"active_multi\":null,\"active_scroll\":\"auto\",\"active_tap\":\"auto\",\"tools\":[{\"id\":\"1359\",\"type\":\"PanTool\"},{\"id\":\"1360\",\"type\":\"WheelZoomTool\"},{\"id\":\"1361\",\"type\":\"BoxZoomTool\"},{\"id\":\"1362\",\"type\":\"SaveTool\"},{\"id\":\"1363\",\"type\":\"ResetTool\"},{\"id\":\"1364\",\"type\":\"HelpTool\"}]},\"id\":\"1365\",\"type\":\"Toolbar\"},{\"attributes\":{\"callback\":null},\"id\":\"1341\",\"type\":\"DataRange1d\"},{\"attributes\":{\"align\":\"center\",\"text\":\"Word2vec filter Calinski-Harabasz score\",\"text_font_size\":{\"value\":\"20px\"}},\"id\":\"1372\",\"type\":\"Title\"}],\"root_ids\":[\"1340\"]},\"title\":\"Bokeh Application\",\"version\":\"1.3.4\"}};\n",
       "  var render_items = [{\"docid\":\"89579678-a1a3-493c-99ac-ba95595b9c1d\",\"roots\":{\"1340\":\"ce34bd6c-0847-4fd1-8dd8-5d85bcc01b19\"}}];\n",
       "  root.Bokeh.embed.embed_items_notebook(docs_json, render_items);\n",
       "\n",
       "  }\n",
       "  if (root.Bokeh !== undefined) {\n",
       "    embed_document(root);\n",
       "  } else {\n",
       "    var attempts = 0;\n",
       "    var timer = setInterval(function(root) {\n",
       "      if (root.Bokeh !== undefined) {\n",
       "        embed_document(root);\n",
       "        clearInterval(timer);\n",
       "      }\n",
       "      attempts++;\n",
       "      if (attempts > 100) {\n",
       "        console.log(\"Bokeh: ERROR: Unable to run BokehJS code because BokehJS library is missing\");\n",
       "        clearInterval(timer);\n",
       "      }\n",
       "    }, 10, root)\n",
       "  }\n",
       "})(window);"
      ],
      "application/vnd.bokehjs_exec.v0+json": ""
     },
     "metadata": {
      "application/vnd.bokehjs_exec.v0+json": {
       "id": "1340"
      }
     },
     "output_type": "display_data"
    }
   ],
   "source": [
    "h_plot_evaluation(title=\"Word2vec filter Calinski-Harabasz score\", metric=CH_w2v2[0], c=c, label1=\"Average\",\n",
    "                  metric2=CH_w2v2[1], label2=\"Complete\", pos_legend=\"top_right\")"
   ]
  },
  {
   "cell_type": "markdown",
   "metadata": {},
   "source": [
    "<font size=3>\n",
    "    \n",
    "Come prima l'indice è descrescente in modo pressoché costante."
   ]
  },
  {
   "cell_type": "markdown",
   "metadata": {},
   "source": [
    "<font size=3>\n",
    "    \n",
    "Gli ultimi modelli saranno creati partendo dalla lista di parole più comuni."
   ]
  },
  {
   "cell_type": "code",
   "execution_count": 50,
   "metadata": {},
   "outputs": [
    {
     "data": {
      "text/plain": [
       "[('movie', 577963),\n",
       " ('film', 442949),\n",
       " ('story', 197627),\n",
       " ('time', 112183),\n",
       " ('character', 86501),\n",
       " ('way', 75376),\n",
       " ('plot', 73817),\n",
       " ('thing', 63447),\n",
       " ('life', 61876),\n",
       " ('scene', 52757)]"
      ]
     },
     "execution_count": 50,
     "metadata": {},
     "output_type": "execute_result"
    }
   ],
   "source": [
    "common_words2 = Counter(nouns_list2).most_common()\n",
    "common_words2[0:10]"
   ]
  },
  {
   "cell_type": "markdown",
   "metadata": {},
   "source": [
    "<font size=3>\n",
    "    \n",
    "Partendo dalla nuova lista delle mille parole più comuni, si controlla se ogni termine ha dei sinonimi identificati dal modello WordNet, in caso affermativo come valore del dizionario viene inserita una lista con tutti i sinonimi. In un'altra lista sono inserite tutte le parole più frequenti eccetto i sinonimi identificati."
   ]
  },
  {
   "cell_type": "code",
   "execution_count": 51,
   "metadata": {},
   "outputs": [],
   "source": [
    "new_w2v_words2 = []\n",
    "filter_w2v2 = []\n",
    "for word in common_words2[0:1000]:\n",
    "    if word[0] in diz_similarity.keys():\n",
    "        for w in diz_similarity[word[0]]:\n",
    "            filter_w2v2.append(w)\n",
    "\n",
    "    if word[0] not in filter_w2v2:\n",
    "        new_w2v_words2.append(word[0])\n",
    "    else:\n",
    "        new_w2v_words2.append('')"
   ]
  },
  {
   "cell_type": "markdown",
   "metadata": {},
   "source": [
    "<font size=3>\n",
    "    \n",
    "Rimuovendo dalla matrice le righe e le colonne corrispondenti alle parole considerate sinonimi e per quelle non nella lista delle mille più frequenti, si ottiene una nuova matrice di dimensioni $835$."
   ]
  },
  {
   "cell_type": "code",
   "execution_count": 52,
   "metadata": {},
   "outputs": [
    {
     "name": "stderr",
     "output_type": "stream",
     "text": [
      "C:\\Users\\Hp\\Anaconda3\\lib\\site-packages\\ipykernel_launcher.py:4: DeprecationWarning: in the future out of bounds indices will raise an error instead of being ignored by `numpy.delete`.\n",
      "  after removing the cwd from sys.path.\n",
      "C:\\Users\\Hp\\Anaconda3\\lib\\site-packages\\ipykernel_launcher.py:5: DeprecationWarning: in the future out of bounds indices will raise an error instead of being ignored by `numpy.delete`.\n",
      "  \"\"\"\n"
     ]
    }
   ],
   "source": [
    "idx_w2v2 = [w2v_words.index(word) for word in w2v_words if word not in new_w2v_words2]\n",
    "idx_w2v2.reverse()\n",
    "\n",
    "n_matrix_w2v2 = np.delete(n_matrix_w2v, (idx_w2v2), axis=0)\n",
    "n_matrix_w2v2 = np.delete(n_matrix_w2v2, (idx_w2v2), axis=1)"
   ]
  },
  {
   "cell_type": "code",
   "execution_count": 53,
   "metadata": {},
   "outputs": [
    {
     "data": {
      "text/plain": [
       "(835, 835)"
      ]
     },
     "execution_count": 53,
     "metadata": {},
     "output_type": "execute_result"
    }
   ],
   "source": [
    "n_matrix_w2v2.shape"
   ]
  },
  {
   "cell_type": "markdown",
   "metadata": {},
   "source": [
    "<font size=3>\n",
    "    \n",
    "Si procede con la creazione di modelli con la nuova matrice delle distanze."
   ]
  },
  {
   "cell_type": "code",
   "execution_count": 54,
   "metadata": {},
   "outputs": [
    {
     "data": {
      "application/vnd.jupyter.widget-view+json": {
       "model_id": "3eb5deb2aa284067a1be0f5bd7e4ac5a",
       "version_major": 2,
       "version_minor": 0
      },
      "text/plain": [
       "HBox(children=(IntProgress(value=0, description='Method', max=2, style=ProgressStyle(description_width='initia…"
      ]
     },
     "metadata": {},
     "output_type": "display_data"
    },
    {
     "data": {
      "application/vnd.jupyter.widget-view+json": {
       "model_id": "8489204e23fc4079bdf13d219badce9a",
       "version_major": 2,
       "version_minor": 0
      },
      "text/plain": [
       "HBox(children=(IntProgress(value=0, description='average', max=41, style=ProgressStyle(description_width='init…"
      ]
     },
     "metadata": {},
     "output_type": "display_data"
    },
    {
     "name": "stdout",
     "output_type": "stream",
     "text": [
      "\n"
     ]
    },
    {
     "data": {
      "application/vnd.jupyter.widget-view+json": {
       "model_id": "6c874a49cbb246bdb621a52ecebc859f",
       "version_major": 2,
       "version_minor": 0
      },
      "text/plain": [
       "HBox(children=(IntProgress(value=0, description='complete', max=41, style=ProgressStyle(description_width='ini…"
      ]
     },
     "metadata": {},
     "output_type": "display_data"
    },
    {
     "name": "stdout",
     "output_type": "stream",
     "text": [
      "\n",
      "\n"
     ]
    }
   ],
   "source": [
    "silhouette_score_w2v3, CH_score_w2v3 = [[] for i in range(2)]\n",
    "(silhouette_w2v3, CH_w2v3) = clustering(10, 51, link_list=link, dist=n_matrix_w2v2, \n",
    "                                        silhouette_score=silhouette_score_w2v3, CH_score=CH_score_w2v3)"
   ]
  },
  {
   "cell_type": "code",
   "execution_count": 55,
   "metadata": {},
   "outputs": [
    {
     "data": {
      "application/javascript": [
       "\n",
       "(function(root) {\n",
       "  function now() {\n",
       "    return new Date();\n",
       "  }\n",
       "\n",
       "  var force = true;\n",
       "\n",
       "  if (typeof root._bokeh_onload_callbacks === \"undefined\" || force === true) {\n",
       "    root._bokeh_onload_callbacks = [];\n",
       "    root._bokeh_is_loading = undefined;\n",
       "  }\n",
       "\n",
       "  var JS_MIME_TYPE = 'application/javascript';\n",
       "  var HTML_MIME_TYPE = 'text/html';\n",
       "  var EXEC_MIME_TYPE = 'application/vnd.bokehjs_exec.v0+json';\n",
       "  var CLASS_NAME = 'output_bokeh rendered_html';\n",
       "\n",
       "  /**\n",
       "   * Render data to the DOM node\n",
       "   */\n",
       "  function render(props, node) {\n",
       "    var script = document.createElement(\"script\");\n",
       "    node.appendChild(script);\n",
       "  }\n",
       "\n",
       "  /**\n",
       "   * Handle when an output is cleared or removed\n",
       "   */\n",
       "  function handleClearOutput(event, handle) {\n",
       "    var cell = handle.cell;\n",
       "\n",
       "    var id = cell.output_area._bokeh_element_id;\n",
       "    var server_id = cell.output_area._bokeh_server_id;\n",
       "    // Clean up Bokeh references\n",
       "    if (id != null && id in Bokeh.index) {\n",
       "      Bokeh.index[id].model.document.clear();\n",
       "      delete Bokeh.index[id];\n",
       "    }\n",
       "\n",
       "    if (server_id !== undefined) {\n",
       "      // Clean up Bokeh references\n",
       "      var cmd = \"from bokeh.io.state import curstate; print(curstate().uuid_to_server['\" + server_id + \"'].get_sessions()[0].document.roots[0]._id)\";\n",
       "      cell.notebook.kernel.execute(cmd, {\n",
       "        iopub: {\n",
       "          output: function(msg) {\n",
       "            var id = msg.content.text.trim();\n",
       "            if (id in Bokeh.index) {\n",
       "              Bokeh.index[id].model.document.clear();\n",
       "              delete Bokeh.index[id];\n",
       "            }\n",
       "          }\n",
       "        }\n",
       "      });\n",
       "      // Destroy server and session\n",
       "      var cmd = \"import bokeh.io.notebook as ion; ion.destroy_server('\" + server_id + \"')\";\n",
       "      cell.notebook.kernel.execute(cmd);\n",
       "    }\n",
       "  }\n",
       "\n",
       "  /**\n",
       "   * Handle when a new output is added\n",
       "   */\n",
       "  function handleAddOutput(event, handle) {\n",
       "    var output_area = handle.output_area;\n",
       "    var output = handle.output;\n",
       "\n",
       "    // limit handleAddOutput to display_data with EXEC_MIME_TYPE content only\n",
       "    if ((output.output_type != \"display_data\") || (!output.data.hasOwnProperty(EXEC_MIME_TYPE))) {\n",
       "      return\n",
       "    }\n",
       "\n",
       "    var toinsert = output_area.element.find(\".\" + CLASS_NAME.split(' ')[0]);\n",
       "\n",
       "    if (output.metadata[EXEC_MIME_TYPE][\"id\"] !== undefined) {\n",
       "      toinsert[toinsert.length - 1].firstChild.textContent = output.data[JS_MIME_TYPE];\n",
       "      // store reference to embed id on output_area\n",
       "      output_area._bokeh_element_id = output.metadata[EXEC_MIME_TYPE][\"id\"];\n",
       "    }\n",
       "    if (output.metadata[EXEC_MIME_TYPE][\"server_id\"] !== undefined) {\n",
       "      var bk_div = document.createElement(\"div\");\n",
       "      bk_div.innerHTML = output.data[HTML_MIME_TYPE];\n",
       "      var script_attrs = bk_div.children[0].attributes;\n",
       "      for (var i = 0; i < script_attrs.length; i++) {\n",
       "        toinsert[toinsert.length - 1].firstChild.setAttribute(script_attrs[i].name, script_attrs[i].value);\n",
       "      }\n",
       "      // store reference to server id on output_area\n",
       "      output_area._bokeh_server_id = output.metadata[EXEC_MIME_TYPE][\"server_id\"];\n",
       "    }\n",
       "  }\n",
       "\n",
       "  function register_renderer(events, OutputArea) {\n",
       "\n",
       "    function append_mime(data, metadata, element) {\n",
       "      // create a DOM node to render to\n",
       "      var toinsert = this.create_output_subarea(\n",
       "        metadata,\n",
       "        CLASS_NAME,\n",
       "        EXEC_MIME_TYPE\n",
       "      );\n",
       "      this.keyboard_manager.register_events(toinsert);\n",
       "      // Render to node\n",
       "      var props = {data: data, metadata: metadata[EXEC_MIME_TYPE]};\n",
       "      render(props, toinsert[toinsert.length - 1]);\n",
       "      element.append(toinsert);\n",
       "      return toinsert\n",
       "    }\n",
       "\n",
       "    /* Handle when an output is cleared or removed */\n",
       "    events.on('clear_output.CodeCell', handleClearOutput);\n",
       "    events.on('delete.Cell', handleClearOutput);\n",
       "\n",
       "    /* Handle when a new output is added */\n",
       "    events.on('output_added.OutputArea', handleAddOutput);\n",
       "\n",
       "    /**\n",
       "     * Register the mime type and append_mime function with output_area\n",
       "     */\n",
       "    OutputArea.prototype.register_mime_type(EXEC_MIME_TYPE, append_mime, {\n",
       "      /* Is output safe? */\n",
       "      safe: true,\n",
       "      /* Index of renderer in `output_area.display_order` */\n",
       "      index: 0\n",
       "    });\n",
       "  }\n",
       "\n",
       "  // register the mime type if in Jupyter Notebook environment and previously unregistered\n",
       "  if (root.Jupyter !== undefined) {\n",
       "    var events = require('base/js/events');\n",
       "    var OutputArea = require('notebook/js/outputarea').OutputArea;\n",
       "\n",
       "    if (OutputArea.prototype.mime_types().indexOf(EXEC_MIME_TYPE) == -1) {\n",
       "      register_renderer(events, OutputArea);\n",
       "    }\n",
       "  }\n",
       "\n",
       "  \n",
       "  if (typeof (root._bokeh_timeout) === \"undefined\" || force === true) {\n",
       "    root._bokeh_timeout = Date.now() + 5000;\n",
       "    root._bokeh_failed_load = false;\n",
       "  }\n",
       "\n",
       "  var NB_LOAD_WARNING = {'data': {'text/html':\n",
       "     \"<div style='background-color: #fdd'>\\n\"+\n",
       "     \"<p>\\n\"+\n",
       "     \"BokehJS does not appear to have successfully loaded. If loading BokehJS from CDN, this \\n\"+\n",
       "     \"may be due to a slow or bad network connection. Possible fixes:\\n\"+\n",
       "     \"</p>\\n\"+\n",
       "     \"<ul>\\n\"+\n",
       "     \"<li>re-rerun `output_notebook()` to attempt to load from CDN again, or</li>\\n\"+\n",
       "     \"<li>use INLINE resources instead, as so:</li>\\n\"+\n",
       "     \"</ul>\\n\"+\n",
       "     \"<code>\\n\"+\n",
       "     \"from bokeh.resources import INLINE\\n\"+\n",
       "     \"output_notebook(resources=INLINE)\\n\"+\n",
       "     \"</code>\\n\"+\n",
       "     \"</div>\"}};\n",
       "\n",
       "  function display_loaded() {\n",
       "    var el = document.getElementById(null);\n",
       "    if (el != null) {\n",
       "      el.textContent = \"BokehJS is loading...\";\n",
       "    }\n",
       "    if (root.Bokeh !== undefined) {\n",
       "      if (el != null) {\n",
       "        el.textContent = \"BokehJS \" + root.Bokeh.version + \" successfully loaded.\";\n",
       "      }\n",
       "    } else if (Date.now() < root._bokeh_timeout) {\n",
       "      setTimeout(display_loaded, 100)\n",
       "    }\n",
       "  }\n",
       "\n",
       "\n",
       "  function run_callbacks() {\n",
       "    try {\n",
       "      root._bokeh_onload_callbacks.forEach(function(callback) {\n",
       "        if (callback != null)\n",
       "          callback();\n",
       "      });\n",
       "    } finally {\n",
       "      delete root._bokeh_onload_callbacks\n",
       "    }\n",
       "    console.debug(\"Bokeh: all callbacks have finished\");\n",
       "  }\n",
       "\n",
       "  function load_libs(css_urls, js_urls, callback) {\n",
       "    if (css_urls == null) css_urls = [];\n",
       "    if (js_urls == null) js_urls = [];\n",
       "\n",
       "    root._bokeh_onload_callbacks.push(callback);\n",
       "    if (root._bokeh_is_loading > 0) {\n",
       "      console.debug(\"Bokeh: BokehJS is being loaded, scheduling callback at\", now());\n",
       "      return null;\n",
       "    }\n",
       "    if (js_urls == null || js_urls.length === 0) {\n",
       "      run_callbacks();\n",
       "      return null;\n",
       "    }\n",
       "    console.debug(\"Bokeh: BokehJS not loaded, scheduling load and callback at\", now());\n",
       "    root._bokeh_is_loading = css_urls.length + js_urls.length;\n",
       "\n",
       "    function on_load() {\n",
       "      root._bokeh_is_loading--;\n",
       "      if (root._bokeh_is_loading === 0) {\n",
       "        console.debug(\"Bokeh: all BokehJS libraries/stylesheets loaded\");\n",
       "        run_callbacks()\n",
       "      }\n",
       "    }\n",
       "\n",
       "    function on_error() {\n",
       "      console.error(\"failed to load \" + url);\n",
       "    }\n",
       "\n",
       "    for (var i = 0; i < css_urls.length; i++) {\n",
       "      var url = css_urls[i];\n",
       "      const element = document.createElement(\"link\");\n",
       "      element.onload = on_load;\n",
       "      element.onerror = on_error;\n",
       "      element.rel = \"stylesheet\";\n",
       "      element.type = \"text/css\";\n",
       "      element.href = url;\n",
       "      console.debug(\"Bokeh: injecting link tag for BokehJS stylesheet: \", url);\n",
       "      document.body.appendChild(element);\n",
       "    }\n",
       "\n",
       "    for (var i = 0; i < js_urls.length; i++) {\n",
       "      var url = js_urls[i];\n",
       "      var element = document.createElement('script');\n",
       "      element.onload = on_load;\n",
       "      element.onerror = on_error;\n",
       "      element.async = false;\n",
       "      element.src = url;\n",
       "      console.debug(\"Bokeh: injecting script tag for BokehJS library: \", url);\n",
       "      document.head.appendChild(element);\n",
       "    }\n",
       "  };\n",
       "\n",
       "  function inject_raw_css(css) {\n",
       "    const element = document.createElement(\"style\");\n",
       "    element.appendChild(document.createTextNode(css));\n",
       "    document.body.appendChild(element);\n",
       "  }\n",
       "\n",
       "  var js_urls = [\"https://cdn.pydata.org/bokeh/release/bokeh-1.3.4.min.js\", \"https://cdn.pydata.org/bokeh/release/bokeh-widgets-1.3.4.min.js\", \"https://cdn.pydata.org/bokeh/release/bokeh-tables-1.3.4.min.js\", \"https://cdn.pydata.org/bokeh/release/bokeh-gl-1.3.4.min.js\"];\n",
       "  var css_urls = [];\n",
       "\n",
       "  var inline_js = [\n",
       "    function(Bokeh) {\n",
       "      Bokeh.set_log_level(\"info\");\n",
       "    },\n",
       "    \n",
       "    function(Bokeh) {\n",
       "      \n",
       "    },\n",
       "    function(Bokeh) {} // ensure no trailing comma for IE\n",
       "  ];\n",
       "\n",
       "  function run_inline_js() {\n",
       "    \n",
       "    if ((root.Bokeh !== undefined) || (force === true)) {\n",
       "      for (var i = 0; i < inline_js.length; i++) {\n",
       "        inline_js[i].call(root, root.Bokeh);\n",
       "      }} else if (Date.now() < root._bokeh_timeout) {\n",
       "      setTimeout(run_inline_js, 100);\n",
       "    } else if (!root._bokeh_failed_load) {\n",
       "      console.log(\"Bokeh: BokehJS failed to load within specified timeout.\");\n",
       "      root._bokeh_failed_load = true;\n",
       "    } else if (force !== true) {\n",
       "      var cell = $(document.getElementById(null)).parents('.cell').data().cell;\n",
       "      cell.output_area.append_execute_result(NB_LOAD_WARNING)\n",
       "    }\n",
       "\n",
       "  }\n",
       "\n",
       "  if (root._bokeh_is_loading === 0) {\n",
       "    console.debug(\"Bokeh: BokehJS loaded, going straight to plotting\");\n",
       "    run_inline_js();\n",
       "  } else {\n",
       "    load_libs(css_urls, js_urls, function() {\n",
       "      console.debug(\"Bokeh: BokehJS plotting callback run at\", now());\n",
       "      run_inline_js();\n",
       "    });\n",
       "  }\n",
       "}(window));"
      ],
      "application/vnd.bokehjs_load.v0+json": "\n(function(root) {\n  function now() {\n    return new Date();\n  }\n\n  var force = true;\n\n  if (typeof root._bokeh_onload_callbacks === \"undefined\" || force === true) {\n    root._bokeh_onload_callbacks = [];\n    root._bokeh_is_loading = undefined;\n  }\n\n  \n\n  \n  if (typeof (root._bokeh_timeout) === \"undefined\" || force === true) {\n    root._bokeh_timeout = Date.now() + 5000;\n    root._bokeh_failed_load = false;\n  }\n\n  var NB_LOAD_WARNING = {'data': {'text/html':\n     \"<div style='background-color: #fdd'>\\n\"+\n     \"<p>\\n\"+\n     \"BokehJS does not appear to have successfully loaded. If loading BokehJS from CDN, this \\n\"+\n     \"may be due to a slow or bad network connection. Possible fixes:\\n\"+\n     \"</p>\\n\"+\n     \"<ul>\\n\"+\n     \"<li>re-rerun `output_notebook()` to attempt to load from CDN again, or</li>\\n\"+\n     \"<li>use INLINE resources instead, as so:</li>\\n\"+\n     \"</ul>\\n\"+\n     \"<code>\\n\"+\n     \"from bokeh.resources import INLINE\\n\"+\n     \"output_notebook(resources=INLINE)\\n\"+\n     \"</code>\\n\"+\n     \"</div>\"}};\n\n  function display_loaded() {\n    var el = document.getElementById(null);\n    if (el != null) {\n      el.textContent = \"BokehJS is loading...\";\n    }\n    if (root.Bokeh !== undefined) {\n      if (el != null) {\n        el.textContent = \"BokehJS \" + root.Bokeh.version + \" successfully loaded.\";\n      }\n    } else if (Date.now() < root._bokeh_timeout) {\n      setTimeout(display_loaded, 100)\n    }\n  }\n\n\n  function run_callbacks() {\n    try {\n      root._bokeh_onload_callbacks.forEach(function(callback) {\n        if (callback != null)\n          callback();\n      });\n    } finally {\n      delete root._bokeh_onload_callbacks\n    }\n    console.debug(\"Bokeh: all callbacks have finished\");\n  }\n\n  function load_libs(css_urls, js_urls, callback) {\n    if (css_urls == null) css_urls = [];\n    if (js_urls == null) js_urls = [];\n\n    root._bokeh_onload_callbacks.push(callback);\n    if (root._bokeh_is_loading > 0) {\n      console.debug(\"Bokeh: BokehJS is being loaded, scheduling callback at\", now());\n      return null;\n    }\n    if (js_urls == null || js_urls.length === 0) {\n      run_callbacks();\n      return null;\n    }\n    console.debug(\"Bokeh: BokehJS not loaded, scheduling load and callback at\", now());\n    root._bokeh_is_loading = css_urls.length + js_urls.length;\n\n    function on_load() {\n      root._bokeh_is_loading--;\n      if (root._bokeh_is_loading === 0) {\n        console.debug(\"Bokeh: all BokehJS libraries/stylesheets loaded\");\n        run_callbacks()\n      }\n    }\n\n    function on_error() {\n      console.error(\"failed to load \" + url);\n    }\n\n    for (var i = 0; i < css_urls.length; i++) {\n      var url = css_urls[i];\n      const element = document.createElement(\"link\");\n      element.onload = on_load;\n      element.onerror = on_error;\n      element.rel = \"stylesheet\";\n      element.type = \"text/css\";\n      element.href = url;\n      console.debug(\"Bokeh: injecting link tag for BokehJS stylesheet: \", url);\n      document.body.appendChild(element);\n    }\n\n    for (var i = 0; i < js_urls.length; i++) {\n      var url = js_urls[i];\n      var element = document.createElement('script');\n      element.onload = on_load;\n      element.onerror = on_error;\n      element.async = false;\n      element.src = url;\n      console.debug(\"Bokeh: injecting script tag for BokehJS library: \", url);\n      document.head.appendChild(element);\n    }\n  };\n\n  function inject_raw_css(css) {\n    const element = document.createElement(\"style\");\n    element.appendChild(document.createTextNode(css));\n    document.body.appendChild(element);\n  }\n\n  var js_urls = [\"https://cdn.pydata.org/bokeh/release/bokeh-1.3.4.min.js\", \"https://cdn.pydata.org/bokeh/release/bokeh-widgets-1.3.4.min.js\", \"https://cdn.pydata.org/bokeh/release/bokeh-tables-1.3.4.min.js\", \"https://cdn.pydata.org/bokeh/release/bokeh-gl-1.3.4.min.js\"];\n  var css_urls = [];\n\n  var inline_js = [\n    function(Bokeh) {\n      Bokeh.set_log_level(\"info\");\n    },\n    \n    function(Bokeh) {\n      \n    },\n    function(Bokeh) {} // ensure no trailing comma for IE\n  ];\n\n  function run_inline_js() {\n    \n    if ((root.Bokeh !== undefined) || (force === true)) {\n      for (var i = 0; i < inline_js.length; i++) {\n        inline_js[i].call(root, root.Bokeh);\n      }} else if (Date.now() < root._bokeh_timeout) {\n      setTimeout(run_inline_js, 100);\n    } else if (!root._bokeh_failed_load) {\n      console.log(\"Bokeh: BokehJS failed to load within specified timeout.\");\n      root._bokeh_failed_load = true;\n    } else if (force !== true) {\n      var cell = $(document.getElementById(null)).parents('.cell').data().cell;\n      cell.output_area.append_execute_result(NB_LOAD_WARNING)\n    }\n\n  }\n\n  if (root._bokeh_is_loading === 0) {\n    console.debug(\"Bokeh: BokehJS loaded, going straight to plotting\");\n    run_inline_js();\n  } else {\n    load_libs(css_urls, js_urls, function() {\n      console.debug(\"Bokeh: BokehJS plotting callback run at\", now());\n      run_inline_js();\n    });\n  }\n}(window));"
     },
     "metadata": {},
     "output_type": "display_data"
    },
    {
     "data": {
      "text/html": [
       "\n",
       "\n",
       "\n",
       "\n",
       "\n",
       "\n",
       "  <div class=\"bk-root\" id=\"c589bf80-bbc9-4e84-9bfe-a367871d23e2\" data-root-id=\"1453\"></div>\n"
      ]
     },
     "metadata": {},
     "output_type": "display_data"
    },
    {
     "data": {
      "application/javascript": [
       "(function(root) {\n",
       "  function embed_document(root) {\n",
       "    \n",
       "  var docs_json = {\"4264e92b-fc1b-4a3d-a9df-a57b482736c5\":{\"roots\":{\"references\":[{\"attributes\":{\"below\":[{\"id\":\"1462\",\"type\":\"LinearAxis\"}],\"center\":[{\"id\":\"1466\",\"type\":\"Grid\"},{\"id\":\"1471\",\"type\":\"Grid\"},{\"id\":\"1501\",\"type\":\"Legend\"}],\"left\":[{\"id\":\"1467\",\"type\":\"LinearAxis\"}],\"plot_height\":450,\"plot_width\":750,\"renderers\":[{\"id\":\"1492\",\"type\":\"GlyphRenderer\"}],\"title\":{\"id\":\"1485\",\"type\":\"Title\"},\"toolbar\":{\"id\":\"1478\",\"type\":\"Toolbar\"},\"x_range\":{\"id\":\"1454\",\"type\":\"DataRange1d\"},\"x_scale\":{\"id\":\"1458\",\"type\":\"LinearScale\"},\"y_range\":{\"id\":\"1456\",\"type\":\"DataRange1d\"},\"y_scale\":{\"id\":\"1460\",\"type\":\"LinearScale\"}},\"id\":\"1453\",\"subtype\":\"Figure\",\"type\":\"Plot\"},{\"attributes\":{\"bottom_units\":\"screen\",\"fill_alpha\":{\"value\":0.5},\"fill_color\":{\"value\":\"lightgrey\"},\"left_units\":\"screen\",\"level\":\"overlay\",\"line_alpha\":{\"value\":1.0},\"line_color\":{\"value\":\"black\"},\"line_dash\":[4,4],\"line_width\":{\"value\":2},\"render_mode\":\"css\",\"right_units\":\"screen\",\"top_units\":\"screen\"},\"id\":\"1500\",\"type\":\"BoxAnnotation\"},{\"attributes\":{\"formatter\":{\"id\":\"1499\",\"type\":\"BasicTickFormatter\"},\"ticker\":{\"id\":\"1463\",\"type\":\"BasicTicker\"}},\"id\":\"1462\",\"type\":\"LinearAxis\"},{\"attributes\":{},\"id\":\"1472\",\"type\":\"PanTool\"},{\"attributes\":{},\"id\":\"1497\",\"type\":\"BasicTickFormatter\"},{\"attributes\":{\"callback\":null},\"id\":\"1456\",\"type\":\"DataRange1d\"},{\"attributes\":{},\"id\":\"1473\",\"type\":\"WheelZoomTool\"},{\"attributes\":{\"active_drag\":\"auto\",\"active_inspect\":\"auto\",\"active_multi\":null,\"active_scroll\":\"auto\",\"active_tap\":\"auto\",\"tools\":[{\"id\":\"1472\",\"type\":\"PanTool\"},{\"id\":\"1473\",\"type\":\"WheelZoomTool\"},{\"id\":\"1474\",\"type\":\"BoxZoomTool\"},{\"id\":\"1475\",\"type\":\"SaveTool\"},{\"id\":\"1476\",\"type\":\"ResetTool\"},{\"id\":\"1477\",\"type\":\"HelpTool\"}]},\"id\":\"1478\",\"type\":\"Toolbar\"},{\"attributes\":{\"overlay\":{\"id\":\"1500\",\"type\":\"BoxAnnotation\"}},\"id\":\"1474\",\"type\":\"BoxZoomTool\"},{\"attributes\":{},\"id\":\"1458\",\"type\":\"LinearScale\"},{\"attributes\":{},\"id\":\"1475\",\"type\":\"SaveTool\"},{\"attributes\":{},\"id\":\"1460\",\"type\":\"LinearScale\"},{\"attributes\":{},\"id\":\"1476\",\"type\":\"ResetTool\"},{\"attributes\":{\"ticker\":{\"id\":\"1463\",\"type\":\"BasicTicker\"}},\"id\":\"1466\",\"type\":\"Grid\"},{\"attributes\":{},\"id\":\"1477\",\"type\":\"HelpTool\"},{\"attributes\":{\"align\":\"center\",\"text\":\"Word2vec filter Silhouette index\",\"text_font_size\":{\"value\":\"20px\"}},\"id\":\"1485\",\"type\":\"Title\"},{\"attributes\":{},\"id\":\"1463\",\"type\":\"BasicTicker\"},{\"attributes\":{},\"id\":\"1511\",\"type\":\"Selection\"},{\"attributes\":{\"formatter\":{\"id\":\"1497\",\"type\":\"BasicTickFormatter\"},\"ticker\":{\"id\":\"1468\",\"type\":\"BasicTicker\"}},\"id\":\"1467\",\"type\":\"LinearAxis\"},{\"attributes\":{\"callback\":null},\"id\":\"1454\",\"type\":\"DataRange1d\"},{\"attributes\":{\"dimension\":1,\"ticker\":{\"id\":\"1468\",\"type\":\"BasicTicker\"}},\"id\":\"1471\",\"type\":\"Grid\"},{\"attributes\":{\"source\":{\"id\":\"1488\",\"type\":\"ColumnDataSource\"}},\"id\":\"1493\",\"type\":\"CDSView\"},{\"attributes\":{\"line_alpha\":{\"value\":0.1},\"line_color\":{\"value\":\"#1f77b4\"},\"line_width\":{\"value\":2},\"xs\":{\"field\":\"xs\"},\"ys\":{\"field\":\"ys\"}},\"id\":\"1491\",\"type\":\"MultiLine\"},{\"attributes\":{\"items\":[{\"id\":\"1502\",\"type\":\"LegendItem\"}],\"location\":\"top_left\"},\"id\":\"1501\",\"type\":\"Legend\"},{\"attributes\":{},\"id\":\"1468\",\"type\":\"BasicTicker\"},{\"attributes\":{\"line_color\":{\"field\":\"color\"},\"line_width\":{\"value\":2},\"xs\":{\"field\":\"xs\"},\"ys\":{\"field\":\"ys\"}},\"id\":\"1490\",\"type\":\"MultiLine\"},{\"attributes\":{},\"id\":\"1510\",\"type\":\"UnionRenderers\"},{\"attributes\":{\"data_source\":{\"id\":\"1488\",\"type\":\"ColumnDataSource\"},\"glyph\":{\"id\":\"1490\",\"type\":\"MultiLine\"},\"hover_glyph\":null,\"muted_glyph\":null,\"nonselection_glyph\":{\"id\":\"1491\",\"type\":\"MultiLine\"},\"selection_glyph\":null,\"view\":{\"id\":\"1493\",\"type\":\"CDSView\"}},\"id\":\"1492\",\"type\":\"GlyphRenderer\"},{\"attributes\":{\"label\":{\"field\":\"labels\"},\"renderers\":[{\"id\":\"1492\",\"type\":\"GlyphRenderer\"}]},\"id\":\"1502\",\"type\":\"LegendItem\"},{\"attributes\":{\"callback\":null,\"data\":{\"color\":[\"red\",\"blue\"],\"labels\":[\"Average\",\"Complete\"],\"xs\":[[10,11,12,13,14,15,16,17,18,19,20,21,22,23,24,25,26,27,28,29,30,31,32,33,34,35,36,37,38,39,40,41,42,43,44,45,46,47,48,49,50],[10,11,12,13,14,15,16,17,18,19,20,21,22,23,24,25,26,27,28,29,30,31,32,33,34,35,36,37,38,39,40,41,42,43,44,45,46,47,48,49,50]],\"ys\":[[0.003633740134321317,0.005641557891101112,0.005910082196751206,0.005043274760862455,0.005764193042151067,0.004860332103070343,0.006437712930793265,0.007359919970487006,0.009122023156590948,0.0088925629738893,0.010609939276129389,0.011948555975957014,0.012065051558396276,0.01282244161558488,0.013838835883990559,0.011407560806107053,0.00996119935210196,0.011169390745773727,0.011950558047764721,0.013723538128817913,0.01435543482301328,0.014784782062975977,0.014501491761881782,0.016276363058989208,0.016970106864632534,0.018462833870069348,0.019832567046152254,0.02068510472155938,0.02201181144087424,0.02154908505008812,0.022602016994499843,0.021274008619232163,0.0224132929595756,0.02405154336023081,0.025083833851493067,0.025207673536182727,0.025313287874034394,0.025966277308281226,0.027104175985675244,0.027990547733835275,0.028800296156177067],[0.015778164587467353,0.01635945976459877,0.016460161685797683,0.014873269495729305,0.013048443368240582,0.012868957967493438,0.010778711671854433,0.010519698134168974,0.015145235816667194,0.015101117045324589,0.016551346434876064,0.017581801416353987,0.0196867533184758,0.021582381315151174,0.021003669776608846,0.021649924476189443,0.02145754097406299,0.020632308531377003,0.019296911859202497,0.020356767671311747,0.02214487470488331,0.021627427019295896,0.022974236720854777,0.03219584710510929,0.03290701203985983,0.033375827748552744,0.03243188091500355,0.030985197870913157,0.031043597932478878,0.030732829926472523,0.031438223345135886,0.030799468356728896,0.03173523580102657,0.030634109219684656,0.03114361903932699,0.03192614887575969,0.0372579575119147,0.04391385697931557,0.04346488188806383,0.043407952376073235,0.044030186617009526]]},\"selected\":{\"id\":\"1511\",\"type\":\"Selection\"},\"selection_policy\":{\"id\":\"1510\",\"type\":\"UnionRenderers\"}},\"id\":\"1488\",\"type\":\"ColumnDataSource\"},{\"attributes\":{},\"id\":\"1499\",\"type\":\"BasicTickFormatter\"}],\"root_ids\":[\"1453\"]},\"title\":\"Bokeh Application\",\"version\":\"1.3.4\"}};\n",
       "  var render_items = [{\"docid\":\"4264e92b-fc1b-4a3d-a9df-a57b482736c5\",\"roots\":{\"1453\":\"c589bf80-bbc9-4e84-9bfe-a367871d23e2\"}}];\n",
       "  root.Bokeh.embed.embed_items_notebook(docs_json, render_items);\n",
       "\n",
       "  }\n",
       "  if (root.Bokeh !== undefined) {\n",
       "    embed_document(root);\n",
       "  } else {\n",
       "    var attempts = 0;\n",
       "    var timer = setInterval(function(root) {\n",
       "      if (root.Bokeh !== undefined) {\n",
       "        embed_document(root);\n",
       "        clearInterval(timer);\n",
       "      }\n",
       "      attempts++;\n",
       "      if (attempts > 100) {\n",
       "        console.log(\"Bokeh: ERROR: Unable to run BokehJS code because BokehJS library is missing\");\n",
       "        clearInterval(timer);\n",
       "      }\n",
       "    }, 10, root)\n",
       "  }\n",
       "})(window);"
      ],
      "application/vnd.bokehjs_exec.v0+json": ""
     },
     "metadata": {
      "application/vnd.bokehjs_exec.v0+json": {
       "id": "1453"
      }
     },
     "output_type": "display_data"
    }
   ],
   "source": [
    "h_plot_evaluation(title=\"Word2vec filter Silhouette index\", metric=silhouette_w2v3[0], c=c, label1=\"Average\",\n",
    "                  metric2=silhouette_w2v3[1], label2=\"Complete\", pos_legend=\"top_left\")"
   ]
  },
  {
   "cell_type": "markdown",
   "metadata": {},
   "source": [
    "<font size=3>\n",
    "    \n",
    "A differenza del metodo WordNet dove non si era riscontrato un miglioramento delle performance di clusterizzazione, in questo caso i nuovi modelli ottengono una clusterizzazione più accettabile ma sempre lontano dai livelli dei migliori. L'indice cresce al crescere del numero di cluster."
   ]
  },
  {
   "cell_type": "code",
   "execution_count": 56,
   "metadata": {},
   "outputs": [
    {
     "data": {
      "application/javascript": [
       "\n",
       "(function(root) {\n",
       "  function now() {\n",
       "    return new Date();\n",
       "  }\n",
       "\n",
       "  var force = true;\n",
       "\n",
       "  if (typeof root._bokeh_onload_callbacks === \"undefined\" || force === true) {\n",
       "    root._bokeh_onload_callbacks = [];\n",
       "    root._bokeh_is_loading = undefined;\n",
       "  }\n",
       "\n",
       "  var JS_MIME_TYPE = 'application/javascript';\n",
       "  var HTML_MIME_TYPE = 'text/html';\n",
       "  var EXEC_MIME_TYPE = 'application/vnd.bokehjs_exec.v0+json';\n",
       "  var CLASS_NAME = 'output_bokeh rendered_html';\n",
       "\n",
       "  /**\n",
       "   * Render data to the DOM node\n",
       "   */\n",
       "  function render(props, node) {\n",
       "    var script = document.createElement(\"script\");\n",
       "    node.appendChild(script);\n",
       "  }\n",
       "\n",
       "  /**\n",
       "   * Handle when an output is cleared or removed\n",
       "   */\n",
       "  function handleClearOutput(event, handle) {\n",
       "    var cell = handle.cell;\n",
       "\n",
       "    var id = cell.output_area._bokeh_element_id;\n",
       "    var server_id = cell.output_area._bokeh_server_id;\n",
       "    // Clean up Bokeh references\n",
       "    if (id != null && id in Bokeh.index) {\n",
       "      Bokeh.index[id].model.document.clear();\n",
       "      delete Bokeh.index[id];\n",
       "    }\n",
       "\n",
       "    if (server_id !== undefined) {\n",
       "      // Clean up Bokeh references\n",
       "      var cmd = \"from bokeh.io.state import curstate; print(curstate().uuid_to_server['\" + server_id + \"'].get_sessions()[0].document.roots[0]._id)\";\n",
       "      cell.notebook.kernel.execute(cmd, {\n",
       "        iopub: {\n",
       "          output: function(msg) {\n",
       "            var id = msg.content.text.trim();\n",
       "            if (id in Bokeh.index) {\n",
       "              Bokeh.index[id].model.document.clear();\n",
       "              delete Bokeh.index[id];\n",
       "            }\n",
       "          }\n",
       "        }\n",
       "      });\n",
       "      // Destroy server and session\n",
       "      var cmd = \"import bokeh.io.notebook as ion; ion.destroy_server('\" + server_id + \"')\";\n",
       "      cell.notebook.kernel.execute(cmd);\n",
       "    }\n",
       "  }\n",
       "\n",
       "  /**\n",
       "   * Handle when a new output is added\n",
       "   */\n",
       "  function handleAddOutput(event, handle) {\n",
       "    var output_area = handle.output_area;\n",
       "    var output = handle.output;\n",
       "\n",
       "    // limit handleAddOutput to display_data with EXEC_MIME_TYPE content only\n",
       "    if ((output.output_type != \"display_data\") || (!output.data.hasOwnProperty(EXEC_MIME_TYPE))) {\n",
       "      return\n",
       "    }\n",
       "\n",
       "    var toinsert = output_area.element.find(\".\" + CLASS_NAME.split(' ')[0]);\n",
       "\n",
       "    if (output.metadata[EXEC_MIME_TYPE][\"id\"] !== undefined) {\n",
       "      toinsert[toinsert.length - 1].firstChild.textContent = output.data[JS_MIME_TYPE];\n",
       "      // store reference to embed id on output_area\n",
       "      output_area._bokeh_element_id = output.metadata[EXEC_MIME_TYPE][\"id\"];\n",
       "    }\n",
       "    if (output.metadata[EXEC_MIME_TYPE][\"server_id\"] !== undefined) {\n",
       "      var bk_div = document.createElement(\"div\");\n",
       "      bk_div.innerHTML = output.data[HTML_MIME_TYPE];\n",
       "      var script_attrs = bk_div.children[0].attributes;\n",
       "      for (var i = 0; i < script_attrs.length; i++) {\n",
       "        toinsert[toinsert.length - 1].firstChild.setAttribute(script_attrs[i].name, script_attrs[i].value);\n",
       "      }\n",
       "      // store reference to server id on output_area\n",
       "      output_area._bokeh_server_id = output.metadata[EXEC_MIME_TYPE][\"server_id\"];\n",
       "    }\n",
       "  }\n",
       "\n",
       "  function register_renderer(events, OutputArea) {\n",
       "\n",
       "    function append_mime(data, metadata, element) {\n",
       "      // create a DOM node to render to\n",
       "      var toinsert = this.create_output_subarea(\n",
       "        metadata,\n",
       "        CLASS_NAME,\n",
       "        EXEC_MIME_TYPE\n",
       "      );\n",
       "      this.keyboard_manager.register_events(toinsert);\n",
       "      // Render to node\n",
       "      var props = {data: data, metadata: metadata[EXEC_MIME_TYPE]};\n",
       "      render(props, toinsert[toinsert.length - 1]);\n",
       "      element.append(toinsert);\n",
       "      return toinsert\n",
       "    }\n",
       "\n",
       "    /* Handle when an output is cleared or removed */\n",
       "    events.on('clear_output.CodeCell', handleClearOutput);\n",
       "    events.on('delete.Cell', handleClearOutput);\n",
       "\n",
       "    /* Handle when a new output is added */\n",
       "    events.on('output_added.OutputArea', handleAddOutput);\n",
       "\n",
       "    /**\n",
       "     * Register the mime type and append_mime function with output_area\n",
       "     */\n",
       "    OutputArea.prototype.register_mime_type(EXEC_MIME_TYPE, append_mime, {\n",
       "      /* Is output safe? */\n",
       "      safe: true,\n",
       "      /* Index of renderer in `output_area.display_order` */\n",
       "      index: 0\n",
       "    });\n",
       "  }\n",
       "\n",
       "  // register the mime type if in Jupyter Notebook environment and previously unregistered\n",
       "  if (root.Jupyter !== undefined) {\n",
       "    var events = require('base/js/events');\n",
       "    var OutputArea = require('notebook/js/outputarea').OutputArea;\n",
       "\n",
       "    if (OutputArea.prototype.mime_types().indexOf(EXEC_MIME_TYPE) == -1) {\n",
       "      register_renderer(events, OutputArea);\n",
       "    }\n",
       "  }\n",
       "\n",
       "  \n",
       "  if (typeof (root._bokeh_timeout) === \"undefined\" || force === true) {\n",
       "    root._bokeh_timeout = Date.now() + 5000;\n",
       "    root._bokeh_failed_load = false;\n",
       "  }\n",
       "\n",
       "  var NB_LOAD_WARNING = {'data': {'text/html':\n",
       "     \"<div style='background-color: #fdd'>\\n\"+\n",
       "     \"<p>\\n\"+\n",
       "     \"BokehJS does not appear to have successfully loaded. If loading BokehJS from CDN, this \\n\"+\n",
       "     \"may be due to a slow or bad network connection. Possible fixes:\\n\"+\n",
       "     \"</p>\\n\"+\n",
       "     \"<ul>\\n\"+\n",
       "     \"<li>re-rerun `output_notebook()` to attempt to load from CDN again, or</li>\\n\"+\n",
       "     \"<li>use INLINE resources instead, as so:</li>\\n\"+\n",
       "     \"</ul>\\n\"+\n",
       "     \"<code>\\n\"+\n",
       "     \"from bokeh.resources import INLINE\\n\"+\n",
       "     \"output_notebook(resources=INLINE)\\n\"+\n",
       "     \"</code>\\n\"+\n",
       "     \"</div>\"}};\n",
       "\n",
       "  function display_loaded() {\n",
       "    var el = document.getElementById(null);\n",
       "    if (el != null) {\n",
       "      el.textContent = \"BokehJS is loading...\";\n",
       "    }\n",
       "    if (root.Bokeh !== undefined) {\n",
       "      if (el != null) {\n",
       "        el.textContent = \"BokehJS \" + root.Bokeh.version + \" successfully loaded.\";\n",
       "      }\n",
       "    } else if (Date.now() < root._bokeh_timeout) {\n",
       "      setTimeout(display_loaded, 100)\n",
       "    }\n",
       "  }\n",
       "\n",
       "\n",
       "  function run_callbacks() {\n",
       "    try {\n",
       "      root._bokeh_onload_callbacks.forEach(function(callback) {\n",
       "        if (callback != null)\n",
       "          callback();\n",
       "      });\n",
       "    } finally {\n",
       "      delete root._bokeh_onload_callbacks\n",
       "    }\n",
       "    console.debug(\"Bokeh: all callbacks have finished\");\n",
       "  }\n",
       "\n",
       "  function load_libs(css_urls, js_urls, callback) {\n",
       "    if (css_urls == null) css_urls = [];\n",
       "    if (js_urls == null) js_urls = [];\n",
       "\n",
       "    root._bokeh_onload_callbacks.push(callback);\n",
       "    if (root._bokeh_is_loading > 0) {\n",
       "      console.debug(\"Bokeh: BokehJS is being loaded, scheduling callback at\", now());\n",
       "      return null;\n",
       "    }\n",
       "    if (js_urls == null || js_urls.length === 0) {\n",
       "      run_callbacks();\n",
       "      return null;\n",
       "    }\n",
       "    console.debug(\"Bokeh: BokehJS not loaded, scheduling load and callback at\", now());\n",
       "    root._bokeh_is_loading = css_urls.length + js_urls.length;\n",
       "\n",
       "    function on_load() {\n",
       "      root._bokeh_is_loading--;\n",
       "      if (root._bokeh_is_loading === 0) {\n",
       "        console.debug(\"Bokeh: all BokehJS libraries/stylesheets loaded\");\n",
       "        run_callbacks()\n",
       "      }\n",
       "    }\n",
       "\n",
       "    function on_error() {\n",
       "      console.error(\"failed to load \" + url);\n",
       "    }\n",
       "\n",
       "    for (var i = 0; i < css_urls.length; i++) {\n",
       "      var url = css_urls[i];\n",
       "      const element = document.createElement(\"link\");\n",
       "      element.onload = on_load;\n",
       "      element.onerror = on_error;\n",
       "      element.rel = \"stylesheet\";\n",
       "      element.type = \"text/css\";\n",
       "      element.href = url;\n",
       "      console.debug(\"Bokeh: injecting link tag for BokehJS stylesheet: \", url);\n",
       "      document.body.appendChild(element);\n",
       "    }\n",
       "\n",
       "    for (var i = 0; i < js_urls.length; i++) {\n",
       "      var url = js_urls[i];\n",
       "      var element = document.createElement('script');\n",
       "      element.onload = on_load;\n",
       "      element.onerror = on_error;\n",
       "      element.async = false;\n",
       "      element.src = url;\n",
       "      console.debug(\"Bokeh: injecting script tag for BokehJS library: \", url);\n",
       "      document.head.appendChild(element);\n",
       "    }\n",
       "  };\n",
       "\n",
       "  function inject_raw_css(css) {\n",
       "    const element = document.createElement(\"style\");\n",
       "    element.appendChild(document.createTextNode(css));\n",
       "    document.body.appendChild(element);\n",
       "  }\n",
       "\n",
       "  var js_urls = [\"https://cdn.pydata.org/bokeh/release/bokeh-1.3.4.min.js\", \"https://cdn.pydata.org/bokeh/release/bokeh-widgets-1.3.4.min.js\", \"https://cdn.pydata.org/bokeh/release/bokeh-tables-1.3.4.min.js\", \"https://cdn.pydata.org/bokeh/release/bokeh-gl-1.3.4.min.js\"];\n",
       "  var css_urls = [];\n",
       "\n",
       "  var inline_js = [\n",
       "    function(Bokeh) {\n",
       "      Bokeh.set_log_level(\"info\");\n",
       "    },\n",
       "    \n",
       "    function(Bokeh) {\n",
       "      \n",
       "    },\n",
       "    function(Bokeh) {} // ensure no trailing comma for IE\n",
       "  ];\n",
       "\n",
       "  function run_inline_js() {\n",
       "    \n",
       "    if ((root.Bokeh !== undefined) || (force === true)) {\n",
       "      for (var i = 0; i < inline_js.length; i++) {\n",
       "        inline_js[i].call(root, root.Bokeh);\n",
       "      }} else if (Date.now() < root._bokeh_timeout) {\n",
       "      setTimeout(run_inline_js, 100);\n",
       "    } else if (!root._bokeh_failed_load) {\n",
       "      console.log(\"Bokeh: BokehJS failed to load within specified timeout.\");\n",
       "      root._bokeh_failed_load = true;\n",
       "    } else if (force !== true) {\n",
       "      var cell = $(document.getElementById(null)).parents('.cell').data().cell;\n",
       "      cell.output_area.append_execute_result(NB_LOAD_WARNING)\n",
       "    }\n",
       "\n",
       "  }\n",
       "\n",
       "  if (root._bokeh_is_loading === 0) {\n",
       "    console.debug(\"Bokeh: BokehJS loaded, going straight to plotting\");\n",
       "    run_inline_js();\n",
       "  } else {\n",
       "    load_libs(css_urls, js_urls, function() {\n",
       "      console.debug(\"Bokeh: BokehJS plotting callback run at\", now());\n",
       "      run_inline_js();\n",
       "    });\n",
       "  }\n",
       "}(window));"
      ],
      "application/vnd.bokehjs_load.v0+json": "\n(function(root) {\n  function now() {\n    return new Date();\n  }\n\n  var force = true;\n\n  if (typeof root._bokeh_onload_callbacks === \"undefined\" || force === true) {\n    root._bokeh_onload_callbacks = [];\n    root._bokeh_is_loading = undefined;\n  }\n\n  \n\n  \n  if (typeof (root._bokeh_timeout) === \"undefined\" || force === true) {\n    root._bokeh_timeout = Date.now() + 5000;\n    root._bokeh_failed_load = false;\n  }\n\n  var NB_LOAD_WARNING = {'data': {'text/html':\n     \"<div style='background-color: #fdd'>\\n\"+\n     \"<p>\\n\"+\n     \"BokehJS does not appear to have successfully loaded. If loading BokehJS from CDN, this \\n\"+\n     \"may be due to a slow or bad network connection. Possible fixes:\\n\"+\n     \"</p>\\n\"+\n     \"<ul>\\n\"+\n     \"<li>re-rerun `output_notebook()` to attempt to load from CDN again, or</li>\\n\"+\n     \"<li>use INLINE resources instead, as so:</li>\\n\"+\n     \"</ul>\\n\"+\n     \"<code>\\n\"+\n     \"from bokeh.resources import INLINE\\n\"+\n     \"output_notebook(resources=INLINE)\\n\"+\n     \"</code>\\n\"+\n     \"</div>\"}};\n\n  function display_loaded() {\n    var el = document.getElementById(null);\n    if (el != null) {\n      el.textContent = \"BokehJS is loading...\";\n    }\n    if (root.Bokeh !== undefined) {\n      if (el != null) {\n        el.textContent = \"BokehJS \" + root.Bokeh.version + \" successfully loaded.\";\n      }\n    } else if (Date.now() < root._bokeh_timeout) {\n      setTimeout(display_loaded, 100)\n    }\n  }\n\n\n  function run_callbacks() {\n    try {\n      root._bokeh_onload_callbacks.forEach(function(callback) {\n        if (callback != null)\n          callback();\n      });\n    } finally {\n      delete root._bokeh_onload_callbacks\n    }\n    console.debug(\"Bokeh: all callbacks have finished\");\n  }\n\n  function load_libs(css_urls, js_urls, callback) {\n    if (css_urls == null) css_urls = [];\n    if (js_urls == null) js_urls = [];\n\n    root._bokeh_onload_callbacks.push(callback);\n    if (root._bokeh_is_loading > 0) {\n      console.debug(\"Bokeh: BokehJS is being loaded, scheduling callback at\", now());\n      return null;\n    }\n    if (js_urls == null || js_urls.length === 0) {\n      run_callbacks();\n      return null;\n    }\n    console.debug(\"Bokeh: BokehJS not loaded, scheduling load and callback at\", now());\n    root._bokeh_is_loading = css_urls.length + js_urls.length;\n\n    function on_load() {\n      root._bokeh_is_loading--;\n      if (root._bokeh_is_loading === 0) {\n        console.debug(\"Bokeh: all BokehJS libraries/stylesheets loaded\");\n        run_callbacks()\n      }\n    }\n\n    function on_error() {\n      console.error(\"failed to load \" + url);\n    }\n\n    for (var i = 0; i < css_urls.length; i++) {\n      var url = css_urls[i];\n      const element = document.createElement(\"link\");\n      element.onload = on_load;\n      element.onerror = on_error;\n      element.rel = \"stylesheet\";\n      element.type = \"text/css\";\n      element.href = url;\n      console.debug(\"Bokeh: injecting link tag for BokehJS stylesheet: \", url);\n      document.body.appendChild(element);\n    }\n\n    for (var i = 0; i < js_urls.length; i++) {\n      var url = js_urls[i];\n      var element = document.createElement('script');\n      element.onload = on_load;\n      element.onerror = on_error;\n      element.async = false;\n      element.src = url;\n      console.debug(\"Bokeh: injecting script tag for BokehJS library: \", url);\n      document.head.appendChild(element);\n    }\n  };\n\n  function inject_raw_css(css) {\n    const element = document.createElement(\"style\");\n    element.appendChild(document.createTextNode(css));\n    document.body.appendChild(element);\n  }\n\n  var js_urls = [\"https://cdn.pydata.org/bokeh/release/bokeh-1.3.4.min.js\", \"https://cdn.pydata.org/bokeh/release/bokeh-widgets-1.3.4.min.js\", \"https://cdn.pydata.org/bokeh/release/bokeh-tables-1.3.4.min.js\", \"https://cdn.pydata.org/bokeh/release/bokeh-gl-1.3.4.min.js\"];\n  var css_urls = [];\n\n  var inline_js = [\n    function(Bokeh) {\n      Bokeh.set_log_level(\"info\");\n    },\n    \n    function(Bokeh) {\n      \n    },\n    function(Bokeh) {} // ensure no trailing comma for IE\n  ];\n\n  function run_inline_js() {\n    \n    if ((root.Bokeh !== undefined) || (force === true)) {\n      for (var i = 0; i < inline_js.length; i++) {\n        inline_js[i].call(root, root.Bokeh);\n      }} else if (Date.now() < root._bokeh_timeout) {\n      setTimeout(run_inline_js, 100);\n    } else if (!root._bokeh_failed_load) {\n      console.log(\"Bokeh: BokehJS failed to load within specified timeout.\");\n      root._bokeh_failed_load = true;\n    } else if (force !== true) {\n      var cell = $(document.getElementById(null)).parents('.cell').data().cell;\n      cell.output_area.append_execute_result(NB_LOAD_WARNING)\n    }\n\n  }\n\n  if (root._bokeh_is_loading === 0) {\n    console.debug(\"Bokeh: BokehJS loaded, going straight to plotting\");\n    run_inline_js();\n  } else {\n    load_libs(css_urls, js_urls, function() {\n      console.debug(\"Bokeh: BokehJS plotting callback run at\", now());\n      run_inline_js();\n    });\n  }\n}(window));"
     },
     "metadata": {},
     "output_type": "display_data"
    },
    {
     "data": {
      "text/html": [
       "\n",
       "\n",
       "\n",
       "\n",
       "\n",
       "\n",
       "  <div class=\"bk-root\" id=\"dbf76101-bc59-49d3-b9cc-71bdcb6d371b\" data-root-id=\"1566\"></div>\n"
      ]
     },
     "metadata": {},
     "output_type": "display_data"
    },
    {
     "data": {
      "application/javascript": [
       "(function(root) {\n",
       "  function embed_document(root) {\n",
       "    \n",
       "  var docs_json = {\"5d8f05dd-ad0a-4462-9151-130ca7020ac3\":{\"roots\":{\"references\":[{\"attributes\":{\"below\":[{\"id\":\"1575\",\"type\":\"LinearAxis\"}],\"center\":[{\"id\":\"1579\",\"type\":\"Grid\"},{\"id\":\"1584\",\"type\":\"Grid\"},{\"id\":\"1614\",\"type\":\"Legend\"}],\"left\":[{\"id\":\"1580\",\"type\":\"LinearAxis\"}],\"plot_height\":450,\"plot_width\":750,\"renderers\":[{\"id\":\"1605\",\"type\":\"GlyphRenderer\"}],\"title\":{\"id\":\"1598\",\"type\":\"Title\"},\"toolbar\":{\"id\":\"1591\",\"type\":\"Toolbar\"},\"x_range\":{\"id\":\"1567\",\"type\":\"DataRange1d\"},\"x_scale\":{\"id\":\"1571\",\"type\":\"LinearScale\"},\"y_range\":{\"id\":\"1569\",\"type\":\"DataRange1d\"},\"y_scale\":{\"id\":\"1573\",\"type\":\"LinearScale\"}},\"id\":\"1566\",\"subtype\":\"Figure\",\"type\":\"Plot\"},{\"attributes\":{\"label\":{\"field\":\"labels\"},\"renderers\":[{\"id\":\"1605\",\"type\":\"GlyphRenderer\"}]},\"id\":\"1615\",\"type\":\"LegendItem\"},{\"attributes\":{\"formatter\":{\"id\":\"1612\",\"type\":\"BasicTickFormatter\"},\"ticker\":{\"id\":\"1576\",\"type\":\"BasicTicker\"}},\"id\":\"1575\",\"type\":\"LinearAxis\"},{\"attributes\":{},\"id\":\"1588\",\"type\":\"SaveTool\"},{\"attributes\":{},\"id\":\"1623\",\"type\":\"UnionRenderers\"},{\"attributes\":{\"callback\":null},\"id\":\"1567\",\"type\":\"DataRange1d\"},{\"attributes\":{},\"id\":\"1589\",\"type\":\"ResetTool\"},{\"attributes\":{\"ticker\":{\"id\":\"1576\",\"type\":\"BasicTicker\"}},\"id\":\"1579\",\"type\":\"Grid\"},{\"attributes\":{\"line_alpha\":{\"value\":0.1},\"line_color\":{\"value\":\"#1f77b4\"},\"line_width\":{\"value\":2},\"xs\":{\"field\":\"xs\"},\"ys\":{\"field\":\"ys\"}},\"id\":\"1604\",\"type\":\"MultiLine\"},{\"attributes\":{\"callback\":null},\"id\":\"1569\",\"type\":\"DataRange1d\"},{\"attributes\":{},\"id\":\"1590\",\"type\":\"HelpTool\"},{\"attributes\":{},\"id\":\"1571\",\"type\":\"LinearScale\"},{\"attributes\":{},\"id\":\"1624\",\"type\":\"Selection\"},{\"attributes\":{\"active_drag\":\"auto\",\"active_inspect\":\"auto\",\"active_multi\":null,\"active_scroll\":\"auto\",\"active_tap\":\"auto\",\"tools\":[{\"id\":\"1585\",\"type\":\"PanTool\"},{\"id\":\"1586\",\"type\":\"WheelZoomTool\"},{\"id\":\"1587\",\"type\":\"BoxZoomTool\"},{\"id\":\"1588\",\"type\":\"SaveTool\"},{\"id\":\"1589\",\"type\":\"ResetTool\"},{\"id\":\"1590\",\"type\":\"HelpTool\"}]},\"id\":\"1591\",\"type\":\"Toolbar\"},{\"attributes\":{},\"id\":\"1576\",\"type\":\"BasicTicker\"},{\"attributes\":{\"formatter\":{\"id\":\"1610\",\"type\":\"BasicTickFormatter\"},\"ticker\":{\"id\":\"1581\",\"type\":\"BasicTicker\"}},\"id\":\"1580\",\"type\":\"LinearAxis\"},{\"attributes\":{},\"id\":\"1586\",\"type\":\"WheelZoomTool\"},{\"attributes\":{\"dimension\":1,\"ticker\":{\"id\":\"1581\",\"type\":\"BasicTicker\"}},\"id\":\"1584\",\"type\":\"Grid\"},{\"attributes\":{\"callback\":null,\"data\":{\"color\":[\"red\",\"blue\"],\"labels\":[\"Average\",\"Complete\"],\"xs\":[[10,11,12,13,14,15,16,17,18,19,20,21,22,23,24,25,26,27,28,29,30,31,32,33,34,35,36,37,38,39,40,41,42,43,44,45,46,47,48,49,50],[10,11,12,13,14,15,16,17,18,19,20,21,22,23,24,25,26,27,28,29,30,31,32,33,34,35,36,37,38,39,40,41,42,43,44,45,46,47,48,49,50]],\"ys\":[[11.858441804792214,11.393423915524895,10.684961869393387,10.577489370987683,10.559753646577539,11.398192706530338,11.155139316487348,10.927061332162609,10.77224283798946,10.35640724140153,10.06674821402977,10.305431195074055,10.189237523800674,9.918863328635018,9.650199129042708,9.755210546916157,9.657015785159832,9.515967306501581,9.40800742178586,9.216771830922044,9.001409421943677,8.919001413146848,8.739616518224834,8.863222917518916,8.821426862349195,8.71248808297508,8.685507971208708,8.533051731454186,8.512453868313107,8.448769558405377,8.320384446990923,8.35045741643869,8.28685268169515,8.218620984170137,8.100784190519384,8.0201984006301,7.931956756975847,7.869783430780941,7.85265370753132,7.79969220711291,7.6931290268526125],[14.913776774030909,14.082130325644567,13.152784941124862,12.30894849889709,11.540341489968673,10.94084928566979,10.418034087937558,10.166295541577691,10.898710071831017,10.516741210587105,10.203524642037863,10.09371618850614,9.944333388033641,9.955911727630957,9.68195197103527,9.39034558835672,9.142237713457389,8.893729733734085,8.631627163383765,8.421246651782148,8.332296811472688,8.10290911137772,8.039567620077198,9.09214868899534,8.930151316867635,8.753793117404536,8.541419337318258,8.394837533746111,8.265199494768718,8.079527596596773,7.94618802586961,7.843140358913016,7.741758541652766,7.631345139515629,7.513530903182234,7.438757457095716,7.838638110107335,8.343217359848873,8.225324880837027,8.119227020763692,8.002929689348488]]},\"selected\":{\"id\":\"1624\",\"type\":\"Selection\"},\"selection_policy\":{\"id\":\"1623\",\"type\":\"UnionRenderers\"}},\"id\":\"1601\",\"type\":\"ColumnDataSource\"},{\"attributes\":{\"data_source\":{\"id\":\"1601\",\"type\":\"ColumnDataSource\"},\"glyph\":{\"id\":\"1603\",\"type\":\"MultiLine\"},\"hover_glyph\":null,\"muted_glyph\":null,\"nonselection_glyph\":{\"id\":\"1604\",\"type\":\"MultiLine\"},\"selection_glyph\":null,\"view\":{\"id\":\"1606\",\"type\":\"CDSView\"}},\"id\":\"1605\",\"type\":\"GlyphRenderer\"},{\"attributes\":{},\"id\":\"1581\",\"type\":\"BasicTicker\"},{\"attributes\":{\"overlay\":{\"id\":\"1613\",\"type\":\"BoxAnnotation\"}},\"id\":\"1587\",\"type\":\"BoxZoomTool\"},{\"attributes\":{\"line_color\":{\"field\":\"color\"},\"line_width\":{\"value\":2},\"xs\":{\"field\":\"xs\"},\"ys\":{\"field\":\"ys\"}},\"id\":\"1603\",\"type\":\"MultiLine\"},{\"attributes\":{},\"id\":\"1573\",\"type\":\"LinearScale\"},{\"attributes\":{\"bottom_units\":\"screen\",\"fill_alpha\":{\"value\":0.5},\"fill_color\":{\"value\":\"lightgrey\"},\"left_units\":\"screen\",\"level\":\"overlay\",\"line_alpha\":{\"value\":1.0},\"line_color\":{\"value\":\"black\"},\"line_dash\":[4,4],\"line_width\":{\"value\":2},\"render_mode\":\"css\",\"right_units\":\"screen\",\"top_units\":\"screen\"},\"id\":\"1613\",\"type\":\"BoxAnnotation\"},{\"attributes\":{},\"id\":\"1610\",\"type\":\"BasicTickFormatter\"},{\"attributes\":{\"align\":\"center\",\"text\":\"Word2vec filter Calinski-Harabasz score\",\"text_font_size\":{\"value\":\"20px\"}},\"id\":\"1598\",\"type\":\"Title\"},{\"attributes\":{\"source\":{\"id\":\"1601\",\"type\":\"ColumnDataSource\"}},\"id\":\"1606\",\"type\":\"CDSView\"},{\"attributes\":{},\"id\":\"1612\",\"type\":\"BasicTickFormatter\"},{\"attributes\":{\"items\":[{\"id\":\"1615\",\"type\":\"LegendItem\"}]},\"id\":\"1614\",\"type\":\"Legend\"},{\"attributes\":{},\"id\":\"1585\",\"type\":\"PanTool\"}],\"root_ids\":[\"1566\"]},\"title\":\"Bokeh Application\",\"version\":\"1.3.4\"}};\n",
       "  var render_items = [{\"docid\":\"5d8f05dd-ad0a-4462-9151-130ca7020ac3\",\"roots\":{\"1566\":\"dbf76101-bc59-49d3-b9cc-71bdcb6d371b\"}}];\n",
       "  root.Bokeh.embed.embed_items_notebook(docs_json, render_items);\n",
       "\n",
       "  }\n",
       "  if (root.Bokeh !== undefined) {\n",
       "    embed_document(root);\n",
       "  } else {\n",
       "    var attempts = 0;\n",
       "    var timer = setInterval(function(root) {\n",
       "      if (root.Bokeh !== undefined) {\n",
       "        embed_document(root);\n",
       "        clearInterval(timer);\n",
       "      }\n",
       "      attempts++;\n",
       "      if (attempts > 100) {\n",
       "        console.log(\"Bokeh: ERROR: Unable to run BokehJS code because BokehJS library is missing\");\n",
       "        clearInterval(timer);\n",
       "      }\n",
       "    }, 10, root)\n",
       "  }\n",
       "})(window);"
      ],
      "application/vnd.bokehjs_exec.v0+json": ""
     },
     "metadata": {
      "application/vnd.bokehjs_exec.v0+json": {
       "id": "1566"
      }
     },
     "output_type": "display_data"
    }
   ],
   "source": [
    "h_plot_evaluation(title=\"Word2vec filter Calinski-Harabasz score\", metric=CH_w2v3[0], c=c, label1=\"Average\",\n",
    "                  metric2=CH_w2v3[1], label2=\"Complete\", pos_legend=\"top_right\")"
   ]
  },
  {
   "cell_type": "markdown",
   "metadata": {},
   "source": [
    "<font size=3>\n",
    "    \n",
    "Spesso l'indice di <i>Calinski-Harabasz</i> e quello di <i>Silhouette</i> hanno avuto comportamenti opposti e in questo caso il trend viene confermato: per un maggiore numero di cluster la metrica assume valori peggiori, più bassi, mentre l'ottimale di ha con il numero minimo di cluster selezionati. L'andamento è uguale a quello dei modelli con la matrice di medie dimensioni, descrescente al creascere del numero di cluster, e qua non si ha una netta divisione fra i due metodi di linkage, le due curve si intersecano frequentemente."
   ]
  },
  {
   "cell_type": "markdown",
   "metadata": {},
   "source": [
    "<br></br>\n",
    "### [2.3.5 Lemmatizzazione](#2.3.5)"
   ]
  },
  {
   "cell_type": "markdown",
   "metadata": {},
   "source": [
    "<font size=3>\n",
    "    \n",
    "Durante l'identificazione della parola da parte del modello, nel caso di Word2vec non viene applicata alcuna funzione di pre-processing in quanto il modello caricato contiene le informazioni di testi reali che non hanno subito trasformazioni. Un'alternativa potrebbe essere creare una lemmatizzazione per ridurre la dimensionalità della matrice e sperare in una migliore classificazione.\n",
    "<br></br>\n",
    "\n",
    "La funzione si base su `find_word2`, in cui nell'ultimo passaggio viene aggiunta la lemmatizzazione realizzata tramite la funzione `lemmatize` della libreria `ntkl`. La funzione di lemmatizzazione è inserita nella classe `WordNetLemmatizer` che sarà assengata all'oggetto `lemmatizer` e che tramite quest'ultimo sarà richiamata."
   ]
  },
  {
   "cell_type": "code",
   "execution_count": 57,
   "metadata": {},
   "outputs": [],
   "source": [
    "def find_word3(w_list, w_pattern, w_output, nouns_list):\n",
    "    for i in tqdm(range(len(w_list))):\n",
    "        for j in range(len(w_list[i])):\n",
    "            \n",
    "            # le parole e i tag sono in un'unica stringa, si separano\n",
    "            temp_w = w_list[i][j].split(' ') \n",
    "            temp_p = w_pattern[i][j].split(' ')\n",
    "            \n",
    "            for k in range(len(temp_p)):\n",
    "                if temp_p[k] == \"NN\":\n",
    "                    out = cases(temp_w[k])\n",
    "                    nouns_list.append(temp_w[k])\n",
    "                    \n",
    "                    # Si controlla che non si tratti di un nome di persona\n",
    "                    if temp_w[k] != temp_w[k].lower():\n",
    "                        if k < (len(temp_p) - 1):\n",
    "                            if (temp_w[k-1] != temp_w[k-1].lower()) or (temp_w[k+1] != temp_w[k+1].lower()):\n",
    "                                break\n",
    "                        else:\n",
    "                            if (temp_w[k-1] != temp_w[k-1].lower()):\n",
    "                                break\n",
    "                            \n",
    "                    # Le uniche maiuscole accettate sono quelle iniziali e si controlla se il lemma è un nome\n",
    "                    if out in ['NU', 'FU']:\n",
    "                        temp_w[k] = lemmatizer.lemmatize(temp_w[k].lower(), pos =\"n\")\n",
    "                        if (temp_w[k] not in w_output) and (len(temp_w[k]) > 2):\n",
    "                            try:\n",
    "                                model[temp_w[k]]\n",
    "                                w_output.append(temp_w[k])\n",
    "                            except KeyError:\n",
    "                                pass\n",
    "                        \n",
    "    return(w_output)"
   ]
  },
  {
   "cell_type": "code",
   "execution_count": 58,
   "metadata": {},
   "outputs": [],
   "source": [
    "from nltk.stem import WordNetLemmatizer\n",
    "lemmatizer = WordNetLemmatizer()"
   ]
  },
  {
   "cell_type": "markdown",
   "metadata": {},
   "source": [
    "<font size=3>\n",
    "    \n",
    "L'obiettivo della lemmatizzazione è quello di trovare un set di parole più ridotto e basilare per semplificare il compito di clusterizzazione."
   ]
  },
  {
   "cell_type": "code",
   "execution_count": null,
   "metadata": {},
   "outputs": [],
   "source": [
    "word_accepted_lem = []\n",
    "nouns_list_lem = []\n",
    "word_no_spell_lem = find_word3(w_pattern_gsp, t_pattern_gsp, w_output=word_accepted_lem, nouns_list=nouns_list_lem)"
   ]
  },
  {
   "cell_type": "code",
   "execution_count": 60,
   "metadata": {},
   "outputs": [
    {
     "data": {
      "text/plain": [
       "29169"
      ]
     },
     "execution_count": 60,
     "metadata": {},
     "output_type": "execute_result"
    }
   ],
   "source": [
    "len(word_accepted_lem)"
   ]
  },
  {
   "cell_type": "markdown",
   "metadata": {},
   "source": [
    "<font size=3>\n",
    "    \n",
    "Non si sono registrati grandi miglioramenti, la numerosità della lista trovata è solo di qualche centinaia di termini più corta e non dovrebbero esserci modifiche sostanziali alle operazioni di clusterizzazione."
   ]
  },
  {
   "cell_type": "markdown",
   "metadata": {},
   "source": [
    "<br></br>\n",
    "### [2.3.6 Alternative](#2.3.6)"
   ]
  },
  {
   "cell_type": "markdown",
   "metadata": {},
   "source": [
    "<font size=3>\n",
    "    \n",
    "Le clusterizzazioni non sono buone per una combinazione di fattori:\n",
    "* L'<i>indice di Silhouette</i> raggiunge al massimo $0.25$ nel primo modello WordNet senza filtraggio di parole, con un numero di cluster pari a $12$. Tutte le altre combinazioni non offrono un valore migliore e anzi in alcuni casi sono nettamente inferiori.\n",
    "* Il numero di osservazioni spesso non è in sintonia con il numero di cluster identificati il che porta, come confermato dal metodo HDBSCAN ad un cluster enorme con dentro la maggior parte delle osservazioni, rendendo il raggruppamento non efficace.\n",
    "* Provare a cambiare metrica per la matrice delle distanze o ad utilizzare metodi alternativi come Word2vec non ha portatato a delle migliorie.\n",
    "\n",
    "Anche se non ha avuto grande successo nella clusterizzazione, il modello Word2vec possiede un'interessante funzione, `most_similar`, che permette di visualizzare un numero predifinito di parole considerate le più simili a quella data."
   ]
  },
  {
   "cell_type": "code",
   "execution_count": 3,
   "metadata": {
    "scrolled": true
   },
   "outputs": [
    {
     "name": "stdout",
     "output_type": "stream",
     "text": [
      "('cinemas', 0.6968410015106201)\n",
      "('Cinema', 0.6812143921852112)\n",
      "('film', 0.6696188449859619)\n",
      "('arthouse_cinema', 0.6569762229919434)\n",
      "('films', 0.653031051158905)\n",
      "('theater', 0.6515337824821472)\n",
      "('arthouse', 0.6391520500183105)\n",
      "('arthouse_cinemas', 0.6353806257247925)\n",
      "('movie', 0.6317482590675354)\n",
      "('filmmaking', 0.6315000057220459)\n"
     ]
    }
   ],
   "source": [
    "a = model.most_similar('cinema', topn=10)\n",
    "for word in a:\n",
    "    print(word)"
   ]
  },
  {
   "cell_type": "markdown",
   "metadata": {},
   "source": [
    "<font size=3>\n",
    "    \n",
    "Le similarità sono le stesse riportate nella matrice delle distanze, però con un atteggiamento meno rigoroso si potrebbe pensare che se una parola compare nei primi dieci risultati più simili di un'altra parola, la si potrebbe considerare un suo sinonimo e un candidato per essere raggruppato assieme."
   ]
  },
  {
   "cell_type": "code",
   "execution_count": 14,
   "metadata": {
    "collapsed": true
   },
   "outputs": [
    {
     "name": "stderr",
     "output_type": "stream",
     "text": [
      "  1%|▌                                                                           | 215/29379 [00:37<1:26:48,  5.60it/s]"
     ]
    },
    {
     "ename": "KeyboardInterrupt",
     "evalue": "",
     "output_type": "error",
     "traceback": [
      "\u001b[1;31m---------------------------------------------------------------------------\u001b[0m",
      "\u001b[1;31mKeyboardInterrupt\u001b[0m                         Traceback (most recent call last)",
      "\u001b[1;32m<ipython-input-14-a8ddd1cd7ae5>\u001b[0m in \u001b[0;36m<module>\u001b[1;34m\u001b[0m\n\u001b[0;32m      2\u001b[0m \u001b[1;32mfor\u001b[0m \u001b[0mword\u001b[0m \u001b[1;32min\u001b[0m \u001b[0mtqdm\u001b[0m\u001b[1;33m(\u001b[0m\u001b[0mrange\u001b[0m\u001b[1;33m(\u001b[0m\u001b[0mlen\u001b[0m\u001b[1;33m(\u001b[0m\u001b[0mword_accepted2\u001b[0m\u001b[1;33m)\u001b[0m\u001b[1;33m)\u001b[0m\u001b[1;33m)\u001b[0m\u001b[1;33m:\u001b[0m\u001b[1;33m\u001b[0m\u001b[1;33m\u001b[0m\u001b[0m\n\u001b[0;32m      3\u001b[0m     \u001b[0msimilar_list\u001b[0m \u001b[1;33m=\u001b[0m \u001b[1;33m[\u001b[0m\u001b[1;33m]\u001b[0m\u001b[1;33m\u001b[0m\u001b[1;33m\u001b[0m\u001b[0m\n\u001b[1;32m----> 4\u001b[1;33m     \u001b[0mtemp\u001b[0m \u001b[1;33m=\u001b[0m \u001b[0mmodel\u001b[0m\u001b[1;33m.\u001b[0m\u001b[0mmost_similar\u001b[0m\u001b[1;33m(\u001b[0m\u001b[0mword_accepted2\u001b[0m\u001b[1;33m[\u001b[0m\u001b[0mword\u001b[0m\u001b[1;33m]\u001b[0m\u001b[1;33m,\u001b[0m \u001b[0mtopn\u001b[0m\u001b[1;33m=\u001b[0m\u001b[1;36m10\u001b[0m\u001b[1;33m)\u001b[0m\u001b[1;33m\u001b[0m\u001b[1;33m\u001b[0m\u001b[0m\n\u001b[0m\u001b[0;32m      5\u001b[0m     \u001b[1;32mfor\u001b[0m \u001b[0mi\u001b[0m \u001b[1;32min\u001b[0m \u001b[0mrange\u001b[0m\u001b[1;33m(\u001b[0m\u001b[0mlen\u001b[0m\u001b[1;33m(\u001b[0m\u001b[0mtemp\u001b[0m\u001b[1;33m)\u001b[0m\u001b[1;33m)\u001b[0m\u001b[1;33m:\u001b[0m\u001b[1;33m\u001b[0m\u001b[1;33m\u001b[0m\u001b[0m\n\u001b[0;32m      6\u001b[0m         \u001b[1;32mif\u001b[0m \u001b[0mtemp\u001b[0m\u001b[1;33m[\u001b[0m\u001b[0mi\u001b[0m\u001b[1;33m]\u001b[0m\u001b[1;33m[\u001b[0m\u001b[1;36m0\u001b[0m\u001b[1;33m]\u001b[0m \u001b[1;32min\u001b[0m \u001b[0mword_accepted2\u001b[0m\u001b[1;33m:\u001b[0m\u001b[1;33m\u001b[0m\u001b[1;33m\u001b[0m\u001b[0m\n",
      "\u001b[1;32m~\\Anaconda3\\lib\\site-packages\\gensim\\models\\keyedvectors.py\u001b[0m in \u001b[0;36mmost_similar\u001b[1;34m(self, positive, negative, topn, restrict_vocab, indexer)\u001b[0m\n\u001b[0;32m    562\u001b[0m \u001b[1;33m\u001b[0m\u001b[0m\n\u001b[0;32m    563\u001b[0m         \u001b[0mlimited\u001b[0m \u001b[1;33m=\u001b[0m \u001b[0mself\u001b[0m\u001b[1;33m.\u001b[0m\u001b[0mvectors_norm\u001b[0m \u001b[1;32mif\u001b[0m \u001b[0mrestrict_vocab\u001b[0m \u001b[1;32mis\u001b[0m \u001b[1;32mNone\u001b[0m \u001b[1;32melse\u001b[0m \u001b[0mself\u001b[0m\u001b[1;33m.\u001b[0m\u001b[0mvectors_norm\u001b[0m\u001b[1;33m[\u001b[0m\u001b[1;33m:\u001b[0m\u001b[0mrestrict_vocab\u001b[0m\u001b[1;33m]\u001b[0m\u001b[1;33m\u001b[0m\u001b[1;33m\u001b[0m\u001b[0m\n\u001b[1;32m--> 564\u001b[1;33m         \u001b[0mdists\u001b[0m \u001b[1;33m=\u001b[0m \u001b[0mdot\u001b[0m\u001b[1;33m(\u001b[0m\u001b[0mlimited\u001b[0m\u001b[1;33m,\u001b[0m \u001b[0mmean\u001b[0m\u001b[1;33m)\u001b[0m\u001b[1;33m\u001b[0m\u001b[1;33m\u001b[0m\u001b[0m\n\u001b[0m\u001b[0;32m    565\u001b[0m         \u001b[1;32mif\u001b[0m \u001b[1;32mnot\u001b[0m \u001b[0mtopn\u001b[0m\u001b[1;33m:\u001b[0m\u001b[1;33m\u001b[0m\u001b[1;33m\u001b[0m\u001b[0m\n\u001b[0;32m    566\u001b[0m             \u001b[1;32mreturn\u001b[0m \u001b[0mdists\u001b[0m\u001b[1;33m\u001b[0m\u001b[1;33m\u001b[0m\u001b[0m\n",
      "\u001b[1;31mKeyboardInterrupt\u001b[0m: "
     ]
    }
   ],
   "source": [
    "diz_most_similar = {}\n",
    "for word in tqdm(range(len(word_accepted2))):\n",
    "    similar_list = []\n",
    "    temp = model.most_similar(word_accepted2[word], topn=10)\n",
    "    for i in range(len(temp)):\n",
    "        if temp[i][0] in word_accepted2:\n",
    "            similar_list.append(temp[i][0])\n",
    "            \n",
    "    diz_most_similar[word_accepted2[word]] = similar_list"
   ]
  },
  {
   "cell_type": "code",
   "execution_count": 24,
   "metadata": {},
   "outputs": [
    {
     "data": {
      "text/plain": [
       "['film', 'theater', 'arthouse', 'movie', 'filmmaking']"
      ]
     },
     "execution_count": 24,
     "metadata": {},
     "output_type": "execute_result"
    }
   ],
   "source": [
    "diz_most_similar['cinema']"
   ]
  },
  {
   "cell_type": "code",
   "execution_count": 25,
   "metadata": {},
   "outputs": [],
   "source": [
    "with open('diz_most_similar', 'wb') as fp:\n",
    "    pickle.dump(diz_most_similar, fp)"
   ]
  },
  {
   "cell_type": "markdown",
   "metadata": {},
   "source": [
    "<br></br>\n",
    "### [2.3.7 Wu-Palmer no root](#2.3.7)"
   ]
  },
  {
   "cell_type": "code",
   "execution_count": 70,
   "metadata": {},
   "outputs": [],
   "source": [
    "m = len(word_accepted)\n",
    "distances_nr = dia_matrix((m , m)).toarray()"
   ]
  },
  {
   "cell_type": "code",
   "execution_count": 71,
   "metadata": {},
   "outputs": [
    {
     "name": "stderr",
     "output_type": "stream",
     "text": [
      "100%|██████████████████████████████████████████████████████████████████████████| 20187/20187 [5:09:54<00:00,  1.09it/s]\n"
     ]
    }
   ],
   "source": [
    "from nltk.corpus import wordnet as wn\n",
    "cont = 0\n",
    "for i in tqdm(range(len(word_accepted_list))):\n",
    "    j = i\n",
    "    while j < len(word_accepted_list2):\n",
    "        distances_nr[i, j] = round(wn.wup_similarity(word_accepted_list[i], word_accepted_list2[j], simulate_root=False),3)\n",
    "        j = j + 1"
   ]
  },
  {
   "cell_type": "code",
   "execution_count": 73,
   "metadata": {},
   "outputs": [],
   "source": [
    "np.save('distances_nr.npy', distances_nr)"
   ]
  },
  {
   "cell_type": "code",
   "execution_count": 6,
   "metadata": {},
   "outputs": [],
   "source": [
    "#np.save('distances_nr.npy', distances_nr)\n",
    "\n",
    "distances_nr = np.load(\"distances_nr.npy\")"
   ]
  },
  {
   "cell_type": "code",
   "execution_count": 78,
   "metadata": {},
   "outputs": [
    {
     "name": "stderr",
     "output_type": "stream",
     "text": [
      "100%|███████████████████████████████████████████████████████████████████████████| 20187/20187 [02:33<00:00, 131.20it/s]\n"
     ]
    }
   ],
   "source": [
    "diz_similarity = {}\n",
    "for i in tqdm(range(distances_nr.shape[0])):\n",
    "    target = words[i]\n",
    "    sim = []\n",
    "    for j in range(distances_nr.shape[1]):\n",
    "        if distances_nr[i, j] == 1 and (i != j):\n",
    "            sim.append(words[j])\n",
    "            \n",
    "    diz_similarity[target] = sim"
   ]
  },
  {
   "cell_type": "code",
   "execution_count": 85,
   "metadata": {},
   "outputs": [],
   "source": [
    "primary_words = []\n",
    "filter_words = []\n",
    "for word in diz_similarity.keys():\n",
    "    if (word not in primary_words) and (word not in filter_words):\n",
    "        primary_words.append(word)\n",
    "    else:\n",
    "        primary_words.append('')\n",
    "    \n",
    "    for w in diz_similarity[word]:\n",
    "        filter_words.append(w)"
   ]
  },
  {
   "cell_type": "code",
   "execution_count": 86,
   "metadata": {},
   "outputs": [
    {
     "name": "stdout",
     "output_type": "stream",
     "text": [
      "4159\n"
     ]
    },
    {
     "data": {
      "text/plain": [
       "True"
      ]
     },
     "execution_count": 86,
     "metadata": {},
     "output_type": "execute_result"
    }
   ],
   "source": [
    "removed = sum([1 for word in primary_words if word == ''])\n",
    "print(removed)\n",
    "removed == len(set(filter_words))"
   ]
  },
  {
   "cell_type": "code",
   "execution_count": 87,
   "metadata": {},
   "outputs": [],
   "source": [
    "idx = [i for i, x in enumerate(primary_words) if x == '']\n",
    "idx.reverse()\n",
    "\n",
    "distances_nr = np.delete(distances_nr, (idx), axis=0)\n",
    "distances_nr = np.delete(distances_nr, (idx), axis=1)\n",
    "\n",
    "for i in idx:\n",
    "    del primary_words[i]"
   ]
  },
  {
   "cell_type": "code",
   "execution_count": 88,
   "metadata": {},
   "outputs": [
    {
     "name": "stderr",
     "output_type": "stream",
     "text": [
      "100%|███████████████████████████████████████████████████████████████████████████| 16028/16028 [01:03<00:00, 252.58it/s]\n"
     ]
    }
   ],
   "source": [
    "for i in tqdm(range(distances_nr.shape[0])):\n",
    "    for j in range(distances_nr.shape[1]):\n",
    "        if j < i:\n",
    "            distances_nr[i, j] = distances_nr[j, i]"
   ]
  },
  {
   "cell_type": "code",
   "execution_count": 89,
   "metadata": {},
   "outputs": [],
   "source": [
    "d_matrix = np.matrix(distances_nr)\n",
    "d_matrix1 = 1 - d_matrix"
   ]
  },
  {
   "cell_type": "code",
   "execution_count": 90,
   "metadata": {},
   "outputs": [
    {
     "data": {
      "application/vnd.jupyter.widget-view+json": {
       "model_id": "a6d9e630afc347dbadd2a0985512f3f5",
       "version_major": 2,
       "version_minor": 0
      },
      "text/plain": [
       "HBox(children=(IntProgress(value=0, description='Method', max=3, style=ProgressStyle(description_width='initia…"
      ]
     },
     "metadata": {},
     "output_type": "display_data"
    },
    {
     "data": {
      "application/vnd.jupyter.widget-view+json": {
       "model_id": "ec7f85475fc74e76b57e73b11cc8f85c",
       "version_major": 2,
       "version_minor": 0
      },
      "text/plain": [
       "HBox(children=(IntProgress(value=0, description='single', max=31, style=ProgressStyle(description_width='initi…"
      ]
     },
     "metadata": {},
     "output_type": "display_data"
    },
    {
     "name": "stdout",
     "output_type": "stream",
     "text": [
      "\n"
     ]
    },
    {
     "data": {
      "application/vnd.jupyter.widget-view+json": {
       "model_id": "6ead8a86381a429088a8d21095fc9908",
       "version_major": 2,
       "version_minor": 0
      },
      "text/plain": [
       "HBox(children=(IntProgress(value=0, description='average', max=31, style=ProgressStyle(description_width='init…"
      ]
     },
     "metadata": {},
     "output_type": "display_data"
    },
    {
     "name": "stdout",
     "output_type": "stream",
     "text": [
      "\n"
     ]
    },
    {
     "data": {
      "application/vnd.jupyter.widget-view+json": {
       "model_id": "39b5c23a4d0743c5aa54a97a45582678",
       "version_major": 2,
       "version_minor": 0
      },
      "text/plain": [
       "HBox(children=(IntProgress(value=0, description='complete', max=31, style=ProgressStyle(description_width='ini…"
      ]
     },
     "metadata": {},
     "output_type": "display_data"
    },
    {
     "name": "stdout",
     "output_type": "stream",
     "text": [
      "\n",
      "\n"
     ]
    }
   ],
   "source": [
    "link = ['single', 'average', 'complete']\n",
    "silhouette_score, CH_score = [[] for i in range(2)]\n",
    "(silhouette, CH) = clustering(10, 41, link_list=link, dist=d_matrix1, \n",
    "                              silhouette_score=silhouette_score, CH_score=CH_score)"
   ]
  },
  {
   "cell_type": "code",
   "execution_count": 91,
   "metadata": {},
   "outputs": [
    {
     "data": {
      "application/vnd.jupyter.widget-view+json": {
       "model_id": "3df50c58e2b9447eabd0dadcd56ee2b5",
       "version_major": 2,
       "version_minor": 0
      },
      "text/plain": [
       "HBox(children=(IntProgress(value=0, description='Method', max=3, style=ProgressStyle(description_width='initia…"
      ]
     },
     "metadata": {},
     "output_type": "display_data"
    },
    {
     "data": {
      "application/vnd.jupyter.widget-view+json": {
       "model_id": "ff38df05d80e4871b9eb62e51a88c6d1",
       "version_major": 2,
       "version_minor": 0
      },
      "text/plain": [
       "HBox(children=(IntProgress(value=0, description='single', max=31, style=ProgressStyle(description_width='initi…"
      ]
     },
     "metadata": {},
     "output_type": "display_data"
    },
    {
     "name": "stdout",
     "output_type": "stream",
     "text": [
      "\n"
     ]
    },
    {
     "data": {
      "application/vnd.jupyter.widget-view+json": {
       "model_id": "f7336adddd534454a7f2aab283f9232b",
       "version_major": 2,
       "version_minor": 0
      },
      "text/plain": [
       "HBox(children=(IntProgress(value=0, description='average', max=31, style=ProgressStyle(description_width='init…"
      ]
     },
     "metadata": {},
     "output_type": "display_data"
    },
    {
     "name": "stdout",
     "output_type": "stream",
     "text": [
      "\n"
     ]
    },
    {
     "data": {
      "application/vnd.jupyter.widget-view+json": {
       "model_id": "2788435ec087426484c7a1cab12dccde",
       "version_major": 2,
       "version_minor": 0
      },
      "text/plain": [
       "HBox(children=(IntProgress(value=0, description='complete', max=31, style=ProgressStyle(description_width='ini…"
      ]
     },
     "metadata": {},
     "output_type": "display_data"
    },
    {
     "name": "stdout",
     "output_type": "stream",
     "text": [
      "\n",
      "\n"
     ]
    }
   ],
   "source": [
    "d_matrix2 = np.sqrt(2 * (1 - d_matrix))\n",
    "\n",
    "silhouette_score2, CH_score2 = [[] for i in range(2)]\n",
    "(silhouette2, CH2) = clustering(10, 41, link_list=link, dist=d_matrix2,\n",
    "                                silhouette_score=silhouette_score2, CH_score=CH_score2)"
   ]
  },
  {
   "cell_type": "code",
   "execution_count": 92,
   "metadata": {},
   "outputs": [
    {
     "data": {
      "application/javascript": [
       "\n",
       "(function(root) {\n",
       "  function now() {\n",
       "    return new Date();\n",
       "  }\n",
       "\n",
       "  var force = true;\n",
       "\n",
       "  if (typeof root._bokeh_onload_callbacks === \"undefined\" || force === true) {\n",
       "    root._bokeh_onload_callbacks = [];\n",
       "    root._bokeh_is_loading = undefined;\n",
       "  }\n",
       "\n",
       "  var JS_MIME_TYPE = 'application/javascript';\n",
       "  var HTML_MIME_TYPE = 'text/html';\n",
       "  var EXEC_MIME_TYPE = 'application/vnd.bokehjs_exec.v0+json';\n",
       "  var CLASS_NAME = 'output_bokeh rendered_html';\n",
       "\n",
       "  /**\n",
       "   * Render data to the DOM node\n",
       "   */\n",
       "  function render(props, node) {\n",
       "    var script = document.createElement(\"script\");\n",
       "    node.appendChild(script);\n",
       "  }\n",
       "\n",
       "  /**\n",
       "   * Handle when an output is cleared or removed\n",
       "   */\n",
       "  function handleClearOutput(event, handle) {\n",
       "    var cell = handle.cell;\n",
       "\n",
       "    var id = cell.output_area._bokeh_element_id;\n",
       "    var server_id = cell.output_area._bokeh_server_id;\n",
       "    // Clean up Bokeh references\n",
       "    if (id != null && id in Bokeh.index) {\n",
       "      Bokeh.index[id].model.document.clear();\n",
       "      delete Bokeh.index[id];\n",
       "    }\n",
       "\n",
       "    if (server_id !== undefined) {\n",
       "      // Clean up Bokeh references\n",
       "      var cmd = \"from bokeh.io.state import curstate; print(curstate().uuid_to_server['\" + server_id + \"'].get_sessions()[0].document.roots[0]._id)\";\n",
       "      cell.notebook.kernel.execute(cmd, {\n",
       "        iopub: {\n",
       "          output: function(msg) {\n",
       "            var id = msg.content.text.trim();\n",
       "            if (id in Bokeh.index) {\n",
       "              Bokeh.index[id].model.document.clear();\n",
       "              delete Bokeh.index[id];\n",
       "            }\n",
       "          }\n",
       "        }\n",
       "      });\n",
       "      // Destroy server and session\n",
       "      var cmd = \"import bokeh.io.notebook as ion; ion.destroy_server('\" + server_id + \"')\";\n",
       "      cell.notebook.kernel.execute(cmd);\n",
       "    }\n",
       "  }\n",
       "\n",
       "  /**\n",
       "   * Handle when a new output is added\n",
       "   */\n",
       "  function handleAddOutput(event, handle) {\n",
       "    var output_area = handle.output_area;\n",
       "    var output = handle.output;\n",
       "\n",
       "    // limit handleAddOutput to display_data with EXEC_MIME_TYPE content only\n",
       "    if ((output.output_type != \"display_data\") || (!output.data.hasOwnProperty(EXEC_MIME_TYPE))) {\n",
       "      return\n",
       "    }\n",
       "\n",
       "    var toinsert = output_area.element.find(\".\" + CLASS_NAME.split(' ')[0]);\n",
       "\n",
       "    if (output.metadata[EXEC_MIME_TYPE][\"id\"] !== undefined) {\n",
       "      toinsert[toinsert.length - 1].firstChild.textContent = output.data[JS_MIME_TYPE];\n",
       "      // store reference to embed id on output_area\n",
       "      output_area._bokeh_element_id = output.metadata[EXEC_MIME_TYPE][\"id\"];\n",
       "    }\n",
       "    if (output.metadata[EXEC_MIME_TYPE][\"server_id\"] !== undefined) {\n",
       "      var bk_div = document.createElement(\"div\");\n",
       "      bk_div.innerHTML = output.data[HTML_MIME_TYPE];\n",
       "      var script_attrs = bk_div.children[0].attributes;\n",
       "      for (var i = 0; i < script_attrs.length; i++) {\n",
       "        toinsert[toinsert.length - 1].firstChild.setAttribute(script_attrs[i].name, script_attrs[i].value);\n",
       "      }\n",
       "      // store reference to server id on output_area\n",
       "      output_area._bokeh_server_id = output.metadata[EXEC_MIME_TYPE][\"server_id\"];\n",
       "    }\n",
       "  }\n",
       "\n",
       "  function register_renderer(events, OutputArea) {\n",
       "\n",
       "    function append_mime(data, metadata, element) {\n",
       "      // create a DOM node to render to\n",
       "      var toinsert = this.create_output_subarea(\n",
       "        metadata,\n",
       "        CLASS_NAME,\n",
       "        EXEC_MIME_TYPE\n",
       "      );\n",
       "      this.keyboard_manager.register_events(toinsert);\n",
       "      // Render to node\n",
       "      var props = {data: data, metadata: metadata[EXEC_MIME_TYPE]};\n",
       "      render(props, toinsert[toinsert.length - 1]);\n",
       "      element.append(toinsert);\n",
       "      return toinsert\n",
       "    }\n",
       "\n",
       "    /* Handle when an output is cleared or removed */\n",
       "    events.on('clear_output.CodeCell', handleClearOutput);\n",
       "    events.on('delete.Cell', handleClearOutput);\n",
       "\n",
       "    /* Handle when a new output is added */\n",
       "    events.on('output_added.OutputArea', handleAddOutput);\n",
       "\n",
       "    /**\n",
       "     * Register the mime type and append_mime function with output_area\n",
       "     */\n",
       "    OutputArea.prototype.register_mime_type(EXEC_MIME_TYPE, append_mime, {\n",
       "      /* Is output safe? */\n",
       "      safe: true,\n",
       "      /* Index of renderer in `output_area.display_order` */\n",
       "      index: 0\n",
       "    });\n",
       "  }\n",
       "\n",
       "  // register the mime type if in Jupyter Notebook environment and previously unregistered\n",
       "  if (root.Jupyter !== undefined) {\n",
       "    var events = require('base/js/events');\n",
       "    var OutputArea = require('notebook/js/outputarea').OutputArea;\n",
       "\n",
       "    if (OutputArea.prototype.mime_types().indexOf(EXEC_MIME_TYPE) == -1) {\n",
       "      register_renderer(events, OutputArea);\n",
       "    }\n",
       "  }\n",
       "\n",
       "  \n",
       "  if (typeof (root._bokeh_timeout) === \"undefined\" || force === true) {\n",
       "    root._bokeh_timeout = Date.now() + 5000;\n",
       "    root._bokeh_failed_load = false;\n",
       "  }\n",
       "\n",
       "  var NB_LOAD_WARNING = {'data': {'text/html':\n",
       "     \"<div style='background-color: #fdd'>\\n\"+\n",
       "     \"<p>\\n\"+\n",
       "     \"BokehJS does not appear to have successfully loaded. If loading BokehJS from CDN, this \\n\"+\n",
       "     \"may be due to a slow or bad network connection. Possible fixes:\\n\"+\n",
       "     \"</p>\\n\"+\n",
       "     \"<ul>\\n\"+\n",
       "     \"<li>re-rerun `output_notebook()` to attempt to load from CDN again, or</li>\\n\"+\n",
       "     \"<li>use INLINE resources instead, as so:</li>\\n\"+\n",
       "     \"</ul>\\n\"+\n",
       "     \"<code>\\n\"+\n",
       "     \"from bokeh.resources import INLINE\\n\"+\n",
       "     \"output_notebook(resources=INLINE)\\n\"+\n",
       "     \"</code>\\n\"+\n",
       "     \"</div>\"}};\n",
       "\n",
       "  function display_loaded() {\n",
       "    var el = document.getElementById(null);\n",
       "    if (el != null) {\n",
       "      el.textContent = \"BokehJS is loading...\";\n",
       "    }\n",
       "    if (root.Bokeh !== undefined) {\n",
       "      if (el != null) {\n",
       "        el.textContent = \"BokehJS \" + root.Bokeh.version + \" successfully loaded.\";\n",
       "      }\n",
       "    } else if (Date.now() < root._bokeh_timeout) {\n",
       "      setTimeout(display_loaded, 100)\n",
       "    }\n",
       "  }\n",
       "\n",
       "\n",
       "  function run_callbacks() {\n",
       "    try {\n",
       "      root._bokeh_onload_callbacks.forEach(function(callback) {\n",
       "        if (callback != null)\n",
       "          callback();\n",
       "      });\n",
       "    } finally {\n",
       "      delete root._bokeh_onload_callbacks\n",
       "    }\n",
       "    console.debug(\"Bokeh: all callbacks have finished\");\n",
       "  }\n",
       "\n",
       "  function load_libs(css_urls, js_urls, callback) {\n",
       "    if (css_urls == null) css_urls = [];\n",
       "    if (js_urls == null) js_urls = [];\n",
       "\n",
       "    root._bokeh_onload_callbacks.push(callback);\n",
       "    if (root._bokeh_is_loading > 0) {\n",
       "      console.debug(\"Bokeh: BokehJS is being loaded, scheduling callback at\", now());\n",
       "      return null;\n",
       "    }\n",
       "    if (js_urls == null || js_urls.length === 0) {\n",
       "      run_callbacks();\n",
       "      return null;\n",
       "    }\n",
       "    console.debug(\"Bokeh: BokehJS not loaded, scheduling load and callback at\", now());\n",
       "    root._bokeh_is_loading = css_urls.length + js_urls.length;\n",
       "\n",
       "    function on_load() {\n",
       "      root._bokeh_is_loading--;\n",
       "      if (root._bokeh_is_loading === 0) {\n",
       "        console.debug(\"Bokeh: all BokehJS libraries/stylesheets loaded\");\n",
       "        run_callbacks()\n",
       "      }\n",
       "    }\n",
       "\n",
       "    function on_error() {\n",
       "      console.error(\"failed to load \" + url);\n",
       "    }\n",
       "\n",
       "    for (var i = 0; i < css_urls.length; i++) {\n",
       "      var url = css_urls[i];\n",
       "      const element = document.createElement(\"link\");\n",
       "      element.onload = on_load;\n",
       "      element.onerror = on_error;\n",
       "      element.rel = \"stylesheet\";\n",
       "      element.type = \"text/css\";\n",
       "      element.href = url;\n",
       "      console.debug(\"Bokeh: injecting link tag for BokehJS stylesheet: \", url);\n",
       "      document.body.appendChild(element);\n",
       "    }\n",
       "\n",
       "    for (var i = 0; i < js_urls.length; i++) {\n",
       "      var url = js_urls[i];\n",
       "      var element = document.createElement('script');\n",
       "      element.onload = on_load;\n",
       "      element.onerror = on_error;\n",
       "      element.async = false;\n",
       "      element.src = url;\n",
       "      console.debug(\"Bokeh: injecting script tag for BokehJS library: \", url);\n",
       "      document.head.appendChild(element);\n",
       "    }\n",
       "  };\n",
       "\n",
       "  function inject_raw_css(css) {\n",
       "    const element = document.createElement(\"style\");\n",
       "    element.appendChild(document.createTextNode(css));\n",
       "    document.body.appendChild(element);\n",
       "  }\n",
       "\n",
       "  var js_urls = [\"https://cdn.pydata.org/bokeh/release/bokeh-1.3.4.min.js\", \"https://cdn.pydata.org/bokeh/release/bokeh-widgets-1.3.4.min.js\", \"https://cdn.pydata.org/bokeh/release/bokeh-tables-1.3.4.min.js\", \"https://cdn.pydata.org/bokeh/release/bokeh-gl-1.3.4.min.js\"];\n",
       "  var css_urls = [];\n",
       "\n",
       "  var inline_js = [\n",
       "    function(Bokeh) {\n",
       "      Bokeh.set_log_level(\"info\");\n",
       "    },\n",
       "    \n",
       "    function(Bokeh) {\n",
       "      \n",
       "    },\n",
       "    function(Bokeh) {} // ensure no trailing comma for IE\n",
       "  ];\n",
       "\n",
       "  function run_inline_js() {\n",
       "    \n",
       "    if ((root.Bokeh !== undefined) || (force === true)) {\n",
       "      for (var i = 0; i < inline_js.length; i++) {\n",
       "        inline_js[i].call(root, root.Bokeh);\n",
       "      }} else if (Date.now() < root._bokeh_timeout) {\n",
       "      setTimeout(run_inline_js, 100);\n",
       "    } else if (!root._bokeh_failed_load) {\n",
       "      console.log(\"Bokeh: BokehJS failed to load within specified timeout.\");\n",
       "      root._bokeh_failed_load = true;\n",
       "    } else if (force !== true) {\n",
       "      var cell = $(document.getElementById(null)).parents('.cell').data().cell;\n",
       "      cell.output_area.append_execute_result(NB_LOAD_WARNING)\n",
       "    }\n",
       "\n",
       "  }\n",
       "\n",
       "  if (root._bokeh_is_loading === 0) {\n",
       "    console.debug(\"Bokeh: BokehJS loaded, going straight to plotting\");\n",
       "    run_inline_js();\n",
       "  } else {\n",
       "    load_libs(css_urls, js_urls, function() {\n",
       "      console.debug(\"Bokeh: BokehJS plotting callback run at\", now());\n",
       "      run_inline_js();\n",
       "    });\n",
       "  }\n",
       "}(window));"
      ],
      "application/vnd.bokehjs_load.v0+json": "\n(function(root) {\n  function now() {\n    return new Date();\n  }\n\n  var force = true;\n\n  if (typeof root._bokeh_onload_callbacks === \"undefined\" || force === true) {\n    root._bokeh_onload_callbacks = [];\n    root._bokeh_is_loading = undefined;\n  }\n\n  \n\n  \n  if (typeof (root._bokeh_timeout) === \"undefined\" || force === true) {\n    root._bokeh_timeout = Date.now() + 5000;\n    root._bokeh_failed_load = false;\n  }\n\n  var NB_LOAD_WARNING = {'data': {'text/html':\n     \"<div style='background-color: #fdd'>\\n\"+\n     \"<p>\\n\"+\n     \"BokehJS does not appear to have successfully loaded. If loading BokehJS from CDN, this \\n\"+\n     \"may be due to a slow or bad network connection. Possible fixes:\\n\"+\n     \"</p>\\n\"+\n     \"<ul>\\n\"+\n     \"<li>re-rerun `output_notebook()` to attempt to load from CDN again, or</li>\\n\"+\n     \"<li>use INLINE resources instead, as so:</li>\\n\"+\n     \"</ul>\\n\"+\n     \"<code>\\n\"+\n     \"from bokeh.resources import INLINE\\n\"+\n     \"output_notebook(resources=INLINE)\\n\"+\n     \"</code>\\n\"+\n     \"</div>\"}};\n\n  function display_loaded() {\n    var el = document.getElementById(null);\n    if (el != null) {\n      el.textContent = \"BokehJS is loading...\";\n    }\n    if (root.Bokeh !== undefined) {\n      if (el != null) {\n        el.textContent = \"BokehJS \" + root.Bokeh.version + \" successfully loaded.\";\n      }\n    } else if (Date.now() < root._bokeh_timeout) {\n      setTimeout(display_loaded, 100)\n    }\n  }\n\n\n  function run_callbacks() {\n    try {\n      root._bokeh_onload_callbacks.forEach(function(callback) {\n        if (callback != null)\n          callback();\n      });\n    } finally {\n      delete root._bokeh_onload_callbacks\n    }\n    console.debug(\"Bokeh: all callbacks have finished\");\n  }\n\n  function load_libs(css_urls, js_urls, callback) {\n    if (css_urls == null) css_urls = [];\n    if (js_urls == null) js_urls = [];\n\n    root._bokeh_onload_callbacks.push(callback);\n    if (root._bokeh_is_loading > 0) {\n      console.debug(\"Bokeh: BokehJS is being loaded, scheduling callback at\", now());\n      return null;\n    }\n    if (js_urls == null || js_urls.length === 0) {\n      run_callbacks();\n      return null;\n    }\n    console.debug(\"Bokeh: BokehJS not loaded, scheduling load and callback at\", now());\n    root._bokeh_is_loading = css_urls.length + js_urls.length;\n\n    function on_load() {\n      root._bokeh_is_loading--;\n      if (root._bokeh_is_loading === 0) {\n        console.debug(\"Bokeh: all BokehJS libraries/stylesheets loaded\");\n        run_callbacks()\n      }\n    }\n\n    function on_error() {\n      console.error(\"failed to load \" + url);\n    }\n\n    for (var i = 0; i < css_urls.length; i++) {\n      var url = css_urls[i];\n      const element = document.createElement(\"link\");\n      element.onload = on_load;\n      element.onerror = on_error;\n      element.rel = \"stylesheet\";\n      element.type = \"text/css\";\n      element.href = url;\n      console.debug(\"Bokeh: injecting link tag for BokehJS stylesheet: \", url);\n      document.body.appendChild(element);\n    }\n\n    for (var i = 0; i < js_urls.length; i++) {\n      var url = js_urls[i];\n      var element = document.createElement('script');\n      element.onload = on_load;\n      element.onerror = on_error;\n      element.async = false;\n      element.src = url;\n      console.debug(\"Bokeh: injecting script tag for BokehJS library: \", url);\n      document.head.appendChild(element);\n    }\n  };\n\n  function inject_raw_css(css) {\n    const element = document.createElement(\"style\");\n    element.appendChild(document.createTextNode(css));\n    document.body.appendChild(element);\n  }\n\n  var js_urls = [\"https://cdn.pydata.org/bokeh/release/bokeh-1.3.4.min.js\", \"https://cdn.pydata.org/bokeh/release/bokeh-widgets-1.3.4.min.js\", \"https://cdn.pydata.org/bokeh/release/bokeh-tables-1.3.4.min.js\", \"https://cdn.pydata.org/bokeh/release/bokeh-gl-1.3.4.min.js\"];\n  var css_urls = [];\n\n  var inline_js = [\n    function(Bokeh) {\n      Bokeh.set_log_level(\"info\");\n    },\n    \n    function(Bokeh) {\n      \n    },\n    function(Bokeh) {} // ensure no trailing comma for IE\n  ];\n\n  function run_inline_js() {\n    \n    if ((root.Bokeh !== undefined) || (force === true)) {\n      for (var i = 0; i < inline_js.length; i++) {\n        inline_js[i].call(root, root.Bokeh);\n      }} else if (Date.now() < root._bokeh_timeout) {\n      setTimeout(run_inline_js, 100);\n    } else if (!root._bokeh_failed_load) {\n      console.log(\"Bokeh: BokehJS failed to load within specified timeout.\");\n      root._bokeh_failed_load = true;\n    } else if (force !== true) {\n      var cell = $(document.getElementById(null)).parents('.cell').data().cell;\n      cell.output_area.append_execute_result(NB_LOAD_WARNING)\n    }\n\n  }\n\n  if (root._bokeh_is_loading === 0) {\n    console.debug(\"Bokeh: BokehJS loaded, going straight to plotting\");\n    run_inline_js();\n  } else {\n    load_libs(css_urls, js_urls, function() {\n      console.debug(\"Bokeh: BokehJS plotting callback run at\", now());\n      run_inline_js();\n    });\n  }\n}(window));"
     },
     "metadata": {},
     "output_type": "display_data"
    },
    {
     "data": {
      "text/html": [
       "\n",
       "\n",
       "\n",
       "\n",
       "\n",
       "\n",
       "  <div class=\"bk-root\" id=\"7ad3ddc0-74c0-4444-9dd2-af8cd73293f9\" data-root-id=\"2461\"></div>\n"
      ]
     },
     "metadata": {},
     "output_type": "display_data"
    },
    {
     "data": {
      "application/javascript": [
       "(function(root) {\n",
       "  function embed_document(root) {\n",
       "    \n",
       "  var docs_json = {\"ca4197dd-92a4-4689-a476-fd3eaab660dc\":{\"roots\":{\"references\":[{\"attributes\":{\"children\":[{\"id\":\"2361\",\"subtype\":\"Figure\",\"type\":\"Plot\"},{\"id\":\"2411\",\"subtype\":\"Figure\",\"type\":\"Plot\"}]},\"id\":\"2461\",\"type\":\"Row\"},{\"attributes\":{},\"id\":\"2371\",\"type\":\"BasicTicker\"},{\"attributes\":{\"line_alpha\":{\"value\":0.1},\"line_color\":{\"value\":\"#1f77b4\"},\"line_width\":{\"value\":2},\"xs\":{\"field\":\"xs\"},\"ys\":{\"field\":\"ys\"}},\"id\":\"2399\",\"type\":\"MultiLine\"},{\"attributes\":{\"formatter\":{\"id\":\"2406\",\"type\":\"BasicTickFormatter\"},\"ticker\":{\"id\":\"2376\",\"type\":\"BasicTicker\"}},\"id\":\"2375\",\"type\":\"LinearAxis\"},{\"attributes\":{\"callback\":null},\"id\":\"2362\",\"type\":\"DataRange1d\"},{\"attributes\":{\"bottom_units\":\"screen\",\"fill_alpha\":{\"value\":0.5},\"fill_color\":{\"value\":\"lightgrey\"},\"left_units\":\"screen\",\"level\":\"overlay\",\"line_alpha\":{\"value\":1.0},\"line_color\":{\"value\":\"black\"},\"line_dash\":[4,4],\"line_width\":{\"value\":2},\"render_mode\":\"css\",\"right_units\":\"screen\",\"top_units\":\"screen\"},\"id\":\"2458\",\"type\":\"BoxAnnotation\"},{\"attributes\":{},\"id\":\"2366\",\"type\":\"LinearScale\"},{\"attributes\":{\"dimension\":1,\"ticker\":{\"id\":\"2376\",\"type\":\"BasicTicker\"}},\"id\":\"2379\",\"type\":\"Grid\"},{\"attributes\":{},\"id\":\"2416\",\"type\":\"LinearScale\"},{\"attributes\":{},\"id\":\"2385\",\"type\":\"HelpTool\"},{\"attributes\":{},\"id\":\"2430\",\"type\":\"PanTool\"},{\"attributes\":{\"callback\":null,\"data\":{\"color\":[\"red\",\"blue\",\"black\"],\"labels\":[\"single\",\"average\",\"complete\"],\"xs\":[[10,11,12,13,14,15,16,17,18,19,20,21,22,23,24,25,26,27,28,29,30,31,32,33,34,35,36,37,38,39,40],[10,11,12,13,14,15,16,17,18,19,20,21,22,23,24,25,26,27,28,29,30,31,32,33,34,35,36,37,38,39,40],[10,11,12,13,14,15,16,17,18,19,20,21,22,23,24,25,26,27,28,29,30,31,32,33,34,35,36,37,38,39,40]],\"ys\":[[-0.03181003294132477,-0.046717150605953266,-0.0963758445979497,-0.09637219866587486,-0.10089744613637139,-0.10219304228988106,-0.10496627023634893,-0.10679041082199775,-0.10694192533214449,-0.10706464495391725,-0.10732892543721984,-0.10602043727941236,-0.10705375171078654,-0.1076617668121625,-0.10759732008503055,-0.10885708883887885,-0.10874913705925784,-0.10833642254831471,-0.10835907608321803,-0.10887411316778424,-0.109334720228053,-0.1092603728007871,-0.10908128753276265,-0.12569817967137678,-0.1296191874217734,-0.12938639316872308,-0.13070365529690867,-0.13058225806383136,-0.13048809771874642,-0.13017987612026488,-0.1295812362220052],[0.14388490741913218,0.14484230473079313,0.1463342436080249,0.13600906919472566,0.1346876985226443,0.1350954456672206,0.13117752690990095,0.12285902463151022,0.13327985783945487,0.1331065677785498,0.12895093288000636,0.12734850830606717,0.12886477303640742,0.129460886773254,0.12975359343983334,0.12949143822995035,0.13117698555464946,0.13198661735864134,0.13155312881469727,0.13186276975828812,0.13258416366756412,0.13319620221854964,0.13314574024938333,0.1354942173456946,0.13497086241692796,0.13418633900327517,0.1362394209593392,0.13675124294068003,0.13376697657597314,0.12431414004805358,0.12418056125313884],[0.14084939596661314,0.1436905892774665,0.13251212131323725,0.1133635146976155,0.11459264469116677,0.1149371998972125,0.1092978016599826,0.10186425616330637,0.1207989563772201,0.12268226098735104,0.12158744956819555,0.11935124380002861,0.11907654896515564,0.11970702126934318,0.11948272521232095,0.12013871108903075,0.12050137726201542,0.12120480062558243,0.12115884460280389,0.122327215523238,0.1224257586556948,0.12067675459164916,0.12194062653771073,0.12162113567982087,0.12190176596094207,0.12305194508491687,0.12313372204563713,0.12249212141904676,0.12450200399181542,0.1268309767080461,0.12706475440787934]]},\"selected\":{\"id\":\"2478\",\"type\":\"Selection\"},\"selection_policy\":{\"id\":\"2479\",\"type\":\"UnionRenderers\"}},\"id\":\"2446\",\"type\":\"ColumnDataSource\"},{\"attributes\":{\"below\":[{\"id\":\"2420\",\"type\":\"LinearAxis\"}],\"center\":[{\"id\":\"2424\",\"type\":\"Grid\"},{\"id\":\"2429\",\"type\":\"Grid\"},{\"id\":\"2459\",\"type\":\"Legend\"}],\"left\":[{\"id\":\"2425\",\"type\":\"LinearAxis\"}],\"plot_height\":450,\"plot_width\":450,\"renderers\":[{\"id\":\"2450\",\"type\":\"GlyphRenderer\"}],\"title\":{\"id\":\"2443\",\"type\":\"Title\"},\"toolbar\":{\"id\":\"2436\",\"type\":\"Toolbar\"},\"x_range\":{\"id\":\"2412\",\"type\":\"DataRange1d\"},\"x_scale\":{\"id\":\"2416\",\"type\":\"LinearScale\"},\"y_range\":{\"id\":\"2414\",\"type\":\"DataRange1d\"},\"y_scale\":{\"id\":\"2418\",\"type\":\"LinearScale\"}},\"id\":\"2411\",\"subtype\":\"Figure\",\"type\":\"Plot\"},{\"attributes\":{\"items\":[{\"id\":\"2460\",\"type\":\"LegendItem\"}],\"location\":\"center_right\"},\"id\":\"2459\",\"type\":\"Legend\"},{\"attributes\":{\"callback\":null},\"id\":\"2364\",\"type\":\"DataRange1d\"},{\"attributes\":{\"active_drag\":\"auto\",\"active_inspect\":\"auto\",\"active_multi\":null,\"active_scroll\":\"auto\",\"active_tap\":\"auto\",\"tools\":[{\"id\":\"2380\",\"type\":\"PanTool\"},{\"id\":\"2381\",\"type\":\"WheelZoomTool\"},{\"id\":\"2382\",\"type\":\"BoxZoomTool\"},{\"id\":\"2383\",\"type\":\"SaveTool\"},{\"id\":\"2384\",\"type\":\"ResetTool\"},{\"id\":\"2385\",\"type\":\"HelpTool\"}]},\"id\":\"2386\",\"type\":\"Toolbar\"},{\"attributes\":{\"below\":[{\"id\":\"2370\",\"type\":\"LinearAxis\"}],\"center\":[{\"id\":\"2374\",\"type\":\"Grid\"},{\"id\":\"2379\",\"type\":\"Grid\"},{\"id\":\"2409\",\"type\":\"Legend\"}],\"left\":[{\"id\":\"2375\",\"type\":\"LinearAxis\"}],\"plot_height\":450,\"plot_width\":450,\"renderers\":[{\"id\":\"2400\",\"type\":\"GlyphRenderer\"}],\"title\":{\"id\":\"2393\",\"type\":\"Title\"},\"toolbar\":{\"id\":\"2386\",\"type\":\"Toolbar\"},\"x_range\":{\"id\":\"2362\",\"type\":\"DataRange1d\"},\"x_scale\":{\"id\":\"2366\",\"type\":\"LinearScale\"},\"y_range\":{\"id\":\"2364\",\"type\":\"DataRange1d\"},\"y_scale\":{\"id\":\"2368\",\"type\":\"LinearScale\"}},\"id\":\"2361\",\"subtype\":\"Figure\",\"type\":\"Plot\"},{\"attributes\":{},\"id\":\"2376\",\"type\":\"BasicTicker\"},{\"attributes\":{},\"id\":\"2404\",\"type\":\"BasicTickFormatter\"},{\"attributes\":{\"label\":{\"field\":\"labels\"},\"renderers\":[{\"id\":\"2450\",\"type\":\"GlyphRenderer\"}]},\"id\":\"2460\",\"type\":\"LegendItem\"},{\"attributes\":{\"bottom_units\":\"screen\",\"fill_alpha\":{\"value\":0.5},\"fill_color\":{\"value\":\"lightgrey\"},\"left_units\":\"screen\",\"level\":\"overlay\",\"line_alpha\":{\"value\":1.0},\"line_color\":{\"value\":\"black\"},\"line_dash\":[4,4],\"line_width\":{\"value\":2},\"render_mode\":\"css\",\"right_units\":\"screen\",\"top_units\":\"screen\"},\"id\":\"2408\",\"type\":\"BoxAnnotation\"},{\"attributes\":{\"formatter\":{\"id\":\"2456\",\"type\":\"BasicTickFormatter\"},\"ticker\":{\"id\":\"2426\",\"type\":\"BasicTicker\"}},\"id\":\"2425\",\"type\":\"LinearAxis\"},{\"attributes\":{},\"id\":\"2421\",\"type\":\"BasicTicker\"},{\"attributes\":{},\"id\":\"2431\",\"type\":\"WheelZoomTool\"},{\"attributes\":{\"formatter\":{\"id\":\"2454\",\"type\":\"BasicTickFormatter\"},\"ticker\":{\"id\":\"2421\",\"type\":\"BasicTicker\"}},\"id\":\"2420\",\"type\":\"LinearAxis\"},{\"attributes\":{},\"id\":\"2406\",\"type\":\"BasicTickFormatter\"},{\"attributes\":{\"formatter\":{\"id\":\"2404\",\"type\":\"BasicTickFormatter\"},\"ticker\":{\"id\":\"2371\",\"type\":\"BasicTicker\"}},\"id\":\"2370\",\"type\":\"LinearAxis\"},{\"attributes\":{\"callback\":null,\"data\":{\"color\":[\"red\",\"blue\",\"black\"],\"labels\":[\"single\",\"average\",\"complete\"],\"xs\":[[10,11,12,13,14,15,16,17,18,19,20,21,22,23,24,25,26,27,28,29,30,31,32,33,34,35,36,37,38,39,40],[10,11,12,13,14,15,16,17,18,19,20,21,22,23,24,25,26,27,28,29,30,31,32,33,34,35,36,37,38,39,40],[10,11,12,13,14,15,16,17,18,19,20,21,22,23,24,25,26,27,28,29,30,31,32,33,34,35,36,37,38,39,40]],\"ys\":[[-0.068755885511191,-0.09427688066645121,-0.18960719006527393,-0.1895721581814852,-0.19781104512539258,-0.1999689951446323,-0.20485279576802445,-0.2079006580919423,-0.20811964246661224,-0.20833713059440306,-0.20876164967154195,-0.20655714663322178,-0.20833484362194296,-0.20929941175686514,-0.20918669289756733,-0.21114246981341409,-0.21095905706894882,-0.2102572339374761,-0.2102980419949786,-0.21110832159022203,-0.21180232813144606,-0.21166312476179402,-0.2113538548521783,-0.24052807860521555,-0.24672128657017864,-0.24632483312613188,-0.24845218212164571,-0.24825525730283635,-0.2480930592386616,-0.24757097941933318,-0.24650573800332576],[0.25780534692987606,0.26011504206985053,0.263005757163954,0.24465740941155353,0.24231180512563635,0.24293430797890986,0.23582986270402478,0.2354723647379293,0.22079198220734694,0.23981499614370658,0.2322273595782563,0.23481002089477343,0.23630408506868208,0.23727865361828632,0.23780689572802827,0.2363679566344831,0.23597208427472693,0.23728093349958043,0.2363935525030239,0.23688276604393155,0.23810332602023765,0.2391150614803853,0.23897054809836424,0.24321950993481217,0.2422931247826314,0.24087472228539422,0.24453773252711342,0.24546705889825648,0.22619333801603306,0.2239021453012069,0.22361838152015673],[0.25336198519883624,0.2581081396837318,0.2382101030936606,0.20312413682486397,0.2055840621490784,0.20614868539769943,0.1959445199842319,0.18291287516442442,0.2185319717999764,0.22174947069549192,0.21982266426442298,0.2155714893668713,0.21486600195845534,0.21588726934842187,0.21563141530558808,0.21670199520681255,0.2173368245125512,0.21859439519157675,0.2184001480589691,0.22052741003711454,0.22058130387241323,0.21765666948769105,0.21973547438450516,0.21892801776128856,0.21932371997832198,0.22136011655305396,0.22149456790239513,0.22042159768187744,0.22394758237472334,0.2282567555212917,0.22866193597071338]]},\"selected\":{\"id\":\"2475\",\"type\":\"Selection\"},\"selection_policy\":{\"id\":\"2476\",\"type\":\"UnionRenderers\"}},\"id\":\"2396\",\"type\":\"ColumnDataSource\"},{\"attributes\":{\"overlay\":{\"id\":\"2458\",\"type\":\"BoxAnnotation\"}},\"id\":\"2432\",\"type\":\"BoxZoomTool\"},{\"attributes\":{\"active_drag\":\"auto\",\"active_inspect\":\"auto\",\"active_multi\":null,\"active_scroll\":\"auto\",\"active_tap\":\"auto\",\"tools\":[{\"id\":\"2430\",\"type\":\"PanTool\"},{\"id\":\"2431\",\"type\":\"WheelZoomTool\"},{\"id\":\"2432\",\"type\":\"BoxZoomTool\"},{\"id\":\"2433\",\"type\":\"SaveTool\"},{\"id\":\"2434\",\"type\":\"ResetTool\"},{\"id\":\"2435\",\"type\":\"HelpTool\"}]},\"id\":\"2436\",\"type\":\"Toolbar\"},{\"attributes\":{\"align\":\"center\",\"text\":\"Silhouette index \\ncosine_sim\",\"text_font_size\":{\"value\":\"25px\"}},\"id\":\"2443\",\"type\":\"Title\"},{\"attributes\":{},\"id\":\"2433\",\"type\":\"SaveTool\"},{\"attributes\":{},\"id\":\"2418\",\"type\":\"LinearScale\"},{\"attributes\":{},\"id\":\"2434\",\"type\":\"ResetTool\"},{\"attributes\":{},\"id\":\"2476\",\"type\":\"UnionRenderers\"},{\"attributes\":{\"align\":\"center\",\"text\":\"Silhouette index \\n1-sim\",\"text_font_size\":{\"value\":\"25px\"}},\"id\":\"2393\",\"type\":\"Title\"},{\"attributes\":{},\"id\":\"2475\",\"type\":\"Selection\"},{\"attributes\":{\"line_color\":{\"field\":\"color\"},\"line_width\":{\"value\":2},\"xs\":{\"field\":\"xs\"},\"ys\":{\"field\":\"ys\"}},\"id\":\"2398\",\"type\":\"MultiLine\"},{\"attributes\":{},\"id\":\"2435\",\"type\":\"HelpTool\"},{\"attributes\":{},\"id\":\"2478\",\"type\":\"Selection\"},{\"attributes\":{\"data_source\":{\"id\":\"2396\",\"type\":\"ColumnDataSource\"},\"glyph\":{\"id\":\"2398\",\"type\":\"MultiLine\"},\"hover_glyph\":null,\"muted_glyph\":null,\"nonselection_glyph\":{\"id\":\"2399\",\"type\":\"MultiLine\"},\"selection_glyph\":null,\"view\":{\"id\":\"2401\",\"type\":\"CDSView\"}},\"id\":\"2400\",\"type\":\"GlyphRenderer\"},{\"attributes\":{\"label\":{\"field\":\"labels\"},\"renderers\":[{\"id\":\"2400\",\"type\":\"GlyphRenderer\"}]},\"id\":\"2410\",\"type\":\"LegendItem\"},{\"attributes\":{},\"id\":\"2380\",\"type\":\"PanTool\"},{\"attributes\":{},\"id\":\"2479\",\"type\":\"UnionRenderers\"},{\"attributes\":{},\"id\":\"2426\",\"type\":\"BasicTicker\"},{\"attributes\":{\"dimension\":1,\"ticker\":{\"id\":\"2426\",\"type\":\"BasicTicker\"}},\"id\":\"2429\",\"type\":\"Grid\"},{\"attributes\":{\"callback\":null},\"id\":\"2412\",\"type\":\"DataRange1d\"},{\"attributes\":{\"source\":{\"id\":\"2396\",\"type\":\"ColumnDataSource\"}},\"id\":\"2401\",\"type\":\"CDSView\"},{\"attributes\":{\"source\":{\"id\":\"2446\",\"type\":\"ColumnDataSource\"}},\"id\":\"2451\",\"type\":\"CDSView\"},{\"attributes\":{\"line_color\":{\"field\":\"color\"},\"line_width\":{\"value\":2},\"xs\":{\"field\":\"xs\"},\"ys\":{\"field\":\"ys\"}},\"id\":\"2448\",\"type\":\"MultiLine\"},{\"attributes\":{\"items\":[{\"id\":\"2410\",\"type\":\"LegendItem\"}],\"location\":\"center_right\"},\"id\":\"2409\",\"type\":\"Legend\"},{\"attributes\":{\"ticker\":{\"id\":\"2421\",\"type\":\"BasicTicker\"}},\"id\":\"2424\",\"type\":\"Grid\"},{\"attributes\":{},\"id\":\"2381\",\"type\":\"WheelZoomTool\"},{\"attributes\":{\"line_alpha\":{\"value\":0.1},\"line_color\":{\"value\":\"#1f77b4\"},\"line_width\":{\"value\":2},\"xs\":{\"field\":\"xs\"},\"ys\":{\"field\":\"ys\"}},\"id\":\"2449\",\"type\":\"MultiLine\"},{\"attributes\":{\"data_source\":{\"id\":\"2446\",\"type\":\"ColumnDataSource\"},\"glyph\":{\"id\":\"2448\",\"type\":\"MultiLine\"},\"hover_glyph\":null,\"muted_glyph\":null,\"nonselection_glyph\":{\"id\":\"2449\",\"type\":\"MultiLine\"},\"selection_glyph\":null,\"view\":{\"id\":\"2451\",\"type\":\"CDSView\"}},\"id\":\"2450\",\"type\":\"GlyphRenderer\"},{\"attributes\":{\"overlay\":{\"id\":\"2408\",\"type\":\"BoxAnnotation\"}},\"id\":\"2382\",\"type\":\"BoxZoomTool\"},{\"attributes\":{},\"id\":\"2383\",\"type\":\"SaveTool\"},{\"attributes\":{},\"id\":\"2454\",\"type\":\"BasicTickFormatter\"},{\"attributes\":{},\"id\":\"2368\",\"type\":\"LinearScale\"},{\"attributes\":{},\"id\":\"2384\",\"type\":\"ResetTool\"},{\"attributes\":{},\"id\":\"2456\",\"type\":\"BasicTickFormatter\"},{\"attributes\":{\"ticker\":{\"id\":\"2371\",\"type\":\"BasicTicker\"}},\"id\":\"2374\",\"type\":\"Grid\"},{\"attributes\":{\"callback\":null},\"id\":\"2414\",\"type\":\"DataRange1d\"}],\"root_ids\":[\"2461\"]},\"title\":\"Bokeh Application\",\"version\":\"1.3.4\"}};\n",
       "  var render_items = [{\"docid\":\"ca4197dd-92a4-4689-a476-fd3eaab660dc\",\"roots\":{\"2461\":\"7ad3ddc0-74c0-4444-9dd2-af8cd73293f9\"}}];\n",
       "  root.Bokeh.embed.embed_items_notebook(docs_json, render_items);\n",
       "\n",
       "  }\n",
       "  if (root.Bokeh !== undefined) {\n",
       "    embed_document(root);\n",
       "  } else {\n",
       "    var attempts = 0;\n",
       "    var timer = setInterval(function(root) {\n",
       "      if (root.Bokeh !== undefined) {\n",
       "        embed_document(root);\n",
       "        clearInterval(timer);\n",
       "      }\n",
       "      attempts++;\n",
       "      if (attempts > 100) {\n",
       "        console.log(\"Bokeh: ERROR: Unable to run BokehJS code because BokehJS library is missing\");\n",
       "        clearInterval(timer);\n",
       "      }\n",
       "    }, 10, root)\n",
       "  }\n",
       "})(window);"
      ],
      "application/vnd.bokehjs_exec.v0+json": ""
     },
     "metadata": {
      "application/vnd.bokehjs_exec.v0+json": {
       "id": "2461"
      }
     },
     "output_type": "display_data"
    }
   ],
   "source": [
    "c = [i for i in range(10, 41)]\n",
    "plot_evaluation(title=\"Silhouette index \\n1-sim\", metric=silhouette, pos_legend='center_right', c=c,\n",
    "                title2=\"Silhouette index \\ncosine_sim\", metric2=silhouette2, pos_legend2='center_right')"
   ]
  },
  {
   "cell_type": "code",
   "execution_count": 94,
   "metadata": {},
   "outputs": [],
   "source": [
    "with open('nouns_list', \"rb\") as input_file:\n",
    "    noun_list = pickle.load(input_file)"
   ]
  },
  {
   "cell_type": "code",
   "execution_count": 95,
   "metadata": {},
   "outputs": [],
   "source": [
    "common_words = Counter(noun_list).most_common()\n",
    "primary_words2 = []\n",
    "filter_words2 = []\n",
    "for word in common_words[0:1000]:\n",
    "    if word[0] in diz_similarity.keys():\n",
    "        for w in diz_similarity[word[0]]:\n",
    "            filter_words2.append(w)\n",
    "\n",
    "    if word[0] not in filter_words2:\n",
    "        primary_words2.append(word[0])\n",
    "    else:\n",
    "        primary_words2.append('')"
   ]
  },
  {
   "cell_type": "code",
   "execution_count": 96,
   "metadata": {},
   "outputs": [
    {
     "name": "stderr",
     "output_type": "stream",
     "text": [
      "C:\\Users\\Hp\\Anaconda3\\lib\\site-packages\\ipykernel_launcher.py:4: DeprecationWarning: in the future out of bounds indices will raise an error instead of being ignored by `numpy.delete`.\n",
      "  after removing the cwd from sys.path.\n",
      "C:\\Users\\Hp\\Anaconda3\\lib\\site-packages\\ipykernel_launcher.py:5: DeprecationWarning: in the future out of bounds indices will raise an error instead of being ignored by `numpy.delete`.\n",
      "  \"\"\"\n"
     ]
    }
   ],
   "source": [
    "idx2 = [primary_words.index(word) for word in primary_words if word not in primary_words2]\n",
    "idx2.reverse()\n",
    "\n",
    "n_matrix = np.delete(distances, (idx2), axis=0)\n",
    "n_matrix = np.delete(n_matrix, (idx2), axis=1)\n",
    "\n",
    "for i in idx2:\n",
    "    del primary_words[i]"
   ]
  },
  {
   "cell_type": "code",
   "execution_count": 97,
   "metadata": {},
   "outputs": [
    {
     "data": {
      "text/plain": [
       "(819, 819)"
      ]
     },
     "execution_count": 97,
     "metadata": {},
     "output_type": "execute_result"
    }
   ],
   "source": [
    "n_matrix.shape"
   ]
  },
  {
   "cell_type": "code",
   "execution_count": 98,
   "metadata": {},
   "outputs": [
    {
     "data": {
      "application/vnd.jupyter.widget-view+json": {
       "model_id": "bf2601e3a78f46e68115796d6f064bcb",
       "version_major": 2,
       "version_minor": 0
      },
      "text/plain": [
       "HBox(children=(IntProgress(value=0, description='Method', max=3, style=ProgressStyle(description_width='initia…"
      ]
     },
     "metadata": {},
     "output_type": "display_data"
    },
    {
     "data": {
      "application/vnd.jupyter.widget-view+json": {
       "model_id": "b1662bb6697549058ca31f81ef47e1ec",
       "version_major": 2,
       "version_minor": 0
      },
      "text/plain": [
       "HBox(children=(IntProgress(value=0, description='single', max=29, style=ProgressStyle(description_width='initi…"
      ]
     },
     "metadata": {},
     "output_type": "display_data"
    },
    {
     "name": "stdout",
     "output_type": "stream",
     "text": [
      "\n"
     ]
    },
    {
     "data": {
      "application/vnd.jupyter.widget-view+json": {
       "model_id": "ff70736b0c5241eea642ce91c631d7ec",
       "version_major": 2,
       "version_minor": 0
      },
      "text/plain": [
       "HBox(children=(IntProgress(value=0, description='average', max=29, style=ProgressStyle(description_width='init…"
      ]
     },
     "metadata": {},
     "output_type": "display_data"
    },
    {
     "name": "stdout",
     "output_type": "stream",
     "text": [
      "\n"
     ]
    },
    {
     "data": {
      "application/vnd.jupyter.widget-view+json": {
       "model_id": "30b426905a35496aa7de1d35130c307a",
       "version_major": 2,
       "version_minor": 0
      },
      "text/plain": [
       "HBox(children=(IntProgress(value=0, description='complete', max=29, style=ProgressStyle(description_width='ini…"
      ]
     },
     "metadata": {},
     "output_type": "display_data"
    },
    {
     "name": "stdout",
     "output_type": "stream",
     "text": [
      "\n",
      "\n"
     ]
    },
    {
     "data": {
      "application/vnd.jupyter.widget-view+json": {
       "model_id": "86960ddc6ff442809e2c2dab4c4187f2",
       "version_major": 2,
       "version_minor": 0
      },
      "text/plain": [
       "HBox(children=(IntProgress(value=0, description='Method', max=3, style=ProgressStyle(description_width='initia…"
      ]
     },
     "metadata": {},
     "output_type": "display_data"
    },
    {
     "data": {
      "application/vnd.jupyter.widget-view+json": {
       "model_id": "b815ff1a8318441e9af1801f91fd6c08",
       "version_major": 2,
       "version_minor": 0
      },
      "text/plain": [
       "HBox(children=(IntProgress(value=0, description='single', max=29, style=ProgressStyle(description_width='initi…"
      ]
     },
     "metadata": {},
     "output_type": "display_data"
    },
    {
     "name": "stdout",
     "output_type": "stream",
     "text": [
      "\n"
     ]
    },
    {
     "data": {
      "application/vnd.jupyter.widget-view+json": {
       "model_id": "b0873f5ed40e436f8069681b1f01e90a",
       "version_major": 2,
       "version_minor": 0
      },
      "text/plain": [
       "HBox(children=(IntProgress(value=0, description='average', max=29, style=ProgressStyle(description_width='init…"
      ]
     },
     "metadata": {},
     "output_type": "display_data"
    },
    {
     "name": "stdout",
     "output_type": "stream",
     "text": [
      "\n"
     ]
    },
    {
     "data": {
      "application/vnd.jupyter.widget-view+json": {
       "model_id": "e097384405e04d4da7009649a44b2629",
       "version_major": 2,
       "version_minor": 0
      },
      "text/plain": [
       "HBox(children=(IntProgress(value=0, description='complete', max=29, style=ProgressStyle(description_width='ini…"
      ]
     },
     "metadata": {},
     "output_type": "display_data"
    },
    {
     "name": "stdout",
     "output_type": "stream",
     "text": [
      "\n",
      "\n"
     ]
    }
   ],
   "source": [
    "n_matrix = np.matrix(n_matrix)\n",
    "n_matrix1 = 1 - n_matrix\n",
    "\n",
    "# complementare\n",
    "silhouette_score3, CH_score3 = [[] for i in range(2)]\n",
    "(silhouette3, CH3) = clustering(2, 31, link_list=link, dist=n_matrix1, \n",
    "                                silhouette_score=silhouette_score3, CH_score=CH_score3)\n",
    "\n",
    "# cosine similarity\n",
    "n_matrix2 = np.sqrt(2 * (1 - n_matrix))\n",
    "\n",
    "silhouette_score4, CH_score4 = [[] for i in range(2)]\n",
    "(silhouette4, CH4) = clustering(2, 31, link_list=link, dist=n_matrix2, \n",
    "                                silhouette_score=silhouette_score4, CH_score=CH_score4)"
   ]
  },
  {
   "cell_type": "code",
   "execution_count": 99,
   "metadata": {},
   "outputs": [
    {
     "data": {
      "application/javascript": [
       "\n",
       "(function(root) {\n",
       "  function now() {\n",
       "    return new Date();\n",
       "  }\n",
       "\n",
       "  var force = true;\n",
       "\n",
       "  if (typeof root._bokeh_onload_callbacks === \"undefined\" || force === true) {\n",
       "    root._bokeh_onload_callbacks = [];\n",
       "    root._bokeh_is_loading = undefined;\n",
       "  }\n",
       "\n",
       "  var JS_MIME_TYPE = 'application/javascript';\n",
       "  var HTML_MIME_TYPE = 'text/html';\n",
       "  var EXEC_MIME_TYPE = 'application/vnd.bokehjs_exec.v0+json';\n",
       "  var CLASS_NAME = 'output_bokeh rendered_html';\n",
       "\n",
       "  /**\n",
       "   * Render data to the DOM node\n",
       "   */\n",
       "  function render(props, node) {\n",
       "    var script = document.createElement(\"script\");\n",
       "    node.appendChild(script);\n",
       "  }\n",
       "\n",
       "  /**\n",
       "   * Handle when an output is cleared or removed\n",
       "   */\n",
       "  function handleClearOutput(event, handle) {\n",
       "    var cell = handle.cell;\n",
       "\n",
       "    var id = cell.output_area._bokeh_element_id;\n",
       "    var server_id = cell.output_area._bokeh_server_id;\n",
       "    // Clean up Bokeh references\n",
       "    if (id != null && id in Bokeh.index) {\n",
       "      Bokeh.index[id].model.document.clear();\n",
       "      delete Bokeh.index[id];\n",
       "    }\n",
       "\n",
       "    if (server_id !== undefined) {\n",
       "      // Clean up Bokeh references\n",
       "      var cmd = \"from bokeh.io.state import curstate; print(curstate().uuid_to_server['\" + server_id + \"'].get_sessions()[0].document.roots[0]._id)\";\n",
       "      cell.notebook.kernel.execute(cmd, {\n",
       "        iopub: {\n",
       "          output: function(msg) {\n",
       "            var id = msg.content.text.trim();\n",
       "            if (id in Bokeh.index) {\n",
       "              Bokeh.index[id].model.document.clear();\n",
       "              delete Bokeh.index[id];\n",
       "            }\n",
       "          }\n",
       "        }\n",
       "      });\n",
       "      // Destroy server and session\n",
       "      var cmd = \"import bokeh.io.notebook as ion; ion.destroy_server('\" + server_id + \"')\";\n",
       "      cell.notebook.kernel.execute(cmd);\n",
       "    }\n",
       "  }\n",
       "\n",
       "  /**\n",
       "   * Handle when a new output is added\n",
       "   */\n",
       "  function handleAddOutput(event, handle) {\n",
       "    var output_area = handle.output_area;\n",
       "    var output = handle.output;\n",
       "\n",
       "    // limit handleAddOutput to display_data with EXEC_MIME_TYPE content only\n",
       "    if ((output.output_type != \"display_data\") || (!output.data.hasOwnProperty(EXEC_MIME_TYPE))) {\n",
       "      return\n",
       "    }\n",
       "\n",
       "    var toinsert = output_area.element.find(\".\" + CLASS_NAME.split(' ')[0]);\n",
       "\n",
       "    if (output.metadata[EXEC_MIME_TYPE][\"id\"] !== undefined) {\n",
       "      toinsert[toinsert.length - 1].firstChild.textContent = output.data[JS_MIME_TYPE];\n",
       "      // store reference to embed id on output_area\n",
       "      output_area._bokeh_element_id = output.metadata[EXEC_MIME_TYPE][\"id\"];\n",
       "    }\n",
       "    if (output.metadata[EXEC_MIME_TYPE][\"server_id\"] !== undefined) {\n",
       "      var bk_div = document.createElement(\"div\");\n",
       "      bk_div.innerHTML = output.data[HTML_MIME_TYPE];\n",
       "      var script_attrs = bk_div.children[0].attributes;\n",
       "      for (var i = 0; i < script_attrs.length; i++) {\n",
       "        toinsert[toinsert.length - 1].firstChild.setAttribute(script_attrs[i].name, script_attrs[i].value);\n",
       "      }\n",
       "      // store reference to server id on output_area\n",
       "      output_area._bokeh_server_id = output.metadata[EXEC_MIME_TYPE][\"server_id\"];\n",
       "    }\n",
       "  }\n",
       "\n",
       "  function register_renderer(events, OutputArea) {\n",
       "\n",
       "    function append_mime(data, metadata, element) {\n",
       "      // create a DOM node to render to\n",
       "      var toinsert = this.create_output_subarea(\n",
       "        metadata,\n",
       "        CLASS_NAME,\n",
       "        EXEC_MIME_TYPE\n",
       "      );\n",
       "      this.keyboard_manager.register_events(toinsert);\n",
       "      // Render to node\n",
       "      var props = {data: data, metadata: metadata[EXEC_MIME_TYPE]};\n",
       "      render(props, toinsert[toinsert.length - 1]);\n",
       "      element.append(toinsert);\n",
       "      return toinsert\n",
       "    }\n",
       "\n",
       "    /* Handle when an output is cleared or removed */\n",
       "    events.on('clear_output.CodeCell', handleClearOutput);\n",
       "    events.on('delete.Cell', handleClearOutput);\n",
       "\n",
       "    /* Handle when a new output is added */\n",
       "    events.on('output_added.OutputArea', handleAddOutput);\n",
       "\n",
       "    /**\n",
       "     * Register the mime type and append_mime function with output_area\n",
       "     */\n",
       "    OutputArea.prototype.register_mime_type(EXEC_MIME_TYPE, append_mime, {\n",
       "      /* Is output safe? */\n",
       "      safe: true,\n",
       "      /* Index of renderer in `output_area.display_order` */\n",
       "      index: 0\n",
       "    });\n",
       "  }\n",
       "\n",
       "  // register the mime type if in Jupyter Notebook environment and previously unregistered\n",
       "  if (root.Jupyter !== undefined) {\n",
       "    var events = require('base/js/events');\n",
       "    var OutputArea = require('notebook/js/outputarea').OutputArea;\n",
       "\n",
       "    if (OutputArea.prototype.mime_types().indexOf(EXEC_MIME_TYPE) == -1) {\n",
       "      register_renderer(events, OutputArea);\n",
       "    }\n",
       "  }\n",
       "\n",
       "  \n",
       "  if (typeof (root._bokeh_timeout) === \"undefined\" || force === true) {\n",
       "    root._bokeh_timeout = Date.now() + 5000;\n",
       "    root._bokeh_failed_load = false;\n",
       "  }\n",
       "\n",
       "  var NB_LOAD_WARNING = {'data': {'text/html':\n",
       "     \"<div style='background-color: #fdd'>\\n\"+\n",
       "     \"<p>\\n\"+\n",
       "     \"BokehJS does not appear to have successfully loaded. If loading BokehJS from CDN, this \\n\"+\n",
       "     \"may be due to a slow or bad network connection. Possible fixes:\\n\"+\n",
       "     \"</p>\\n\"+\n",
       "     \"<ul>\\n\"+\n",
       "     \"<li>re-rerun `output_notebook()` to attempt to load from CDN again, or</li>\\n\"+\n",
       "     \"<li>use INLINE resources instead, as so:</li>\\n\"+\n",
       "     \"</ul>\\n\"+\n",
       "     \"<code>\\n\"+\n",
       "     \"from bokeh.resources import INLINE\\n\"+\n",
       "     \"output_notebook(resources=INLINE)\\n\"+\n",
       "     \"</code>\\n\"+\n",
       "     \"</div>\"}};\n",
       "\n",
       "  function display_loaded() {\n",
       "    var el = document.getElementById(null);\n",
       "    if (el != null) {\n",
       "      el.textContent = \"BokehJS is loading...\";\n",
       "    }\n",
       "    if (root.Bokeh !== undefined) {\n",
       "      if (el != null) {\n",
       "        el.textContent = \"BokehJS \" + root.Bokeh.version + \" successfully loaded.\";\n",
       "      }\n",
       "    } else if (Date.now() < root._bokeh_timeout) {\n",
       "      setTimeout(display_loaded, 100)\n",
       "    }\n",
       "  }\n",
       "\n",
       "\n",
       "  function run_callbacks() {\n",
       "    try {\n",
       "      root._bokeh_onload_callbacks.forEach(function(callback) {\n",
       "        if (callback != null)\n",
       "          callback();\n",
       "      });\n",
       "    } finally {\n",
       "      delete root._bokeh_onload_callbacks\n",
       "    }\n",
       "    console.debug(\"Bokeh: all callbacks have finished\");\n",
       "  }\n",
       "\n",
       "  function load_libs(css_urls, js_urls, callback) {\n",
       "    if (css_urls == null) css_urls = [];\n",
       "    if (js_urls == null) js_urls = [];\n",
       "\n",
       "    root._bokeh_onload_callbacks.push(callback);\n",
       "    if (root._bokeh_is_loading > 0) {\n",
       "      console.debug(\"Bokeh: BokehJS is being loaded, scheduling callback at\", now());\n",
       "      return null;\n",
       "    }\n",
       "    if (js_urls == null || js_urls.length === 0) {\n",
       "      run_callbacks();\n",
       "      return null;\n",
       "    }\n",
       "    console.debug(\"Bokeh: BokehJS not loaded, scheduling load and callback at\", now());\n",
       "    root._bokeh_is_loading = css_urls.length + js_urls.length;\n",
       "\n",
       "    function on_load() {\n",
       "      root._bokeh_is_loading--;\n",
       "      if (root._bokeh_is_loading === 0) {\n",
       "        console.debug(\"Bokeh: all BokehJS libraries/stylesheets loaded\");\n",
       "        run_callbacks()\n",
       "      }\n",
       "    }\n",
       "\n",
       "    function on_error() {\n",
       "      console.error(\"failed to load \" + url);\n",
       "    }\n",
       "\n",
       "    for (var i = 0; i < css_urls.length; i++) {\n",
       "      var url = css_urls[i];\n",
       "      const element = document.createElement(\"link\");\n",
       "      element.onload = on_load;\n",
       "      element.onerror = on_error;\n",
       "      element.rel = \"stylesheet\";\n",
       "      element.type = \"text/css\";\n",
       "      element.href = url;\n",
       "      console.debug(\"Bokeh: injecting link tag for BokehJS stylesheet: \", url);\n",
       "      document.body.appendChild(element);\n",
       "    }\n",
       "\n",
       "    for (var i = 0; i < js_urls.length; i++) {\n",
       "      var url = js_urls[i];\n",
       "      var element = document.createElement('script');\n",
       "      element.onload = on_load;\n",
       "      element.onerror = on_error;\n",
       "      element.async = false;\n",
       "      element.src = url;\n",
       "      console.debug(\"Bokeh: injecting script tag for BokehJS library: \", url);\n",
       "      document.head.appendChild(element);\n",
       "    }\n",
       "  };\n",
       "\n",
       "  function inject_raw_css(css) {\n",
       "    const element = document.createElement(\"style\");\n",
       "    element.appendChild(document.createTextNode(css));\n",
       "    document.body.appendChild(element);\n",
       "  }\n",
       "\n",
       "  var js_urls = [\"https://cdn.pydata.org/bokeh/release/bokeh-1.3.4.min.js\", \"https://cdn.pydata.org/bokeh/release/bokeh-widgets-1.3.4.min.js\", \"https://cdn.pydata.org/bokeh/release/bokeh-tables-1.3.4.min.js\", \"https://cdn.pydata.org/bokeh/release/bokeh-gl-1.3.4.min.js\"];\n",
       "  var css_urls = [];\n",
       "\n",
       "  var inline_js = [\n",
       "    function(Bokeh) {\n",
       "      Bokeh.set_log_level(\"info\");\n",
       "    },\n",
       "    \n",
       "    function(Bokeh) {\n",
       "      \n",
       "    },\n",
       "    function(Bokeh) {} // ensure no trailing comma for IE\n",
       "  ];\n",
       "\n",
       "  function run_inline_js() {\n",
       "    \n",
       "    if ((root.Bokeh !== undefined) || (force === true)) {\n",
       "      for (var i = 0; i < inline_js.length; i++) {\n",
       "        inline_js[i].call(root, root.Bokeh);\n",
       "      }} else if (Date.now() < root._bokeh_timeout) {\n",
       "      setTimeout(run_inline_js, 100);\n",
       "    } else if (!root._bokeh_failed_load) {\n",
       "      console.log(\"Bokeh: BokehJS failed to load within specified timeout.\");\n",
       "      root._bokeh_failed_load = true;\n",
       "    } else if (force !== true) {\n",
       "      var cell = $(document.getElementById(null)).parents('.cell').data().cell;\n",
       "      cell.output_area.append_execute_result(NB_LOAD_WARNING)\n",
       "    }\n",
       "\n",
       "  }\n",
       "\n",
       "  if (root._bokeh_is_loading === 0) {\n",
       "    console.debug(\"Bokeh: BokehJS loaded, going straight to plotting\");\n",
       "    run_inline_js();\n",
       "  } else {\n",
       "    load_libs(css_urls, js_urls, function() {\n",
       "      console.debug(\"Bokeh: BokehJS plotting callback run at\", now());\n",
       "      run_inline_js();\n",
       "    });\n",
       "  }\n",
       "}(window));"
      ],
      "application/vnd.bokehjs_load.v0+json": "\n(function(root) {\n  function now() {\n    return new Date();\n  }\n\n  var force = true;\n\n  if (typeof root._bokeh_onload_callbacks === \"undefined\" || force === true) {\n    root._bokeh_onload_callbacks = [];\n    root._bokeh_is_loading = undefined;\n  }\n\n  \n\n  \n  if (typeof (root._bokeh_timeout) === \"undefined\" || force === true) {\n    root._bokeh_timeout = Date.now() + 5000;\n    root._bokeh_failed_load = false;\n  }\n\n  var NB_LOAD_WARNING = {'data': {'text/html':\n     \"<div style='background-color: #fdd'>\\n\"+\n     \"<p>\\n\"+\n     \"BokehJS does not appear to have successfully loaded. If loading BokehJS from CDN, this \\n\"+\n     \"may be due to a slow or bad network connection. Possible fixes:\\n\"+\n     \"</p>\\n\"+\n     \"<ul>\\n\"+\n     \"<li>re-rerun `output_notebook()` to attempt to load from CDN again, or</li>\\n\"+\n     \"<li>use INLINE resources instead, as so:</li>\\n\"+\n     \"</ul>\\n\"+\n     \"<code>\\n\"+\n     \"from bokeh.resources import INLINE\\n\"+\n     \"output_notebook(resources=INLINE)\\n\"+\n     \"</code>\\n\"+\n     \"</div>\"}};\n\n  function display_loaded() {\n    var el = document.getElementById(null);\n    if (el != null) {\n      el.textContent = \"BokehJS is loading...\";\n    }\n    if (root.Bokeh !== undefined) {\n      if (el != null) {\n        el.textContent = \"BokehJS \" + root.Bokeh.version + \" successfully loaded.\";\n      }\n    } else if (Date.now() < root._bokeh_timeout) {\n      setTimeout(display_loaded, 100)\n    }\n  }\n\n\n  function run_callbacks() {\n    try {\n      root._bokeh_onload_callbacks.forEach(function(callback) {\n        if (callback != null)\n          callback();\n      });\n    } finally {\n      delete root._bokeh_onload_callbacks\n    }\n    console.debug(\"Bokeh: all callbacks have finished\");\n  }\n\n  function load_libs(css_urls, js_urls, callback) {\n    if (css_urls == null) css_urls = [];\n    if (js_urls == null) js_urls = [];\n\n    root._bokeh_onload_callbacks.push(callback);\n    if (root._bokeh_is_loading > 0) {\n      console.debug(\"Bokeh: BokehJS is being loaded, scheduling callback at\", now());\n      return null;\n    }\n    if (js_urls == null || js_urls.length === 0) {\n      run_callbacks();\n      return null;\n    }\n    console.debug(\"Bokeh: BokehJS not loaded, scheduling load and callback at\", now());\n    root._bokeh_is_loading = css_urls.length + js_urls.length;\n\n    function on_load() {\n      root._bokeh_is_loading--;\n      if (root._bokeh_is_loading === 0) {\n        console.debug(\"Bokeh: all BokehJS libraries/stylesheets loaded\");\n        run_callbacks()\n      }\n    }\n\n    function on_error() {\n      console.error(\"failed to load \" + url);\n    }\n\n    for (var i = 0; i < css_urls.length; i++) {\n      var url = css_urls[i];\n      const element = document.createElement(\"link\");\n      element.onload = on_load;\n      element.onerror = on_error;\n      element.rel = \"stylesheet\";\n      element.type = \"text/css\";\n      element.href = url;\n      console.debug(\"Bokeh: injecting link tag for BokehJS stylesheet: \", url);\n      document.body.appendChild(element);\n    }\n\n    for (var i = 0; i < js_urls.length; i++) {\n      var url = js_urls[i];\n      var element = document.createElement('script');\n      element.onload = on_load;\n      element.onerror = on_error;\n      element.async = false;\n      element.src = url;\n      console.debug(\"Bokeh: injecting script tag for BokehJS library: \", url);\n      document.head.appendChild(element);\n    }\n  };\n\n  function inject_raw_css(css) {\n    const element = document.createElement(\"style\");\n    element.appendChild(document.createTextNode(css));\n    document.body.appendChild(element);\n  }\n\n  var js_urls = [\"https://cdn.pydata.org/bokeh/release/bokeh-1.3.4.min.js\", \"https://cdn.pydata.org/bokeh/release/bokeh-widgets-1.3.4.min.js\", \"https://cdn.pydata.org/bokeh/release/bokeh-tables-1.3.4.min.js\", \"https://cdn.pydata.org/bokeh/release/bokeh-gl-1.3.4.min.js\"];\n  var css_urls = [];\n\n  var inline_js = [\n    function(Bokeh) {\n      Bokeh.set_log_level(\"info\");\n    },\n    \n    function(Bokeh) {\n      \n    },\n    function(Bokeh) {} // ensure no trailing comma for IE\n  ];\n\n  function run_inline_js() {\n    \n    if ((root.Bokeh !== undefined) || (force === true)) {\n      for (var i = 0; i < inline_js.length; i++) {\n        inline_js[i].call(root, root.Bokeh);\n      }} else if (Date.now() < root._bokeh_timeout) {\n      setTimeout(run_inline_js, 100);\n    } else if (!root._bokeh_failed_load) {\n      console.log(\"Bokeh: BokehJS failed to load within specified timeout.\");\n      root._bokeh_failed_load = true;\n    } else if (force !== true) {\n      var cell = $(document.getElementById(null)).parents('.cell').data().cell;\n      cell.output_area.append_execute_result(NB_LOAD_WARNING)\n    }\n\n  }\n\n  if (root._bokeh_is_loading === 0) {\n    console.debug(\"Bokeh: BokehJS loaded, going straight to plotting\");\n    run_inline_js();\n  } else {\n    load_libs(css_urls, js_urls, function() {\n      console.debug(\"Bokeh: BokehJS plotting callback run at\", now());\n      run_inline_js();\n    });\n  }\n}(window));"
     },
     "metadata": {},
     "output_type": "display_data"
    },
    {
     "data": {
      "text/html": [
       "\n",
       "\n",
       "\n",
       "\n",
       "\n",
       "\n",
       "  <div class=\"bk-root\" id=\"ec565830-8de8-47ab-b33c-4b0b5b95cf7a\" data-root-id=\"2688\"></div>\n"
      ]
     },
     "metadata": {},
     "output_type": "display_data"
    },
    {
     "data": {
      "application/javascript": [
       "(function(root) {\n",
       "  function embed_document(root) {\n",
       "    \n",
       "  var docs_json = {\"8fc632bf-a1b2-4cba-a07d-c0fe4823b008\":{\"roots\":{\"references\":[{\"attributes\":{\"children\":[{\"id\":\"2588\",\"subtype\":\"Figure\",\"type\":\"Plot\"},{\"id\":\"2638\",\"subtype\":\"Figure\",\"type\":\"Plot\"}]},\"id\":\"2688\",\"type\":\"Row\"},{\"attributes\":{\"below\":[{\"id\":\"2597\",\"type\":\"LinearAxis\"}],\"center\":[{\"id\":\"2601\",\"type\":\"Grid\"},{\"id\":\"2606\",\"type\":\"Grid\"},{\"id\":\"2636\",\"type\":\"Legend\"}],\"left\":[{\"id\":\"2602\",\"type\":\"LinearAxis\"}],\"plot_height\":450,\"plot_width\":450,\"renderers\":[{\"id\":\"2627\",\"type\":\"GlyphRenderer\"}],\"title\":{\"id\":\"2620\",\"type\":\"Title\"},\"toolbar\":{\"id\":\"2613\",\"type\":\"Toolbar\"},\"x_range\":{\"id\":\"2589\",\"type\":\"DataRange1d\"},\"x_scale\":{\"id\":\"2593\",\"type\":\"LinearScale\"},\"y_range\":{\"id\":\"2591\",\"type\":\"DataRange1d\"},\"y_scale\":{\"id\":\"2595\",\"type\":\"LinearScale\"}},\"id\":\"2588\",\"subtype\":\"Figure\",\"type\":\"Plot\"},{\"attributes\":{\"items\":[{\"id\":\"2637\",\"type\":\"LegendItem\"}],\"location\":\"center_right\"},\"id\":\"2636\",\"type\":\"Legend\"},{\"attributes\":{},\"id\":\"2607\",\"type\":\"PanTool\"},{\"attributes\":{},\"id\":\"2657\",\"type\":\"PanTool\"},{\"attributes\":{},\"id\":\"2610\",\"type\":\"SaveTool\"},{\"attributes\":{\"label\":{\"field\":\"labels\"},\"renderers\":[{\"id\":\"2677\",\"type\":\"GlyphRenderer\"}]},\"id\":\"2687\",\"type\":\"LegendItem\"},{\"attributes\":{\"formatter\":{\"id\":\"2681\",\"type\":\"BasicTickFormatter\"},\"ticker\":{\"id\":\"2648\",\"type\":\"BasicTicker\"}},\"id\":\"2647\",\"type\":\"LinearAxis\"},{\"attributes\":{\"below\":[{\"id\":\"2647\",\"type\":\"LinearAxis\"}],\"center\":[{\"id\":\"2651\",\"type\":\"Grid\"},{\"id\":\"2656\",\"type\":\"Grid\"},{\"id\":\"2686\",\"type\":\"Legend\"}],\"left\":[{\"id\":\"2652\",\"type\":\"LinearAxis\"}],\"plot_height\":450,\"plot_width\":450,\"renderers\":[{\"id\":\"2677\",\"type\":\"GlyphRenderer\"}],\"title\":{\"id\":\"2670\",\"type\":\"Title\"},\"toolbar\":{\"id\":\"2663\",\"type\":\"Toolbar\"},\"x_range\":{\"id\":\"2639\",\"type\":\"DataRange1d\"},\"x_scale\":{\"id\":\"2643\",\"type\":\"LinearScale\"},\"y_range\":{\"id\":\"2641\",\"type\":\"DataRange1d\"},\"y_scale\":{\"id\":\"2645\",\"type\":\"LinearScale\"}},\"id\":\"2638\",\"subtype\":\"Figure\",\"type\":\"Plot\"},{\"attributes\":{\"source\":{\"id\":\"2623\",\"type\":\"ColumnDataSource\"}},\"id\":\"2628\",\"type\":\"CDSView\"},{\"attributes\":{},\"id\":\"2611\",\"type\":\"ResetTool\"},{\"attributes\":{},\"id\":\"2648\",\"type\":\"BasicTicker\"},{\"attributes\":{\"callback\":null},\"id\":\"2639\",\"type\":\"DataRange1d\"},{\"attributes\":{},\"id\":\"2612\",\"type\":\"HelpTool\"},{\"attributes\":{\"line_color\":{\"field\":\"color\"},\"line_width\":{\"value\":2},\"xs\":{\"field\":\"xs\"},\"ys\":{\"field\":\"ys\"}},\"id\":\"2675\",\"type\":\"MultiLine\"},{\"attributes\":{\"dimension\":1,\"ticker\":{\"id\":\"2603\",\"type\":\"BasicTicker\"}},\"id\":\"2606\",\"type\":\"Grid\"},{\"attributes\":{},\"id\":\"2595\",\"type\":\"LinearScale\"},{\"attributes\":{\"overlay\":{\"id\":\"2635\",\"type\":\"BoxAnnotation\"}},\"id\":\"2609\",\"type\":\"BoxZoomTool\"},{\"attributes\":{\"line_alpha\":{\"value\":0.1},\"line_color\":{\"value\":\"#1f77b4\"},\"line_width\":{\"value\":2},\"xs\":{\"field\":\"xs\"},\"ys\":{\"field\":\"ys\"}},\"id\":\"2676\",\"type\":\"MultiLine\"},{\"attributes\":{},\"id\":\"2645\",\"type\":\"LinearScale\"},{\"attributes\":{\"bottom_units\":\"screen\",\"fill_alpha\":{\"value\":0.5},\"fill_color\":{\"value\":\"lightgrey\"},\"left_units\":\"screen\",\"level\":\"overlay\",\"line_alpha\":{\"value\":1.0},\"line_color\":{\"value\":\"black\"},\"line_dash\":[4,4],\"line_width\":{\"value\":2},\"render_mode\":\"css\",\"right_units\":\"screen\",\"top_units\":\"screen\"},\"id\":\"2635\",\"type\":\"BoxAnnotation\"},{\"attributes\":{},\"id\":\"2702\",\"type\":\"Selection\"},{\"attributes\":{\"active_drag\":\"auto\",\"active_inspect\":\"auto\",\"active_multi\":null,\"active_scroll\":\"auto\",\"active_tap\":\"auto\",\"tools\":[{\"id\":\"2607\",\"type\":\"PanTool\"},{\"id\":\"2608\",\"type\":\"WheelZoomTool\"},{\"id\":\"2609\",\"type\":\"BoxZoomTool\"},{\"id\":\"2610\",\"type\":\"SaveTool\"},{\"id\":\"2611\",\"type\":\"ResetTool\"},{\"id\":\"2612\",\"type\":\"HelpTool\"}]},\"id\":\"2613\",\"type\":\"Toolbar\"},{\"attributes\":{\"ticker\":{\"id\":\"2648\",\"type\":\"BasicTicker\"}},\"id\":\"2651\",\"type\":\"Grid\"},{\"attributes\":{},\"id\":\"2608\",\"type\":\"WheelZoomTool\"},{\"attributes\":{\"formatter\":{\"id\":\"2633\",\"type\":\"BasicTickFormatter\"},\"ticker\":{\"id\":\"2603\",\"type\":\"BasicTicker\"}},\"id\":\"2602\",\"type\":\"LinearAxis\"},{\"attributes\":{},\"id\":\"2643\",\"type\":\"LinearScale\"},{\"attributes\":{\"callback\":null,\"data\":{\"color\":[\"red\",\"blue\",\"black\"],\"labels\":[\"single\",\"average\",\"complete\"],\"xs\":[[2,3,4,5,6,7,8,9,10,11,12,13,14,15,16,17,18,19,20,21,22,23,24,25,26,27,28,29,30],[2,3,4,5,6,7,8,9,10,11,12,13,14,15,16,17,18,19,20,21,22,23,24,25,26,27,28,29,30],[2,3,4,5,6,7,8,9,10,11,12,13,14,15,16,17,18,19,20,21,22,23,24,25,26,27,28,29,30]],\"ys\":[[0.045016841812427065,0.01459568741306083,0.005991673199802491,0.006375720796229457,0.007457519421598727,-0.03691003108840935,-0.037819642549277256,-0.026728801803042476,-0.03017211453136261,-0.029665763025622214,-0.03528694664514339,-0.05182054915802236,-0.06107355327351205,-0.066745925868406,-0.06288737700274012,-0.06803953070131416,-0.06911397835644786,-0.08079050862715581,-0.05194684986992747,-0.054480848447039085,-0.05554587498183427,-0.04166192845007276,-0.04618049641663577,-0.03291082608467186,-0.03209955849119369,0.02800359288385191,0.029078138840179894,0.020682867293819684,0.023656952162330717],[0.2495798124044873,0.14812860152592672,0.19347387454674128,0.19489532398007345,0.2083160142201684,0.2179497483300848,0.24912378345100727,0.26680356248531023,0.26215472597186656,0.27540504494885076,0.28128541522748063,0.2724243507511599,0.255756246445507,0.2468421854131558,0.2447407598880016,0.24242444876933736,0.24665722603387394,0.24653663214861024,0.24626722222749964,0.2530173026887365,0.257043246294803,0.27604829242835915,0.2774354725304786,0.27728673315921737,0.274869304956518,0.27447833418116085,0.2814685504639925,0.28423835602307296,0.28344771230441235],[0.24784761511096529,0.2125674920988393,0.18908853709872278,0.17977781986503205,0.20207726016449268,0.20974435500824265,0.21897277241631416,0.23615963317761385,0.24155640125125263,0.25228811450475475,0.26076425245064905,0.25669637382268246,0.26250620280397846,0.2612888190458338,0.25273578568697147,0.2674693279337357,0.2668200295434656,0.268498541433358,0.2683124117678591,0.26537778754143965,0.2643922568289044,0.26015674047347204,0.26719044008944165,0.2696485764205921,0.2723645518258454,0.274046526467086,0.2731293528219963,0.26404370203825833,0.2578401337664473]]},\"selected\":{\"id\":\"2702\",\"type\":\"Selection\"},\"selection_policy\":{\"id\":\"2703\",\"type\":\"UnionRenderers\"}},\"id\":\"2623\",\"type\":\"ColumnDataSource\"},{\"attributes\":{\"ticker\":{\"id\":\"2598\",\"type\":\"BasicTicker\"}},\"id\":\"2601\",\"type\":\"Grid\"},{\"attributes\":{},\"id\":\"2660\",\"type\":\"SaveTool\"},{\"attributes\":{},\"id\":\"2703\",\"type\":\"UnionRenderers\"},{\"attributes\":{},\"id\":\"2662\",\"type\":\"HelpTool\"},{\"attributes\":{\"callback\":null},\"id\":\"2591\",\"type\":\"DataRange1d\"},{\"attributes\":{\"items\":[{\"id\":\"2687\",\"type\":\"LegendItem\"}],\"location\":\"center_right\"},\"id\":\"2686\",\"type\":\"Legend\"},{\"attributes\":{\"callback\":null},\"id\":\"2589\",\"type\":\"DataRange1d\"},{\"attributes\":{\"dimension\":1,\"ticker\":{\"id\":\"2653\",\"type\":\"BasicTicker\"}},\"id\":\"2656\",\"type\":\"Grid\"},{\"attributes\":{},\"id\":\"2631\",\"type\":\"BasicTickFormatter\"},{\"attributes\":{\"label\":{\"field\":\"labels\"},\"renderers\":[{\"id\":\"2627\",\"type\":\"GlyphRenderer\"}]},\"id\":\"2637\",\"type\":\"LegendItem\"},{\"attributes\":{\"callback\":null},\"id\":\"2641\",\"type\":\"DataRange1d\"},{\"attributes\":{},\"id\":\"2681\",\"type\":\"BasicTickFormatter\"},{\"attributes\":{},\"id\":\"2598\",\"type\":\"BasicTicker\"},{\"attributes\":{\"formatter\":{\"id\":\"2683\",\"type\":\"BasicTickFormatter\"},\"ticker\":{\"id\":\"2653\",\"type\":\"BasicTicker\"}},\"id\":\"2652\",\"type\":\"LinearAxis\"},{\"attributes\":{\"line_alpha\":{\"value\":0.1},\"line_color\":{\"value\":\"#1f77b4\"},\"line_width\":{\"value\":2},\"xs\":{\"field\":\"xs\"},\"ys\":{\"field\":\"ys\"}},\"id\":\"2626\",\"type\":\"MultiLine\"},{\"attributes\":{},\"id\":\"2603\",\"type\":\"BasicTicker\"},{\"attributes\":{},\"id\":\"2683\",\"type\":\"BasicTickFormatter\"},{\"attributes\":{\"overlay\":{\"id\":\"2685\",\"type\":\"BoxAnnotation\"}},\"id\":\"2659\",\"type\":\"BoxZoomTool\"},{\"attributes\":{},\"id\":\"2653\",\"type\":\"BasicTicker\"},{\"attributes\":{},\"id\":\"2706\",\"type\":\"UnionRenderers\"},{\"attributes\":{\"formatter\":{\"id\":\"2631\",\"type\":\"BasicTickFormatter\"},\"ticker\":{\"id\":\"2598\",\"type\":\"BasicTicker\"}},\"id\":\"2597\",\"type\":\"LinearAxis\"},{\"attributes\":{\"data_source\":{\"id\":\"2673\",\"type\":\"ColumnDataSource\"},\"glyph\":{\"id\":\"2675\",\"type\":\"MultiLine\"},\"hover_glyph\":null,\"muted_glyph\":null,\"nonselection_glyph\":{\"id\":\"2676\",\"type\":\"MultiLine\"},\"selection_glyph\":null,\"view\":{\"id\":\"2678\",\"type\":\"CDSView\"}},\"id\":\"2677\",\"type\":\"GlyphRenderer\"},{\"attributes\":{\"active_drag\":\"auto\",\"active_inspect\":\"auto\",\"active_multi\":null,\"active_scroll\":\"auto\",\"active_tap\":\"auto\",\"tools\":[{\"id\":\"2657\",\"type\":\"PanTool\"},{\"id\":\"2658\",\"type\":\"WheelZoomTool\"},{\"id\":\"2659\",\"type\":\"BoxZoomTool\"},{\"id\":\"2660\",\"type\":\"SaveTool\"},{\"id\":\"2661\",\"type\":\"ResetTool\"},{\"id\":\"2662\",\"type\":\"HelpTool\"}]},\"id\":\"2663\",\"type\":\"Toolbar\"},{\"attributes\":{},\"id\":\"2633\",\"type\":\"BasicTickFormatter\"},{\"attributes\":{},\"id\":\"2705\",\"type\":\"Selection\"},{\"attributes\":{\"align\":\"center\",\"text\":\"Silhouette index \\ncosine_sim\",\"text_font_size\":{\"value\":\"25px\"}},\"id\":\"2670\",\"type\":\"Title\"},{\"attributes\":{},\"id\":\"2593\",\"type\":\"LinearScale\"},{\"attributes\":{},\"id\":\"2661\",\"type\":\"ResetTool\"},{\"attributes\":{\"source\":{\"id\":\"2673\",\"type\":\"ColumnDataSource\"}},\"id\":\"2678\",\"type\":\"CDSView\"},{\"attributes\":{\"line_color\":{\"field\":\"color\"},\"line_width\":{\"value\":2},\"xs\":{\"field\":\"xs\"},\"ys\":{\"field\":\"ys\"}},\"id\":\"2625\",\"type\":\"MultiLine\"},{\"attributes\":{},\"id\":\"2658\",\"type\":\"WheelZoomTool\"},{\"attributes\":{\"callback\":null,\"data\":{\"color\":[\"red\",\"blue\",\"black\"],\"labels\":[\"single\",\"average\",\"complete\"],\"xs\":[[2,3,4,5,6,7,8,9,10,11,12,13,14,15,16,17,18,19,20,21,22,23,24,25,26,27,28,29,30],[2,3,4,5,6,7,8,9,10,11,12,13,14,15,16,17,18,19,20,21,22,23,24,25,26,27,28,29,30],[2,3,4,5,6,7,8,9,10,11,12,13,14,15,16,17,18,19,20,21,22,23,24,25,26,27,28,29,30]],\"ys\":[[0.027910892800320854,0.012127098392421024,0.00756594253750502,0.007775317952569776,0.008927478887970687,-0.013878751561161095,-0.013726822650891736,-0.006951825670583485,-0.008559730953834901,-0.00819846197570578,-0.011300384082842053,-0.020153861522225175,-0.025194480307065614,-0.027929842777204138,-0.02564370640257328,-0.028677261859266404,-0.029353442637489336,-0.03604683424086359,-0.020074230870712074,-0.021487770023100435,-0.02215931735024547,-0.014219613504537426,-0.016906098245216526,-0.009435347678016907,-0.009002988430928657,0.025000188349155843,0.025864295531861897,0.021334820469983643,0.02296212462542188],[0.13912614998210565,0.0828968551284064,0.10888096607089046,0.10976315305738778,0.11745590334012139,0.12324245077074994,0.1406011227417726,0.15047970611335781,0.14781426523748029,0.1551816708832903,0.15832840410308816,0.1533640468779564,0.1440337430182682,0.1390500075826526,0.13796900522560598,0.13680340313877218,0.13951736747087126,0.13919897686951915,0.13913666594557078,0.14297075367905857,0.14535488404662014,0.15591984503614145,0.15667709848464045,0.15664167615630573,0.1552401168902554,0.15496957270623216,0.1588886373488776,0.16044527322242275,0.1598730056771965],[0.13804161921620117,0.11713868923724313,0.10429362502718638,0.10096841350386546,0.11374288911075162,0.11812193841859232,0.12351151379076518,0.13323100460313744,0.13604967618170588,0.14184424858354738,0.14653348833072555,0.1442905625431831,0.14733598633536898,0.14678309962519914,0.1420981144876152,0.1503285279576255,0.15015772108596875,0.15116899767946046,0.1511063302894834,0.14982061331146693,0.14936844983977712,0.14699461757212653,0.15097318902843743,0.15248482640678376,0.15401403478459463,0.15495369053406716,0.1543264998991312,0.14922885565636707,0.14574305753017255]]},\"selected\":{\"id\":\"2705\",\"type\":\"Selection\"},\"selection_policy\":{\"id\":\"2706\",\"type\":\"UnionRenderers\"}},\"id\":\"2673\",\"type\":\"ColumnDataSource\"},{\"attributes\":{\"bottom_units\":\"screen\",\"fill_alpha\":{\"value\":0.5},\"fill_color\":{\"value\":\"lightgrey\"},\"left_units\":\"screen\",\"level\":\"overlay\",\"line_alpha\":{\"value\":1.0},\"line_color\":{\"value\":\"black\"},\"line_dash\":[4,4],\"line_width\":{\"value\":2},\"render_mode\":\"css\",\"right_units\":\"screen\",\"top_units\":\"screen\"},\"id\":\"2685\",\"type\":\"BoxAnnotation\"},{\"attributes\":{\"data_source\":{\"id\":\"2623\",\"type\":\"ColumnDataSource\"},\"glyph\":{\"id\":\"2625\",\"type\":\"MultiLine\"},\"hover_glyph\":null,\"muted_glyph\":null,\"nonselection_glyph\":{\"id\":\"2626\",\"type\":\"MultiLine\"},\"selection_glyph\":null,\"view\":{\"id\":\"2628\",\"type\":\"CDSView\"}},\"id\":\"2627\",\"type\":\"GlyphRenderer\"},{\"attributes\":{\"align\":\"center\",\"text\":\"Silhouette index \\n1-sim\",\"text_font_size\":{\"value\":\"25px\"}},\"id\":\"2620\",\"type\":\"Title\"}],\"root_ids\":[\"2688\"]},\"title\":\"Bokeh Application\",\"version\":\"1.3.4\"}};\n",
       "  var render_items = [{\"docid\":\"8fc632bf-a1b2-4cba-a07d-c0fe4823b008\",\"roots\":{\"2688\":\"ec565830-8de8-47ab-b33c-4b0b5b95cf7a\"}}];\n",
       "  root.Bokeh.embed.embed_items_notebook(docs_json, render_items);\n",
       "\n",
       "  }\n",
       "  if (root.Bokeh !== undefined) {\n",
       "    embed_document(root);\n",
       "  } else {\n",
       "    var attempts = 0;\n",
       "    var timer = setInterval(function(root) {\n",
       "      if (root.Bokeh !== undefined) {\n",
       "        embed_document(root);\n",
       "        clearInterval(timer);\n",
       "      }\n",
       "      attempts++;\n",
       "      if (attempts > 100) {\n",
       "        console.log(\"Bokeh: ERROR: Unable to run BokehJS code because BokehJS library is missing\");\n",
       "        clearInterval(timer);\n",
       "      }\n",
       "    }, 10, root)\n",
       "  }\n",
       "})(window);"
      ],
      "application/vnd.bokehjs_exec.v0+json": ""
     },
     "metadata": {
      "application/vnd.bokehjs_exec.v0+json": {
       "id": "2688"
      }
     },
     "output_type": "display_data"
    }
   ],
   "source": [
    "c = [i for i in range(2, 31)]\n",
    "plot_evaluation(title=\"Silhouette index \\n1-sim\", metric=silhouette3, pos_legend='center_right', c=c,\n",
    "                title2=\"Silhouette index \\ncosine_sim\", metric2=silhouette4, pos_legend2='center_right',)"
   ]
  },
  {
   "cell_type": "code",
   "execution_count": 104,
   "metadata": {},
   "outputs": [
    {
     "data": {
      "text/plain": [
       "[(3, 211),\n",
       " (5, 147),\n",
       " (1, 140),\n",
       " (0, 80),\n",
       " (8, 76),\n",
       " (4, 47),\n",
       " (7, 38),\n",
       " (6, 36),\n",
       " (2, 19),\n",
       " (10, 13),\n",
       " (9, 11),\n",
       " (11, 1)]"
      ]
     },
     "execution_count": 104,
     "metadata": {},
     "output_type": "execute_result"
    }
   ],
   "source": [
    "model = AgglomerativeClustering(affinity='precomputed', n_clusters=12, linkage=\"average\").fit(n_matrix1)\n",
    "labels = model.labels_\n",
    "Counter(labels).most_common()"
   ]
  },
  {
   "cell_type": "code",
   "execution_count": 105,
   "metadata": {},
   "outputs": [],
   "source": [
    "temp = pd.DataFrame({'Word': primary_words, 'Cluster': labels})\n",
    "\n",
    "temp[\"Freq\"] = temp[\"Word\"].map(dict(common_words))\n",
    "temp = temp.sort_values(by='Freq', ascending=False)\n",
    "\n",
    "temp.head()\n",
    "temp.to_csv(path_or_buf=\"D:/Scraping/labels_noroot.csv\", index=False)"
   ]
  },
  {
   "cell_type": "code",
   "execution_count": 101,
   "metadata": {},
   "outputs": [
    {
     "data": {
      "text/plain": [
       "\"\\nwith open('nouns_list', 'wb') as fp:\\n    pickle.dump(nouns_list, fp)\\n\""
      ]
     },
     "execution_count": 101,
     "metadata": {},
     "output_type": "execute_result"
    }
   ],
   "source": [
    "with open('diz_similarity', 'wb') as fp:\n",
    "    pickle.dump(diz_similarity, fp)\n",
    "    \n",
    "\"\"\"\n",
    "with open('nouns_list', 'wb') as fp:\n",
    "    pickle.dump(nouns_list, fp)\n",
    "\"\"\""
   ]
  }
 ],
 "metadata": {
  "kernelspec": {
   "display_name": "Python 3",
   "language": "python",
   "name": "python3"
  },
  "language_info": {
   "codemirror_mode": {
    "name": "ipython",
    "version": 3
   },
   "file_extension": ".py",
   "mimetype": "text/x-python",
   "name": "python",
   "nbconvert_exporter": "python",
   "pygments_lexer": "ipython3",
   "version": "3.7.4"
  },
  "widgets": {
   "application/vnd.jupyter.widget-state+json": {
    "state": {
     "0005d88f6409432da085dcc0212912f8": {
      "model_module": "@jupyter-widgets/controls",
      "model_module_version": "1.5.0",
      "model_name": "HTMLModel",
      "state": {
       "layout": "IPY_MODEL_5e3eface8e444519b663e774514d7179",
       "style": "IPY_MODEL_bc7252089692436a961007940c0602c4",
       "value": " 49/49 [14:26&lt;00:00, 17.68s/it]"
      }
     },
     "006dedeed3474571a90a640d4aebe23e": {
      "model_module": "@jupyter-widgets/controls",
      "model_module_version": "1.5.0",
      "model_name": "DescriptionStyleModel",
      "state": {
       "description_width": ""
      }
     },
     "0092698936144eddb0b8eb1e2224e917": {
      "model_module": "@jupyter-widgets/controls",
      "model_module_version": "1.5.0",
      "model_name": "IntProgressModel",
      "state": {
       "bar_style": "success",
       "description": "single: 100%",
       "layout": "IPY_MODEL_b588e01bd1384f058d0e34e8f68b4e07",
       "max": 31,
       "style": "IPY_MODEL_f39534ce9e054599a8af36c500108ad7",
       "value": 31
      }
     },
     "014acb323cb1432ea70931b6341d575c": {
      "model_module": "@jupyter-widgets/base",
      "model_module_version": "1.2.0",
      "model_name": "LayoutModel",
      "state": {}
     },
     "01f25f897cd24c26bdfd01a40b946c45": {
      "model_module": "@jupyter-widgets/base",
      "model_module_version": "1.2.0",
      "model_name": "LayoutModel",
      "state": {}
     },
     "028112d11d4e4c7387bc4f68d9226885": {
      "model_module": "@jupyter-widgets/base",
      "model_module_version": "1.2.0",
      "model_name": "LayoutModel",
      "state": {}
     },
     "0478c530f96a49b5a4c5ae9c3bdefd2f": {
      "model_module": "@jupyter-widgets/controls",
      "model_module_version": "1.5.0",
      "model_name": "IntProgressModel",
      "state": {
       "bar_style": "success",
       "description": "single: 100%",
       "layout": "IPY_MODEL_098cb255f3594c6c9c83e81159d80e13",
       "max": 49,
       "style": "IPY_MODEL_375e2c4555a644ab97cac1fd40188f8e",
       "value": 49
      }
     },
     "04b4ada6c3e941b891096e86ce01a6c0": {
      "model_module": "@jupyter-widgets/controls",
      "model_module_version": "1.5.0",
      "model_name": "DescriptionStyleModel",
      "state": {
       "description_width": ""
      }
     },
     "05741b059d3f42eaab23567ea93a5b29": {
      "model_module": "@jupyter-widgets/base",
      "model_module_version": "1.2.0",
      "model_name": "LayoutModel",
      "state": {}
     },
     "05861ed93fc84945889c47db72be3d74": {
      "model_module": "@jupyter-widgets/controls",
      "model_module_version": "1.5.0",
      "model_name": "DescriptionStyleModel",
      "state": {
       "description_width": ""
      }
     },
     "05973cf69cc643cbadb833b96a112323": {
      "model_module": "@jupyter-widgets/base",
      "model_module_version": "1.2.0",
      "model_name": "LayoutModel",
      "state": {}
     },
     "05e3dbc2bd66408183dc62103b7dea6d": {
      "model_module": "@jupyter-widgets/controls",
      "model_module_version": "1.5.0",
      "model_name": "HBoxModel",
      "state": {
       "children": [
        "IPY_MODEL_0478c530f96a49b5a4c5ae9c3bdefd2f",
        "IPY_MODEL_dba84f48f8b045b786b89b63e4108be9"
       ],
       "layout": "IPY_MODEL_aac452f735fc40d286629d429f80b8cc"
      }
     },
     "05ebcce69ab94168a3e0f9d15fb54f3b": {
      "model_module": "@jupyter-widgets/controls",
      "model_module_version": "1.5.0",
      "model_name": "HTMLModel",
      "state": {
       "layout": "IPY_MODEL_9a16afad33844b1185a0705719965ea9",
       "style": "IPY_MODEL_c6851df4c005484ca97d704545e97f48",
       "value": " 31/31 [3:35:19&lt;00:00, 416.75s/it]"
      }
     },
     "070b7b090d7442708f6b0fea2315e740": {
      "model_module": "@jupyter-widgets/controls",
      "model_module_version": "1.5.0",
      "model_name": "HBoxModel",
      "state": {
       "children": [
        "IPY_MODEL_cbb868e29d194644b31e0d17ba319665",
        "IPY_MODEL_bde7e4be83aa44668d86e6cd207665a0"
       ],
       "layout": "IPY_MODEL_28cbd7c0576847ac96c42247099be3e8"
      }
     },
     "0769bcca274f4ac18395a1df529f893d": {
      "model_module": "@jupyter-widgets/controls",
      "model_module_version": "1.5.0",
      "model_name": "IntProgressModel",
      "state": {
       "bar_style": "success",
       "description": "Method: 100%",
       "layout": "IPY_MODEL_445644e2db1042fa9e6c6eb922204440",
       "max": 2,
       "style": "IPY_MODEL_e739211797614540a1b4af84a7491d5f",
       "value": 2
      }
     },
     "0801ed8627db46fe89e1ff1051abbe41": {
      "model_module": "@jupyter-widgets/base",
      "model_module_version": "1.2.0",
      "model_name": "LayoutModel",
      "state": {}
     },
     "08b003e778564f74b8b62d4df659a644": {
      "model_module": "@jupyter-widgets/base",
      "model_module_version": "1.2.0",
      "model_name": "LayoutModel",
      "state": {}
     },
     "08d1c9349ba74758adab7e562a2cc1c0": {
      "model_module": "@jupyter-widgets/controls",
      "model_module_version": "1.5.0",
      "model_name": "HTMLModel",
      "state": {
       "layout": "IPY_MODEL_d1c3dd9fbc4a45529ae2a153d001bb1c",
       "style": "IPY_MODEL_d44d01f8fb4e436a87bfec450ecde679",
       "value": " 3/3 [45:22&lt;00:00, 907.52s/it]"
      }
     },
     "0968590e90d14afbb475051bef43cfb9": {
      "model_module": "@jupyter-widgets/controls",
      "model_module_version": "1.5.0",
      "model_name": "IntProgressModel",
      "state": {
       "bar_style": "success",
       "description": "Minimum cluster size: 100%",
       "layout": "IPY_MODEL_f57f715f8f14455bacc59b81caa4417f",
       "max": 13,
       "style": "IPY_MODEL_d3f8ddb6a9d34aebbfd3ecc9aeeb389f",
       "value": 13
      }
     },
     "0985d75772d4474389ae64d47438e6ef": {
      "model_module": "@jupyter-widgets/base",
      "model_module_version": "1.2.0",
      "model_name": "LayoutModel",
      "state": {}
     },
     "098cb255f3594c6c9c83e81159d80e13": {
      "model_module": "@jupyter-widgets/base",
      "model_module_version": "1.2.0",
      "model_name": "LayoutModel",
      "state": {}
     },
     "09c6eab093544b1ab71ef87cd9d5456f": {
      "model_module": "@jupyter-widgets/base",
      "model_module_version": "1.2.0",
      "model_name": "LayoutModel",
      "state": {}
     },
     "0a6d9570e1e847e0b6d9695b63c90c4d": {
      "model_module": "@jupyter-widgets/controls",
      "model_module_version": "1.5.0",
      "model_name": "DescriptionStyleModel",
      "state": {
       "description_width": ""
      }
     },
     "0a9c332e97134750b564399a2881bd8d": {
      "model_module": "@jupyter-widgets/base",
      "model_module_version": "1.2.0",
      "model_name": "LayoutModel",
      "state": {}
     },
     "0b27e934118f4c4384131214971783cf": {
      "model_module": "@jupyter-widgets/controls",
      "model_module_version": "1.5.0",
      "model_name": "HBoxModel",
      "state": {
       "children": [
        "IPY_MODEL_9894c00668ed4c5bbd96058a941d8770",
        "IPY_MODEL_5a4345fe472546158ad31bca5d83610d"
       ],
       "layout": "IPY_MODEL_392ecd9201e94135af0ed2a8c2ad424a"
      }
     },
     "0c63f430bc724e329ccf41e4e6b0f78f": {
      "model_module": "@jupyter-widgets/controls",
      "model_module_version": "1.5.0",
      "model_name": "IntProgressModel",
      "state": {
       "bar_style": "success",
       "description": "single: 100%",
       "layout": "IPY_MODEL_423fbe21f5154736bfe7dce64123e1dc",
       "max": 29,
       "style": "IPY_MODEL_e17f928e2b34469f92931c96641c3c1c",
       "value": 29
      }
     },
     "0c9acc710fb94f5f89d25459105b0f13": {
      "model_module": "@jupyter-widgets/controls",
      "model_module_version": "1.5.0",
      "model_name": "DescriptionStyleModel",
      "state": {
       "description_width": ""
      }
     },
     "0cafee80fac349a39f47d857940841c6": {
      "model_module": "@jupyter-widgets/base",
      "model_module_version": "1.2.0",
      "model_name": "LayoutModel",
      "state": {}
     },
     "0cb9d26d82614695a5de88435a9a15cc": {
      "model_module": "@jupyter-widgets/controls",
      "model_module_version": "1.5.0",
      "model_name": "DescriptionStyleModel",
      "state": {
       "description_width": ""
      }
     },
     "0d938bb814f546ecbad31414f6a3fde5": {
      "model_module": "@jupyter-widgets/base",
      "model_module_version": "1.2.0",
      "model_name": "LayoutModel",
      "state": {}
     },
     "0def761203654b1eaf2a695e207c7071": {
      "model_module": "@jupyter-widgets/controls",
      "model_module_version": "1.5.0",
      "model_name": "DescriptionStyleModel",
      "state": {
       "description_width": ""
      }
     },
     "0e05b835812e4088a804c2ee9d4c4584": {
      "model_module": "@jupyter-widgets/controls",
      "model_module_version": "1.5.0",
      "model_name": "IntProgressModel",
      "state": {
       "bar_style": "success",
       "description": "single: 100%",
       "layout": "IPY_MODEL_9bed1ab7715c4493b93792ffa31ae831",
       "max": 49,
       "style": "IPY_MODEL_87506ce7cbb04d1694b23822a3ca9a67",
       "value": 49
      }
     },
     "0e4f3d8af1014c15bfb4ee3e2d0f2242": {
      "model_module": "@jupyter-widgets/controls",
      "model_module_version": "1.5.0",
      "model_name": "DescriptionStyleModel",
      "state": {
       "description_width": ""
      }
     },
     "0e62b2e036a14bbfaa3d5613f0a607d6": {
      "model_module": "@jupyter-widgets/base",
      "model_module_version": "1.2.0",
      "model_name": "LayoutModel",
      "state": {}
     },
     "0e62ef5a655e4b5b83b02daaad6ee00d": {
      "model_module": "@jupyter-widgets/base",
      "model_module_version": "1.2.0",
      "model_name": "LayoutModel",
      "state": {}
     },
     "0ec11c810f8a4952b74306eacd4fec8b": {
      "model_module": "@jupyter-widgets/base",
      "model_module_version": "1.2.0",
      "model_name": "LayoutModel",
      "state": {}
     },
     "0f43f9a17a534a228106ee3df603a7a1": {
      "model_module": "@jupyter-widgets/controls",
      "model_module_version": "1.5.0",
      "model_name": "HTMLModel",
      "state": {
       "layout": "IPY_MODEL_4126c24a64eb4c5db526a0296711849a",
       "style": "IPY_MODEL_7ab233aa187541e58f0f5bac00c23f17",
       "value": " 29/29 [00:00&lt;00:00, 38.41it/s]"
      }
     },
     "0f5708133a68427baf13c3ac35d6b6ac": {
      "model_module": "@jupyter-widgets/controls",
      "model_module_version": "1.5.0",
      "model_name": "HTMLModel",
      "state": {
       "layout": "IPY_MODEL_01f25f897cd24c26bdfd01a40b946c45",
       "style": "IPY_MODEL_fa3c19243e854e20b185bedb1dd1ba8d",
       "value": " 29/29 [00:20&lt;00:00,  1.43it/s]"
      }
     },
     "0f5bfcf1f7794676be3a13189626101b": {
      "model_module": "@jupyter-widgets/base",
      "model_module_version": "1.2.0",
      "model_name": "LayoutModel",
      "state": {}
     },
     "0f9e2d6684d446db8558f70343117d91": {
      "model_module": "@jupyter-widgets/controls",
      "model_module_version": "1.5.0",
      "model_name": "ProgressStyleModel",
      "state": {
       "description_width": "initial"
      }
     },
     "10b8bfc663174ac2af88a00673da09ec": {
      "model_module": "@jupyter-widgets/controls",
      "model_module_version": "1.5.0",
      "model_name": "HBoxModel",
      "state": {
       "children": [
        "IPY_MODEL_accf149642a34efc8fd88e6314bc2565",
        "IPY_MODEL_b62874f6189d4b4fabb258a5236e3c25"
       ],
       "layout": "IPY_MODEL_3a9be85fd3274278bae59f753f26c5ca"
      }
     },
     "111bee8f91c24d1db40bd738c0d0b905": {
      "model_module": "@jupyter-widgets/base",
      "model_module_version": "1.2.0",
      "model_name": "LayoutModel",
      "state": {}
     },
     "121be5dcc1b14a8982a0657871974a68": {
      "model_module": "@jupyter-widgets/controls",
      "model_module_version": "1.5.0",
      "model_name": "IntProgressModel",
      "state": {
       "bar_style": "success",
       "description": "single: 100%",
       "layout": "IPY_MODEL_707a374c947341ce9f2228575ca01447",
       "max": 31,
       "style": "IPY_MODEL_352d559a5c7740869f12ceeb7f6d1c58",
       "value": 31
      }
     },
     "1463ce12644345b3b7c527e99c9c28b5": {
      "model_module": "@jupyter-widgets/controls",
      "model_module_version": "1.5.0",
      "model_name": "IntProgressModel",
      "state": {
       "bar_style": "success",
       "description": "Method: 100%",
       "layout": "IPY_MODEL_704691273a6640cd8c9e4eb7bd7d6d4d",
       "max": 3,
       "style": "IPY_MODEL_174c6dcbb71c49848d6d879e438c04da",
       "value": 3
      }
     },
     "14b5872e8e354664a10e01d69ea3bd91": {
      "model_module": "@jupyter-widgets/controls",
      "model_module_version": "1.5.0",
      "model_name": "HTMLModel",
      "state": {
       "layout": "IPY_MODEL_66d582151ea34b00886d124a8afa053c",
       "style": "IPY_MODEL_574c695817bc4dcbb19cd4f2505c0357",
       "value": " 29/29 [00:00&lt;00:00, 39.67it/s]"
      }
     },
     "14bc80b919034ce98365043b46bab4c8": {
      "model_module": "@jupyter-widgets/controls",
      "model_module_version": "1.5.0",
      "model_name": "HTMLModel",
      "state": {
       "layout": "IPY_MODEL_f669fc6159574a96a2185d8cee384688",
       "style": "IPY_MODEL_f2178a78221a46d4a812cd575f884066",
       "value": " 29/29 [00:01&lt;00:00, 18.92it/s]"
      }
     },
     "15fe70ad4a1a4cdabd21a73a1c04ce1c": {
      "model_module": "@jupyter-widgets/controls",
      "model_module_version": "1.5.0",
      "model_name": "HBoxModel",
      "state": {
       "children": [
        "IPY_MODEL_9715bc5008e74f98b5e5317ba41af608",
        "IPY_MODEL_40741011fb52401196208139d4c6923e"
       ],
       "layout": "IPY_MODEL_c5f961eeac5742009cc8fcad1d9e0047"
      }
     },
     "161d61d2696646df9144341ab52754aa": {
      "model_module": "@jupyter-widgets/controls",
      "model_module_version": "1.5.0",
      "model_name": "HBoxModel",
      "state": {
       "children": [
        "IPY_MODEL_7f04a23e96fd4fe6aa6c6fbcec165b51",
        "IPY_MODEL_5224f712769b4c8f99a6ec4d578593b1"
       ],
       "layout": "IPY_MODEL_e3abd44b738042f5b513110efe72f1cf"
      }
     },
     "1698e6e7b48b4d31a8a69c5f91e09e63": {
      "model_module": "@jupyter-widgets/base",
      "model_module_version": "1.2.0",
      "model_name": "LayoutModel",
      "state": {}
     },
     "16d198f3fb814f069c6d5eb950d0dc29": {
      "model_module": "@jupyter-widgets/controls",
      "model_module_version": "1.5.0",
      "model_name": "HTMLModel",
      "state": {
       "layout": "IPY_MODEL_9840756842f0460794bf9fe0e30db82d",
       "style": "IPY_MODEL_92bcb6105cac40f3b64934ce6eb4989a",
       "value": " 29/29 [00:03&lt;00:00,  8.18it/s]"
      }
     },
     "174c6dcbb71c49848d6d879e438c04da": {
      "model_module": "@jupyter-widgets/controls",
      "model_module_version": "1.5.0",
      "model_name": "ProgressStyleModel",
      "state": {
       "description_width": "initial"
      }
     },
     "179327253810409ca12cacc7571d9168": {
      "model_module": "@jupyter-widgets/controls",
      "model_module_version": "1.5.0",
      "model_name": "IntProgressModel",
      "state": {
       "bar_style": "success",
       "description": "Method: 100%",
       "layout": "IPY_MODEL_17d7b0538f854148b138b9efacdfda3a",
       "max": 3,
       "style": "IPY_MODEL_db56a85c8bc54b32b2280593196aa9fd",
       "value": 3
      }
     },
     "17ab31f49467408dbeb7749c5e7b90dc": {
      "model_module": "@jupyter-widgets/base",
      "model_module_version": "1.2.0",
      "model_name": "LayoutModel",
      "state": {}
     },
     "17d7b0538f854148b138b9efacdfda3a": {
      "model_module": "@jupyter-widgets/base",
      "model_module_version": "1.2.0",
      "model_name": "LayoutModel",
      "state": {}
     },
     "183eb795005a4005b6b2c42c51edfe77": {
      "model_module": "@jupyter-widgets/controls",
      "model_module_version": "1.5.0",
      "model_name": "ProgressStyleModel",
      "state": {
       "description_width": "initial"
      }
     },
     "186b45be546342f7b0bd5bc0c94e85a9": {
      "model_module": "@jupyter-widgets/controls",
      "model_module_version": "1.5.0",
      "model_name": "DescriptionStyleModel",
      "state": {
       "description_width": ""
      }
     },
     "18ec5e180fe14eda869cae39170165a8": {
      "model_module": "@jupyter-widgets/base",
      "model_module_version": "1.2.0",
      "model_name": "LayoutModel",
      "state": {}
     },
     "19886ee8971646ef8cedf59d0f80be50": {
      "model_module": "@jupyter-widgets/controls",
      "model_module_version": "1.5.0",
      "model_name": "IntProgressModel",
      "state": {
       "bar_style": "success",
       "description": "single: 100%",
       "layout": "IPY_MODEL_efa9077e34e44d70a1367d8cf2a2870a",
       "max": 29,
       "style": "IPY_MODEL_6443a149fce04458b11add5f6787055b",
       "value": 29
      }
     },
     "19a8becdb6e34dc9b5da294dcf5bb783": {
      "model_module": "@jupyter-widgets/base",
      "model_module_version": "1.2.0",
      "model_name": "LayoutModel",
      "state": {}
     },
     "19c6a804ac204797b471f4b43301a691": {
      "model_module": "@jupyter-widgets/controls",
      "model_module_version": "1.5.0",
      "model_name": "ProgressStyleModel",
      "state": {
       "description_width": "initial"
      }
     },
     "1a9b48789c1d431186474b73661ab5ae": {
      "model_module": "@jupyter-widgets/controls",
      "model_module_version": "1.5.0",
      "model_name": "ProgressStyleModel",
      "state": {
       "description_width": "initial"
      }
     },
     "1acaffe617534324a1ea1ab0382f0f2f": {
      "model_module": "@jupyter-widgets/controls",
      "model_module_version": "1.5.0",
      "model_name": "DescriptionStyleModel",
      "state": {
       "description_width": ""
      }
     },
     "1b20b5b4f36d47d39d0ac01130c6ad09": {
      "model_module": "@jupyter-widgets/controls",
      "model_module_version": "1.5.0",
      "model_name": "IntProgressModel",
      "state": {
       "bar_style": "success",
       "description": "complete: 100%",
       "layout": "IPY_MODEL_6884d34517c84eeaa4d78f51411443b3",
       "max": 49,
       "style": "IPY_MODEL_71bbb3b87691450e8e13086807e8d306",
       "value": 49
      }
     },
     "1b91ff15d87144db8c154ac26a5a565b": {
      "model_module": "@jupyter-widgets/controls",
      "model_module_version": "1.5.0",
      "model_name": "ProgressStyleModel",
      "state": {
       "description_width": "initial"
      }
     },
     "1bf648b395d64ac69a295d31cdb90da7": {
      "model_module": "@jupyter-widgets/controls",
      "model_module_version": "1.5.0",
      "model_name": "DescriptionStyleModel",
      "state": {
       "description_width": ""
      }
     },
     "1bf7d242a1e8445eaee76dc3fba6e216": {
      "model_module": "@jupyter-widgets/base",
      "model_module_version": "1.2.0",
      "model_name": "LayoutModel",
      "state": {}
     },
     "1c0228ca314c4f8a94e7220507abbcea": {
      "model_module": "@jupyter-widgets/controls",
      "model_module_version": "1.5.0",
      "model_name": "IntProgressModel",
      "state": {
       "bar_style": "success",
       "description": "complete: 100%",
       "layout": "IPY_MODEL_d188ab4d8c4f42adbac51fe01a062847",
       "max": 29,
       "style": "IPY_MODEL_312518c162b74c77879cf3f2f3d94fb8",
       "value": 29
      }
     },
     "1c325575050f481e89c5663509fa21a8": {
      "model_module": "@jupyter-widgets/base",
      "model_module_version": "1.2.0",
      "model_name": "LayoutModel",
      "state": {}
     },
     "1c3386a4011f48c188677299bc98558f": {
      "model_module": "@jupyter-widgets/controls",
      "model_module_version": "1.5.0",
      "model_name": "HTMLModel",
      "state": {
       "layout": "IPY_MODEL_2f1a3da2682b4cc2b4607bfbcc94f677",
       "style": "IPY_MODEL_d889f8b460ba4baf908f1ff2561192d0",
       "value": " 31/31 [10:24&lt;00:00, 20.14s/it]"
      }
     },
     "1c5321ef955c4d17afefdd95e2e4db52": {
      "model_module": "@jupyter-widgets/base",
      "model_module_version": "1.2.0",
      "model_name": "LayoutModel",
      "state": {}
     },
     "1c79c6d4e00841cd9c56216d63061c42": {
      "model_module": "@jupyter-widgets/base",
      "model_module_version": "1.2.0",
      "model_name": "LayoutModel",
      "state": {}
     },
     "1d49d7da4c86450d816291c3d6bf4d29": {
      "model_module": "@jupyter-widgets/base",
      "model_module_version": "1.2.0",
      "model_name": "LayoutModel",
      "state": {}
     },
     "1e52130045334769929e84fa154b8ce0": {
      "model_module": "@jupyter-widgets/controls",
      "model_module_version": "1.5.0",
      "model_name": "IntProgressModel",
      "state": {
       "bar_style": "success",
       "description": "average: 100%",
       "layout": "IPY_MODEL_1e58e759d4d74d7aae5e3c21c67bf6bc",
       "max": 49,
       "style": "IPY_MODEL_20b2f4f82c2143ce97df86e97139b5dd",
       "value": 49
      }
     },
     "1e58e759d4d74d7aae5e3c21c67bf6bc": {
      "model_module": "@jupyter-widgets/base",
      "model_module_version": "1.2.0",
      "model_name": "LayoutModel",
      "state": {}
     },
     "1e5c4204739e45328a0c1b56504bb85e": {
      "model_module": "@jupyter-widgets/controls",
      "model_module_version": "1.5.0",
      "model_name": "IntProgressModel",
      "state": {
       "bar_style": "success",
       "description": "Minimum cluster size: 100%",
       "layout": "IPY_MODEL_d21a6577b404485891d5ba3ca32a48d6",
       "max": 13,
       "style": "IPY_MODEL_d1c84584e1a84cf9bfac6bdacf8d4495",
       "value": 13
      }
     },
     "1f3d470c1a1049e18e7bf9f86792a3b0": {
      "model_module": "@jupyter-widgets/base",
      "model_module_version": "1.2.0",
      "model_name": "LayoutModel",
      "state": {}
     },
     "1f3dd16ec0a941ba81235165545d8555": {
      "model_module": "@jupyter-widgets/controls",
      "model_module_version": "1.5.0",
      "model_name": "IntProgressModel",
      "state": {
       "bar_style": "success",
       "description": "single: 100%",
       "layout": "IPY_MODEL_5c7f839d34824bdd8bd94b3569416b5c",
       "max": 31,
       "style": "IPY_MODEL_4c835ce977274f1383b0418428217783",
       "value": 31
      }
     },
     "1f9d5eec482d4df5a795fee5bbbe7f53": {
      "model_module": "@jupyter-widgets/controls",
      "model_module_version": "1.5.0",
      "model_name": "HTMLModel",
      "state": {
       "layout": "IPY_MODEL_e4c62012f81b4d4cb56176aa592bf8ee",
       "style": "IPY_MODEL_1bf648b395d64ac69a295d31cdb90da7",
       "value": " 29/29 [00:21&lt;00:00,  1.37it/s]"
      }
     },
     "1f9de7b5045646cba58d8b8f946e803e": {
      "model_module": "@jupyter-widgets/base",
      "model_module_version": "1.2.0",
      "model_name": "LayoutModel",
      "state": {}
     },
     "1fd653637973488dbe6d64857c46342d": {
      "model_module": "@jupyter-widgets/controls",
      "model_module_version": "1.5.0",
      "model_name": "DescriptionStyleModel",
      "state": {
       "description_width": ""
      }
     },
     "20271a4af48f4a738bbe383193c3aead": {
      "model_module": "@jupyter-widgets/base",
      "model_module_version": "1.2.0",
      "model_name": "LayoutModel",
      "state": {}
     },
     "208b226a89634abf81577a889b4b1d55": {
      "model_module": "@jupyter-widgets/controls",
      "model_module_version": "1.5.0",
      "model_name": "HTMLModel",
      "state": {
       "layout": "IPY_MODEL_8c153bb5f44b401f8e67f177de2ea1d6",
       "style": "IPY_MODEL_5732f9ff8cb54694a64d46cd3147a35f",
       "value": " 41/41 [53:01&lt;00:00, 77.60s/it]"
      }
     },
     "20b2f4f82c2143ce97df86e97139b5dd": {
      "model_module": "@jupyter-widgets/controls",
      "model_module_version": "1.5.0",
      "model_name": "ProgressStyleModel",
      "state": {
       "description_width": "initial"
      }
     },
     "2246a15293d84f7ab623ffa9a20eb408": {
      "model_module": "@jupyter-widgets/base",
      "model_module_version": "1.2.0",
      "model_name": "LayoutModel",
      "state": {}
     },
     "22dae69c38b344639e8e4b3d60e28236": {
      "model_module": "@jupyter-widgets/controls",
      "model_module_version": "1.5.0",
      "model_name": "HTMLModel",
      "state": {
       "layout": "IPY_MODEL_c3db54ec47124b77a692657041f91f92",
       "style": "IPY_MODEL_9bfc63a1dfbc48329e1012896fc458fc",
       "value": " 31/31 [06:26&lt;00:00, 12.46s/it]"
      }
     },
     "236c5d99e67648d0826848293c9df47e": {
      "model_module": "@jupyter-widgets/base",
      "model_module_version": "1.2.0",
      "model_name": "LayoutModel",
      "state": {}
     },
     "23da56aa63f24de2a01f0ca00f1cc677": {
      "model_module": "@jupyter-widgets/controls",
      "model_module_version": "1.5.0",
      "model_name": "DescriptionStyleModel",
      "state": {
       "description_width": ""
      }
     },
     "245a9317ef174744b257ccf0d6dfd49b": {
      "model_module": "@jupyter-widgets/base",
      "model_module_version": "1.2.0",
      "model_name": "LayoutModel",
      "state": {}
     },
     "24a5b1c5fa6949ce820ffec4e5048f31": {
      "model_module": "@jupyter-widgets/controls",
      "model_module_version": "1.5.0",
      "model_name": "DescriptionStyleModel",
      "state": {
       "description_width": ""
      }
     },
     "24e08482e93947c1b114d0c1bc56d701": {
      "model_module": "@jupyter-widgets/controls",
      "model_module_version": "1.5.0",
      "model_name": "HTMLModel",
      "state": {
       "layout": "IPY_MODEL_98d2767503b04968a6385532a52cf780",
       "style": "IPY_MODEL_e2e1ae6101014f379aeb29f86e79ff01",
       "value": " 31/31 [3:48:48&lt;00:00, 442.85s/it]"
      }
     },
     "2581c1704ee94573b3609a5ed17c18d5": {
      "model_module": "@jupyter-widgets/controls",
      "model_module_version": "1.5.0",
      "model_name": "IntProgressModel",
      "state": {
       "bar_style": "success",
       "description": "Method: 100%",
       "layout": "IPY_MODEL_d7d018268b3d48bea3facaecd09349ef",
       "max": 3,
       "style": "IPY_MODEL_99055bdeada74aa2bacbb61743d4672e",
       "value": 3
      }
     },
     "2640309d2c514f2b9f95aa005c21767e": {
      "model_module": "@jupyter-widgets/controls",
      "model_module_version": "1.5.0",
      "model_name": "HBoxModel",
      "state": {
       "children": [
        "IPY_MODEL_421d5a32ac424c52bbcbb48d8de893c9",
        "IPY_MODEL_0005d88f6409432da085dcc0212912f8"
       ],
       "layout": "IPY_MODEL_30ab5a93a7ac4deab2d1964581c6a0c5"
      }
     },
     "26737518cad54cc18a59c883d916504b": {
      "model_module": "@jupyter-widgets/controls",
      "model_module_version": "1.5.0",
      "model_name": "HTMLModel",
      "state": {
       "layout": "IPY_MODEL_dc967201751f41b0b74be8e56dd37965",
       "style": "IPY_MODEL_3f6c0197af594111828753b6d78d7b21",
       "value": " 41/41 [26:44&lt;00:00, 39.12s/it]"
      }
     },
     "26f80671a21444bd84c034578130b115": {
      "model_module": "@jupyter-widgets/controls",
      "model_module_version": "1.5.0",
      "model_name": "ProgressStyleModel",
      "state": {
       "description_width": "initial"
      }
     },
     "271475d11b0344d08bb1d9d6a270c13f": {
      "model_module": "@jupyter-widgets/base",
      "model_module_version": "1.2.0",
      "model_name": "LayoutModel",
      "state": {}
     },
     "2788435ec087426484c7a1cab12dccde": {
      "model_module": "@jupyter-widgets/controls",
      "model_module_version": "1.5.0",
      "model_name": "HBoxModel",
      "state": {
       "children": [
        "IPY_MODEL_2c3460b90b9d425794c94a57c9e96c51",
        "IPY_MODEL_22dae69c38b344639e8e4b3d60e28236"
       ],
       "layout": "IPY_MODEL_e776a7057bf04d299bea267248b018dd"
      }
     },
     "2889639dcb56414d8438bb7e6c3932a4": {
      "model_module": "@jupyter-widgets/controls",
      "model_module_version": "1.5.0",
      "model_name": "HTMLModel",
      "state": {
       "layout": "IPY_MODEL_e2b810e04582435c9d0c346fadec90c4",
       "style": "IPY_MODEL_48961c3adcb54688a2855e52decdc75c",
       "value": " 3/3 [28:30&lt;00:00, 570.27s/it]"
      }
     },
     "28b594717ad14c70babfc44eb514e0eb": {
      "model_module": "@jupyter-widgets/controls",
      "model_module_version": "1.5.0",
      "model_name": "IntProgressModel",
      "state": {
       "bar_style": "success",
       "description": "Method: 100%",
       "layout": "IPY_MODEL_75456e2602de4959af24331d0b651797",
       "max": 2,
       "style": "IPY_MODEL_7758f1e10b174bd6bd3550794ddd2535",
       "value": 2
      }
     },
     "28cbd7c0576847ac96c42247099be3e8": {
      "model_module": "@jupyter-widgets/base",
      "model_module_version": "1.2.0",
      "model_name": "LayoutModel",
      "state": {}
     },
     "2952a81d111b420d86548316f6e4ec5e": {
      "model_module": "@jupyter-widgets/base",
      "model_module_version": "1.2.0",
      "model_name": "LayoutModel",
      "state": {}
     },
     "29b7fc4db7dc4297abb055fc076c9d84": {
      "model_module": "@jupyter-widgets/base",
      "model_module_version": "1.2.0",
      "model_name": "LayoutModel",
      "state": {}
     },
     "2a7fb071390348e1a8050ee6b40c52cb": {
      "model_module": "@jupyter-widgets/controls",
      "model_module_version": "1.5.0",
      "model_name": "HBoxModel",
      "state": {
       "children": [
        "IPY_MODEL_36063727347e42febfba2710a0bf5d32",
        "IPY_MODEL_dfd67e282c9c45afa3008824aa6f7e2d"
       ],
       "layout": "IPY_MODEL_600322bf508c499ea58bbdb54c191407"
      }
     },
     "2a910e95941844d48f06bb303b98d1fa": {
      "model_module": "@jupyter-widgets/base",
      "model_module_version": "1.2.0",
      "model_name": "LayoutModel",
      "state": {}
     },
     "2ad2f97682f748c9a064791ce127f9c2": {
      "model_module": "@jupyter-widgets/controls",
      "model_module_version": "1.5.0",
      "model_name": "DescriptionStyleModel",
      "state": {
       "description_width": ""
      }
     },
     "2b14c198df3d45a6b57c0fb42a523ad1": {
      "model_module": "@jupyter-widgets/controls",
      "model_module_version": "1.5.0",
      "model_name": "HBoxModel",
      "state": {
       "children": [
        "IPY_MODEL_9f04d5ced85146a784a06c9664a1680e",
        "IPY_MODEL_24e08482e93947c1b114d0c1bc56d701"
       ],
       "layout": "IPY_MODEL_885a2b343595436b94f0e256a1bd6217"
      }
     },
     "2c3460b90b9d425794c94a57c9e96c51": {
      "model_module": "@jupyter-widgets/controls",
      "model_module_version": "1.5.0",
      "model_name": "IntProgressModel",
      "state": {
       "bar_style": "success",
       "description": "complete: 100%",
       "layout": "IPY_MODEL_5491829c840547f695500b7b06eabad8",
       "max": 31,
       "style": "IPY_MODEL_3482dc684b4845c18568d01643a680a0",
       "value": 31
      }
     },
     "2d1bdea7ec344a749566f91c00e718ea": {
      "model_module": "@jupyter-widgets/controls",
      "model_module_version": "1.5.0",
      "model_name": "HBoxModel",
      "state": {
       "children": [
        "IPY_MODEL_9767e3ca70574f18acff9dea2b8fdf56",
        "IPY_MODEL_d5dce76e549a481da5467d4486df0df3"
       ],
       "layout": "IPY_MODEL_9f821fd522d74d138b8ff40fe9849d3f"
      }
     },
     "2d1f26f7a4594550b3281b83f11dfe19": {
      "model_module": "@jupyter-widgets/base",
      "model_module_version": "1.2.0",
      "model_name": "LayoutModel",
      "state": {}
     },
     "2dfb387f699046a3b7e7a78a3cd6c84d": {
      "model_module": "@jupyter-widgets/controls",
      "model_module_version": "1.5.0",
      "model_name": "HTMLModel",
      "state": {
       "layout": "IPY_MODEL_9bafd8cfec6a46b8a5f15e0261904afb",
       "style": "IPY_MODEL_a64aaa72d95e45e6b6b93f6c3858ded6",
       "value": " 29/29 [00:05&lt;00:00,  4.94it/s]"
      }
     },
     "2dfd87460e094cac85411f3a68a6ea10": {
      "model_module": "@jupyter-widgets/controls",
      "model_module_version": "1.5.0",
      "model_name": "IntProgressModel",
      "state": {
       "bar_style": "success",
       "description": "single: 100%",
       "layout": "IPY_MODEL_7ca3884ca81a4920808de0d7811a43c5",
       "max": 29,
       "style": "IPY_MODEL_6a684f427f1d4b3ebd28a86088394747",
       "value": 29
      }
     },
     "2e776ecfe0d64623991fdab9fb95d7b0": {
      "model_module": "@jupyter-widgets/base",
      "model_module_version": "1.2.0",
      "model_name": "LayoutModel",
      "state": {}
     },
     "2e9fb013e522482aa7ba595bb365c60a": {
      "model_module": "@jupyter-widgets/controls",
      "model_module_version": "1.5.0",
      "model_name": "HTMLModel",
      "state": {
       "layout": "IPY_MODEL_0d938bb814f546ecbad31414f6a3fde5",
       "style": "IPY_MODEL_327c39592226475f9a72a7d68cd14945",
       "value": " 49/49 [30:56&lt;00:00, 37.88s/it]"
      }
     },
     "2f0cfadd3c0c43199f97e85cfc346436": {
      "model_module": "@jupyter-widgets/base",
      "model_module_version": "1.2.0",
      "model_name": "LayoutModel",
      "state": {}
     },
     "2f1a3da2682b4cc2b4607bfbcc94f677": {
      "model_module": "@jupyter-widgets/base",
      "model_module_version": "1.2.0",
      "model_name": "LayoutModel",
      "state": {}
     },
     "2f74f9e618d64b99a7feaf89d93a6f3c": {
      "model_module": "@jupyter-widgets/controls",
      "model_module_version": "1.5.0",
      "model_name": "ProgressStyleModel",
      "state": {
       "description_width": "initial"
      }
     },
     "2ff6349ee5bc443e8a8db8ca7e74a07f": {
      "model_module": "@jupyter-widgets/controls",
      "model_module_version": "1.5.0",
      "model_name": "ProgressStyleModel",
      "state": {
       "description_width": "initial"
      }
     },
     "30995151d64543f387cd277144e8d679": {
      "model_module": "@jupyter-widgets/controls",
      "model_module_version": "1.5.0",
      "model_name": "ProgressStyleModel",
      "state": {
       "description_width": "initial"
      }
     },
     "30ab5a93a7ac4deab2d1964581c6a0c5": {
      "model_module": "@jupyter-widgets/base",
      "model_module_version": "1.2.0",
      "model_name": "LayoutModel",
      "state": {}
     },
     "30b426905a35496aa7de1d35130c307a": {
      "model_module": "@jupyter-widgets/controls",
      "model_module_version": "1.5.0",
      "model_name": "HBoxModel",
      "state": {
       "children": [
        "IPY_MODEL_aa198023c6c54b4cb7c459e703b12bb9",
        "IPY_MODEL_3b0df8f5087746928cf11f00323778db"
       ],
       "layout": "IPY_MODEL_0f5bfcf1f7794676be3a13189626101b"
      }
     },
     "312518c162b74c77879cf3f2f3d94fb8": {
      "model_module": "@jupyter-widgets/controls",
      "model_module_version": "1.5.0",
      "model_name": "ProgressStyleModel",
      "state": {
       "description_width": "initial"
      }
     },
     "3195cc70c20643f28514e665357c7c85": {
      "model_module": "@jupyter-widgets/controls",
      "model_module_version": "1.5.0",
      "model_name": "HBoxModel",
      "state": {
       "children": [
        "IPY_MODEL_fbfb53aeffc340d596436a168466c394",
        "IPY_MODEL_cb60a01aa7bf46adb2376a6a6e026afb"
       ],
       "layout": "IPY_MODEL_d0330eb5b6a24b12b77a7a5b41a865f2"
      }
     },
     "31d17fd2bf7b48e7acaa004a90c05bc1": {
      "model_module": "@jupyter-widgets/base",
      "model_module_version": "1.2.0",
      "model_name": "LayoutModel",
      "state": {}
     },
     "31e13ff42d0c42849561b8d79c9a2642": {
      "model_module": "@jupyter-widgets/controls",
      "model_module_version": "1.5.0",
      "model_name": "HTMLModel",
      "state": {
       "layout": "IPY_MODEL_e2e0430a04724adaa4372badcf26855d",
       "style": "IPY_MODEL_0a6d9570e1e847e0b6d9695b63c90c4d",
       "value": " 3/3 [00:04&lt;00:00,  1.44s/it]"
      }
     },
     "32128eb5ca07492f8c9427542d549583": {
      "model_module": "@jupyter-widgets/base",
      "model_module_version": "1.2.0",
      "model_name": "LayoutModel",
      "state": {}
     },
     "327c39592226475f9a72a7d68cd14945": {
      "model_module": "@jupyter-widgets/controls",
      "model_module_version": "1.5.0",
      "model_name": "DescriptionStyleModel",
      "state": {
       "description_width": ""
      }
     },
     "335012cffc2c48448e99e292cad82e75": {
      "model_module": "@jupyter-widgets/controls",
      "model_module_version": "1.5.0",
      "model_name": "ProgressStyleModel",
      "state": {
       "description_width": "initial"
      }
     },
     "33e9566664944cabbfdc1cb6ad04dd32": {
      "model_module": "@jupyter-widgets/controls",
      "model_module_version": "1.5.0",
      "model_name": "ProgressStyleModel",
      "state": {
       "description_width": "initial"
      }
     },
     "3482dc684b4845c18568d01643a680a0": {
      "model_module": "@jupyter-widgets/controls",
      "model_module_version": "1.5.0",
      "model_name": "ProgressStyleModel",
      "state": {
       "description_width": "initial"
      }
     },
     "349339b01bd04fb0ad3fe9305d454bcf": {
      "model_module": "@jupyter-widgets/controls",
      "model_module_version": "1.5.0",
      "model_name": "ProgressStyleModel",
      "state": {
       "description_width": "initial"
      }
     },
     "34b459fc744e45adb05fa7609b8da41f": {
      "model_module": "@jupyter-widgets/controls",
      "model_module_version": "1.5.0",
      "model_name": "IntProgressModel",
      "state": {
       "bar_style": "success",
       "description": "single: 100%",
       "layout": "IPY_MODEL_05741b059d3f42eaab23567ea93a5b29",
       "max": 31,
       "style": "IPY_MODEL_69dc8e2c119d42c39786855e77f86116",
       "value": 31
      }
     },
     "34ec1e120ff64b859a42102602faf0bf": {
      "model_module": "@jupyter-widgets/base",
      "model_module_version": "1.2.0",
      "model_name": "LayoutModel",
      "state": {}
     },
     "352d559a5c7740869f12ceeb7f6d1c58": {
      "model_module": "@jupyter-widgets/controls",
      "model_module_version": "1.5.0",
      "model_name": "ProgressStyleModel",
      "state": {
       "description_width": "initial"
      }
     },
     "35472b74551c4b5295d84ab781dc6034": {
      "model_module": "@jupyter-widgets/controls",
      "model_module_version": "1.5.0",
      "model_name": "IntProgressModel",
      "state": {
       "bar_style": "success",
       "description": "average: 100%",
       "layout": "IPY_MODEL_6e0549ef78414611ba427ce00a0b9fa1",
       "max": 29,
       "style": "IPY_MODEL_2f74f9e618d64b99a7feaf89d93a6f3c",
       "value": 29
      }
     },
     "36063727347e42febfba2710a0bf5d32": {
      "model_module": "@jupyter-widgets/controls",
      "model_module_version": "1.5.0",
      "model_name": "IntProgressModel",
      "state": {
       "bar_style": "success",
       "description": "average: 100%",
       "layout": "IPY_MODEL_fca4462811334ffc820955013e48aad8",
       "max": 29,
       "style": "IPY_MODEL_c734ab6d1fdd4a479d757cf22dc4a3fe",
       "value": 29
      }
     },
     "3616345c11cf4bc3b50992e9d32786ce": {
      "model_module": "@jupyter-widgets/controls",
      "model_module_version": "1.5.0",
      "model_name": "HBoxModel",
      "state": {
       "children": [
        "IPY_MODEL_8a39d53ad07f49f8a792e2034a8d8184",
        "IPY_MODEL_56727d4071934ef08664ebf018fab272"
       ],
       "layout": "IPY_MODEL_457eace982014393915ae57a41ded160"
      }
     },
     "365fb086f43a448db99e68f4d22509fc": {
      "model_module": "@jupyter-widgets/base",
      "model_module_version": "1.2.0",
      "model_name": "LayoutModel",
      "state": {}
     },
     "367a816248a44e9bbe156b54d5499ac0": {
      "model_module": "@jupyter-widgets/base",
      "model_module_version": "1.2.0",
      "model_name": "LayoutModel",
      "state": {}
     },
     "36dc8eee8a3246278a6207218c552d30": {
      "model_module": "@jupyter-widgets/controls",
      "model_module_version": "1.5.0",
      "model_name": "DescriptionStyleModel",
      "state": {
       "description_width": ""
      }
     },
     "36ff75014576407082fb4f2405fb7857": {
      "model_module": "@jupyter-widgets/controls",
      "model_module_version": "1.5.0",
      "model_name": "HTMLModel",
      "state": {
       "layout": "IPY_MODEL_6a1d3336ffaa4db6a4af1ece06d30a62",
       "style": "IPY_MODEL_1fd653637973488dbe6d64857c46342d",
       "value": " 49/49 [39:24&lt;00:00, 48.26s/it]"
      }
     },
     "371e240e18dc47aeaf5e58b399af8dbf": {
      "model_module": "@jupyter-widgets/controls",
      "model_module_version": "1.5.0",
      "model_name": "HBoxModel",
      "state": {
       "children": [
        "IPY_MODEL_eff798f36067426bad850674da4f0989",
        "IPY_MODEL_26737518cad54cc18a59c883d916504b"
       ],
       "layout": "IPY_MODEL_833ce763915c4e9abdf5c56dbd1fda7a"
      }
     },
     "372e5c3defdf4cf79df86111da26c44b": {
      "model_module": "@jupyter-widgets/base",
      "model_module_version": "1.2.0",
      "model_name": "LayoutModel",
      "state": {}
     },
     "375e2c4555a644ab97cac1fd40188f8e": {
      "model_module": "@jupyter-widgets/controls",
      "model_module_version": "1.5.0",
      "model_name": "ProgressStyleModel",
      "state": {
       "description_width": "initial"
      }
     },
     "392ecd9201e94135af0ed2a8c2ad424a": {
      "model_module": "@jupyter-widgets/base",
      "model_module_version": "1.2.0",
      "model_name": "LayoutModel",
      "state": {}
     },
     "395eaed292714682bc0a89108fde031b": {
      "model_module": "@jupyter-widgets/controls",
      "model_module_version": "1.5.0",
      "model_name": "HTMLModel",
      "state": {
       "layout": "IPY_MODEL_1c325575050f481e89c5663509fa21a8",
       "style": "IPY_MODEL_9b77f8ced3da4d0d990f1ef3d31965f4",
       "value": " 13/13 [00:00&lt;00:00, 17.52it/s]"
      }
     },
     "399165e5508e440989d9e3076b759265": {
      "model_module": "@jupyter-widgets/controls",
      "model_module_version": "1.5.0",
      "model_name": "IntProgressModel",
      "state": {
       "bar_style": "success",
       "description": "Minimum cluster size: 100%",
       "layout": "IPY_MODEL_014acb323cb1432ea70931b6341d575c",
       "max": 13,
       "style": "IPY_MODEL_af6a45aa19204a67a5e03bc97611bc90",
       "value": 13
      }
     },
     "39b5c23a4d0743c5aa54a97a45582678": {
      "model_module": "@jupyter-widgets/controls",
      "model_module_version": "1.5.0",
      "model_name": "HBoxModel",
      "state": {
       "children": [
        "IPY_MODEL_eed0aca5696c469091dbfb4ec6cc87c7",
        "IPY_MODEL_7ebe94976ae945de99389f411fcb0b0b"
       ],
       "layout": "IPY_MODEL_52bcb87aa0c94d2b9f212a5dbeafa9e0"
      }
     },
     "3a749f89ce4c4421a20fba1f3646578d": {
      "model_module": "@jupyter-widgets/controls",
      "model_module_version": "1.5.0",
      "model_name": "HTMLModel",
      "state": {
       "layout": "IPY_MODEL_1bf7d242a1e8445eaee76dc3fba6e216",
       "style": "IPY_MODEL_7f7aacae760c46c0b8d976a8c954de7a",
       "value": " 41/41 [09:15&lt;00:00, 13.55s/it]"
      }
     },
     "3a8e3ba5e7fb42eeb2b34eacdd39e4c9": {
      "model_module": "@jupyter-widgets/controls",
      "model_module_version": "1.5.0",
      "model_name": "HBoxModel",
      "state": {
       "children": [
        "IPY_MODEL_66e52a7fcabf45348014412c38d1fa46",
        "IPY_MODEL_208b226a89634abf81577a889b4b1d55"
       ],
       "layout": "IPY_MODEL_8a7dc263996b452fbd9f2f4d58c223b9"
      }
     },
     "3a9be85fd3274278bae59f753f26c5ca": {
      "model_module": "@jupyter-widgets/base",
      "model_module_version": "1.2.0",
      "model_name": "LayoutModel",
      "state": {}
     },
     "3b0df8f5087746928cf11f00323778db": {
      "model_module": "@jupyter-widgets/controls",
      "model_module_version": "1.5.0",
      "model_name": "HTMLModel",
      "state": {
       "layout": "IPY_MODEL_ed97e659945947799aef81600a93e0e6",
       "style": "IPY_MODEL_713cacebb07b43b796a16d8c1fe691c9",
       "value": " 29/29 [00:01&lt;00:00, 19.04it/s]"
      }
     },
     "3b893e6085d74f93917d0b187a5e4ff9": {
      "model_module": "@jupyter-widgets/controls",
      "model_module_version": "1.5.0",
      "model_name": "HBoxModel",
      "state": {
       "children": [
        "IPY_MODEL_e4a641819de54330b31c023a91987404",
        "IPY_MODEL_fe2c83a3ec6d4c348676d2a4fa228405"
       ],
       "layout": "IPY_MODEL_a6fdb273c7204b0aaf74f4baa883cc12"
      }
     },
     "3b9ae60cff0842bd9a96f7f66debd8a9": {
      "model_module": "@jupyter-widgets/controls",
      "model_module_version": "1.5.0",
      "model_name": "DescriptionStyleModel",
      "state": {
       "description_width": ""
      }
     },
     "3cad3434f1bc437a8f7768a232bf0d6b": {
      "model_module": "@jupyter-widgets/base",
      "model_module_version": "1.2.0",
      "model_name": "LayoutModel",
      "state": {}
     },
     "3d0ac6c23b5945118110541a14fad8e8": {
      "model_module": "@jupyter-widgets/controls",
      "model_module_version": "1.5.0",
      "model_name": "ProgressStyleModel",
      "state": {
       "description_width": "initial"
      }
     },
     "3d19eb7b30194e2ba0c8d407a885ac13": {
      "model_module": "@jupyter-widgets/base",
      "model_module_version": "1.2.0",
      "model_name": "LayoutModel",
      "state": {}
     },
     "3d44c7db5764443fabe13957f71f95d0": {
      "model_module": "@jupyter-widgets/base",
      "model_module_version": "1.2.0",
      "model_name": "LayoutModel",
      "state": {}
     },
     "3df50c58e2b9447eabd0dadcd56ee2b5": {
      "model_module": "@jupyter-widgets/controls",
      "model_module_version": "1.5.0",
      "model_name": "HBoxModel",
      "state": {
       "children": [
        "IPY_MODEL_fe35bf66843a464db8470dae8ecbb5cd",
        "IPY_MODEL_4ce0b142c56c4d0eb5ebe16c96a0fa96"
       ],
       "layout": "IPY_MODEL_ee033a30199a489c8684b98f742520cb"
      }
     },
     "3e2a8c3a799d49a58c8aa1f6b74efc14": {
      "model_module": "@jupyter-widgets/base",
      "model_module_version": "1.2.0",
      "model_name": "LayoutModel",
      "state": {}
     },
     "3e2d4185a02c40049d53ecaed4d6758e": {
      "model_module": "@jupyter-widgets/base",
      "model_module_version": "1.2.0",
      "model_name": "LayoutModel",
      "state": {}
     },
     "3e8f93b2567a4ebabf36602e82075e6e": {
      "model_module": "@jupyter-widgets/controls",
      "model_module_version": "1.5.0",
      "model_name": "HTMLModel",
      "state": {
       "layout": "IPY_MODEL_53ff537947624b1e96a192acc669b19f",
       "style": "IPY_MODEL_36dc8eee8a3246278a6207218c552d30",
       "value": " 41/41 [00:30&lt;00:00,  1.35it/s]"
      }
     },
     "3eb5deb2aa284067a1be0f5bd7e4ac5a": {
      "model_module": "@jupyter-widgets/controls",
      "model_module_version": "1.5.0",
      "model_name": "HBoxModel",
      "state": {
       "children": [
        "IPY_MODEL_28b594717ad14c70babfc44eb514e0eb",
        "IPY_MODEL_a641ae85cff643f6a203766abcb3d4d1"
       ],
       "layout": "IPY_MODEL_647036be5437489dba561c7c1221770f"
      }
     },
     "3ed85ea035c8494aa1acdb0909687375": {
      "model_module": "@jupyter-widgets/controls",
      "model_module_version": "1.5.0",
      "model_name": "HBoxModel",
      "state": {
       "children": [
        "IPY_MODEL_59e250bd5eaf4260bc75b6bbbc0e12e7",
        "IPY_MODEL_f374ba13bd8844bd8cade73b268de1e0"
       ],
       "layout": "IPY_MODEL_958909ad6c2545e79b623923a07c2396"
      }
     },
     "3ee7dc521bc045b1ae141af46361ad89": {
      "model_module": "@jupyter-widgets/controls",
      "model_module_version": "1.5.0",
      "model_name": "DescriptionStyleModel",
      "state": {
       "description_width": ""
      }
     },
     "3f525ea6d05842a9a74fc3c8c5e537f8": {
      "model_module": "@jupyter-widgets/base",
      "model_module_version": "1.2.0",
      "model_name": "LayoutModel",
      "state": {}
     },
     "3f6c0197af594111828753b6d78d7b21": {
      "model_module": "@jupyter-widgets/controls",
      "model_module_version": "1.5.0",
      "model_name": "DescriptionStyleModel",
      "state": {
       "description_width": ""
      }
     },
     "40741011fb52401196208139d4c6923e": {
      "model_module": "@jupyter-widgets/controls",
      "model_module_version": "1.5.0",
      "model_name": "HTMLModel",
      "state": {
       "layout": "IPY_MODEL_dbb20bb27bfd4c39977ff71b2cc6f363",
       "style": "IPY_MODEL_0def761203654b1eaf2a695e207c7071",
       "value": " 49/49 [23:11&lt;00:00, 28.39s/it]"
      }
     },
     "4126c24a64eb4c5db526a0296711849a": {
      "model_module": "@jupyter-widgets/base",
      "model_module_version": "1.2.0",
      "model_name": "LayoutModel",
      "state": {}
     },
     "418219d6d39345bf9cacef9e300e8299": {
      "model_module": "@jupyter-widgets/base",
      "model_module_version": "1.2.0",
      "model_name": "LayoutModel",
      "state": {}
     },
     "421d5a32ac424c52bbcbb48d8de893c9": {
      "model_module": "@jupyter-widgets/controls",
      "model_module_version": "1.5.0",
      "model_name": "IntProgressModel",
      "state": {
       "bar_style": "success",
       "description": "single: 100%",
       "layout": "IPY_MODEL_d4caddddecaa4cc2b3339f826b2a6c1b",
       "max": 49,
       "style": "IPY_MODEL_33e9566664944cabbfdc1cb6ad04dd32",
       "value": 49
      }
     },
     "423fbe21f5154736bfe7dce64123e1dc": {
      "model_module": "@jupyter-widgets/base",
      "model_module_version": "1.2.0",
      "model_name": "LayoutModel",
      "state": {}
     },
     "42ab15b44de94405abb35f18aca9b93a": {
      "model_module": "@jupyter-widgets/base",
      "model_module_version": "1.2.0",
      "model_name": "LayoutModel",
      "state": {}
     },
     "42fe3d84e4e2430f876bf6d92c5b8620": {
      "model_module": "@jupyter-widgets/controls",
      "model_module_version": "1.5.0",
      "model_name": "ProgressStyleModel",
      "state": {
       "description_width": "initial"
      }
     },
     "43273b16053345199d83928ba408404b": {
      "model_module": "@jupyter-widgets/base",
      "model_module_version": "1.2.0",
      "model_name": "LayoutModel",
      "state": {}
     },
     "43b741e07aa24370bcc9226cbe803aed": {
      "model_module": "@jupyter-widgets/controls",
      "model_module_version": "1.5.0",
      "model_name": "IntProgressModel",
      "state": {
       "bar_style": "success",
       "description": "average: 100%",
       "layout": "IPY_MODEL_9800e2234b234509a82906d7e21e4ac7",
       "max": 49,
       "style": "IPY_MODEL_f87c61b5942640c2850438d93f1c6cb2",
       "value": 49
      }
     },
     "443cc767efc7401781fea04d225f1695": {
      "model_module": "@jupyter-widgets/controls",
      "model_module_version": "1.5.0",
      "model_name": "HTMLModel",
      "state": {
       "layout": "IPY_MODEL_a7a811d4247b4ebd97c7cb7546d3c574",
       "style": "IPY_MODEL_a83722c490db496da4bddbbd32931366",
       "value": " 13/13 [00:01&lt;00:00,  8.95it/s]"
      }
     },
     "445644e2db1042fa9e6c6eb922204440": {
      "model_module": "@jupyter-widgets/base",
      "model_module_version": "1.2.0",
      "model_name": "LayoutModel",
      "state": {}
     },
     "445d9f73893542f2a4a1fb82530cf785": {
      "model_module": "@jupyter-widgets/controls",
      "model_module_version": "1.5.0",
      "model_name": "HTMLModel",
      "state": {
       "layout": "IPY_MODEL_8e7d74d614a146708ca77321cb3bff25",
       "style": "IPY_MODEL_7b03be6e80ed4afeb23073f1598b71a6",
       "value": " 31/31 [13:19&lt;00:00, 25.80s/it]"
      }
     },
     "44999d9828e94ef8b31c5be514af7d51": {
      "model_module": "@jupyter-widgets/controls",
      "model_module_version": "1.5.0",
      "model_name": "DescriptionStyleModel",
      "state": {
       "description_width": ""
      }
     },
     "44e2f524e19c46cc8a4f756c15d4a6cb": {
      "model_module": "@jupyter-widgets/base",
      "model_module_version": "1.2.0",
      "model_name": "LayoutModel",
      "state": {}
     },
     "44f905d315a8434ea34817ec75ea7285": {
      "model_module": "@jupyter-widgets/base",
      "model_module_version": "1.2.0",
      "model_name": "LayoutModel",
      "state": {}
     },
     "45526221164f4d9aa5c46b181f373f54": {
      "model_module": "@jupyter-widgets/controls",
      "model_module_version": "1.5.0",
      "model_name": "HTMLModel",
      "state": {
       "layout": "IPY_MODEL_d67450840964455bb1468406a1a03576",
       "style": "IPY_MODEL_24a5b1c5fa6949ce820ffec4e5048f31",
       "value": " 49/49 [10:03&lt;00:00, 12.31s/it]"
      }
     },
     "457eace982014393915ae57a41ded160": {
      "model_module": "@jupyter-widgets/base",
      "model_module_version": "1.2.0",
      "model_name": "LayoutModel",
      "state": {}
     },
     "46a7d8def77a41a7b8068f10334bce4e": {
      "model_module": "@jupyter-widgets/base",
      "model_module_version": "1.2.0",
      "model_name": "LayoutModel",
      "state": {}
     },
     "46f63f1582c34b35aca46f8ccc0dfb49": {
      "model_module": "@jupyter-widgets/controls",
      "model_module_version": "1.5.0",
      "model_name": "HBoxModel",
      "state": {
       "children": [
        "IPY_MODEL_ef3f5296c06847a2aa3096126a991739",
        "IPY_MODEL_2e9fb013e522482aa7ba595bb365c60a"
       ],
       "layout": "IPY_MODEL_b803463621324e5e9f6c81c4583edac4"
      }
     },
     "473e78795a7e4b8f9463629ff6cf9c7a": {
      "model_module": "@jupyter-widgets/controls",
      "model_module_version": "1.5.0",
      "model_name": "HTMLModel",
      "state": {
       "layout": "IPY_MODEL_31d17fd2bf7b48e7acaa004a90c05bc1",
       "style": "IPY_MODEL_006dedeed3474571a90a640d4aebe23e",
       "value": " 49/49 [10:10&lt;00:00, 12.46s/it]"
      }
     },
     "478382eeb165471ba22dbea1b3b9df24": {
      "model_module": "@jupyter-widgets/controls",
      "model_module_version": "1.5.0",
      "model_name": "HBoxModel",
      "state": {
       "children": [
        "IPY_MODEL_1c0228ca314c4f8a94e7220507abbcea",
        "IPY_MODEL_5dc41ebc75df4170830ff568733fe257"
       ],
       "layout": "IPY_MODEL_0e62b2e036a14bbfaa3d5613f0a607d6"
      }
     },
     "48961c3adcb54688a2855e52decdc75c": {
      "model_module": "@jupyter-widgets/controls",
      "model_module_version": "1.5.0",
      "model_name": "DescriptionStyleModel",
      "state": {
       "description_width": ""
      }
     },
     "4922c4a9747e47099b8939f4791132c9": {
      "model_module": "@jupyter-widgets/controls",
      "model_module_version": "1.5.0",
      "model_name": "HBoxModel",
      "state": {
       "children": [
        "IPY_MODEL_b3935e504034441f98e4c2c5282c8d11",
        "IPY_MODEL_ee7bde2c558d4f0287913f744f9fe82c"
       ],
       "layout": "IPY_MODEL_4d547045e1c941dbb41500e94dc3b9f3"
      }
     },
     "49e775e53b73418d9c7ceba8c90ac504": {
      "model_module": "@jupyter-widgets/controls",
      "model_module_version": "1.5.0",
      "model_name": "ProgressStyleModel",
      "state": {
       "description_width": "initial"
      }
     },
     "4a41264e7c59480ea3b45df6d786b7ab": {
      "model_module": "@jupyter-widgets/base",
      "model_module_version": "1.2.0",
      "model_name": "LayoutModel",
      "state": {}
     },
     "4ae38a87c51940fc9567ab9f1d6216ca": {
      "model_module": "@jupyter-widgets/base",
      "model_module_version": "1.2.0",
      "model_name": "LayoutModel",
      "state": {}
     },
     "4b9a2b52175f4ca2ba239d6f06e22a08": {
      "model_module": "@jupyter-widgets/controls",
      "model_module_version": "1.5.0",
      "model_name": "HBoxModel",
      "state": {
       "children": [
        "IPY_MODEL_2dfd87460e094cac85411f3a68a6ea10",
        "IPY_MODEL_dbcf09beba554c689af6e9fb0193672f"
       ],
       "layout": "IPY_MODEL_18ec5e180fe14eda869cae39170165a8"
      }
     },
     "4c2bb8a1c2a44d00bae1dd9175489473": {
      "model_module": "@jupyter-widgets/controls",
      "model_module_version": "1.5.0",
      "model_name": "HBoxModel",
      "state": {
       "children": [
        "IPY_MODEL_ff3a357e4515481d9dd86665af05bea9",
        "IPY_MODEL_473e78795a7e4b8f9463629ff6cf9c7a"
       ],
       "layout": "IPY_MODEL_ad61a6d06b7443579e0e849167fbb599"
      }
     },
     "4c835ce977274f1383b0418428217783": {
      "model_module": "@jupyter-widgets/controls",
      "model_module_version": "1.5.0",
      "model_name": "ProgressStyleModel",
      "state": {
       "description_width": "initial"
      }
     },
     "4c91d50c23d14c0fafaa780c1cf343e5": {
      "model_module": "@jupyter-widgets/base",
      "model_module_version": "1.2.0",
      "model_name": "LayoutModel",
      "state": {}
     },
     "4ce0b142c56c4d0eb5ebe16c96a0fa96": {
      "model_module": "@jupyter-widgets/controls",
      "model_module_version": "1.5.0",
      "model_name": "HTMLModel",
      "state": {
       "layout": "IPY_MODEL_44f905d315a8434ea34817ec75ea7285",
       "style": "IPY_MODEL_f687cc1f16574c9cb6da4541c2593d16",
       "value": " 3/3 [18:18&lt;00:00, 366.07s/it]"
      }
     },
     "4d018892907140e2968e76fa1619d9ee": {
      "model_module": "@jupyter-widgets/base",
      "model_module_version": "1.2.0",
      "model_name": "LayoutModel",
      "state": {}
     },
     "4d547045e1c941dbb41500e94dc3b9f3": {
      "model_module": "@jupyter-widgets/base",
      "model_module_version": "1.2.0",
      "model_name": "LayoutModel",
      "state": {}
     },
     "4e8fd69682ef4335953851645b776530": {
      "model_module": "@jupyter-widgets/controls",
      "model_module_version": "1.5.0",
      "model_name": "DescriptionStyleModel",
      "state": {
       "description_width": ""
      }
     },
     "4e9b10fc37854fcba505923c326cf5ae": {
      "model_module": "@jupyter-widgets/controls",
      "model_module_version": "1.5.0",
      "model_name": "HBoxModel",
      "state": {
       "children": [
        "IPY_MODEL_8acfc243d2a74062b4a9345e8613f21a",
        "IPY_MODEL_9507669c90fa48e4be6f25dda37b8b7d"
       ],
       "layout": "IPY_MODEL_b978248a1c61401d92cf2803db0ac4bf"
      }
     },
     "4f245de98a5a4ae48f91ff9a39d4867a": {
      "model_module": "@jupyter-widgets/controls",
      "model_module_version": "1.5.0",
      "model_name": "HTMLModel",
      "state": {
       "layout": "IPY_MODEL_cf302f3d613840f08d0f50da0b64fc54",
       "style": "IPY_MODEL_ea20475915aa4a92b0edb35f0fc5b826",
       "value": " 49/49 [18:20&lt;00:00, 22.45s/it]"
      }
     },
     "4f849803eb424071b5e2a01a3469a76e": {
      "model_module": "@jupyter-widgets/base",
      "model_module_version": "1.2.0",
      "model_name": "LayoutModel",
      "state": {}
     },
     "5135d844e17f42c79058caa80528c24e": {
      "model_module": "@jupyter-widgets/controls",
      "model_module_version": "1.5.0",
      "model_name": "IntProgressModel",
      "state": {
       "bar_style": "success",
       "description": "single: 100%",
       "layout": "IPY_MODEL_4d018892907140e2968e76fa1619d9ee",
       "max": 29,
       "style": "IPY_MODEL_ac9fb82283be46718a1b6614ecc249d7",
       "value": 29
      }
     },
     "52012741b67b432ca166b8b0f22f7f68": {
      "model_module": "@jupyter-widgets/base",
      "model_module_version": "1.2.0",
      "model_name": "LayoutModel",
      "state": {}
     },
     "5224f712769b4c8f99a6ec4d578593b1": {
      "model_module": "@jupyter-widgets/controls",
      "model_module_version": "1.5.0",
      "model_name": "HTMLModel",
      "state": {
       "layout": "IPY_MODEL_c01fa667a4b34702b087839ec8077658",
       "style": "IPY_MODEL_d7291a6e64514210ab531ebf894562e6",
       "value": " 3/3 [23:11&lt;00:00, 463.72s/it]"
      }
     },
     "522b5cb0e5fe4a42a7519408a1076358": {
      "model_module": "@jupyter-widgets/controls",
      "model_module_version": "1.5.0",
      "model_name": "IntProgressModel",
      "state": {
       "bar_style": "success",
       "description": "average: 100%",
       "layout": "IPY_MODEL_fadc6e2e06184b4d8d77df63bc8b2737",
       "max": 29,
       "style": "IPY_MODEL_7473aabee713499e8f31b6a5d89f1024",
       "value": 29
      }
     },
     "52bcb87aa0c94d2b9f212a5dbeafa9e0": {
      "model_module": "@jupyter-widgets/base",
      "model_module_version": "1.2.0",
      "model_name": "LayoutModel",
      "state": {}
     },
     "52dc9abe8e7c48ddbce44a29c02b51bf": {
      "model_module": "@jupyter-widgets/controls",
      "model_module_version": "1.5.0",
      "model_name": "DescriptionStyleModel",
      "state": {
       "description_width": ""
      }
     },
     "53767638296f435282651304cc1a846f": {
      "model_module": "@jupyter-widgets/controls",
      "model_module_version": "1.5.0",
      "model_name": "HBoxModel",
      "state": {
       "children": [
        "IPY_MODEL_1e52130045334769929e84fa154b8ce0",
        "IPY_MODEL_7c055ae4dea4467caae1a07a64b9ac35"
       ],
       "layout": "IPY_MODEL_7e976f2f380344bcaae34de61142d62e"
      }
     },
     "53c82ef4e5aa499a8d7f676a1b5fa6a5": {
      "model_module": "@jupyter-widgets/controls",
      "model_module_version": "1.5.0",
      "model_name": "DescriptionStyleModel",
      "state": {
       "description_width": ""
      }
     },
     "53ff537947624b1e96a192acc669b19f": {
      "model_module": "@jupyter-widgets/base",
      "model_module_version": "1.2.0",
      "model_name": "LayoutModel",
      "state": {}
     },
     "548c5de383504e4a9578bb9b4dee43a2": {
      "model_module": "@jupyter-widgets/controls",
      "model_module_version": "1.5.0",
      "model_name": "DescriptionStyleModel",
      "state": {
       "description_width": ""
      }
     },
     "5491829c840547f695500b7b06eabad8": {
      "model_module": "@jupyter-widgets/base",
      "model_module_version": "1.2.0",
      "model_name": "LayoutModel",
      "state": {}
     },
     "54b9fac55de44f1d940d89c6200cb71f": {
      "model_module": "@jupyter-widgets/controls",
      "model_module_version": "1.5.0",
      "model_name": "ProgressStyleModel",
      "state": {
       "description_width": "initial"
      }
     },
     "555fd924d08c4025b03036449fd171d1": {
      "model_module": "@jupyter-widgets/controls",
      "model_module_version": "1.5.0",
      "model_name": "DescriptionStyleModel",
      "state": {
       "description_width": ""
      }
     },
     "566b358512c44556bc03074d63fbec49": {
      "model_module": "@jupyter-widgets/controls",
      "model_module_version": "1.5.0",
      "model_name": "ProgressStyleModel",
      "state": {
       "description_width": "initial"
      }
     },
     "56727d4071934ef08664ebf018fab272": {
      "model_module": "@jupyter-widgets/controls",
      "model_module_version": "1.5.0",
      "model_name": "HTMLModel",
      "state": {
       "layout": "IPY_MODEL_7b72049dbb514f6eadb43ee35d489916",
       "style": "IPY_MODEL_fab276b1443d431d8ab0ad032352befd",
       "value": " 29/29 [00:00&lt;00:00, 34.70it/s]"
      }
     },
     "5732f9ff8cb54694a64d46cd3147a35f": {
      "model_module": "@jupyter-widgets/controls",
      "model_module_version": "1.5.0",
      "model_name": "DescriptionStyleModel",
      "state": {
       "description_width": ""
      }
     },
     "574388ce0c9341ba9d155ef130341dc1": {
      "model_module": "@jupyter-widgets/controls",
      "model_module_version": "1.5.0",
      "model_name": "HTMLModel",
      "state": {
       "layout": "IPY_MODEL_eb59c7de069b47cb901e0a1e49a1acf5",
       "style": "IPY_MODEL_2ad2f97682f748c9a064791ce127f9c2",
       "value": " 41/41 [00:31&lt;00:00,  1.29it/s]"
      }
     },
     "574c695817bc4dcbb19cd4f2505c0357": {
      "model_module": "@jupyter-widgets/controls",
      "model_module_version": "1.5.0",
      "model_name": "DescriptionStyleModel",
      "state": {
       "description_width": ""
      }
     },
     "57820f08b31145d59fbf98b13d1407bd": {
      "model_module": "@jupyter-widgets/controls",
      "model_module_version": "1.5.0",
      "model_name": "ProgressStyleModel",
      "state": {
       "description_width": "initial"
      }
     },
     "57ec96b73e8f4975b36b7f9abc505e34": {
      "model_module": "@jupyter-widgets/controls",
      "model_module_version": "1.5.0",
      "model_name": "IntProgressModel",
      "state": {
       "bar_style": "success",
       "description": "Method: 100%",
       "layout": "IPY_MODEL_76806aeb11934202ada8ef8937ebee19",
       "max": 3,
       "style": "IPY_MODEL_c95d7f978795457c8b4c3528324bc61d",
       "value": 3
      }
     },
     "598113b925594f94a90cb2529a643e48": {
      "model_module": "@jupyter-widgets/base",
      "model_module_version": "1.2.0",
      "model_name": "LayoutModel",
      "state": {}
     },
     "59e250bd5eaf4260bc75b6bbbc0e12e7": {
      "model_module": "@jupyter-widgets/controls",
      "model_module_version": "1.5.0",
      "model_name": "IntProgressModel",
      "state": {
       "bar_style": "success",
       "description": "single: 100%",
       "layout": "IPY_MODEL_62581eaf333940d18848857aaa04ec3e",
       "max": 29,
       "style": "IPY_MODEL_f0172a6c7ee04fa9aa1dcd4db2c8a276",
       "value": 29
      }
     },
     "5a4345fe472546158ad31bca5d83610d": {
      "model_module": "@jupyter-widgets/controls",
      "model_module_version": "1.5.0",
      "model_name": "HTMLModel",
      "state": {
       "layout": "IPY_MODEL_bc7bb5b603134407bb8f0dbca7048cbf",
       "style": "IPY_MODEL_96fb690c90b34ab19ef979b41edeb63c",
       "value": " 15/15 [03:06&lt;00:00, 12.44s/it]"
      }
     },
     "5b1945cbc0e7432c8a3941f853200177": {
      "model_module": "@jupyter-widgets/controls",
      "model_module_version": "1.5.0",
      "model_name": "HBoxModel",
      "state": {
       "children": [
        "IPY_MODEL_522b5cb0e5fe4a42a7519408a1076358",
        "IPY_MODEL_1f9d5eec482d4df5a795fee5bbbe7f53"
       ],
       "layout": "IPY_MODEL_fc50aba37998439aba22caf44eb976d9"
      }
     },
     "5b37d848a99d4f9cbf69525a8513851d": {
      "model_module": "@jupyter-widgets/controls",
      "model_module_version": "1.5.0",
      "model_name": "ProgressStyleModel",
      "state": {
       "description_width": "initial"
      }
     },
     "5be079c65eb5403989c3925a6137a6eb": {
      "model_module": "@jupyter-widgets/base",
      "model_module_version": "1.2.0",
      "model_name": "LayoutModel",
      "state": {}
     },
     "5c7f839d34824bdd8bd94b3569416b5c": {
      "model_module": "@jupyter-widgets/base",
      "model_module_version": "1.2.0",
      "model_name": "LayoutModel",
      "state": {}
     },
     "5cadb02f0d3849c385a20858c42cf1f9": {
      "model_module": "@jupyter-widgets/base",
      "model_module_version": "1.2.0",
      "model_name": "LayoutModel",
      "state": {}
     },
     "5dc41ebc75df4170830ff568733fe257": {
      "model_module": "@jupyter-widgets/controls",
      "model_module_version": "1.5.0",
      "model_name": "HTMLModel",
      "state": {
       "layout": "IPY_MODEL_f3f4d3e5e9024428925ce54ae0d342b5",
       "style": "IPY_MODEL_989260230d8a4b9ab509a7a8f9fbcd6b",
       "value": " 29/29 [00:09&lt;00:00,  2.97it/s]"
      }
     },
     "5e3eface8e444519b663e774514d7179": {
      "model_module": "@jupyter-widgets/base",
      "model_module_version": "1.2.0",
      "model_name": "LayoutModel",
      "state": {}
     },
     "5f417205197a41479d5c8c6c57dca890": {
      "model_module": "@jupyter-widgets/controls",
      "model_module_version": "1.5.0",
      "model_name": "HTMLModel",
      "state": {
       "layout": "IPY_MODEL_e50777b7c7354c279f70a26f73a12f97",
       "style": "IPY_MODEL_7c414c2278d346088b33564f96f99969",
       "value": " 3/3 [02:56&lt;00:00, 58.99s/it]"
      }
     },
     "5f487c284782448cb82e221e0aa0c6f1": {
      "model_module": "@jupyter-widgets/controls",
      "model_module_version": "1.5.0",
      "model_name": "IntProgressModel",
      "state": {
       "bar_style": "success",
       "description": "single: 100%",
       "layout": "IPY_MODEL_b3997a9bffda4372984f97f5fd8cbb02",
       "max": 29,
       "style": "IPY_MODEL_fe41c32a6e664fc4a35a2ac845f5d18b",
       "value": 29
      }
     },
     "600322bf508c499ea58bbdb54c191407": {
      "model_module": "@jupyter-widgets/base",
      "model_module_version": "1.2.0",
      "model_name": "LayoutModel",
      "state": {}
     },
     "624def08e1a643d0a795d6cde7109ca4": {
      "model_module": "@jupyter-widgets/controls",
      "model_module_version": "1.5.0",
      "model_name": "HBoxModel",
      "state": {
       "children": [
        "IPY_MODEL_399165e5508e440989d9e3076b759265",
        "IPY_MODEL_443cc767efc7401781fea04d225f1695"
       ],
       "layout": "IPY_MODEL_2d1f26f7a4594550b3281b83f11dfe19"
      }
     },
     "62581eaf333940d18848857aaa04ec3e": {
      "model_module": "@jupyter-widgets/base",
      "model_module_version": "1.2.0",
      "model_name": "LayoutModel",
      "state": {}
     },
     "626e7c8410b34c1384602441c3bd20ea": {
      "model_module": "@jupyter-widgets/controls",
      "model_module_version": "1.5.0",
      "model_name": "ProgressStyleModel",
      "state": {
       "description_width": "initial"
      }
     },
     "62a7b4f8c3ea4c91b0e281a9c885bb43": {
      "model_module": "@jupyter-widgets/controls",
      "model_module_version": "1.5.0",
      "model_name": "DescriptionStyleModel",
      "state": {
       "description_width": ""
      }
     },
     "62cffc6c509a4775963c30ff41bfd9de": {
      "model_module": "@jupyter-widgets/controls",
      "model_module_version": "1.5.0",
      "model_name": "DescriptionStyleModel",
      "state": {
       "description_width": ""
      }
     },
     "634c4a26051b4257b2d6763c20802420": {
      "model_module": "@jupyter-widgets/base",
      "model_module_version": "1.2.0",
      "model_name": "LayoutModel",
      "state": {}
     },
     "6443a149fce04458b11add5f6787055b": {
      "model_module": "@jupyter-widgets/controls",
      "model_module_version": "1.5.0",
      "model_name": "ProgressStyleModel",
      "state": {
       "description_width": "initial"
      }
     },
     "647036be5437489dba561c7c1221770f": {
      "model_module": "@jupyter-widgets/base",
      "model_module_version": "1.2.0",
      "model_name": "LayoutModel",
      "state": {}
     },
     "65eae6538559482ca2c168609a2f7951": {
      "model_module": "@jupyter-widgets/base",
      "model_module_version": "1.2.0",
      "model_name": "LayoutModel",
      "state": {}
     },
     "65ebceae298c47d48b7121d5f6995126": {
      "model_module": "@jupyter-widgets/controls",
      "model_module_version": "1.5.0",
      "model_name": "HTMLModel",
      "state": {
       "layout": "IPY_MODEL_05973cf69cc643cbadb833b96a112323",
       "style": "IPY_MODEL_817bf1327111434b95361513c057d560",
       "value": " 2/2 [18:26&lt;00:00, 553.26s/it]"
      }
     },
     "66037bcaaf6d4474ae48d8ba71272703": {
      "model_module": "@jupyter-widgets/controls",
      "model_module_version": "1.5.0",
      "model_name": "HBoxModel",
      "state": {
       "children": [
        "IPY_MODEL_5135d844e17f42c79058caa80528c24e",
        "IPY_MODEL_c83bedef33ec4e36a611b9943b862fcf"
       ],
       "layout": "IPY_MODEL_68727b26410c4d01931a5a7d4776f598"
      }
     },
     "66cedbd23e7d40389e6991aa197fe3e2": {
      "model_module": "@jupyter-widgets/base",
      "model_module_version": "1.2.0",
      "model_name": "LayoutModel",
      "state": {}
     },
     "66d582151ea34b00886d124a8afa053c": {
      "model_module": "@jupyter-widgets/base",
      "model_module_version": "1.2.0",
      "model_name": "LayoutModel",
      "state": {}
     },
     "66e52a7fcabf45348014412c38d1fa46": {
      "model_module": "@jupyter-widgets/controls",
      "model_module_version": "1.5.0",
      "model_name": "IntProgressModel",
      "state": {
       "bar_style": "success",
       "description": "average: 100%",
       "layout": "IPY_MODEL_db9286fea8cf4c479cf7932dc08b66b4",
       "max": 41,
       "style": "IPY_MODEL_6abd8c7f8f204c2cb84e8438448c9adb",
       "value": 41
      }
     },
     "66f49edecf674643bc6db3f6262c2ca4": {
      "model_module": "@jupyter-widgets/controls",
      "model_module_version": "1.5.0",
      "model_name": "HBoxModel",
      "state": {
       "children": [
        "IPY_MODEL_97ca86205bb746ceb543cf32b1e0a590",
        "IPY_MODEL_bb315b11f13541e195ef0fa3618fa620"
       ],
       "layout": "IPY_MODEL_9f7f0524f826435a9d01ee332666398e"
      }
     },
     "67a0eb57394b4083a1d404be0ace6887": {
      "model_module": "@jupyter-widgets/base",
      "model_module_version": "1.2.0",
      "model_name": "LayoutModel",
      "state": {}
     },
     "67f043a325a942b18685ae8a8e25a355": {
      "model_module": "@jupyter-widgets/controls",
      "model_module_version": "1.5.0",
      "model_name": "IntProgressModel",
      "state": {
       "bar_style": "success",
       "description": "Minimum cluster size: 100%",
       "layout": "IPY_MODEL_b12665b9c94742108224eb05c754e8a4",
       "max": 15,
       "style": "IPY_MODEL_30995151d64543f387cd277144e8d679",
       "value": 15
      }
     },
     "6835db30107846f58706ae59b289a08f": {
      "model_module": "@jupyter-widgets/controls",
      "model_module_version": "1.5.0",
      "model_name": "ProgressStyleModel",
      "state": {
       "description_width": "initial"
      }
     },
     "68727b26410c4d01931a5a7d4776f598": {
      "model_module": "@jupyter-widgets/base",
      "model_module_version": "1.2.0",
      "model_name": "LayoutModel",
      "state": {}
     },
     "6884d34517c84eeaa4d78f51411443b3": {
      "model_module": "@jupyter-widgets/base",
      "model_module_version": "1.2.0",
      "model_name": "LayoutModel",
      "state": {}
     },
     "690cf7991d0549f3b10d55ee74a9d4fc": {
      "model_module": "@jupyter-widgets/controls",
      "model_module_version": "1.5.0",
      "model_name": "IntProgressModel",
      "state": {
       "bar_style": "success",
       "description": "Method: 100%",
       "layout": "IPY_MODEL_6926aa3036224417814eaae91e55ca0a",
       "max": 3,
       "style": "IPY_MODEL_7b4f0670741f40e5bb41ddc55ad9b2a4",
       "value": 3
      }
     },
     "6926aa3036224417814eaae91e55ca0a": {
      "model_module": "@jupyter-widgets/base",
      "model_module_version": "1.2.0",
      "model_name": "LayoutModel",
      "state": {}
     },
     "6955b26f38c142c0b1ecebb5611ef21b": {
      "model_module": "@jupyter-widgets/controls",
      "model_module_version": "1.5.0",
      "model_name": "DescriptionStyleModel",
      "state": {
       "description_width": ""
      }
     },
     "69dc8e2c119d42c39786855e77f86116": {
      "model_module": "@jupyter-widgets/controls",
      "model_module_version": "1.5.0",
      "model_name": "ProgressStyleModel",
      "state": {
       "description_width": "initial"
      }
     },
     "6a1d3336ffaa4db6a4af1ece06d30a62": {
      "model_module": "@jupyter-widgets/base",
      "model_module_version": "1.2.0",
      "model_name": "LayoutModel",
      "state": {}
     },
     "6a684f427f1d4b3ebd28a86088394747": {
      "model_module": "@jupyter-widgets/controls",
      "model_module_version": "1.5.0",
      "model_name": "ProgressStyleModel",
      "state": {
       "description_width": "initial"
      }
     },
     "6abd8c7f8f204c2cb84e8438448c9adb": {
      "model_module": "@jupyter-widgets/controls",
      "model_module_version": "1.5.0",
      "model_name": "ProgressStyleModel",
      "state": {
       "description_width": "initial"
      }
     },
     "6b106a81e17043a4b5485294525d9ded": {
      "model_module": "@jupyter-widgets/controls",
      "model_module_version": "1.5.0",
      "model_name": "DescriptionStyleModel",
      "state": {
       "description_width": ""
      }
     },
     "6b810fb92cdb4b77a205aaf692bad978": {
      "model_module": "@jupyter-widgets/controls",
      "model_module_version": "1.5.0",
      "model_name": "ProgressStyleModel",
      "state": {
       "description_width": "initial"
      }
     },
     "6b99d94076614a3eb280af5a38cf149b": {
      "model_module": "@jupyter-widgets/controls",
      "model_module_version": "1.5.0",
      "model_name": "IntProgressModel",
      "state": {
       "bar_style": "success",
       "description": "Method: 100%",
       "layout": "IPY_MODEL_d8d46351907a41a9a35550de0962a70f",
       "max": 3,
       "style": "IPY_MODEL_84c9e0730d034972ad583c78ef513223",
       "value": 3
      }
     },
     "6beee0e5c88747329b4c8a8e9fecb08a": {
      "model_module": "@jupyter-widgets/controls",
      "model_module_version": "1.5.0",
      "model_name": "HTMLModel",
      "state": {
       "layout": "IPY_MODEL_7afd4e6defc64a6380dad486721f6e3f",
       "style": "IPY_MODEL_70aff0cec11740319dc85f33f8adbae2",
       "value": " 13/13 [00:00&lt;00:00, 19.14it/s]"
      }
     },
     "6c0be0a1300b453baba20fbd73c74593": {
      "model_module": "@jupyter-widgets/controls",
      "model_module_version": "1.5.0",
      "model_name": "IntProgressModel",
      "state": {
       "bar_style": "success",
       "description": "average: 100%",
       "layout": "IPY_MODEL_ed62b7f3f3e44cf9a6768b2b6990b896",
       "max": 31,
       "style": "IPY_MODEL_0f9e2d6684d446db8558f70343117d91",
       "value": 31
      }
     },
     "6c874a49cbb246bdb621a52ecebc859f": {
      "model_module": "@jupyter-widgets/controls",
      "model_module_version": "1.5.0",
      "model_name": "HBoxModel",
      "state": {
       "children": [
        "IPY_MODEL_d096f9f6a2d84f1ebd94546c579f668e",
        "IPY_MODEL_3e8f93b2567a4ebabf36602e82075e6e"
       ],
       "layout": "IPY_MODEL_1f9de7b5045646cba58d8b8f946e803e"
      }
     },
     "6ce08057eded4a4ca83a8994c370199f": {
      "model_module": "@jupyter-widgets/base",
      "model_module_version": "1.2.0",
      "model_name": "LayoutModel",
      "state": {}
     },
     "6d1346bd98834378bf035cd5f1698f95": {
      "model_module": "@jupyter-widgets/controls",
      "model_module_version": "1.5.0",
      "model_name": "HTMLModel",
      "state": {
       "layout": "IPY_MODEL_7cf575035af640468d524d95af2bb4d4",
       "style": "IPY_MODEL_44999d9828e94ef8b31c5be514af7d51",
       "value": " 29/29 [00:01&lt;00:00, 22.26it/s]"
      }
     },
     "6dce54af1dc24923967d9c7e6ba346fc": {
      "model_module": "@jupyter-widgets/controls",
      "model_module_version": "1.5.0",
      "model_name": "HTMLModel",
      "state": {
       "layout": "IPY_MODEL_43273b16053345199d83928ba408404b",
       "style": "IPY_MODEL_1acaffe617534324a1ea1ab0382f0f2f",
       "value": " 49/49 [17:13&lt;00:00, 21.10s/it]"
      }
     },
     "6e0549ef78414611ba427ce00a0b9fa1": {
      "model_module": "@jupyter-widgets/base",
      "model_module_version": "1.2.0",
      "model_name": "LayoutModel",
      "state": {}
     },
     "6ead8a86381a429088a8d21095fc9908": {
      "model_module": "@jupyter-widgets/controls",
      "model_module_version": "1.5.0",
      "model_name": "HBoxModel",
      "state": {
       "children": [
        "IPY_MODEL_93d0ace447974825be779ed1e3c4f1e0",
        "IPY_MODEL_fff0bec86d3c42d9920edfd10968ae65"
       ],
       "layout": "IPY_MODEL_c230ea8a550a44d3b16856ff9f57f835"
      }
     },
     "6f8708cbc8b743d58621c47b094b2343": {
      "model_module": "@jupyter-widgets/controls",
      "model_module_version": "1.5.0",
      "model_name": "HBoxModel",
      "state": {
       "children": [
        "IPY_MODEL_1b20b5b4f36d47d39d0ac01130c6ad09",
        "IPY_MODEL_45526221164f4d9aa5c46b181f373f54"
       ],
       "layout": "IPY_MODEL_d3beaf83ab684829abe41bee544aa81e"
      }
     },
     "6fbc4196aa094517aa819eb0de88fa92": {
      "model_module": "@jupyter-widgets/controls",
      "model_module_version": "1.5.0",
      "model_name": "ProgressStyleModel",
      "state": {
       "description_width": "initial"
      }
     },
     "704691273a6640cd8c9e4eb7bd7d6d4d": {
      "model_module": "@jupyter-widgets/base",
      "model_module_version": "1.2.0",
      "model_name": "LayoutModel",
      "state": {}
     },
     "707a374c947341ce9f2228575ca01447": {
      "model_module": "@jupyter-widgets/base",
      "model_module_version": "1.2.0",
      "model_name": "LayoutModel",
      "state": {}
     },
     "70aff0cec11740319dc85f33f8adbae2": {
      "model_module": "@jupyter-widgets/controls",
      "model_module_version": "1.5.0",
      "model_name": "DescriptionStyleModel",
      "state": {
       "description_width": ""
      }
     },
     "713cacebb07b43b796a16d8c1fe691c9": {
      "model_module": "@jupyter-widgets/controls",
      "model_module_version": "1.5.0",
      "model_name": "DescriptionStyleModel",
      "state": {
       "description_width": ""
      }
     },
     "71bbb3b87691450e8e13086807e8d306": {
      "model_module": "@jupyter-widgets/controls",
      "model_module_version": "1.5.0",
      "model_name": "ProgressStyleModel",
      "state": {
       "description_width": "initial"
      }
     },
     "72b7fe94670149db9e8240ea9ca9a2aa": {
      "model_module": "@jupyter-widgets/base",
      "model_module_version": "1.2.0",
      "model_name": "LayoutModel",
      "state": {}
     },
     "72c4552d9cf64248aca19ecd9363ab9d": {
      "model_module": "@jupyter-widgets/base",
      "model_module_version": "1.2.0",
      "model_name": "LayoutModel",
      "state": {}
     },
     "7382b494d1ce463ca2c8b6004791247a": {
      "model_module": "@jupyter-widgets/controls",
      "model_module_version": "1.5.0",
      "model_name": "ProgressStyleModel",
      "state": {
       "description_width": "initial"
      }
     },
     "738de4ed741b49688efae69cb07e02e8": {
      "model_module": "@jupyter-widgets/controls",
      "model_module_version": "1.5.0",
      "model_name": "HBoxModel",
      "state": {
       "children": [
        "IPY_MODEL_34b459fc744e45adb05fa7609b8da41f",
        "IPY_MODEL_e4559bdf658c4d4686665f9bc43eb325"
       ],
       "layout": "IPY_MODEL_c03a886c6cf043d29243660272afe04a"
      }
     },
     "73a6c7273b7d44e1841468aef678d37a": {
      "model_module": "@jupyter-widgets/controls",
      "model_module_version": "1.5.0",
      "model_name": "DescriptionStyleModel",
      "state": {
       "description_width": ""
      }
     },
     "744ccc61e07d4980b5f0e4c59c0bcdae": {
      "model_module": "@jupyter-widgets/controls",
      "model_module_version": "1.5.0",
      "model_name": "IntProgressModel",
      "state": {
       "bar_style": "success",
       "description": "complete: 100%",
       "layout": "IPY_MODEL_8a294290082d421d9b5ad016a1db76fb",
       "max": 29,
       "style": "IPY_MODEL_94d66e4f6945469a83eb68dbaffd2933",
       "value": 29
      }
     },
     "7473aabee713499e8f31b6a5d89f1024": {
      "model_module": "@jupyter-widgets/controls",
      "model_module_version": "1.5.0",
      "model_name": "ProgressStyleModel",
      "state": {
       "description_width": "initial"
      }
     },
     "748fa756824348d4b8b090cf503358ef": {
      "model_module": "@jupyter-widgets/controls",
      "model_module_version": "1.5.0",
      "model_name": "HTMLModel",
      "state": {
       "layout": "IPY_MODEL_c240f661af5149d4ad94be87ec0d0012",
       "style": "IPY_MODEL_8facde458f0a44bdaa22c6cabff5d5d8",
       "value": " 29/29 [00:01&lt;00:00, 19.17it/s]"
      }
     },
     "74dd72c3c2ba49f8b07ac0b4ab3768ee": {
      "model_module": "@jupyter-widgets/controls",
      "model_module_version": "1.5.0",
      "model_name": "HBoxModel",
      "state": {
       "children": [
        "IPY_MODEL_c744f45cc109492db37e2b87cd6ab235",
        "IPY_MODEL_bc67ed50c840440bb01010bc088c7182"
       ],
       "layout": "IPY_MODEL_0ec11c810f8a4952b74306eacd4fec8b"
      }
     },
     "75060885e1ae4273830ee3c3eac4b6fa": {
      "model_module": "@jupyter-widgets/controls",
      "model_module_version": "1.5.0",
      "model_name": "DescriptionStyleModel",
      "state": {
       "description_width": ""
      }
     },
     "752e15a5a2cc4dfeb597ab05cf3b8449": {
      "model_module": "@jupyter-widgets/controls",
      "model_module_version": "1.5.0",
      "model_name": "HTMLModel",
      "state": {
       "layout": "IPY_MODEL_da4ee83365ea4aa9929771f0f84c889e",
       "style": "IPY_MODEL_05861ed93fc84945889c47db72be3d74",
       "value": " 15/15 [03:47&lt;00:00, 15.19s/it]"
      }
     },
     "75456e2602de4959af24331d0b651797": {
      "model_module": "@jupyter-widgets/base",
      "model_module_version": "1.2.0",
      "model_name": "LayoutModel",
      "state": {}
     },
     "758b7204c2eb426db4790ffff04c62ce": {
      "model_module": "@jupyter-widgets/controls",
      "model_module_version": "1.5.0",
      "model_name": "DescriptionStyleModel",
      "state": {
       "description_width": ""
      }
     },
     "75fe9ec1fb9e450e89d2c1a37dfb2b1d": {
      "model_module": "@jupyter-widgets/base",
      "model_module_version": "1.2.0",
      "model_name": "LayoutModel",
      "state": {}
     },
     "76806aeb11934202ada8ef8937ebee19": {
      "model_module": "@jupyter-widgets/base",
      "model_module_version": "1.2.0",
      "model_name": "LayoutModel",
      "state": {}
     },
     "7758f1e10b174bd6bd3550794ddd2535": {
      "model_module": "@jupyter-widgets/controls",
      "model_module_version": "1.5.0",
      "model_name": "ProgressStyleModel",
      "state": {
       "description_width": "initial"
      }
     },
     "7778c74a5be74b659e7fa494052ad5de": {
      "model_module": "@jupyter-widgets/base",
      "model_module_version": "1.2.0",
      "model_name": "LayoutModel",
      "state": {}
     },
     "78ae51a3fa2b431cad978e154e031731": {
      "model_module": "@jupyter-widgets/base",
      "model_module_version": "1.2.0",
      "model_name": "LayoutModel",
      "state": {}
     },
     "796c28641fc64a1fbe330abe342b6a8c": {
      "model_module": "@jupyter-widgets/controls",
      "model_module_version": "1.5.0",
      "model_name": "HTMLModel",
      "state": {
       "layout": "IPY_MODEL_ed5fae671b2a409e921574be8a2fd5ef",
       "style": "IPY_MODEL_9dcd40bb67d24516882cfe8ccf60db23",
       "value": " 3/3 [56:56&lt;00:00, 1138.93s/it]"
      }
     },
     "797f56feeb164c97ace32b4a4448dec1": {
      "model_module": "@jupyter-widgets/controls",
      "model_module_version": "1.5.0",
      "model_name": "HBoxModel",
      "state": {
       "children": [
        "IPY_MODEL_744ccc61e07d4980b5f0e4c59c0bcdae",
        "IPY_MODEL_b1a8af49065d423b9eacbe3f336370c7"
       ],
       "layout": "IPY_MODEL_1c79c6d4e00841cd9c56216d63061c42"
      }
     },
     "7a9fa0e1ea9b4d36920b099ca6647e86": {
      "model_module": "@jupyter-widgets/base",
      "model_module_version": "1.2.0",
      "model_name": "LayoutModel",
      "state": {}
     },
     "7ab233aa187541e58f0f5bac00c23f17": {
      "model_module": "@jupyter-widgets/controls",
      "model_module_version": "1.5.0",
      "model_name": "DescriptionStyleModel",
      "state": {
       "description_width": ""
      }
     },
     "7afd4e6defc64a6380dad486721f6e3f": {
      "model_module": "@jupyter-widgets/base",
      "model_module_version": "1.2.0",
      "model_name": "LayoutModel",
      "state": {}
     },
     "7b03be6e80ed4afeb23073f1598b71a6": {
      "model_module": "@jupyter-widgets/controls",
      "model_module_version": "1.5.0",
      "model_name": "DescriptionStyleModel",
      "state": {
       "description_width": ""
      }
     },
     "7b4f0670741f40e5bb41ddc55ad9b2a4": {
      "model_module": "@jupyter-widgets/controls",
      "model_module_version": "1.5.0",
      "model_name": "ProgressStyleModel",
      "state": {
       "description_width": "initial"
      }
     },
     "7b72049dbb514f6eadb43ee35d489916": {
      "model_module": "@jupyter-widgets/base",
      "model_module_version": "1.2.0",
      "model_name": "LayoutModel",
      "state": {}
     },
     "7bf29f6ead5e4f8580c432b111bcd131": {
      "model_module": "@jupyter-widgets/controls",
      "model_module_version": "1.5.0",
      "model_name": "HBoxModel",
      "state": {
       "children": [
        "IPY_MODEL_1463ce12644345b3b7c527e99c9c28b5",
        "IPY_MODEL_a2144f0db40c439abb5582a7105d6c50"
       ],
       "layout": "IPY_MODEL_b6cc478f00004b5e8bc1b2748fa12de5"
      }
     },
     "7c055ae4dea4467caae1a07a64b9ac35": {
      "model_module": "@jupyter-widgets/controls",
      "model_module_version": "1.5.0",
      "model_name": "HTMLModel",
      "state": {
       "layout": "IPY_MODEL_ba1ff8df5b094a5f857caa8918386621",
       "style": "IPY_MODEL_0c9acc710fb94f5f89d25459105b0f13",
       "value": " 49/49 [20:56&lt;00:00, 25.64s/it]"
      }
     },
     "7c414c2278d346088b33564f96f99969": {
      "model_module": "@jupyter-widgets/controls",
      "model_module_version": "1.5.0",
      "model_name": "DescriptionStyleModel",
      "state": {
       "description_width": ""
      }
     },
     "7c9b9209f9c04ae9bd914b02de1d1aa6": {
      "model_module": "@jupyter-widgets/controls",
      "model_module_version": "1.5.0",
      "model_name": "ProgressStyleModel",
      "state": {
       "description_width": "initial"
      }
     },
     "7ca3884ca81a4920808de0d7811a43c5": {
      "model_module": "@jupyter-widgets/base",
      "model_module_version": "1.2.0",
      "model_name": "LayoutModel",
      "state": {}
     },
     "7cb9fa07676048a396aac3715762879f": {
      "model_module": "@jupyter-widgets/controls",
      "model_module_version": "1.5.0",
      "model_name": "HBoxModel",
      "state": {
       "children": [
        "IPY_MODEL_179327253810409ca12cacc7571d9168",
        "IPY_MODEL_f04a1efb99ae4a588de1471163cf984e"
       ],
       "layout": "IPY_MODEL_72c4552d9cf64248aca19ecd9363ab9d"
      }
     },
     "7cf575035af640468d524d95af2bb4d4": {
      "model_module": "@jupyter-widgets/base",
      "model_module_version": "1.2.0",
      "model_name": "LayoutModel",
      "state": {}
     },
     "7d119de873c446338405700699f47f32": {
      "model_module": "@jupyter-widgets/controls",
      "model_module_version": "1.5.0",
      "model_name": "HBoxModel",
      "state": {
       "children": [
        "IPY_MODEL_0092698936144eddb0b8eb1e2224e917",
        "IPY_MODEL_05ebcce69ab94168a3e0f9d15fb54f3b"
       ],
       "layout": "IPY_MODEL_72b7fe94670149db9e8240ea9ca9a2aa"
      }
     },
     "7d167d7fd72c4ecdb66fe39d31816a93": {
      "model_module": "@jupyter-widgets/controls",
      "model_module_version": "1.5.0",
      "model_name": "HBoxModel",
      "state": {
       "children": [
        "IPY_MODEL_f779ea4572154e54be61613055c699e1",
        "IPY_MODEL_1c3386a4011f48c188677299bc98558f"
       ],
       "layout": "IPY_MODEL_46a7d8def77a41a7b8068f10334bce4e"
      }
     },
     "7dae80d8499f48d585468b8f679bff49": {
      "model_module": "@jupyter-widgets/base",
      "model_module_version": "1.2.0",
      "model_name": "LayoutModel",
      "state": {}
     },
     "7e18f2a889b7472ba04a370bebd9bc06": {
      "model_module": "@jupyter-widgets/base",
      "model_module_version": "1.2.0",
      "model_name": "LayoutModel",
      "state": {}
     },
     "7e976f2f380344bcaae34de61142d62e": {
      "model_module": "@jupyter-widgets/base",
      "model_module_version": "1.2.0",
      "model_name": "LayoutModel",
      "state": {}
     },
     "7ebe94976ae945de99389f411fcb0b0b": {
      "model_module": "@jupyter-widgets/controls",
      "model_module_version": "1.5.0",
      "model_name": "HTMLModel",
      "state": {
       "layout": "IPY_MODEL_fe89c6b016c247de90a879fd13afa6e1",
       "style": "IPY_MODEL_a8ea56bbef12492cab74bf909374174f",
       "value": " 31/31 [06:30&lt;00:00, 12.60s/it]"
      }
     },
     "7f04a23e96fd4fe6aa6c6fbcec165b51": {
      "model_module": "@jupyter-widgets/controls",
      "model_module_version": "1.5.0",
      "model_name": "IntProgressModel",
      "state": {
       "bar_style": "success",
       "description": "Method: 100%",
       "layout": "IPY_MODEL_fec83781d3b94448b44ef66ad845aded",
       "max": 3,
       "style": "IPY_MODEL_8a4bb67ffe13458e95aff1cd33531ce9",
       "value": 3
      }
     },
     "7f7aacae760c46c0b8d976a8c954de7a": {
      "model_module": "@jupyter-widgets/controls",
      "model_module_version": "1.5.0",
      "model_name": "DescriptionStyleModel",
      "state": {
       "description_width": ""
      }
     },
     "7f8f8ad3f22c4d47a8cf5bdc167c59ef": {
      "model_module": "@jupyter-widgets/base",
      "model_module_version": "1.2.0",
      "model_name": "LayoutModel",
      "state": {}
     },
     "8009f5ef132b4d04917d8048c862b90b": {
      "model_module": "@jupyter-widgets/controls",
      "model_module_version": "1.5.0",
      "model_name": "DescriptionStyleModel",
      "state": {
       "description_width": ""
      }
     },
     "804488f30c6446ee8b0ff8626e70dc1f": {
      "model_module": "@jupyter-widgets/base",
      "model_module_version": "1.2.0",
      "model_name": "LayoutModel",
      "state": {}
     },
     "810ef8a255914152bcb5ab83fd2cba71": {
      "model_module": "@jupyter-widgets/controls",
      "model_module_version": "1.5.0",
      "model_name": "DescriptionStyleModel",
      "state": {
       "description_width": ""
      }
     },
     "817bf1327111434b95361513c057d560": {
      "model_module": "@jupyter-widgets/controls",
      "model_module_version": "1.5.0",
      "model_name": "DescriptionStyleModel",
      "state": {
       "description_width": ""
      }
     },
     "81e506c482b14f7882fbd1669c29db60": {
      "model_module": "@jupyter-widgets/controls",
      "model_module_version": "1.5.0",
      "model_name": "ProgressStyleModel",
      "state": {
       "description_width": "initial"
      }
     },
     "8290c663dfcb4c03add0facbf18dbcef": {
      "model_module": "@jupyter-widgets/base",
      "model_module_version": "1.2.0",
      "model_name": "LayoutModel",
      "state": {}
     },
     "82f8f792d3ca4a8ca7f4d47e09203e71": {
      "model_module": "@jupyter-widgets/base",
      "model_module_version": "1.2.0",
      "model_name": "LayoutModel",
      "state": {}
     },
     "833ce763915c4e9abdf5c56dbd1fda7a": {
      "model_module": "@jupyter-widgets/base",
      "model_module_version": "1.2.0",
      "model_name": "LayoutModel",
      "state": {}
     },
     "839fe853ff2a46cc89aaa0e1dcf4d12e": {
      "model_module": "@jupyter-widgets/controls",
      "model_module_version": "1.5.0",
      "model_name": "HTMLModel",
      "state": {
       "layout": "IPY_MODEL_17ab31f49467408dbeb7749c5e7b90dc",
       "style": "IPY_MODEL_62cffc6c509a4775963c30ff41bfd9de",
       "value": " 29/29 [00:02&lt;00:00, 12.82it/s]"
      }
     },
     "8452157e780e42d1b84f3b21105638eb": {
      "model_module": "@jupyter-widgets/controls",
      "model_module_version": "1.5.0",
      "model_name": "HBoxModel",
      "state": {
       "children": [
        "IPY_MODEL_b0aa07645461436a83a818b8dff7d6af",
        "IPY_MODEL_f323afec251a4c8db0614c4b1cbe1130"
       ],
       "layout": "IPY_MODEL_52012741b67b432ca166b8b0f22f7f68"
      }
     },
     "8489204e23fc4079bdf13d219badce9a": {
      "model_module": "@jupyter-widgets/controls",
      "model_module_version": "1.5.0",
      "model_name": "HBoxModel",
      "state": {
       "children": [
        "IPY_MODEL_fd2b88bf40a147089c8adb085d893234",
        "IPY_MODEL_574388ce0c9341ba9d155ef130341dc1"
       ],
       "layout": "IPY_MODEL_418219d6d39345bf9cacef9e300e8299"
      }
     },
     "8493660e65d2473da0a6da1c24c7c446": {
      "model_module": "@jupyter-widgets/controls",
      "model_module_version": "1.5.0",
      "model_name": "IntProgressModel",
      "state": {
       "bar_style": "success",
       "description": "Method: 100%",
       "layout": "IPY_MODEL_e3fbc62382034aecb7e8b0333ad0899e",
       "max": 3,
       "style": "IPY_MODEL_d06e9cf969154b068b5b6686e940bbde",
       "value": 3
      }
     },
     "84c9e0730d034972ad583c78ef513223": {
      "model_module": "@jupyter-widgets/controls",
      "model_module_version": "1.5.0",
      "model_name": "ProgressStyleModel",
      "state": {
       "description_width": "initial"
      }
     },
     "86960ddc6ff442809e2c2dab4c4187f2": {
      "model_module": "@jupyter-widgets/controls",
      "model_module_version": "1.5.0",
      "model_name": "HBoxModel",
      "state": {
       "children": [
        "IPY_MODEL_b02234749f51422a9fc3a170efc7b475",
        "IPY_MODEL_31e13ff42d0c42849561b8d79c9a2642"
       ],
       "layout": "IPY_MODEL_df6ce6d51b1b4c8d981d397d455a18f6"
      }
     },
     "87506ce7cbb04d1694b23822a3ca9a67": {
      "model_module": "@jupyter-widgets/controls",
      "model_module_version": "1.5.0",
      "model_name": "ProgressStyleModel",
      "state": {
       "description_width": "initial"
      }
     },
     "877aca430cac4fd39a95ad4bc038d5d1": {
      "model_module": "@jupyter-widgets/base",
      "model_module_version": "1.2.0",
      "model_name": "LayoutModel",
      "state": {}
     },
     "87bf12dbedba4cc7b246a7464f3306fe": {
      "model_module": "@jupyter-widgets/controls",
      "model_module_version": "1.5.0",
      "model_name": "ProgressStyleModel",
      "state": {
       "description_width": "initial"
      }
     },
     "885a2b343595436b94f0e256a1bd6217": {
      "model_module": "@jupyter-widgets/base",
      "model_module_version": "1.2.0",
      "model_name": "LayoutModel",
      "state": {}
     },
     "895f5288a1644ae8ba43bf851a927a80": {
      "model_module": "@jupyter-widgets/controls",
      "model_module_version": "1.5.0",
      "model_name": "HTMLModel",
      "state": {
       "layout": "IPY_MODEL_6ce08057eded4a4ca83a8994c370199f",
       "style": "IPY_MODEL_d10cd039bf58459d8093d94984eeaecb",
       "value": " 31/31 [36:35&lt;00:00, 70.82s/it]"
      }
     },
     "8a294290082d421d9b5ad016a1db76fb": {
      "model_module": "@jupyter-widgets/base",
      "model_module_version": "1.2.0",
      "model_name": "LayoutModel",
      "state": {}
     },
     "8a39d53ad07f49f8a792e2034a8d8184": {
      "model_module": "@jupyter-widgets/controls",
      "model_module_version": "1.5.0",
      "model_name": "IntProgressModel",
      "state": {
       "bar_style": "success",
       "description": "complete: 100%",
       "layout": "IPY_MODEL_4c91d50c23d14c0fafaa780c1cf343e5",
       "max": 29,
       "style": "IPY_MODEL_81e506c482b14f7882fbd1669c29db60",
       "value": 29
      }
     },
     "8a4bb67ffe13458e95aff1cd33531ce9": {
      "model_module": "@jupyter-widgets/controls",
      "model_module_version": "1.5.0",
      "model_name": "ProgressStyleModel",
      "state": {
       "description_width": "initial"
      }
     },
     "8a7dc263996b452fbd9f2f4d58c223b9": {
      "model_module": "@jupyter-widgets/base",
      "model_module_version": "1.2.0",
      "model_name": "LayoutModel",
      "state": {}
     },
     "8acfc243d2a74062b4a9345e8613f21a": {
      "model_module": "@jupyter-widgets/controls",
      "model_module_version": "1.5.0",
      "model_name": "IntProgressModel",
      "state": {
       "bar_style": "success",
       "description": "Method: 100%",
       "layout": "IPY_MODEL_09c6eab093544b1ab71ef87cd9d5456f",
       "max": 3,
       "style": "IPY_MODEL_9021aa12c2cf4c838f25acef909430dc",
       "value": 3
      }
     },
     "8b003421490c43708c337a9c2f413787": {
      "model_module": "@jupyter-widgets/base",
      "model_module_version": "1.2.0",
      "model_name": "LayoutModel",
      "state": {}
     },
     "8b9df250ce6243e59acf95ef30fc81d9": {
      "model_module": "@jupyter-widgets/controls",
      "model_module_version": "1.5.0",
      "model_name": "IntProgressModel",
      "state": {
       "bar_style": "success",
       "description": "complete: 100%",
       "layout": "IPY_MODEL_f2214a9cb060450cacc09ffdd4658c27",
       "max": 29,
       "style": "IPY_MODEL_5b37d848a99d4f9cbf69525a8513851d",
       "value": 29
      }
     },
     "8c153bb5f44b401f8e67f177de2ea1d6": {
      "model_module": "@jupyter-widgets/base",
      "model_module_version": "1.2.0",
      "model_name": "LayoutModel",
      "state": {}
     },
     "8ccd51640eb84f7ab91c5e345573954d": {
      "model_module": "@jupyter-widgets/base",
      "model_module_version": "1.2.0",
      "model_name": "LayoutModel",
      "state": {}
     },
     "8cce4916ef624d57a2d249aefbf1a0da": {
      "model_module": "@jupyter-widgets/base",
      "model_module_version": "1.2.0",
      "model_name": "LayoutModel",
      "state": {}
     },
     "8d1f21b3b32143caa372643a29bf0fe5": {
      "model_module": "@jupyter-widgets/controls",
      "model_module_version": "1.5.0",
      "model_name": "HBoxModel",
      "state": {
       "children": [
        "IPY_MODEL_0769bcca274f4ac18395a1df529f893d",
        "IPY_MODEL_a228419add1043b49c3c1f1e103ea4db"
       ],
       "layout": "IPY_MODEL_5be079c65eb5403989c3925a6137a6eb"
      }
     },
     "8e7d74d614a146708ca77321cb3bff25": {
      "model_module": "@jupyter-widgets/base",
      "model_module_version": "1.2.0",
      "model_name": "LayoutModel",
      "state": {}
     },
     "8f4758e79da8408a9124dd5221c819c0": {
      "model_module": "@jupyter-widgets/controls",
      "model_module_version": "1.5.0",
      "model_name": "ProgressStyleModel",
      "state": {
       "description_width": "initial"
      }
     },
     "8facde458f0a44bdaa22c6cabff5d5d8": {
      "model_module": "@jupyter-widgets/controls",
      "model_module_version": "1.5.0",
      "model_name": "DescriptionStyleModel",
      "state": {
       "description_width": ""
      }
     },
     "8fe3633d7eba4ba2b15dca54795b4890": {
      "model_module": "@jupyter-widgets/controls",
      "model_module_version": "1.5.0",
      "model_name": "DescriptionStyleModel",
      "state": {
       "description_width": ""
      }
     },
     "9021aa12c2cf4c838f25acef909430dc": {
      "model_module": "@jupyter-widgets/controls",
      "model_module_version": "1.5.0",
      "model_name": "ProgressStyleModel",
      "state": {
       "description_width": "initial"
      }
     },
     "90699c5ce8a64b06bf93b2e49e6ec167": {
      "model_module": "@jupyter-widgets/base",
      "model_module_version": "1.2.0",
      "model_name": "LayoutModel",
      "state": {}
     },
     "928226fec871452aae47ec603898273f": {
      "model_module": "@jupyter-widgets/controls",
      "model_module_version": "1.5.0",
      "model_name": "IntProgressModel",
      "state": {
       "bar_style": "success",
       "description": "average: 100%",
       "layout": "IPY_MODEL_8ccd51640eb84f7ab91c5e345573954d",
       "max": 29,
       "style": "IPY_MODEL_49e775e53b73418d9c7ceba8c90ac504",
       "value": 29
      }
     },
     "92bcb6105cac40f3b64934ce6eb4989a": {
      "model_module": "@jupyter-widgets/controls",
      "model_module_version": "1.5.0",
      "model_name": "DescriptionStyleModel",
      "state": {
       "description_width": ""
      }
     },
     "92d664a54c534d258e6ac767e2ccb40a": {
      "model_module": "@jupyter-widgets/controls",
      "model_module_version": "1.5.0",
      "model_name": "DescriptionStyleModel",
      "state": {
       "description_width": ""
      }
     },
     "93a54c40138349f8b2b4a11e51a81816": {
      "model_module": "@jupyter-widgets/controls",
      "model_module_version": "1.5.0",
      "model_name": "HBoxModel",
      "state": {
       "children": [
        "IPY_MODEL_a268d744588142858420042252372611",
        "IPY_MODEL_fe8089c833e44fc98d093b7b53a58058"
       ],
       "layout": "IPY_MODEL_a0d33cb072d84558b305f5220f73ec30"
      }
     },
     "93d0ace447974825be779ed1e3c4f1e0": {
      "model_module": "@jupyter-widgets/controls",
      "model_module_version": "1.5.0",
      "model_name": "IntProgressModel",
      "state": {
       "bar_style": "success",
       "description": "average: 100%",
       "layout": "IPY_MODEL_ce94bb3f860b45ad8a44743937352a5b",
       "max": 31,
       "style": "IPY_MODEL_566b358512c44556bc03074d63fbec49",
       "value": 31
      }
     },
     "9463e3130326446ebcd71f18c93cba92": {
      "model_module": "@jupyter-widgets/controls",
      "model_module_version": "1.5.0",
      "model_name": "IntProgressModel",
      "state": {
       "bar_style": "success",
       "description": "Method: 100%",
       "layout": "IPY_MODEL_a403923973164c64a73660e25aa4cfe4",
       "max": 2,
       "style": "IPY_MODEL_6835db30107846f58706ae59b289a08f",
       "value": 2
      }
     },
     "94d66e4f6945469a83eb68dbaffd2933": {
      "model_module": "@jupyter-widgets/controls",
      "model_module_version": "1.5.0",
      "model_name": "ProgressStyleModel",
      "state": {
       "description_width": "initial"
      }
     },
     "9507669c90fa48e4be6f25dda37b8b7d": {
      "model_module": "@jupyter-widgets/controls",
      "model_module_version": "1.5.0",
      "model_name": "HTMLModel",
      "state": {
       "layout": "IPY_MODEL_eeb4e83d66af44fba410eac95aad2b3d",
       "style": "IPY_MODEL_0cb9d26d82614695a5de88435a9a15cc",
       "value": " 3/3 [3:53:42&lt;00:00, 4674.23s/it]"
      }
     },
     "953190513d924feb9b2b44f76ef7877b": {
      "model_module": "@jupyter-widgets/base",
      "model_module_version": "1.2.0",
      "model_name": "LayoutModel",
      "state": {}
     },
     "958909ad6c2545e79b623923a07c2396": {
      "model_module": "@jupyter-widgets/base",
      "model_module_version": "1.2.0",
      "model_name": "LayoutModel",
      "state": {}
     },
     "968ac3f9942f4f99ab65786e5f05a1db": {
      "model_module": "@jupyter-widgets/controls",
      "model_module_version": "1.5.0",
      "model_name": "ProgressStyleModel",
      "state": {
       "description_width": "initial"
      }
     },
     "96dc84f784e34f47ac04f58f7be90584": {
      "model_module": "@jupyter-widgets/controls",
      "model_module_version": "1.5.0",
      "model_name": "HBoxModel",
      "state": {
       "children": [
        "IPY_MODEL_43b741e07aa24370bcc9226cbe803aed",
        "IPY_MODEL_36ff75014576407082fb4f2405fb7857"
       ],
       "layout": "IPY_MODEL_c44204e9c4dd4aedbea1cca4707cea4b"
      }
     },
     "96fb690c90b34ab19ef979b41edeb63c": {
      "model_module": "@jupyter-widgets/controls",
      "model_module_version": "1.5.0",
      "model_name": "DescriptionStyleModel",
      "state": {
       "description_width": ""
      }
     },
     "9715bc5008e74f98b5e5317ba41af608": {
      "model_module": "@jupyter-widgets/controls",
      "model_module_version": "1.5.0",
      "model_name": "IntProgressModel",
      "state": {
       "bar_style": "success",
       "description": "single: 100%",
       "layout": "IPY_MODEL_c8cbec4736c9465fa6986b849b4d6f3e",
       "max": 49,
       "style": "IPY_MODEL_968ac3f9942f4f99ab65786e5f05a1db",
       "value": 49
      }
     },
     "9767e3ca70574f18acff9dea2b8fdf56": {
      "model_module": "@jupyter-widgets/controls",
      "model_module_version": "1.5.0",
      "model_name": "IntProgressModel",
      "state": {
       "bar_style": "success",
       "description": "complete: 100%",
       "layout": "IPY_MODEL_ab18b7408a5b43e784c64622ec91be66",
       "max": 31,
       "style": "IPY_MODEL_349339b01bd04fb0ad3fe9305d454bcf",
       "value": 31
      }
     },
     "977f00b48cdb4564800b49b4773540b0": {
      "model_module": "@jupyter-widgets/controls",
      "model_module_version": "1.5.0",
      "model_name": "IntProgressModel",
      "state": {
       "bar_style": "success",
       "description": "average: 100%",
       "layout": "IPY_MODEL_c0efe55d8e684c07977ebd62fd2ba54b",
       "max": 29,
       "style": "IPY_MODEL_9fc60b34186f49a3847d470f3e1cde95",
       "value": 29
      }
     },
     "97a1eda7dcbf44e180e60c26ea07b03c": {
      "model_module": "@jupyter-widgets/base",
      "model_module_version": "1.2.0",
      "model_name": "LayoutModel",
      "state": {}
     },
     "97ca86205bb746ceb543cf32b1e0a590": {
      "model_module": "@jupyter-widgets/controls",
      "model_module_version": "1.5.0",
      "model_name": "IntProgressModel",
      "state": {
       "bar_style": "success",
       "description": "complete: 100%",
       "layout": "IPY_MODEL_65eae6538559482ca2c168609a2f7951",
       "max": 49,
       "style": "IPY_MODEL_d034d548dfe244f3ae9a889f22411808",
       "value": 49
      }
     },
     "97dfb71edf7b4c388bb07fe2fe77cdf3": {
      "model_module": "@jupyter-widgets/controls",
      "model_module_version": "1.5.0",
      "model_name": "IntProgressModel",
      "state": {
       "bar_style": "success",
       "description": "average: 100%",
       "layout": "IPY_MODEL_7e18f2a889b7472ba04a370bebd9bc06",
       "max": 29,
       "style": "IPY_MODEL_d34bed87f946408e8d8167f5a3a53065",
       "value": 29
      }
     },
     "9800e2234b234509a82906d7e21e4ac7": {
      "model_module": "@jupyter-widgets/base",
      "model_module_version": "1.2.0",
      "model_name": "LayoutModel",
      "state": {}
     },
     "9840756842f0460794bf9fe0e30db82d": {
      "model_module": "@jupyter-widgets/base",
      "model_module_version": "1.2.0",
      "model_name": "LayoutModel",
      "state": {}
     },
     "989260230d8a4b9ab509a7a8f9fbcd6b": {
      "model_module": "@jupyter-widgets/controls",
      "model_module_version": "1.5.0",
      "model_name": "DescriptionStyleModel",
      "state": {
       "description_width": ""
      }
     },
     "9894c00668ed4c5bbd96058a941d8770": {
      "model_module": "@jupyter-widgets/controls",
      "model_module_version": "1.5.0",
      "model_name": "IntProgressModel",
      "state": {
       "bar_style": "success",
       "description": "Minimum cluster size: 100%",
       "layout": "IPY_MODEL_2952a81d111b420d86548316f6e4ec5e",
       "max": 15,
       "style": "IPY_MODEL_a659dd7fa1a04fe6af92667606f84f1d",
       "value": 15
      }
     },
     "98d2767503b04968a6385532a52cf780": {
      "model_module": "@jupyter-widgets/base",
      "model_module_version": "1.2.0",
      "model_name": "LayoutModel",
      "state": {}
     },
     "98fb97cb6bd24952ab1e65e67f68ac39": {
      "model_module": "@jupyter-widgets/base",
      "model_module_version": "1.2.0",
      "model_name": "LayoutModel",
      "state": {}
     },
     "99055bdeada74aa2bacbb61743d4672e": {
      "model_module": "@jupyter-widgets/controls",
      "model_module_version": "1.5.0",
      "model_name": "ProgressStyleModel",
      "state": {
       "description_width": "initial"
      }
     },
     "99f86f97ba9349daa181c11b2063249d": {
      "model_module": "@jupyter-widgets/controls",
      "model_module_version": "1.5.0",
      "model_name": "ProgressStyleModel",
      "state": {
       "description_width": "initial"
      }
     },
     "9a16afad33844b1185a0705719965ea9": {
      "model_module": "@jupyter-widgets/base",
      "model_module_version": "1.2.0",
      "model_name": "LayoutModel",
      "state": {}
     },
     "9b77f8ced3da4d0d990f1ef3d31965f4": {
      "model_module": "@jupyter-widgets/controls",
      "model_module_version": "1.5.0",
      "model_name": "DescriptionStyleModel",
      "state": {
       "description_width": ""
      }
     },
     "9b82e4496df24e7aa7e9f4b4f99b28d5": {
      "model_module": "@jupyter-widgets/base",
      "model_module_version": "1.2.0",
      "model_name": "LayoutModel",
      "state": {}
     },
     "9baab16ffcf84e25be8b546c510b930b": {
      "model_module": "@jupyter-widgets/base",
      "model_module_version": "1.2.0",
      "model_name": "LayoutModel",
      "state": {}
     },
     "9bafd8cfec6a46b8a5f15e0261904afb": {
      "model_module": "@jupyter-widgets/base",
      "model_module_version": "1.2.0",
      "model_name": "LayoutModel",
      "state": {}
     },
     "9bed1ab7715c4493b93792ffa31ae831": {
      "model_module": "@jupyter-widgets/base",
      "model_module_version": "1.2.0",
      "model_name": "LayoutModel",
      "state": {}
     },
     "9bfc63a1dfbc48329e1012896fc458fc": {
      "model_module": "@jupyter-widgets/controls",
      "model_module_version": "1.5.0",
      "model_name": "DescriptionStyleModel",
      "state": {
       "description_width": ""
      }
     },
     "9c830527938e463297ea77866166235c": {
      "model_module": "@jupyter-widgets/controls",
      "model_module_version": "1.5.0",
      "model_name": "HBoxModel",
      "state": {
       "children": [
        "IPY_MODEL_a53bbad9577a48b286dd55ca3431cbd3",
        "IPY_MODEL_0f5708133a68427baf13c3ac35d6b6ac"
       ],
       "layout": "IPY_MODEL_372e5c3defdf4cf79df86111da26c44b"
      }
     },
     "9d051382907b4f7a808ab2714dfb4fe1": {
      "model_module": "@jupyter-widgets/controls",
      "model_module_version": "1.5.0",
      "model_name": "ProgressStyleModel",
      "state": {
       "description_width": "initial"
      }
     },
     "9d34f4244bb746fab80032f94af68a63": {
      "model_module": "@jupyter-widgets/controls",
      "model_module_version": "1.5.0",
      "model_name": "DescriptionStyleModel",
      "state": {
       "description_width": ""
      }
     },
     "9d5a0a70c8c24c41920031fb4fae932f": {
      "model_module": "@jupyter-widgets/controls",
      "model_module_version": "1.5.0",
      "model_name": "HBoxModel",
      "state": {
       "children": [
        "IPY_MODEL_a8865e222bb74e8391be7d30a8c7c500",
        "IPY_MODEL_3a749f89ce4c4421a20fba1f3646578d"
       ],
       "layout": "IPY_MODEL_97a1eda7dcbf44e180e60c26ea07b03c"
      }
     },
     "9dcd40bb67d24516882cfe8ccf60db23": {
      "model_module": "@jupyter-widgets/controls",
      "model_module_version": "1.5.0",
      "model_name": "DescriptionStyleModel",
      "state": {
       "description_width": ""
      }
     },
     "9f04d5ced85146a784a06c9664a1680e": {
      "model_module": "@jupyter-widgets/controls",
      "model_module_version": "1.5.0",
      "model_name": "IntProgressModel",
      "state": {
       "bar_style": "success",
       "description": "average: 100%",
       "layout": "IPY_MODEL_42ab15b44de94405abb35f18aca9b93a",
       "max": 31,
       "style": "IPY_MODEL_26f80671a21444bd84c034578130b115",
       "value": 31
      }
     },
     "9f7f0524f826435a9d01ee332666398e": {
      "model_module": "@jupyter-widgets/base",
      "model_module_version": "1.2.0",
      "model_name": "LayoutModel",
      "state": {}
     },
     "9f821fd522d74d138b8ff40fe9849d3f": {
      "model_module": "@jupyter-widgets/base",
      "model_module_version": "1.2.0",
      "model_name": "LayoutModel",
      "state": {}
     },
     "9f99750804c84957ba395e7f34feabf5": {
      "model_module": "@jupyter-widgets/controls",
      "model_module_version": "1.5.0",
      "model_name": "HTMLModel",
      "state": {
       "layout": "IPY_MODEL_c3be1ba4a242444fb68f9ae51737dd88",
       "style": "IPY_MODEL_9d34f4244bb746fab80032f94af68a63",
       "value": " 31/31 [18:18&lt;00:00, 35.43s/it]"
      }
     },
     "9fadadc4a0b64dde9e642c2937e5b0ac": {
      "model_module": "@jupyter-widgets/controls",
      "model_module_version": "1.5.0",
      "model_name": "IntProgressModel",
      "state": {
       "bar_style": "success",
       "description": "Method: 100%",
       "layout": "IPY_MODEL_90699c5ce8a64b06bf93b2e49e6ec167",
       "max": 3,
       "style": "IPY_MODEL_626e7c8410b34c1384602441c3bd20ea",
       "value": 3
      }
     },
     "9fc60b34186f49a3847d470f3e1cde95": {
      "model_module": "@jupyter-widgets/controls",
      "model_module_version": "1.5.0",
      "model_name": "ProgressStyleModel",
      "state": {
       "description_width": "initial"
      }
     },
     "a012eded498740469e34da9981358111": {
      "model_module": "@jupyter-widgets/controls",
      "model_module_version": "1.5.0",
      "model_name": "HTMLModel",
      "state": {
       "layout": "IPY_MODEL_d750664520184b93a4bc01f022e4f814",
       "style": "IPY_MODEL_3ee7dc521bc045b1ae141af46361ad89",
       "value": " 3/3 [36:35&lt;00:00, 731.85s/it]"
      }
     },
     "a0d33cb072d84558b305f5220f73ec30": {
      "model_module": "@jupyter-widgets/base",
      "model_module_version": "1.2.0",
      "model_name": "LayoutModel",
      "state": {}
     },
     "a2144f0db40c439abb5582a7105d6c50": {
      "model_module": "@jupyter-widgets/controls",
      "model_module_version": "1.5.0",
      "model_name": "HTMLModel",
      "state": {
       "layout": "IPY_MODEL_367a816248a44e9bbe156b54d5499ac0",
       "style": "IPY_MODEL_e67daa9b63e242008c5eeb556c10b03a",
       "value": " 3/3 [00:11&lt;00:00,  3.77s/it]"
      }
     },
     "a228419add1043b49c3c1f1e103ea4db": {
      "model_module": "@jupyter-widgets/controls",
      "model_module_version": "1.5.0",
      "model_name": "HTMLModel",
      "state": {
       "layout": "IPY_MODEL_f28d99deef7741f48e232d4f0dc5d8f3",
       "style": "IPY_MODEL_a834c2d4589e4b2890235def5ae6bed8",
       "value": " 2/2 [53:01&lt;00:00, 1590.86s/it]"
      }
     },
     "a268d744588142858420042252372611": {
      "model_module": "@jupyter-widgets/controls",
      "model_module_version": "1.5.0",
      "model_name": "IntProgressModel",
      "state": {
       "bar_style": "success",
       "description": "Method: 100%",
       "layout": "IPY_MODEL_2a910e95941844d48f06bb303b98d1fa",
       "max": 3,
       "style": "IPY_MODEL_1a9b48789c1d431186474b73661ab5ae",
       "value": 3
      }
     },
     "a26c7856918a44b1b777b7ea3b12130d": {
      "model_module": "@jupyter-widgets/controls",
      "model_module_version": "1.5.0",
      "model_name": "ProgressStyleModel",
      "state": {
       "description_width": "initial"
      }
     },
     "a29d65d001c847dc8b12695d3a35d875": {
      "model_module": "@jupyter-widgets/controls",
      "model_module_version": "1.5.0",
      "model_name": "ProgressStyleModel",
      "state": {
       "description_width": "initial"
      }
     },
     "a2d64c6b4ffb47168a303d811f2d019d": {
      "model_module": "@jupyter-widgets/base",
      "model_module_version": "1.2.0",
      "model_name": "LayoutModel",
      "state": {}
     },
     "a2fd01b2a2db447e88c3a673a8bfc6a0": {
      "model_module": "@jupyter-widgets/base",
      "model_module_version": "1.2.0",
      "model_name": "LayoutModel",
      "state": {}
     },
     "a3064273409b4841ac8ca5a45056871c": {
      "model_module": "@jupyter-widgets/controls",
      "model_module_version": "1.5.0",
      "model_name": "IntProgressModel",
      "state": {
       "bar_style": "success",
       "description": "average: 100%",
       "layout": "IPY_MODEL_75fe9ec1fb9e450e89d2c1a37dfb2b1d",
       "max": 49,
       "style": "IPY_MODEL_e55bccd0d2d54e3eaec258a91835eae0",
       "value": 49
      }
     },
     "a403923973164c64a73660e25aa4cfe4": {
      "model_module": "@jupyter-widgets/base",
      "model_module_version": "1.2.0",
      "model_name": "LayoutModel",
      "state": {}
     },
     "a53bbad9577a48b286dd55ca3431cbd3": {
      "model_module": "@jupyter-widgets/controls",
      "model_module_version": "1.5.0",
      "model_name": "IntProgressModel",
      "state": {
       "bar_style": "success",
       "description": "complete: 100%",
       "layout": "IPY_MODEL_b0cacfe6b5094cfd826398e905aace89",
       "max": 29,
       "style": "IPY_MODEL_57820f08b31145d59fbf98b13d1407bd",
       "value": 29
      }
     },
     "a641ae85cff643f6a203766abcb3d4d1": {
      "model_module": "@jupyter-widgets/controls",
      "model_module_version": "1.5.0",
      "model_name": "HTMLModel",
      "state": {
       "layout": "IPY_MODEL_3f525ea6d05842a9a74fc3c8c5e537f8",
       "style": "IPY_MODEL_de48ace6fa444df6950479d59ed4c163",
       "value": " 2/2 [00:31&lt;00:00, 15.89s/it]"
      }
     },
     "a64aaa72d95e45e6b6b93f6c3858ded6": {
      "model_module": "@jupyter-widgets/controls",
      "model_module_version": "1.5.0",
      "model_name": "DescriptionStyleModel",
      "state": {
       "description_width": ""
      }
     },
     "a659dd7fa1a04fe6af92667606f84f1d": {
      "model_module": "@jupyter-widgets/controls",
      "model_module_version": "1.5.0",
      "model_name": "ProgressStyleModel",
      "state": {
       "description_width": "initial"
      }
     },
     "a6698557f314484b8984cc70cc4306ec": {
      "model_module": "@jupyter-widgets/controls",
      "model_module_version": "1.5.0",
      "model_name": "HBoxModel",
      "state": {
       "children": [
        "IPY_MODEL_5f487c284782448cb82e221e0aa0c6f1",
        "IPY_MODEL_ce33e9a7bb504a22b69d9d0b0cc973e7"
       ],
       "layout": "IPY_MODEL_c913e44305fa4a2394cc4b6deb56f37d"
      }
     },
     "a6d9e630afc347dbadd2a0985512f3f5": {
      "model_module": "@jupyter-widgets/controls",
      "model_module_version": "1.5.0",
      "model_name": "HBoxModel",
      "state": {
       "children": [
        "IPY_MODEL_d91933180d9e4b3ea6a0ddc20a751a9d",
        "IPY_MODEL_a012eded498740469e34da9981358111"
       ],
       "layout": "IPY_MODEL_3d44c7db5764443fabe13957f71f95d0"
      }
     },
     "a6fdb273c7204b0aaf74f4baa883cc12": {
      "model_module": "@jupyter-widgets/base",
      "model_module_version": "1.2.0",
      "model_name": "LayoutModel",
      "state": {}
     },
     "a7a811d4247b4ebd97c7cb7546d3c574": {
      "model_module": "@jupyter-widgets/base",
      "model_module_version": "1.2.0",
      "model_name": "LayoutModel",
      "state": {}
     },
     "a834c2d4589e4b2890235def5ae6bed8": {
      "model_module": "@jupyter-widgets/controls",
      "model_module_version": "1.5.0",
      "model_name": "DescriptionStyleModel",
      "state": {
       "description_width": ""
      }
     },
     "a83722c490db496da4bddbbd32931366": {
      "model_module": "@jupyter-widgets/controls",
      "model_module_version": "1.5.0",
      "model_name": "DescriptionStyleModel",
      "state": {
       "description_width": ""
      }
     },
     "a8865e222bb74e8391be7d30a8c7c500": {
      "model_module": "@jupyter-widgets/controls",
      "model_module_version": "1.5.0",
      "model_name": "IntProgressModel",
      "state": {
       "bar_style": "success",
       "description": "complete: 100%",
       "layout": "IPY_MODEL_236c5d99e67648d0826848293c9df47e",
       "max": 41,
       "style": "IPY_MODEL_bedc97523b4547f89bcfbf59b534a55f",
       "value": 41
      }
     },
     "a8e6ec3f57dd4ceab5897c01c013779f": {
      "model_module": "@jupyter-widgets/controls",
      "model_module_version": "1.5.0",
      "model_name": "HTMLModel",
      "state": {
       "layout": "IPY_MODEL_4f849803eb424071b5e2a01a3469a76e",
       "style": "IPY_MODEL_ffc9625e81d7460a80b97daba21472aa",
       "value": " 29/29 [00:02&lt;00:00, 10.39it/s]"
      }
     },
     "a8ea56bbef12492cab74bf909374174f": {
      "model_module": "@jupyter-widgets/controls",
      "model_module_version": "1.5.0",
      "model_name": "DescriptionStyleModel",
      "state": {
       "description_width": ""
      }
     },
     "aa198023c6c54b4cb7c459e703b12bb9": {
      "model_module": "@jupyter-widgets/controls",
      "model_module_version": "1.5.0",
      "model_name": "IntProgressModel",
      "state": {
       "bar_style": "success",
       "description": "complete: 100%",
       "layout": "IPY_MODEL_8b003421490c43708c337a9c2f413787",
       "max": 29,
       "style": "IPY_MODEL_7382b494d1ce463ca2c8b6004791247a",
       "value": 29
      }
     },
     "aa72a010c5b64a29bba15f54bfecaa00": {
      "model_module": "@jupyter-widgets/base",
      "model_module_version": "1.2.0",
      "model_name": "LayoutModel",
      "state": {}
     },
     "aaa9d32961da46398867065fe5380928": {
      "model_module": "@jupyter-widgets/controls",
      "model_module_version": "1.5.0",
      "model_name": "DescriptionStyleModel",
      "state": {
       "description_width": ""
      }
     },
     "aab89de8083c4609ac31e4cb34e46d98": {
      "model_module": "@jupyter-widgets/controls",
      "model_module_version": "1.5.0",
      "model_name": "HTMLModel",
      "state": {
       "layout": "IPY_MODEL_0cafee80fac349a39f47d857940841c6",
       "style": "IPY_MODEL_f126190e44f943d0ba4c0482fdd691e2",
       "value": " 29/29 [00:01&lt;00:00, 18.45it/s]"
      }
     },
     "aac452f735fc40d286629d429f80b8cc": {
      "model_module": "@jupyter-widgets/base",
      "model_module_version": "1.2.0",
      "model_name": "LayoutModel",
      "state": {}
     },
     "ab18b7408a5b43e784c64622ec91be66": {
      "model_module": "@jupyter-widgets/base",
      "model_module_version": "1.2.0",
      "model_name": "LayoutModel",
      "state": {}
     },
     "ac9fb82283be46718a1b6614ecc249d7": {
      "model_module": "@jupyter-widgets/controls",
      "model_module_version": "1.5.0",
      "model_name": "ProgressStyleModel",
      "state": {
       "description_width": "initial"
      }
     },
     "accf149642a34efc8fd88e6314bc2565": {
      "model_module": "@jupyter-widgets/controls",
      "model_module_version": "1.5.0",
      "model_name": "IntProgressModel",
      "state": {
       "bar_style": "success",
       "description": "complete: 100%",
       "layout": "IPY_MODEL_ef1d34703fca4a218a8e4a2800081cd2",
       "max": 29,
       "style": "IPY_MODEL_183eb795005a4005b6b2c42c51edfe77",
       "value": 29
      }
     },
     "ad61a6d06b7443579e0e849167fbb599": {
      "model_module": "@jupyter-widgets/base",
      "model_module_version": "1.2.0",
      "model_name": "LayoutModel",
      "state": {}
     },
     "adfe585ab874445da35c75a538f15093": {
      "model_module": "@jupyter-widgets/base",
      "model_module_version": "1.2.0",
      "model_name": "LayoutModel",
      "state": {}
     },
     "af6a45aa19204a67a5e03bc97611bc90": {
      "model_module": "@jupyter-widgets/controls",
      "model_module_version": "1.5.0",
      "model_name": "ProgressStyleModel",
      "state": {
       "description_width": "initial"
      }
     },
     "b02234749f51422a9fc3a170efc7b475": {
      "model_module": "@jupyter-widgets/controls",
      "model_module_version": "1.5.0",
      "model_name": "IntProgressModel",
      "state": {
       "bar_style": "success",
       "description": "Method: 100%",
       "layout": "IPY_MODEL_fdeab6e69cd849dc8d668d8dae98fd1c",
       "max": 3,
       "style": "IPY_MODEL_19c6a804ac204797b471f4b43301a691",
       "value": 3
      }
     },
     "b043df7010854af9ad0d4abb694aaaae": {
      "model_module": "@jupyter-widgets/controls",
      "model_module_version": "1.5.0",
      "model_name": "DescriptionStyleModel",
      "state": {
       "description_width": ""
      }
     },
     "b0873f5ed40e436f8069681b1f01e90a": {
      "model_module": "@jupyter-widgets/controls",
      "model_module_version": "1.5.0",
      "model_name": "HBoxModel",
      "state": {
       "children": [
        "IPY_MODEL_ce7fc090d8834f269499222f0f6ef0ed",
        "IPY_MODEL_16d198f3fb814f069c6d5eb950d0dc29"
       ],
       "layout": "IPY_MODEL_4ae38a87c51940fc9567ab9f1d6216ca"
      }
     },
     "b0aa07645461436a83a818b8dff7d6af": {
      "model_module": "@jupyter-widgets/controls",
      "model_module_version": "1.5.0",
      "model_name": "IntProgressModel",
      "state": {
       "bar_style": "success",
       "description": "Minimum cluster size: 100%",
       "layout": "IPY_MODEL_634c4a26051b4257b2d6763c20802420",
       "max": 15,
       "style": "IPY_MODEL_3d0ac6c23b5945118110541a14fad8e8",
       "value": 15
      }
     },
     "b0cacfe6b5094cfd826398e905aace89": {
      "model_module": "@jupyter-widgets/base",
      "model_module_version": "1.2.0",
      "model_name": "LayoutModel",
      "state": {}
     },
     "b1186ca713c94593b37a2395c4bf886b": {
      "model_module": "@jupyter-widgets/base",
      "model_module_version": "1.2.0",
      "model_name": "LayoutModel",
      "state": {}
     },
     "b12665b9c94742108224eb05c754e8a4": {
      "model_module": "@jupyter-widgets/base",
      "model_module_version": "1.2.0",
      "model_name": "LayoutModel",
      "state": {}
     },
     "b1662bb6697549058ca31f81ef47e1ec": {
      "model_module": "@jupyter-widgets/controls",
      "model_module_version": "1.5.0",
      "model_name": "HBoxModel",
      "state": {
       "children": [
        "IPY_MODEL_19886ee8971646ef8cedf59d0f80be50",
        "IPY_MODEL_14b5872e8e354664a10e01d69ea3bd91"
       ],
       "layout": "IPY_MODEL_a2fd01b2a2db447e88c3a673a8bfc6a0"
      }
     },
     "b1a8af49065d423b9eacbe3f336370c7": {
      "model_module": "@jupyter-widgets/controls",
      "model_module_version": "1.5.0",
      "model_name": "HTMLModel",
      "state": {
       "layout": "IPY_MODEL_877aca430cac4fd39a95ad4bc038d5d1",
       "style": "IPY_MODEL_6b106a81e17043a4b5485294525d9ded",
       "value": " 29/29 [00:00&lt;00:00, 37.04it/s]"
      }
     },
     "b2bf68fccc7e4d6cbbd2b955d6a6eba7": {
      "model_module": "@jupyter-widgets/controls",
      "model_module_version": "1.5.0",
      "model_name": "HTMLModel",
      "state": {
       "layout": "IPY_MODEL_e2bc9d7c9b5e4072b9194bf40115261e",
       "style": "IPY_MODEL_04b4ada6c3e941b891096e86ce01a6c0",
       "value": " 29/29 [02:56&lt;00:00,  6.10s/it]"
      }
     },
     "b33cae7fc3364b87a155082319b68fbd": {
      "model_module": "@jupyter-widgets/controls",
      "model_module_version": "1.5.0",
      "model_name": "HBoxModel",
      "state": {
       "children": [
        "IPY_MODEL_0e05b835812e4088a804c2ee9d4c4584",
        "IPY_MODEL_4f245de98a5a4ae48f91ff9a39d4867a"
       ],
       "layout": "IPY_MODEL_111bee8f91c24d1db40bd738c0d0b905"
      }
     },
     "b3935e504034441f98e4c2c5282c8d11": {
      "model_module": "@jupyter-widgets/controls",
      "model_module_version": "1.5.0",
      "model_name": "IntProgressModel",
      "state": {
       "bar_style": "success",
       "description": "Minimum cluster size: 100%",
       "layout": "IPY_MODEL_adfe585ab874445da35c75a538f15093",
       "max": 13,
       "style": "IPY_MODEL_335012cffc2c48448e99e292cad82e75",
       "value": 13
      }
     },
     "b3997a9bffda4372984f97f5fd8cbb02": {
      "model_module": "@jupyter-widgets/base",
      "model_module_version": "1.2.0",
      "model_name": "LayoutModel",
      "state": {}
     },
     "b588e01bd1384f058d0e34e8f68b4e07": {
      "model_module": "@jupyter-widgets/base",
      "model_module_version": "1.2.0",
      "model_name": "LayoutModel",
      "state": {}
     },
     "b62874f6189d4b4fabb258a5236e3c25": {
      "model_module": "@jupyter-widgets/controls",
      "model_module_version": "1.5.0",
      "model_name": "HTMLModel",
      "state": {
       "layout": "IPY_MODEL_7778c74a5be74b659e7fa494052ad5de",
       "style": "IPY_MODEL_d4609868cce9420497b8ddbf9eb434e9",
       "value": " 29/29 [00:00&lt;00:00, 37.81it/s]"
      }
     },
     "b6cc478f00004b5e8bc1b2748fa12de5": {
      "model_module": "@jupyter-widgets/base",
      "model_module_version": "1.2.0",
      "model_name": "LayoutModel",
      "state": {}
     },
     "b707812c63ba41fd9c447ec8db2c3232": {
      "model_module": "@jupyter-widgets/controls",
      "model_module_version": "1.5.0",
      "model_name": "HBoxModel",
      "state": {
       "children": [
        "IPY_MODEL_e13596106d854bc5a64ca4ad24fb204b",
        "IPY_MODEL_08d1c9349ba74758adab7e562a2cc1c0"
       ],
       "layout": "IPY_MODEL_e9bd381b4d9243abb034bc9298eec927"
      }
     },
     "b70c31a09e814771b51720db2ffbe732": {
      "model_module": "@jupyter-widgets/controls",
      "model_module_version": "1.5.0",
      "model_name": "HBoxModel",
      "state": {
       "children": [
        "IPY_MODEL_2581c1704ee94573b3609a5ed17c18d5",
        "IPY_MODEL_c8f8b1f7628d4f9188ec53a4f565406c"
       ],
       "layout": "IPY_MODEL_67a0eb57394b4083a1d404be0ace6887"
      }
     },
     "b803463621324e5e9f6c81c4583edac4": {
      "model_module": "@jupyter-widgets/base",
      "model_module_version": "1.2.0",
      "model_name": "LayoutModel",
      "state": {}
     },
     "b815ff1a8318441e9af1801f91fd6c08": {
      "model_module": "@jupyter-widgets/controls",
      "model_module_version": "1.5.0",
      "model_name": "HBoxModel",
      "state": {
       "children": [
        "IPY_MODEL_0c63f430bc724e329ccf41e4e6b0f78f",
        "IPY_MODEL_e85043d283874d178f388bf8b5aacacd"
       ],
       "layout": "IPY_MODEL_7dae80d8499f48d585468b8f679bff49"
      }
     },
     "b978248a1c61401d92cf2803db0ac4bf": {
      "model_module": "@jupyter-widgets/base",
      "model_module_version": "1.2.0",
      "model_name": "LayoutModel",
      "state": {}
     },
     "ba1ff8df5b094a5f857caa8918386621": {
      "model_module": "@jupyter-widgets/base",
      "model_module_version": "1.2.0",
      "model_name": "LayoutModel",
      "state": {}
     },
     "bae3c8e1d97a4dbda9a69d29f7ce285f": {
      "model_module": "@jupyter-widgets/controls",
      "model_module_version": "1.5.0",
      "model_name": "ProgressStyleModel",
      "state": {
       "description_width": "initial"
      }
     },
     "bb315b11f13541e195ef0fa3618fa620": {
      "model_module": "@jupyter-widgets/controls",
      "model_module_version": "1.5.0",
      "model_name": "HTMLModel",
      "state": {
       "layout": "IPY_MODEL_32128eb5ca07492f8c9427542d549583",
       "style": "IPY_MODEL_75060885e1ae4273830ee3c3eac4b6fa",
       "value": " 49/49 [08:10&lt;00:00, 10.01s/it]"
      }
     },
     "bb9b1a035feb4904a3f4b99c50a7cfdd": {
      "model_module": "@jupyter-widgets/controls",
      "model_module_version": "1.5.0",
      "model_name": "HBoxModel",
      "state": {
       "children": [
        "IPY_MODEL_35472b74551c4b5295d84ab781dc6034",
        "IPY_MODEL_aab89de8083c4609ac31e4cb34e46d98"
       ],
       "layout": "IPY_MODEL_1d49d7da4c86450d816291c3d6bf4d29"
      }
     },
     "bbb62fd590b74e4e9aba849ff265741b": {
      "model_module": "@jupyter-widgets/controls",
      "model_module_version": "1.5.0",
      "model_name": "HBoxModel",
      "state": {
       "children": [
        "IPY_MODEL_6b99d94076614a3eb280af5a38cf149b",
        "IPY_MODEL_5f417205197a41479d5c8c6c57dca890"
       ],
       "layout": "IPY_MODEL_1f3d470c1a1049e18e7bf9f86792a3b0"
      }
     },
     "bbc50761a27c4d329c4b3fbd8b574bd1": {
      "model_module": "@jupyter-widgets/base",
      "model_module_version": "1.2.0",
      "model_name": "LayoutModel",
      "state": {}
     },
     "bc67ed50c840440bb01010bc088c7182": {
      "model_module": "@jupyter-widgets/controls",
      "model_module_version": "1.5.0",
      "model_name": "HTMLModel",
      "state": {
       "layout": "IPY_MODEL_0801ed8627db46fe89e1ff1051abbe41",
       "style": "IPY_MODEL_92d664a54c534d258e6ac767e2ccb40a",
       "value": " 15/15 [03:46&lt;00:00, 15.07s/it]"
      }
     },
     "bc7252089692436a961007940c0602c4": {
      "model_module": "@jupyter-widgets/controls",
      "model_module_version": "1.5.0",
      "model_name": "DescriptionStyleModel",
      "state": {
       "description_width": ""
      }
     },
     "bc7bb5b603134407bb8f0dbca7048cbf": {
      "model_module": "@jupyter-widgets/base",
      "model_module_version": "1.2.0",
      "model_name": "LayoutModel",
      "state": {}
     },
     "bde7e4be83aa44668d86e6cd207665a0": {
      "model_module": "@jupyter-widgets/controls",
      "model_module_version": "1.5.0",
      "model_name": "HTMLModel",
      "state": {
       "layout": "IPY_MODEL_4a41264e7c59480ea3b45df6d786b7ab",
       "style": "IPY_MODEL_555fd924d08c4025b03036449fd171d1",
       "value": " 49/49 [20:47&lt;00:00, 25.45s/it]"
      }
     },
     "be28a234ebed44d39fdec1b2eba52694": {
      "model_module": "@jupyter-widgets/base",
      "model_module_version": "1.2.0",
      "model_name": "LayoutModel",
      "state": {}
     },
     "beb5ddfdee6c45aca4998d101b0bbf77": {
      "model_module": "@jupyter-widgets/base",
      "model_module_version": "1.2.0",
      "model_name": "LayoutModel",
      "state": {}
     },
     "bedc97523b4547f89bcfbf59b534a55f": {
      "model_module": "@jupyter-widgets/controls",
      "model_module_version": "1.5.0",
      "model_name": "ProgressStyleModel",
      "state": {
       "description_width": "initial"
      }
     },
     "bf2601e3a78f46e68115796d6f064bcb": {
      "model_module": "@jupyter-widgets/controls",
      "model_module_version": "1.5.0",
      "model_name": "HBoxModel",
      "state": {
       "children": [
        "IPY_MODEL_57ec96b73e8f4975b36b7f9abc505e34",
        "IPY_MODEL_fedb930b8dd84e29b7090482d546e0c8"
       ],
       "layout": "IPY_MODEL_f764eb250d584f8983cfc30fd5b06298"
      }
     },
     "c01fa667a4b34702b087839ec8077658": {
      "model_module": "@jupyter-widgets/base",
      "model_module_version": "1.2.0",
      "model_name": "LayoutModel",
      "state": {}
     },
     "c03a886c6cf043d29243660272afe04a": {
      "model_module": "@jupyter-widgets/base",
      "model_module_version": "1.2.0",
      "model_name": "LayoutModel",
      "state": {}
     },
     "c0efe55d8e684c07977ebd62fd2ba54b": {
      "model_module": "@jupyter-widgets/base",
      "model_module_version": "1.2.0",
      "model_name": "LayoutModel",
      "state": {}
     },
     "c230ea8a550a44d3b16856ff9f57f835": {
      "model_module": "@jupyter-widgets/base",
      "model_module_version": "1.2.0",
      "model_name": "LayoutModel",
      "state": {}
     },
     "c240f661af5149d4ad94be87ec0d0012": {
      "model_module": "@jupyter-widgets/base",
      "model_module_version": "1.2.0",
      "model_name": "LayoutModel",
      "state": {}
     },
     "c3be1ba4a242444fb68f9ae51737dd88": {
      "model_module": "@jupyter-widgets/base",
      "model_module_version": "1.2.0",
      "model_name": "LayoutModel",
      "state": {}
     },
     "c3db54ec47124b77a692657041f91f92": {
      "model_module": "@jupyter-widgets/base",
      "model_module_version": "1.2.0",
      "model_name": "LayoutModel",
      "state": {}
     },
     "c44204e9c4dd4aedbea1cca4707cea4b": {
      "model_module": "@jupyter-widgets/base",
      "model_module_version": "1.2.0",
      "model_name": "LayoutModel",
      "state": {}
     },
     "c5f961eeac5742009cc8fcad1d9e0047": {
      "model_module": "@jupyter-widgets/base",
      "model_module_version": "1.2.0",
      "model_name": "LayoutModel",
      "state": {}
     },
     "c6851df4c005484ca97d704545e97f48": {
      "model_module": "@jupyter-widgets/controls",
      "model_module_version": "1.5.0",
      "model_name": "DescriptionStyleModel",
      "state": {
       "description_width": ""
      }
     },
     "c6950192e93343628c697914cf784280": {
      "model_module": "@jupyter-widgets/controls",
      "model_module_version": "1.5.0",
      "model_name": "HBoxModel",
      "state": {
       "children": [
        "IPY_MODEL_d25cb017695d45ce9ffae7f169840ef8",
        "IPY_MODEL_839fe853ff2a46cc89aaa0e1dcf4d12e"
       ],
       "layout": "IPY_MODEL_953190513d924feb9b2b44f76ef7877b"
      }
     },
     "c6c54603a2074f6e8d5ca92477ea16a1": {
      "model_module": "@jupyter-widgets/controls",
      "model_module_version": "1.5.0",
      "model_name": "HBoxModel",
      "state": {
       "children": [
        "IPY_MODEL_0968590e90d14afbb475051bef43cfb9",
        "IPY_MODEL_6beee0e5c88747329b4c8a8e9fecb08a"
       ],
       "layout": "IPY_MODEL_d7eaddb00ea8454eb902f69b018cbf93"
      }
     },
     "c734ab6d1fdd4a479d757cf22dc4a3fe": {
      "model_module": "@jupyter-widgets/controls",
      "model_module_version": "1.5.0",
      "model_name": "ProgressStyleModel",
      "state": {
       "description_width": "initial"
      }
     },
     "c744f45cc109492db37e2b87cd6ab235": {
      "model_module": "@jupyter-widgets/controls",
      "model_module_version": "1.5.0",
      "model_name": "IntProgressModel",
      "state": {
       "bar_style": "success",
       "description": "Minimum cluster size: 100%",
       "layout": "IPY_MODEL_c8c1f8718e994a21aaf615f14d64055f",
       "max": 15,
       "style": "IPY_MODEL_f1655a00eed648ae97f7115fb68839f9",
       "value": 15
      }
     },
     "c83bedef33ec4e36a611b9943b862fcf": {
      "model_module": "@jupyter-widgets/controls",
      "model_module_version": "1.5.0",
      "model_name": "HTMLModel",
      "state": {
       "layout": "IPY_MODEL_3d19eb7b30194e2ba0c8d407a885ac13",
       "style": "IPY_MODEL_52dc9abe8e7c48ddbce44a29c02b51bf",
       "value": " 29/29 [00:02&lt;00:00, 12.56it/s]"
      }
     },
     "c8c1f8718e994a21aaf615f14d64055f": {
      "model_module": "@jupyter-widgets/base",
      "model_module_version": "1.2.0",
      "model_name": "LayoutModel",
      "state": {}
     },
     "c8cbec4736c9465fa6986b849b4d6f3e": {
      "model_module": "@jupyter-widgets/base",
      "model_module_version": "1.2.0",
      "model_name": "LayoutModel",
      "state": {}
     },
     "c8f8b1f7628d4f9188ec53a4f565406c": {
      "model_module": "@jupyter-widgets/controls",
      "model_module_version": "1.5.0",
      "model_name": "HTMLModel",
      "state": {
       "layout": "IPY_MODEL_7a9fa0e1ea9b4d36920b099ca6647e86",
       "style": "IPY_MODEL_8fe3633d7eba4ba2b15dca54795b4890",
       "value": " 3/3 [00:02&lt;00:00,  1.29it/s]"
      }
     },
     "c913e44305fa4a2394cc4b6deb56f37d": {
      "model_module": "@jupyter-widgets/base",
      "model_module_version": "1.2.0",
      "model_name": "LayoutModel",
      "state": {}
     },
     "c927588dbdfb488dae7753e563b4c25b": {
      "model_module": "@jupyter-widgets/base",
      "model_module_version": "1.2.0",
      "model_name": "LayoutModel",
      "state": {}
     },
     "c95d7f978795457c8b4c3528324bc61d": {
      "model_module": "@jupyter-widgets/controls",
      "model_module_version": "1.5.0",
      "model_name": "ProgressStyleModel",
      "state": {
       "description_width": "initial"
      }
     },
     "c9ad45435f414242bd3c537db038164d": {
      "model_module": "@jupyter-widgets/controls",
      "model_module_version": "1.5.0",
      "model_name": "IntProgressModel",
      "state": {
       "bar_style": "success",
       "description": "single: 100%",
       "layout": "IPY_MODEL_19a8becdb6e34dc9b5da294dcf5bb783",
       "max": 29,
       "style": "IPY_MODEL_f163ecd8156e472f98855afe5d7d6c4d",
       "value": 29
      }
     },
     "cb60a01aa7bf46adb2376a6a6e026afb": {
      "model_module": "@jupyter-widgets/controls",
      "model_module_version": "1.5.0",
      "model_name": "HTMLModel",
      "state": {
       "layout": "IPY_MODEL_804488f30c6446ee8b0ff8626e70dc1f",
       "style": "IPY_MODEL_d157415c271f4671b9bae59cd7ea3226",
       "value": " 3/3 [02:59&lt;00:00, 59.81s/it]"
      }
     },
     "cbb868e29d194644b31e0d17ba319665": {
      "model_module": "@jupyter-widgets/controls",
      "model_module_version": "1.5.0",
      "model_name": "IntProgressModel",
      "state": {
       "bar_style": "success",
       "description": "average: 100%",
       "layout": "IPY_MODEL_7f8f8ad3f22c4d47a8cf5bdc167c59ef",
       "max": 49,
       "style": "IPY_MODEL_ddb085469be24545bfb0fb427bb1e7dc",
       "value": 49
      }
     },
     "cd181933ebf04ce697d1746e157f08d3": {
      "model_module": "@jupyter-widgets/controls",
      "model_module_version": "1.5.0",
      "model_name": "HBoxModel",
      "state": {
       "children": [
        "IPY_MODEL_8493660e65d2473da0a6da1c24c7c446",
        "IPY_MODEL_2889639dcb56414d8438bb7e6c3932a4"
       ],
       "layout": "IPY_MODEL_3cad3434f1bc437a8f7768a232bf0d6b"
      }
     },
     "cd5426a88eea477db1f7d339d0901a7a": {
      "model_module": "@jupyter-widgets/controls",
      "model_module_version": "1.5.0",
      "model_name": "HTMLModel",
      "state": {
       "layout": "IPY_MODEL_78ae51a3fa2b431cad978e154e031731",
       "style": "IPY_MODEL_62a7b4f8c3ea4c91b0e281a9c885bb43",
       "value": " 3/3 [00:13&lt;00:00,  4.53s/it]"
      }
     },
     "ce188d9c867e4df1be3c7bd912d919f0": {
      "model_module": "@jupyter-widgets/controls",
      "model_module_version": "1.5.0",
      "model_name": "HBoxModel",
      "state": {
       "children": [
        "IPY_MODEL_9fadadc4a0b64dde9e642c2937e5b0ac",
        "IPY_MODEL_cd5426a88eea477db1f7d339d0901a7a"
       ],
       "layout": "IPY_MODEL_245a9317ef174744b257ccf0d6dfd49b"
      }
     },
     "ce33e9a7bb504a22b69d9d0b0cc973e7": {
      "model_module": "@jupyter-widgets/controls",
      "model_module_version": "1.5.0",
      "model_name": "HTMLModel",
      "state": {
       "layout": "IPY_MODEL_c927588dbdfb488dae7753e563b4c25b",
       "style": "IPY_MODEL_b043df7010854af9ad0d4abb694aaaae",
       "value": " 29/29 [02:59&lt;00:00,  6.19s/it]"
      }
     },
     "ce7fc090d8834f269499222f0f6ef0ed": {
      "model_module": "@jupyter-widgets/controls",
      "model_module_version": "1.5.0",
      "model_name": "IntProgressModel",
      "state": {
       "bar_style": "success",
       "description": "average: 100%",
       "layout": "IPY_MODEL_f2813e47453f40ea9ee883026857c007",
       "max": 29,
       "style": "IPY_MODEL_6b810fb92cdb4b77a205aaf692bad978",
       "value": 29
      }
     },
     "ce94bb3f860b45ad8a44743937352a5b": {
      "model_module": "@jupyter-widgets/base",
      "model_module_version": "1.2.0",
      "model_name": "LayoutModel",
      "state": {}
     },
     "cf302f3d613840f08d0f50da0b64fc54": {
      "model_module": "@jupyter-widgets/base",
      "model_module_version": "1.2.0",
      "model_name": "LayoutModel",
      "state": {}
     },
     "d006db23de394eeb8caf4306760e4ce0": {
      "model_module": "@jupyter-widgets/base",
      "model_module_version": "1.2.0",
      "model_name": "LayoutModel",
      "state": {}
     },
     "d0330eb5b6a24b12b77a7a5b41a865f2": {
      "model_module": "@jupyter-widgets/base",
      "model_module_version": "1.2.0",
      "model_name": "LayoutModel",
      "state": {}
     },
     "d034d548dfe244f3ae9a889f22411808": {
      "model_module": "@jupyter-widgets/controls",
      "model_module_version": "1.5.0",
      "model_name": "ProgressStyleModel",
      "state": {
       "description_width": "initial"
      }
     },
     "d06e9cf969154b068b5b6686e940bbde": {
      "model_module": "@jupyter-widgets/controls",
      "model_module_version": "1.5.0",
      "model_name": "ProgressStyleModel",
      "state": {
       "description_width": "initial"
      }
     },
     "d096f9f6a2d84f1ebd94546c579f668e": {
      "model_module": "@jupyter-widgets/controls",
      "model_module_version": "1.5.0",
      "model_name": "IntProgressModel",
      "state": {
       "bar_style": "success",
       "description": "complete: 100%",
       "layout": "IPY_MODEL_fca32a9767f940c995786ed333b2e808",
       "max": 41,
       "style": "IPY_MODEL_e236c8e0d6af40a4bd896964ff402b54",
       "value": 41
      }
     },
     "d10cd039bf58459d8093d94984eeaecb": {
      "model_module": "@jupyter-widgets/controls",
      "model_module_version": "1.5.0",
      "model_name": "DescriptionStyleModel",
      "state": {
       "description_width": ""
      }
     },
     "d157415c271f4671b9bae59cd7ea3226": {
      "model_module": "@jupyter-widgets/controls",
      "model_module_version": "1.5.0",
      "model_name": "DescriptionStyleModel",
      "state": {
       "description_width": ""
      }
     },
     "d188ab4d8c4f42adbac51fe01a062847": {
      "model_module": "@jupyter-widgets/base",
      "model_module_version": "1.2.0",
      "model_name": "LayoutModel",
      "state": {}
     },
     "d1c3dd9fbc4a45529ae2a153d001bb1c": {
      "model_module": "@jupyter-widgets/base",
      "model_module_version": "1.2.0",
      "model_name": "LayoutModel",
      "state": {}
     },
     "d1c84584e1a84cf9bfac6bdacf8d4495": {
      "model_module": "@jupyter-widgets/controls",
      "model_module_version": "1.5.0",
      "model_name": "ProgressStyleModel",
      "state": {
       "description_width": "initial"
      }
     },
     "d21a6577b404485891d5ba3ca32a48d6": {
      "model_module": "@jupyter-widgets/base",
      "model_module_version": "1.2.0",
      "model_name": "LayoutModel",
      "state": {}
     },
     "d25cb017695d45ce9ffae7f169840ef8": {
      "model_module": "@jupyter-widgets/controls",
      "model_module_version": "1.5.0",
      "model_name": "IntProgressModel",
      "state": {
       "bar_style": "success",
       "description": "single: 100%",
       "layout": "IPY_MODEL_66cedbd23e7d40389e6991aa197fe3e2",
       "max": 29,
       "style": "IPY_MODEL_2ff6349ee5bc443e8a8db8ca7e74a07f",
       "value": 29
      }
     },
     "d34bed87f946408e8d8167f5a3a53065": {
      "model_module": "@jupyter-widgets/controls",
      "model_module_version": "1.5.0",
      "model_name": "ProgressStyleModel",
      "state": {
       "description_width": "initial"
      }
     },
     "d392751c7b95405fa18c749ad95b7793": {
      "model_module": "@jupyter-widgets/controls",
      "model_module_version": "1.5.0",
      "model_name": "HBoxModel",
      "state": {
       "children": [
        "IPY_MODEL_e670295a325f4debb71fdf6b4f113972",
        "IPY_MODEL_f53cb749d76549b7af95b9c036db460a"
       ],
       "layout": "IPY_MODEL_1698e6e7b48b4d31a8a69c5f91e09e63"
      }
     },
     "d3beaf83ab684829abe41bee544aa81e": {
      "model_module": "@jupyter-widgets/base",
      "model_module_version": "1.2.0",
      "model_name": "LayoutModel",
      "state": {}
     },
     "d3f8ddb6a9d34aebbfd3ecc9aeeb389f": {
      "model_module": "@jupyter-widgets/controls",
      "model_module_version": "1.5.0",
      "model_name": "ProgressStyleModel",
      "state": {
       "description_width": "initial"
      }
     },
     "d4147bc100c441f1adf1b0ad1880a12d": {
      "model_module": "@jupyter-widgets/base",
      "model_module_version": "1.2.0",
      "model_name": "LayoutModel",
      "state": {}
     },
     "d44d01f8fb4e436a87bfec450ecde679": {
      "model_module": "@jupyter-widgets/controls",
      "model_module_version": "1.5.0",
      "model_name": "DescriptionStyleModel",
      "state": {
       "description_width": ""
      }
     },
     "d4609868cce9420497b8ddbf9eb434e9": {
      "model_module": "@jupyter-widgets/controls",
      "model_module_version": "1.5.0",
      "model_name": "DescriptionStyleModel",
      "state": {
       "description_width": ""
      }
     },
     "d4a755f130d44bec80daccc53f1df409": {
      "model_module": "@jupyter-widgets/controls",
      "model_module_version": "1.5.0",
      "model_name": "DescriptionStyleModel",
      "state": {
       "description_width": ""
      }
     },
     "d4caddddecaa4cc2b3339f826b2a6c1b": {
      "model_module": "@jupyter-widgets/base",
      "model_module_version": "1.2.0",
      "model_name": "LayoutModel",
      "state": {}
     },
     "d5dce76e549a481da5467d4486df0df3": {
      "model_module": "@jupyter-widgets/controls",
      "model_module_version": "1.5.0",
      "model_name": "HTMLModel",
      "state": {
       "layout": "IPY_MODEL_29b7fc4db7dc4297abb055fc076c9d84",
       "style": "IPY_MODEL_0e4f3d8af1014c15bfb4ee3e2d0f2242",
       "value": " 31/31 [06:25&lt;00:00, 12.43s/it]"
      }
     },
     "d60efe84250e414f9c365087c2dc13ed": {
      "model_module": "@jupyter-widgets/controls",
      "model_module_version": "1.5.0",
      "model_name": "HBoxModel",
      "state": {
       "children": [
        "IPY_MODEL_9463e3130326446ebcd71f18c93cba92",
        "IPY_MODEL_65ebceae298c47d48b7121d5f6995126"
       ],
       "layout": "IPY_MODEL_028112d11d4e4c7387bc4f68d9226885"
      }
     },
     "d64550236dee4fd3a85f88e18b705b60": {
      "model_module": "@jupyter-widgets/controls",
      "model_module_version": "1.5.0",
      "model_name": "DescriptionStyleModel",
      "state": {
       "description_width": ""
      }
     },
     "d67450840964455bb1468406a1a03576": {
      "model_module": "@jupyter-widgets/base",
      "model_module_version": "1.2.0",
      "model_name": "LayoutModel",
      "state": {}
     },
     "d6ea6acd53204cd996d9dfd22a306c18": {
      "model_module": "@jupyter-widgets/controls",
      "model_module_version": "1.5.0",
      "model_name": "HBoxModel",
      "state": {
       "children": [
        "IPY_MODEL_c9ad45435f414242bd3c537db038164d",
        "IPY_MODEL_b2bf68fccc7e4d6cbbd2b955d6a6eba7"
       ],
       "layout": "IPY_MODEL_dc2918b7b87b4f668e47896ed5d4ad75"
      }
     },
     "d7291a6e64514210ab531ebf894562e6": {
      "model_module": "@jupyter-widgets/controls",
      "model_module_version": "1.5.0",
      "model_name": "DescriptionStyleModel",
      "state": {
       "description_width": ""
      }
     },
     "d750664520184b93a4bc01f022e4f814": {
      "model_module": "@jupyter-widgets/base",
      "model_module_version": "1.2.0",
      "model_name": "LayoutModel",
      "state": {}
     },
     "d7d018268b3d48bea3facaecd09349ef": {
      "model_module": "@jupyter-widgets/base",
      "model_module_version": "1.2.0",
      "model_name": "LayoutModel",
      "state": {}
     },
     "d7eaddb00ea8454eb902f69b018cbf93": {
      "model_module": "@jupyter-widgets/base",
      "model_module_version": "1.2.0",
      "model_name": "LayoutModel",
      "state": {}
     },
     "d889f8b460ba4baf908f1ff2561192d0": {
      "model_module": "@jupyter-widgets/controls",
      "model_module_version": "1.5.0",
      "model_name": "DescriptionStyleModel",
      "state": {
       "description_width": ""
      }
     },
     "d8d46351907a41a9a35550de0962a70f": {
      "model_module": "@jupyter-widgets/base",
      "model_module_version": "1.2.0",
      "model_name": "LayoutModel",
      "state": {}
     },
     "d900693d61dd456d8cb46ed7e3ed3bf2": {
      "model_module": "@jupyter-widgets/controls",
      "model_module_version": "1.5.0",
      "model_name": "ProgressStyleModel",
      "state": {
       "description_width": "initial"
      }
     },
     "d91933180d9e4b3ea6a0ddc20a751a9d": {
      "model_module": "@jupyter-widgets/controls",
      "model_module_version": "1.5.0",
      "model_name": "IntProgressModel",
      "state": {
       "bar_style": "success",
       "description": "Method: 100%",
       "layout": "IPY_MODEL_598113b925594f94a90cb2529a643e48",
       "max": 3,
       "style": "IPY_MODEL_87bf12dbedba4cc7b246a7464f3306fe",
       "value": 3
      }
     },
     "d9546f5c2eb94be49bfb3cccafd494b0": {
      "model_module": "@jupyter-widgets/base",
      "model_module_version": "1.2.0",
      "model_name": "LayoutModel",
      "state": {}
     },
     "d9ce3844a734484dbff8f4c565d906f3": {
      "model_module": "@jupyter-widgets/base",
      "model_module_version": "1.2.0",
      "model_name": "LayoutModel",
      "state": {}
     },
     "da2256fdab8c49b5901f03893e6273a6": {
      "model_module": "@jupyter-widgets/controls",
      "model_module_version": "1.5.0",
      "model_name": "HBoxModel",
      "state": {
       "children": [
        "IPY_MODEL_8b9df250ce6243e59acf95ef30fc81d9",
        "IPY_MODEL_0f43f9a17a534a228106ee3df603a7a1"
       ],
       "layout": "IPY_MODEL_98fb97cb6bd24952ab1e65e67f68ac39"
      }
     },
     "da4ee83365ea4aa9929771f0f84c889e": {
      "model_module": "@jupyter-widgets/base",
      "model_module_version": "1.2.0",
      "model_name": "LayoutModel",
      "state": {}
     },
     "db56a85c8bc54b32b2280593196aa9fd": {
      "model_module": "@jupyter-widgets/controls",
      "model_module_version": "1.5.0",
      "model_name": "ProgressStyleModel",
      "state": {
       "description_width": "initial"
      }
     },
     "db9286fea8cf4c479cf7932dc08b66b4": {
      "model_module": "@jupyter-widgets/base",
      "model_module_version": "1.2.0",
      "model_name": "LayoutModel",
      "state": {}
     },
     "dba338e7e336467eb5a48f36f41c4822": {
      "model_module": "@jupyter-widgets/controls",
      "model_module_version": "1.5.0",
      "model_name": "IntProgressModel",
      "state": {
       "bar_style": "success",
       "description": "average: 100%",
       "layout": "IPY_MODEL_44e2f524e19c46cc8a4f756c15d4a6cb",
       "max": 29,
       "style": "IPY_MODEL_1b91ff15d87144db8c154ac26a5a565b",
       "value": 29
      }
     },
     "dba84f48f8b045b786b89b63e4108be9": {
      "model_module": "@jupyter-widgets/controls",
      "model_module_version": "1.5.0",
      "model_name": "HTMLModel",
      "state": {
       "layout": "IPY_MODEL_0985d75772d4474389ae64d47438e6ef",
       "style": "IPY_MODEL_186b45be546342f7b0bd5bc0c94e85a9",
       "value": " 49/49 [56:56&lt;00:00, 69.73s/it]"
      }
     },
     "dbb20bb27bfd4c39977ff71b2cc6f363": {
      "model_module": "@jupyter-widgets/base",
      "model_module_version": "1.2.0",
      "model_name": "LayoutModel",
      "state": {}
     },
     "dbcf09beba554c689af6e9fb0193672f": {
      "model_module": "@jupyter-widgets/controls",
      "model_module_version": "1.5.0",
      "model_name": "HTMLModel",
      "state": {
       "layout": "IPY_MODEL_ed03f903e8b549e188ae049ecc7b4d7f",
       "style": "IPY_MODEL_d64550236dee4fd3a85f88e18b705b60",
       "value": " 29/29 [00:00&lt;00:00, 38.56it/s]"
      }
     },
     "dc2918b7b87b4f668e47896ed5d4ad75": {
      "model_module": "@jupyter-widgets/base",
      "model_module_version": "1.2.0",
      "model_name": "LayoutModel",
      "state": {}
     },
     "dc967201751f41b0b74be8e56dd37965": {
      "model_module": "@jupyter-widgets/base",
      "model_module_version": "1.2.0",
      "model_name": "LayoutModel",
      "state": {}
     },
     "dced54aad8274e5f9235dc205039a85b": {
      "model_module": "@jupyter-widgets/base",
      "model_module_version": "1.2.0",
      "model_name": "LayoutModel",
      "state": {}
     },
     "dd4955c937584cc9ac14c5dbea0722c5": {
      "model_module": "@jupyter-widgets/base",
      "model_module_version": "1.2.0",
      "model_name": "LayoutModel",
      "state": {}
     },
     "ddb085469be24545bfb0fb427bb1e7dc": {
      "model_module": "@jupyter-widgets/controls",
      "model_module_version": "1.5.0",
      "model_name": "ProgressStyleModel",
      "state": {
       "description_width": "initial"
      }
     },
     "de48ace6fa444df6950479d59ed4c163": {
      "model_module": "@jupyter-widgets/controls",
      "model_module_version": "1.5.0",
      "model_name": "DescriptionStyleModel",
      "state": {
       "description_width": ""
      }
     },
     "deb6ee3caf274fcaa1b0853d21e1b149": {
      "model_module": "@jupyter-widgets/controls",
      "model_module_version": "1.5.0",
      "model_name": "HBoxModel",
      "state": {
       "children": [
        "IPY_MODEL_97dfb71edf7b4c388bb07fe2fe77cdf3",
        "IPY_MODEL_6d1346bd98834378bf035cd5f1698f95"
       ],
       "layout": "IPY_MODEL_e6e56682ba824bb3a31fa223ab2d73ba"
      }
     },
     "df6ce6d51b1b4c8d981d397d455a18f6": {
      "model_module": "@jupyter-widgets/base",
      "model_module_version": "1.2.0",
      "model_name": "LayoutModel",
      "state": {}
     },
     "dfd67e282c9c45afa3008824aa6f7e2d": {
      "model_module": "@jupyter-widgets/controls",
      "model_module_version": "1.5.0",
      "model_name": "HTMLModel",
      "state": {
       "layout": "IPY_MODEL_5cadb02f0d3849c385a20858c42cf1f9",
       "style": "IPY_MODEL_810ef8a255914152bcb5ab83fd2cba71",
       "value": " 29/29 [00:01&lt;00:00, 17.50it/s]"
      }
     },
     "e084fb9345c44b78a69a2bee10508139": {
      "model_module": "@jupyter-widgets/controls",
      "model_module_version": "1.5.0",
      "model_name": "HBoxModel",
      "state": {
       "children": [
        "IPY_MODEL_928226fec871452aae47ec603898273f",
        "IPY_MODEL_14bc80b919034ce98365043b46bab4c8"
       ],
       "layout": "IPY_MODEL_d006db23de394eeb8caf4306760e4ce0"
      }
     },
     "e097384405e04d4da7009649a44b2629": {
      "model_module": "@jupyter-widgets/controls",
      "model_module_version": "1.5.0",
      "model_name": "HBoxModel",
      "state": {
       "children": [
        "IPY_MODEL_eece40de4d3d46c9a5ff86187213ae7c",
        "IPY_MODEL_a8e6ec3f57dd4ceab5897c01c013779f"
       ],
       "layout": "IPY_MODEL_bbc50761a27c4d329c4b3fbd8b574bd1"
      }
     },
     "e13596106d854bc5a64ca4ad24fb204b": {
      "model_module": "@jupyter-widgets/controls",
      "model_module_version": "1.5.0",
      "model_name": "IntProgressModel",
      "state": {
       "bar_style": "success",
       "description": "Method: 100%",
       "layout": "IPY_MODEL_8cce4916ef624d57a2d249aefbf1a0da",
       "max": 3,
       "style": "IPY_MODEL_99f86f97ba9349daa181c11b2063249d",
       "value": 3
      }
     },
     "e17f928e2b34469f92931c96641c3c1c": {
      "model_module": "@jupyter-widgets/controls",
      "model_module_version": "1.5.0",
      "model_name": "ProgressStyleModel",
      "state": {
       "description_width": "initial"
      }
     },
     "e236c8e0d6af40a4bd896964ff402b54": {
      "model_module": "@jupyter-widgets/controls",
      "model_module_version": "1.5.0",
      "model_name": "ProgressStyleModel",
      "state": {
       "description_width": "initial"
      }
     },
     "e238e5b683344d9f87f8e6dd84d04260": {
      "model_module": "@jupyter-widgets/controls",
      "model_module_version": "1.5.0",
      "model_name": "HBoxModel",
      "state": {
       "children": [
        "IPY_MODEL_690cf7991d0549f3b10d55ee74a9d4fc",
        "IPY_MODEL_796c28641fc64a1fbe330abe342b6a8c"
       ],
       "layout": "IPY_MODEL_ec312e42cf1a449599d967cac73d546b"
      }
     },
     "e2b810e04582435c9d0c346fadec90c4": {
      "model_module": "@jupyter-widgets/base",
      "model_module_version": "1.2.0",
      "model_name": "LayoutModel",
      "state": {}
     },
     "e2ba9f9ec88747b881aaf2cf1a0f15f3": {
      "model_module": "@jupyter-widgets/base",
      "model_module_version": "1.2.0",
      "model_name": "LayoutModel",
      "state": {}
     },
     "e2bc9d7c9b5e4072b9194bf40115261e": {
      "model_module": "@jupyter-widgets/base",
      "model_module_version": "1.2.0",
      "model_name": "LayoutModel",
      "state": {}
     },
     "e2e0430a04724adaa4372badcf26855d": {
      "model_module": "@jupyter-widgets/base",
      "model_module_version": "1.2.0",
      "model_name": "LayoutModel",
      "state": {}
     },
     "e2e1ae6101014f379aeb29f86e79ff01": {
      "model_module": "@jupyter-widgets/controls",
      "model_module_version": "1.5.0",
      "model_name": "DescriptionStyleModel",
      "state": {
       "description_width": ""
      }
     },
     "e3abd44b738042f5b513110efe72f1cf": {
      "model_module": "@jupyter-widgets/base",
      "model_module_version": "1.2.0",
      "model_name": "LayoutModel",
      "state": {}
     },
     "e3fbc62382034aecb7e8b0333ad0899e": {
      "model_module": "@jupyter-widgets/base",
      "model_module_version": "1.2.0",
      "model_name": "LayoutModel",
      "state": {}
     },
     "e4559bdf658c4d4686665f9bc43eb325": {
      "model_module": "@jupyter-widgets/controls",
      "model_module_version": "1.5.0",
      "model_name": "HTMLModel",
      "state": {
       "layout": "IPY_MODEL_34ec1e120ff64b859a42102602faf0bf",
       "style": "IPY_MODEL_73a6c7273b7d44e1841468aef678d37a",
       "value": " 31/31 [3:53:42&lt;00:00, 452.34s/it]"
      }
     },
     "e4a641819de54330b31c023a91987404": {
      "model_module": "@jupyter-widgets/controls",
      "model_module_version": "1.5.0",
      "model_name": "IntProgressModel",
      "state": {
       "bar_style": "success",
       "description": "average: 100%",
       "layout": "IPY_MODEL_aa72a010c5b64a29bba15f54bfecaa00",
       "max": 31,
       "style": "IPY_MODEL_a26c7856918a44b1b777b7ea3b12130d",
       "value": 31
      }
     },
     "e4c62012f81b4d4cb56176aa592bf8ee": {
      "model_module": "@jupyter-widgets/base",
      "model_module_version": "1.2.0",
      "model_name": "LayoutModel",
      "state": {}
     },
     "e4cd793a2e4a48b68159dd0d8bdee033": {
      "model_module": "@jupyter-widgets/controls",
      "model_module_version": "1.5.0",
      "model_name": "HBoxModel",
      "state": {
       "children": [
        "IPY_MODEL_1e5c4204739e45328a0c1b56504bb85e",
        "IPY_MODEL_395eaed292714682bc0a89108fde031b"
       ],
       "layout": "IPY_MODEL_be28a234ebed44d39fdec1b2eba52694"
      }
     },
     "e50777b7c7354c279f70a26f73a12f97": {
      "model_module": "@jupyter-widgets/base",
      "model_module_version": "1.2.0",
      "model_name": "LayoutModel",
      "state": {}
     },
     "e55bccd0d2d54e3eaec258a91835eae0": {
      "model_module": "@jupyter-widgets/controls",
      "model_module_version": "1.5.0",
      "model_name": "ProgressStyleModel",
      "state": {
       "description_width": "initial"
      }
     },
     "e5dab9df804b48e08fcbd747050dfcb6": {
      "model_module": "@jupyter-widgets/controls",
      "model_module_version": "1.5.0",
      "model_name": "ProgressStyleModel",
      "state": {
       "description_width": "initial"
      }
     },
     "e670295a325f4debb71fdf6b4f113972": {
      "model_module": "@jupyter-widgets/controls",
      "model_module_version": "1.5.0",
      "model_name": "IntProgressModel",
      "state": {
       "bar_style": "success",
       "description": "average: 100%",
       "layout": "IPY_MODEL_f1d6a9b6e76744628e600906588e9171",
       "max": 41,
       "style": "IPY_MODEL_54b9fac55de44f1d940d89c6200cb71f",
       "value": 41
      }
     },
     "e67daa9b63e242008c5eeb556c10b03a": {
      "model_module": "@jupyter-widgets/controls",
      "model_module_version": "1.5.0",
      "model_name": "DescriptionStyleModel",
      "state": {
       "description_width": ""
      }
     },
     "e6e56682ba824bb3a31fa223ab2d73ba": {
      "model_module": "@jupyter-widgets/base",
      "model_module_version": "1.2.0",
      "model_name": "LayoutModel",
      "state": {}
     },
     "e739211797614540a1b4af84a7491d5f": {
      "model_module": "@jupyter-widgets/controls",
      "model_module_version": "1.5.0",
      "model_name": "ProgressStyleModel",
      "state": {
       "description_width": "initial"
      }
     },
     "e776a7057bf04d299bea267248b018dd": {
      "model_module": "@jupyter-widgets/base",
      "model_module_version": "1.2.0",
      "model_name": "LayoutModel",
      "state": {}
     },
     "e85043d283874d178f388bf8b5aacacd": {
      "model_module": "@jupyter-widgets/controls",
      "model_module_version": "1.5.0",
      "model_name": "HTMLModel",
      "state": {
       "layout": "IPY_MODEL_3e2a8c3a799d49a58c8aa1f6b74efc14",
       "style": "IPY_MODEL_4e8fd69682ef4335953851645b776530",
       "value": " 29/29 [00:00&lt;00:00, 37.67it/s]"
      }
     },
     "e9bd381b4d9243abb034bc9298eec927": {
      "model_module": "@jupyter-widgets/base",
      "model_module_version": "1.2.0",
      "model_name": "LayoutModel",
      "state": {}
     },
     "ea20475915aa4a92b0edb35f0fc5b826": {
      "model_module": "@jupyter-widgets/controls",
      "model_module_version": "1.5.0",
      "model_name": "DescriptionStyleModel",
      "state": {
       "description_width": ""
      }
     },
     "eabbc3407f284b1bac6697929dfc7372": {
      "model_module": "@jupyter-widgets/controls",
      "model_module_version": "1.5.0",
      "model_name": "HBoxModel",
      "state": {
       "children": [
        "IPY_MODEL_977f00b48cdb4564800b49b4773540b0",
        "IPY_MODEL_748fa756824348d4b8b090cf503358ef"
       ],
       "layout": "IPY_MODEL_b1186ca713c94593b37a2395c4bf886b"
      }
     },
     "eb59c7de069b47cb901e0a1e49a1acf5": {
      "model_module": "@jupyter-widgets/base",
      "model_module_version": "1.2.0",
      "model_name": "LayoutModel",
      "state": {}
     },
     "ec312e42cf1a449599d967cac73d546b": {
      "model_module": "@jupyter-widgets/base",
      "model_module_version": "1.2.0",
      "model_name": "LayoutModel",
      "state": {}
     },
     "ec7f85475fc74e76b57e73b11cc8f85c": {
      "model_module": "@jupyter-widgets/controls",
      "model_module_version": "1.5.0",
      "model_name": "HBoxModel",
      "state": {
       "children": [
        "IPY_MODEL_1f3dd16ec0a941ba81235165545d8555",
        "IPY_MODEL_895f5288a1644ae8ba43bf851a927a80"
       ],
       "layout": "IPY_MODEL_9b82e4496df24e7aa7e9f4b4f99b28d5"
      }
     },
     "ed03f903e8b549e188ae049ecc7b4d7f": {
      "model_module": "@jupyter-widgets/base",
      "model_module_version": "1.2.0",
      "model_name": "LayoutModel",
      "state": {}
     },
     "ed35df537a484fdcb5e310060f30a047": {
      "model_module": "@jupyter-widgets/controls",
      "model_module_version": "1.5.0",
      "model_name": "HBoxModel",
      "state": {
       "children": [
        "IPY_MODEL_a3064273409b4841ac8ca5a45056871c",
        "IPY_MODEL_6dce54af1dc24923967d9c7e6ba346fc"
       ],
       "layout": "IPY_MODEL_dd4955c937584cc9ac14c5dbea0722c5"
      }
     },
     "ed5fae671b2a409e921574be8a2fd5ef": {
      "model_module": "@jupyter-widgets/base",
      "model_module_version": "1.2.0",
      "model_name": "LayoutModel",
      "state": {}
     },
     "ed62b7f3f3e44cf9a6768b2b6990b896": {
      "model_module": "@jupyter-widgets/base",
      "model_module_version": "1.2.0",
      "model_name": "LayoutModel",
      "state": {}
     },
     "ed97e659945947799aef81600a93e0e6": {
      "model_module": "@jupyter-widgets/base",
      "model_module_version": "1.2.0",
      "model_name": "LayoutModel",
      "state": {}
     },
     "ee033a30199a489c8684b98f742520cb": {
      "model_module": "@jupyter-widgets/base",
      "model_module_version": "1.2.0",
      "model_name": "LayoutModel",
      "state": {}
     },
     "ee7bde2c558d4f0287913f744f9fe82c": {
      "model_module": "@jupyter-widgets/controls",
      "model_module_version": "1.5.0",
      "model_name": "HTMLModel",
      "state": {
       "layout": "IPY_MODEL_a2d64c6b4ffb47168a303d811f2d019d",
       "style": "IPY_MODEL_758b7204c2eb426db4790ffff04c62ce",
       "value": " 13/13 [00:10&lt;00:00,  1.22it/s]"
      }
     },
     "eeb4e83d66af44fba410eac95aad2b3d": {
      "model_module": "@jupyter-widgets/base",
      "model_module_version": "1.2.0",
      "model_name": "LayoutModel",
      "state": {}
     },
     "eece40de4d3d46c9a5ff86187213ae7c": {
      "model_module": "@jupyter-widgets/controls",
      "model_module_version": "1.5.0",
      "model_name": "IntProgressModel",
      "state": {
       "bar_style": "success",
       "description": "complete: 100%",
       "layout": "IPY_MODEL_0e62ef5a655e4b5b83b02daaad6ee00d",
       "max": 29,
       "style": "IPY_MODEL_42fe3d84e4e2430f876bf6d92c5b8620",
       "value": 29
      }
     },
     "eed0aca5696c469091dbfb4ec6cc87c7": {
      "model_module": "@jupyter-widgets/controls",
      "model_module_version": "1.5.0",
      "model_name": "IntProgressModel",
      "state": {
       "bar_style": "success",
       "description": "complete: 100%",
       "layout": "IPY_MODEL_1c5321ef955c4d17afefdd95e2e4db52",
       "max": 31,
       "style": "IPY_MODEL_d900693d61dd456d8cb46ed7e3ed3bf2",
       "value": 31
      }
     },
     "ef1d34703fca4a218a8e4a2800081cd2": {
      "model_module": "@jupyter-widgets/base",
      "model_module_version": "1.2.0",
      "model_name": "LayoutModel",
      "state": {}
     },
     "ef3f5296c06847a2aa3096126a991739": {
      "model_module": "@jupyter-widgets/controls",
      "model_module_version": "1.5.0",
      "model_name": "IntProgressModel",
      "state": {
       "bar_style": "success",
       "description": "complete: 100%",
       "layout": "IPY_MODEL_d9546f5c2eb94be49bfb3cccafd494b0",
       "max": 49,
       "style": "IPY_MODEL_a29d65d001c847dc8b12695d3a35d875",
       "value": 49
      }
     },
     "efa9077e34e44d70a1367d8cf2a2870a": {
      "model_module": "@jupyter-widgets/base",
      "model_module_version": "1.2.0",
      "model_name": "LayoutModel",
      "state": {}
     },
     "efad34146df24c88a2bd40ab3f827fc2": {
      "model_module": "@jupyter-widgets/controls",
      "model_module_version": "1.5.0",
      "model_name": "HBoxModel",
      "state": {
       "children": [
        "IPY_MODEL_67f043a325a942b18685ae8a8e25a355",
        "IPY_MODEL_752e15a5a2cc4dfeb597ab05cf3b8449"
       ],
       "layout": "IPY_MODEL_08b003e778564f74b8b62d4df659a644"
      }
     },
     "eff798f36067426bad850674da4f0989": {
      "model_module": "@jupyter-widgets/controls",
      "model_module_version": "1.5.0",
      "model_name": "IntProgressModel",
      "state": {
       "bar_style": "success",
       "description": "complete: 100%",
       "layout": "IPY_MODEL_82f8f792d3ca4a8ca7f4d47e09203e71",
       "max": 41,
       "style": "IPY_MODEL_8f4758e79da8408a9124dd5221c819c0",
       "value": 41
      }
     },
     "f0172a6c7ee04fa9aa1dcd4db2c8a276": {
      "model_module": "@jupyter-widgets/controls",
      "model_module_version": "1.5.0",
      "model_name": "ProgressStyleModel",
      "state": {
       "description_width": "initial"
      }
     },
     "f04a1efb99ae4a588de1471163cf984e": {
      "model_module": "@jupyter-widgets/controls",
      "model_module_version": "1.5.0",
      "model_name": "HTMLModel",
      "state": {
       "layout": "IPY_MODEL_8290c663dfcb4c03add0facbf18dbcef",
       "style": "IPY_MODEL_3b9ae60cff0842bd9a96f7f66debd8a9",
       "value": " 3/3 [00:02&lt;00:00,  1.32it/s]"
      }
     },
     "f126190e44f943d0ba4c0482fdd691e2": {
      "model_module": "@jupyter-widgets/controls",
      "model_module_version": "1.5.0",
      "model_name": "DescriptionStyleModel",
      "state": {
       "description_width": ""
      }
     },
     "f163ecd8156e472f98855afe5d7d6c4d": {
      "model_module": "@jupyter-widgets/controls",
      "model_module_version": "1.5.0",
      "model_name": "ProgressStyleModel",
      "state": {
       "description_width": "initial"
      }
     },
     "f1655a00eed648ae97f7115fb68839f9": {
      "model_module": "@jupyter-widgets/controls",
      "model_module_version": "1.5.0",
      "model_name": "ProgressStyleModel",
      "state": {
       "description_width": "initial"
      }
     },
     "f1d6a9b6e76744628e600906588e9171": {
      "model_module": "@jupyter-widgets/base",
      "model_module_version": "1.2.0",
      "model_name": "LayoutModel",
      "state": {}
     },
     "f2178a78221a46d4a812cd575f884066": {
      "model_module": "@jupyter-widgets/controls",
      "model_module_version": "1.5.0",
      "model_name": "DescriptionStyleModel",
      "state": {
       "description_width": ""
      }
     },
     "f2214a9cb060450cacc09ffdd4658c27": {
      "model_module": "@jupyter-widgets/base",
      "model_module_version": "1.2.0",
      "model_name": "LayoutModel",
      "state": {}
     },
     "f2813e47453f40ea9ee883026857c007": {
      "model_module": "@jupyter-widgets/base",
      "model_module_version": "1.2.0",
      "model_name": "LayoutModel",
      "state": {}
     },
     "f28d99deef7741f48e232d4f0dc5d8f3": {
      "model_module": "@jupyter-widgets/base",
      "model_module_version": "1.2.0",
      "model_name": "LayoutModel",
      "state": {}
     },
     "f323afec251a4c8db0614c4b1cbe1130": {
      "model_module": "@jupyter-widgets/controls",
      "model_module_version": "1.5.0",
      "model_name": "HTMLModel",
      "state": {
       "layout": "IPY_MODEL_beb5ddfdee6c45aca4998d101b0bbf77",
       "style": "IPY_MODEL_6955b26f38c142c0b1ecebb5611ef21b",
       "value": " 15/15 [03:05&lt;00:00, 12.37s/it]"
      }
     },
     "f374ba13bd8844bd8cade73b268de1e0": {
      "model_module": "@jupyter-widgets/controls",
      "model_module_version": "1.5.0",
      "model_name": "HTMLModel",
      "state": {
       "layout": "IPY_MODEL_d4147bc100c441f1adf1b0ad1880a12d",
       "style": "IPY_MODEL_548c5de383504e4a9578bb9b4dee43a2",
       "value": " 29/29 [00:02&lt;00:00, 14.12it/s]"
      }
     },
     "f39534ce9e054599a8af36c500108ad7": {
      "model_module": "@jupyter-widgets/controls",
      "model_module_version": "1.5.0",
      "model_name": "ProgressStyleModel",
      "state": {
       "description_width": "initial"
      }
     },
     "f3f4d3e5e9024428925ce54ae0d342b5": {
      "model_module": "@jupyter-widgets/base",
      "model_module_version": "1.2.0",
      "model_name": "LayoutModel",
      "state": {}
     },
     "f53cb749d76549b7af95b9c036db460a": {
      "model_module": "@jupyter-widgets/controls",
      "model_module_version": "1.5.0",
      "model_name": "HTMLModel",
      "state": {
       "layout": "IPY_MODEL_d9ce3844a734484dbff8f4c565d906f3",
       "style": "IPY_MODEL_8009f5ef132b4d04917d8048c862b90b",
       "value": " 41/41 [09:11&lt;00:00, 13.44s/it]"
      }
     },
     "f57f715f8f14455bacc59b81caa4417f": {
      "model_module": "@jupyter-widgets/base",
      "model_module_version": "1.2.0",
      "model_name": "LayoutModel",
      "state": {}
     },
     "f669fc6159574a96a2185d8cee384688": {
      "model_module": "@jupyter-widgets/base",
      "model_module_version": "1.2.0",
      "model_name": "LayoutModel",
      "state": {}
     },
     "f687cc1f16574c9cb6da4541c2593d16": {
      "model_module": "@jupyter-widgets/controls",
      "model_module_version": "1.5.0",
      "model_name": "DescriptionStyleModel",
      "state": {
       "description_width": ""
      }
     },
     "f7336adddd534454a7f2aab283f9232b": {
      "model_module": "@jupyter-widgets/controls",
      "model_module_version": "1.5.0",
      "model_name": "HBoxModel",
      "state": {
       "children": [
        "IPY_MODEL_6c0be0a1300b453baba20fbd73c74593",
        "IPY_MODEL_445d9f73893542f2a4a1fb82530cf785"
       ],
       "layout": "IPY_MODEL_dced54aad8274e5f9235dc205039a85b"
      }
     },
     "f764eb250d584f8983cfc30fd5b06298": {
      "model_module": "@jupyter-widgets/base",
      "model_module_version": "1.2.0",
      "model_name": "LayoutModel",
      "state": {}
     },
     "f779ea4572154e54be61613055c699e1": {
      "model_module": "@jupyter-widgets/controls",
      "model_module_version": "1.5.0",
      "model_name": "IntProgressModel",
      "state": {
       "bar_style": "success",
       "description": "complete: 100%",
       "layout": "IPY_MODEL_20271a4af48f4a738bbe383193c3aead",
       "max": 31,
       "style": "IPY_MODEL_6fbc4196aa094517aa819eb0de88fa92",
       "value": 31
      }
     },
     "f87c61b5942640c2850438d93f1c6cb2": {
      "model_module": "@jupyter-widgets/controls",
      "model_module_version": "1.5.0",
      "model_name": "ProgressStyleModel",
      "state": {
       "description_width": "initial"
      }
     },
     "fa3c19243e854e20b185bedb1dd1ba8d": {
      "model_module": "@jupyter-widgets/controls",
      "model_module_version": "1.5.0",
      "model_name": "DescriptionStyleModel",
      "state": {
       "description_width": ""
      }
     },
     "fab276b1443d431d8ab0ad032352befd": {
      "model_module": "@jupyter-widgets/controls",
      "model_module_version": "1.5.0",
      "model_name": "DescriptionStyleModel",
      "state": {
       "description_width": ""
      }
     },
     "fadc6e2e06184b4d8d77df63bc8b2737": {
      "model_module": "@jupyter-widgets/base",
      "model_module_version": "1.2.0",
      "model_name": "LayoutModel",
      "state": {}
     },
     "fbfb53aeffc340d596436a168466c394": {
      "model_module": "@jupyter-widgets/controls",
      "model_module_version": "1.5.0",
      "model_name": "IntProgressModel",
      "state": {
       "bar_style": "success",
       "description": "Method: 100%",
       "layout": "IPY_MODEL_2e776ecfe0d64623991fdab9fb95d7b0",
       "max": 3,
       "style": "IPY_MODEL_e5dab9df804b48e08fcbd747050dfcb6",
       "value": 3
      }
     },
     "fc50aba37998439aba22caf44eb976d9": {
      "model_module": "@jupyter-widgets/base",
      "model_module_version": "1.2.0",
      "model_name": "LayoutModel",
      "state": {}
     },
     "fca32a9767f940c995786ed333b2e808": {
      "model_module": "@jupyter-widgets/base",
      "model_module_version": "1.2.0",
      "model_name": "LayoutModel",
      "state": {}
     },
     "fca4462811334ffc820955013e48aad8": {
      "model_module": "@jupyter-widgets/base",
      "model_module_version": "1.2.0",
      "model_name": "LayoutModel",
      "state": {}
     },
     "fd2b88bf40a147089c8adb085d893234": {
      "model_module": "@jupyter-widgets/controls",
      "model_module_version": "1.5.0",
      "model_name": "IntProgressModel",
      "state": {
       "bar_style": "success",
       "description": "average: 100%",
       "layout": "IPY_MODEL_365fb086f43a448db99e68f4d22509fc",
       "max": 41,
       "style": "IPY_MODEL_7c9b9209f9c04ae9bd914b02de1d1aa6",
       "value": 41
      }
     },
     "fdeab6e69cd849dc8d668d8dae98fd1c": {
      "model_module": "@jupyter-widgets/base",
      "model_module_version": "1.2.0",
      "model_name": "LayoutModel",
      "state": {}
     },
     "fe2c83a3ec6d4c348676d2a4fa228405": {
      "model_module": "@jupyter-widgets/controls",
      "model_module_version": "1.5.0",
      "model_name": "HTMLModel",
      "state": {
       "layout": "IPY_MODEL_fe9f4fa6f5a046b9bf0d200b6125313a",
       "style": "IPY_MODEL_d4a755f130d44bec80daccc53f1df409",
       "value": " 31/31 [13:31&lt;00:00, 26.18s/it]"
      }
     },
     "fe35bf66843a464db8470dae8ecbb5cd": {
      "model_module": "@jupyter-widgets/controls",
      "model_module_version": "1.5.0",
      "model_name": "IntProgressModel",
      "state": {
       "bar_style": "success",
       "description": "Method: 100%",
       "layout": "IPY_MODEL_9baab16ffcf84e25be8b546c510b930b",
       "max": 3,
       "style": "IPY_MODEL_bae3c8e1d97a4dbda9a69d29f7ce285f",
       "value": 3
      }
     },
     "fe41c32a6e664fc4a35a2ac845f5d18b": {
      "model_module": "@jupyter-widgets/controls",
      "model_module_version": "1.5.0",
      "model_name": "ProgressStyleModel",
      "state": {
       "description_width": "initial"
      }
     },
     "fe8089c833e44fc98d093b7b53a58058": {
      "model_module": "@jupyter-widgets/controls",
      "model_module_version": "1.5.0",
      "model_name": "HTMLModel",
      "state": {
       "layout": "IPY_MODEL_e2ba9f9ec88747b881aaf2cf1a0f15f3",
       "style": "IPY_MODEL_aaa9d32961da46398867065fe5380928",
       "value": " 3/3 [3:35:19&lt;00:00, 4306.39s/it]"
      }
     },
     "fe89c6b016c247de90a879fd13afa6e1": {
      "model_module": "@jupyter-widgets/base",
      "model_module_version": "1.2.0",
      "model_name": "LayoutModel",
      "state": {}
     },
     "fe9f4fa6f5a046b9bf0d200b6125313a": {
      "model_module": "@jupyter-widgets/base",
      "model_module_version": "1.2.0",
      "model_name": "LayoutModel",
      "state": {}
     },
     "fec83781d3b94448b44ef66ad845aded": {
      "model_module": "@jupyter-widgets/base",
      "model_module_version": "1.2.0",
      "model_name": "LayoutModel",
      "state": {}
     },
     "fedb930b8dd84e29b7090482d546e0c8": {
      "model_module": "@jupyter-widgets/controls",
      "model_module_version": "1.5.0",
      "model_name": "HTMLModel",
      "state": {
       "layout": "IPY_MODEL_3e2d4185a02c40049d53ecaed4d6758e",
       "style": "IPY_MODEL_23da56aa63f24de2a01f0ca00f1cc677",
       "value": " 3/3 [00:06&lt;00:00,  2.20s/it]"
      }
     },
     "ff38df05d80e4871b9eb62e51a88c6d1": {
      "model_module": "@jupyter-widgets/controls",
      "model_module_version": "1.5.0",
      "model_name": "HBoxModel",
      "state": {
       "children": [
        "IPY_MODEL_121be5dcc1b14a8982a0657871974a68",
        "IPY_MODEL_9f99750804c84957ba395e7f34feabf5"
       ],
       "layout": "IPY_MODEL_0a9c332e97134750b564399a2881bd8d"
      }
     },
     "ff3a357e4515481d9dd86665af05bea9": {
      "model_module": "@jupyter-widgets/controls",
      "model_module_version": "1.5.0",
      "model_name": "IntProgressModel",
      "state": {
       "bar_style": "success",
       "description": "complete: 100%",
       "layout": "IPY_MODEL_2246a15293d84f7ab623ffa9a20eb408",
       "max": 49,
       "style": "IPY_MODEL_9d051382907b4f7a808ab2714dfb4fe1",
       "value": 49
      }
     },
     "ff70736b0c5241eea642ce91c631d7ec": {
      "model_module": "@jupyter-widgets/controls",
      "model_module_version": "1.5.0",
      "model_name": "HBoxModel",
      "state": {
       "children": [
        "IPY_MODEL_dba338e7e336467eb5a48f36f41c4822",
        "IPY_MODEL_2dfb387f699046a3b7e7a78a3cd6c84d"
       ],
       "layout": "IPY_MODEL_271475d11b0344d08bb1d9d6a270c13f"
      }
     },
     "ffc9625e81d7460a80b97daba21472aa": {
      "model_module": "@jupyter-widgets/controls",
      "model_module_version": "1.5.0",
      "model_name": "DescriptionStyleModel",
      "state": {
       "description_width": ""
      }
     },
     "fff0bec86d3c42d9920edfd10968ae65": {
      "model_module": "@jupyter-widgets/controls",
      "model_module_version": "1.5.0",
      "model_name": "HTMLModel",
      "state": {
       "layout": "IPY_MODEL_2f0cfadd3c0c43199f97e85cfc346436",
       "style": "IPY_MODEL_53c82ef4e5aa499a8d7f676a1b5fa6a5",
       "value": " 31/31 [13:26&lt;00:00, 26.01s/it]"
      }
     }
    },
    "version_major": 2,
    "version_minor": 0
   }
  }
 },
 "nbformat": 4,
 "nbformat_minor": 2
}
