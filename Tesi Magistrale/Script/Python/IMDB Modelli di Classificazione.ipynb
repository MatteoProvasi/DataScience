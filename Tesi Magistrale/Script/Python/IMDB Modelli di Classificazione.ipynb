{
 "cells": [
  {
   "cell_type": "code",
   "execution_count": 1,
   "metadata": {},
   "outputs": [],
   "source": [
    "import numpy as np\n",
    "import pandas as pd\n",
    "import pickle\n",
    "import os\n",
    "import re\n",
    "import sklearn\n",
    "\n",
    "import matplotlib.colors\n",
    "import matplotlib.pyplot as plt\n",
    "\n",
    "from collections import Counter\n",
    "from gensim.models import KeyedVectors, Word2Vec\n",
    "from gensim.models.callbacks import CallbackAny2Vec\n",
    "from tqdm import tqdm\n",
    "\n",
    "from sklearn import model_selection, naive_bayes, metrics, ensemble\n",
    "from sklearn.feature_extraction.text import TfidfVectorizer\n",
    "from sklearn.metrics import classification_report, confusion_matrix, make_scorer, accuracy_score\n",
    "from sklearn.model_selection import train_test_split\n",
    "from sklearn.neural_network import MLPClassifier\n",
    "from iteration_utilities import deepflatten\n",
    "\n",
    "os.chdir('D:\\Scraping')"
   ]
  },
  {
   "cell_type": "code",
   "execution_count": 2,
   "metadata": {},
   "outputs": [
    {
     "ename": "ModuleNotFoundError",
     "evalue": "No module named 'imblearn'",
     "output_type": "error",
     "traceback": [
      "\u001b[1;31m---------------------------------------------------------------------------\u001b[0m",
      "\u001b[1;31mModuleNotFoundError\u001b[0m                       Traceback (most recent call last)",
      "\u001b[1;32m<ipython-input-2-1ade830bf099>\u001b[0m in \u001b[0;36m<module>\u001b[1;34m\u001b[0m\n\u001b[1;32m----> 1\u001b[1;33m \u001b[1;32mimport\u001b[0m \u001b[0mimblearn\u001b[0m\u001b[1;33m\u001b[0m\u001b[1;33m\u001b[0m\u001b[0m\n\u001b[0m\u001b[0;32m      2\u001b[0m \u001b[1;32mfrom\u001b[0m \u001b[0mimblearn\u001b[0m\u001b[1;33m.\u001b[0m\u001b[0mover_sampling\u001b[0m \u001b[1;32mimport\u001b[0m \u001b[0mSMOTE\u001b[0m\u001b[1;33m\u001b[0m\u001b[1;33m\u001b[0m\u001b[0m\n\u001b[0;32m      3\u001b[0m \u001b[0mprint\u001b[0m\u001b[1;33m(\u001b[0m\u001b[1;34m\"SMOTE\"\u001b[0m\u001b[1;33m,\u001b[0m \u001b[0mimblearn\u001b[0m\u001b[1;33m.\u001b[0m\u001b[0m__version__\u001b[0m\u001b[1;33m)\u001b[0m\u001b[1;33m\u001b[0m\u001b[1;33m\u001b[0m\u001b[0m\n\u001b[0;32m      4\u001b[0m \u001b[0msm\u001b[0m \u001b[1;33m=\u001b[0m \u001b[0mSMOTE\u001b[0m\u001b[1;33m(\u001b[0m\u001b[0mrandom_state\u001b[0m\u001b[1;33m=\u001b[0m\u001b[1;36m0\u001b[0m\u001b[1;33m,\u001b[0m \u001b[0mratio\u001b[0m\u001b[1;33m=\u001b[0m\u001b[1;36m1.0\u001b[0m\u001b[1;33m)\u001b[0m\u001b[1;33m\u001b[0m\u001b[1;33m\u001b[0m\u001b[0m\n",
      "\u001b[1;31mModuleNotFoundError\u001b[0m: No module named 'imblearn'"
     ]
    }
   ],
   "source": [
    "import imblearn\n",
    "from imblearn.over_sampling import SMOTE\n",
    "print(\"SMOTE\", imblearn.__version__)\n",
    "sm = SMOTE(random_state=0, ratio=1.0)"
   ]
  },
  {
   "cell_type": "markdown",
   "metadata": {},
   "source": [
    "<br></br>\n",
    "# [1. Assegnazione delle classi](#1)\n",
    "<br></br>\n",
    "## [1.1 Dataset](#1.1)"
   ]
  },
  {
   "cell_type": "markdown",
   "metadata": {},
   "source": [
    "<font size=3>\n",
    "    \n",
    "I dataset caricati per questo notebook sono:\n",
    "* `imdb_df4`: era l'ultimo creato nel notebook del pre-processing, al suo interno sono contenute le informazioni sul titolo del film, lo score e le recensioni già divide in frasi.\n",
    "* `diz_simiarity`: dizionario con i sinonimi ricavati tramite la matrice di similarità con l'approccio su `Wordnet`. Ad ogni parola, elemento chiave, corrisponde una lista si sinonimi, parole che avevano massima similarità con la chiave.\n",
    "* `w_pattern`: anch'esso ottenuto nel precedente notebook è una lista in cui al suo interno sono presenti i pattern (di parole) significativi identificati nelle frasi delle recensioni.\n",
    "* `labels_df simlified`: è il file `.csv` con le parole, la loro frequenza e il cluster di appartenenza. È stato modificato per fare in modo che le classi meno numerose siano raggruppate insieme ad altre.\n",
    "* `imdb_info`: ottenuto nel processo di scraping, contiene le informazioni sui film, la più importante è il nome degli attori."
   ]
  },
  {
   "cell_type": "code",
   "execution_count": 2,
   "metadata": {},
   "outputs": [
    {
     "name": "stdout",
     "output_type": "stream",
     "text": [
      "Wall time: 13 s\n"
     ]
    }
   ],
   "source": [
    "%%time\n",
    "# dataframe\n",
    "with open('imdb_df4', \"rb\") as input_file:\n",
    "    imdb_df = pickle.load(input_file)\n",
    "    \n",
    "with open(\"diz_similarity\", \"rb\") as input_file:\n",
    "    diz_similarity = pickle.load(input_file)\n",
    "    \n",
    "with open('w_pattern', \"rb\") as input_file:\n",
    "    words = pickle.load(input_file)\n",
    "\n",
    "labels = pd.read_csv('labels_df.csv', delimiter=\",\")\n",
    "info = pd.read_csv(\"imdb_info.csv\", delimiter=\"\\t\")"
   ]
  },
  {
   "cell_type": "code",
   "execution_count": 87,
   "metadata": {},
   "outputs": [],
   "source": [
    "labels = pd.read_csv('labels_df simplified.csv', delimiter=\";\")"
   ]
  },
  {
   "cell_type": "markdown",
   "metadata": {},
   "source": [
    "<font size=3>\n",
    "    \n",
    "Dal dataset delle etichette si aggiunge la lista di sinonimi alla rispettive parole tramite la funzione `map`."
   ]
  },
  {
   "cell_type": "code",
   "execution_count": 3,
   "metadata": {},
   "outputs": [
    {
     "data": {
      "text/html": [
       "<div>\n",
       "<style scoped>\n",
       "    .dataframe tbody tr th:only-of-type {\n",
       "        vertical-align: middle;\n",
       "    }\n",
       "\n",
       "    .dataframe tbody tr th {\n",
       "        vertical-align: top;\n",
       "    }\n",
       "\n",
       "    .dataframe thead th {\n",
       "        text-align: right;\n",
       "    }\n",
       "</style>\n",
       "<table border=\"1\" class=\"dataframe\">\n",
       "  <thead>\n",
       "    <tr style=\"text-align: right;\">\n",
       "      <th></th>\n",
       "      <th>Word</th>\n",
       "      <th>Label</th>\n",
       "      <th>Freq</th>\n",
       "      <th>Synonyms</th>\n",
       "    </tr>\n",
       "  </thead>\n",
       "  <tbody>\n",
       "    <tr>\n",
       "      <td>0</td>\n",
       "      <td>film</td>\n",
       "      <td>10</td>\n",
       "      <td>427813</td>\n",
       "      <td>[movie, pic]</td>\n",
       "    </tr>\n",
       "    <tr>\n",
       "      <td>1</td>\n",
       "      <td>story</td>\n",
       "      <td>8</td>\n",
       "      <td>189781</td>\n",
       "      <td>[narrative, tale, narration]</td>\n",
       "    </tr>\n",
       "    <tr>\n",
       "      <td>2</td>\n",
       "      <td>time</td>\n",
       "      <td>10</td>\n",
       "      <td>101632</td>\n",
       "      <td>[]</td>\n",
       "    </tr>\n",
       "    <tr>\n",
       "      <td>3</td>\n",
       "      <td>character</td>\n",
       "      <td>4</td>\n",
       "      <td>86915</td>\n",
       "      <td>[]</td>\n",
       "    </tr>\n",
       "    <tr>\n",
       "      <td>4</td>\n",
       "      <td>plot</td>\n",
       "      <td>4</td>\n",
       "      <td>71089</td>\n",
       "      <td>[]</td>\n",
       "    </tr>\n",
       "  </tbody>\n",
       "</table>\n",
       "</div>"
      ],
      "text/plain": [
       "        Word  Label    Freq                      Synonyms\n",
       "0       film     10  427813                  [movie, pic]\n",
       "1      story      8  189781  [narrative, tale, narration]\n",
       "2       time     10  101632                            []\n",
       "3  character      4   86915                            []\n",
       "4       plot      4   71089                            []"
      ]
     },
     "execution_count": 3,
     "metadata": {},
     "output_type": "execute_result"
    }
   ],
   "source": [
    "labels[\"Synonyms\"] = labels[\"Word\"].map(diz_similarity)\n",
    "\n",
    "labels.head()"
   ]
  },
  {
   "cell_type": "markdown",
   "metadata": {},
   "source": [
    "<font size=3>\n",
    "\n",
    "Da questo dataset sono creati due dizionari, `diz_cluster` e `diz_freq`: il primo avrà come chiave una delle parole più frequenti e come valore la classe di appartenenza, nel secondo la chiave c'è la stessa chiave e il valore è la frequenza. Questo stesso procedimento è realizzato inseriendo anche i sinonimi dove in questo caso la frequenza è assegnata in base alla parola di riferimento."
   ]
  },
  {
   "cell_type": "code",
   "execution_count": 4,
   "metadata": {},
   "outputs": [],
   "source": [
    "diz_cluster = {}\n",
    "diz_freq = {}\n",
    "for i in range(len(labels)):\n",
    "    \n",
    "    if labels[\"Word\"].iloc[i] not in diz_cluster.keys():\n",
    "        diz_cluster[labels[\"Word\"].iloc[i]] = labels[\"Label\"].iloc[i]\n",
    "        diz_freq[labels[\"Word\"].iloc[i]] = labels[\"Freq\"].iloc[i]\n",
    "        \n",
    "    if len(labels[\"Synonyms\"].iloc[i]) > 0:\n",
    "        for word in labels[\"Synonyms\"].iloc[i]:\n",
    "            if word not in diz_cluster.keys():\n",
    "                diz_cluster[word] = labels[\"Label\"].iloc[i]\n",
    "                diz_freq[word] = labels[\"Freq\"].iloc[i]"
   ]
  },
  {
   "cell_type": "markdown",
   "metadata": {},
   "source": [
    "<font size=3>\n",
    "    \n",
    "Per il dataset sulle informazioni degli attori è necessario effettuare un pre-processing in quanto salvando delle liste in un dataframe e il tutto come `.csv`, una volta caricati, gli elementi sono sempre considerati come stringhe e non come gli oggetti che erano realmente. Attraverso una regular expression della libreria `re` si ricrea una lista di attori per ogni film utilizzando la virgola come carattere separatore degli elementi e rimuovendo la punteggiatura. I risultati sono inseriti nel dizionario `diz_actor` in cui la chiave è il titolo del film e il valore una lista degli attori protagonisti."
   ]
  },
  {
   "cell_type": "code",
   "execution_count": 5,
   "metadata": {},
   "outputs": [],
   "source": [
    "diz_actor = {}\n",
    "for i in range(len(info)):\n",
    "    temp = list(info[\"Actor\"].iloc[i].split(\",\"))\n",
    "    actors = [re.sub(r'[^\\w\\s]', '', temp[i].strip(\" \")) for i in range(len(temp))]\n",
    "    title = (info[\"Title\"].iloc[i])\n",
    "    diz_actor[title] = actors"
   ]
  },
  {
   "cell_type": "markdown",
   "metadata": {},
   "source": [
    "<font size=3>\n",
    "    \n",
    "La colonna con i titoli dei film nel dataset delle recensioni viene trasformata in una lista. Sempre attraverso la funzione `map` si assegna ad ogni titolo la lista degli attori protagonisti (la funzione richiede che l'oggetto messo come argomento sia un dizionario)."
   ]
  },
  {
   "cell_type": "code",
   "execution_count": 6,
   "metadata": {},
   "outputs": [
    {
     "data": {
      "text/html": [
       "<div>\n",
       "<style scoped>\n",
       "    .dataframe tbody tr th:only-of-type {\n",
       "        vertical-align: middle;\n",
       "    }\n",
       "\n",
       "    .dataframe tbody tr th {\n",
       "        vertical-align: top;\n",
       "    }\n",
       "\n",
       "    .dataframe thead th {\n",
       "        text-align: right;\n",
       "    }\n",
       "</style>\n",
       "<table border=\"1\" class=\"dataframe\">\n",
       "  <thead>\n",
       "    <tr style=\"text-align: right;\">\n",
       "      <th></th>\n",
       "      <th>Title</th>\n",
       "      <th>Actors</th>\n",
       "    </tr>\n",
       "  </thead>\n",
       "  <tbody>\n",
       "    <tr>\n",
       "      <td>0</td>\n",
       "      <td>Le Mans '66 - La grande sfida (2019)</td>\n",
       "      <td>[Matt Damon, Christian Bale, Jon Bernthal, Cai...</td>\n",
       "    </tr>\n",
       "    <tr>\n",
       "      <td>1</td>\n",
       "      <td>Le Mans '66 - La grande sfida (2019)</td>\n",
       "      <td>[Matt Damon, Christian Bale, Jon Bernthal, Cai...</td>\n",
       "    </tr>\n",
       "    <tr>\n",
       "      <td>2</td>\n",
       "      <td>Le Mans '66 - La grande sfida (2019)</td>\n",
       "      <td>[Matt Damon, Christian Bale, Jon Bernthal, Cai...</td>\n",
       "    </tr>\n",
       "    <tr>\n",
       "      <td>3</td>\n",
       "      <td>Le Mans '66 - La grande sfida (2019)</td>\n",
       "      <td>[Matt Damon, Christian Bale, Jon Bernthal, Cai...</td>\n",
       "    </tr>\n",
       "    <tr>\n",
       "      <td>4</td>\n",
       "      <td>Le Mans '66 - La grande sfida (2019)</td>\n",
       "      <td>[Matt Damon, Christian Bale, Jon Bernthal, Cai...</td>\n",
       "    </tr>\n",
       "    <tr>\n",
       "      <td>...</td>\n",
       "      <td>...</td>\n",
       "      <td>...</td>\n",
       "    </tr>\n",
       "    <tr>\n",
       "      <td>784254</td>\n",
       "      <td>Il ritorno di Casanova (1992)</td>\n",
       "      <td>NaN</td>\n",
       "    </tr>\n",
       "    <tr>\n",
       "      <td>784255</td>\n",
       "      <td>Amici per la vita (1992)</td>\n",
       "      <td>[]</td>\n",
       "    </tr>\n",
       "    <tr>\n",
       "      <td>784256</td>\n",
       "      <td>Amici per la vita (1992)</td>\n",
       "      <td>[]</td>\n",
       "    </tr>\n",
       "    <tr>\n",
       "      <td>784257</td>\n",
       "      <td>Amici per la vita (1992)</td>\n",
       "      <td>[]</td>\n",
       "    </tr>\n",
       "    <tr>\n",
       "      <td>784258</td>\n",
       "      <td>Amici per la vita (1992)</td>\n",
       "      <td>[]</td>\n",
       "    </tr>\n",
       "  </tbody>\n",
       "</table>\n",
       "<p>784259 rows × 2 columns</p>\n",
       "</div>"
      ],
      "text/plain": [
       "                                       Title  \\\n",
       "0       Le Mans '66 - La grande sfida (2019)   \n",
       "1       Le Mans '66 - La grande sfida (2019)   \n",
       "2       Le Mans '66 - La grande sfida (2019)   \n",
       "3       Le Mans '66 - La grande sfida (2019)   \n",
       "4       Le Mans '66 - La grande sfida (2019)   \n",
       "...                                      ...   \n",
       "784254         Il ritorno di Casanova (1992)   \n",
       "784255              Amici per la vita (1992)   \n",
       "784256              Amici per la vita (1992)   \n",
       "784257              Amici per la vita (1992)   \n",
       "784258              Amici per la vita (1992)   \n",
       "\n",
       "                                                   Actors  \n",
       "0       [Matt Damon, Christian Bale, Jon Bernthal, Cai...  \n",
       "1       [Matt Damon, Christian Bale, Jon Bernthal, Cai...  \n",
       "2       [Matt Damon, Christian Bale, Jon Bernthal, Cai...  \n",
       "3       [Matt Damon, Christian Bale, Jon Bernthal, Cai...  \n",
       "4       [Matt Damon, Christian Bale, Jon Bernthal, Cai...  \n",
       "...                                                   ...  \n",
       "784254                                                NaN  \n",
       "784255                                                 []  \n",
       "784256                                                 []  \n",
       "784257                                                 []  \n",
       "784258                                                 []  \n",
       "\n",
       "[784259 rows x 2 columns]"
      ]
     },
     "execution_count": 6,
     "metadata": {},
     "output_type": "execute_result"
    }
   ],
   "source": [
    "df_title_list = list(imdb_df[\"Title\"])\n",
    "new_df = pd.DataFrame({\"Title\":df_title_list})\n",
    "new_df[\"Actors\"] = new_df[\"Title\"].map(diz_actor)\n",
    "new_df"
   ]
  },
  {
   "cell_type": "markdown",
   "metadata": {},
   "source": [
    "<br></br>\n",
    "## [1.2 Assegnazione](#1.2)"
   ]
  },
  {
   "cell_type": "markdown",
   "metadata": {},
   "source": [
    "<font size=3>\n",
    "    \n",
    "In questo passaggio verraano assegnate le etichette ad ogni pattern rilevante, tenendo presente non solo le informazioni ottenute tramite la cluster analysis, ma anche informazioni esterne ottenute in altri passaggi come il nome degli attori. La prima riga di codice è creare una lista con gli attori presenti in ogni film, ricavato nel passaggio precedente. Questa lista contiene dei duplicati in quanto il riferimento è la singola recensione e non un titolo univoco di film, ma mantenendo questo ordine è possibile far corrispondere questa lista a quella dei pattern rilevanti in quanto la lunghezza dei due oggetti è la stessa, $784259$ elementi, la lunghezza del dataframe originale creato mediante scraping."
   ]
  },
  {
   "cell_type": "code",
   "execution_count": 7,
   "metadata": {},
   "outputs": [],
   "source": [
    "actors_list = list(new_df[\"Actors\"])"
   ]
  },
  {
   "cell_type": "markdown",
   "metadata": {},
   "source": [
    "<font size=3>\n",
    "    \n",
    "La seguente funzione di effettuare l'assegnazione. I passaggi sono:\n",
    "* Creazione di una lista in cui saranno salvate le classi assegnate, `category_list`. Si itera all'interno della lista dei pattern:\n",
    "    * In ogni elemento è presente una lista con i pattern rilevanti di ogni frase. Sono create delle liste temporanee dove saranno salvate le etichette e delle variabili di controllo, `check` e `max_freq`.\n",
    "        * Si itera all'interno di ogni lista di pattern rilevanti di frasi in quanto è possibile che una singola frase abbia più pattern rilevanti al suo interno, dunque più elementi e quindi la lista era il formato più comodo per salvare questa informazione. \n",
    "        * Se la lunghezza del topic non è nulla, quindi esiste almeno un pattern rilevante per quella frase, si controlla se nella lista degli attori di quel film (ricavabile tramite l'indice della recensione), almeno uno compare nel testo. In caso positivo lo si segnala con una variabile, `actor_value`, altrimenti si procede,\n",
    "        * Per ogni parola nel pattern rilevanti si controlla quale sia l'eventuale cluster di appartenenza, in caso di assenza fra i termini più comuni si assegna il valore $-1$. Si controlla anche la frequenza delle parole di cui viene presa la minima e la classe di riferimento.\n",
    "        * Ci crea una lista escludendo i valori negativi delle parole non trovate e si effettua un conteggio delle etichette più frequenti:\n",
    "            * Se la classe più numerosa è unica e non ci sono attori nel pattern, tutto quel pattern avrà come etichetta quello della classe più comune.\n",
    "            * Se ci sono più classi con la stessa frequenza si premia quella della parola con la frequenza minore (più rara), in modo da non sfavorire i termini meno comuni.\n",
    "            * Se è presente almeno un attore nel pattern, il pattern è contrassegnato con una nuova etichetta che rappresenta la classe degli attori.\n",
    "\n",
    "I risultati sono salvati in una lista per ogni frase e in un'altra lista per ogni recensione. Il risultato finale sarà una lista con tanti elementi quante erano le recensioni originarie e all'interno di ogni elemento una lista con la classe relativa al pattern identificato."
   ]
  },
  {
   "cell_type": "code",
   "execution_count": 9,
   "metadata": {},
   "outputs": [
    {
     "name": "stderr",
     "output_type": "stream",
     "text": [
      "[nltk_data] Downloading package stopwords to\n",
      "[nltk_data]     C:\\Users\\Hp\\AppData\\Roaming\\nltk_data...\n",
      "[nltk_data]   Package stopwords is already up-to-date!\n"
     ]
    }
   ],
   "source": [
    "import nltk\n",
    "nltk.download('stopwords')\n",
    "from nltk.corpus import stopwords\n",
    "stop = set(stopwords.words('english'))"
   ]
  },
  {
   "cell_type": "code",
   "execution_count": 10,
   "metadata": {
    "scrolled": true
   },
   "outputs": [
    {
     "name": "stderr",
     "output_type": "stream",
     "text": [
      "100%|████████████████████████████████████████████████████████████████████████| 784259/784259 [02:25<00:00, 5392.46it/s]\n"
     ]
    }
   ],
   "source": [
    "category_list = []\n",
    "temp = []\n",
    "for k in tqdm(range(len(words))): # si itera per ogni recensione\n",
    "    sentence_list = []\n",
    "    \n",
    "    for sentence in words[k]: # si itera per ogni frase nella recensione\n",
    "        temp_list = []\n",
    "        temp_list2 = []\n",
    "        check = -1\n",
    "        max_freq = 1000000\n",
    "        \n",
    "        for topic in sentence: # si itera per ogni pattern rilevante nella recensione\n",
    "            actor_value = 0\n",
    "            fict_value = 0\n",
    "            dir_value = 0\n",
    "            writer_value = 0\n",
    "            \n",
    "            # si controlla se la lunghezza è nulla o ci siano nomi di attori\n",
    "            if len(topic) == 0:\n",
    "                temp_list2.append('')\n",
    "                break\n",
    "            if (type(actors_list[k]) == list) and (len(actors_list[k]) > 0):\n",
    "                for actor in actors_list[k]:\n",
    "                    if actor in topic and len(actor) > 2:\n",
    "                        actor_value = 1\n",
    "\n",
    "            # si itera per ogni parola nel pattern rilevante per identificarne l'appartenenza ad un cluster            \n",
    "            w = topic.split(\" \")\n",
    "            for z in range(len(w)):\n",
    "                category = 100\n",
    "                if w[z].lower() in diz_cluster.keys() and w[z] not in stop:\n",
    "                    category = diz_cluster[w[z].lower()]\n",
    "                    freq = diz_freq[w[z].lower()]\n",
    "                    if freq < max_freq:\n",
    "                        max_freq = freq\n",
    "                        check = category\n",
    "                    if z > 0:\n",
    "                        if (type(actors_list[k]) == list) and (len(actors_list[k]) > 0):\n",
    "                            for actor in actors_list[k]:\n",
    "                                if len(actor) > 2 and w[z] in actor:\n",
    "                                    actor_value = 1\n",
    "                \n",
    "                temp_list.append(category)\n",
    "                \n",
    "            # si assegna al pattern la classe più frequente nelle sue parole\n",
    "            temp_list = [el for el in temp_list if el != 100]\n",
    "            mc = Counter(temp_list).most_common()\n",
    "            if len(mc) > 1 and (actor_value == 0):\n",
    "                if mc[0][1] != mc[1][1]:\n",
    "                    temp_list2.append(mc[0][0])\n",
    "                else:\n",
    "                    for i in range(len(mc)):\n",
    "                        if check != 100:\n",
    "                            if mc[i][0] == check:\n",
    "                                temp_list2.append(mc[i][0])\n",
    "                                break\n",
    "                        else:\n",
    "                            temp_list2.append(mc[0][0])\n",
    "                            break\n",
    "\n",
    "            elif len(mc) == 1:\n",
    "                temp_list2.append(mc[0][0])\n",
    "                \n",
    "            elif len(mc) == 0 and (actor_value == 0):\n",
    "                temp_list2.append(-1)\n",
    "\n",
    "            elif actor_value == 1:\n",
    "                temp_list2.append(100)\n",
    " \n",
    "        sentence_list.append(temp_list2)\n",
    "    category_list.append(sentence_list)"
   ]
  },
  {
   "cell_type": "markdown",
   "metadata": {},
   "source": [
    "<font size=3>\n",
    "    \n",
    "I pattern con etichetta $-1$ sono stati considerati, rappresentano un nuovo cluster in cui non sono presenti dei termini molto frequenti e saranno la classe degli elementi generali. Sono però rimossi gli elementi nulli, ovvero quelli relativi a quelle frasi dove non è stato riscontrato nessun pattern rilevante, questo viene realizzato sia per le etichette che per le parole."
   ]
  },
  {
   "cell_type": "code",
   "execution_count": 11,
   "metadata": {},
   "outputs": [
    {
     "name": "stdout",
     "output_type": "stream",
     "text": [
      "14149712 14149712\n",
      "Wall time: 34.9 s\n"
     ]
    }
   ],
   "source": [
    "%%time\n",
    "test = [el for el in list(deepflatten(category_list, depth=2)) if el != '']\n",
    "test2 = [el for el in list(deepflatten(words, depth=2)) if el != '']\n",
    "print(len(test), len(test2))"
   ]
  },
  {
   "cell_type": "markdown",
   "metadata": {},
   "source": [
    "<font size=3>\n",
    "    \n",
    "Da queste liste si crea un dataset dove la colonna `Topic` rappresenta il pattern di interesse e la colonna `Label` la classe di riferimento."
   ]
  },
  {
   "cell_type": "code",
   "execution_count": 12,
   "metadata": {
    "scrolled": true
   },
   "outputs": [
    {
     "data": {
      "text/html": [
       "<div>\n",
       "<style scoped>\n",
       "    .dataframe tbody tr th:only-of-type {\n",
       "        vertical-align: middle;\n",
       "    }\n",
       "\n",
       "    .dataframe tbody tr th {\n",
       "        vertical-align: top;\n",
       "    }\n",
       "\n",
       "    .dataframe thead th {\n",
       "        text-align: right;\n",
       "    }\n",
       "</style>\n",
       "<table border=\"1\" class=\"dataframe\">\n",
       "  <thead>\n",
       "    <tr style=\"text-align: right;\">\n",
       "      <th></th>\n",
       "      <th>Topic</th>\n",
       "      <th>Label</th>\n",
       "    </tr>\n",
       "  </thead>\n",
       "  <tbody>\n",
       "    <tr>\n",
       "      <td>0</td>\n",
       "      <td>Amazing chemistry</td>\n",
       "      <td>4</td>\n",
       "    </tr>\n",
       "    <tr>\n",
       "      <td>1</td>\n",
       "      <td>seamless CGI</td>\n",
       "      <td>4</td>\n",
       "    </tr>\n",
       "    <tr>\n",
       "      <td>2</td>\n",
       "      <td>practical effects</td>\n",
       "      <td>4</td>\n",
       "    </tr>\n",
       "    <tr>\n",
       "      <td>3</td>\n",
       "      <td>film a firecracker script a true</td>\n",
       "      <td>4</td>\n",
       "    </tr>\n",
       "    <tr>\n",
       "      <td>4</td>\n",
       "      <td>story pulse pounding soundtrack booming</td>\n",
       "      <td>8</td>\n",
       "    </tr>\n",
       "  </tbody>\n",
       "</table>\n",
       "</div>"
      ],
      "text/plain": [
       "                                     Topic  Label\n",
       "0                        Amazing chemistry      4\n",
       "1                             seamless CGI      4\n",
       "2                        practical effects      4\n",
       "3         film a firecracker script a true      4\n",
       "4  story pulse pounding soundtrack booming      8"
      ]
     },
     "execution_count": 12,
     "metadata": {},
     "output_type": "execute_result"
    }
   ],
   "source": [
    "t = pd.DataFrame({\"Topic\":test2, \"Label\":test})\n",
    "t.head()"
   ]
  },
  {
   "cell_type": "code",
   "execution_count": 13,
   "metadata": {},
   "outputs": [
    {
     "data": {
      "text/plain": [
       "[(10, 3054097),\n",
       " (-1, 2639727),\n",
       " (6, 1809667),\n",
       " (0, 1554947),\n",
       " (4, 1443049),\n",
       " (8, 1185345),\n",
       " (1, 634368),\n",
       " (9, 490627),\n",
       " (11, 448842),\n",
       " (3, 381970),\n",
       " (100, 266505),\n",
       " (7, 125702),\n",
       " (2, 76339),\n",
       " (5, 38527)]"
      ]
     },
     "execution_count": 13,
     "metadata": {},
     "output_type": "execute_result"
    }
   ],
   "source": [
    "Counter(t[\"Label\"]).most_common()"
   ]
  },
  {
   "cell_type": "code",
   "execution_count": 23,
   "metadata": {},
   "outputs": [],
   "source": [
    "with open(\"pattern_labels\", \"wb\") as output_file:\n",
    "    pickle.dump(t, output_file)"
   ]
  },
  {
   "cell_type": "markdown",
   "metadata": {},
   "source": [
    "<br></br>\n",
    "<br></br>\n",
    "# [2. Modelli di classificazione](#2)"
   ]
  },
  {
   "cell_type": "markdown",
   "metadata": {},
   "source": [
    "<font size=3>\n",
    "    \n",
    "Tramite la funzione `train_test_split` di `sklearn` si ricavano il train e il test del dataset. Nelle variabili il cui nome inizia per \"<b>X</b>\" sono presenti i pattern di train e di test, nella variabili che iniziano per \"<b>y</b>\" le etichette di train e di test. Per replicare i risultati e confrontare diveri modelli viene impostato un random seed e la tecnica per scegliere quali osservazioni rientrano nel test o nel train segue l'approccio di stratificazione, ovvero le proporzioni di etichette presenti nel dataset completo si rispecchieranno anche all'interno del train e del test. Non specificando la dimensione del train e del test si applicano i valori di default $70\\%$ e $30\\%$.\n",
    "\n",
    "Per applicare una corretta classificazione è necessario trasformare il testo in un oggetto che sia comprensibile ai modelli. La soluzione per cui si è optato è quella del <b>TF-IDF</b> (<i>Term frequency - Inverse document frequency</i>), una metrica che esprime l'importanza di termine in un documento relativamente ad un corpus di documenti. La funzione è composta da due parti: una è la frequenza del termine e l'altra è la frequenza inversa all'interno dei documenti. Lo scopo di questa metrica è premiare le parole frequenti globalmente nel corpus ma presenti in pochi documenti. Esistono diversi metodi per calcolare questa metrica, in `sklearn` la formula utilizzata per il <b>TF-IDF</b> dato un termine $t$ e un documento $d$ è:\n",
    "$$ TFIDF_{(t,d)} = tf{(t,d)} \\times idf{(t)} $$\n",
    "\n",
    "Dove $tf{(t,d)}$ è il numero di volte che compare il termine $t$ nel documento $d$ e l'altra quantità è pari a: $idf{(t)} = log{\\frac{n}{df(t)}}$ con $n$ il numero totale di documenti.\n",
    "\n",
    "Il primo step è inizializzare questa funzione mediante `TfidfVectorizer` i parametri che riceve in ingresso sono:\n",
    "* `analyzer`: la tipologia utilizzata per analizzare il testo, in questo caso si seleziona a livello di parola ma è possibile analizzare anche n-grammi.\n",
    "* `token_pattern`: espressione regolare per definire cosa sia un token. In questo caso a tutte le parole sono rimossi gli elementi di punteggiatura o alfanumerici `\\w` di lunghezza pari a uno o superiore `{1,}`.\n",
    "* `max_features`: il numero di termini da considerare, nel caso ci siano più termini di quelli massimi, si selezionano i più frequenti. Effettuare una analisi con termini rari, anche se si lavoro con una metrica particolare, i risultati possono risentirne in alcuni casi, fissando un limite ragionevole si possono ottenere delle discrete performance.\n",
    "\n",
    "Il secondo passaggio è quello di centrare/normalizzare i dati togliendo una media comune $\\mu$ e dividendo per una variazione $\\sigma$. Questi passaggi sono possibili mediante la funzione `fit_transform` che può essere applicata direttamente alla funzione TF-IDF mettendo come input il vettore dei pattern di train. Per i dati di test i valori con cui sono centrati i dati devono essere gli stessi, non si deve riapplicare l'intera funzione ma è sufficiente il metodo `transform`. La funzione `fit_transform` unisce sia la funzione `fit` per salvare i due parametri e `transform` per applicare la trasformazione, richiamando solo il secondo la trasformazione viene realizzata correttamente in quanto i valori sono già stati creati e salvati da `fit_transform` sul train."
   ]
  },
  {
   "cell_type": "code",
   "execution_count": 14,
   "metadata": {},
   "outputs": [],
   "source": [
    "X_train, X_test, y_train, y_test = train_test_split(t[\"Topic\"], t[\"Label\"], stratify = t[\"Label\"], random_state = 0)\n",
    "tfidf_vect = TfidfVectorizer(analyzer='word', token_pattern=r'\\w{1,}', max_features=200000, ngram_range=(1,2))\n",
    "xtrain_tfidf =  tfidf_vect.fit_transform(X_train)\n",
    "xtest_tfidf =  tfidf_vect.transform(X_test)"
   ]
  },
  {
   "cell_type": "markdown",
   "metadata": {},
   "source": [
    "<font size=3>\n",
    "    \n",
    "Per la matrice di errata classificatione viene definita una nuova scala di colori, totalmente incentrata sul rosso. Come primo passaggio si definisce il range di valori, $[-1,1]$, successivamente una lista di tonalità in corrispondenza di un valore all'interno del range. Con la funzione `LinearSegmentedColormap.from_list` è possibile ridefinire un colore in base ad una lista di valori creati dall'utente. In questo caso si crea un nuovo oggetto che non sostituisce nessuno già esistente ma che presenta la nuova scala di valori."
   ]
  },
  {
   "cell_type": "code",
   "execution_count": 15,
   "metadata": {},
   "outputs": [],
   "source": [
    "norm = matplotlib.colors.Normalize(-1,1)\n",
    "colors = [[norm(-1.0), \"lightyellow\"],\n",
    "          [norm(-0.95), \"antiquewhite\"],\n",
    "          [norm(-0.8), \"wheat\"],\n",
    "          [norm(-0.3), \"navajowhite\"],\n",
    "          [norm( 0.3), \"orange\"],\n",
    "          [norm( 0.8), \"tomato\"],\n",
    "          [norm( 0.9), \"red\"],\n",
    "          [norm( 1.0), \"darkred\"]]\n",
    "\n",
    "cmap = matplotlib.colors.LinearSegmentedColormap.from_list(\"\", colors)"
   ]
  },
  {
   "cell_type": "markdown",
   "metadata": {},
   "source": [
    "<font size=3>\n",
    "\n",
    "La funzione `train_model` permette di applicare un metodo di classificazione e di visualizzarne i risultati. I parametri in input sono:\n",
    "* `classifier`: un metodo di classificatione.\n",
    "* `feature_vector_train`: un vettore con i dati di train.\n",
    "* `label`: un vettore con le etichette relative alle osservazioni del train.\n",
    "* `feature_vector_valid`: un vettore con i dati di test.\n",
    "* `method`: stringa con il nome del metodo, serve solamente per il print dei risultati.\n",
    "\n",
    "In questa funzione il classificatore prende in input il vettore dei dati e delle etichette di test e lo si allena con la funzione `fit`. A questo classificatore addestrato viene applicata la funzione `predict` che restituisce come output un vettore di etichette relative al vettore di test dato in input.\n",
    "\n",
    "Si stampa il report di classificazione comparando il vettore delle etichette di test e il vettore delle etichette prodotto dal modello. Da esso si ricava anche la matrice di confusione.\n",
    "\n",
    "Per la visualizzazione della matrice si utilizza `matplotlib` per creare l'oggetto e la matrice viene scalata in base ai valori di riga, in modo tale da visualizzare le percentuali e non il numero totale di osservazioni, così facendo la scala di colori definita in precedenza sarà coerente con la proporzione di osservazioni all'interno di ogni cella e non sul numero totale (che non è indicativo delle performance in quanto le classi non sono bilanciate e celle più numerose non corrispondono necessariamente a classificazioni migliori). Si ricava infine il valore di accuratezza che è messo come output della funzione."
   ]
  },
  {
   "cell_type": "code",
   "execution_count": 16,
   "metadata": {},
   "outputs": [],
   "source": [
    "def train_model(classifier, feature_vector_train, label, feature_vector_valid, method):\n",
    "    \n",
    "    # train classification\n",
    "    classifier.fit(feature_vector_train, label)\n",
    "    \n",
    "    # prediction on test\n",
    "    predictions = classifier.predict(feature_vector_valid)\n",
    "    \n",
    "    # report\n",
    "    print(classification_report(y_test, predictions))\n",
    "    \n",
    "    # confusion matrix\n",
    "    cm = confusion_matrix(predictions, y_test)\n",
    "    print(cm)\n",
    "    cm = cm.astype('float') / cm.sum(axis=1)[:, np.newaxis]\n",
    "    \n",
    "    fig = plt.figure(figsize = (8, 8))\n",
    "    ax = fig.add_subplot(111)\n",
    "    cax = ax.matshow(cm, cmap=cmap)\n",
    "    fig.colorbar(cax)\n",
    "\n",
    "    plt.title('Confusion matrix of ' + method, pad=40)\n",
    "    #ax.set_xticklabels([''] + shortfilename, rotation=45)\n",
    "    #ax.set_yticklabels([''] + shortfilename)\n",
    "    plt.xlabel('Predicted')\n",
    "    plt.ylabel('True')\n",
    "    plt.show()\n",
    "    \n",
    "    return metrics.accuracy_score(predictions, y_test)"
   ]
  },
  {
   "cell_type": "markdown",
   "metadata": {},
   "source": [
    "<br></br>\n",
    "## [2.1 Naive Bayes](#2.1)"
   ]
  },
  {
   "cell_type": "markdown",
   "metadata": {},
   "source": [
    "<font size=3>\n",
    "    \n",
    "Utilizza il teorema di Bayes per stimare le probabilità di appartenenza di un'osservazione ad una determinata classe; è uno dei metodi più utilizzati nella classificazione di testi ed è spesso utilizzato con dei dati rappresentati da un vettore TF-IDF. Per ogni classe $y$ il modello crea un vettore $\\theta_y = (\\theta_{y1}, \\theta_{y2}, \\dots, \\theta_{yn})$ in cui ogni singolo elemento rappresenta la probabilità $P(x_i|y)$ di appartenenza di quel termine alla classe $y$; il vettore ha lunghezza $n$ come il numero di termini dati in input.\n",
    "\n",
    "I valori di probabilità sono stimati mediante una funzione di massima verosimiglianza incentrata sulle frequenze:\n",
    "\n",
    "$$ \\hat{\\theta}_{yi} = \\frac{N_{yi} + \\alpha}{N_y + \\alpha n}$$\n",
    "\n",
    "Dove $N_{yi} = \\sum_{x \\in T}{x_i}$ è il numero di volte che un termine compare in un campione della classe $y$ nel training set $T$ e $N_y = \\sum_{i=1}^{n}{N_{yi}}$ è il numero totale di termini nella classe $y$.\n",
    "\n",
    "Il valore $\\alpha$ è chiamato fattore di smoothing e di default è pari a $1$; serve per gestire i casi in cui nel test set si trovino dei termini non presenti nel train evitando problemi di calcolo o l'assegnazione diretta di probabilità nulle."
   ]
  },
  {
   "cell_type": "code",
   "execution_count": 17,
   "metadata": {},
   "outputs": [
    {
     "name": "stdout",
     "output_type": "stream",
     "text": [
      "              precision    recall  f1-score   support\n",
      "\n",
      "          -1       0.59      0.83      0.69    659932\n",
      "           0       0.71      0.64      0.68    388737\n",
      "           1       0.70      0.63      0.66    158592\n",
      "           2       0.69      0.57      0.62     19085\n",
      "           3       0.72      0.62      0.67     95492\n",
      "           4       0.74      0.64      0.69    360762\n",
      "           5       0.69      0.55      0.61      9632\n",
      "           6       0.70      0.66      0.68    452417\n",
      "           7       0.71      0.57      0.63     31426\n",
      "           8       0.72      0.65      0.68    296336\n",
      "           9       0.68      0.60      0.63    122657\n",
      "          10       0.78      0.69      0.73    763524\n",
      "          11       0.69      0.61      0.65    112210\n",
      "         100       0.38      0.49      0.43     66626\n",
      "\n",
      "    accuracy                           0.68   3537428\n",
      "   macro avg       0.68      0.62      0.65   3537428\n",
      "weighted avg       0.70      0.68      0.68   3537428\n",
      "\n",
      "[[550198  51813  22622   2500  12170  46397   1462  59183   4332  41219\n",
      "   19063 102992  15341   7445]\n",
      " [ 11090 249918   4807    922   3543  13967    479  17106   1403  10130\n",
      "    4545  25102   3787   2808]\n",
      " [  3044   5381  99458    326   1425   5023    167   6598    542   3987\n",
      "    1749   9643   1669   3479]\n",
      " [   260    733    203  10921    158    538     58    786     58    448\n",
      "     202   1220    143    140]\n",
      " [   710   3167   1091    209  59178   2760     86   3600    290   2368\n",
      "     950   5741    851    709]\n",
      " [  6337  12845   4482    638   3086 232637    342  13088   1142   8411\n",
      "    3426  20909   3045   2413]\n",
      " [   124    294     64    109     69    264   5293    396     47    206\n",
      "     122    495     88     92]\n",
      " [ 25539  16472   6625    991   3829  14782    507 298098   1984  10618\n",
      "    6386  29194   5109   8690]\n",
      " [   424   1009    276     69    151    770     17   1188  17761    581\n",
      "     286   1924    240    448]\n",
      " [  7041  11828   3863    599   2696  10163    339  10889    902 192477\n",
      "    3134  18631   3143   1391]\n",
      " [  2824   4382   1516    246   1339   4020    150   5909    466   3227\n",
      "   72994   8102   1585   1170]\n",
      " [ 23966  24064  10354   1213   6058  22622    554  25688   1741  17694\n",
      "    6682 524106   7403   4048]\n",
      " [  2343   3948   1588    252    917   3506    115   5061    505   2712\n",
      "    1423   7344  68825   1315]\n",
      " [ 26032   2883   1643     90    873   3313     63   4827    253   2258\n",
      "    1695   8121    981  32478]]\n"
     ]
    },
    {
     "data": {
      "image/png": "[encoded data removed]",
      "text/plain": [
       "<Figure size 576x576 with 2 Axes>"
      ]
     },
     "metadata": {
      "needs_background": "light"
     },
     "output_type": "display_data"
    },
    {
     "name": "stdout",
     "output_type": "stream",
     "text": [
      "NB, WordLevel TF-IDF:  0.6825133967390997\n",
      "Wall time: 14.7 s\n"
     ]
    }
   ],
   "source": [
    "%%time\n",
    "accuracy = train_model(naive_bayes.ComplementNB(), xtrain_tfidf, y_train, xtest_tfidf, \"Naive Bayes\")\n",
    "print (\"NB, WordLevel TF-IDF: \", accuracy)"
   ]
  },
  {
   "cell_type": "markdown",
   "metadata": {},
   "source": [
    "<font size=3>\n",
    "    \n",
    "La regressione logistica si basa sul modello logistico per ricavare la classificazione delle osservazioni in due o più classi. Gli step del classificatore sono:\n",
    "* I dati in input sono inseriti all'interno di un modello a cui sono associati dei pesi aggiornati iterazione per iterazione.\n",
    "* Gli output di questo modello sono passati ad una funzione di attivazione che scala i valori in modo tale che la loro somma sia unitaria.\n",
    "* Si applica una funzione di cross-entropia per valutare la distanza fra la classificazione effettuata dal modello e le reali classi dei dati.\n",
    "* In base ai valori ottenuti si aggiornano i pesi cercando di minimizzare una funzione di perdita. L'aggiornamento dei pesi procede fino a quando la perdita è nulla o la variazione fra un'iterazione e l'altra è eccessivamente ridotta.\n",
    "\n",
    "Gli input della funzione sono:\n",
    "* `penalty`: `sklearn` applica automaticamente una penalizzazione della funzione di perdita. Questa penalizzazione viene effettuata normalmente tramite una <i>ridge regression</i> per preferire modelli più semplici con lo scopo di ridurre l'overfitting. \n",
    "* `C`: Tutte le funzioni di penalizzazione prevedono un parametro $\\lambda$ dove più è alto, più i modelli complessi saranno penalizzati. Questo parametro rappresenta $\\frac{1}{\\lambda}$ che funziona al contrario, dunque più è alto, più l'influenza di $\\lambda$ sarà ridotta e i modelli complessi poco penalizzati.\n",
    "* `solver`: è il metodo utilizzato per minimizzare la funzione di perdita."
   ]
  },
  {
   "cell_type": "code",
   "execution_count": 18,
   "metadata": {
    "scrolled": false
   },
   "outputs": [
    {
     "name": "stdout",
     "output_type": "stream",
     "text": [
      "              precision    recall  f1-score   support\n",
      "\n",
      "          -1       0.59      0.98      0.74    659932\n",
      "           0       0.77      0.65      0.71    388737\n",
      "           1       0.76      0.64      0.69    158592\n",
      "           2       0.75      0.53      0.62     19085\n",
      "           3       0.77      0.62      0.68     95492\n",
      "           4       0.79      0.66      0.72    360762\n",
      "           5       0.76      0.50      0.61      9632\n",
      "           6       0.78      0.66      0.72    452417\n",
      "           7       0.77      0.56      0.65     31426\n",
      "           8       0.78      0.65      0.71    296336\n",
      "           9       0.74      0.59      0.66    122657\n",
      "          10       0.80      0.72      0.75    763524\n",
      "          11       0.75      0.62      0.68    112210\n",
      "         100       0.52      0.41      0.46     66626\n",
      "\n",
      "    accuracy                           0.72   3537428\n",
      "   macro avg       0.74      0.63      0.67   3537428\n",
      "weighted avg       0.74      0.72      0.72   3537428\n",
      "\n",
      "[[647450  59556  24788   2971  13993  52738   1735  69593   5119  46937\n",
      "   21970 113043  17518  14684]\n",
      " [   334 252882   4070    920   3131  11614    427  14314   1215   8710\n",
      "    3804  19331   3333   2500]\n",
      " [   114   4384 101579    288   1143   4159    139   5293    442   3291\n",
      "    1418   7440   1343   3303]\n",
      " [    16    563    154  10151    108    395     48    618     37    335\n",
      "     124    861    119     73]\n",
      " [     2   2668    879    196  58984   2321     88   3000    246   2038\n",
      "     793   4501    708    535]\n",
      " [   177  11286   3707    672   2814 238055    348  11347   1051   7552\n",
      "    3160  17298   2765   2319]\n",
      " [     0    220     34     77     45    185   4855    268     30    145\n",
      "      81    324     62     45]\n",
      " [   700  12918   4917    962   3296  11469    499 298214   1556   8581\n",
      "    4882  20650   4153   7109]\n",
      " [    11    794    208     56    123    620     16   1007  17537    451\n",
      "     216   1336    200    272]\n",
      " [    77   9805   3287    546   2353   8341    315   8999    818 193508\n",
      "    2703  14607   2636   1181]\n",
      " [    62   3559   1187    229    937   3229    132   4824    374   2623\n",
      "   72798   6019   1295    988]\n",
      " [  4091  24962  10398   1713   7177  22873    879  26765   2352  18593\n",
      "    8382 548436   7866   5336]\n",
      " [    73   3195   1279    223    776   2839     96   4050    397   2272\n",
      "    1158   5680  69314    977]\n",
      " [  6825   1945   2105     81    612   1924     55   4125    252   1300\n",
      "    1168   3998    898  27304]]\n"
     ]
    },
    {
     "data": {
      "image/png": "[encoded data removed]",
      "text/plain": [
       "<Figure size 576x576 with 2 Axes>"
      ]
     },
     "metadata": {
      "needs_background": "light"
     },
     "output_type": "display_data"
    },
    {
     "name": "stdout",
     "output_type": "stream",
     "text": [
      "LogisticRegression, WordLevel TF-IDF:  0.7183374474335591\n",
      "Wall time: 7min 24s\n"
     ]
    }
   ],
   "source": [
    "%%time\n",
    "from sklearn.linear_model import LogisticRegression\n",
    "accuracy = train_model(LogisticRegression(random_state=0, n_jobs=5, solver=\"sag\"), \n",
    "                       xtrain_tfidf, y_train, xtest_tfidf, \"LogRegression\")\n",
    "print (\"LogisticRegression, WordLevel TF-IDF: \", accuracy)"
   ]
  },
  {
   "cell_type": "markdown",
   "metadata": {},
   "source": [
    "<font size=3>\n",
    "    \n",
    "Il modulo `MLPClassifier` permette di creare delle reti neurali per la classificazione. Dato in input un layer dei dati, si applicano dei pesi lineari all'interno dei layer nascosti, fra un layer nascosto e il successivo si applica una funzione di attivazione non lineare. L'algoritmo procede fino a quando la funzione di perdita non si aggiorna di una quantità sufficiente. I parametri della funzione sono:\n",
    "* `solver`: algoritmo per l'ottimizzazione dei pesi.\n",
    "* `alpha`: come per il modello logistico, anche la rete neurale presenta una penalizzazione.\n",
    "* `hidden_layer_sizes`: si definiscono quanti neuroni e quanti layer nascosti devono esserci."
   ]
  },
  {
   "cell_type": "code",
   "execution_count": 27,
   "metadata": {},
   "outputs": [
    {
     "name": "stdout",
     "output_type": "stream",
     "text": [
      "              precision    recall  f1-score   support\n",
      "\n",
      "          -1       0.57      0.93      0.71    708277\n",
      "           0       0.60      0.54      0.57    340196\n",
      "           4       0.63      0.53      0.57    329013\n",
      "           6       0.60      0.55      0.57    366862\n",
      "           8       0.64      0.50      0.56    293703\n",
      "           9       0.50      0.48      0.49    100021\n",
      "          10       0.71      0.62      0.66    873930\n",
      "          11       0.55      0.49      0.52    100286\n",
      "          50       0.61      0.52      0.56    289585\n",
      "         100       0.52      0.20      0.29    135555\n",
      "\n",
      "    accuracy                           0.61   3537428\n",
      "   macro avg       0.59      0.53      0.55   3537428\n",
      "weighted avg       0.62      0.61      0.60   3537428\n",
      "\n",
      "[[655601  56015  52217  62654  50148  19177 135189  16980  47609  47301]\n",
      " [  6451 183536  16285  18398  15905   4404  38809   4424  13022   7179]\n",
      " [  4199  14004 174151  13748  12864   3571  33172   3705  10890   6638]\n",
      " [ 10882  16300  15362 201505  14215   5705  37152   5478  15901  11919]\n",
      " [  4454  10484   9758   9199 146134   3029  28944   3258   9136   4500]\n",
      " [  1985   4993   5065   6495   5714  47862  14395   1625   4209   2532]\n",
      " [ 12190  34627  37683  33706  31918   9445 539005  10771  31644  20099]\n",
      " [  1929   4931   4562   5210   4349   1345  11634  49512   4973   2065]\n",
      " [  4495  13399  11973  12347  10810   4114  30339   3495 150195   6356]\n",
      " [  6091   1907   1957   3600   1646   1369   5291   1038   2006  26966]]\n"
     ]
    },
    {
     "data": {
      "image/png": "[encoded data removed]",
      "text/plain": [
       "<Figure size 576x576 with 2 Axes>"
      ]
     },
     "metadata": {
      "needs_background": "light"
     },
     "output_type": "display_data"
    },
    {
     "name": "stdout",
     "output_type": "stream",
     "text": [
      "MLP, WordLevel TF-IDF:  0.6147028292872675\n",
      "Wall time: 28min 36s\n"
     ]
    }
   ],
   "source": [
    "%%time\n",
    "accuracy = train_model(MLPClassifier(solver='lbfgs', alpha=1e-5, hidden_layer_sizes=(20,), random_state=0), \n",
    "                       xtrain_tfidf, y_train, xtest_tfidf, \"MLP\")\n",
    "print (\"MLP, WordLevel TF-IDF: \", accuracy)"
   ]
  },
  {
   "cell_type": "code",
   "execution_count": 8,
   "metadata": {},
   "outputs": [],
   "source": [
    "class callback(CallbackAny2Vec):\n",
    "    \"\"\"\n",
    "    Callback to print loss after each epoch\n",
    "    \"\"\"\n",
    "    def __init__(self):\n",
    "        self.epoch = 0\n",
    "\n",
    "    def on_epoch_end(self, model):\n",
    "        loss = model.get_latest_training_loss()\n",
    "        if self.epoch == 0:\n",
    "            print('Loss after epoch {}: {}'.format(self.epoch, loss))\n",
    "        else:\n",
    "            print('Loss after epoch {}: {}'.format(self.epoch, loss - self.loss_previous_step))\n",
    "        self.epoch += 1\n",
    "        self.loss_previous_step = loss"
   ]
  },
  {
   "cell_type": "code",
   "execution_count": 9,
   "metadata": {
    "scrolled": true
   },
   "outputs": [],
   "source": [
    "model = Word2Vec.load(\"IMDB_word2vec.model\")"
   ]
  },
  {
   "cell_type": "code",
   "execution_count": 89,
   "metadata": {
    "scrolled": true
   },
   "outputs": [
    {
     "name": "stderr",
     "output_type": "stream",
     "text": [
      "  0%|                                                                                          | 0/849 [00:00<?, ?it/s]C:\\Users\\Hp\\Anaconda3\\lib\\site-packages\\ipykernel_launcher.py:5: DeprecationWarning: Call to deprecated `most_similar` (Method will be removed in 4.0.0, use self.wv.most_similar() instead).\n",
      "  \"\"\"\n",
      "100%|███████████████████████████████████████████████████████████████████████████████| 849/849 [00:01<00:00, 812.46it/s]\n"
     ]
    }
   ],
   "source": [
    "w2v_diz_sim = {}\n",
    "for i in tqdm(range(len(labels))):\n",
    "    temp = []\n",
    "    try:\n",
    "        sim = model.most_similar(labels[\"Word\"].iloc[i])\n",
    "        for j in range(len(sim)):\n",
    "            if sim[j][0].lower() != labels[\"Word\"].iloc[i] and sim[j][0] not in labels[\"Synonyms\"].iloc[i] and \"_\" not in sim[j][0]:\n",
    "                temp.append(sim[j][0].lower())\n",
    "    except KeyError:\n",
    "        pass\n",
    "    w2v_diz_sim[labels[\"Word\"].iloc[i]] = temp"
   ]
  },
  {
   "cell_type": "code",
   "execution_count": 90,
   "metadata": {},
   "outputs": [
    {
     "name": "stderr",
     "output_type": "stream",
     "text": [
      "C:\\Users\\Hp\\Anaconda3\\lib\\site-packages\\pandas\\core\\indexing.py:205: SettingWithCopyWarning: \n",
      "A value is trying to be set on a copy of a slice from a DataFrame\n",
      "\n",
      "See the caveats in the documentation: http://pandas.pydata.org/pandas-docs/stable/user_guide/indexing.html#returning-a-view-versus-a-copy\n",
      "  self._setitem_with_indexer(indexer, value)\n"
     ]
    },
    {
     "data": {
      "text/html": [
       "<div>\n",
       "<style scoped>\n",
       "    .dataframe tbody tr th:only-of-type {\n",
       "        vertical-align: middle;\n",
       "    }\n",
       "\n",
       "    .dataframe tbody tr th {\n",
       "        vertical-align: top;\n",
       "    }\n",
       "\n",
       "    .dataframe thead th {\n",
       "        text-align: right;\n",
       "    }\n",
       "</style>\n",
       "<table border=\"1\" class=\"dataframe\">\n",
       "  <thead>\n",
       "    <tr style=\"text-align: right;\">\n",
       "      <th></th>\n",
       "      <th>Word</th>\n",
       "      <th>Label</th>\n",
       "      <th>Freq</th>\n",
       "      <th>Synonyms</th>\n",
       "    </tr>\n",
       "  </thead>\n",
       "  <tbody>\n",
       "    <tr>\n",
       "      <td>0</td>\n",
       "      <td>way</td>\n",
       "      <td>0</td>\n",
       "      <td>68935</td>\n",
       "      <td>[manner, style, fashion, mode, ways, situation...</td>\n",
       "    </tr>\n",
       "    <tr>\n",
       "      <td>1</td>\n",
       "      <td>life</td>\n",
       "      <td>0</td>\n",
       "      <td>61168</td>\n",
       "      <td>[existence, lifestyle, childhood, lives, dream...</td>\n",
       "    </tr>\n",
       "    <tr>\n",
       "      <td>2</td>\n",
       "      <td>thing</td>\n",
       "      <td>0</td>\n",
       "      <td>60468</td>\n",
       "      <td>[what, things, something, something, complaint...</td>\n",
       "    </tr>\n",
       "    <tr>\n",
       "      <td>3</td>\n",
       "      <td>love</td>\n",
       "      <td>0</td>\n",
       "      <td>29193</td>\n",
       "      <td>[adore, romance, loved, loves, hate, loving]</td>\n",
       "    </tr>\n",
       "    <tr>\n",
       "      <td>4</td>\n",
       "      <td>problem</td>\n",
       "      <td>0</td>\n",
       "      <td>16458</td>\n",
       "      <td>[issue, flaw, complaint, problems, gripe]</td>\n",
       "    </tr>\n",
       "  </tbody>\n",
       "</table>\n",
       "</div>"
      ],
      "text/plain": [
       "      Word  Label   Freq                                           Synonyms\n",
       "0      way      0  68935  [manner, style, fashion, mode, ways, situation...\n",
       "1     life      0  61168  [existence, lifestyle, childhood, lives, dream...\n",
       "2    thing      0  60468  [what, things, something, something, complaint...\n",
       "3     love      0  29193       [adore, romance, loved, loves, hate, loving]\n",
       "4  problem      0  16458          [issue, flaw, complaint, problems, gripe]"
      ]
     },
     "execution_count": 90,
     "metadata": {},
     "output_type": "execute_result"
    }
   ],
   "source": [
    "for i in range(len(labels)):\n",
    "    labels[\"Synonyms\"].iloc[i] = labels[\"Synonyms\"].iloc[i] + list(w2v_diz_sim.values())[i]\n",
    "labels.head()"
   ]
  },
  {
   "cell_type": "code",
   "execution_count": 91,
   "metadata": {},
   "outputs": [],
   "source": [
    "diz_cluster = {}\n",
    "diz_freq = {}\n",
    "for i in range(len(labels)):\n",
    "    \n",
    "    if labels[\"Word\"].iloc[i] not in diz_cluster.keys():\n",
    "        diz_cluster[labels[\"Word\"].iloc[i]] = labels[\"Label\"].iloc[i]\n",
    "        diz_freq[labels[\"Word\"].iloc[i]] = labels[\"Freq\"].iloc[i]\n",
    "        \n",
    "    if len(labels[\"Synonyms\"].iloc[i]) > 0:\n",
    "        for word in labels[\"Synonyms\"].iloc[i]:\n",
    "            if word not in diz_cluster.keys():\n",
    "                diz_cluster[word] = labels[\"Label\"].iloc[i]\n",
    "                diz_freq[word] = labels[\"Freq\"].iloc[i]\n",
    "                \n",
    "                \n",
    "diz_actor = {}\n",
    "for i in range(len(info)):\n",
    "    temp = list(info[\"Actor\"].iloc[i].split(\",\"))\n",
    "    actors = [re.sub(r'[^\\w\\s]', '', temp[i].strip(\" \")) for i in range(len(temp))]\n",
    "    title = (info[\"Title\"].iloc[i])\n",
    "    diz_actor[title] = actors"
   ]
  },
  {
   "cell_type": "code",
   "execution_count": 92,
   "metadata": {},
   "outputs": [],
   "source": [
    "df_title_list = list(imdb_df[\"Title\"])\n",
    "new_df = pd.DataFrame({\"Title\":df_title_list})\n",
    "new_df[\"Actors\"] = new_df[\"Title\"].map(diz_actor)\n",
    "\n",
    "actors_list = list(new_df[\"Actors\"])"
   ]
  },
  {
   "cell_type": "code",
   "execution_count": 103,
   "metadata": {},
   "outputs": [
    {
     "name": "stderr",
     "output_type": "stream",
     "text": [
      "100%|████████████████████████████████████████████████████████████████████████| 784259/784259 [02:08<00:00, 6101.38it/s]\n"
     ]
    }
   ],
   "source": [
    "category_list = []\n",
    "for k in tqdm(range(len(words))): # si itera per ogni recensione\n",
    "    sentence_list = []\n",
    "    \n",
    "    for sentence in words[k]: # si itera per ogni frase nella recensione\n",
    "        temp_list = []\n",
    "        temp_list2 = []\n",
    "        check = -1\n",
    "        max_freq = 1000000\n",
    "        \n",
    "        for topic in sentence: # si itera per ogni pattern rilevante nella recensione\n",
    "            actor_value = 0\n",
    "            \n",
    "            # si controlla se la lunghezza è nulla o ci siano nomi di attori\n",
    "            if len(topic) == 0:\n",
    "                temp_list2.append('')\n",
    "                break\n",
    "            if type(actors_list[k]) == list:\n",
    "                for actor in actors_list[k]:\n",
    "                    if actor in topic:\n",
    "                        actor_value = 1\n",
    "                        \n",
    "            # si itera per ogni parola nel pattern rilevante per identificarne l'appartenenza ad un cluster            \n",
    "            w = topic.split(\" \")\n",
    "            for word in w:\n",
    "                category = -1\n",
    "                if word in diz_cluster.keys():\n",
    "                    category = diz_cluster[word]\n",
    "                    freq = diz_freq[word]\n",
    "                    if freq < max_freq:\n",
    "                        max_freq = freq\n",
    "                        check = category\n",
    "                \n",
    "                temp_list.append(category)\n",
    "                \n",
    "            # si assegna al pattern la classe più frequente nelle sue parole\n",
    "            temp_list = [el for el in temp_list if el != -1]\n",
    "            mc = Counter(temp_list).most_common()\n",
    "            if len(mc) > 0 and actor_value == 0:\n",
    "                if mc[0][0] != mc[0][1]:\n",
    "                    temp_list2.append(mc[0][0])\n",
    "                else:\n",
    "                    for i in range(len(mc)):\n",
    "                        if mc[i][0] == check:\n",
    "                            temp_list2.append(mc[i][0])\n",
    "                            break\n",
    "            if actor_value == 1:\n",
    "                temp_list2.append(100)\n",
    "            if len(mc) == 0 and actor_value == 0:\n",
    "                temp_list2.append(-1)\n",
    "        \n",
    "        sentence_list.append(temp_list2)\n",
    "    category_list.append(sentence_list)"
   ]
  },
  {
   "cell_type": "code",
   "execution_count": 110,
   "metadata": {},
   "outputs": [
    {
     "name": "stdout",
     "output_type": "stream",
     "text": [
      "14149712 14149712\n",
      "Wall time: 2min 30s\n"
     ]
    }
   ],
   "source": [
    "%%time\n",
    "test = [el for el in list(deepflatten(category_list, depth=2)) if el != '']\n",
    "test2 = [el.lower() for el in list(deepflatten(words, depth=2)) if el != '']\n",
    "print(len(test), len(test2))"
   ]
  },
  {
   "cell_type": "code",
   "execution_count": 113,
   "metadata": {},
   "outputs": [
    {
     "data": {
      "text/html": [
       "<div>\n",
       "<style scoped>\n",
       "    .dataframe tbody tr th:only-of-type {\n",
       "        vertical-align: middle;\n",
       "    }\n",
       "\n",
       "    .dataframe tbody tr th {\n",
       "        vertical-align: top;\n",
       "    }\n",
       "\n",
       "    .dataframe thead th {\n",
       "        text-align: right;\n",
       "    }\n",
       "</style>\n",
       "<table border=\"1\" class=\"dataframe\">\n",
       "  <thead>\n",
       "    <tr style=\"text-align: right;\">\n",
       "      <th></th>\n",
       "      <th>Topic</th>\n",
       "      <th>Label</th>\n",
       "    </tr>\n",
       "  </thead>\n",
       "  <tbody>\n",
       "    <tr>\n",
       "      <td>0</td>\n",
       "      <td>amazing chemistry</td>\n",
       "      <td>4</td>\n",
       "    </tr>\n",
       "    <tr>\n",
       "      <td>1</td>\n",
       "      <td>seamless cgi</td>\n",
       "      <td>4</td>\n",
       "    </tr>\n",
       "    <tr>\n",
       "      <td>2</td>\n",
       "      <td>practical effects</td>\n",
       "      <td>4</td>\n",
       "    </tr>\n",
       "    <tr>\n",
       "      <td>3</td>\n",
       "      <td>film a firecracker script a true</td>\n",
       "      <td>4</td>\n",
       "    </tr>\n",
       "    <tr>\n",
       "      <td>4</td>\n",
       "      <td>story pulse pounding soundtrack booming</td>\n",
       "      <td>4</td>\n",
       "    </tr>\n",
       "  </tbody>\n",
       "</table>\n",
       "</div>"
      ],
      "text/plain": [
       "                                     Topic  Label\n",
       "0                        amazing chemistry      4\n",
       "1                             seamless cgi      4\n",
       "2                        practical effects      4\n",
       "3         film a firecracker script a true      4\n",
       "4  story pulse pounding soundtrack booming      4"
      ]
     },
     "execution_count": 113,
     "metadata": {},
     "output_type": "execute_result"
    }
   ],
   "source": [
    "t2 = pd.DataFrame({\"Topic\":test2, \"Label\":test})\n",
    "t2.head()"
   ]
  },
  {
   "cell_type": "code",
   "execution_count": 106,
   "metadata": {},
   "outputs": [
    {
     "data": {
      "text/plain": [
       "[(0, 3585182),\n",
       " (50, 2964963),\n",
       " (6, 2874585),\n",
       " (4, 1522237),\n",
       " (-1, 963415),\n",
       " (10, 824122),\n",
       " (100, 542221),\n",
       " (8, 362454),\n",
       " (9, 277200),\n",
       " (11, 233333)]"
      ]
     },
     "execution_count": 106,
     "metadata": {},
     "output_type": "execute_result"
    }
   ],
   "source": [
    "Counter(t2[\"Label\"]).most_common()"
   ]
  },
  {
   "cell_type": "code",
   "execution_count": 114,
   "metadata": {},
   "outputs": [],
   "source": [
    "X_train, X_test, y_train, y_test = train_test_split(t2[\"Topic\"], t2[\"Label\"], stratify = t2[\"Label\"], random_state = 0)\n",
    "tfidf_vect = TfidfVectorizer(analyzer='word', token_pattern=r'\\w{1,}', max_features=20000)\n",
    "xtrain_tfidf =  tfidf_vect.fit_transform(X_train)\n",
    "xtest_tfidf =  tfidf_vect.transform(X_test)"
   ]
  },
  {
   "cell_type": "code",
   "execution_count": 115,
   "metadata": {},
   "outputs": [
    {
     "name": "stdout",
     "output_type": "stream",
     "text": [
      "              precision    recall  f1-score   support\n",
      "\n",
      "          -1       0.57      0.33      0.42    240854\n",
      "           0       0.49      0.75      0.59    896295\n",
      "           4       0.62      0.37      0.46    380559\n",
      "           6       0.55      0.60      0.57    718646\n",
      "           8       0.56      0.13      0.21     90614\n",
      "           9       0.56      0.09      0.16     69300\n",
      "          10       0.61      0.17      0.26    206031\n",
      "          11       0.68      0.16      0.26     58333\n",
      "          50       0.52      0.58      0.55    741241\n",
      "         100       0.49      0.37      0.42    135555\n",
      "\n",
      "    accuracy                           0.53   3537428\n",
      "   macro avg       0.56      0.35      0.39   3537428\n",
      "weighted avg       0.54      0.53      0.50   3537428\n",
      "\n",
      "[[ 78764  13247   6334  11796   1872   1325   3602   2171  11143   8267]\n",
      " [ 69145 668259 108334 150047  32987  31401  72305  18861 174335  29057]\n",
      " [  3991  21456 140555  21023   3995   2068   7235   1931  20613   3923]\n",
      " [ 37878  78397  58032 429553  15873  11775  38399  10120  81654  19126]\n",
      " [   374   2287   1353   1860  11819    181    592    273   1974    423]\n",
      " [   168   1183    559   1091    133   6303    359     83   1057    226]\n",
      " [   910   5358   2552   4754    735    744  34763   1013   5271   1107]\n",
      " [   292   1097    393    942    144    105    261   9338   1005    243]\n",
      " [ 39086  96076  58638  89342  19838  14488  44303  13125 431867  22727]\n",
      " [ 10246   8935   3809   8238   3218    910   4212   1418  12322  50456]]\n"
     ]
    },
    {
     "data": {
      "image/png": "[encoded data removed]",
      "text/plain": [
       "<Figure size 576x576 with 2 Axes>"
      ]
     },
     "metadata": {
      "needs_background": "light"
     },
     "output_type": "display_data"
    },
    {
     "name": "stdout",
     "output_type": "stream",
     "text": [
      "NB, WordLevel TF-IDF:  0.5262798281689408\n",
      "Wall time: 10.8 s\n"
     ]
    }
   ],
   "source": [
    "%%time\n",
    "accuracy = train_model(naive_bayes.MultinomialNB(), xtrain_tfidf, y_train, xtest_tfidf, \"Naive Bayes\")\n",
    "print (\"NB, WordLevel TF-IDF: \", accuracy)"
   ]
  },
  {
   "cell_type": "code",
   "execution_count": 99,
   "metadata": {},
   "outputs": [
    {
     "name": "stderr",
     "output_type": "stream",
     "text": [
      "C:\\Users\\Hp\\Anaconda3\\lib\\site-packages\\sklearn\\linear_model\\logistic.py:432: FutureWarning: Default solver will be changed to 'lbfgs' in 0.22. Specify a solver to silence this warning.\n",
      "  FutureWarning)\n",
      "C:\\Users\\Hp\\Anaconda3\\lib\\site-packages\\sklearn\\linear_model\\logistic.py:469: FutureWarning: Default multi_class will be changed to 'auto' in 0.22. Specify the multi_class option to silence this warning.\n",
      "  \"this warning.\", FutureWarning)\n"
     ]
    },
    {
     "name": "stdout",
     "output_type": "stream",
     "text": [
      "              precision    recall  f1-score   support\n",
      "\n",
      "          -1       0.57      0.82      0.67    258373\n",
      "           0       0.64      0.69      0.66    924247\n",
      "           4       0.64      0.52      0.57    390849\n",
      "           6       0.65      0.64      0.64    742495\n",
      "           8       0.54      0.42      0.47     95017\n",
      "           9       0.51      0.38      0.44     71550\n",
      "          10       0.58      0.43      0.49    214193\n",
      "          11       0.57      0.46      0.51     60434\n",
      "          50       0.63      0.64      0.64    769431\n",
      "         100       0.71      0.19      0.30     10839\n",
      "\n",
      "    accuracy                           0.62   3537428\n",
      "   macro avg       0.60      0.52      0.54   3537428\n",
      "weighted avg       0.63      0.62      0.62   3537428\n",
      "\n",
      "[[210930  43762  19290  34975   5759   4754  11410   4659  35706   1678]\n",
      " [ 15300 639162  62146  96274  15753  14034  36512   8759 109436   1575]\n",
      " [  4104  33463 204546  29403   5153   3710  10621   2524  27718    602]\n",
      " [ 12701  77463  41148 472343  11128   8086  26442   6293  68094   2068]\n",
      " [  1536   8954   4232   7420  40159    875   2469    747   7635    228]\n",
      " [  1180   7017   3110   5438    878  27125   1913    445   5609     43]\n",
      " [  2508  18313   8642  15114   2588   2584  92268   1674  15970    331]\n",
      " [  1335   5351   2006   4855    671    491   1418  27788   4608    128]\n",
      " [  8604  90637  45661  76528  12900   9873  31095   7519 494434   2102]\n",
      " [   175    125     68    145     28     18     45     26    221   2084]]\n"
     ]
    },
    {
     "data": {
      "image/png": "[encoded data removed]",
      "text/plain": [
       "<Figure size 576x576 with 2 Axes>"
      ]
     },
     "metadata": {
      "needs_background": "light"
     },
     "output_type": "display_data"
    },
    {
     "name": "stdout",
     "output_type": "stream",
     "text": [
      "Logistic, WordLevel TF-IDF:  0.6249848760172645\n"
     ]
    }
   ],
   "source": [
    "xtest_tfidf =  tfidf_vect.transform(X_test)\n",
    "from sklearn.linear_model import LogisticRegression\n",
    "accuracy = train_model(LogisticRegression(random_state=0), xtrain_tfidf, y_train, xtest_tfidf, \"Logistic\")\n",
    "print (\"Logistic, WordLevel TF-IDF: \", accuracy)"
   ]
  },
  {
   "cell_type": "code",
   "execution_count": 66,
   "metadata": {},
   "outputs": [],
   "source": [
    "tfidf_vect = TfidfVectorizer(analyzer='char_wb', token_pattern=r'\\w{1,}', max_features=5000)\n",
    "xtrain_tfidf =  tfidf_vect.fit_transform(X_train)\n",
    "xtest_tfidf =  tfidf_vect.transform(X_test)"
   ]
  },
  {
   "cell_type": "code",
   "execution_count": 67,
   "metadata": {},
   "outputs": [
    {
     "name": "stderr",
     "output_type": "stream",
     "text": [
      "C:\\Users\\Hp\\Anaconda3\\lib\\site-packages\\sklearn\\metrics\\classification.py:1437: UndefinedMetricWarning: Precision and F-score are ill-defined and being set to 0.0 in labels with no predicted samples.\n",
      "  'precision', 'predicted', average, warn_for)\n"
     ]
    },
    {
     "name": "stdout",
     "output_type": "stream",
     "text": [
      "              precision    recall  f1-score   support\n",
      "\n",
      "          -1       0.38      0.00      0.00    257059\n",
      "           0       0.26      1.00      0.41    915278\n",
      "           4       0.00      0.00      0.00    399777\n",
      "           6       0.56      0.00      0.01    740972\n",
      "           8       0.00      0.00      0.00     97521\n",
      "           9       0.00      0.00      0.00     71828\n",
      "          10       0.00      0.00      0.00    218713\n",
      "          11       0.50      0.00      0.00     58284\n",
      "          50       0.24      0.00      0.00    767157\n",
      "         100       0.00      0.00      0.00     10839\n",
      "\n",
      "    accuracy                           0.26   3537428\n",
      "   macro avg       0.19      0.10      0.04   3537428\n",
      "weighted avg       0.27      0.26      0.11   3537428\n",
      "\n",
      "[[    38     12      6     23      2      1      8      3      7      0]\n",
      " [255884 914408 399210 737236  97405  71753 218360  58225 766162  10796]\n",
      " [     0      1      0      0      0      0      0      0      0      0]\n",
      " [   818    546    409   3445     40     41    217     32    579     33]\n",
      " [     0      0      0      0      0      0      0      0      0      0]\n",
      " [     0      0      0      0      0      0      0      0      0      0]\n",
      " [     0      0      0      0      0      0      0      0      0      0]\n",
      " [     1      0      0      0      0      0      0      1      0      0]\n",
      " [   317    311    152    267     74     33    128     23    407     10]\n",
      " [     1      0      0      1      0      0      0      0      2      0]]\n"
     ]
    },
    {
     "name": "stderr",
     "output_type": "stream",
     "text": [
      "C:\\Users\\Hp\\Anaconda3\\lib\\site-packages\\ipykernel_launcher.py:15: RuntimeWarning: invalid value encountered in true_divide\n",
      "  from ipykernel import kernelapp as app\n"
     ]
    },
    {
     "data": {
      "image/png": "[encoded data removed]",
      "text/plain": [
       "<Figure size 576x576 with 2 Axes>"
      ]
     },
     "metadata": {
      "needs_background": "light"
     },
     "output_type": "display_data"
    },
    {
     "name": "stdout",
     "output_type": "stream",
     "text": [
      "NB, WordLevel TF-IDF:  0.2595951069534136\n",
      "Wall time: 10.9 s\n"
     ]
    }
   ],
   "source": [
    "%%time\n",
    "accuracy = train_model(naive_bayes.MultinomialNB(), xtrain_tfidf, y_train, xtest_tfidf, \"Naive Bayes\")\n",
    "print (\"NB, WordLevel TF-IDF: \", accuracy)"
   ]
  },
  {
   "cell_type": "code",
   "execution_count": 127,
   "metadata": {
    "scrolled": true
   },
   "outputs": [
    {
     "name": "stderr",
     "output_type": "stream",
     "text": [
      "Using TensorFlow backend.\n",
      "ERROR:root:Internal Python error in the inspect module.\n",
      "Below is the traceback from this internal error.\n",
      "\n"
     ]
    },
    {
     "name": "stdout",
     "output_type": "stream",
     "text": [
      "Traceback (most recent call last):\n",
      "  File \"C:\\Users\\Hp\\Anaconda3\\lib\\site-packages\\IPython\\core\\interactiveshell.py\", line 3326, in run_code\n",
      "    exec(code_obj, self.user_global_ns, self.user_ns)\n",
      "  File \"<ipython-input-127-8eba451d5f65>\", line 1, in <module>\n",
      "    from keras.models import Sequential\n",
      "  File \"C:\\Users\\Hp\\Anaconda3\\lib\\site-packages\\keras\\__init__.py\", line 3, in <module>\n",
      "    from . import utils\n",
      "  File \"C:\\Users\\Hp\\Anaconda3\\lib\\site-packages\\keras\\utils\\__init__.py\", line 6, in <module>\n",
      "    from . import conv_utils\n",
      "  File \"C:\\Users\\Hp\\Anaconda3\\lib\\site-packages\\keras\\utils\\conv_utils.py\", line 9, in <module>\n",
      "    from .. import backend as K\n",
      "  File \"C:\\Users\\Hp\\Anaconda3\\lib\\site-packages\\keras\\backend\\__init__.py\", line 1, in <module>\n",
      "    from .load_backend import epsilon\n",
      "  File \"C:\\Users\\Hp\\Anaconda3\\lib\\site-packages\\keras\\backend\\load_backend.py\", line 90, in <module>\n",
      "    from .tensorflow_backend import *\n",
      "  File \"C:\\Users\\Hp\\Anaconda3\\lib\\site-packages\\keras\\backend\\tensorflow_backend.py\", line 56, in <module>\n",
      "    name_scope = tf.name_scope\n",
      "AttributeError: module 'tensorflow' has no attribute 'name_scope'\n",
      "\n",
      "During handling of the above exception, another exception occurred:\n",
      "\n",
      "Traceback (most recent call last):\n",
      "  File \"C:\\Users\\Hp\\Anaconda3\\lib\\site-packages\\IPython\\core\\interactiveshell.py\", line 2040, in showtraceback\n",
      "    stb = value._render_traceback_()\n",
      "AttributeError: 'AttributeError' object has no attribute '_render_traceback_'\n",
      "\n",
      "During handling of the above exception, another exception occurred:\n",
      "\n",
      "Traceback (most recent call last):\n",
      "  File \"C:\\Users\\Hp\\Anaconda3\\lib\\site-packages\\IPython\\core\\ultratb.py\", line 1101, in get_records\n",
      "    return _fixed_getinnerframes(etb, number_of_lines_of_context, tb_offset)\n",
      "  File \"C:\\Users\\Hp\\Anaconda3\\lib\\site-packages\\IPython\\core\\ultratb.py\", line 319, in wrapped\n",
      "    return f(*args, **kwargs)\n",
      "  File \"C:\\Users\\Hp\\Anaconda3\\lib\\site-packages\\IPython\\core\\ultratb.py\", line 353, in _fixed_getinnerframes\n",
      "    records = fix_frame_records_filenames(inspect.getinnerframes(etb, context))\n",
      "  File \"C:\\Users\\Hp\\Anaconda3\\lib\\inspect.py\", line 1502, in getinnerframes\n",
      "    frameinfo = (tb.tb_frame,) + getframeinfo(tb, context)\n",
      "  File \"C:\\Users\\Hp\\Anaconda3\\lib\\inspect.py\", line 1460, in getframeinfo\n",
      "    filename = getsourcefile(frame) or getfile(frame)\n",
      "  File \"C:\\Users\\Hp\\Anaconda3\\lib\\inspect.py\", line 696, in getsourcefile\n",
      "    if getattr(getmodule(object, filename), '__loader__', None) is not None:\n",
      "  File \"C:\\Users\\Hp\\Anaconda3\\lib\\inspect.py\", line 733, in getmodule\n",
      "    if ismodule(module) and hasattr(module, '__file__'):\n",
      "  File \"C:\\Users\\Hp\\Anaconda3\\lib\\site-packages\\tensorflow\\__init__.py\", line 50, in __getattr__\n",
      "    module = self._load()\n",
      "  File \"C:\\Users\\Hp\\Anaconda3\\lib\\site-packages\\tensorflow\\__init__.py\", line 44, in _load\n",
      "    module = _importlib.import_module(self.__name__)\n",
      "  File \"C:\\Users\\Hp\\Anaconda3\\lib\\importlib\\__init__.py\", line 127, in import_module\n",
      "    return _bootstrap._gcd_import(name[level:], package, level)\n",
      "  File \"<frozen importlib._bootstrap>\", line 1006, in _gcd_import\n",
      "  File \"<frozen importlib._bootstrap>\", line 983, in _find_and_load\n",
      "  File \"<frozen importlib._bootstrap>\", line 953, in _find_and_load_unlocked\n",
      "  File \"<frozen importlib._bootstrap>\", line 219, in _call_with_frames_removed\n",
      "  File \"<frozen importlib._bootstrap>\", line 1006, in _gcd_import\n",
      "  File \"<frozen importlib._bootstrap>\", line 983, in _find_and_load\n",
      "  File \"<frozen importlib._bootstrap>\", line 967, in _find_and_load_unlocked\n",
      "  File \"<frozen importlib._bootstrap>\", line 677, in _load_unlocked\n",
      "  File \"<frozen importlib._bootstrap_external>\", line 728, in exec_module\n",
      "  File \"<frozen importlib._bootstrap>\", line 219, in _call_with_frames_removed\n",
      "  File \"C:\\Users\\Hp\\Anaconda3\\lib\\site-packages\\tensorflow_core\\__init__.py\", line 36, in <module>\n",
      "    from tensorflow._api.v1 import compat\n",
      "  File \"C:\\Users\\Hp\\Anaconda3\\lib\\site-packages\\tensorflow_core\\_api\\v1\\compat\\__init__.py\", line 23, in <module>\n",
      "    from tensorflow._api.v1.compat import v1\n",
      "  File \"C:\\Users\\Hp\\Anaconda3\\lib\\site-packages\\tensorflow_core\\_api\\v1\\compat\\v1\\__init__.py\", line 48, in <module>\n",
      "    from tensorflow._api.v1.compat.v1 import linalg\n",
      "  File \"C:\\Users\\Hp\\Anaconda3\\lib\\site-packages\\tensorflow_core\\_api\\v1\\compat\\v1\\linalg\\__init__.py\", line 33, in <module>\n",
      "    from tensorflow.python.ops.linalg.linalg_impl import matrix_rank\n",
      "ImportError: cannot import name 'matrix_rank' from 'tensorflow.python.ops.linalg.linalg_impl' (C:\\Users\\Hp\\Anaconda3\\lib\\site-packages\\tensorflow_core\\python\\ops\\linalg\\linalg_impl.py)\n"
     ]
    },
    {
     "ename": "AttributeError",
     "evalue": "module 'tensorflow' has no attribute 'name_scope'",
     "output_type": "error",
     "traceback": [
      "\u001b[1;31m---------------------------------------------------------------------------\u001b[0m"
     ]
    }
   ],
   "source": [
    "from keras.models import Sequential\n",
    "from keras.layers import Dense, Embedding, LSTM, SpatialDropout1D\n",
    "from keras.utils.np_utils import to_categorical\n",
    "from keras.callbacks import EarlyStopping\n",
    "from keras.layers import Dropout"
   ]
  },
  {
   "cell_type": "code",
   "execution_count": 116,
   "metadata": {},
   "outputs": [
    {
     "ename": "ModuleNotFoundError",
     "evalue": "No module named 'tensorflow'",
     "output_type": "error",
     "traceback": [
      "\u001b[1;31m---------------------------------------------------------------------------\u001b[0m",
      "\u001b[1;31mModuleNotFoundError\u001b[0m                       Traceback (most recent call last)",
      "\u001b[1;32m<ipython-input-116-b0bc70551a7c>\u001b[0m in \u001b[0;36m<module>\u001b[1;34m\u001b[0m\n\u001b[1;32m----> 1\u001b[1;33m \u001b[1;32mimport\u001b[0m \u001b[0mtensorflow\u001b[0m \u001b[1;32mas\u001b[0m \u001b[0mtf\u001b[0m\u001b[1;33m\u001b[0m\u001b[1;33m\u001b[0m\u001b[0m\n\u001b[0m\u001b[0;32m      2\u001b[0m \u001b[1;32mimport\u001b[0m \u001b[0mnumpy\u001b[0m \u001b[1;32mas\u001b[0m \u001b[0mnp\u001b[0m\u001b[1;33m\u001b[0m\u001b[1;33m\u001b[0m\u001b[0m\n\u001b[0;32m      3\u001b[0m \u001b[1;32mfrom\u001b[0m \u001b[0mtensorflow\u001b[0m\u001b[1;33m.\u001b[0m\u001b[0mkeras\u001b[0m\u001b[1;33m.\u001b[0m\u001b[0mpreprocessing\u001b[0m\u001b[1;33m.\u001b[0m\u001b[0mtext\u001b[0m \u001b[1;32mimport\u001b[0m \u001b[0mTokenizer\u001b[0m\u001b[1;33m\u001b[0m\u001b[1;33m\u001b[0m\u001b[0m\n\u001b[0;32m      4\u001b[0m \u001b[1;32mfrom\u001b[0m \u001b[0mtensorflow\u001b[0m\u001b[1;33m.\u001b[0m\u001b[0mkeras\u001b[0m\u001b[1;33m.\u001b[0m\u001b[0mpreprocessing\u001b[0m\u001b[1;33m.\u001b[0m\u001b[0msequence\u001b[0m \u001b[1;32mimport\u001b[0m \u001b[0mpad_sequences\u001b[0m\u001b[1;33m\u001b[0m\u001b[1;33m\u001b[0m\u001b[0m\n",
      "\u001b[1;31mModuleNotFoundError\u001b[0m: No module named 'tensorflow'"
     ]
    }
   ],
   "source": [
    "model = Sequential()\n",
    "model.add(Embedding(MAX_NB_WORDS, EMBEDDING_DIM, input_length=X.shape[1]))\n",
    "model.add(SpatialDropout1D(0.2))\n",
    "model.add(LSTM(100, dropout=0.2, recurrent_dropout=0.2))\n",
    "model.add(Dense(10, activation='softmax'))\n",
    "model.compile(loss='categorical_crossentropy', optimizer='adam', metrics=['accuracy'])\n",
    "\n",
    "epochs = 5\n",
    "batch_size = 64\n",
    "\n",
    "history = model.fit(X_train, Y_train, epochs=epochs, batch_size=batch_size,validation_split=0.1,callbacks=[EarlyStopping(monitor='val_loss', patience=3, min_delta=0.0001)])\n"
   ]
  }
 ],
 "metadata": {
  "kernelspec": {
   "display_name": "Python 3",
   "language": "python",
   "name": "python3"
  },
  "language_info": {
   "codemirror_mode": {
    "name": "ipython",
    "version": 3
   },
   "file_extension": ".py",
   "mimetype": "text/x-python",
   "name": "python",
   "nbconvert_exporter": "python",
   "pygments_lexer": "ipython3",
   "version": "3.7.4"
  }
 },
 "nbformat": 4,
 "nbformat_minor": 2
}
