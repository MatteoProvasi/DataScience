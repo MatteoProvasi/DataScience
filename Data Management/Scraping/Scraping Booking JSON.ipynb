{
 "cells": [
  {
   "cell_type": "code",
   "execution_count": 1,
   "metadata": {},
   "outputs": [],
   "source": [
    "HotelCity = [] # creo una lista dove inserire tutti gli hotel"
   ]
  },
  {
   "cell_type": "code",
   "execution_count": 2,
   "metadata": {},
   "outputs": [],
   "source": [
    "%load_ext autotime\n",
    "#Web extractor\n",
    "from selenium import webdriver\n",
    "from selenium.webdriver.support.wait import WebDriverWait\n",
    "from selenium.common.exceptions import NoSuchElementException\n",
    "from bs4 import BeautifulSoup as BSoup\n",
    "\n",
    "#Loop\n",
    "import time\n",
    "\n",
    "import pandas as pd\n",
    "import numpy as np\n",
    "import json\n",
    "\n",
    "# classi HTML degli elementi da prendere\n",
    "classDate = 'review_item_date'\n",
    "className = 'review_item_reviewer'\n",
    "classNationality = 'reviewer_country'\n",
    "classGiudiziPrec = 'review_item_user_review_count'\n",
    "classScore = 'review-score-badge'\n",
    "classTitle = 'review_item_header_content_container'\n",
    "classReviewNeg = 'review_neg'\n",
    "classReviewPos = 'review_pos'\n",
    "classDatesoggiorno = 'review_staydate'\n",
    "classTags = 'review_item_info_tags'\n",
    "classHotel = 'standalone_header_hotel_link'\n",
    "classCity = 'hotel_address'\n",
    "idNextPageRev = 'review_next_page_link'\n",
    "classnextPageHotel = 'rlp-main-pagination__btn-txt--next'\n",
    "classReview = 'review_item'\n",
    "classHotel2 = 'rlp-main-hotel__hotel-name-link'\n",
    "classIndirizzo = 'hotel_address'\n",
    "classEtà = 'user_age_group'\n",
    "classNRecensioni = 'review_list_score_count'\n",
    "classVoto = 'review-score-badge'\n",
    "classClean = 'hotel_clean'\n",
    "classComfort = 'hotel_comfort'\n",
    "classLocation = 'hotel_location'\n",
    "classService = 'hotel_services'\n",
    "classStaff = 'hotel_staff'\n",
    "classRapp = 'hotel_value'\n",
    "classWifi = 'hotel_wifi'"
   ]
  },
  {
   "cell_type": "code",
   "execution_count": 9,
   "metadata": {},
   "outputs": [
    {
     "name": "stdout",
     "output_type": "stream",
     "text": [
      "time: 12.6 s\n"
     ]
    }
   ],
   "source": [
    "options = webdriver.ChromeOptions()\n",
    "options.add_argument('--incognito') # usa modalità in incognito\n",
    "options.add_experimental_option('prefs', {\"profile.managed_default_content_settings.images\": 2}) # non carica le immagini sul browser\n",
    "\n",
    "driver = webdriver.Chrome(executable_path=r'C:/Users/loren/Documents/Scraping/chromedriver.exe', chrome_options=options)\n",
    "\n",
    "url1 = 'https://www.booking.com/reviews/region/' # per le città bisogna inserire al posto di region it/city\n",
    "città = 'england' # /bbs-inns da inserire per i B&B dopo regione\n",
    "url2 = '.en-gb.html?aid=397594;label=gog235jc-index-it-XX-XX-unspec-it-com-L%3Ait-O%3AwindowsS10-B%3Afirefox-N%3Ayes-S%3Abo-U%3Ac-H%3As;sid=5d9a1ad15b07d4b6f7cf851b1c41c97f;offset='\n",
    "NHotelPrec = str(0) # indica il numero dell'hotel precedente al primo della pagina (se 0 parte dall'hotel 1)\n",
    "HomePage = url1 + città + url2 + NHotelPrec + '&'\n",
    "\n",
    "driver.get(HomePage)"
   ]
  },
  {
   "cell_type": "markdown",
   "metadata": {},
   "source": [
    "# Codice per tutti gli hotel"
   ]
  },
  {
   "cell_type": "code",
   "execution_count": 4,
   "metadata": {
    "scrolled": true
   },
   "outputs": [
    {
     "name": "stdout",
     "output_type": "stream",
     "text": [
      "time: 15h 8min 40s\n"
     ]
    }
   ],
   "source": [
    "numHotel = 5970\n",
    "hotelperpagina = 30\n",
    "\n",
    "for i in range(3390, numHotel, hotelperpagina):\n",
    "    NHotelPrec = str(i)\n",
    "    HomePage = url1 + città + url2 + NHotelPrec + '&'\n",
    "    driver.get(HomePage)\n",
    "    linkHotel = driver.find_elements_by_partial_link_text('See more reviews of ') # lista hotel della pagina    \n",
    "    for j in range(len(linkHotel)): # ciclo for sulla lista di hotel\n",
    "        linkHotel = driver.find_elements_by_partial_link_text('See more reviews of ') # lista hotel della pagina\n",
    "        driver.get(linkHotel[j].get_attribute('href')) # vai alle recensioni dell'hotel\n",
    "        html = BSoup(driver.page_source, 'html.parser') # scarica codice HTML\n",
    "        hotel = {'Hotel' : html.find('a',{'class':classHotel}).text} # nome hotel\n",
    "        indirizzo = html.find('p',{'class':classIndirizzo}).text.split(', ') # prendi stringa indirizzo e splittala in base a ,\n",
    "        hotel['City'] = indirizzo[-3] # estrai la città\n",
    "        hotel['_id'] = hotel['Hotel'] + '_' + hotel['City'] # crea un ID per ogni hotel\n",
    "        if indirizzo[0].isdigit():\n",
    "    #civico e indirizzo possono essere separati da , quindi se il primo è un numero prendi anche la seconda posizione della lista\n",
    "            hotel['Address'] = indirizzo[0] + indirizzo[1]\n",
    "        else:\n",
    "            hotel['Address'] = indirizzo[0]\n",
    "        hotel['ZIP Code'] = indirizzo[-2]\n",
    "        hotel['Country'] = indirizzo[-1]\n",
    "        punteggi = {} # creo un dizionario dei voti dell'hotel\n",
    "        try: # uso try perchè se sono poche recensioni non ci sono i voti complessivi\n",
    "            punteggi['Number of hotel reviews'] = int(html.find('p', {'class':classNRecensioni}).text.split()[2])\n",
    "            # prende solo il numero di \"basato su TOT recensioni\" e trasformamelo in intero\n",
    "            punteggi['Overall score'] = float(html.find('span',{'class':classVoto}).text[1:-1].replace(',', '.'))\n",
    "            # cambia da , a . e trasformalo in float\n",
    "            # prendo tutti i punteggi parziali\n",
    "            punteggi['Cleanliness score'] = float(html.find('li',{'data-question':classClean}).text[13:-4].replace(',', '.'))\n",
    "            punteggi['Comfort score'] = float(html.find('li',{'data-question':classComfort}).text[9:-4].replace(',', '.'))\n",
    "            punteggi['Location score'] = float(html.find('li',{'data-question':classLocation}).text[10:-4].replace(',', '.'))\n",
    "            punteggi['Facilities score'] = float(html.find('li',{'data-question':classService}).text[12:-4].replace(',', '.'))\n",
    "            punteggi['Staff score'] = float(html.find('li',{'data-question':classStaff}).text[7:-4].replace(',', '.'))\n",
    "            punteggi['Value for money score'] = float(html.find('li',{'data-question':classRapp}).text[17:-4].replace(',', '.'))\n",
    "            hotel['Review score'] = punteggi # aggiungi il dizionario alla chiave Review score\n",
    "        except AttributeError:\n",
    "            pass\n",
    "        try: # uso try perchè non tutti gli hotel hanno il WiFi gratuito\n",
    "            punteggi['Free WiFi score'] = float(html.find('li',{'data-question':classWifi}).text[11:-4].replace(',', '.'))\n",
    "        except AttributeError:\n",
    "            pass   \n",
    "        \n",
    "        \n",
    "        reviews = [] # creo una lista dove inserire recensioni\n",
    "        hotel['Reviews'] = reviews # aggiungo la lista alla chiave Reviews\n",
    "        while True: #ciclo infinito fino a quando non ci sono più recensioni (non so dalla prima pagine numero recensioni totali)\n",
    "            html = BSoup(driver.page_source, 'html.parser')\n",
    "            rev = html.findAll('li', {'class':classReview}) # lista delle recensioni in ogni pagina\n",
    "            for el in rev: # ciclo su ogni recensione\n",
    "                review = {} # creo un dizionario per elementi di ogni recensione\n",
    "                review['Reviewed date'] = el.find('p',{'class':classDate}).text[11:-1]\n",
    "                review['Name'] = el.find('span',{'itemprop':'name'}).text\n",
    "                review['Nationality'] = el.find('span',{'itemprop':'nationality'}).text[1:]\n",
    "                try: # non sempre è presente la fascia d'età\n",
    "                    review['Age group'] = el.find('div',{'class':classEtà}).text[12:-1]\n",
    "                except AttributeError:\n",
    "                    pass\n",
    "                review['Past user reviews'] = int(el.find('div',{'class':classGiudiziPrec}).text[1:-1].split()[0])\n",
    "                try: # non sempre è presente lo score (trovato solo una recensione senza score)\n",
    "                    review['Score'] = float(el.find('span',{'class':classScore}).text[1:-1].replace(',', '.'))\n",
    "                except AttributeError:\n",
    "                    pass\n",
    "                review['Title'] = el.find('div',{'class':classTitle}).text[3:-3]\n",
    "                # può essere presente anche solo uno dei due tipi di recensione\n",
    "                try:\n",
    "                    review['Negative review'] = el.find('p',{'class':classReviewNeg}).text[2:].replace('\\n', '')\n",
    "                except AttributeError:\n",
    "                    pass\n",
    "                try:\n",
    "                    review['Positive review'] = el.find('p',{'class':classReviewPos}).text[2:].replace('\\n', '')\n",
    "                except AttributeError:\n",
    "                    pass\n",
    "                # per recensioni più vecchie non è presente data del soggiorno\n",
    "                try:\n",
    "                    review['Stay date'] = el.find('p',{'class':classDatesoggiorno}).text[11:-1]\n",
    "                except AttributeError:\n",
    "                    pass\n",
    "                review['Tags'] = el.find('ul',{'class':classTags}).text[4:-2].replace('\\n\\n\\n•', ',')\n",
    "                reviews.append(review) # aggiungi alla lista reviews e quindi alla chiave Reviews la recensione\n",
    "            \n",
    "            try:\n",
    "                # se esiste una pagina successiva delle recensione aprila\n",
    "                driver.get(driver.find_element_by_id(idNextPageRev).get_attribute('href'))\n",
    "            except NoSuchElementException: # se non è presente una pagina successiva delle recensioni\n",
    "                HotelCity.append(hotel) # aggiungi l'hotel alla lista principale\n",
    "                driver.get(HomePage) # ritorna alla pagina principale delle recensioni\n",
    "                break\n",
    "driver.quit()"
   ]
  },
  {
   "cell_type": "markdown",
   "metadata": {},
   "source": [
    "# Codice per singola pagina da 30 hotel"
   ]
  },
  {
   "cell_type": "markdown",
   "metadata": {},
   "source": [
    "Se codice si interrompe tramite i (indice della pagina delle recensioni) e j (indice dell'hotel nella pagina delle recensioni) è possibile concludere la pagina con questo codice"
   ]
  },
  {
   "cell_type": "code",
   "execution_count": null,
   "metadata": {
    "scrolled": true
   },
   "outputs": [],
   "source": [
    "NHotelPrec = str(5970)\n",
    "HomePage = url1 + città + url2 + NHotelPrec + '&'\n",
    "driver.get(HomePage)\n",
    "\n",
    "linkHotel = driver.find_elements_by_partial_link_text('See more reviews of ')# lista hotel della pagina    \n",
    "for j in range(0, 30): # ciclo for sulla lista di hotel\n",
    "    linkHotel = driver.find_elements_by_partial_link_text('See more reviews of ')# lista hotel della pagina\n",
    "    driver.get(linkHotel[j].get_attribute('href')) # vai alle recensioni dell'hotel\n",
    "    html = BSoup(driver.page_source, 'html.parser')\n",
    "    hotel = {'Hotel' : html.find('a',{'class':classHotel}).text} # nome hotel\n",
    "    indirizzo = html.find('p',{'class':classIndirizzo}).text.split(', ')\n",
    "    hotel['City'] = indirizzo[-3]\n",
    "    hotel['_id'] = hotel['Hotel'] + '_' + hotel['City']\n",
    "    if indirizzo[0].isdigit(): # per altri stati vedere stringa indirizzo\n",
    "        hotel['Address'] = indirizzo[0] + indirizzo[1]\n",
    "    else:\n",
    "        hotel['Address'] = indirizzo[0]\n",
    "    hotel['ZIP Code'] = indirizzo[-2]\n",
    "    hotel['Country'] = indirizzo[-1]\n",
    "    punteggi = {}\n",
    "    try:\n",
    "        punteggi['Number of hotel reviews'] = int(html.find('p', {'class':classNRecensioni}).text.split()[2])\n",
    "        # prende solo il numero di \"basato su TOT recensioni\" e trasformamelo in intero\n",
    "        punteggi['Overall score'] = float(html.find('span',{'class':classVoto}).text[1:-1].replace(',', '.'))\n",
    "        # cambia da , a . e trasformalo in float\n",
    "        punteggi['Cleanliness score'] = float(html.find('li',{'data-question':classClean}).text[13:-4].replace(',', '.'))\n",
    "        punteggi['Comfort score'] = float(html.find('li',{'data-question':classComfort}).text[9:-4].replace(',', '.'))\n",
    "        punteggi['Location score'] = float(html.find('li',{'data-question':classLocation}).text[10:-4].replace(',', '.'))\n",
    "        punteggi['Facilities score'] = float(html.find('li',{'data-question':classService}).text[12:-4].replace(',', '.'))\n",
    "        punteggi['Staff score'] = float(html.find('li',{'data-question':classStaff}).text[7:-4].replace(',', '.'))\n",
    "        punteggi['Value for money score'] = float(html.find('li',{'data-question':classRapp}).text[17:-4].replace(',', '.'))\n",
    "        hotel['Review score'] = punteggi\n",
    "    except AttributeError:\n",
    "        pass\n",
    "    try:\n",
    "        punteggi['Free WiFi score'] = float(html.find('li',{'data-question':classWifi}).text[11:-4].replace(',', '.'))\n",
    "    except AttributeError:\n",
    "        pass   \n",
    "    reviews = []\n",
    "    hotel['Reviews'] = reviews\n",
    "    while True: # possibilità di un do-while con esecuzione della condizione\n",
    "        html = BSoup(driver.page_source, 'html.parser')\n",
    "        rev = html.findAll('li', {'class':classReview}) # lista delle recensioni in ogni pagina\n",
    "        for el in rev:\n",
    "            review = {}\n",
    "            review['Reviewed date'] = el.find('p',{'class':classDate}).text[11:-1]\n",
    "            review['Name'] = el.find('span',{'itemprop':'name'}).text\n",
    "            review['Nationality'] = el.find('span',{'itemprop':'nationality'}).text[1:]\n",
    "            try:\n",
    "                review['Age group'] = el.find('div',{'class':classEtà}).text[12:-1]\n",
    "            except AttributeError:\n",
    "                pass\n",
    "            review['Past user reviews'] = int(el.find('div',{'class':classGiudiziPrec}).text[1:-1].split()[0])\n",
    "            try:\n",
    "                review['Score'] = float(el.find('span',{'class':classScore}).text[1:-1].replace(',', '.'))\n",
    "            except AttributeError:\n",
    "                pass\n",
    "            review['Title'] = el.find('div',{'class':classTitle}).text[3:-3]\n",
    "            try:\n",
    "                review['Negative review'] = el.find('p',{'class':classReviewNeg}).text[2:].replace('\\n', '')\n",
    "            except AttributeError:\n",
    "                pass\n",
    "            try:\n",
    "                review['Positive review'] = el.find('p',{'class':classReviewPos}).text[2:].replace('\\n', '')\n",
    "            except AttributeError:\n",
    "                pass\n",
    "            try:\n",
    "                review['Stay date'] = el.find('p',{'class':classDatesoggiorno}).text[11:-1]\n",
    "            except AttributeError:\n",
    "                pass\n",
    "            review['Tags'] = el.find('ul',{'class':classTags}).text[4:-2].replace('\\n\\n\\n•', ',')\n",
    "            reviews.append(review)\n",
    "        try:\n",
    "            driver.get(driver.find_element_by_id(idNextPageRev).get_attribute('href'))\n",
    "        except NoSuchElementException:\n",
    "            HotelCity.append(hotel)\n",
    "            driver.get(HomePage)\n",
    "            break\n",
    "driver.quit()"
   ]
  },
  {
   "cell_type": "markdown",
   "metadata": {},
   "source": [
    "# Codice per singolo hotel"
   ]
  },
  {
   "cell_type": "code",
   "execution_count": null,
   "metadata": {
    "scrolled": false
   },
   "outputs": [],
   "source": [
    "html = BSoup(driver.page_source, 'html.parser')\n",
    "hotel = {'Hotel' : html.find('a',{'class':classHotel}).text} # nome hotel\n",
    "indirizzo = html.find('p',{'class':classIndirizzo}).text.split(', ')\n",
    "hotel['City'] = indirizzo[-3]\n",
    "hotel['_id'] = hotel['Hotel'] + '_' + hotel['City']\n",
    "if indirizzo[0].isdigit(): # per altri stati vedere stringa indirizzo\n",
    "    hotel['Address'] = indirizzo[0] + indirizzo[1]\n",
    "else:\n",
    "    hotel['Address'] = indirizzo[0]\n",
    "hotel['ZIP Code'] = indirizzo[-2] # vale solo per Inghilterra\n",
    "hotel['Country'] = indirizzo[-1]\n",
    "punteggi = {}\n",
    "try:\n",
    "    punteggi['Number of hotel reviews'] = int(html.find('p', {'class':classNRecensioni}).text.split()[2])\n",
    "    # prende solo il numero di \"basato su TOT recensioni\" e trasformamelo in intero\n",
    "    punteggi['Overall score'] = float(html.find('span',{'class':classVoto}).text[1:-1].replace(',', '.'))\n",
    "    # cambia da , a . e trasformalo in float\n",
    "    punteggi['Cleanliness score'] = float(html.find('li',{'data-question':classClean}).text[13:-4].replace(',', '.'))\n",
    "    punteggi['Comfort score'] = float(html.find('li',{'data-question':classComfort}).text[9:-4].replace(',', '.'))\n",
    "    punteggi['Location score'] = float(html.find('li',{'data-question':classLocation}).text[10:-4].replace(',', '.'))\n",
    "    punteggi['Facilities score'] = float(html.find('li',{'data-question':classService}).text[12:-4].replace(',', '.'))\n",
    "    punteggi['Staff score'] = float(html.find('li',{'data-question':classStaff}).text[7:-4].replace(',', '.'))\n",
    "    punteggi['Value for money score'] = float(html.find('li',{'data-question':classRapp}).text[17:-4].replace(',', '.'))\n",
    "    hotel['Review score'] = punteggi\n",
    "except AttributeError:\n",
    "    pass\n",
    "try:\n",
    "    punteggi['Free WiFi score'] = float(html.find('li',{'data-question':classWifi}).text[11:-4].replace(',', '.'))\n",
    "except AttributeError:\n",
    "    pass   \n",
    "reviews = []\n",
    "hotel['Reviews'] = reviews\n",
    "while True: # possibilità di un do-while con esecuzione della condizione\n",
    "    html = BSoup(driver.page_source, 'html.parser')\n",
    "    rev = html.findAll('li', {'class':classReview}) # lista delle recensioni in ogni pagina\n",
    "    for el in rev:\n",
    "        review = {}\n",
    "        review['Reviewed date'] = el.find('p',{'class':classDate}).text[11:-1]\n",
    "        review['Name'] = el.find('span',{'itemprop':'name'}).text\n",
    "        review['Nationality'] = el.find('span',{'itemprop':'nationality'}).text[1:]\n",
    "        try:\n",
    "            review['Age group'] = el.find('div',{'class':classEtà}).text[12:-1]\n",
    "        except AttributeError:\n",
    "            pass\n",
    "        review['Past user reviews'] = int(el.find('div',{'class':classGiudiziPrec}).text[1:-1].split()[0])\n",
    "        try:\n",
    "            review['Score'] = float(el.find('span',{'class':classScore}).text[1:-1].replace(',', '.'))\n",
    "        except AttributeError:\n",
    "            pass\n",
    "        review['Title'] = el.find('div',{'class':classTitle}).text[3:-3]\n",
    "        try:\n",
    "            review['Negative review'] = el.find('p',{'class':classReviewNeg}).text[2:].replace('\\n', '')\n",
    "        except AttributeError:\n",
    "            pass\n",
    "        try:\n",
    "            review['Positive review'] = el.find('p',{'class':classReviewPos}).text[2:].replace('\\n', '')\n",
    "        except AttributeError:\n",
    "            pass\n",
    "        try:\n",
    "            review['Stay date'] = el.find('p',{'class':classDatesoggiorno}).text[11:-1]\n",
    "        except AttributeError:\n",
    "            pass\n",
    "        review['Tags'] = el.find('ul',{'class':classTags}).text[4:-2].replace('\\n\\n\\n•', ',')\n",
    "        reviews.append(review)\n",
    "    try:\n",
    "        driver.get(driver.find_element_by_id(idNextPageRev).get_attribute('href'))\n",
    "    except NoSuchElementException:\n",
    "        HotelCity.append(hotel)\n",
    "        break"
   ]
  },
  {
   "cell_type": "markdown",
   "metadata": {},
   "source": [
    "# Controllo File"
   ]
  },
  {
   "cell_type": "markdown",
   "metadata": {},
   "source": [
    "Controllo indice dell'hotel della pagina e indice della pagina"
   ]
  },
  {
   "cell_type": "code",
   "execution_count": 11,
   "metadata": {
    "scrolled": true
   },
   "outputs": [
    {
     "name": "stdout",
     "output_type": "stream",
     "text": [
      "27 5940\n",
      "time: 2 ms\n"
     ]
    }
   ],
   "source": [
    "print(j, i)"
   ]
  },
  {
   "cell_type": "markdown",
   "metadata": {},
   "source": [
    "### Controllo numero di Hotel"
   ]
  },
  {
   "cell_type": "code",
   "execution_count": 16,
   "metadata": {},
   "outputs": [
    {
     "name": "stdout",
     "output_type": "stream",
     "text": [
      "time: 5.08 s\n"
     ]
    }
   ],
   "source": [
    "NHotelPrec = str(0)\n",
    "HomePage = url1 + città + url2 + NHotelPrec + '&'\n",
    "\n",
    "driver = webdriver.Chrome(executable_path=r'C:/Users/loren/Documents/Scraping/chromedriver.exe', chrome_options=options)\n",
    "driver.get(HomePage)"
   ]
  },
  {
   "cell_type": "code",
   "execution_count": 17,
   "metadata": {},
   "outputs": [
    {
     "data": {
      "text/plain": [
       "71"
      ]
     },
     "execution_count": 17,
     "metadata": {},
     "output_type": "execute_result"
    },
    {
     "name": "stdout",
     "output_type": "stream",
     "text": [
      "time: 5.25 s\n"
     ]
    }
   ],
   "source": [
    "pagineHotel = 3\n",
    "hotel = 0\n",
    "for i in range(pagineHotel):\n",
    "    linkHotel = driver.find_elements_by_partial_link_text('See more reviews of ')\n",
    "    hotel=hotel+len(linkHotel)\n",
    "    try:\n",
    "        driver.get(driver.find_element_by_class_name(classnextPageHotel).get_attribute('href'))\n",
    "        # vai avanti con la pagina hotel\n",
    "    except NoSuchElementException:\n",
    "        break\n",
    "driver.quit()\n",
    "hotel"
   ]
  },
  {
   "cell_type": "markdown",
   "metadata": {},
   "source": [
    "### Controllo recensioni per ogni hotel"
   ]
  },
  {
   "cell_type": "code",
   "execution_count": 12,
   "metadata": {
    "scrolled": true
   },
   "outputs": [
    {
     "data": {
      "text/html": [
       "<div>\n",
       "<style scoped>\n",
       "    .dataframe tbody tr th:only-of-type {\n",
       "        vertical-align: middle;\n",
       "    }\n",
       "\n",
       "    .dataframe tbody tr th {\n",
       "        vertical-align: top;\n",
       "    }\n",
       "\n",
       "    .dataframe thead th {\n",
       "        text-align: right;\n",
       "    }\n",
       "</style>\n",
       "<table border=\"1\" class=\"dataframe\">\n",
       "  <thead>\n",
       "    <tr style=\"text-align: right;\">\n",
       "      <th></th>\n",
       "      <th>ID</th>\n",
       "      <th>Reviews</th>\n",
       "    </tr>\n",
       "  </thead>\n",
       "  <tbody>\n",
       "    <tr>\n",
       "      <th>0</th>\n",
       "      <td>Revelstoke Hotel_Bridlington</td>\n",
       "      <td>147</td>\n",
       "    </tr>\n",
       "    <tr>\n",
       "      <th>1</th>\n",
       "      <td>Links Country Park Hotel_Cromer</td>\n",
       "      <td>392</td>\n",
       "    </tr>\n",
       "    <tr>\n",
       "      <th>2</th>\n",
       "      <td>Hillbark Hotel_Wirral</td>\n",
       "      <td>46</td>\n",
       "    </tr>\n",
       "    <tr>\n",
       "      <th>3</th>\n",
       "      <td>Best Western Stoke East_Stoke on Trent</td>\n",
       "      <td>525</td>\n",
       "    </tr>\n",
       "    <tr>\n",
       "      <th>4</th>\n",
       "      <td>The Wakefield House Hotel_Blackpool</td>\n",
       "      <td>65</td>\n",
       "    </tr>\n",
       "    <tr>\n",
       "      <th>5</th>\n",
       "      <td>The Imperial Crown Hotel_Halifax</td>\n",
       "      <td>605</td>\n",
       "    </tr>\n",
       "    <tr>\n",
       "      <th>6</th>\n",
       "      <td>Warwick Conferences - Arden_Coventry</td>\n",
       "      <td>75</td>\n",
       "    </tr>\n",
       "    <tr>\n",
       "      <th>7</th>\n",
       "      <td>Holiday Inn Leicester City_Leicester</td>\n",
       "      <td>1043</td>\n",
       "    </tr>\n",
       "    <tr>\n",
       "      <th>8</th>\n",
       "      <td>Holiday Inn Chester South_Chester</td>\n",
       "      <td>1272</td>\n",
       "    </tr>\n",
       "    <tr>\n",
       "      <th>9</th>\n",
       "      <td>Royal Lodge_Symonds Yat</td>\n",
       "      <td>419</td>\n",
       "    </tr>\n",
       "    <tr>\n",
       "      <th>10</th>\n",
       "      <td>George Hotel Wetherspoon_Bewdley</td>\n",
       "      <td>473</td>\n",
       "    </tr>\n",
       "    <tr>\n",
       "      <th>11</th>\n",
       "      <td>Rampant Lion Hotel_Manchester</td>\n",
       "      <td>340</td>\n",
       "    </tr>\n",
       "    <tr>\n",
       "      <th>12</th>\n",
       "      <td>The Walrus Bar and Hostel_London</td>\n",
       "      <td>449</td>\n",
       "    </tr>\n",
       "    <tr>\n",
       "      <th>13</th>\n",
       "      <td>The Marine Hotel_Hartlepool</td>\n",
       "      <td>341</td>\n",
       "    </tr>\n",
       "    <tr>\n",
       "      <th>14</th>\n",
       "      <td>Littleover Lodge Hotel_Derby</td>\n",
       "      <td>868</td>\n",
       "    </tr>\n",
       "    <tr>\n",
       "      <th>15</th>\n",
       "      <td>Novotel Birmingham Centre_Birmingham</td>\n",
       "      <td>1625</td>\n",
       "    </tr>\n",
       "    <tr>\n",
       "      <th>16</th>\n",
       "      <td>The Priest House On The River_Castle Donington</td>\n",
       "      <td>225</td>\n",
       "    </tr>\n",
       "    <tr>\n",
       "      <th>17</th>\n",
       "      <td>Club Quarters Hotel, Gracechurch_London</td>\n",
       "      <td>1489</td>\n",
       "    </tr>\n",
       "    <tr>\n",
       "      <th>18</th>\n",
       "      <td>Bedford Swan Hotel_Bedford</td>\n",
       "      <td>1034</td>\n",
       "    </tr>\n",
       "    <tr>\n",
       "      <th>19</th>\n",
       "      <td>Donnington Valley Hotel, Golf &amp; Spa_Newbury</td>\n",
       "      <td>260</td>\n",
       "    </tr>\n",
       "    <tr>\n",
       "      <th>20</th>\n",
       "      <td>The Justin James Hotel_London</td>\n",
       "      <td>420</td>\n",
       "    </tr>\n",
       "    <tr>\n",
       "      <th>21</th>\n",
       "      <td>Park Plaza Sherlock Holmes London_London</td>\n",
       "      <td>670</td>\n",
       "    </tr>\n",
       "    <tr>\n",
       "      <th>22</th>\n",
       "      <td>Holiday Inn Ipswich_Ipswich</td>\n",
       "      <td>750</td>\n",
       "    </tr>\n",
       "    <tr>\n",
       "      <th>23</th>\n",
       "      <td>Willersley Castle Hotel_Matlock</td>\n",
       "      <td>1279</td>\n",
       "    </tr>\n",
       "    <tr>\n",
       "      <th>24</th>\n",
       "      <td>The Cleveland_London</td>\n",
       "      <td>416</td>\n",
       "    </tr>\n",
       "    <tr>\n",
       "      <th>25</th>\n",
       "      <td>Antoinette Hotel Wimbledon_London</td>\n",
       "      <td>591</td>\n",
       "    </tr>\n",
       "    <tr>\n",
       "      <th>26</th>\n",
       "      <td>The Golf Hotel Woodhall Spa_Woodhall Spa</td>\n",
       "      <td>310</td>\n",
       "    </tr>\n",
       "    <tr>\n",
       "      <th>27</th>\n",
       "      <td>Best Western Hotel St Pierre_Wakefield</td>\n",
       "      <td>590</td>\n",
       "    </tr>\n",
       "    <tr>\n",
       "      <th>28</th>\n",
       "      <td>mour hotel_Nottingham</td>\n",
       "      <td>502</td>\n",
       "    </tr>\n",
       "    <tr>\n",
       "      <th>29</th>\n",
       "      <td>Mercure Thame Lambert Hotel_Aston Rowant</td>\n",
       "      <td>373</td>\n",
       "    </tr>\n",
       "    <tr>\n",
       "      <th>...</th>\n",
       "      <td>...</td>\n",
       "      <td>...</td>\n",
       "    </tr>\n",
       "    <tr>\n",
       "      <th>2479</th>\n",
       "      <td>Ramada Loughborough Hotel_Loughborough</td>\n",
       "      <td>905</td>\n",
       "    </tr>\n",
       "    <tr>\n",
       "      <th>2480</th>\n",
       "      <td>Dunchurch Park Hotel_Rugby</td>\n",
       "      <td>253</td>\n",
       "    </tr>\n",
       "    <tr>\n",
       "      <th>2481</th>\n",
       "      <td>Mercure Brighton Seafront Hotel_Brighton &amp; Hove</td>\n",
       "      <td>1366</td>\n",
       "    </tr>\n",
       "    <tr>\n",
       "      <th>2482</th>\n",
       "      <td>Bloomsbury Palace Hotel_London</td>\n",
       "      <td>1520</td>\n",
       "    </tr>\n",
       "    <tr>\n",
       "      <th>2483</th>\n",
       "      <td>Harben House_Milton Keynes</td>\n",
       "      <td>60</td>\n",
       "    </tr>\n",
       "    <tr>\n",
       "      <th>2484</th>\n",
       "      <td>Britannia Hotel Bolton_Bolton</td>\n",
       "      <td>964</td>\n",
       "    </tr>\n",
       "    <tr>\n",
       "      <th>2485</th>\n",
       "      <td>Russell Scott Hostels_Sheffield</td>\n",
       "      <td>356</td>\n",
       "    </tr>\n",
       "    <tr>\n",
       "      <th>2486</th>\n",
       "      <td>The County Hotel_Walsall</td>\n",
       "      <td>543</td>\n",
       "    </tr>\n",
       "    <tr>\n",
       "      <th>2487</th>\n",
       "      <td>The New Dome Hotel_London</td>\n",
       "      <td>297</td>\n",
       "    </tr>\n",
       "    <tr>\n",
       "      <th>2488</th>\n",
       "      <td>Fingals B&amp;B_Cornworthy</td>\n",
       "      <td>9</td>\n",
       "    </tr>\n",
       "    <tr>\n",
       "      <th>2489</th>\n",
       "      <td>ibis Coventry South Whitley_Coventry</td>\n",
       "      <td>631</td>\n",
       "    </tr>\n",
       "    <tr>\n",
       "      <th>2490</th>\n",
       "      <td>SO Kings Cross_London</td>\n",
       "      <td>886</td>\n",
       "    </tr>\n",
       "    <tr>\n",
       "      <th>2491</th>\n",
       "      <td>Smart Camden Inn Hostel_London</td>\n",
       "      <td>698</td>\n",
       "    </tr>\n",
       "    <tr>\n",
       "      <th>2492</th>\n",
       "      <td>Stanley House Hotel_London</td>\n",
       "      <td>364</td>\n",
       "    </tr>\n",
       "    <tr>\n",
       "      <th>2493</th>\n",
       "      <td>The Valley of Rocks Hotel_Lynton</td>\n",
       "      <td>89</td>\n",
       "    </tr>\n",
       "    <tr>\n",
       "      <th>2494</th>\n",
       "      <td>The Royal Hotel_Weymouth</td>\n",
       "      <td>90</td>\n",
       "    </tr>\n",
       "    <tr>\n",
       "      <th>2495</th>\n",
       "      <td>Arran House Hotel_London</td>\n",
       "      <td>980</td>\n",
       "    </tr>\n",
       "    <tr>\n",
       "      <th>2496</th>\n",
       "      <td>Quality Hotel Birmingham South NEC_Birmingham</td>\n",
       "      <td>490</td>\n",
       "    </tr>\n",
       "    <tr>\n",
       "      <th>2497</th>\n",
       "      <td>PubLove @ The Green man, Paddington_London</td>\n",
       "      <td>177</td>\n",
       "    </tr>\n",
       "    <tr>\n",
       "      <th>2498</th>\n",
       "      <td>Hotel 261_London</td>\n",
       "      <td>334</td>\n",
       "    </tr>\n",
       "    <tr>\n",
       "      <th>2499</th>\n",
       "      <td>Pembury Hotel_London</td>\n",
       "      <td>963</td>\n",
       "    </tr>\n",
       "    <tr>\n",
       "      <th>2500</th>\n",
       "      <td>Leeford Place Hotel_Battle</td>\n",
       "      <td>15</td>\n",
       "    </tr>\n",
       "    <tr>\n",
       "      <th>2501</th>\n",
       "      <td>Alviston Hotel_Blackpool</td>\n",
       "      <td>191</td>\n",
       "    </tr>\n",
       "    <tr>\n",
       "      <th>2502</th>\n",
       "      <td>Sinatra's_Blackpool</td>\n",
       "      <td>332</td>\n",
       "    </tr>\n",
       "    <tr>\n",
       "      <th>2503</th>\n",
       "      <td>Ramada Birmingham Oldbury M5 J2_Oldbury</td>\n",
       "      <td>996</td>\n",
       "    </tr>\n",
       "    <tr>\n",
       "      <th>2504</th>\n",
       "      <td>Quality Hotel Dudley_Dudley</td>\n",
       "      <td>744</td>\n",
       "    </tr>\n",
       "    <tr>\n",
       "      <th>2505</th>\n",
       "      <td>Tower View Hotel_Blackpool</td>\n",
       "      <td>23</td>\n",
       "    </tr>\n",
       "    <tr>\n",
       "      <th>2506</th>\n",
       "      <td>Airport Hotel Manchester_Manchester</td>\n",
       "      <td>2705</td>\n",
       "    </tr>\n",
       "    <tr>\n",
       "      <th>2507</th>\n",
       "      <td>The Cosener's House_Abingdon</td>\n",
       "      <td>166</td>\n",
       "    </tr>\n",
       "    <tr>\n",
       "      <th>2508</th>\n",
       "      <td>The George &amp; Dragon Inn_Sudbury</td>\n",
       "      <td>252</td>\n",
       "    </tr>\n",
       "  </tbody>\n",
       "</table>\n",
       "<p>2509 rows × 2 columns</p>\n",
       "</div>"
      ],
      "text/plain": [
       "                                                   ID  Reviews\n",
       "0                        Revelstoke Hotel_Bridlington      147\n",
       "1                     Links Country Park Hotel_Cromer      392\n",
       "2                               Hillbark Hotel_Wirral       46\n",
       "3              Best Western Stoke East_Stoke on Trent      525\n",
       "4                 The Wakefield House Hotel_Blackpool       65\n",
       "5                    The Imperial Crown Hotel_Halifax      605\n",
       "6                Warwick Conferences - Arden_Coventry       75\n",
       "7                Holiday Inn Leicester City_Leicester     1043\n",
       "8                   Holiday Inn Chester South_Chester     1272\n",
       "9                             Royal Lodge_Symonds Yat      419\n",
       "10                   George Hotel Wetherspoon_Bewdley      473\n",
       "11                      Rampant Lion Hotel_Manchester      340\n",
       "12                   The Walrus Bar and Hostel_London      449\n",
       "13                        The Marine Hotel_Hartlepool      341\n",
       "14                       Littleover Lodge Hotel_Derby      868\n",
       "15               Novotel Birmingham Centre_Birmingham     1625\n",
       "16     The Priest House On The River_Castle Donington      225\n",
       "17            Club Quarters Hotel, Gracechurch_London     1489\n",
       "18                         Bedford Swan Hotel_Bedford     1034\n",
       "19        Donnington Valley Hotel, Golf & Spa_Newbury      260\n",
       "20                      The Justin James Hotel_London      420\n",
       "21           Park Plaza Sherlock Holmes London_London      670\n",
       "22                        Holiday Inn Ipswich_Ipswich      750\n",
       "23                    Willersley Castle Hotel_Matlock     1279\n",
       "24                               The Cleveland_London      416\n",
       "25                  Antoinette Hotel Wimbledon_London      591\n",
       "26           The Golf Hotel Woodhall Spa_Woodhall Spa      310\n",
       "27             Best Western Hotel St Pierre_Wakefield      590\n",
       "28                              mour hotel_Nottingham      502\n",
       "29           Mercure Thame Lambert Hotel_Aston Rowant      373\n",
       "...                                               ...      ...\n",
       "2479           Ramada Loughborough Hotel_Loughborough      905\n",
       "2480                       Dunchurch Park Hotel_Rugby      253\n",
       "2481  Mercure Brighton Seafront Hotel_Brighton & Hove     1366\n",
       "2482                   Bloomsbury Palace Hotel_London     1520\n",
       "2483                       Harben House_Milton Keynes       60\n",
       "2484                    Britannia Hotel Bolton_Bolton      964\n",
       "2485                  Russell Scott Hostels_Sheffield      356\n",
       "2486                         The County Hotel_Walsall      543\n",
       "2487                        The New Dome Hotel_London      297\n",
       "2488                           Fingals B&B_Cornworthy        9\n",
       "2489             ibis Coventry South Whitley_Coventry      631\n",
       "2490                            SO Kings Cross_London      886\n",
       "2491                   Smart Camden Inn Hostel_London      698\n",
       "2492                       Stanley House Hotel_London      364\n",
       "2493                 The Valley of Rocks Hotel_Lynton       89\n",
       "2494                         The Royal Hotel_Weymouth       90\n",
       "2495                         Arran House Hotel_London      980\n",
       "2496    Quality Hotel Birmingham South NEC_Birmingham      490\n",
       "2497       PubLove @ The Green man, Paddington_London      177\n",
       "2498                                 Hotel 261_London      334\n",
       "2499                             Pembury Hotel_London      963\n",
       "2500                       Leeford Place Hotel_Battle       15\n",
       "2501                         Alviston Hotel_Blackpool      191\n",
       "2502                              Sinatra's_Blackpool      332\n",
       "2503          Ramada Birmingham Oldbury M5 J2_Oldbury      996\n",
       "2504                      Quality Hotel Dudley_Dudley      744\n",
       "2505                       Tower View Hotel_Blackpool       23\n",
       "2506              Airport Hotel Manchester_Manchester     2705\n",
       "2507                     The Cosener's House_Abingdon      166\n",
       "2508                  The George & Dragon Inn_Sudbury      252\n",
       "\n",
       "[2509 rows x 2 columns]"
      ]
     },
     "execution_count": 12,
     "metadata": {},
     "output_type": "execute_result"
    },
    {
     "name": "stdout",
     "output_type": "stream",
     "text": [
      "time: 44 ms\n"
     ]
    }
   ],
   "source": [
    "# Dataframe con numero recensioni per ogni hotel\n",
    "d = pd.DataFrame(data={'_id':[el['_id'] for el in HotelCity],\n",
    "                 'Reviews':[len(HotelCity[i]['Reviews']) for i in range(len(HotelCity))]})\n",
    "d"
   ]
  },
  {
   "cell_type": "markdown",
   "metadata": {},
   "source": [
    "### Controllo Hotel con 0 recensioni"
   ]
  },
  {
   "cell_type": "code",
   "execution_count": 13,
   "metadata": {},
   "outputs": [
    {
     "data": {
      "text/html": [
       "<div>\n",
       "<style scoped>\n",
       "    .dataframe tbody tr th:only-of-type {\n",
       "        vertical-align: middle;\n",
       "    }\n",
       "\n",
       "    .dataframe tbody tr th {\n",
       "        vertical-align: top;\n",
       "    }\n",
       "\n",
       "    .dataframe thead th {\n",
       "        text-align: right;\n",
       "    }\n",
       "</style>\n",
       "<table border=\"1\" class=\"dataframe\">\n",
       "  <thead>\n",
       "    <tr style=\"text-align: right;\">\n",
       "      <th></th>\n",
       "      <th>ID</th>\n",
       "      <th>Reviews</th>\n",
       "    </tr>\n",
       "  </thead>\n",
       "  <tbody>\n",
       "  </tbody>\n",
       "</table>\n",
       "</div>"
      ],
      "text/plain": [
       "Empty DataFrame\n",
       "Columns: [ID, Reviews]\n",
       "Index: []"
      ]
     },
     "execution_count": 13,
     "metadata": {},
     "output_type": "execute_result"
    },
    {
     "name": "stdout",
     "output_type": "stream",
     "text": [
      "time: 4.99 ms\n"
     ]
    }
   ],
   "source": [
    "# d[d['Reviews']==0].index.tolist() mi ridà la lista delle posizioni con reviews = 0\n",
    "d[d['Reviews']==0]"
   ]
  },
  {
   "cell_type": "markdown",
   "metadata": {},
   "source": [
    "##### Cancella hotel con 0 recensioni\n",
    "Ho creato una lista (listdel) che mi toglie l'indice della lista ad ogni elemento della lista siccome ogni volta che si elimina l'elemento dalla lista HotelCity l'indice scala di 1"
   ]
  },
  {
   "cell_type": "code",
   "execution_count": 21,
   "metadata": {
    "collapsed": true
   },
   "outputs": [
    {
     "name": "stdout",
     "output_type": "stream",
     "text": [
      "Error in callback <function LineWatcher.stop at 0x0000021F63510488> (for post_run_cell):\n"
     ]
    },
    {
     "ename": "AssertionError",
     "evalue": "",
     "output_type": "error",
     "traceback": [
      "\u001b[1;31m---------------------------------------------------------------------------\u001b[0m",
      "\u001b[1;31mAssertionError\u001b[0m                            Traceback (most recent call last)",
      "\u001b[1;32m~\\Anaconda3\\lib\\site-packages\\backcall\\backcall.py\u001b[0m in \u001b[0;36madapted\u001b[1;34m(*args, **kwargs)\u001b[0m\n\u001b[0;32m    102\u001b[0m                 \u001b[0mkwargs\u001b[0m\u001b[1;33m.\u001b[0m\u001b[0mpop\u001b[0m\u001b[1;33m(\u001b[0m\u001b[0mname\u001b[0m\u001b[1;33m)\u001b[0m\u001b[1;33m\u001b[0m\u001b[0m\n\u001b[0;32m    103\u001b[0m \u001b[1;31m#            print(args, kwargs, unmatched_pos, cut_positional, unmatched_kw)\u001b[0m\u001b[1;33m\u001b[0m\u001b[1;33m\u001b[0m\u001b[0m\n\u001b[1;32m--> 104\u001b[1;33m             \u001b[1;32mreturn\u001b[0m \u001b[0mcallback\u001b[0m\u001b[1;33m(\u001b[0m\u001b[1;33m*\u001b[0m\u001b[0margs\u001b[0m\u001b[1;33m,\u001b[0m \u001b[1;33m**\u001b[0m\u001b[0mkwargs\u001b[0m\u001b[1;33m)\u001b[0m\u001b[1;33m\u001b[0m\u001b[0m\n\u001b[0m\u001b[0;32m    105\u001b[0m \u001b[1;33m\u001b[0m\u001b[0m\n\u001b[0;32m    106\u001b[0m         \u001b[1;32mreturn\u001b[0m \u001b[0madapted\u001b[0m\u001b[1;33m\u001b[0m\u001b[0m\n",
      "\u001b[1;32m~\\Anaconda3\\lib\\site-packages\\autotime.py\u001b[0m in \u001b[0;36mstop\u001b[1;34m(self)\u001b[0m\n\u001b[0;32m     23\u001b[0m         \u001b[1;32mif\u001b[0m \u001b[0mself\u001b[0m\u001b[1;33m.\u001b[0m\u001b[0mstart_time\u001b[0m\u001b[1;33m:\u001b[0m\u001b[1;33m\u001b[0m\u001b[0m\n\u001b[0;32m     24\u001b[0m             \u001b[0mdiff\u001b[0m \u001b[1;33m=\u001b[0m \u001b[0mtime\u001b[0m\u001b[1;33m.\u001b[0m\u001b[0mtime\u001b[0m\u001b[1;33m(\u001b[0m\u001b[1;33m)\u001b[0m \u001b[1;33m-\u001b[0m \u001b[0mself\u001b[0m\u001b[1;33m.\u001b[0m\u001b[0mstart_time\u001b[0m\u001b[1;33m\u001b[0m\u001b[0m\n\u001b[1;32m---> 25\u001b[1;33m             \u001b[1;32massert\u001b[0m \u001b[0mdiff\u001b[0m \u001b[1;33m>\u001b[0m \u001b[1;36m0\u001b[0m\u001b[1;33m\u001b[0m\u001b[0m\n\u001b[0m\u001b[0;32m     26\u001b[0m             \u001b[0mprint\u001b[0m\u001b[1;33m(\u001b[0m\u001b[1;34m'time: %s'\u001b[0m \u001b[1;33m%\u001b[0m \u001b[0mformat_delta\u001b[0m\u001b[1;33m(\u001b[0m\u001b[0mdiff\u001b[0m\u001b[1;33m)\u001b[0m\u001b[1;33m)\u001b[0m\u001b[1;33m\u001b[0m\u001b[0m\n\u001b[0;32m     27\u001b[0m \u001b[1;33m\u001b[0m\u001b[0m\n",
      "\u001b[1;31mAssertionError\u001b[0m: "
     ]
    }
   ],
   "source": [
    "#listdel = [el - d[d['Reviews']==0].index.tolist().index(el) for el in d[d['Reviews']==0].index.tolist()]\n",
    "\n",
    "#for i in listdel:\n",
    "#    del HotelCity[i]"
   ]
  },
  {
   "cell_type": "markdown",
   "metadata": {},
   "source": [
    "### Controllo se ci sono hotel ripetuti"
   ]
  },
  {
   "cell_type": "code",
   "execution_count": 14,
   "metadata": {
    "scrolled": false
   },
   "outputs": [
    {
     "data": {
      "text/html": [
       "<div>\n",
       "<style scoped>\n",
       "    .dataframe tbody tr th:only-of-type {\n",
       "        vertical-align: middle;\n",
       "    }\n",
       "\n",
       "    .dataframe tbody tr th {\n",
       "        vertical-align: top;\n",
       "    }\n",
       "\n",
       "    .dataframe thead th {\n",
       "        text-align: right;\n",
       "    }\n",
       "</style>\n",
       "<table border=\"1\" class=\"dataframe\">\n",
       "  <thead>\n",
       "    <tr style=\"text-align: right;\">\n",
       "      <th></th>\n",
       "      <th>Count</th>\n",
       "    </tr>\n",
       "    <tr>\n",
       "      <th>ID</th>\n",
       "      <th></th>\n",
       "    </tr>\n",
       "  </thead>\n",
       "  <tbody>\n",
       "  </tbody>\n",
       "</table>\n",
       "</div>"
      ],
      "text/plain": [
       "Empty DataFrame\n",
       "Columns: [Count]\n",
       "Index: []"
      ]
     },
     "execution_count": 14,
     "metadata": {},
     "output_type": "execute_result"
    },
    {
     "name": "stdout",
     "output_type": "stream",
     "text": [
      "time: 9.99 ms\n"
     ]
    }
   ],
   "source": [
    "count = d.groupby('_id', as_index=False).size().to_frame('Count').sort_values(by='Count', ascending=False)\n",
    "double = count[count['Count'] > 1]\n",
    "double"
   ]
  },
  {
   "cell_type": "markdown",
   "metadata": {},
   "source": [
    "Dataset degli hotel ripetuti (per individuare indice nel JSON)"
   ]
  },
  {
   "cell_type": "code",
   "execution_count": 21,
   "metadata": {},
   "outputs": [
    {
     "data": {
      "text/html": [
       "<div>\n",
       "<style scoped>\n",
       "    .dataframe tbody tr th:only-of-type {\n",
       "        vertical-align: middle;\n",
       "    }\n",
       "\n",
       "    .dataframe tbody tr th {\n",
       "        vertical-align: top;\n",
       "    }\n",
       "\n",
       "    .dataframe thead th {\n",
       "        text-align: right;\n",
       "    }\n",
       "</style>\n",
       "<table border=\"1\" class=\"dataframe\">\n",
       "  <thead>\n",
       "    <tr style=\"text-align: right;\">\n",
       "      <th></th>\n",
       "      <th>ID</th>\n",
       "      <th>Reviews</th>\n",
       "    </tr>\n",
       "  </thead>\n",
       "  <tbody>\n",
       "  </tbody>\n",
       "</table>\n",
       "</div>"
      ],
      "text/plain": [
       "Empty DataFrame\n",
       "Columns: [ID, Reviews]\n",
       "Index: []"
      ]
     },
     "execution_count": 21,
     "metadata": {},
     "output_type": "execute_result"
    },
    {
     "name": "stdout",
     "output_type": "stream",
     "text": [
      "time: 66 ms\n"
     ]
    }
   ],
   "source": [
    "d[d.duplicated(subset='_id', keep=False)].sort_values('_id')"
   ]
  },
  {
   "cell_type": "code",
   "execution_count": 14,
   "metadata": {},
   "outputs": [
    {
     "name": "stdout",
     "output_type": "stream",
     "text": [
      "time: 31.3 ms\n"
     ]
    }
   ],
   "source": [
    "#del HotelCity[16]"
   ]
  },
  {
   "cell_type": "markdown",
   "metadata": {},
   "source": [
    "# Salvataggio File"
   ]
  },
  {
   "cell_type": "code",
   "execution_count": null,
   "metadata": {
    "scrolled": true
   },
   "outputs": [],
   "source": [
    "with open('Dataset Hotel\\HotelEngland_3410-6000.json', 'w', encoding='utf-8') as outfile:\n",
    "    json.dump(HotelCity, outfile, sort_keys=True, indent=4, ensure_ascii=False)"
   ]
  }
 ],
 "metadata": {
  "kernelspec": {
   "display_name": "Python 3",
   "language": "python",
   "name": "python3"
  },
  "language_info": {
   "codemirror_mode": {
    "name": "ipython",
    "version": 3
   },
   "file_extension": ".py",
   "mimetype": "text/x-python",
   "name": "python",
   "nbconvert_exporter": "python",
   "pygments_lexer": "ipython3",
   "version": "3.6.7"
  }
 },
 "nbformat": 4,
 "nbformat_minor": 2
}
