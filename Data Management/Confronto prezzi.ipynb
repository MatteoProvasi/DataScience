{
 "cells": [
  {
   "cell_type": "code",
   "execution_count": 1,
   "metadata": {
    "collapsed": true
   },
   "outputs": [],
   "source": [
    "import os\n",
    "import re\n",
    "import numpy as np\n",
    "import pandas as pd\n",
    "\n",
    "os.chdir('C:\\\\Users\\\\prowm')"
   ]
  },
  {
   "cell_type": "markdown",
   "metadata": {},
   "source": [
    "Split della data in modo da ottenere giorno e mese separati"
   ]
  },
  {
   "cell_type": "code",
   "execution_count": 2,
   "metadata": {},
   "outputs": [
    {
     "name": "stdout",
     "output_type": "stream",
     "text": [
      "Prezzo in sterline: 97.0\n",
      "Prezzo in euro: 109\n"
     ]
    }
   ],
   "source": [
    "bookingPrice = pd.read_csv('HotelPrice_completo.csv', delimiter=';', header=0)\n",
    "bookingPrice['Price'] = round(bookingPrice['Price'].astype(int), 0)\n",
    "\n",
    "#Data divisa fra giorno, mese e anno\n",
    "temp = bookingPrice['Check-in Date']\n",
    "year = []; month = []; day = []\n",
    "i = 0\n",
    "for el in temp:\n",
    "    spl = el.split('-')\n",
    "    if len(spl) == 3:\n",
    "        year.append(spl[0]); month.append(spl[1]); day.append(spl[2])\n",
    "        i = i + 1\n",
    "    else:\n",
    "        print('Se printa questo è un problema')\n",
    "        \n",
    "bookingPrice = bookingPrice.assign(Year=year, Month=month, Day=day)\n",
    "#bookingPrice.head()\n",
    "\n",
    "\n",
    "\n",
    "\n",
    "\n",
    "\n",
    "\n",
    "trivagoPrice = pd.read_csv('HotelPriceTrivago.csv', delimiter=';', header=0)\n",
    "\n",
    "#Cambio i prezzi da sterline in euro\n",
    "print('Prezzo in sterline: %s' %(trivagoPrice['Price'].iloc[0]))\n",
    "trivagoPrice['Price'] = round(trivagoPrice['Price'] * 1.12, 0)\n",
    "trivagoPrice['Price'] = trivagoPrice['Price'].astype(int)\n",
    "\n",
    "#Check\n",
    "print('Prezzo in euro: %s' %(trivagoPrice['Price'].iloc[0]))\n",
    "\n",
    "#Data divisa fra giorno, mese e anno\n",
    "temp = trivagoPrice['Check-in Date']\n",
    "year = []; month = []; day = []\n",
    "i = 0\n",
    "for el in temp:\n",
    "    spl = el.split('-')\n",
    "    if len(spl) == 3:\n",
    "        year.append(spl[0]); month.append(spl[1]); day.append(spl[2])\n",
    "        i = i +1\n",
    "    else:\n",
    "        print('Se printa questo è un problema')\n",
    "\n",
    "trivagoPrice = trivagoPrice.assign(Year=year, Month=month, Day=day)\n",
    "#trivagoPrice.head() "
   ]
  },
  {
   "cell_type": "markdown",
   "metadata": {},
   "source": [
    "Si carica il dataset di match e si crea un dizionario chiave-valore con il nome originale e il nome modificato per il match"
   ]
  },
  {
   "cell_type": "code",
   "execution_count": 3,
   "metadata": {
    "collapsed": true
   },
   "outputs": [],
   "source": [
    "#Nomi di match\n",
    "hotel = pd.read_csv('MatchingHotel.csv', delimiter=';', header=0)\n",
    "#hotel.head()\n",
    "\n",
    "diz = {}\n",
    "l = len(hotel)\n",
    "for i in range(l):\n",
    "    if hotel['ID'].iloc[i] not in diz.keys():\n",
    "        diz[hotel['ID'].iloc[i]] = hotel['Match'].iloc[i]"
   ]
  },
  {
   "cell_type": "markdown",
   "metadata": {},
   "source": [
    "Si controllano i nomi in comune nei dataset dei prezzi"
   ]
  },
  {
   "cell_type": "code",
   "execution_count": 4,
   "metadata": {
    "collapsed": true
   },
   "outputs": [],
   "source": [
    "#Aggiornamento del dataset di Booking\n",
    "temp = []\n",
    "for el in bookingPrice['ID']:\n",
    "    el_temp = el.split('_')\n",
    "    el_temp[1] = el_temp[1].lower()\n",
    "    el = el_temp[0] + '_' + el_temp[1]\n",
    "    temp.append(el)\n",
    "bookingPrice = bookingPrice.assign(newId=temp)\n",
    "\n",
    "\n",
    "bookingMatch = []\n",
    "l = len(bookingPrice)\n",
    "for i in range(l):\n",
    "    if bookingPrice['newId'].iloc[i] in diz.keys():\n",
    "        bookingMatch.append(diz[bookingPrice['newId'].iloc[i]])\n",
    "    else:\n",
    "        bookingMatch.append('')\n",
    "bookingPrice = bookingPrice.assign(Match=bookingMatch)\n",
    "\n",
    "\n",
    "\n",
    "#Aggiornamento del dataset di Trivago\n",
    "temp = []\n",
    "for el in trivagoPrice['hotel_id']:\n",
    "    el_temp = el.split('_')\n",
    "    el_temp[1] = el_temp[1].lower()\n",
    "    el = el_temp[0] + '_' + el_temp[1]\n",
    "    temp.append(el)\n",
    "trivagoPrice = trivagoPrice.assign(newId=temp)\n",
    "\n",
    "\n",
    "trivagogMatch = []\n",
    "l = len(trivagoPrice)\n",
    "for i in range(l):\n",
    "    if trivagoPrice['newId'].iloc[i] in diz.keys():\n",
    "        trivagogMatch.append(diz[trivagoPrice['newId'].iloc[i]])\n",
    "    else:\n",
    "        trivagogMatch.append('')\n",
    "trivagoPrice = trivagoPrice.assign(Match=trivagogMatch)"
   ]
  },
  {
   "cell_type": "code",
   "execution_count": 5,
   "metadata": {
    "collapsed": true
   },
   "outputs": [],
   "source": [
    "bookingPrice = bookingPrice[bookingPrice.Match != '']\n",
    "trivagoPrice = trivagoPrice[trivagoPrice.Match != '']"
   ]
  },
  {
   "cell_type": "markdown",
   "metadata": {},
   "source": [
    "Dato che diversi giorni singoli non corrispondono si prendono le settimane come criterio di match per hotel-data."
   ]
  },
  {
   "cell_type": "code",
   "execution_count": 6,
   "metadata": {
    "collapsed": true
   },
   "outputs": [],
   "source": [
    "temp = []\n",
    "for i in range(len(bookingPrice)):\n",
    "    if int(bookingPrice['Day'].iloc[i]) < 8:\n",
    "        temp.append(1)\n",
    "    elif int(bookingPrice['Day'].iloc[i]) < 15:\n",
    "        temp.append(8)\n",
    "    elif int(bookingPrice['Day'].iloc[i]) < 22:\n",
    "        temp.append(15)\n",
    "    elif int(bookingPrice['Day'].iloc[i]) < 29:\n",
    "        temp.append(22)\n",
    "    else:\n",
    "        temp.append(29)\n",
    "bookingPrice = bookingPrice.assign(NewDay=temp)\n",
    "        \n",
    "    \n",
    "temp = []\n",
    "for i in range(len(trivagoPrice)):\n",
    "    if int(trivagoPrice['Day'].iloc[i]) < 8:\n",
    "        temp.append(1)\n",
    "    elif int(trivagoPrice['Day'].iloc[i]) < 15:\n",
    "        temp.append(8)\n",
    "    elif int(trivagoPrice['Day'].iloc[i]) < 22:\n",
    "        temp.append(15)\n",
    "    elif int(trivagoPrice['Day'].iloc[i]) < 29:\n",
    "        temp.append(22)\n",
    "    else:\n",
    "        temp.append(29)\n",
    "trivagoPrice = trivagoPrice.assign(NewDay=temp)"
   ]
  },
  {
   "cell_type": "markdown",
   "metadata": {},
   "source": [
    "Si creano dei nuovi id per fare il match hotel-data"
   ]
  },
  {
   "cell_type": "code",
   "execution_count": 7,
   "metadata": {
    "scrolled": true
   },
   "outputs": [
    {
     "name": "stdout",
     "output_type": "stream",
     "text": [
      "21729 57102\n"
     ]
    }
   ],
   "source": [
    "temp = []\n",
    "l = []\n",
    "for i in range(len(bookingPrice)):\n",
    "    if bookingPrice['Match'].iloc[i] in l:\n",
    "        a = bookingPrice['Match'].iloc[i] + '_' + bookingPrice['Year'].iloc[i] + bookingPrice['Month'].iloc[i] + str(bookingPrice['NewDay'].iloc[i])\n",
    "        if a not in temp:\n",
    "            temp.append(a)\n",
    "        else:\n",
    "            temp.append('')\n",
    "            pass\n",
    "    elif bookingPrice['Match'].iloc[i] in sorted(trivagoPrice['Match']):\n",
    "        l.append(bookingPrice['Match'].iloc[i])\n",
    "        temp.append(bookingPrice['Match'].iloc[i] + '_' + bookingPrice['Year'].iloc[i] + bookingPrice['Month'].iloc[i] + str(bookingPrice['NewDay'].iloc[i]))\n",
    "    else:\n",
    "        temp.append('')\n",
    "    if i%500 == 0:\n",
    "        #print(i/len(bookingPrice))\n",
    "        pass\n",
    "        \n",
    "temp2 = []\n",
    "l = []\n",
    "for i in range(len(trivagoPrice)):\n",
    "    if trivagoPrice['Match'].iloc[i] in l:\n",
    "        a = trivagoPrice['Match'].iloc[i] + '_' + trivagoPrice['Year'].iloc[i] + trivagoPrice['Month'].iloc[i] + str(trivagoPrice['NewDay'].iloc[i])\n",
    "        if a not in temp2:\n",
    "            temp2.append(trivagoPrice['Match'].iloc[i] + '_' + trivagoPrice['Year'].iloc[i] + trivagoPrice['Month'].iloc[i] + str(trivagoPrice['NewDay'].iloc[i]))\n",
    "        else:\n",
    "            temp2.append('')\n",
    "            pass\n",
    "    elif trivagoPrice['Match'].iloc[i] in sorted(bookingPrice['Match']):\n",
    "        temp2.append(trivagoPrice['Match'].iloc[i] + '_' + trivagoPrice['Year'].iloc[i] + trivagoPrice['Month'].iloc[i] + str(trivagoPrice['NewDay'].iloc[i]))\n",
    "        l.append(trivagoPrice['Match'].iloc[i])\n",
    "    else:\n",
    "        temp2.append('')\n",
    "    if i%1000 == 0:\n",
    "        #print(i/len(trivagoPrice))\n",
    "        pass\n",
    "    \n",
    "print(len(temp), len(temp2))"
   ]
  },
  {
   "cell_type": "code",
   "execution_count": 8,
   "metadata": {},
   "outputs": [
    {
     "name": "stdout",
     "output_type": "stream",
     "text": [
      "9534 19928\n"
     ]
    }
   ],
   "source": [
    "#Aggiornamento\n",
    "bookingPrice = bookingPrice.assign(FinalMatch=temp)\n",
    "trivagoPrice = trivagoPrice.assign(FinalMatch=temp2)\n",
    "\n",
    "bookingPrice2 = bookingPrice[bookingPrice.FinalMatch != '']\n",
    "trivagoPrice2 = trivagoPrice[trivagoPrice.FinalMatch != '']\n",
    "print(len(bookingPrice2), len(trivagoPrice2))"
   ]
  },
  {
   "cell_type": "code",
   "execution_count": 9,
   "metadata": {
    "collapsed": true
   },
   "outputs": [],
   "source": [
    "price = pd.merge(bookingPrice2, trivagoPrice2, how='left', left_on='FinalMatch', right_on='FinalMatch')"
   ]
  },
  {
   "cell_type": "code",
   "execution_count": 15,
   "metadata": {},
   "outputs": [
    {
     "name": "stdout",
     "output_type": "stream",
     "text": [
      "453283.0\n",
      "319.663610719\n"
     ]
    }
   ],
   "source": [
    "price = price.dropna()\n",
    "temp = []\n",
    "not_month = ['07', '08']\n",
    "for i in range(len(price)):\n",
    "    if price['Month_x'].iloc[i] not in not_month:\n",
    "        temp.append(price['Price_x'].iloc[i]-price['Price_y'].iloc[i])\n",
    "i = 0\n",
    "somma = 0\n",
    "for i in range(len(temp)):\n",
    "    somma = somma + temp[i]\n",
    "print(somma)\n",
    "print(somma/len(temp))"
   ]
  },
  {
   "cell_type": "code",
   "execution_count": 20,
   "metadata": {},
   "outputs": [
    {
     "name": "stdout",
     "output_type": "stream",
     "text": [
      "[-414.0, -79.0, -58.0, 44.0, 48.0, 78.0, 86.0, 87.0, 88.0, 91.0, 93.0, 95.0, 95.0, 95.0, 96.0, 97.0, 98.0, 99.0, 100.0, 101.0, 102.0, 102.0, 102.0, 102.0, 103.0, 103.0, 103.0, 105.0, 105.0, 106.0, 106.0, 106.0, 106.0, 106.0, 106.0, 106.0, 106.0, 106.0, 106.0, 107.0, 107.0, 108.0, 109.0, 109.0, 110.0, 110.0, 111.0, 111.0, 111.0, 112.0, 112.0, 112.0, 112.0, 113.0, 113.0, 113.0, 115.0, 116.0, 116.0, 117.0, 117.0, 117.0, 117.0, 118.0, 118.0, 118.0, 119.0, 120.0, 120.0, 120.0, 121.0, 121.0, 121.0, 122.0, 122.0, 122.0, 122.0, 123.0, 123.0, 123.0, 124.0, 124.0, 124.0, 124.0, 125.0, 125.0, 125.0, 125.0, 126.0, 126.0, 126.0, 126.0, 127.0, 127.0, 127.0, 127.0, 127.0, 127.0, 127.0, 128.0, 128.0, 128.0, 129.0, 129.0, 130.0, 130.0, 130.0, 131.0, 131.0, 131.0, 131.0, 131.0, 132.0, 132.0, 132.0, 132.0, 133.0, 133.0, 133.0, 134.0, 134.0, 134.0, 134.0, 134.0, 134.0, 134.0, 134.0, 134.0, 135.0, 136.0, 136.0, 136.0, 136.0, 136.0, 136.0, 137.0, 137.0, 137.0, 137.0, 138.0, 138.0, 139.0, 139.0, 139.0, 139.0, 139.0, 140.0, 140.0, 140.0, 140.0, 140.0, 140.0, 140.0, 141.0, 141.0, 141.0, 141.0, 141.0, 141.0, 141.0, 141.0, 142.0, 142.0, 142.0, 142.0, 143.0, 143.0, 143.0, 144.0, 144.0, 144.0, 144.0, 144.0, 144.0, 144.0, 145.0, 145.0, 145.0, 146.0, 146.0, 147.0, 147.0, 147.0, 147.0, 147.0, 147.0, 147.0, 148.0, 148.0, 149.0, 149.0, 149.0, 149.0, 149.0, 150.0, 150.0, 150.0, 150.0, 150.0, 150.0, 150.0, 150.0, 150.0, 150.0, 151.0, 151.0, 151.0, 152.0, 153.0, 153.0, 153.0, 153.0, 153.0, 154.0, 154.0, 155.0, 155.0, 155.0, 155.0, 155.0, 155.0, 155.0, 155.0, 155.0, 155.0, 156.0, 156.0, 156.0, 156.0, 156.0, 156.0, 157.0, 157.0, 157.0, 157.0, 157.0, 157.0, 158.0, 158.0, 158.0, 158.0, 159.0, 159.0, 159.0, 159.0, 159.0, 159.0, 159.0, 159.0, 160.0, 160.0, 160.0, 160.0, 160.0, 161.0, 161.0, 161.0, 162.0, 162.0, 162.0, 162.0, 162.0, 162.0, 162.0, 162.0, 163.0, 163.0, 163.0, 163.0, 163.0, 163.0, 164.0, 164.0, 164.0, 164.0, 164.0, 164.0, 164.0, 165.0, 165.0, 165.0, 165.0, 165.0, 165.0, 165.0, 166.0, 166.0, 166.0, 166.0, 167.0, 167.0, 167.0, 167.0, 167.0, 167.0, 167.0, 167.0, 167.0, 167.0, 167.0, 167.0, 167.0, 168.0, 168.0, 168.0, 168.0, 168.0, 168.0, 168.0, 169.0, 169.0, 169.0, 169.0, 169.0, 169.0, 170.0, 170.0, 170.0, 170.0, 170.0, 170.0, 170.0, 170.0, 171.0, 171.0, 171.0, 171.0, 171.0, 171.0, 171.0, 171.0, 172.0, 172.0, 172.0, 172.0, 173.0, 173.0, 173.0, 174.0, 174.0, 174.0, 174.0, 174.0, 174.0, 175.0, 175.0, 175.0, 175.0, 175.0, 176.0, 176.0, 176.0, 177.0, 177.0, 177.0, 177.0, 177.0, 178.0, 178.0, 178.0, 178.0, 178.0, 179.0, 179.0, 179.0, 179.0, 179.0, 179.0, 179.0, 179.0, 180.0, 180.0, 180.0, 180.0, 180.0, 180.0, 180.0, 180.0, 180.0, 180.0, 180.0, 180.0, 180.0, 180.0, 180.0, 180.0, 180.0, 180.0, 180.0, 180.0, 180.0, 180.0, 180.0, 180.0, 180.0, 180.0, 180.0, 180.0, 181.0, 181.0, 181.0, 182.0, 182.0, 182.0, 182.0, 182.0, 182.0, 182.0, 182.0, 183.0, 183.0, 183.0, 183.0, 184.0, 184.0, 184.0, 184.0, 184.0, 184.0, 185.0, 185.0, 185.0, 186.0, 186.0, 186.0, 186.0, 186.0, 187.0, 187.0, 187.0, 187.0, 187.0, 187.0, 188.0, 188.0, 188.0, 188.0, 188.0, 189.0, 189.0, 189.0, 189.0, 189.0, 189.0, 190.0, 190.0, 190.0, 190.0, 190.0, 190.0, 190.0, 190.0, 191.0, 191.0, 191.0, 191.0, 191.0, 191.0, 191.0, 191.0, 191.0, 191.0, 191.0, 191.0, 191.0, 191.0, 191.0, 191.0, 192.0, 193.0, 193.0, 193.0, 193.0, 193.0, 193.0, 193.0, 194.0, 194.0, 194.0, 194.0, 194.0, 194.0, 194.0, 194.0, 194.0, 194.0, 195.0, 195.0, 195.0, 195.0, 196.0, 196.0, 196.0, 196.0, 196.0, 196.0, 196.0, 197.0, 197.0, 197.0, 197.0, 197.0, 197.0, 197.0, 197.0, 197.0, 198.0, 198.0, 198.0, 198.0, 199.0, 199.0, 199.0, 199.0, 199.0, 199.0, 199.0, 199.0, 199.0, 199.0, 199.0, 200.0, 200.0, 200.0, 200.0, 200.0, 200.0, 200.0, 200.0, 200.0, 200.0, 200.0, 200.0, 200.0, 200.0, 200.0, 200.0, 200.0, 201.0, 201.0, 201.0, 201.0, 201.0, 201.0, 201.0, 202.0, 202.0, 202.0, 202.0, 202.0, 202.0, 203.0, 203.0, 203.0, 204.0, 204.0, 204.0, 204.0, 204.0, 205.0, 205.0, 205.0, 205.0, 205.0, 205.0, 206.0, 206.0, 206.0, 206.0, 206.0, 206.0, 206.0, 206.0, 207.0, 207.0, 208.0, 208.0, 209.0, 209.0, 209.0, 209.0, 209.0, 209.0, 209.0, 210.0, 210.0, 210.0, 210.0, 210.0, 210.0, 210.0, 211.0, 211.0, 211.0, 211.0, 212.0, 212.0, 213.0, 213.0, 214.0, 214.0, 214.0, 214.0, 214.0, 214.0, 214.0, 214.0, 214.0, 215.0, 215.0, 215.0, 215.0, 215.0, 215.0, 215.0, 215.0, 216.0, 216.0, 216.0, 217.0, 217.0, 217.0, 217.0, 218.0, 218.0, 218.0, 218.0, 218.0, 219.0, 219.0, 219.0, 219.0, 219.0, 220.0, 220.0, 220.0, 220.0, 220.0, 221.0, 221.0, 221.0, 221.0, 221.0, 221.0, 222.0, 222.0, 222.0, 222.0, 222.0, 222.0, 223.0, 223.0, 224.0, 224.0, 224.0, 224.0, 224.0, 224.0, 224.0, 225.0, 225.0, 225.0, 225.0, 226.0, 226.0, 226.0, 226.0, 226.0, 227.0, 227.0, 227.0, 227.0, 227.0, 227.0, 227.0, 227.0, 228.0, 228.0, 229.0, 229.0, 229.0, 230.0, 231.0, 231.0, 231.0, 231.0, 231.0, 231.0, 231.0, 232.0, 232.0, 232.0, 232.0, 233.0, 233.0, 233.0, 233.0, 233.0, 233.0, 233.0, 234.0, 234.0, 234.0, 234.0, 234.0, 234.0, 234.0, 235.0, 235.0, 235.0, 235.0, 236.0, 236.0, 236.0, 236.0, 236.0, 236.0, 236.0, 236.0, 236.0, 237.0, 237.0, 237.0, 238.0, 238.0, 238.0, 238.0, 238.0, 239.0, 239.0, 240.0, 240.0, 240.0, 241.0, 242.0, 242.0, 243.0, 244.0, 244.0, 244.0, 245.0, 245.0, 245.0, 245.0, 245.0, 246.0, 246.0, 247.0, 247.0, 247.0, 247.0, 248.0, 248.0, 248.0, 248.0, 249.0, 249.0, 249.0, 249.0, 249.0, 249.0, 249.0, 249.0, 250.0, 250.0, 250.0, 250.0, 250.0, 250.0, 250.0, 250.0, 250.0, 250.0, 250.0, 250.0, 251.0, 251.0, 251.0, 251.0, 251.0, 252.0, 252.0, 252.0, 252.0, 252.0, 253.0, 253.0, 254.0, 254.0, 255.0, 255.0, 255.0, 255.0, 255.0, 255.0, 256.0, 256.0, 256.0, 257.0, 257.0, 257.0, 258.0, 259.0, 259.0, 259.0, 259.0, 259.0, 259.0, 259.0, 260.0, 260.0, 261.0, 261.0, 261.0, 261.0, 261.0, 261.0, 262.0, 262.0, 263.0, 263.0, 263.0, 263.0, 263.0, 264.0, 264.0, 264.0, 264.0, 264.0, 265.0, 265.0, 265.0, 265.0, 265.0, 266.0, 266.0, 266.0, 267.0, 267.0, 267.0, 267.0, 267.0, 268.0, 268.0, 268.0, 269.0, 269.0, 269.0, 270.0, 270.0, 270.0, 270.0, 270.0, 271.0, 271.0, 272.0, 272.0, 272.0, 272.0, 273.0, 273.0, 273.0, 273.0, 273.0, 273.0, 273.0, 273.0, 273.0, 273.0, 273.0, 273.0, 273.0, 273.0, 273.0, 274.0, 274.0, 274.0, 274.0, 275.0, 275.0, 275.0, 275.0, 276.0, 276.0, 276.0, 276.0, 276.0, 277.0, 277.0, 277.0, 277.0, 277.0, 277.0, 278.0, 278.0, 278.0, 278.0, 278.0, 279.0, 279.0, 280.0, 280.0, 280.0, 280.0, 281.0, 282.0, 282.0, 283.0, 283.0, 283.0, 283.0, 283.0, 283.0, 284.0, 284.0, 284.0, 284.0, 284.0, 284.0, 285.0, 285.0, 286.0, 287.0, 287.0, 287.0, 287.0, 287.0, 287.0, 287.0, 287.0, 288.0, 288.0, 288.0, 288.0, 289.0, 290.0, 290.0, 290.0, 290.0, 290.0, 290.0, 291.0, 291.0, 291.0, 291.0, 291.0, 291.0, 292.0, 292.0, 293.0, 293.0, 293.0, 293.0, 293.0, 294.0, 294.0, 294.0, 295.0, 295.0, 295.0, 295.0, 295.0, 295.0, 296.0, 297.0, 297.0, 298.0, 298.0, 298.0, 300.0, 300.0, 300.0, 301.0, 301.0, 301.0, 302.0, 303.0, 303.0, 303.0, 303.0, 303.0, 303.0, 304.0, 304.0, 304.0, 304.0, 304.0, 304.0, 305.0, 305.0, 305.0, 305.0, 305.0, 305.0, 306.0, 307.0, 307.0, 307.0, 307.0, 307.0, 308.0, 309.0, 309.0, 310.0, 310.0, 310.0, 311.0, 311.0, 311.0, 312.0, 312.0, 314.0, 314.0, 315.0, 315.0, 315.0, 315.0, 316.0, 316.0, 317.0, 317.0, 317.0, 317.0, 317.0, 318.0, 318.0, 318.0, 319.0, 320.0, 320.0, 320.0, 320.0, 321.0, 321.0, 321.0, 322.0, 322.0, 323.0, 323.0, 324.0, 324.0, 324.0, 324.0, 324.0, 325.0, 325.0, 326.0, 326.0, 327.0, 328.0, 328.0, 329.0, 330.0, 331.0, 332.0, 332.0, 333.0, 333.0, 333.0, 334.0, 334.0, 335.0, 335.0, 335.0, 336.0, 336.0, 336.0, 337.0, 337.0, 337.0, 338.0, 338.0, 339.0, 340.0, 340.0, 340.0, 341.0, 342.0, 342.0, 342.0, 343.0, 343.0, 343.0, 344.0, 344.0, 344.0, 345.0, 345.0, 346.0, 346.0, 346.0, 346.0, 346.0, 346.0, 346.0, 347.0, 347.0, 347.0, 348.0, 349.0, 350.0, 350.0, 352.0, 352.0, 352.0, 352.0, 353.0, 353.0, 353.0, 353.0, 355.0, 356.0, 356.0, 357.0, 358.0, 360.0, 361.0, 361.0, 363.0, 364.0, 365.0, 365.0, 365.0, 365.0, 366.0, 368.0, 369.0, 369.0, 370.0, 370.0, 370.0, 371.0, 372.0, 373.0, 373.0, 373.0, 373.0, 374.0, 374.0, 374.0, 375.0, 375.0, 376.0, 376.0, 376.0, 378.0, 378.0, 378.0, 379.0, 379.0, 380.0, 380.0, 380.0, 380.0, 382.0, 382.0, 383.0, 384.0, 384.0, 384.0, 385.0, 387.0, 387.0, 388.0, 388.0, 391.0, 392.0, 392.0, 394.0, 395.0, 395.0, 397.0, 397.0, 398.0, 398.0, 398.0, 399.0, 401.0, 405.0, 409.0, 409.0, 409.0, 409.0, 409.0, 411.0, 412.0, 416.0, 417.0, 418.0, 418.0, 420.0, 421.0, 422.0, 425.0, 429.0, 430.0, 430.0, 430.0, 431.0, 431.0, 434.0, 435.0, 435.0, 436.0, 436.0, 437.0, 439.0, 443.0, 449.0, 449.0, 450.0, 450.0, 452.0, 452.0, 458.0, 459.0, 461.0, 462.0, 465.0, 467.0, 468.0, 469.0, 471.0, 471.0, 471.0, 474.0, 479.0, 482.0, 485.0, 485.0, 487.0, 488.0, 489.0, 495.0, 497.0, 497.0, 497.0, 497.0, 498.0, 501.0, 501.0, 501.0, 504.0, 506.0, 509.0, 510.0, 512.0, 513.0, 513.0, 514.0, 519.0, 519.0, 520.0, 520.0, 520.0, 521.0, 524.0, 524.0, 524.0, 528.0, 530.0, 533.0, 533.0, 533.0, 534.0, 534.0, 535.0, 535.0, 536.0, 542.0, 542.0, 542.0, 542.0, 542.0, 543.0, 548.0, 548.0, 552.0, 552.0, 554.0, 560.0, 567.0, 572.0, 580.0, 586.0, 591.0, 596.0, 597.0, 609.0, 625.0, 634.0, 640.0, 646.0, 650.0, 656.0, 656.0, 656.0, 656.0, 656.0, 656.0, 656.0, 656.0, 656.0, 657.0, 657.0, 657.0, 657.0, 657.0, 657.0, 660.0, 665.0, 671.0, 673.0, 674.0, 681.0, 682.0, 688.0, 693.0, 709.0, 710.0, 711.0, 713.0, 716.0, 718.0, 719.0, 725.0, 731.0, 740.0, 742.0, 752.0, 755.0, 764.0, 767.0, 774.0, 778.0, 788.0, 791.0, 800.0, 806.0, 807.0, 814.0, 820.0, 823.0, 825.0, 826.0, 828.0, 828.0, 828.0, 828.0, 835.0, 836.0, 854.0, 866.0, 868.0, 873.0, 893.0, 903.0, 908.0, 938.0, 940.0, 943.0, 943.0, 947.0, 947.0, 964.0, 971.0, 975.0, 984.0, 986.0, 1003.0, 1004.0, 1016.0, 1025.0, 1033.0, 1038.0, 1039.0, 1052.0, 1071.0, 1072.0, 1122.0, 1129.0, 1138.0, 1145.0, 1149.0, 1169.0, 1176.0, 1181.0, 1216.0, 1217.0, 1224.0, 1256.0, 1344.0, 1363.0, 1363.0, 1363.0, 1363.0, 1388.0, 1392.0, 1392.0, 1409.0, 1409.0, 1448.0, 1467.0, 1524.0, 1626.0, 1791.0, 1792.0, 1986.0, 1986.0, 1986.0, 1988.0, 2149.0, 2460.0, 2729.0, 2978.0, 2978.0, 3164.0, 3164.0]\n"
     ]
    }
   ],
   "source": [
    "print(sorted(temp))"
   ]
  },
  {
   "cell_type": "code",
   "execution_count": 23,
   "metadata": {},
   "outputs": [
    {
     "name": "stdout",
     "output_type": "stream",
     "text": [
      "09 Holiday Inn Express Manchester - Salford Quays_Manchester\n",
      "257 vs 671.0\n",
      "3.0\n",
      "01 ibis Styles London Excel_London\n",
      "198 vs 256.0\n",
      "3.0\n",
      "05 Holiday Inn Express Newcastle City Centre_Newcastle upon Tyne\n",
      "247 vs 326.0\n",
      "3.0\n",
      "3\n"
     ]
    }
   ],
   "source": [
    "price = price.dropna()\n",
    "temp = 0\n",
    "for i in range(len(price)):\n",
    "    if (price['Price_x'].iloc[i] - price['Price_y'].iloc[i]) < 0:\n",
    "        temp = temp + 1\n",
    "        print(price['Month_x'].iloc[i], price['ID'].iloc[i] + '\\n' + str(price['Price_x'].iloc[i]) + ' vs ' + str(price['Price_y'].iloc[i]))\n",
    "        print(price['Stars'].iloc[i])\n",
    "print(temp)"
   ]
  }
 ],
 "metadata": {
  "kernelspec": {
   "display_name": "Python 3",
   "language": "python",
   "name": "python3"
  },
  "language_info": {
   "codemirror_mode": {
    "name": "ipython",
    "version": 3
   },
   "file_extension": ".py",
   "mimetype": "text/x-python",
   "name": "python",
   "nbconvert_exporter": "python",
   "pygments_lexer": "ipython3",
   "version": "3.6.7"
  }
 },
 "nbformat": 4,
 "nbformat_minor": 2
}
