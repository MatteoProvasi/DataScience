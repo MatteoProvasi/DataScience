{
 "cells": [
  {
   "cell_type": "markdown",
   "metadata": {},
   "source": [
    "# Face Recognition"
   ]
  },
  {
   "cell_type": "code",
   "execution_count": 32,
   "metadata": {},
   "outputs": [],
   "source": [
    "import cv2\n",
    "import face_recognition\n",
    "import keras\n",
    "import joblib\n",
    "import numpy as np\n",
    "import os\n",
    "import pickle\n",
    "import sklearn\n",
    "import matplotlib\n",
    "from google_images_download import google_images_download\n",
    "from matplotlib import pyplot as plt\n",
    "from PIL import Image, ImageEnhance\n",
    "from time import time\n",
    "from tqdm import tqdm\n",
    "\n",
    "from keras.preprocessing import image as kimage\n",
    "from keras.applications import inception_v3\n",
    "from keras.applications.inception_v3 import preprocess_input\n",
    "from skimage import feature\n",
    "\n",
    "from sklearn.svm import SVC\n",
    "from sklearn.model_selection import train_test_split, GridSearchCV\n",
    "from sklearn.metrics import classification_report, confusion_matrix, accuracy_score"
   ]
  },
  {
   "cell_type": "markdown",
   "metadata": {},
   "source": [
    "<font size=3>\n",
    "\n",
    "La funzione ``load_data`` carica tutte le immagini delle cartelle specificate. <br>I parametri in ingresso sono:\n",
    "* <b>feature_extractor</b>: metodo per estrarre le feature più rilevanti dalle immagini caricate.\n",
    "* <b>base_path</b>: percorso da cui prendere le immagini\n",
    "* <b>face_rec</b>: questo parametro booleano serve per effettuare un riconoscimento facciale delle immagini caricate.\n",
    "* <b>maximages</b>: massimo numero di immagini da caricare\n",
    "* <b>prep</b>: valore booleano per indicare se effettuare del preprocessing sulle immagini\n",
    "<br></br>\n",
    "\n",
    "Con la funzione ``face_locations`` si ritaglia l'immagine in modo da ricavare solamente il volto della persona di interesse. <br> In alcune immagini, dato che era stato preso il profilo della persona, l'algoritmo non era in grado di riconoscere alcun volto: in questi casi si procede senza effettuare il crop.\n",
    "<br></br>\n",
    "Il preprocessing delle immagini, se necessario, è effettuato mediante la funzione ``bilateralFilter``. Questa funzione, dato in input un valore del filtro e la matrice su cui applicarlo, restituisce un'immagine sfocata. Questa soluzione, all'apparenza controversa, risulta essere efficace in diversi contesti: viene infatti rimosso del rumore strutturale legato allo strumento di acquisizione dell'immagine. [Esempio (slide 4)](https://people.csail.mit.edu/sparis/bf_course/slides/04_applications_simple_bf.pdf)<br>\n",
    "Le immagini sono ridimensionate in base al formato richiesto dalla rete neurale che sarà utilizzata per estrarre le features, e i risultati sono salvati in set di train e test come per il primo punto del progetto."
   ]
  },
  {
   "cell_type": "code",
   "execution_count": 40,
   "metadata": {},
   "outputs": [],
   "source": [
    "def load_data(feature_extractor, base_path, face_rec=True, maximages=82, prep=True):\n",
    "    labels = []\n",
    "    features = []\n",
    "    \n",
    "    for di, d in enumerate(sorted(os.listdir(base_path))):\n",
    "        for fi, f in enumerate(sorted(os.listdir(base_path + d + '/'))):\n",
    "            \n",
    "            if f.endswith('.jpg') and fi < maximages:\n",
    "                try:\n",
    "                    image = face_recognition.load_image_file(base_path + d + '/' + f)\n",
    "                    if face_rec: # face recognition\n",
    "                        face_locations = face_recognition.face_locations(image)\n",
    "                        \n",
    "                        if len(face_locations) == 1:          \n",
    "                            top, right, bottom, left = face_locations[0]\n",
    "                            image = image[top:bottom, left:right]\n",
    "                        if len(face_locations) == 0:\n",
    "                            pass\n",
    "                        \n",
    "                        \"\"\"\n",
    "                        Questa condizione si può verificare per il secondo task di classificazione che verrà\n",
    "                        presentato più avanti nel notebook. Nel caso si risconoscano più volti si salterà tutta\n",
    "                        la procedura e si passa alla successiva iterazione.\n",
    "                        \"\"\"\n",
    "                        if len(face_locations) > 2:\n",
    "                            continue\n",
    "                        \n",
    "                        image = np.array(image)\n",
    "                        if prep:\n",
    "                            image = cv2.bilateralFilter(image, 9, 20, 20)\n",
    "                        \n",
    "                    image = cv2.resize(image, dsize=(299, 299))\n",
    "                    \n",
    "                    cur_features = feature_extractor(image)\n",
    "                    features.append(cur_features)\n",
    "                    labels.append(di)\n",
    "                        \n",
    "                except OSError:\n",
    "                    pass\n",
    "                \n",
    "    X_train, X_test, y_train, y_test = train_test_split(features, labels, test_size=0.2, shuffle=True, random_state=1,\n",
    "                                                        stratify=labels)\n",
    "    \n",
    "\n",
    "        \n",
    "    return X_train, X_test, y_train, y_test"
   ]
  },
  {
   "cell_type": "code",
   "execution_count": 15,
   "metadata": {},
   "outputs": [],
   "source": [
    "def nn_inception(img):\n",
    "    x = kimage.img_to_array(img)\n",
    "    x = np.expand_dims(x, axis=0)\n",
    "    x = inception_v3.preprocess_input(x)\n",
    "    f = nn.predict(x)\n",
    "    return f.flatten()"
   ]
  },
  {
   "cell_type": "code",
   "execution_count": 14,
   "metadata": {},
   "outputs": [],
   "source": [
    "nn = inception_v3.InceptionV3(include_top=True, weights='imagenet', input_tensor=None, input_shape=None, pooling='max')"
   ]
  },
  {
   "cell_type": "code",
   "execution_count": 16,
   "metadata": {},
   "outputs": [],
   "source": [
    "def matrix(prediction, tests, names):\n",
    "    # New colormap\n",
    "    norm = matplotlib.colors.Normalize(-1,1)\n",
    "    colors = [[norm(-1.0), \"lightyellow\"],\n",
    "              [norm(-0.95), \"antiquewhite\"],\n",
    "              [norm(-0.8), \"wheat\"],\n",
    "              [norm(-0.3), \"navajowhite\"],\n",
    "              [norm( 0.3), \"orange\"],\n",
    "              [norm( 0.8), \"tomato\"],\n",
    "              [norm( 0.9), \"red\"],\n",
    "              [norm( 1.0), \"darkred\"]]\n",
    "\n",
    "    cmap = matplotlib.colors.LinearSegmentedColormap.from_list(\"\", colors)\n",
    "    \n",
    "    print(classification_report(tests, prediction)) \n",
    "    \n",
    "    print(\"Accuracy: \" + str(round(accuracy_score(tests, prediction), 3)) + \"\\n\")\n",
    "    cm = confusion_matrix(tests, prediction)\n",
    "    print(cm)\n",
    "    cm = cm.astype('float') / cm.sum(axis=0)[:, np.newaxis] # Trasforma i valori in percentuale\n",
    "    \n",
    "    fig = plt.figure(figsize = (10, 10))\n",
    "    ax = fig.add_subplot(111)\n",
    "    cax = ax.matshow(cm, cmap=cmap)\n",
    "    fig.colorbar(cax)\n",
    "\n",
    "    plt.title('Confusion matrix', pad=40)\n",
    "    \n",
    "    # Viene forzata la visualizzazione di tutte le label\n",
    "    ax.set_xticks(np.arange(len(names)))\n",
    "    ax.set_yticks(np.arange(len(names)))\n",
    "    ax.set_xticklabels(names, rotation=35)\n",
    "    ax.set_yticklabels(names)\n",
    "    plt.xlabel('Predicted')\n",
    "    plt.ylabel('True')\n",
    "    plt.show()"
   ]
  },
  {
   "cell_type": "markdown",
   "metadata": {},
   "source": [
    "## Riconoscimento senza preprocessing"
   ]
  },
  {
   "cell_type": "markdown",
   "metadata": {},
   "source": [
    "<font size=3>\n",
    "\n",
    "Il primo task di classificazione consiste nel riconoscere il volto dei componenti del gruppo senza effettuare il preprocessing (viene fatto solo il crop). \n",
    "<br></br>\n",
    " I file sono caricati e passati alla funzione di estrazione delle feature, in questo caso la rete neurale <b>InceptionV3</b>. \n",
    "<br></br>\n",
    "I valori vengono normalizzati; si salvano i vettori in modo da non dover effettuare il loading ogni volta. Viene poi creato un modello di classificazione <b>SVM</b> con tuning sui parametri C e gamma."
   ]
  },
  {
   "cell_type": "code",
   "execution_count": 49,
   "metadata": {},
   "outputs": [],
   "source": [
    "base_path = './rullino/'\n",
    "\n",
    "X_train, X_test, y_train, y_test = load_data(feature_extractor=nn_inception, base_path=base_path, \n",
    "                                             face_rec=True, prep=False)"
   ]
  },
  {
   "cell_type": "code",
   "execution_count": 50,
   "metadata": {},
   "outputs": [],
   "source": [
    "X_train_stack = np.array([])\n",
    "for t in X_train:\n",
    "    X_train_stack = np.concatenate((X_train_stack, t))\n",
    "    \n",
    "eps = 0.001\n",
    "X_train_mean = X_train_stack.mean()\n",
    "X_train_std = X_train_stack.std()\n",
    "X_train = [(t - X_train_mean + eps)/(X_train_std + eps) for t in X_train]\n",
    "X_test = [(t - X_train_mean + eps)/(X_train_std + eps) for t in X_test]"
   ]
  },
  {
   "cell_type": "code",
   "execution_count": 36,
   "metadata": {},
   "outputs": [],
   "source": [
    "np.save('face0F_Xtrain.npy', X_train)\n",
    "np.save('face0F_Xtest.npy', X_test)\n",
    "np.save('face0F_X_train_mean.npy', X_train_mean)\n",
    "np.save('face0F_X_train_std.npy', X_train_std)\n",
    "\n",
    "with open('face0F_ytrain', 'wb') as yte:\n",
    "    pickle.dump(y_train, yte)\n",
    "with open('face0F_ytest', 'wb') as ytr:\n",
    "    pickle.dump(y_test, ytr)"
   ]
  },
  {
   "cell_type": "code",
   "execution_count": 2,
   "metadata": {},
   "outputs": [],
   "source": [
    "X_train = np.load('face0_Xtrain_prepF.npy')\n",
    "X_test = np.load('face0_Xtest_prepF.npy')\n",
    "\n",
    "with open('face0_ytrain_prepF', 'rb') as yte:\n",
    "    y_train = pickle.load(yte)\n",
    "with open('face0_ytest_prepF', 'rb') as ytr:\n",
    "    y_test = pickle.load(ytr)"
   ]
  },
  {
   "cell_type": "code",
   "execution_count": 51,
   "metadata": {},
   "outputs": [
    {
     "name": "stderr",
     "output_type": "stream",
     "text": [
      "c:\\users\\prowm\\anaconda3\\envs\\dsim\\lib\\site-packages\\sklearn\\model_selection\\_search.py:841: DeprecationWarning: The default of the `iid` parameter will change from True to False in version 0.22 and will be removed in 0.24. This will change numeric results when test-set sizes are unequal.\n",
      "  DeprecationWarning)\n"
     ]
    },
    {
     "name": "stdout",
     "output_type": "stream",
     "text": [
      "Addestramento completato in 1.671s\n",
      "Migliore combinazione di parametri:\n",
      " C: 5\n",
      " gamma: 0.005\n"
     ]
    }
   ],
   "source": [
    "param_grid = {'C': [1, 5, 10],\n",
    "              'gamma': [0.001, 0.005, 0.01]} \n",
    "\n",
    "clf = GridSearchCV(SVC(kernel='rbf', class_weight='balanced'), param_grid, cv=5, n_jobs=1)\n",
    "\n",
    "t1 = time()\n",
    "clf = clf.fit(X_train, y_train)\n",
    "print(\"Addestramento completato in %0.3fs\" % (time() - t1))\n",
    "\n",
    "print(\"Migliore combinazione di parametri:\")\n",
    "print(\" C: \" + str(clf.best_estimator_.C))\n",
    "print(\" gamma: \" + str(clf.best_estimator_.gamma))"
   ]
  },
  {
   "cell_type": "code",
   "execution_count": 53,
   "metadata": {},
   "outputs": [
    {
     "data": {
      "text/plain": [
       "['SVCface1.joblib']"
      ]
     },
     "execution_count": 53,
     "metadata": {},
     "output_type": "execute_result"
    }
   ],
   "source": [
    "from joblib import dump, load\n",
    "dump(clf, 'SVCface1.joblib')"
   ]
  },
  {
   "cell_type": "code",
   "execution_count": 52,
   "metadata": {},
   "outputs": [
    {
     "name": "stdout",
     "output_type": "stream",
     "text": [
      "              precision    recall  f1-score   support\n",
      "\n",
      "           0       0.83      0.94      0.88        16\n",
      "           1       0.93      0.82      0.87        17\n",
      "\n",
      "   micro avg       0.88      0.88      0.88        33\n",
      "   macro avg       0.88      0.88      0.88        33\n",
      "weighted avg       0.88      0.88      0.88        33\n",
      "\n",
      "Accuracy: 0.879\n",
      "\n",
      "[[15  1]\n",
      " [ 3 14]]\n"
     ]
    },
    {
     "data": {
      "image/png": "[encoded data removed]",
      "text/plain": [
       "<Figure size 720x720 with 2 Axes>"
      ]
     },
     "metadata": {
      "needs_background": "light"
     },
     "output_type": "display_data"
    }
   ],
   "source": [
    "y_pred = clf.predict(X_test)\n",
    "\n",
    "nomi = [\"Luca\", \"Matteo\"]\n",
    "l = list(np.unique(y_train))\n",
    "for i in range(len(nomi)):\n",
    "    l[i] = nomi[i]\n",
    "    \n",
    "matrix(prediction=y_pred, tests=y_test, names=nomi)"
   ]
  },
  {
   "cell_type": "markdown",
   "metadata": {},
   "source": [
    "<font size=3>\n",
    "\n",
    "La classificazione raggiunge valori di $0.879$ per accuratezza e f1-score, che sono sostanzialmente superiori al random guess, ma allo stesso tempo relativamente bassi per un classificatore che deve identificare solamente due classi."
   ]
  },
  {
   "cell_type": "markdown",
   "metadata": {},
   "source": [
    "## Riconoscimento con preprocessing"
   ]
  },
  {
   "cell_type": "markdown",
   "metadata": {},
   "source": [
    "<font size=3>\n",
    "\n",
    "Al fine di migliorare le performance classificative viene applicato un preprocessing alle immagini secondo la funzione descritta in precedenza.<br>"
   ]
  },
  {
   "cell_type": "code",
   "execution_count": null,
   "metadata": {},
   "outputs": [],
   "source": [
    "base_path = './rullino/'\n",
    "\n",
    "X_train, X_test, y_train, y_test = load_data(feature_extractor=nn_inception, base_path=base_path, \n",
    "                                             face_rec=True, prep=True)"
   ]
  },
  {
   "cell_type": "code",
   "execution_count": 13,
   "metadata": {
    "collapsed": true
   },
   "outputs": [],
   "source": [
    "X_train_stack = np.array([])\n",
    "for t in X_train:\n",
    "    X_train_stack = np.concatenate((X_train_stack, t))\n",
    "    \n",
    "eps = 0.001\n",
    "X_train_mean = X_train_stack.mean()\n",
    "X_train_std = X_train_stack.std()\n",
    "X_train = [(t - X_train_mean + eps)/(X_train_std + eps) for t in X_train]\n",
    "X_test = [(t - X_train_mean + eps)/(X_train_std + eps) for t in X_test]"
   ]
  },
  {
   "cell_type": "code",
   "execution_count": 14,
   "metadata": {
    "collapsed": true
   },
   "outputs": [],
   "source": [
    "np.save('face0_Xtrain_prepT.npy', X_train)\n",
    "np.save('face0_Xtest_prepT.npy', X_test)\n",
    "\n",
    "with open('face0_ytrain_prepT', 'wb') as yte:\n",
    "    pickle.dump(y_train, yte)\n",
    "with open('face0_ytest_prepT', 'wb') as ytr:\n",
    "    pickle.dump(y_test, ytr)"
   ]
  },
  {
   "cell_type": "code",
   "execution_count": 8,
   "metadata": {},
   "outputs": [],
   "source": [
    "X_train = np.load('face0_Xtrain_prepT.npy')\n",
    "X_test = np.load('face0_Xtest_prepT.npy')\n",
    "\n",
    "with open('face0_ytrain_prepT', 'rb') as yte:\n",
    "    y_train = pickle.load(yte)\n",
    "with open('face0_ytest_prepT', 'rb') as ytr:\n",
    "    y_test = pickle.load(ytr)"
   ]
  },
  {
   "cell_type": "code",
   "execution_count": 9,
   "metadata": {},
   "outputs": [
    {
     "name": "stderr",
     "output_type": "stream",
     "text": [
      "c:\\users\\prowm\\anaconda3\\envs\\dsim\\lib\\site-packages\\sklearn\\model_selection\\_search.py:841: DeprecationWarning: The default of the `iid` parameter will change from True to False in version 0.22 and will be removed in 0.24. This will change numeric results when test-set sizes are unequal.\n",
      "  DeprecationWarning)\n"
     ]
    },
    {
     "name": "stdout",
     "output_type": "stream",
     "text": [
      "Addestramento completato in 3.310s\n",
      "Migliore combinazione di parametri:\n",
      " C: 5\n",
      " gamma: 0.005\n"
     ]
    }
   ],
   "source": [
    "param_grid = {'C': [1, 5, 10],\n",
    "              'gamma': [0.001, 0.005, 0.01]} \n",
    "\n",
    "clf = GridSearchCV(SVC(kernel='rbf', class_weight='balanced'), param_grid, cv=5, n_jobs=1)\n",
    "\n",
    "t1 = time()\n",
    "clf = clf.fit(X_train, y_train)\n",
    "print(\"Addestramento completato in %0.3fs\" % (time() - t1))\n",
    "\n",
    "print(\"Migliore combinazione di parametri:\")\n",
    "print(\" C: \" + str(clf.best_estimator_.C))\n",
    "print(\" gamma: \" + str(clf.best_estimator_.gamma))"
   ]
  },
  {
   "cell_type": "code",
   "execution_count": 13,
   "metadata": {},
   "outputs": [
    {
     "data": {
      "text/plain": [
       "['SVCface1.joblib']"
      ]
     },
     "execution_count": 13,
     "metadata": {},
     "output_type": "execute_result"
    }
   ],
   "source": [
    "dump(clf, 'SVCface1.joblib')"
   ]
  },
  {
   "cell_type": "code",
   "execution_count": 10,
   "metadata": {
    "scrolled": false
   },
   "outputs": [
    {
     "name": "stdout",
     "output_type": "stream",
     "text": [
      "              precision    recall  f1-score   support\n",
      "\n",
      "           0       1.00      0.94      0.97        16\n",
      "           1       0.94      1.00      0.97        17\n",
      "\n",
      "   micro avg       0.97      0.97      0.97        33\n",
      "   macro avg       0.97      0.97      0.97        33\n",
      "weighted avg       0.97      0.97      0.97        33\n",
      "\n",
      "Accuracy: 0.97\n",
      "\n",
      "[[15  1]\n",
      " [ 0 17]]\n"
     ]
    },
    {
     "data": {
      "image/png": "[encoded data removed]",
      "text/plain": [
       "<Figure size 720x720 with 2 Axes>"
      ]
     },
     "metadata": {
      "needs_background": "light"
     },
     "output_type": "display_data"
    }
   ],
   "source": [
    "y_pred = clf.predict(X_test)\n",
    "    \n",
    "matrix(prediction=y_pred, tests=y_test, names=nomi)"
   ]
  },
  {
   "cell_type": "markdown",
   "metadata": {},
   "source": [
    "<font size=3>\n",
    "    \n",
    "Il modello raggiunge un'accuratezza di $0.97$, un netto miglioramento rispetto alla classificazione precedente; solamente un'immagine viene classificata erroneamente. "
   ]
  },
  {
   "cell_type": "markdown",
   "metadata": {},
   "source": [
    "# Riconoscimento immagini da Google"
   ]
  },
  {
   "cell_type": "markdown",
   "metadata": {},
   "source": [
    "## Riconoscimento senza preprocessing"
   ]
  },
  {
   "cell_type": "markdown",
   "metadata": {},
   "source": [
    "<font size=3>\n",
    "    \n",
    "Nel task di classificazione precedente sono state volutamente aggiunte alcune complicazioni:\n",
    "* Alcune foto sono state scattate di profilo (in questa condizione ``face_locations`` fatica a fare un crop del volto).\n",
    "* I componenti del gruppo hanno fatto foto sia con che senza occhiali.\n",
    "* Le condizioni di luce, pur non essendo pessime, variavano a seconda dell'immagine.\n",
    "<br></br>\n",
    "\n",
    "Si è voluto replicare l'algoritmo su un task di classificazione ancora più complicato, riguardante immagini di diverse figure politiche internazionali, prese direttamente da Google."
   ]
  },
  {
   "cell_type": "markdown",
   "metadata": {},
   "source": [
    "<font size=3>\n",
    "    \n",
    "La funzione <i>downloadimages</i> permette di scaricare le immagini in base a una query user-based. L'utente ha la possibilità di specificare diversi parametri per la ricerca:\n",
    "* <b>query</b>: parole chiave da ricercare\n",
    "* <b>format</b>: formato dell'immagine (per semplicità si scaricheranno solamente immagini in .jpg, lo stesso formato utilizzato per il primo task)\n",
    "* <b>limit</b>: numero di immagini da scaricare. Questa quantità è fissa per tutti i personaggi, ma l'algoritmo in alcuni casi non riesce a scaricare l'immagine; è quindi possibile che la numerosità non sia la stessa per tutte le classi.\n",
    "* <b>print_urls</b>: valore booleano, se vero viene stampato a video il link dell'immagine scaricata\n",
    "* <b>size</b>: dimensione dell'immagine da scaricare.\n",
    "* <b>type of image</b>: tipologia di immagine da ricercare, nel nostro caso volti di persone\n",
    "* <b>aspect_ratio</b>: proporzioni fra i due assi dell'immagine.\n",
    "<br></br>\n",
    "\n",
    "Questa funzione fa riferimento alla ricerca avanzata che Google mette a disposizione, effettuabile a questo [link](https://www.google.com/advanced_image_search).\n",
    "<br></br>\n",
    "La documentazione relativa alla funzione è consultabile su [Github](https://github.com/hardikvasa/google-images-download/blob/master/google_images_download/google_images_download.py)."
   ]
  },
  {
   "cell_type": "code",
   "execution_count": 19,
   "metadata": {},
   "outputs": [],
   "source": [
    "response = google_images_download.googleimagesdownload()\n",
    "\n",
    "def downloadimages(query):\n",
    "    arguments = {\"keywords\": query, \n",
    "                 \"format\": \"jpg\", \n",
    "                 \"limit\": 80, \n",
    "                 \"print_urls\": False, \n",
    "                 \"size\": \">400*300\", \n",
    "                 \"type of image\": \"face\",\n",
    "                 \"aspect_ratio:\": \"square\"}\n",
    "    \n",
    "    try: \n",
    "        response.download(arguments)     \n",
    "    except FileNotFoundError:  \n",
    "        arguments = {\"keywords\": query, \n",
    "                     \"format\": \"jpg\", \n",
    "                     \"limit\": 80, \n",
    "                     \"print_urls\": False,  \n",
    "                     \"type of image\": \"face\",\n",
    "                     \"size\": \"medium\"}\n",
    "\n",
    "        try: \n",
    "            response.download(arguments) # Downloading the photos based on the given arguments \n",
    "        except: \n",
    "            pass\n",
    "        \n",
    "        \n",
    "search_queries = [\"Angela Merkel\", \"Donald Trump\", \"Giuseppe Conte\", \"Ursula von der Leyen\", \"Xi Jinping\"]"
   ]
  },
  {
   "cell_type": "markdown",
   "metadata": {},
   "source": [
    "<font size=3>\n",
    "    \n",
    "Sono stati scelti i seguenti politici: Angela Merkel, Donald Trump, Giuseppe Conte, Ursula von der Leyen e Xi Jinping. <br> E' stato necessario aggiungere anche il termine <i>face</i> nella ricerca in quanto i risultati il più delle volte non era totalmente pertinenti."
   ]
  },
  {
   "cell_type": "code",
   "execution_count": 86,
   "metadata": {
    "scrolled": true
   },
   "outputs": [
    {
     "name": "stdout",
     "output_type": "stream",
     "text": [
      "\n",
      "Item no.: 1 --> Item name = Angela Merkel face\n",
      "Evaluating...\n",
      "Starting Download...\n",
      "Completed Image ====> 1.Angela-Merkel.jpg\n",
      "Completed Image ====> 2.AngelaM2.jpg\n",
      "Wrong image format returned. Skipping...\n",
      "Completed Image ====> 3.GettyImages-865297138-714x476.jpg\n",
      "Completed Image ====> 4.angela_merkel.jpg\n",
      "Completed Image ====> 5.Angela-Merkel-735558.jpg\n",
      "Completed Image ====> 6.GettyImages-478972608-714x476.jpg\n",
      "Completed Image ====> 7.55a6e63a3e131.jpg\n",
      "Completed Image ====> 8.methode%2Ftimes%2Fprod%2Fweb%2Fbin%2F249b6d4c-1b0e-11e8-9010-1eef6ba5d3de.jpg\n",
      "Completed Image ====> 9.61PGqOoB4fL._SX425_.jpg\n",
      "Completed Image ====> 10.Angela-Merkel-German-Chancellor-Card-Party-Face-Mask-available-now-at-starstills__03440.1474903717.jpg\n",
      "Completed Image ====> 11.angela-merkel-crisis-coalition-migration.jpg\n",
      "Completed Image ====> 12.Angela-Merkel-with-a-Small-Face--127108.jpg\n",
      "Completed Image ====> 13.AP18285452277982.jpg\n",
      "Completed Image ====> 14.merkel-angela.jpg\n",
      "Wrong image format returned. Skipping...\n",
      "Completed Image ====> 15.Merkel-displeased.jpg\n",
      "Completed Image ====> 16.angela-merkel.jpg\n",
      "Completed Image ====> 17.Angela-Merkel39s-poker-face-problem-Tracey-Breaks-the-News.jpg\n",
      "Completed Image ====> 18.GettyImages-589697036-1160x780.jpg\n",
      "Completed Image ====> 19.HMdSBJm.jpg\n",
      "Completed Image ====> 20.180119102604-02-angela-merkel-0119.jpg\n",
      "Completed Image ====> 21.1540835705_GettyImages-1055007974.jpg\n",
      "Completed Image ====> 22.o.486101.jpg\n",
      "Completed Image ====> 23.Angela-Merkel.jpg\n",
      "Completed Image ====> 24.image.jpg\n",
      "Completed Image ====> 25.322EE49700000578-0-image-a-17_1462954440829.jpg\n",
      "Completed Image ====> 26.angela-merkel-germany-elections_650x400_71495000959.jpg\n",
      "Completed Image ====> 27.IMG_2210-kYgB-U3040301162553fmC-1224x916@Corriere-Web-Sezioni.jpg\n",
      "Completed Image ====> 28.04-angela-merkel.w700.h700.jpg\n",
      "Completed Image ====> 29.79066__front.jpg\n",
      "Completed Image ====> 30.angela-merkel-188800.jpg\n",
      "Wrong image format returned. Skipping...\n",
      "Wrong image format returned. Skipping...\n",
      "Completed Image ====> 31.s-l1000.jpg\n",
      "Completed Image ====> 32.germany-angela-merkel-britain-e-u.jpg\n",
      "Completed Image ====> 33.WRQGW3W3PUI6RM7QMJQHFCPP5Y-1280x640.jpg\n",
      "Completed Image ====> 34.Angela-Merkel-11-011.jpg\n",
      "Completed Image ====> 35.5cdd5efb021b4c01477a7414-750-375.jpg\n",
      "Completed Image ====> 36.RTX3K05N.jpg\n",
      "Completed Image ====> 37._dsc8526-angela-merkel-mta-2014.jpg\n",
      "Completed Image ====> 38.merkel-650x300.jpg\n",
      "Completed Image ====> 39.Angela+Merkel+CDU+CSU+Face+Deadlock+Over+Migration+lgF1AAi7Sdyl.jpg\n",
      "Completed Image ====> 40.finishing-touches-are-applied-to-the-face-of-the-wax-figure-of-angela-DECXXB.jpg\n",
      "Completed Image ====> 41.merkel_3472730b_trans_NvBQzQNjv4BqpJliwavx4coWFCaEkEsb3kvxIt-lGGWCWqwLa_RXJU8.jpg\n",
      "Completed Image ====> 42.article-0-02E6859400000578-339_634x689.jpg\n",
      "Completed Image ====> 43.NINTCHDBPICT000502144176.jpg\n",
      "Completed Image ====> 44.5141angela_merkel_pontilenews.jpg\n",
      "Completed Image ====> 45.000_1AE9RB.jpg\n",
      "Completed Image ====> 46.1561992786545.jpg\n",
      "Completed Image ====> 47.2018-11-25_1251734527-640x405.jpg\n",
      "Completed Image ====> 48.1044426.jpg\n",
      "Completed Image ====> 49.3-format2020.jpg\n",
      "Completed Image ====> 50.440px-Lil_Pump%27s_mugshot_0.jpg\n",
      "Completed Image ====> 51.Angela-Merkel.jpg\n",
      "URLError on an image...trying next one... Error: <urlopen error [SSL: CERTIFICATE_VERIFY_FAILED] certificate verify failed (_ssl.c:852)>\n",
      "Completed Image ====> 52.Image-by-www.GlynLowe.com_-700x394.jpg\n",
      "Completed Image ====> 53.Angela-Merkel-1-001.jpg\n",
      "Completed Image ====> 54.methode%2Ftimes%2Fprod%2Fweb%2Fbin%2F74789224-db7d-11e8-9885-9d5526ac6151.jpg\n",
      "Completed Image ====> 55.angela-merkel-ape10.jpg\n",
      "Completed Image ====> 56.Merkel.jpg\n",
      "Completed Image ====> 57.mascara-de-latex-de-angela-merkel.jpg\n",
      "Completed Image ====> 58.Angela_Merkel_%282008%29-2.jpg\n",
      "Completed Image ====> 59.55bd1691a7e00118d9be09b1ab3052c8c5b6cbd3-600x400.jpg\n",
      "Completed Image ====> 60.dl_u378001_008.jpg\n",
      "Completed Image ====> 61.image.jpg\n",
      "Completed Image ====> 62.07Merkel-superJumbo.jpg\n",
      "Completed Image ====> 63.t-shirts-angela-merkel-face-t-shirt-2_1024x1024.jpg\n",
      "Completed Image ====> 64.20-angela-merkel-germany.w700.h700.jpg\n",
      "Wrong image format returned. Skipping...\n",
      "Completed Image ====> 65.Depositphotos_81703880_s-2019.jpg\n",
      "Completed Image ====> 66.Merkel20looking20angry.jpg\n",
      "Completed Image ====> 67.5e9c8bd4676d3ffbb5367222f2f86087.jpg\n",
      "Completed Image ====> 68.merkel-post-elezioni-1030x615.jpg\n",
      "Completed Image ====> 69.merkel_stratega.jpg\n",
      "Completed Image ====> 70.200029809-fe0d5098-715f-4302-a7d3-517d678e2066.jpg\n",
      "Completed Image ====> 71.AngelaM1.jpg\n",
      "Completed Image ====> 72.AMERK02__23867.1560327617.jpg\n",
      "Completed Image ====> 73.nel-2017-uscira-un-film-su-angela-merkel.jpg\n",
      "Completed Image ====> 74.JS119877966_Bloomberg_Germany27s-Chancellor-Angela-Merkel-And-Christian-Social-Union-Leader-Horst-See_trans_NvBQzQNjv4BqgsaO8O78rhmZrDxTlQBjdEbgHFEZVI1Pljic_pW9c90.jpg\n",
      "Completed Image ====> 75.Angela-Griffin-Celebrity-Mask-Card-Face-and-Fancy.jpg\n",
      "Completed Image ====> 76.image-398566-galleryV9-uxwu-398566.jpg\n",
      "Completed Image ====> 77.merkel-faces-1st-question-time-in-german-parliament.jpg\n",
      "Completed Image ====> 78.angela-merkel.jpg\n",
      "Completed Image ====> 79.160707152422-angela-merkel-july-5-exlarge-169.jpg\n",
      "Completed Image ====> 80.angela-merkel-ansa-2.jpg\n",
      "\n",
      "Errors: 6\n",
      "\n",
      "\n",
      "\n",
      "Item no.: 1 --> Item name = Donald Trump face\n",
      "Evaluating...\n",
      "Starting Download...\n",
      "Completed Image ====> 1.41gfCe%2BCCiL._SX425_.jpg\n",
      "Completed Image ====> 2.61BSNoLCikL._SY355_.jpg\n",
      "Completed Image ====> 3.Donald%2BTrump%20l.jpg\n",
      "Wrong image format returned. Skipping...\n",
      "Completed Image ====> 4.61P26R4-NHL._SX425_.jpg\n",
      "Completed Image ====> 5.pp,550x550.u2.jpg\n",
      "Completed Image ====> 6.mwo,x1000,ipad_2_snap-pad,750x1000,f8f8f8.lite-1.jpg\n",
      "Wrong image format returned. Skipping...\n",
      "Completed Image ====> 7.61EWOD5NVOL._UY550_.jpg\n",
      "Wrong image format returned. Skipping...\n",
      "Completed Image ====> 8.trump-cohen-stormy.jpg\n",
      "Completed Image ====> 9.5b05d5001ae66218008b45a2-750-500.jpg\n",
      "Completed Image ====> 10.kisspng-presidency-of-donald-trump-united-states-funny-fac-angery-5b405576735f50.1526214615309428384726.jpg\n",
      "Completed Image ====> 11.flat,800x800,075,f.u1.jpg\n",
      "Completed Image ====> 12.BMwxhoFlulUzCAj-800x450-noPad.jpg\n",
      "Completed Image ====> 13.trump-face-mask.jpg\n",
      "Completed Image ====> 14.10844460-3x2-940x627.jpg\n",
      "Wrong image format returned. Skipping...\n",
      "Completed Image ====> 15.1.6697017.3150563458.JPG\n",
      "Completed Image ====> 16._98634724_compoear.jpg\n",
      "Completed Image ====> 17.5b059bbebd6fc21c008b532a-750-562.jpg\n",
      "Wrong image format returned. Skipping...\n",
      "Completed Image ====> 18.donald-trump-418c6506-14c7-49e8-83da-744f1cabb542.jpg\n",
      "Completed Image ====> 19.12333576-a448-11e9-9a3c-98259c87fba2_image_hires_142006.jpg\n",
      "Completed Image ====> 20.donald-trump-costume-maschera-celebrity-cosplay.jpg\n",
      "Completed Image ====> 21.Halloween-Realistic-Donald-Trump-Face-Rubber-Latex.jpg\n",
      "Completed Image ====> 22.ShockedTrump_Model_Swimsuit_1024x1024.jpg\n",
      "Wrong image format returned. Skipping...\n",
      "Completed Image ====> 23.151216201256-faces-of-donald-trump-sequel-moos-dnt-erin-00013313-super-tease.jpg\n",
      "Completed Image ====> 24.donal-trump-mask-002.jpg\n",
      "Completed Image ====> 25.maxresdefault.jpg\n",
      "Completed Image ====> 26.stf,small,600x600-pad,750x1000,f8f8f8.jpg\n",
      "Completed Image ====> 27.thumbnail_Orange-Trump-e1557488538619.jpg\n",
      "Completed Image ====> 28.kisspng-donald-trump-united-states-funny-face-clip-art-donald-trump-anime-5b45f1a1ee6998.1165693615313104979766.jpg\n",
      "Completed Image ====> 29.New-Donald-Trump-Costume-Maschera-Celebrity-Cosplay-Full-Face-Maschera-In-Lattice-di-Halloween-Del-Partito.jpg\n",
      "Completed Image ====> 30.donald-trump_759.jpg\n",
      "Completed Image ====> 31.donald-trump-big-a3-size-card-face-mask.jpg\n",
      "Completed Image ====> 32.donald-trump-presidential-campaign-photos_8.jpg\n",
      "Completed Image ====> 33.Donald-Trump-Latex-Rubber-Face-Mask-President-USA.jpg\n",
      "Completed Image ====> 34.000_V00T2-e1512766363694.jpg\n",
      "Completed Image ====> 35.31CE408900000578-0-image-a-80_1457010566111.jpg\n",
      "Completed Image ====> 36.b318e4322b17e46aa94923cbe1408149.jpg\n",
      "Completed Image ====> 37.Halloween-Realistic-Donald-Trump-Face-Rubber-Latex.jpg\n",
      "Completed Image ====> 38.ZzzfyXo.jpg\n",
      "Completed Image ====> 39.not-amused-donald-trump-fired-chef-scott-mcmillan-his-job-trump-golf-links-over-shortbread-willy.jpg\n",
      "Wrong image format returned. Skipping...\n",
      "Wrong image format returned. Skipping...\n",
      "Completed Image ====> 40.donald_trump_mask-1000x1000.jpg\n",
      "Completed Image ====> 41.Free-Shipping-Famous-People-Donald-Trump-Mask-Latex-Realistic-Mask-USA-Property-Tycoon-Donald-Trump-Face.jpg\n",
      "Completed Image ====> 42.president-donald-trump-face-mask-pack-of-6-product-image.jpg\n",
      "Completed Image ====> 43.11e9e8ad7d2c600c428e6e.jpg\n",
      "Wrong image format returned. Skipping...\n",
      "Completed Image ====> 44.Donald-Trump.jpg\n",
      "Completed Image ====> 45.s-l400.jpg\n",
      "Completed Image ====> 46.8694273238_3dbc5f4e8e_z.jpg\n",
      "Completed Image ====> 47.CKjxby3UcAA-a-K.jpg\n",
      "Wrong image format returned. Skipping...\n",
      "Wrong image format returned. Skipping...\n",
      "Completed Image ====> 48.il_570xN.1596479006_a3f5.jpg\n",
      "Completed Image ====> 49.lead_720_405.jpg\n",
      "Completed Image ====> 50.trump-poo.JPG\n",
      "Completed Image ====> 51.donald-trump-replaceface-prints.jpg\n",
      "Completed Image ====> 52.513Zak3Hg4L.jpg\n",
      "Completed Image ====> 53.danald-trump.jpg\n",
      "Wrong image format returned. Skipping...\n",
      "Completed Image ====> 54.TEE-046.jpg\n",
      "Completed Image ====> 55.9083946-3x2-700x467.jpg\n",
      "Completed Image ====> 56.il-presidente-americano-donald-trump-maschera.jpg\n",
      "Completed Image ====> 57.Donald-Trump.jpg\n",
      "Wrong image format returned. Skipping...\n",
      "Completed Image ====> 58.Trump_24848_66973023_ver1.0_1280_720_1549034364306_69954069_ver1.0-1.jpg\n",
      "Wrong image format returned. Skipping...\n",
      "Completed Image ====> 59.452562796.jpg\n",
      "Completed Image ====> 60.pjimage.jpg\n",
      "Completed Image ====> 61.head-of-angry-donald-trump-vector-clipart-vector_csp55713252.jpg\n",
      "Completed Image ====> 62.Hot-Sale-Realistic-Human-Latex-Donald-Trump.jpg\n",
      "Completed Image ====> 63.Realistic-Celebrity-Mask-Popular-Face-Rubber-Donald-Trump.jpg\n",
      "Completed Image ====> 64.funny-donald-trump-frog-fb3__700-png.jpg\n",
      "Completed Image ====> 65.skynews-bill-weld-donald-trump_4641268.jpg\n",
      "Completed Image ====> 66.dog-2.jpg\n",
      "Completed Image ====> 67.2bd3e850-991c-49fc-8e11-0167ed7b19ab.jpg\n",
      "Completed Image ====> 68.Denby-The-Honest-Face-of-Donald-Trump.jpg\n",
      "Completed Image ====> 69.JOG-046.jpg\n",
      "Completed Image ====> 70.Donald-Trump-big-mouth-img.jpg\n",
      "Completed Image ====> 71.Ca3ZV4KUUAAjC-x.jpg\n",
      "Wrong image format returned. Skipping...\n",
      "Completed Image ====> 72.160705123250_1.jpg\n",
      "Completed Image ====> 73.cartoon-drawing-of-donald-trump-55.jpg\n",
      "Completed Image ====> 74.donald-trump-orange-skin.jpg\n",
      "Completed Image ====> 75.here-s-why-donald-trump-s-face-shows-up-on-google-when-one-searches-the-word-idiot-1400-1532329646_1100x513.jpg\n",
      "Completed Image ====> 76.d6b.jpg\n",
      "Completed Image ====> 77.Donald-Trump-Mask-Billionaire-Presidential-Costume-Halloween-Celebrity-Cosplay-Mask-Realistic-Latex-Masquerade-Carnival-Masks.jpg\n",
      "Wrong image format returned. Skipping...\n",
      "Completed Image ====> 78.Top-Grade-Famous-Celebrity-Character-Royals-Comedian-TV-Presenters-Props-Donald-Trump-Face-Head-Mask-Overhead.jpg\n",
      "Completed Image ====> 79.Donald_Trump_5440393641_cropped.jpg\n",
      "Wrong image format returned. Skipping...\n",
      "Wrong image format returned. Skipping...\n",
      "Completed Image ====> 80.4q7dq13_donald-trump-reuters-650_625x300_22_March_19.jpg\n",
      "\n",
      "Errors: 18\n",
      "\n",
      "\n",
      "\n",
      "Item no.: 1 --> Item name = Giuseppe Conte face\n",
      "Evaluating...\n",
      "Starting Download...\n",
      "Wrong image format returned. Skipping...\n",
      "Completed Image ====> 1._101682423_hi046962821.jpg\n",
      "Wrong image format returned. Skipping...\n",
      "Completed Image ====> 2.Giuseppe_Conte.jpg\n",
      "Completed Image ====> 3.Giuseppe-Conte-primo-piano.jpg\n",
      "Completed Image ====> 4._101719612_gettyimages-961755250.jpg\n",
      "Wrong image format returned. Skipping...\n",
      "Wrong image format returned. Skipping...\n",
      "Completed Image ====> 5.chi-e-giuseppe-conte-presidente-del-consiglio-del-movimento-5-stelle-giuseppe-conti-premier-5-stelle-800x449.jpg\n",
      "Wrong image format returned. Skipping...\n",
      "Completed Image ====> 6.GIUSEPPE-CONTE-FINE-ANNO-e1545993628102-625x350.jpg\n",
      "Completed Image ====> 7.1556612330314.jpg\n",
      "Completed Image ====> 8.57a37240-43bf-11e9-b5dc-9921d5eb8a6d_image_hires_172122.JPG\n",
      "Completed Image ====> 9.hqdefault.jpg\n",
      "Wrong image format returned. Skipping...\n",
      "Completed Image ====> 10.Giuseppe-Conte-side-stare-afp-640x480.jpg\n",
      "Completed Image ====> 11.1552116060278.jpg\n",
      "Completed Image ====> 12.62e71dfd9eb4ba5940b6e7d265cd5749-kPLG-U434906588176701nF-1224x916@Corriere-Web-Sezioni-593x443.jpg\n",
      "Wrong image format returned. Skipping...\n",
      "Completed Image ====> 13.conte-social.jpg\n",
      "Completed Image ====> 14.scambio-di-mail-che-prova-gli-studi-del-professor-Giuseppe-Conte-alla-New-York-University-960x576.jpg\n",
      "Completed Image ====> 15.AP18152596092878.jpg\n",
      "Completed Image ====> 16.premier-giuseppe-conte-al-senato-vincenzo-livieri-LaPresse-e1537811301689.jpg\n",
      "Completed Image ====> 17.968188.jpg\n",
      "Completed Image ====> 18.conte-1.jpg\n",
      "Completed Image ====> 19.roma-italia-31-maggio-2018-giuseppe-conte-partecipa-a-una-conferenza-stampa-dopo-un-incontro-con-il-presidente-italiano-sergio-mattarella-a-roma-italia-il-31-maggio-2018-la-legge-italiana-il-professor-giuseppe-conte-e-stato-riconfermato-come-primo-ministro-designato-a-condurre-una-coalizione-di-governo-giovedi-il-palazzo-presidenziale-ha-dichiarato-credito-alberto-lingriaxinhuaalamy-live-news-mtyt58.jpg\n",
      "Completed Image ====> 20.1542468615911.jpg\n",
      "Completed Image ====> 21.0c97fa015e4752b42a0ab35d0b49f1a0.jpg\n",
      "Completed Image ====> 22.p-Ad624g_400x400.jpg\n",
      "Completed Image ====> 23.000_1BV17X.jpg\n",
      "Completed Image ====> 24.1000x-1.jpg\n",
      "Completed Image ====> 25.Giuseppe-Conte-intervista.jpg\n",
      "Completed Image ====> 26.1539966986390.jpg\n",
      "Completed Image ====> 27.1527102884621.jpg\n",
      "Completed Image ====> 28.1550238979492.jpg\n",
      "Completed Image ====> 29.1526979931-conte222.jpg\n",
      "URLError on an image...trying next one... Error: <urlopen error timed out>\n",
      "Completed Image ====> 30.0_r76yfbbk.jpg\n",
      "Completed Image ====> 31.giuseppe-conte-sondaggi-politico-elettorali-partito-presidente-del-consiglio.jpg\n",
      "Completed Image ====> 32.084314068-9c728937-e50d-40c4-99b9-84c2fae2f416.jpg\n",
      "Completed Image ====> 33.giuseppe-conte-2.jpg\n",
      "Completed Image ====> 34.giuseppe_conte.jpg\n",
      "Completed Image ====> 35.fondi-russi-3-1068x906.jpg\n",
      "Completed Image ====> 36.GettyImages-1007895020-1160x773.jpg\n",
      "Completed Image ====> 37.giuseppe-conte.jpg\n",
      "Completed Image ====> 38.1554995662512.jpg\n",
      "Completed Image ====> 39.generica-564751.660x368.jpg\n",
      "Completed Image ====> 40.giuseppe-conte-2.jpg\n",
      "Completed Image ====> 41.Giuseppe_Conte-and-huawei.jpg\n",
      "Completed Image ====> 42.conte-premier.jpg\n",
      "Completed Image ====> 43.79165d8a870da3f0ab839934a9a0e939.jpg\n",
      "Completed Image ====> 44.giuseppe-conte-2.jpg\n",
      "Completed Image ====> 45.giuseppe-conte.jpg\n",
      "Completed Image ====> 46.P_98c94b8459.jpg\n",
      "Completed Image ====> 47.LP_8831572.jpg\n",
      "Completed Image ====> 48.matteo-salvini-giuseppe-conte-1029341.jpg\n",
      "Completed Image ====> 49.h_54926276-800x450.jpg\n",
      "Completed Image ====> 50.AP_18197579162795.jpg\n",
      "Completed Image ====> 51.43865920_303.jpg\n",
      "Completed Image ====> 52.1728256-conte-1528190725.jpg\n",
      "Completed Image ====> 53.105604051-20dd6c09-bb8e-482e-887d-8253966a34a7.jpg\n",
      "Completed Image ====> 54.https%3A%2F%2Fmedia.polisblog.it%2F4%2F4cd%2Fgiuseppe-conte.jpg\n",
      "Completed Image ====> 55.0504b221-ef0b-4123-81c2-a4717e7d1aaf_large.jpg\n",
      "Completed Image ====> 56.giuseppe-conte.jpg\n",
      "Completed Image ====> 57.Diritto-a-Internet-Giuseppe-Conte-e1558008180782.jpg\n",
      "Completed Image ====> 58.Giuseppe_Conte.jpg\n",
      "Completed Image ====> 59.1515601364_Salvini.jpg\n",
      "Completed Image ====> 60.Senzanome-23.jpg\n",
      "Completed Image ====> 61.963085798.jpg\n",
      "Completed Image ====> 62.image.jpg\n",
      "Completed Image ====> 63.hqdefault.jpg\n",
      "Completed Image ====> 64.835998de27c527bccc0bc95d9e8ec361.jpg\n",
      "Completed Image ====> 65.44083774_303.jpg\n",
      "Completed Image ====> 66.7805873.jpg\n",
      "Completed Image ====> 67.infografica-giuseppe-conte15.jpg\n",
      "Completed Image ====> 68.07623191.jpg\n",
      "Wrong image format returned. Skipping...\n",
      "Completed Image ====> 69.https%3A%2F%2Fs3-ap-northeast-1.amazonaws.com%2Fpsh-ex-ftnikkei-3937bb4%2Fimages%2F4%2F7%2F1%2F8%2F20528174-1-eng-GB%2F0342260.jpg\n",
      "Completed Image ====> 70.Il-premier-Giuseppe-Conte.jpg\n",
      "Completed Image ====> 71.4493101_1403_giuseppe_conte_aumentoiva.jpg\n"
     ]
    },
    {
     "name": "stdout",
     "output_type": "stream",
     "text": [
      "Completed Image ====> 72.1560783182-lapresse-20190617160217-29669561.jpg\n",
      "Completed Image ====> 73.il-presidente-degli-stati-uniti-trump-tiene-una-conferenza-stampa-congiunta-con-il-primo-ministro-giuseppe-conte-di-italia-nella-sala-est-della-casa-bianca-di-washington-dc-il-lunedi-30-luglio-2018-credito-ron-sachscnp-mediapunch-pbwk71.jpg\n",
      "Completed Image ====> 74.7b8d3e2843ee1738b5abcc22bd73b1a6.jpg\n",
      "Completed Image ====> 75.giuseppe-conte.jpg\n",
      "Completed Image ====> 76._107223554_hi054409069.jpg\n",
      "Completed Image ====> 77.d63785b5-082c-43b8-a7bb-de181a23d3cf_xl.jpg\n",
      "Wrong image format returned. Skipping...\n",
      "Completed Image ====> 78.42631453651_fa1c83af22_b.jpg\n",
      "Completed Image ====> 79.1535464805655.jpg\n",
      "Completed Image ====> 80.d6e91684d4f3695f1be54be296a2b420d02dd002.jpg\n",
      "\n",
      "Errors: 10\n",
      "\n",
      "\n",
      "\n",
      "Item no.: 1 --> Item name = Ursula von der Leyen face\n",
      "Evaluating...\n",
      "Starting Download...\n",
      "Completed Image ====> 1.von-der-leyen-310.jpg\n",
      "Wrong image format returned. Skipping...\n",
      "Wrong image format returned. Skipping...\n",
      "Completed Image ====> 2.190717-ursula_von_der_leyen-mc-1139_2059ce3138ae1a8829b39c95728ba67b.fit-760w.JPG\n",
      "Completed Image ====> 3.Ursula-von-der-Leyen.jpg\n",
      "Completed Image ====> 4.Ursula-von-der-Leyen-presidente-Commissione-Ue.jpg\n",
      "Completed Image ====> 5.20190717_003702_0000-750x375.jpg\n",
      "Completed Image ====> 6.berlino-germania-30-gen-2014-ursula-von-der-leyen-cdu-il-ministro-della-difesa-riceve-lisraeliano-il-segretario-della-difesa-mosche-carrello-jaalon-con-gli-onori-militari-e-dare-una-comune-dichiarazioni-della-stampa-berlino-germania-il-30-gennaio-2014-foto-ursula-von-der-leyen-cdu-il-ministro-della-difesa-reynaldo-paganellinurphotozumapresscomalamy-live-news-drnp1h.jpg\n",
      "Completed Image ====> 7.b3632706972e156c940683728330c9c0-800x.jpg\n",
      "Completed Image ====> 8.ursula-von-der-leyen-ue.jpg\n",
      "Completed Image ====> 9.hkiRHX_w_400x400.jpg\n",
      "Completed Image ====> 10.02082017_Bredehorst_German_weekly_cabinet_meeting_020717_0011-1.jpg\n",
      "Completed Image ====> 11.eu-news-ursula-von-der-leyen-1154561.jpg\n",
      "Completed Image ====> 12.Commissione-Ue-von-der-Leyen-svela-il-programma.-Clima-diritti-sociali-crescita-e-migrazioni_articleimage.jpg\n",
      "Completed Image ====> 13.panoramawebfrit_20190716111616425-1030x615.jpg\n",
      "Completed Image ====> 14.c1_3260248.jpg\n",
      "Completed Image ====> 15.fc9ea9cc7db020fc27f691979c0e3d01.jpg\n",
      "Completed Image ====> 16.4626776_1841_ue_ursula_von.jpg\n",
      "Completed Image ====> 17.ursula-von-der-leyen-1350.jpg\n",
      "Completed Image ====> 18.07062016_Bredehorst_Ursula_von_der_Leyen_0019-1.jpg\n",
      "Completed Image ====> 19.602x338_cmsv2_28da6bb5-e935-5b60-9a4f-35922a2421a3-4025486.jpg\n",
      "URLError on an image...trying next one... Error: <urlopen error [SSL: CERTIFICATE_VERIFY_FAILED] certificate verify failed (_ssl.c:852)>\n",
      "Wrong image format returned. Skipping...\n",
      "Completed Image ====> 20.von-der-leyen10.jpg\n",
      "Wrong image format returned. Skipping...\n",
      "Completed Image ====> 21.1562954556961_1562954573.jpg\n",
      "Completed Image ====> 22.ursula-von-der-leyen-9-1179470.jpg\n",
      "Completed Image ====> 23.ursula_von_der_leyen_getty.jpg\n",
      "Completed Image ====> 24.1153575.jpg\n",
      "Wrong image format returned. Skipping...\n",
      "Completed Image ====> 25.41xSqwR3QDL.jpg\n",
      "Completed Image ====> 26.Ursula-Gertrud-von-der-Leyen-chi-e%CC%80.jpg\n",
      "Completed Image ====> 27.image-765308-breitwandaufmacher-wpxr-765308.jpg\n",
      "Wrong image format returned. Skipping...\n",
      "Completed Image ====> 28.owibhnjidhubn.jpg\n",
      "Completed Image ====> 29.ursula-von-der-leyen-2-e1563482760322.jpg\n",
      "Completed Image ====> 30.1562088037960.jpg\n",
      "Completed Image ====> 31.ursula-leyen-eletta-presidente-commissione-europea-410.jpg\n",
      "Completed Image ====> 32.Ursula-von-der-Leyen.jpg\n",
      "IOError on an image...trying next one... Error: The read operation timed out\n",
      "Completed Image ====> 33.3-format2020.jpg\n",
      "Completed Image ====> 34.german-defense-minister-ursula-von-der-leyen-visits-china-beijing-shutterstock-editorial-9939943x.jpg\n",
      "Completed Image ====> 35.salvini_von_der_leyen_2019_facebook.jpg\n",
      "Completed Image ====> 36.gettyimages-1162503206_0.jpg\n",
      "Completed Image ====> 37.C472CD1F-FC83-4A2D-8109-5EC55AE899D1_v0_h_v0.jpg\n",
      "Completed Image ====> 38.598e8f0236edf9b723d74697a1da975ff987fd4e-1562090474-5d1b9bea-630x420.jpg\n",
      "Completed Image ====> 39.image-1342087-640_panofree-rlgh-1342087.jpg\n",
      "Completed Image ====> 40.Ursula-von-der-Leyen-534.jpg\n",
      "Completed Image ====> 41.Ursula-Fon-La-en.jpg\n",
      "Completed Image ====> 42.Von-der-Leyen-Lagarde-600x400.jpg\n",
      "Completed Image ====> 43.214319970-1720a705-e375-45b2-8b01-3e52673575fe.jpg\n",
      "Wrong image format returned. Skipping...\n",
      "Completed Image ====> 44.deu-von-der-leyen-elterngeld-berlin-germany-shutterstock-editorial-7070990a.jpg\n",
      "Completed Image ====> 45.lp_1003253210.jpg\n",
      "Completed Image ====> 46.ursula-von-der-leyen-1.jpg\n",
      "Completed Image ====> 47.German-Defence-Minister-Ursula-von.jpg\n",
      "Completed Image ====> 48.medium_20190716_EP-090677A_MCU_367_RESIZED_L.JPG\n",
      "Completed Image ====> 49.von-der-leyen-1350.jpg\n",
      "Completed Image ====> 50.si-germanyplagiarism.jpg\n",
      "Completed Image ====> 51.GettyImages-1154845818.jpg\n",
      "Completed Image ====> 52.1-format43.jpg\n",
      "Completed Image ====> 53.Parties+Face+Deadline+Preliminary+Coalition+hnqoI3ECqr6l.jpg\n",
      "Completed Image ====> 54.eu-chief.jpg\n",
      "Completed Image ====> 55.Ursula_von_der_Leyen_MSC_2017.jpg\n",
      "Completed Image ====> 56.german-minister-of-lanour-ursula-von-der-leyen-cdu-gives-a-press-conference-D61TPH.jpg\n",
      "Completed Image ====> 57.webbanners_v3_1.jpg\n",
      "Completed Image ====> 58.dd01a5c21b7e67091f453394d4a18c62.jpg\n",
      "Completed Image ====> 59.25291_duc.jpg\n",
      "Completed Image ====> 60.065708451-422b0af4-bca8-4b4c-8798-f3b98bc46684.jpg\n",
      "Wrong image format returned. Skipping...\n",
      "Completed Image ====> 61.190717-ursula_von_der_leyen-mc-11392_2059ce3138ae1a8829b39c95728ba67b.JPG\n",
      "Completed Image ====> 62.20190720_EUP502_0.jpg\n",
      "Completed Image ====> 63.maxresdefault.jpg\n",
      "Completed Image ====> 64.img800-von-der-leyen--italia--monitoreremo-la-situazione-146446.jpg\n",
      "Completed Image ====> 65.skynews-ursula-von-der-leyen_4719752.jpg\n",
      "Completed Image ====> 66.l_intervento_di_nigel_farage_ans-514-318-834652.jpg\n",
      "Completed Image ====> 67.xEuropaStrasburgoVonDerLeyenElezione_16072019_0025-755x491.jpg\n",
      "Completed Image ====> 68.555_2.jpg\n",
      "Wrong image format returned. Skipping...\n",
      "Completed Image ====> 69.img800-von-der-leyen--in-mare-c--l-obbligo-di-salvare-vite-146363.jpg\n",
      "Completed Image ====> 70.1563295322449_1563295370.jpg\n",
      "Completed Image ====> 71.42ab664620f6723e7c84a56c422c8833.jpg\n",
      "Completed Image ====> 72.5034a1fecae641abb989620123b8d3ac_18.jpg\n",
      "Completed Image ====> 73.ursula-von-der-leyen-primo-piano.jpg\n",
      "Completed Image ====> 74.Leyen.jpg\n",
      "Completed Image ====> 75.LP_10032525.jpg\n",
      "Completed Image ====> 76.Ursula-von-der-Leyen.jpg\n",
      "Completed Image ====> 77.ursula.jpg\n",
      "Wrong image format returned. Skipping...\n",
      "Completed Image ====> 78.URSULA-VON-DER-LEYEN-SASSOLI-1024x635.jpg\n",
      "Completed Image ====> 79.Imagoeconomica_1275272-1.jpg\n",
      "Completed Image ====> 80.Ursula_von_der_Leyen_CDU_wikcom-640x400.jpg\n",
      "\n",
      "Errors: 12\n",
      "\n",
      "\n",
      "\n",
      "Item no.: 1 --> Item name = Xi Jinping face\n",
      "Evaluating...\n",
      "Starting Download...\n",
      "Completed Image ====> 1.top-Artboard_1.jpg\n",
      "Completed Image ====> 2.615d0GhHoCL._SY450_.jpg\n",
      "Completed Image ====> 3.kisspng-xi-jinping-president-of-the-united-states-beijing-5afb8bb875b744.5522209415264347444822.jpg\n",
      "URLError on an image...trying next one... Error: <urlopen error [SSL: CERTIFICATE_VERIFY_FAILED] certificate verify failed (_ssl.c:852)>\n",
      "Completed Image ====> 4.9086414-3x2-940x627.jpg\n",
      "Completed Image ====> 5.jianyong_3321977b.jpg\n",
      "Completed Image ====> 6.XiJinpingAnusFace.jpg\n",
      "Completed Image ====> 7.article-2235004-160AD027000005DC-681_306x449.jpg\n",
      "Completed Image ====> 8.President-Xi-Jinping-936069.jpg\n",
      "Completed Image ====> 9.Mike_Pompeo_and_Xi_Jinping_%28cropped2%29.jpg\n",
      "Completed Image ====> 10.hqdefault.jpg\n",
      "Completed Image ====> 11.chrome_2018-07-26_08-31-13-1.jpg\n",
      "Completed Image ====> 12._98032987_gettyimages-810310530.jpg\n",
      "Completed Image ====> 13.RTX1SHJ6.jpg\n",
      "Completed Image ====> 14.Chinas-President-Xi-Jinping-attends-a-meeting-with-Portugals-Parliamentary-President-Eduardo-Ferro-Rodrigues-at-the-Parliament-in-Lisbon-Portugal-December-5-2018..jpg\n",
      "Completed Image ====> 15.RTS2EIX4.jpg\n",
      "Completed Image ====> 16.bac3d89c-8208-11e9-bda2-8286175bc410_image_hires_140733.JPG\n",
      "Completed Image ====> 17.https%3A%2F%2Fs3-ap-northeast-1.amazonaws.com%2Fpsh-ex-ftnikkei-3937bb4%2Fimages%2F8%2F2%2F4%2F4%2F14664428-2-eng-GB%2FUSA-CHINA_20180709130943_Data.jpg\n",
      "Completed Image ====> 18.jumbo-Artboard_1.jpg\n",
      "Completed Image ====> 19.rtx2gvw1.jpg\n",
      "Completed Image ====> 20.71fOhOr-S6L._SX425_.jpg\n",
      "Completed Image ====> 21.GALY4MKQEE3RDCJL7U7CLC4ZZQ.jpg\n",
      "Completed Image ====> 22.7eb0d546-934a-11e9-a6c8-8445313d8ede_image_hires_132749.jpg\n",
      "Completed Image ====> 23.G20_Trump_Xi_39515.jpg\n",
      "Completed Image ====> 24.murong-xuecun-contrib-articleLarge.jpg\n",
      "Completed Image ====> 25.ChinesePresidentXiJinpingCmyka-703x422.jpg\n",
      "Completed Image ====> 26._104171640_gettyimages-1056282254.jpg\n",
      "Completed Image ====> 27.9e46c038-22b5-11e9-9177-bd3ae24bba4f_image_hires_015210.jpg\n",
      "Wrong image format returned. Skipping...\n",
      "Completed Image ====> 28.xi_great-wall_jason-lee_gettyimages-168135152.jpg\n",
      "Wrong image format returned. Skipping...\n",
      "IOError on an image...trying next one... Error: The read operation timed out\n",
      "Wrong image format returned. Skipping...\n",
      "Completed Image ====> 29.jinping_xi-101217.jpg\n",
      "Completed Image ====> 30.13f5d2ca-2094-11e9-9b66-f8d7b487d426_image_hires_193522.jpg\n",
      "Completed Image ====> 31.1513115582162_img1024-700_dettaglio2_XI-JINPING-TRA-CONTINUITA-E-RIFORME-07-SET-12_540x240_1513115583393.jpg\n",
      "Completed Image ====> 32.1d3a8ee8-8cfa-11e9-b2aa-5ba392ab87ab_image_hires_173444.jpg\n",
      "Wrong image format returned. Skipping...\n",
      "Completed Image ====> 33.7255ef72-f38e-11e8-bbe8-afaa0960a632_1280x720_201424.JPG\n",
      "Wrong image format returned. Skipping...\n",
      "Completed Image ====> 34.bp_xi_200318_82.jpg\n",
      "Completed Image ====> 35.3200.jpg\n",
      "Completed Image ====> 36.25Xijinping-blog1-jumbo.jpg\n",
      "Completed Image ====> 37.Donald-Trump-2.jpg\n",
      "Completed Image ====> 38.china-1024x715.jpg\n",
      "Completed Image ====> 39.us-president-donald-trump-and-china-s-xi-jinping-could-meet-in-june-2019-on-the-sidelines-of-the-g20-summit-in-japan-to-talk-trade-a-top-white-house-aide-says-1557670721762-2.jpg\n",
      "Completed Image ====> 40.1491277197530.jpg\n",
      "Completed Image ====> 41.xi-Jinping.jpg\n",
      "Completed Image ====> 42.2018-04-10T053625Z_959399554_RC1DA98E4240_RTRMADP_3_USA-TRADE-CHINA_2018_04_11_18_58_10.JPG\n",
      "Wrong image format returned. Skipping...\n",
      "Completed Image ====> 43.22china-xi1-articleLarge.jpg\n",
      "Completed Image ====> 44.Donald-Trump_US-770x433.jpg\n",
      "Completed Image ====> 45.f3d5525e-b7da-11e7-affb-32c8d8b6484e_1280x720_112719.jpg\n",
      "Completed Image ====> 46.CHINA-BRICS4-1024x684.jpg\n",
      "URLError on an image...trying next one... Error: <urlopen error [SSL: CERTIFICATE_VERIFY_FAILED] certificate verify failed (_ssl.c:852)>\n",
      "Completed Image ====> 47.chinese-president-closing-jinping-session-beijing-deliver_76f06036-2bfb-11e8-a965-f54d0b6b9edf.jpg\n",
      "Completed Image ====> 48.xi-jinping-kim-jong-un-visit-01.jpg\n",
      "Completed Image ====> 49.china-xi-jinping-taiwan-tsai-ing-wen-ap-640x480.jpg\n",
      "Completed Image ====> 50.GettyImages-660474428-1024x768.jpg\n",
      "Wrong image format returned. Skipping...\n",
      "Completed Image ====> 51.hqdefault.jpg\n",
      "Completed Image ====> 52.522599702.jpg\n",
      "Completed Image ====> 53.gettyimages-459325038.jpg\n",
      "IOError on an image...trying next one... Error: The read operation timed out\n",
      "Completed Image ====> 54.vladimir-putin-xi-jinping.jpg\n",
      "Completed Image ====> 55.Xi-Jinping_Reuters-770x433.jpg\n",
      "Completed Image ====> 56.66499638.jpg\n",
      "Completed Image ====> 57.c8eb32a8-201a-11e9-9b66-f8d7b487d426_image_hires_165248.jpg\n",
      "Completed Image ====> 58.Xi-Jinping-619513.jpg\n",
      "Completed Image ====> 59.xi-1-1.jpg\n",
      "Completed Image ====> 60.oped1-k40E--621x414@LiveMint.jpg\n",
      "Completed Image ====> 61.president-president-combination-showing-jinping-photos-chinese_6f41e5d2-15c0-11e7-a5d6-c47fceabb9c0.jpg\n",
      "Completed Image ====> 62.Resistance-mounts-against-Chinas-President-Xi-Jinping.jpg\n",
      "Completed Image ====> 63.50320086-a-souvenir-stall-at-a-beijing-night-market-selling-xi-jinping-face-plates-and-other-kitsch-rubbish-.jpg\n",
      "Completed Image ====> 64.xi-jinping.jpg\n",
      "Completed Image ====> 65.https%3A%2F%2Fs3-ap-northeast-1.amazonaws.com%2Fpsh-ex-ftnikkei-3937bb4%2Fimages%2F8%2F5%2F4%2F2%2F13722458-1-eng-GB%2F20180423_KimJongUnFace.jpg\n",
      "Completed Image ====> 66.tx-759.jpg\n",
      "Wrong image format returned. Skipping...\n",
      "Completed Image ====> 67.Trump-Xi-Xingping-2.jpg\n",
      "Completed Image ====> 68.929675_Wallpaper2.jpg\n",
      "Completed Image ====> 69.switzerland-davos-politics-economy-diplomacy-203619.jpg\n",
      "Completed Image ====> 70.XiJinping-kjuG--621x414@LiveMint.jpg\n",
      "Completed Image ====> 71.B3-AX757_CHINAX_GR_20180625094716.jpg\n",
      "Wrong image format returned. Skipping...\n",
      "Completed Image ====> 72.Xi-Jinping.jpg\n",
      "Completed Image ====> 73.rts1j6f4-1.jpg\n",
      "Completed Image ====> 74.president-of-chine-xi-jinping-alain-de-maximy.jpg\n",
      "Completed Image ====> 75.editorial-illustration-xi-jinping-general-secretary-communist-party-china-president-people-s-republic-105179755.jpg\n",
      "Completed Image ====> 76.photo417541336400504762.jpg\n",
      "Completed Image ====> 77.rtx1s5nn.jpg\n",
      "Completed Image ====> 78.B7E24D60-3507-489D-9E9F-51DE988050AB.jpg\n",
      "Completed Image ====> 79.Chinas-President-Xi-Jinping_Cropped.jpg\n",
      "Completed Image ====> 80.Xi-Jinping-640x480.jpg\n",
      "\n",
      "Errors: 13\n",
      "\n",
      "\n"
     ]
    }
   ],
   "source": [
    "# Driver Code \n",
    "for query in search_queries: \n",
    "    downloadimages(query + \" face\")  \n",
    "    print()  "
   ]
  },
  {
   "cell_type": "markdown",
   "metadata": {},
   "source": [
    "<font size=3>\n",
    "    \n",
    "Una volta runnato l'algoritmo viene creata nella directory di riferimento una cartella chiamata download con all'interno tante cartelle quante sono le query da effettuare.\n",
    "<br></br>\n",
    "Prima di caricare le immagini secondo la classica procedura si è provveduto ad effettuare manualmente un controllo dei file scaricati. Uno dei problemi principali sono state le immagini in cui il personaggio era presente insieme ad un'altra persona; queste foto sono scartate di default dall'algoritmo di caricamento.<br> Alcune immagini sono state eliminate manualmente in quanto il volto della persona scaricata non era quello della persona ricercata.\n",
    "<br></br>\n",
    "\n",
    "Per questo task sono da tenere conto anche le seguenti complicazioni:\n",
    "* Le immagini scaricate possono riferirsi a periodi temporali diversi, in cui il volto della persona può aver subito delle modifiche fisiologiche.\n",
    "* Come già accennato in precedenza, si è specificato di prendere delle immagini che rappresentassero il volto della persona. Tuttavia l'algoritmo non era sempre preciso; ci sono quindi delle foto dell'intera persona, in alcuni casi presa anche da lontano.\n",
    "* Spesso vengono scaricate delle caricature dei volti originali.\n",
    "<br></br>\n",
    "\n",
    "I passaggi successivi sono gli stessi dei task precedenti con la normalizzazione, il salvataggio degli oggetti creati ed una ricerca dei parametri ottimali della SVM tramite grid search."
   ]
  },
  {
   "cell_type": "code",
   "execution_count": 57,
   "metadata": {},
   "outputs": [],
   "source": [
    "base_path = './downloads/'\n",
    "\n",
    "X_train, X_test, y_train, y_test = load_data(feature_extractor=nn_inception, base_path=base_path, face_rec=True,\n",
    "                                             prep=True)\n",
    "\n",
    "\n",
    "X_train_stack = np.array([])\n",
    "for t in X_train:\n",
    "    X_train_stack = np.concatenate((X_train_stack, t))\n",
    "    \n",
    "eps = 0.001\n",
    "X_train_mean = X_train_stack.mean()\n",
    "X_train_std = X_train_stack.std()\n",
    "X_train = [(t - X_train_mean + eps)/(X_train_std + eps) for t in X_train]\n",
    "X_test = [(t - X_train_mean + eps)/(X_train_std + eps) for t in X_test]"
   ]
  },
  {
   "cell_type": "code",
   "execution_count": 58,
   "metadata": {},
   "outputs": [],
   "source": [
    "np.save('face1F_Xtrain_prep.npy', X_train)\n",
    "np.save('face1F_Xtest_prep.npy', X_test)\n",
    "np.save('face1F_X_train_mean.npy', X_train_mean)\n",
    "np.save('face1F_X_train_std.npy', X_train_std)\n",
    "\n",
    "with open('face1_ytrain_prepF', 'wb') as yte:\n",
    "    pickle.dump(y_train, yte)\n",
    "with open('face1_ytest_prepF', 'wb') as ytr:\n",
    "    pickle.dump(y_test, ytr)"
   ]
  },
  {
   "cell_type": "code",
   "execution_count": 20,
   "metadata": {},
   "outputs": [],
   "source": [
    "X_train = np.load('face1_Xtrain_prepF.npy')\n",
    "X_test = np.load('face1_Xtest_prepF.npy')\n",
    "\n",
    "with open('face1_ytrain_prepF', 'rb') as yte:\n",
    "    y_train = pickle.load(yte)\n",
    "with open('face1_ytest_prepF', 'rb') as ytr:\n",
    "    y_test = pickle.load(ytr)"
   ]
  },
  {
   "cell_type": "code",
   "execution_count": 56,
   "metadata": {},
   "outputs": [
    {
     "name": "stderr",
     "output_type": "stream",
     "text": [
      "c:\\users\\prowm\\anaconda3\\envs\\dsim\\lib\\site-packages\\sklearn\\model_selection\\_search.py:841: DeprecationWarning: The default of the `iid` parameter will change from True to False in version 0.22 and will be removed in 0.24. This will change numeric results when test-set sizes are unequal.\n",
      "  DeprecationWarning)\n"
     ]
    },
    {
     "name": "stdout",
     "output_type": "stream",
     "text": [
      "Addestramento completato in 3.695s\n",
      "Migliore combinazione di parametri:\n",
      " C: 120\n",
      " gamma: 0.0001\n"
     ]
    }
   ],
   "source": [
    "param_grid = {'C': [100, 120, 150],\n",
    "              'gamma': [0.0001, 0.005]} \n",
    "\n",
    "clf = GridSearchCV(SVC(kernel='rbf', class_weight='balanced'), param_grid, cv=5, n_jobs=-1)\n",
    "\n",
    "t1 = time()\n",
    "clf = clf.fit(X_train, y_train)\n",
    "print(\"Addestramento completato in %0.3fs\" % (time() - t1))\n",
    "\n",
    "print(\"Migliore combinazione di parametri:\")\n",
    "print(\" C: \" + str(clf.best_estimator_.C))\n",
    "print(\" gamma: \" + str(clf.best_estimator_.gamma))"
   ]
  },
  {
   "cell_type": "code",
   "execution_count": 22,
   "metadata": {},
   "outputs": [
    {
     "name": "stdout",
     "output_type": "stream",
     "text": [
      "              precision    recall  f1-score   support\n",
      "\n",
      "           0       0.76      0.87      0.81        15\n",
      "           1       0.60      0.50      0.55        12\n",
      "           2       0.50      0.75      0.60        12\n",
      "           3       0.50      0.42      0.45        12\n",
      "           4       0.40      0.22      0.29         9\n",
      "\n",
      "   micro avg       0.58      0.58      0.58        60\n",
      "   macro avg       0.55      0.55      0.54        60\n",
      "weighted avg       0.57      0.58      0.57        60\n",
      "\n",
      "Accuracy: 0.583\n",
      "\n",
      "[[13  1  0  1  0]\n",
      " [ 2  6  2  1  1]\n",
      " [ 0  0  9  2  1]\n",
      " [ 1  2  3  5  1]\n",
      " [ 1  1  4  1  2]]\n"
     ]
    },
    {
     "data": {
      "image/png": "[encoded data removed]",
      "text/plain": [
       "<Figure size 720x720 with 2 Axes>"
      ]
     },
     "metadata": {
      "needs_background": "light"
     },
     "output_type": "display_data"
    }
   ],
   "source": [
    "y_pred = clf.predict(X_test)\n",
    "\n",
    "matrix(prediction=y_pred, tests=y_test, names=search_queries)"
   ]
  },
  {
   "cell_type": "markdown",
   "metadata": {},
   "source": [
    "<font size=3>\n",
    "    \n",
    "La classificazione ottiene dei risultati peggiori rispetto al primo task, con un'accuratezza di $0.583$, che è comunque quasi il triplo di quello che raggiungerebbe in media il random guess."
   ]
  },
  {
   "cell_type": "markdown",
   "metadata": {},
   "source": [
    "## Riconoscimento con preprocessing"
   ]
  },
  {
   "cell_type": "code",
   "execution_count": 22,
   "metadata": {
    "collapsed": true
   },
   "outputs": [],
   "source": [
    "base_path = './downloads/'\n",
    "\n",
    "X_train, X_test, y_train, y_test = load_data(feature_extractor=nn_inception, base_path=base_path, face_rec=True, prep=True)\n",
    "\n",
    "\n",
    "X_train_stack = np.array([])\n",
    "for t in X_train:\n",
    "    X_train_stack = np.concatenate((X_train_stack, t))\n",
    "    \n",
    "eps = 0.001\n",
    "X_train_mean = X_train_stack.mean()\n",
    "X_train_std = X_train_stack.std()\n",
    "X_train = [(t - X_train_mean + eps)/(X_train_std + eps) for t in X_train]\n",
    "X_test = [(t - X_train_mean + eps)/(X_train_std + eps) for t in X_test]"
   ]
  },
  {
   "cell_type": "code",
   "execution_count": 23,
   "metadata": {
    "collapsed": true
   },
   "outputs": [],
   "source": [
    "np.save('face1_Xtrain_prepT.npy', X_train)\n",
    "np.save('face1_Xtest_prepT.npy', X_test)\n",
    "\n",
    "with open('face1_ytrain_prepT', 'wb') as yte:\n",
    "    pickle.dump(y_train, yte)\n",
    "with open('face1_ytest_prepT', 'wb') as ytr:\n",
    "    pickle.dump(y_test, ytr)"
   ]
  },
  {
   "cell_type": "code",
   "execution_count": 23,
   "metadata": {},
   "outputs": [],
   "source": [
    "X_train = np.load('face1_Xtrain_prepT.npy')\n",
    "X_test = np.load('face1_Xtest_prepT.npy')\n",
    "\n",
    "with open('face1_ytrain_prepT', 'rb') as yte:\n",
    "    y_train = pickle.load(yte)\n",
    "with open('face1_ytest_prepT', 'rb') as ytr:\n",
    "    y_test = pickle.load(ytr)"
   ]
  },
  {
   "cell_type": "code",
   "execution_count": 24,
   "metadata": {},
   "outputs": [
    {
     "name": "stderr",
     "output_type": "stream",
     "text": [
      "c:\\users\\prowm\\anaconda3\\envs\\dsim\\lib\\site-packages\\sklearn\\model_selection\\_search.py:841: DeprecationWarning: The default of the `iid` parameter will change from True to False in version 0.22 and will be removed in 0.24. This will change numeric results when test-set sizes are unequal.\n",
      "  DeprecationWarning)\n"
     ]
    },
    {
     "name": "stdout",
     "output_type": "stream",
     "text": [
      "Addestramento completato in 10.605s\n",
      "Migliore combinazione di parametri:\n",
      " C: 40\n",
      " gamma: 0.0005\n"
     ]
    }
   ],
   "source": [
    "param_grid = {'C': [30, 40, 50, 100],\n",
    "              'gamma': [1e-5, 5e-5, 0.0001, 0.0005, 0.001]}\n",
    "\n",
    "clf = GridSearchCV(SVC(kernel='rbf', class_weight='balanced'), param_grid, cv=5, n_jobs=-1)\n",
    "\n",
    "t1 = time()\n",
    "clf = clf.fit(X_train, y_train)\n",
    "print(\"Addestramento completato in %0.3fs\" % (time() - t1))\n",
    "\n",
    "print(\"Migliore combinazione di parametri:\")\n",
    "print(\" C: \" + str(clf.best_estimator_.C))\n",
    "print(\" gamma: \" + str(clf.best_estimator_.gamma))"
   ]
  },
  {
   "cell_type": "code",
   "execution_count": 25,
   "metadata": {},
   "outputs": [
    {
     "name": "stdout",
     "output_type": "stream",
     "text": [
      "              precision    recall  f1-score   support\n",
      "\n",
      "           0       0.65      0.87      0.74        15\n",
      "           1       0.70      0.58      0.64        12\n",
      "           2       0.50      0.58      0.54        12\n",
      "           3       0.67      0.50      0.57        12\n",
      "           4       0.57      0.44      0.50         9\n",
      "\n",
      "   micro avg       0.62      0.62      0.62        60\n",
      "   macro avg       0.62      0.60      0.60        60\n",
      "weighted avg       0.62      0.62      0.61        60\n",
      "\n",
      "Accuracy: 0.617\n",
      "\n",
      "[[13  1  1  0  0]\n",
      " [ 5  7  0  0  0]\n",
      " [ 0  1  7  2  2]\n",
      " [ 2  0  3  6  1]\n",
      " [ 0  1  3  1  4]]\n"
     ]
    },
    {
     "data": {
      "image/png": "[encoded data removed]",
      "text/plain": [
       "<Figure size 720x720 with 2 Axes>"
      ]
     },
     "metadata": {
      "needs_background": "light"
     },
     "output_type": "display_data"
    }
   ],
   "source": [
    "y_pred = clf.predict(X_test)\n",
    "\n",
    "matrix(prediction=y_pred, tests=y_test, names=search_queries)"
   ]
  },
  {
   "cell_type": "markdown",
   "metadata": {},
   "source": [
    "<font size=3>\n",
    "    \n",
    "Il preprocessing non migliora di molto le performance classificative; come nota positiva si può evidenziare il calo del tasso di misclassificazione fra <i>Giuseppe Conte</i> e <i>Xi Jinping</i>.\n",
    "<br></br>\n",
    "\n",
    "La presenza di alta variabilità intra-classe unita ad un maggior numero di categorie da classificare rende quasi impossibile raggiungere livelli di accuratezza simili a quelli del primo task.\n",
    "Fra i possibili miglioramenti si potrebbero includere delle ulteriori tecniche di preprocessing, oppure l'utilizzo di una diversa tecnica di feature extraction, anche se <b>InceptionV3</b> è considerata una delle migliori reti per l'image recognition. <br> "
   ]
  }
 ],
 "metadata": {
  "kernelspec": {
   "display_name": "Python 3",
   "language": "python",
   "name": "python3"
  },
  "language_info": {
   "codemirror_mode": {
    "name": "ipython",
    "version": 3
   },
   "file_extension": ".py",
   "mimetype": "text/x-python",
   "name": "python",
   "nbconvert_exporter": "python",
   "pygments_lexer": "ipython3",
   "version": "3.6.7"
  }
 },
 "nbformat": 4,
 "nbformat_minor": 2
}
