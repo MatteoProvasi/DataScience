{
 "cells": [
  {
   "cell_type": "markdown",
   "metadata": {},
   "source": [
    "# Provasi Matteo (782922)"
   ]
  },
  {
   "cell_type": "markdown",
   "metadata": {},
   "source": [
    "# Assignment 2"
   ]
  },
  {
   "cell_type": "markdown",
   "metadata": {},
   "source": [
    "## Consegna\n",
    "<br>\n",
    "<font size=3>\n",
    "    \n",
    "\n",
    "Data un'immagine:\n",
    "1. Calcola LBP sull'intera immagine\n",
    "2. La scompone in blocchi (cosa utile avere blocchi sovrapposti), il primo dovrà condividere dei pixel con il secondo; è stato dimostrato che includere più volte la parte di un immagine in descrittori diversi aumenta le performance.\n",
    "3. Calcolare un istogramma di LBP, non per l'intera immagine ma per ciascun blocco"
   ]
  },
  {
   "cell_type": "code",
   "execution_count": 1,
   "metadata": {},
   "outputs": [],
   "source": [
    "import os\n",
    "import cv2 as cv\n",
    "import pandas as pd\n",
    "from matplotlib import pyplot as plt\n",
    "from skimage import feature\n",
    "from sklearn.svm import SVC\n",
    "from sklearn.model_selection import train_test_split, GridSearchCV\n",
    "from sklearn.metrics import classification_report, confusion_matrix, accuracy_score\n",
    "from sklearn.cluster import MiniBatchKMeans\n",
    "import numpy as np\n",
    "from time import time\n",
    "from tqdm import tqdm\n",
    "\n",
    "base_path = \"C:/path/\""
   ]
  },
  {
   "cell_type": "markdown",
   "metadata": {},
   "source": [
    "<font size=3>\n",
    "    \n",
    "La funzione <b>load_data</b> legge le immagini nelle cartelle presenti nella directory e una volta caricatapassa l'immagine alla funzione <b>lbp_features</b> che effettua un local binary patteri. I parametri immessi nella funzione vera e propria di LBP (<b>feature.local_binary_pattern</b>) sono:\n",
    "* <b>img</b>: l'immagine letta su cui viene fatto il LBP\n",
    "* <b>P</b>: il numero di punti da considerarare\n",
    "* <b>R</b>: il raggio su cui cercare i vicini\n",
    "* <b>method</b>: messo su <i>uniform</i> versione migliorara del metodo di defaul che è invariante per rotazione.\n",
    "\n",
    "<br></br>\n",
    "Come espresso nella richiesta dell'esercizio, il LBP deve essere calcolato non sull'intera immagine ma su blocchi (sovrapposti) dato che seguendo questo metodo si ha un miglior input per la futura classificazione. In aggiunta nella funzione creata sono stati aggiunti i seguenti parametri:\n",
    "* <b>y_shift</b>: la dimensione dello slide della finestra sull'asse y\n",
    "* <b>x_shift</b>: come il precedente sull'asse x\n",
    "* <b>size</b>: è la dimensione della finestra. Questo valore per far sì che si prendano blocchi sovrapposti deve essere strattamente maggiore dei due valori precedenti.\n",
    "\n",
    "<br></br>\n",
    "Trovata la finestra, si calcola l'istogramma sulla porzione di immagine selezionata e l'output è salvato in una lista. La funzione restituisce un array di tutti gli elementi creati nelle iterazioni.\n",
    "\n",
    "<br></br>\n",
    "Ritornando alla funzione <b>load_data</b> questi valori di output saranno le feature che serviranno per la classificazione, nella successiva riga vengnono salvati i label che indicano la classe di appartenenza dell'immagine. Come ultimo step attraverso la funzione <b>train_test_split</b> sono creati i \"dataset\" di train e test partendo dalle feature e le rispettive label. "
   ]
  },
  {
   "cell_type": "code",
   "execution_count": 2,
   "metadata": {},
   "outputs": [],
   "source": [
    "def load_data(feature_extractor, maximages=100):\n",
    "    labels = []\n",
    "    features = []\n",
    "    \n",
    "    for di, d in enumerate(sorted(os.listdir(base_path))):\n",
    "        for fi, f in enumerate(sorted(os.listdir(base_path + d + '/'))):\n",
    "            \n",
    "            if f.endswith('.jpg') and fi < maximages:\n",
    "                image = cv.imread(base_path + d + '/' + f, 0)\n",
    "                cur_features = feature_extractor(image)\n",
    "                features.append(cur_features)\n",
    "                labels.append(di)\n",
    "                \n",
    "    X_train, X_test, y_train, y_test = train_test_split(features, labels, test_size=0.3, shuffle=True, random_state=0)\n",
    "    return X_train, X_test, y_train, y_test\n",
    "\n",
    "\n",
    "def lbp_features(img, P=24, R=8, y_shift=8, x_shift=8, size=16):\n",
    "    img = feature.local_binary_pattern(img, P=P, R=R, method='uniform')\n",
    "    feats = []\n",
    "    \n",
    "    for y in range(0, img.shape[0], y_shift):\n",
    "        for x in range(0, img.shape[1], x_shift):\n",
    "            \n",
    "            block = img[y:(y+size), x:(x+size)]\n",
    "            hist = np.bincount(block.flatten().astype(int), minlength=P+2)\n",
    "            feats.append(hist)\n",
    "            \n",
    "    return np.array(feats)"
   ]
  },
  {
   "cell_type": "markdown",
   "metadata": {},
   "source": [
    "<font size=3>\n",
    "    \n",
    "Nella funzione <b>bow</b> si prendono i descrittori che sono stati messi in una lista per ogni immagine e li si concatenano in un'unica lista  mediante <b>np.concatenate</b>. <br></br> \n",
    "L'obiettivo di questa funzione è quello di trovare un insieme di \"parole\" che mi descrivano l'immagine, in sostanza un conteggio delle feature che definiscono l'immagine. Per costruire il vocabolario viene utilizzato un algoritmo di clustering <b>MiniBatchKMeans</b>, in quest esempio kmeans. Una delle limitazione di questo algoritmo è che l'utente deve definire il numero di cluster come input dell'algoritmo. Non esiste un numero corretto di parole, ma la quantità varia a seconda del problema. Una possibile via è quella di ricavare questo numero dal numero medio di descrittori delle immagini. <br></br>\n",
    "Per avere risultati migliori si effettua una normalizzazione delle feature prima del kmeans. Dopo aver trovato i cluster, tramite la funzione <b>bow_feature</b>, ogni feature di ogni singola viene associata ad uno dei centroidi. Come passo finale gli istogrammi vengnon normalizzati in modo tale che sommino a $1$. Questo passaggio sarà utile al classificatore nel passaggio successivo."
   ]
  },
  {
   "cell_type": "code",
   "execution_count": 3,
   "metadata": {},
   "outputs": [],
   "source": [
    "def bow_features(feats, dictionary, nwords):\n",
    "    quantized = dictionary.predict(feats)\n",
    "    t = np.bincount(quantized, minlength=nwords)\n",
    "    return t\n",
    "\n",
    "\n",
    "def bow(X_train, X_test, nwords=0, normalize=True):\n",
    "    X_train_stack = np.zeros((0,X_train[0].shape[1]), dtype=np.float32)\n",
    "    for t in X_train:\n",
    "        X_train_stack = np.concatenate((X_train_stack, t))\n",
    "        \n",
    "    if nwords == 0:\n",
    "        nwords = int(np.mean([desc.shape[0] for desc in X_train]) / 10)\n",
    "    if nwords > 300:\n",
    "        nwords = 300\n",
    "        \n",
    "    if normalize:\n",
    "        eps = 0.001\n",
    "        X_train_mean = X_train_stack.mean(axis=0)\n",
    "        X_train_std = X_train_stack.std(axis=0)\n",
    "        X_train = [(t - X_train_mean + eps)/(X_train_std + eps) for t in X_train]\n",
    "        X_test = [(t - X_train_mean + eps)/(X_train_std + eps) for t in X_test]\n",
    "        X_train_stack = (X_train_stack - X_train_mean + eps)/(X_train_std + eps)\n",
    "        \n",
    "    dictionary = MiniBatchKMeans(n_clusters=nwords)\n",
    "    dictionary.fit(X_train_stack)\n",
    "    \n",
    "    X_train = [bow_features(f, dictionary, nwords) for f in X_train]\n",
    "    X_test = [bow_features(f, dictionary, nwords) for f in X_test]\n",
    "    X_train = [hist/hist.sum() for hist in X_train]\n",
    "    X_test = [hist/hist.sum() for hist in X_test]\n",
    "    \n",
    "    return X_train, X_test"
   ]
  },
  {
   "cell_type": "code",
   "execution_count": 4,
   "metadata": {
    "scrolled": true
   },
   "outputs": [],
   "source": [
    "X_train, X_test, y_train, y_test = load_data(feature_extractor=lbp_features, maximages=500)"
   ]
  },
  {
   "cell_type": "code",
   "execution_count": 5,
   "metadata": {},
   "outputs": [],
   "source": [
    "X_train2, X_test2 = bow(X_train, X_test, nwords=300)"
   ]
  },
  {
   "cell_type": "markdown",
   "metadata": {},
   "source": [
    "<font size=3>\n",
    "\n",
    "Si cercano di classificare gli istogrammi tramite un modello di classificazione, in questo caso una <b>SVM</b>. Per ottenere delle performance classificative miglori si effettua una ricerca di parametri tramite <b>GridSearchCV</b>: dati dei parametri in input, questa funzione prova tutte le combinazioni possibili di parametri, effettua una classificazione tramite cross-validazione e restituisce il set di parametri migliore. <br></br>\n",
    "Il modello è costruito utilizzando un kernel <i>rbf</i>, i parametri su cui si effettua la ricerca sono:\n",
    "* <b>C</b>: è una parametro che indica quanto un modello deve essere penalizzato per aver classificato erroneamente delle osservazioni, più è alto più viene penalizzato.\n",
    "* <b>gamma</b>: indica come si deve adattare la decision boundary creata dal modello: con valori bassi la linea di decisione tende ad essere molto semplice, più vicino alla linearità, al contrario più il valore aumenta più diventa articolata rischiando però di specializzarsi troppo arrivando ad avere overfitting."
   ]
  },
  {
   "cell_type": "code",
   "execution_count": 6,
   "metadata": {},
   "outputs": [
    {
     "name": "stdout",
     "output_type": "stream",
     "text": [
      "Addestramento completato in 30.979s\n",
      "Migliore combinazione di parametri:\n",
      " C: 2\n",
      " gamma: 300\n"
     ]
    }
   ],
   "source": [
    "param_grid = {'C': [0.5, 1, 1.5, 2],\n",
    "              'gamma': [0.1, 1, 10, 100, 300]} \n",
    "\n",
    "clf = GridSearchCV(SVC(kernel='rbf', class_weight='balanced'), param_grid, cv=5, n_jobs=1)\n",
    "\n",
    "t2 = time()\n",
    "clf = clf.fit(X_train2, y_train)\n",
    "print(\"Addestramento completato in %0.3fs\" % (time() - t2))\n",
    "\n",
    "print(\"Migliore combinazione di parametri:\")\n",
    "print(\" C: \"+ str(clf.best_estimator_.C))\n",
    "print(\" gamma: \"+ str(clf.best_estimator_.gamma))"
   ]
  },
  {
   "cell_type": "markdown",
   "metadata": {},
   "source": [
    "<font size=3>\n",
    "\n",
    "Il modello migliore viene applicato ai dati di test. Mediante la funzione <b>classification_report</b> viene visualizzato un report di quelle che sono le performance del modello. La tabella presenta per entrambe le classi:\n",
    "* <b>precision</b>: è il numero di immagini di quella classe predette correttamente\n",
    "* <b>recall</b>: somma dei True Positive diviso il totale dei reali positivi.\n",
    "* <b>f1-score</b>: media geometrica delle due metriche precedenti\n",
    "<br></br>\n",
    "\n",
    "I risutati riassunti che consideriamo sono quelli relativi a <i>weighted avg</i> che fa una media pesata dei risultati elencati per il supporto ovvero il numero di osservazioni in ogni classe. Il risultato finale è uno $0.71$ non eccezionale ma migliore rispetto ad un random guess del $50%$. "
   ]
  },
  {
   "cell_type": "code",
   "execution_count": 7,
   "metadata": {},
   "outputs": [
    {
     "name": "stdout",
     "output_type": "stream",
     "text": [
      "Report di classificazione:\n",
      "              precision    recall  f1-score   support\n",
      "\n",
      "           0       0.69      0.72      0.71       144\n",
      "           1       0.73      0.70      0.71       156\n",
      "\n",
      "   micro avg       0.71      0.71      0.71       300\n",
      "   macro avg       0.71      0.71      0.71       300\n",
      "weighted avg       0.71      0.71      0.71       300\n",
      "\n"
     ]
    }
   ],
   "source": [
    "y_pred = clf.predict(X_test2)\n",
    "\n",
    "print(\"Report di classificazione:\")\n",
    "print(classification_report(y_test, y_pred))"
   ]
  },
  {
   "cell_type": "code",
   "execution_count": 8,
   "metadata": {},
   "outputs": [
    {
     "name": "stdout",
     "output_type": "stream",
     "text": [
      "Matrice di confusione:\n",
      "[[104  40]\n",
      " [ 47 109]]\n"
     ]
    },
    {
     "data": {
      "text/plain": [
       "<matplotlib.image.AxesImage at 0x170019ec278>"
      ]
     },
     "execution_count": 8,
     "metadata": {},
     "output_type": "execute_result"
    },
    {
     "data": {
      "image/png": "[encoded data removed]",
      "text/plain": [
       "<Figure size 432x288 with 1 Axes>"
      ]
     },
     "metadata": {
      "needs_background": "light"
     },
     "output_type": "display_data"
    }
   ],
   "source": [
    "# Matrice di confusione\n",
    "print(\"Matrice di confusione:\")\n",
    "cm = confusion_matrix(y_test, y_pred)\n",
    "print(cm)\n",
    "plt.imshow(cm, cmap=plt.cm.Blues)"
   ]
  },
  {
   "cell_type": "markdown",
   "metadata": {},
   "source": [
    "<font size=3>\n",
    "\n",
    "Ai fini di migliorare le performance classificative si estende la ricerca dei parametri ottimali non sono al modello di classificazione ma anche alla costruzione delle features. Nell'esempio sono utilizzate due ulteriori condizioni:\n",
    "* <b>values</b>: una lista contenente valori che saranno passati all'algoritmo di LBP\n",
    "* <b>words</b>: una lista con il numero di cluster da utilizzare\n",
    "<br></br>\n",
    "\n",
    "Le proporzioni fra numero di punti e gli altri parametri della LBP vengono tenute costanti rispetto alla classificazione fatta in precedenza. Per l'algoritmo SVC viene provato anche un kernel lineare, ovvero una decision boundary rappresentata da una retta. I risultati sono salvati in un <i>dataframe pandas</i> e successivamente verrà ordianto per valori descrescenti di <b>weighted avg f1-score</b>. "
   ]
  },
  {
   "cell_type": "code",
   "execution_count": 9,
   "metadata": {},
   "outputs": [
    {
     "name": "stderr",
     "output_type": "stream",
     "text": [
      "100%|██████████████████████████████████████████████████████████████████████████████████| 3/3 [45:46<00:00, 1059.19s/it]\n"
     ]
    }
   ],
   "source": [
    "import warnings\n",
    "warnings.filterwarnings(\"ignore\")\n",
    "\n",
    "values = [12, 24, 36]\n",
    "words = [100, 200, 300]\n",
    "df = pd.DataFrame(columns=['P', 'shift', 'size', 'words', 'C', 'gamma', 'kernel', 'precision', 'recall', 'f1-score'])\n",
    "\n",
    "for value in tqdm(values):\n",
    "    P = value\n",
    "    R = y_shift = x_shift = int(P/3)\n",
    "    size = y_shift * 2\n",
    "    \n",
    "    X_train, X_test, y_train, y_test = load_data(feature_extractor=lambda x:\n",
    "                                                    lbp_features(x, P=P, R=R, y_shift=y_shift, \n",
    "                                                                 x_shift=x_shift, size=size), \n",
    "                                                 maximages=500)\n",
    "    \n",
    "    \n",
    "    for word in words:\n",
    "        X_train2, X_test2 = bow(X_train, X_test, nwords=word)\n",
    "        \n",
    "        param_grid = {'C': [0.5, 1, 1.5, 2, 5, 10],\n",
    "                      'gamma': [0.1, 1, 10, 100, 300, 500],\n",
    "                      'kernel': ['rbf', 'linear']}\n",
    "        clf = GridSearchCV(SVC(class_weight='balanced'), param_grid, cv=5, n_jobs=-1)\n",
    "        clf = clf.fit(X_train2, y_train)\n",
    "        y_pred = clf.predict(X_test2)\n",
    "        \n",
    "        classification = classification_report(y_test, y_pred, output_dict=True)\n",
    "        classification = classification[\"weighted avg\"]\n",
    "                \n",
    "        df.loc[len(df)] = [P, y_shift, size, word, clf.best_estimator_.C, clf.best_estimator_.gamma,\n",
    "                           clf.best_estimator_.kernel, classification[\"precision\"], classification[\"recall\"],\n",
    "                           classification[\"f1-score\"]]"
   ]
  },
  {
   "cell_type": "code",
   "execution_count": 10,
   "metadata": {},
   "outputs": [
    {
     "data": {
      "text/html": [
       "<div>\n",
       "<style scoped>\n",
       "    .dataframe tbody tr th:only-of-type {\n",
       "        vertical-align: middle;\n",
       "    }\n",
       "\n",
       "    .dataframe tbody tr th {\n",
       "        vertical-align: top;\n",
       "    }\n",
       "\n",
       "    .dataframe thead th {\n",
       "        text-align: right;\n",
       "    }\n",
       "</style>\n",
       "<table border=\"1\" class=\"dataframe\">\n",
       "  <thead>\n",
       "    <tr style=\"text-align: right;\">\n",
       "      <th></th>\n",
       "      <th>P</th>\n",
       "      <th>shift</th>\n",
       "      <th>size</th>\n",
       "      <th>words</th>\n",
       "      <th>C</th>\n",
       "      <th>gamma</th>\n",
       "      <th>kernel</th>\n",
       "      <th>precision</th>\n",
       "      <th>recall</th>\n",
       "      <th>f1-score</th>\n",
       "    </tr>\n",
       "  </thead>\n",
       "  <tbody>\n",
       "    <tr>\n",
       "      <th>6</th>\n",
       "      <td>36</td>\n",
       "      <td>12</td>\n",
       "      <td>24</td>\n",
       "      <td>100</td>\n",
       "      <td>10</td>\n",
       "      <td>10</td>\n",
       "      <td>rbf</td>\n",
       "      <td>0.746656</td>\n",
       "      <td>0.746667</td>\n",
       "      <td>0.746362</td>\n",
       "    </tr>\n",
       "    <tr>\n",
       "      <th>7</th>\n",
       "      <td>36</td>\n",
       "      <td>12</td>\n",
       "      <td>24</td>\n",
       "      <td>200</td>\n",
       "      <td>1.5</td>\n",
       "      <td>100</td>\n",
       "      <td>rbf</td>\n",
       "      <td>0.736972</td>\n",
       "      <td>0.736667</td>\n",
       "      <td>0.736746</td>\n",
       "    </tr>\n",
       "    <tr>\n",
       "      <th>4</th>\n",
       "      <td>24</td>\n",
       "      <td>8</td>\n",
       "      <td>16</td>\n",
       "      <td>200</td>\n",
       "      <td>1.5</td>\n",
       "      <td>100</td>\n",
       "      <td>rbf</td>\n",
       "      <td>0.738151</td>\n",
       "      <td>0.736667</td>\n",
       "      <td>0.736746</td>\n",
       "    </tr>\n",
       "    <tr>\n",
       "      <th>3</th>\n",
       "      <td>24</td>\n",
       "      <td>8</td>\n",
       "      <td>16</td>\n",
       "      <td>100</td>\n",
       "      <td>5</td>\n",
       "      <td>100</td>\n",
       "      <td>rbf</td>\n",
       "      <td>0.727467</td>\n",
       "      <td>0.726667</td>\n",
       "      <td>0.726776</td>\n",
       "    </tr>\n",
       "    <tr>\n",
       "      <th>2</th>\n",
       "      <td>12</td>\n",
       "      <td>4</td>\n",
       "      <td>8</td>\n",
       "      <td>300</td>\n",
       "      <td>1.5</td>\n",
       "      <td>500</td>\n",
       "      <td>rbf</td>\n",
       "      <td>0.718665</td>\n",
       "      <td>0.716667</td>\n",
       "      <td>0.716701</td>\n",
       "    </tr>\n",
       "    <tr>\n",
       "      <th>5</th>\n",
       "      <td>24</td>\n",
       "      <td>8</td>\n",
       "      <td>16</td>\n",
       "      <td>300</td>\n",
       "      <td>2</td>\n",
       "      <td>300</td>\n",
       "      <td>rbf</td>\n",
       "      <td>0.713791</td>\n",
       "      <td>0.713333</td>\n",
       "      <td>0.713435</td>\n",
       "    </tr>\n",
       "    <tr>\n",
       "      <th>8</th>\n",
       "      <td>36</td>\n",
       "      <td>12</td>\n",
       "      <td>24</td>\n",
       "      <td>300</td>\n",
       "      <td>1.5</td>\n",
       "      <td>100</td>\n",
       "      <td>rbf</td>\n",
       "      <td>0.700462</td>\n",
       "      <td>0.700000</td>\n",
       "      <td>0.700107</td>\n",
       "    </tr>\n",
       "    <tr>\n",
       "      <th>0</th>\n",
       "      <td>12</td>\n",
       "      <td>4</td>\n",
       "      <td>8</td>\n",
       "      <td>100</td>\n",
       "      <td>5</td>\n",
       "      <td>100</td>\n",
       "      <td>rbf</td>\n",
       "      <td>0.696756</td>\n",
       "      <td>0.696667</td>\n",
       "      <td>0.696704</td>\n",
       "    </tr>\n",
       "    <tr>\n",
       "      <th>1</th>\n",
       "      <td>12</td>\n",
       "      <td>4</td>\n",
       "      <td>8</td>\n",
       "      <td>200</td>\n",
       "      <td>10</td>\n",
       "      <td>300</td>\n",
       "      <td>rbf</td>\n",
       "      <td>0.656765</td>\n",
       "      <td>0.656667</td>\n",
       "      <td>0.656709</td>\n",
       "    </tr>\n",
       "  </tbody>\n",
       "</table>\n",
       "</div>"
      ],
      "text/plain": [
       "    P shift size words    C gamma kernel  precision    recall  f1-score\n",
       "6  36    12   24   100   10    10    rbf   0.746656  0.746667  0.746362\n",
       "7  36    12   24   200  1.5   100    rbf   0.736972  0.736667  0.736746\n",
       "4  24     8   16   200  1.5   100    rbf   0.738151  0.736667  0.736746\n",
       "3  24     8   16   100    5   100    rbf   0.727467  0.726667  0.726776\n",
       "2  12     4    8   300  1.5   500    rbf   0.718665  0.716667  0.716701\n",
       "5  24     8   16   300    2   300    rbf   0.713791  0.713333  0.713435\n",
       "8  36    12   24   300  1.5   100    rbf   0.700462  0.700000  0.700107\n",
       "0  12     4    8   100    5   100    rbf   0.696756  0.696667  0.696704\n",
       "1  12     4    8   200   10   300    rbf   0.656765  0.656667  0.656709"
      ]
     },
     "execution_count": 10,
     "metadata": {},
     "output_type": "execute_result"
    }
   ],
   "source": [
    "df.sort_values(by=['f1-score'], ascending=False)"
   ]
  },
  {
   "cell_type": "code",
   "execution_count": 15,
   "metadata": {},
   "outputs": [
    {
     "name": "stdout",
     "output_type": "stream",
     "text": [
      "Matrice di confusione:\n",
      "[[103  41]\n",
      " [ 32 124]]\n"
     ]
    },
    {
     "data": {
      "text/plain": [
       "<matplotlib.image.AxesImage at 0x17030ffcb00>"
      ]
     },
     "execution_count": 15,
     "metadata": {},
     "output_type": "execute_result"
    },
    {
     "data": {
      "image/png": "[encoded data removed]",
      "text/plain": [
       "<Figure size 432x288 with 1 Axes>"
      ]
     },
     "metadata": {
      "needs_background": "light"
     },
     "output_type": "display_data"
    }
   ],
   "source": [
    "X_train, X_test, y_train, y_test = load_data(feature_extractor=lambda x:\n",
    "                                                    lbp_features(x, P=36, R=12, y_shift=12, \n",
    "                                                                 x_shift=12, size=24), \n",
    "                                                 maximages=500)\n",
    "X_train2, X_test2 = bow(X_train, X_test, nwords=100)\n",
    "best_clf = SVC(kernel='rbf', gamma=10, C=5, class_weight='balanced')\n",
    "\n",
    "best_clf = best_clf.fit(X_train2, y_train)\n",
    "y_pred = best_clf.predict(X_test2)\n",
    "\n",
    "\n",
    "# Matrice di confusione\n",
    "print(\"Matrice di confusione:\")\n",
    "cm = confusion_matrix(y_test, y_pred)\n",
    "print(cm)\n",
    "plt.imshow(cm, cmap=plt.cm.Blues)"
   ]
  }
 ],
 "metadata": {
  "kernelspec": {
   "display_name": "Python 3",
   "language": "python",
   "name": "python3"
  },
  "language_info": {
   "codemirror_mode": {
    "name": "ipython",
    "version": 3
   },
   "file_extension": ".py",
   "mimetype": "text/x-python",
   "name": "python",
   "nbconvert_exporter": "python",
   "pygments_lexer": "ipython3",
   "version": "3.6.7"
  }
 },
 "nbformat": 4,
 "nbformat_minor": 2
}
