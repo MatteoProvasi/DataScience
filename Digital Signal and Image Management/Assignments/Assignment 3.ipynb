{
 "cells": [
  {
   "cell_type": "markdown",
   "metadata": {},
   "source": [
    "# Provasi Matteo (782922)"
   ]
  },
  {
   "cell_type": "markdown",
   "metadata": {},
   "source": [
    "# Assignment 3"
   ]
  },
  {
   "cell_type": "markdown",
   "metadata": {},
   "source": [
    "## Consegna\n",
    "\n",
    "<font size=3>\n",
    "\n",
    "Implementare uno script di classificazione basato sull'estrazione di feature neurali, a partire dalle istruzioni viste ad esercitazione. Non addestrare e testare una rete neurale, ma limitarsi all'uso delle features, con un classificatore esterno. Non è consentito l'uso dello stesso modello visto in laboratorio (ResNet).\n",
    "\n",
    "Selezionare due diversi problemi di classificazione:\n",
    "\n",
    "1. Cani VS gatti (lo stesso dell'esercitazione 4, in modo da evidenziare il miglioramento in performance).\n",
    "2. Problema a scelta (cercare e scaricare un dataset, eventualmente limitandolo in cardinalità)."
   ]
  },
  {
   "cell_type": "code",
   "execution_count": 63,
   "metadata": {},
   "outputs": [],
   "source": [
    "import keras\n",
    "import joblib\n",
    "import numpy as np\n",
    "import os\n",
    "import sklearn\n",
    "\n",
    "from keras.preprocessing import image as kimage\n",
    "from keras.applications import inception_v3\n",
    "from keras.applications.inception_v3 import preprocess_input\n",
    "from matplotlib import pyplot as plt\n",
    "from skimage import feature\n",
    "\n",
    "from sklearn.svm import SVC\n",
    "from sklearn.model_selection import train_test_split, GridSearchCV\n",
    "from sklearn.metrics import classification_report, confusion_matrix, accuracy_score\n",
    "\n",
    "from time import time"
   ]
  },
  {
   "cell_type": "code",
   "execution_count": 2,
   "metadata": {},
   "outputs": [],
   "source": [
    "base_path = \"C:/path/\""
   ]
  },
  {
   "cell_type": "markdown",
   "metadata": {},
   "source": [
    "<font size=3>\n",
    "    \n",
    "Per questo problema classificativo viene scelto InceptionV3, una Convolutional Neural Network svilppata da Google. Nell'immagine che segue è rappresentata la sua architettura.\n",
    "![Architettura InceptionV3](https://miro.medium.com/max/1050/1*gqKM5V-uo2sMFFPDS84yJw.png)\n",
    "<br></br>\n",
    "\n",
    "Il nome <i>V3</i> indica che è la terza versione di questo modello, in particolare i miglioramenti che sono stati apportati rispetto alle versioni precedenti riguardano la fattorizzazione delle convoluzioni: in questo modello si applicano più convoluzioni però di dimensione inferiore, in questo modo gli autori sono riusciti a diminuire il numero di parametri ma a mantenere delle buone performance classificative. Gli elementi che compongono la rete sono:\n",
    "* <b>Convolutional Layer</b>: l'obiettivo di questi layer è quello di estrarre delle features di interesse dalla griglia data in input facendo scorrere una finestra la cui dimensione può variare.\n",
    "* <b>Pooling</b>: sono altri layer per poter estrarre delle features. Sono strumenti di riduzione della dimensionaliltà, restituiscono una griglia con features invarianti per rotazione e posizione. Esistono due tipologie di pooling: \n",
    "    1. <b>Maximum</b>: viene preso il valore massimo della finestra considerata.\n",
    "    2. <b>Average</b>: viene preso il valore medio della finestra considerata.\n",
    "<br></br>\n",
    "<br></br>\n",
    "* <b>Concat</b>: layer di concatenazione che uniscono i valori in input.\n",
    "* <b>Droput</b>: layer che disattiva in maniera randomica dei neuroni all'interno della rete; la ragione principale di questa scelta è per evitare overfitting durante il training.\n",
    "* <b>Fully Connected Layer</b>: posti alla fine della rete prendono in input il risultato degli step precedente e restituisce un vettore di lunghezza pari alla numerosità del target.\n",
    "* <b>Softmax</b>: questa funzione di attivazione prende in input il vettore $n$-dimensioale e modella le probabilità in modo tale che la somma del vettore sia unitaria."
   ]
  },
  {
   "cell_type": "code",
   "execution_count": 64,
   "metadata": {},
   "outputs": [
    {
     "name": "stdout",
     "output_type": "stream",
     "text": [
      "Downloading data from https://github.com/fchollet/deep-learning-models/releases/download/v0.5/inception_v3_weights_tf_dim_ordering_tf_kernels.h5\n",
      "96116736/96112376 [==============================] - 41s 0us/step\n"
     ]
    }
   ],
   "source": [
    "nn = inception_v3.InceptionV3(include_top=True, weights='imagenet', input_tensor=None, input_shape=None, pooling='max')"
   ]
  },
  {
   "cell_type": "markdown",
   "metadata": {},
   "source": [
    "<font size=3>\n",
    "\n",
    "La rete neurale scelta è <b>InceptionV3</b>, vengono lasciati i parametri di default con <i>include_top=True</i> che permette l'utilizzo di layer fully-connected e un <i>pooling</i> massimo. <br></br>\n",
    "La seguente funzione per caricare i dati è la stessa dell'assignment precedente, con l'unica differenza che si deve ridimensionare l'immagine in input da passare alla rete neurale. Per costruzione della rete l'immagine deve avere dimensione $299x299$."
   ]
  },
  {
   "cell_type": "code",
   "execution_count": 21,
   "metadata": {},
   "outputs": [],
   "source": [
    "def load_data(feature_extractor, maximages=100):\n",
    "    labels = []\n",
    "    features = []\n",
    "    \n",
    "    for di, d in enumerate(sorted(os.listdir(base_path))):\n",
    "        for fi, f in enumerate(sorted(os.listdir(base_path + d + '/'))):\n",
    "            \n",
    "            if f.endswith('.jpg') and fi < maximages:\n",
    "                image = kimage.load_img(base_path + d + '/' + f, target_size=(299, 299))\n",
    "                cur_features = feature_extractor(image)\n",
    "                features.append(cur_features)\n",
    "                labels.append(di)\n",
    "                \n",
    "    X_train, X_test, y_train, y_test = train_test_split(features, labels, test_size=0.3, shuffle=True, random_state=0)\n",
    "    return X_train, X_test, y_train, y_test"
   ]
  },
  {
   "cell_type": "markdown",
   "metadata": {},
   "source": [
    "<font size=3>\n",
    "\n",
    "Dato che le reti neurali di Keras lavorano con batch di immagini è necessario aggiungere una dimensione attraverso <b>np.expand_dims</b>. La funzione <b>preprocess_input</b> serve per adattare la rete neruale alle immagini che saranno caricate dato che è già pre-addestrata."
   ]
  },
  {
   "cell_type": "code",
   "execution_count": 66,
   "metadata": {},
   "outputs": [],
   "source": [
    "def nn_inception(img):\n",
    "    x = kimage.img_to_array(img)\n",
    "    x = np.expand_dims(x, axis=0)\n",
    "    x = inception_v3.preprocess_input(x)\n",
    "    f = nn.predict(x)\n",
    "    return f.flatten()"
   ]
  },
  {
   "cell_type": "code",
   "execution_count": 68,
   "metadata": {},
   "outputs": [
    {
     "name": "stdout",
     "output_type": "stream",
     "text": [
      "Caricamento in 563.796 secondi\n"
     ]
    }
   ],
   "source": [
    "t0 = time()\n",
    "X_train, X_test, y_train, y_test = load_data(feature_extractor=nn_inception, maximages=500)\n",
    "print(\"Caricamento in %0.3f secondi\" %(time() - t0))"
   ]
  },
  {
   "cell_type": "markdown",
   "metadata": {},
   "source": [
    "<font size=3>\n",
    "    \n",
    "Come nel precedente assignment viene fatta una normalizzazione e successivamente una grid search per trovare la combinazione ottimale di parametri per la SVC."
   ]
  },
  {
   "cell_type": "code",
   "execution_count": 69,
   "metadata": {},
   "outputs": [],
   "source": [
    "X_train_stack = np.array([])\n",
    "for t in X_train:\n",
    "    X_train_stack = np.concatenate((X_train_stack, t))\n",
    "eps = 0.001\n",
    "X_train_mean = X_train_stack.mean()\n",
    "X_train_std = X_train_stack.std()\n",
    "X_train = [(t - X_train_mean + eps)/(X_train_std + eps) for t in X_train]\n",
    "X_test = [(t - X_train_mean + eps)/(X_train_std + eps) for t in X_test]"
   ]
  },
  {
   "cell_type": "code",
   "execution_count": 71,
   "metadata": {},
   "outputs": [
    {
     "name": "stdout",
     "output_type": "stream",
     "text": [
      "Addestramento completato in 126.031s\n",
      "Migliore combinazione di parametri:\n",
      " C: 1\n",
      " gamma: 1e-05\n"
     ]
    }
   ],
   "source": [
    "param_grid = {'C': [0.5, 1, 1.5, 2],\n",
    "              'gamma': [0.00001, 0.0001, 0.001, 0.01]} \n",
    "\n",
    "clf = GridSearchCV(SVC(kernel='rbf', class_weight='balanced'), param_grid, cv=5, n_jobs=1)\n",
    "\n",
    "t1 = time()\n",
    "clf = clf.fit(X_train, y_train)\n",
    "print(\"Addestramento completato in %0.3fs\" % (time() - t1))\n",
    "\n",
    "print(\"Migliore combinazione di parametri:\")\n",
    "print(\" C: \"+ str(clf.best_estimator_.C))\n",
    "print(\" gamma: \"+ str(clf.best_estimator_.gamma))"
   ]
  },
  {
   "cell_type": "markdown",
   "metadata": {},
   "source": [
    "<font size=3>\n",
    "\n",
    "La classificazione è quasi ottimale con un'accuratezza del $98$%."
   ]
  },
  {
   "cell_type": "code",
   "execution_count": 72,
   "metadata": {},
   "outputs": [
    {
     "name": "stdout",
     "output_type": "stream",
     "text": [
      "Report di classificazione:\n",
      "              precision    recall  f1-score   support\n",
      "\n",
      "           0       0.99      0.98      0.98       144\n",
      "           1       0.98      0.99      0.98       156\n",
      "\n",
      "   micro avg       0.98      0.98      0.98       300\n",
      "   macro avg       0.98      0.98      0.98       300\n",
      "weighted avg       0.98      0.98      0.98       300\n",
      "\n"
     ]
    }
   ],
   "source": [
    "y_pred = clf.predict(X_test)\n",
    "\n",
    "print(\"Report di classificazione:\")\n",
    "print(classification_report(y_test, y_pred))"
   ]
  },
  {
   "cell_type": "markdown",
   "metadata": {},
   "source": [
    "<font size=3>\n",
    "    \n",
    "Osservando la matrice di classificazione si nota come $3$ gatti sono classificati come cani e $2$ cani sono classificati come gatti, tutte le restanti immagini sono identificate correttamente."
   ]
  },
  {
   "cell_type": "code",
   "execution_count": 73,
   "metadata": {},
   "outputs": [
    {
     "name": "stdout",
     "output_type": "stream",
     "text": [
      "Matrice di confusione:\n",
      "[[141   3]\n",
      " [  2 154]]\n"
     ]
    },
    {
     "data": {
      "text/plain": [
       "<matplotlib.image.AxesImage at 0x229806fc7b8>"
      ]
     },
     "execution_count": 73,
     "metadata": {},
     "output_type": "execute_result"
    },
    {
     "data": {
      "image/png": "[encoded data removed]",
      "text/plain": [
       "<Figure size 432x288 with 1 Axes>"
      ]
     },
     "metadata": {
      "needs_background": "light"
     },
     "output_type": "display_data"
    }
   ],
   "source": [
    "# Matrice di confusione\n",
    "print(\"Matrice di confusione:\")\n",
    "cm = confusion_matrix(y_test, y_pred)\n",
    "print(cm)\n",
    "plt.imshow(cm, cmap=plt.cm.Blues)"
   ]
  },
  {
   "cell_type": "markdown",
   "metadata": {},
   "source": [
    "## Problema a scelta"
   ]
  },
  {
   "cell_type": "markdown",
   "metadata": {},
   "source": [
    "<font size=3>\n",
    "\n",
    "Per un secondo task di classificazione si è scelto di applicare il classificatore ad un dataset chiamato <i>Natural Images</i> disponibile su [Kaggle](https://www.kaggle.com/prasunroy/natural-images). Il dataset è composto da quasi $7000$ immagini raccolte da diverse fonti, le categorie sono $8$:\n",
    "* Airplanes\n",
    "* Cats\n",
    "* Cars\n",
    "* Dogs\n",
    "* Flowers\n",
    "* Fruits\n",
    "* Motorbikes\n",
    "* Persons\n",
    "<br></br>\n",
    "\n",
    "La numerosità delle classi varia da un minimo di $700$ fino ad un massimo di $1000$. Viene impostata una nuova directory e si seleziona un nuovo upper bound di <i>maximages</i> per caricare tutte le immagini disponibili. <br></br>\n",
    "Seguono gli stessi step eseguiti in precedenza, con la normalizzazione e la grid search dei parametri migliori."
   ]
  },
  {
   "cell_type": "code",
   "execution_count": 74,
   "metadata": {},
   "outputs": [],
   "source": [
    "base_path = \"C:/path/\""
   ]
  },
  {
   "cell_type": "code",
   "execution_count": 75,
   "metadata": {},
   "outputs": [
    {
     "name": "stdout",
     "output_type": "stream",
     "text": [
      "Caricamento in 3680.913 secondi\n"
     ]
    }
   ],
   "source": [
    "t2 = time()\n",
    "X2_train, X2_test, y2_train, y2_test = load_data(feature_extractor=nn_inception, maximages=1000)\n",
    "print(\"Caricamento in %0.3f secondi\" %(time() - t2))"
   ]
  },
  {
   "cell_type": "code",
   "execution_count": 76,
   "metadata": {},
   "outputs": [],
   "source": [
    "X2_train_stack = np.array([])\n",
    "for t in X2_train:\n",
    "    X2_train_stack = np.concatenate((X2_train_stack, t))\n",
    "eps = 0.001\n",
    "X2_train_mean = X2_train_stack.mean()\n",
    "X2_train_std = X2_train_stack.std()\n",
    "X2_train = [(t - X2_train_mean + eps)/(X2_train_std + eps) for t in X2_train]\n",
    "X2_test = [(t - X2_train_mean + eps)/(X2_train_std + eps) for t in X2_test]"
   ]
  },
  {
   "cell_type": "code",
   "execution_count": 77,
   "metadata": {},
   "outputs": [
    {
     "name": "stdout",
     "output_type": "stream",
     "text": [
      "Addestramento completato in 3961.850s\n",
      "Migliore combinazione di parametri:\n",
      " C: 1.5\n",
      " gamma: 0.001\n"
     ]
    }
   ],
   "source": [
    "param_grid = {'C': [0.5, 1, 1.5, 2],\n",
    "              'gamma': [1e-05, 0.0001, 0.001, 0.01]} \n",
    "\n",
    "clf2 = GridSearchCV(SVC(kernel='rbf', class_weight='balanced'), param_grid, cv=5, n_jobs=1)\n",
    "\n",
    "t3 = time()\n",
    "clf2 = clf2.fit(X2_train, y2_train)\n",
    "print(\"Addestramento completato in %0.3fs\" % (time() - t3))\n",
    "\n",
    "print(\"Migliore combinazione di parametri:\")\n",
    "print(\" C: \" + str(clf2.best_estimator_.C))\n",
    "print(\" gamma: \" + str(clf2.best_estimator_.gamma))"
   ]
  },
  {
   "cell_type": "markdown",
   "metadata": {},
   "source": [
    "<font size=3>\n",
    "\n",
    "Il modello riesce a classificare con un'elevatissima accuratezza ($0.9966$) le diverse immagini nelle classi. In questo caso, dato che si hanno più classi, viene creata una lista con le labels che saranno visualizzate nel report di classificazione. <br></br>\n",
    "Solamente la classe dei cani non ha un'accuracy perfetta che però si attesta comunque al $0.98$."
   ]
  },
  {
   "cell_type": "code",
   "execution_count": 79,
   "metadata": {},
   "outputs": [
    {
     "name": "stdout",
     "output_type": "stream",
     "text": [
      "Report di classificazione:\n",
      "              precision    recall  f1-score   support\n",
      "\n",
      "    airplane       1.00      1.00      1.00       222\n",
      "         car       1.00      1.00      1.00       274\n",
      "         cat       1.00      0.99      0.99       273\n",
      "         dog       0.98      1.00      0.99       209\n",
      "      flower       1.00      0.99      1.00       275\n",
      "       fruit       1.00      1.00      1.00       299\n",
      "   motorbike       1.00      1.00      1.00       227\n",
      "      person       1.00      1.00      1.00       291\n",
      "\n",
      "   micro avg       1.00      1.00      1.00      2070\n",
      "   macro avg       1.00      1.00      1.00      2070\n",
      "weighted avg       1.00      1.00      1.00      2070\n",
      "\n"
     ]
    }
   ],
   "source": [
    "target_names = ['airplane', 'car', 'cat', 'dog', 'flower', 'fruit', 'motorbike', 'person']\n",
    "\n",
    "y2_pred = clf2.predict(X2_test)\n",
    "\n",
    "print(\"Report di classificazione:\")\n",
    "print(classification_report(y2_test, y2_pred, target_names=target_names))"
   ]
  },
  {
   "cell_type": "markdown",
   "metadata": {},
   "source": [
    "<font size=3>\n",
    "    \n",
    "Dalla matrice si classificazione si può notare come c'è sempre una sola immagine classificata erroneamente per ogni classe, tranne per cani e gatti dove ce ne sono $2$"
   ]
  },
  {
   "cell_type": "code",
   "execution_count": 80,
   "metadata": {
    "scrolled": false
   },
   "outputs": [
    {
     "name": "stdout",
     "output_type": "stream",
     "text": [
      "Matrice di confusione:\n",
      "[[221   0   0   1   0   0   0   0]\n",
      " [  0 274   0   0   0   0   0   0]\n",
      " [  0   0 271   2   0   0   0   0]\n",
      " [  0   0   1 208   0   0   0   0]\n",
      " [  0   0   0   1 273   1   0   0]\n",
      " [  0   0   0   0   0 299   0   0]\n",
      " [  0   0   0   0   0   0 227   0]\n",
      " [  0   0   0   1   0   0   0 290]]\n"
     ]
    },
    {
     "data": {
      "text/plain": [
       "<matplotlib.image.AxesImage at 0x229313c6320>"
      ]
     },
     "execution_count": 80,
     "metadata": {},
     "output_type": "execute_result"
    },
    {
     "data": {
      "image/png": "[encoded data removed]",
      "text/plain": [
       "<Figure size 432x288 with 1 Axes>"
      ]
     },
     "metadata": {
      "needs_background": "light"
     },
     "output_type": "display_data"
    }
   ],
   "source": [
    "# Matrice di confusione\n",
    "print(\"Matrice di confusione:\")\n",
    "cm2 = confusion_matrix(y2_test, y2_pred)\n",
    "print(cm2)\n",
    "plt.imshow(cm2, cmap=plt.cm.Blues)"
   ]
  }
 ],
 "metadata": {
  "kernelspec": {
   "display_name": "Python 3",
   "language": "python",
   "name": "python3"
  },
  "language_info": {
   "codemirror_mode": {
    "name": "ipython",
    "version": 3
   },
   "file_extension": ".py",
   "mimetype": "text/x-python",
   "name": "python",
   "nbconvert_exporter": "python",
   "pygments_lexer": "ipython3",
   "version": "3.6.8"
  }
 },
 "nbformat": 4,
 "nbformat_minor": 2
}
