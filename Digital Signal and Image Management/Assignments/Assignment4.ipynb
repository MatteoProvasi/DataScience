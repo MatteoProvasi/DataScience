{
 "cells": [
  {
   "cell_type": "markdown",
   "metadata": {},
   "source": [
    "# Provasi Matteo (782922)"
   ]
  },
  {
   "cell_type": "markdown",
   "metadata": {},
   "source": [
    "# Assignment 4"
   ]
  },
  {
   "cell_type": "markdown",
   "metadata": {},
   "source": [
    "## Consegna\n",
    "<br>\n",
    "<font size=3>\n",
    "\n",
    "Implementare uno script di classificazione basato sul fine tuning di feature neurali, a partire dalle istruzioni viste ad esercitazione.\n",
    "\n",
    "Non è consentito l'uso dello stesso modello visto in laboratorio (ResNet).\n",
    "Utilizzare lo stesso dataset scelto per l'assignment dell'esercitazione 5"
   ]
  },
  {
   "cell_type": "code",
   "execution_count": 0,
   "metadata": {
    "colab": {},
    "colab_type": "code",
    "id": "6zzS26nfuoUe"
   },
   "outputs": [],
   "source": [
    "import numpy as np\n",
    "from time import time\n",
    "from matplotlib import pyplot as plt\n",
    "import os\n",
    "import tarfile\n",
    "from sklearn.metrics import classification_report, confusion_matrix\n",
    "\n",
    "from keras.applications import inception_v3\n",
    "from keras.applications import resnet50\n",
    "from keras.applications.inception_v3 import preprocess_input\n",
    "from keras.preprocessing import image as kimage"
   ]
  },
  {
   "cell_type": "code",
   "execution_count": 1,
   "metadata": {
    "colab": {
     "base_uri": "https://localhost:8080/",
     "height": 35
    },
    "colab_type": "code",
    "id": "p5kj-ZpGu1uC",
    "outputId": "4b1e9268-c47e-42b6-bec0-e107cda6ed83"
   },
   "outputs": [
    {
     "name": "stderr",
     "output_type": "stream",
     "text": [
      "Using TensorFlow backend.\n"
     ]
    }
   ],
   "source": [
    "from keras.models import Model, load_model\n",
    "from keras.layers import Dense, GlobalAveragePooling2D\n",
    "from keras import optimizers"
   ]
  },
  {
   "cell_type": "markdown",
   "metadata": {
    "colab_type": "text",
    "id": "yJfxIWVSlrUT"
   },
   "source": [
    "<font size=3>\n",
    "  \n",
    "  <b>!wget</b> è un comando esclusivo di Google Colab che permette di accedere a dei file data unurl."
   ]
  },
  {
   "cell_type": "code",
   "execution_count": 2,
   "metadata": {
    "colab": {
     "base_uri": "https://localhost:8080/",
     "height": 453
    },
    "colab_type": "code",
    "id": "iRBq6BV1vCSX",
    "outputId": "5aaff5c2-4b09-49f6-c9f8-cfc882a9096d"
   },
   "outputs": [
    {
     "name": "stdout",
     "output_type": "stream",
     "text": [
      "--2019-07-16 13:25:00--  https://www.dropbox.com/s/rpjde5xeflnj7nz/Natural_Images.tar\n",
      "Resolving www.dropbox.com (www.dropbox.com)... 162.125.65.1, 2620:100:6021:1::a27d:4101\n",
      "Connecting to www.dropbox.com (www.dropbox.com)|162.125.65.1|:443... connected.\n",
      "HTTP request sent, awaiting response... 301 Moved Permanently\n",
      "Location: /s/raw/rpjde5xeflnj7nz/Natural_Images.tar [following]\n",
      "--2019-07-16 13:25:00--  https://www.dropbox.com/s/raw/rpjde5xeflnj7nz/Natural_Images.tar\n",
      "Reusing existing connection to www.dropbox.com:443.\n",
      "HTTP request sent, awaiting response... 302 Found\n",
      "Location: https://uc599dc1e55b554df4d3e017b0d6.dl.dropboxusercontent.com/cd/0/inline/AkyAJF6KyAuWPYatzXEhvl-gm7LoDzQUhEzUgeWyvwXDS859JhVNxnQDH9tCcfPex0vSBgehAghJlLucEQAQKUHPreh0rsFLAziLVgm-zT4vqg/file# [following]\n",
      "--2019-07-16 13:25:01--  https://uc599dc1e55b554df4d3e017b0d6.dl.dropboxusercontent.com/cd/0/inline/AkyAJF6KyAuWPYatzXEhvl-gm7LoDzQUhEzUgeWyvwXDS859JhVNxnQDH9tCcfPex0vSBgehAghJlLucEQAQKUHPreh0rsFLAziLVgm-zT4vqg/file\n",
      "Resolving uc599dc1e55b554df4d3e017b0d6.dl.dropboxusercontent.com (uc599dc1e55b554df4d3e017b0d6.dl.dropboxusercontent.com)... 162.125.65.6, 2620:100:6021:6::a27d:4106\n",
      "Connecting to uc599dc1e55b554df4d3e017b0d6.dl.dropboxusercontent.com (uc599dc1e55b554df4d3e017b0d6.dl.dropboxusercontent.com)|162.125.65.6|:443... connected.\n",
      "HTTP request sent, awaiting response... 302 FOUND\n",
      "Location: /cd/0/inline2/Akzbo86kPftvz7MCDGEnRM6HoyE2XWe0txf7DAPfD8oZaC-mf6fdzU1DFGWJ_mSHxFw0OfyFjPLOF8U-iDDf4kmuLGwcOSnNF1X1uyEiK5Arx9nwC9VOu3wn5oGGKOW9oK16jIxS25LuzsHNosdBjAosJU1wyA-OcpLZzbBmu8SOi9SH3BUnfihB8Ef3zJul0QgLofX42TDP1UezjZ4HSXWspAZ68Jg5PIDvyumM0XL3DLKgogUdjqJ4gpCTtSjkPlzDjAmqtUbOYAdttUZGYas8EDhDSrtRm0m8609R_gaHoh_qEzXln25ITlJM0LBdwDi0gzBr5BOi3hzFwLxMcvQn/file [following]\n",
      "--2019-07-16 13:25:02--  https://uc599dc1e55b554df4d3e017b0d6.dl.dropboxusercontent.com/cd/0/inline2/Akzbo86kPftvz7MCDGEnRM6HoyE2XWe0txf7DAPfD8oZaC-mf6fdzU1DFGWJ_mSHxFw0OfyFjPLOF8U-iDDf4kmuLGwcOSnNF1X1uyEiK5Arx9nwC9VOu3wn5oGGKOW9oK16jIxS25LuzsHNosdBjAosJU1wyA-OcpLZzbBmu8SOi9SH3BUnfihB8Ef3zJul0QgLofX42TDP1UezjZ4HSXWspAZ68Jg5PIDvyumM0XL3DLKgogUdjqJ4gpCTtSjkPlzDjAmqtUbOYAdttUZGYas8EDhDSrtRm0m8609R_gaHoh_qEzXln25ITlJM0LBdwDi0gzBr5BOi3hzFwLxMcvQn/file\n",
      "Reusing existing connection to uc599dc1e55b554df4d3e017b0d6.dl.dropboxusercontent.com:443.\n",
      "HTTP request sent, awaiting response... 200 OK\n",
      "Length: 185020928 (176M) [application/x-tar]\n",
      "Saving to: ‘Natural_Images.tar’\n",
      "\n",
      "Natural_Images.tar  100%[===================>] 176.45M  27.7MB/s    in 6.0s    \n",
      "\n",
      "2019-07-16 13:25:09 (29.5 MB/s) - ‘Natural_Images.tar’ saved [185020928/185020928]\n",
      "\n"
     ]
    }
   ],
   "source": [
    "!wget https://www.dropbox.com/s/rpjde5xeflnj7nz/Natural_Images.tar"
   ]
  },
  {
   "cell_type": "markdown",
   "metadata": {
    "colab_type": "text",
    "id": "Ib1StdC-LAw9"
   },
   "source": [
    "<font size=3>\n",
    "\n",
    "Tramite la funzione ``tarfile.open`` si caricano i file presenti nella directory e nella successiva riga li si estraggono."
   ]
  },
  {
   "cell_type": "code",
   "execution_count": 0,
   "metadata": {
    "colab": {},
    "colab_type": "code",
    "id": "KCc8SzPg4Wxk"
   },
   "outputs": [],
   "source": [
    "tar = tarfile.open('Natural_Images.tar')\n",
    "tar.extractall()\n",
    "tar.close()"
   ]
  },
  {
   "cell_type": "code",
   "execution_count": null,
   "metadata": {},
   "outputs": [],
   "source": [
    "#!rm Natural_Images.tar"
   ]
  },
  {
   "cell_type": "markdown",
   "metadata": {
    "colab_type": "text",
    "id": "hKoKOMrXLUFU"
   },
   "source": [
    "<font size=3>\n",
    "    \n",
    "I file da leggere sono dentro a due cartelle che a loro volta sono dentro un'altra cartella. Questa cartella è la directory di base da cui poi saranno caricate le immagini."
   ]
  },
  {
   "cell_type": "code",
   "execution_count": 0,
   "metadata": {
    "colab": {},
    "colab_type": "code",
    "id": "TcxqXTbNvIw2"
   },
   "outputs": [],
   "source": [
    "base_path = 'Natural_Images/'"
   ]
  },
  {
   "cell_type": "markdown",
   "metadata": {
    "colab_type": "text",
    "id": "5USq7QgYLgy9"
   },
   "source": [
    "<font size=3>\n",
    "\n",
    "Con ``ImageDataGenerator`` si definisce il modello da utlizzare e con ``flow_from_directory`` si specificano le modalità con cui trattare le immagini caricate. Come spiegato nell'assignment precedente il modello richiede in ingresso delle immagini con dimensione $299x299$. La <b>batch_size</b> indica il numero di campioni che sono utilizzati per allenare la rete in uno step. La rete sarà costruita a partire da $32$ immagini e si continuerà seguendo campioni di questa grandezza <br>\n",
    "Dato che si ha già a disposizione un test e un train set non è necessario specificare lo split a differenza degli altri assignment. Nel caso si avesse un unico insieme di immagini è possibile utilizzare il parametro <br>validation_split</b> in ``ImageDataGenerator`` per indicare quante immagini devono essere prese come train e quante come test. La stessa funzione viene creata per prendere le immagini del test set."
   ]
  },
  {
   "cell_type": "code",
   "execution_count": 11,
   "metadata": {
    "colab": {
     "base_uri": "https://localhost:8080/",
     "height": 35
    },
    "colab_type": "code",
    "id": "rLDLIlFJvaKv",
    "outputId": "5fb2cc22-5d22-46bc-c77d-a7b966172b14"
   },
   "outputs": [
    {
     "name": "stdout",
     "output_type": "stream",
     "text": [
      "Found 4829 images belonging to 8 classes.\n"
     ]
    }
   ],
   "source": [
    "# Training set\n",
    "train_datagen = kimage.ImageDataGenerator(preprocessing_function=inception_v3.preprocess_input)\n",
    "train_generator = train_datagen.flow_from_directory(\n",
    "        directory=base_path + 'Train',\n",
    "        target_size=(299, 299),\n",
    "        color_mode=\"rgb\",\n",
    "        batch_size=32,\n",
    "        class_mode=\"categorical\",\n",
    "        shuffle=True,\n",
    "        seed=1\n",
    ")"
   ]
  },
  {
   "cell_type": "code",
   "execution_count": 12,
   "metadata": {
    "colab": {
     "base_uri": "https://localhost:8080/",
     "height": 35
    },
    "colab_type": "code",
    "id": "2FvaKqXWvf85",
    "outputId": "ccb3e5ce-23f7-4edb-a565-ad35ddc60579"
   },
   "outputs": [
    {
     "name": "stdout",
     "output_type": "stream",
     "text": [
      "Found 2070 images belonging to 8 classes.\n"
     ]
    }
   ],
   "source": [
    "# Test set\n",
    "test_datagen = kimage.ImageDataGenerator(preprocessing_function=inception_v3.preprocess_input)\n",
    "test_generator = test_datagen.flow_from_directory(\n",
    "        directory=base_path + 'Test',\n",
    "        target_size=(299, 299),\n",
    "        color_mode=\"rgb\",\n",
    "        batch_size=1,\n",
    "        class_mode=\"categorical\",\n",
    "        shuffle=False\n",
    ")"
   ]
  },
  {
   "cell_type": "markdown",
   "metadata": {
    "colab_type": "text",
    "id": "ECinQX3QNyEe"
   },
   "source": [
    "<font size=3>\n",
    "\n",
    "Si inizia con la creazione di una rete neurale InceptionV3 senza strati fully connected utilizzando un pooling medio."
   ]
  },
  {
   "cell_type": "code",
   "execution_count": 0,
   "metadata": {
    "colab": {},
    "colab_type": "code",
    "id": "6UJNYd6fvnJE"
   },
   "outputs": [],
   "source": [
    "nn = inception_v3.InceptionV3(include_top=False, weights='imagenet', pooling='avg')"
   ]
  },
  {
   "cell_type": "markdown",
   "metadata": {
    "colab_type": "text",
    "id": "b3cpn2vUOPJk"
   },
   "source": [
    "<font size=3>\n",
    "\n",
    "Con <b>layer.trainable = False</b> si indica che gli strati della rete non devono essere aggiornati durante il processo di learning in quanto si vuole appunto effettuare un fine-tuning. Vengono aggiunti alla rete due strati:\n",
    "* Uno strato fully connected con $64$ neuroni\n",
    "* Uno strato softmax con il numero di classi del target\n",
    "<br></br>\n",
    "Alla rete viene assegnato una funzione di ottimizzazione e come parametro di loss la <b>categorical_crossentropy</b> in quanto si è in un problema di multi-class in cui l'appartenenza ad una classe è esclusiva."
   ]
  },
  {
   "cell_type": "code",
   "execution_count": 0,
   "metadata": {
    "colab": {},
    "colab_type": "code",
    "id": "bhdRuJMcyXtS"
   },
   "outputs": [],
   "source": [
    "for layer in nn.layers:\n",
    "    layer.trainable = False\n",
    "    \n",
    "x = nn.output\n",
    "x = Dense(64, activation='relu')(x)\n",
    "pred = Dense(8, activation='softmax')(x)\n",
    "\n",
    "net = Model(inputs=nn.input, outputs=pred)\n",
    "net.compile(optimizer='rmsprop', loss='categorical_crossentropy', metrics=['accuracy'])"
   ]
  },
  {
   "cell_type": "markdown",
   "metadata": {
    "colab_type": "text",
    "id": "vEgyslKQRW-j"
   },
   "source": [
    "<font size=3>\n",
    "\n",
    "Con la funzione fit_generator si passa alla rete il generatore che prende le immagini del train e procede con il fine-tuning dei parametri per un numero arbitrario di epoche. Il numero di step da effettuare per ogni epoca deve essere approssimativamente il rapporto $sample/batchsize$. <br>\n",
    "Si effettua un addestramento con $10$ confrontando l'accuracy ad ogni passaggio per vedere quando da un epoca all'altra non ci sono più miglioramenti significativi di accuratezza."
   ]
  },
  {
   "cell_type": "code",
   "execution_count": 22,
   "metadata": {
    "colab": {
     "base_uri": "https://localhost:8080/",
     "height": 381
    },
    "colab_type": "code",
    "id": "JMBWnWCIFCd9",
    "outputId": "50479094-6d59-492e-e720-6008ff2cbcfd"
   },
   "outputs": [
    {
     "name": "stdout",
     "output_type": "stream",
     "text": [
      "Epoch 1/10\n",
      "151/151 [==============================] - 51s 340ms/step - loss: 0.2881 - acc: 0.9327\n",
      "Epoch 2/10\n",
      "151/151 [==============================] - 47s 314ms/step - loss: 0.0448 - acc: 0.9863\n",
      "Epoch 3/10\n",
      "151/151 [==============================] - 47s 314ms/step - loss: 0.0293 - acc: 0.9905\n",
      "Epoch 4/10\n",
      "151/151 [==============================] - 47s 313ms/step - loss: 0.0187 - acc: 0.9942\n",
      "Epoch 5/10\n",
      "151/151 [==============================] - 47s 313ms/step - loss: 0.0304 - acc: 0.9921\n",
      "Epoch 6/10\n",
      "151/151 [==============================] - 47s 313ms/step - loss: 0.0209 - acc: 0.9934\n",
      "Epoch 7/10\n",
      "151/151 [==============================] - 47s 313ms/step - loss: 0.0185 - acc: 0.9948\n",
      "Epoch 8/10\n",
      "151/151 [==============================] - 47s 313ms/step - loss: 0.0103 - acc: 0.9967\n",
      "Epoch 9/10\n",
      "151/151 [==============================] - 47s 313ms/step - loss: 0.0144 - acc: 0.9948\n",
      "Epoch 10/10\n",
      "151/151 [==============================] - 47s 312ms/step - loss: 0.0128 - acc: 0.9971\n"
     ]
    },
    {
     "data": {
      "text/plain": [
       "<keras.callbacks.History at 0x7fde27f555f8>"
      ]
     },
     "execution_count": 22,
     "metadata": {
      "tags": []
     },
     "output_type": "execute_result"
    }
   ],
   "source": [
    "net.fit_generator(train_generator, steps_per_epoch=151, epochs=10, verbose=1)"
   ]
  },
  {
   "cell_type": "code",
   "execution_count": 23,
   "metadata": {
    "colab": {
     "base_uri": "https://localhost:8080/",
     "height": 35
    },
    "colab_type": "code",
    "id": "VkOF1LC5GoPx",
    "outputId": "81afc4d7-a3fe-4bb3-a3a0-abe235430a4a"
   },
   "outputs": [
    {
     "name": "stdout",
     "output_type": "stream",
     "text": [
      "Predizione completata in 81.224 secondi\n"
     ]
    }
   ],
   "source": [
    "y_test = test_generator.classes\n",
    "\n",
    "\n",
    "t1 = time()\n",
    "y_dist = net.predict_generator(test_generator, steps=len(test_generator.filenames))\n",
    "y_pred = np.argmax(y_dist, axis=1)\n",
    "print(\"Predizione completata in %0.3f secondi\" % (time() - t1))"
   ]
  },
  {
   "cell_type": "code",
   "execution_count": 24,
   "metadata": {
    "colab": {
     "base_uri": "https://localhost:8080/",
     "height": 277
    },
    "colab_type": "code",
    "id": "VhHEQCOcGt6u",
    "outputId": "8046a77f-97d3-4f52-e494-3a9011a368bf"
   },
   "outputs": [
    {
     "name": "stdout",
     "output_type": "stream",
     "text": [
      "              precision    recall  f1-score   support\n",
      "\n",
      "    airplane       1.00      1.00      1.00       222\n",
      "         car       1.00      1.00      1.00       274\n",
      "         cat       0.99      1.00      0.99       273\n",
      "         dog       1.00      0.98      0.99       209\n",
      "      flower       1.00      0.99      0.99       275\n",
      "       fruit       0.98      1.00      0.99       299\n",
      "   motorbike       1.00      1.00      1.00       227\n",
      "      person       1.00      1.00      1.00       291\n",
      "\n",
      "    accuracy                           1.00      2070\n",
      "   macro avg       1.00      0.99      1.00      2070\n",
      "weighted avg       1.00      1.00      1.00      2070\n",
      "\n"
     ]
    }
   ],
   "source": [
    "# Report\n",
    "target_names = ['airplane', 'car', 'cat', 'dog', 'flower', 'fruit', 'motorbike', 'person']\n",
    "print(classification_report(y_test, y_pred, target_names=target_names))"
   ]
  },
  {
   "cell_type": "code",
   "execution_count": 25,
   "metadata": {
    "colab": {
     "base_uri": "https://localhost:8080/",
     "height": 287
    },
    "colab_type": "code",
    "id": "etp5Mcg6GxHd",
    "outputId": "560e9a21-30bd-4ba2-8105-d3d6a47fb47e"
   },
   "outputs": [
    {
     "data": {
      "text/plain": [
       "<matplotlib.image.AxesImage at 0x7fde27e96320>"
      ]
     },
     "execution_count": 25,
     "metadata": {
      "tags": []
     },
     "output_type": "execute_result"
    },
    {
     "data": {
      "image/png": "[encoded data removed]",
      "text/plain": [
       "<Figure size 432x288 with 1 Axes>"
      ]
     },
     "metadata": {
      "tags": []
     },
     "output_type": "display_data"
    }
   ],
   "source": [
    "# Matrice di confusione\n",
    "cm = confusion_matrix(y_test, y_pred)\n",
    "plt.imshow(cm, cmap=plt.cm.Blues)"
   ]
  },
  {
   "cell_type": "code",
   "execution_count": 26,
   "metadata": {
    "colab": {
     "base_uri": "https://localhost:8080/",
     "height": 156
    },
    "colab_type": "code",
    "id": "juOY4WYyTtg5",
    "outputId": "44877d3f-7f13-4a99-fa94-35d600f4faa9"
   },
   "outputs": [
    {
     "name": "stdout",
     "output_type": "stream",
     "text": [
      "[[222   0   0   0   0   0   0   0]\n",
      " [  0 274   0   0   0   0   0   0]\n",
      " [  0   0 272   0   0   1   0   0]\n",
      " [  0   0   3 205   0   1   0   0]\n",
      " [  1   0   0   0 271   3   0   0]\n",
      " [  0   0   0   0   0 299   0   0]\n",
      " [  0   0   0   0   0   0 227   0]\n",
      " [  0   0   0   1   0   0   0 290]]\n"
     ]
    }
   ],
   "source": [
    "cm = confusion_matrix(y_test, y_pred)\n",
    "print(cm)"
   ]
  },
  {
   "cell_type": "markdown",
   "metadata": {
    "colab_type": "text",
    "id": "-AQjyWOGTxLW"
   },
   "source": [
    "<font size=3>\n",
    "\n",
    "La performance classificativa è simile a quella del modello del precedente assignment, le osservazioni classificare erroneamente sono $10$ con un'accuratezza complessiva di $0.9951$. La classe <i>dog</i> in questo caso non è la peggiore ma risulta essere <i>fruit</i>."
   ]
  },
  {
   "cell_type": "markdown",
   "metadata": {
    "colab_type": "text",
    "id": "fZGA9Ac1AGPX"
   },
   "source": [
    "## Seconda rete"
   ]
  },
  {
   "cell_type": "markdown",
   "metadata": {
    "colab_type": "text",
    "id": "_cxsJ_gzAII1"
   },
   "source": [
    "<font size=3>\n",
    "\n",
    "Il modello ottenuto in precedenza con $10$ epoche raggiungeva l'accuratezza massima sul training proprio nell'ultimo passaggio. Questo risultato è stato ottenuto però dopo una serie di alti e bassi indicando che probabilmente il modello si è specializzato troppo sui dati.\n",
    "Osservando i valori ottenuti in precedenza si nota come fino alla quarta epoca l'accuratezza aumenta sistematicamente per poi calare. <br>\n",
    "Si costruisce quindi una seconda rete, uguale alla prima ma addestrata con $4$ epoche; i valori che si otterranno non saranno identici a quella precedente per via della costruzione del modello <b>InceptionV3</b>."
   ]
  },
  {
   "cell_type": "code",
   "execution_count": 7,
   "metadata": {
    "colab": {
     "base_uri": "https://localhost:8080/",
     "height": 72
    },
    "colab_type": "code",
    "id": "bzPuGlpA0Xk1",
    "outputId": "7b0d2609-7bcd-4b58-d7b0-8e67bd188a14"
   },
   "outputs": [
    {
     "name": "stderr",
     "output_type": "stream",
     "text": [
      "W0716 13:26:11.369223 139893795407744 deprecation_wrapper.py:119] From /usr/local/lib/python3.6/dist-packages/keras/optimizers.py:790: The name tf.train.Optimizer is deprecated. Please use tf.compat.v1.train.Optimizer instead.\n",
      "\n"
     ]
    }
   ],
   "source": [
    "nn2 = inception_v3.InceptionV3(include_top=False, weights='imagenet', pooling='avg')\n",
    "\n",
    "for layer in nn2.layers:\n",
    "    layer.trainable = False\n",
    "    \n",
    "x = nn2.output\n",
    "x = Dense(64, activation='relu')(x)\n",
    "pred = Dense(8, activation='softmax')(x)\n",
    "\n",
    "net2 = Model(inputs=nn2.input, outputs=pred)\n",
    "net2.compile(optimizer='rmsprop', loss='categorical_crossentropy', metrics=['accuracy'])"
   ]
  },
  {
   "cell_type": "code",
   "execution_count": 13,
   "metadata": {
    "colab": {
     "base_uri": "https://localhost:8080/",
     "height": 245
    },
    "colab_type": "code",
    "id": "LQTkk3mN0ifs",
    "outputId": "93e35ea3-8c66-4143-b3ec-2de7af023376"
   },
   "outputs": [
    {
     "name": "stderr",
     "output_type": "stream",
     "text": [
      "W0716 13:26:45.330038 139893795407744 deprecation.py:323] From /usr/local/lib/python3.6/dist-packages/tensorflow/python/ops/math_grad.py:1250: add_dispatch_support.<locals>.wrapper (from tensorflow.python.ops.array_ops) is deprecated and will be removed in a future version.\n",
      "Instructions for updating:\n",
      "Use tf.where in 2.0, which has the same broadcast rule as np.where\n"
     ]
    },
    {
     "name": "stdout",
     "output_type": "stream",
     "text": [
      "Epoch 1/4\n",
      "151/151 [==============================] - 56s 368ms/step - loss: 0.2812 - acc: 0.9313\n",
      "Epoch 2/4\n",
      "151/151 [==============================] - 47s 312ms/step - loss: 0.0490 - acc: 0.9853\n",
      "Epoch 3/4\n",
      "151/151 [==============================] - 47s 312ms/step - loss: 0.0299 - acc: 0.9909\n",
      "Epoch 4/4\n",
      "151/151 [==============================] - 47s 312ms/step - loss: 0.0181 - acc: 0.9948\n"
     ]
    },
    {
     "data": {
      "text/plain": [
       "<keras.callbacks.History at 0x7f3aec2dceb8>"
      ]
     },
     "execution_count": 13,
     "metadata": {
      "tags": []
     },
     "output_type": "execute_result"
    }
   ],
   "source": [
    "net2.fit_generator(train_generator, steps_per_epoch=151, epochs=4, verbose=1)"
   ]
  },
  {
   "cell_type": "code",
   "execution_count": 15,
   "metadata": {
    "colab": {
     "base_uri": "https://localhost:8080/",
     "height": 295
    },
    "colab_type": "code",
    "id": "VmbEz2Hm0k1Q",
    "outputId": "7bc6691d-3f5d-40a9-a497-c8b007d7f95e"
   },
   "outputs": [
    {
     "name": "stdout",
     "output_type": "stream",
     "text": [
      "Predizione completata in 79.841 secondi\n",
      "              precision    recall  f1-score   support\n",
      "\n",
      "    airplane       1.00      1.00      1.00       222\n",
      "         car       1.00      1.00      1.00       274\n",
      "         cat       0.99      1.00      0.99       273\n",
      "         dog       1.00      0.99      0.99       209\n",
      "      flower       1.00      0.99      0.99       275\n",
      "       fruit       0.99      1.00      1.00       299\n",
      "   motorbike       1.00      1.00      1.00       227\n",
      "      person       1.00      1.00      1.00       291\n",
      "\n",
      "    accuracy                           1.00      2070\n",
      "   macro avg       1.00      1.00      1.00      2070\n",
      "weighted avg       1.00      1.00      1.00      2070\n",
      "\n"
     ]
    }
   ],
   "source": [
    "y_test = test_generator.classes\n",
    "\n",
    "\n",
    "t1 = time()\n",
    "y_dist = net2.predict_generator(test_generator, steps=len(test_generator.filenames))\n",
    "y_pred = np.argmax(y_dist, axis=1)\n",
    "print(\"Predizione completata in %0.3f secondi\" % (time() - t1))\n",
    "\n",
    "\n",
    "# Report\n",
    "target_names = ['airplane', 'car', 'cat', 'dog', 'flower', 'fruit', 'motorbike', 'person']\n",
    "print(classification_report(y_test, y_pred, target_names=target_names))"
   ]
  },
  {
   "cell_type": "code",
   "execution_count": 16,
   "metadata": {
    "colab": {
     "base_uri": "https://localhost:8080/",
     "height": 287
    },
    "colab_type": "code",
    "id": "davt-T4o-rvc",
    "outputId": "ad7d0bcc-af0d-4d3d-dc77-14fb627b2edd"
   },
   "outputs": [
    {
     "data": {
      "text/plain": [
       "<matplotlib.image.AxesImage at 0x7f3ae50837f0>"
      ]
     },
     "execution_count": 16,
     "metadata": {
      "tags": []
     },
     "output_type": "execute_result"
    },
    {
     "data": {
      "image/png": "[encoded data removed]",
      "text/plain": [
       "<Figure size 432x288 with 1 Axes>"
      ]
     },
     "metadata": {
      "tags": []
     },
     "output_type": "display_data"
    }
   ],
   "source": [
    "# Matrice di confusione\n",
    "cm = confusion_matrix(y_test, y_pred)\n",
    "plt.imshow(cm, cmap=plt.cm.Blues)"
   ]
  },
  {
   "cell_type": "code",
   "execution_count": 17,
   "metadata": {
    "colab": {
     "base_uri": "https://localhost:8080/",
     "height": 156
    },
    "colab_type": "code",
    "id": "HYwMGcZ4-tQ0",
    "outputId": "996bf271-fa3e-4035-f5f4-550d91493615"
   },
   "outputs": [
    {
     "name": "stdout",
     "output_type": "stream",
     "text": [
      "[[222   0   0   0   0   0   0   0]\n",
      " [  0 274   0   0   0   0   0   0]\n",
      " [  0   0 273   0   0   0   0   0]\n",
      " [  0   0   3 206   0   0   0   0]\n",
      " [  1   0   0   0 271   3   0   0]\n",
      " [  0   0   0   0   0 299   0   0]\n",
      " [  0   0   0   0   0   0 227   0]\n",
      " [  0   0   0   0   0   0   0 291]]\n"
     ]
    }
   ],
   "source": [
    "cm = confusion_matrix(y_test, y_pred)\n",
    "print(cm)"
   ]
  },
  {
   "cell_type": "markdown",
   "metadata": {
    "colab_type": "text",
    "id": "Dpmv1fNaA4Xe"
   },
   "source": [
    "<font size=3>\n",
    "\n",
    "L'accuratezza che si ottiene è la stessa identica a quella dell'assignment precedente con $7$ osservazioni classificate in maniera sbagliata. In questa rete le osservazioni sbagliate si concnetrano quasi esclusivamente nelle classi <i>cat</i> e ancora <i>fruit</i>. "
   ]
  }
 ],
 "metadata": {
  "accelerator": "GPU",
  "colab": {
   "collapsed_sections": [],
   "name": "Assignment 4.ipynb",
   "provenance": [],
   "version": "0.3.2"
  },
  "kernelspec": {
   "display_name": "Python 3",
   "language": "python",
   "name": "python3"
  },
  "language_info": {
   "codemirror_mode": {
    "name": "ipython",
    "version": 3
   },
   "file_extension": ".py",
   "mimetype": "text/x-python",
   "name": "python",
   "nbconvert_exporter": "python",
   "pygments_lexer": "ipython3",
   "version": "3.6.8"
  }
 },
 "nbformat": 4,
 "nbformat_minor": 1
}
